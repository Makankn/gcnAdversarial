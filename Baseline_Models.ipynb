{
  "nbformat": 4,
  "nbformat_minor": 0,
  "metadata": {
    "colab": {
      "provenance": []
    },
    "kernelspec": {
      "name": "python3",
      "display_name": "Python 3"
    },
    "language_info": {
      "name": "python"
    },
    "gpuClass": "standard",
    "accelerator": "GPU"
  },
  "cells": [
    {
      "cell_type": "markdown",
      "source": [
        "# DataSet Import and Analysis"
      ],
      "metadata": {
        "id": "N-FbQmRscUY3"
      }
    },
    {
      "cell_type": "markdown",
      "source": [
        "In this notebook, we are going to train an RNN for the task of sentiment analysis. Our dataset is the Yelp review data set. Let's download this data set and analyze it."
      ],
      "metadata": {
        "id": "PBa08Ceicblj"
      }
    },
    {
      "cell_type": "code",
      "source": [
        "!pip install contractions"
      ],
      "metadata": {
        "colab": {
          "base_uri": "https://localhost:8080/"
        },
        "id": "kJjfdXdki5bu",
        "outputId": "1a61e842-e08a-4c81-f936-ef7941f91737"
      },
      "execution_count": null,
      "outputs": [
        {
          "output_type": "stream",
          "name": "stdout",
          "text": [
            "Collecting contractions\n",
            "  Downloading contractions-0.1.73-py2.py3-none-any.whl (8.7 kB)\n",
            "Collecting textsearch>=0.0.21 (from contractions)\n",
            "  Downloading textsearch-0.0.24-py2.py3-none-any.whl (7.6 kB)\n",
            "Collecting anyascii (from textsearch>=0.0.21->contractions)\n",
            "  Downloading anyascii-0.3.2-py3-none-any.whl (289 kB)\n",
            "\u001b[2K     \u001b[90m━━━━━━━━━━━━━━━━━━━━━━━━━━━━━━━━━━━━━━━━\u001b[0m \u001b[32m289.9/289.9 kB\u001b[0m \u001b[31m7.0 MB/s\u001b[0m eta \u001b[36m0:00:00\u001b[0m\n",
            "\u001b[?25hCollecting pyahocorasick (from textsearch>=0.0.21->contractions)\n",
            "  Downloading pyahocorasick-2.0.0-cp310-cp310-manylinux_2_5_x86_64.manylinux1_x86_64.manylinux_2_12_x86_64.manylinux2010_x86_64.whl (110 kB)\n",
            "\u001b[2K     \u001b[90m━━━━━━━━━━━━━━━━━━━━━━━━━━━━━━━━━━━━━━━━\u001b[0m \u001b[32m110.8/110.8 kB\u001b[0m \u001b[31m15.0 MB/s\u001b[0m eta \u001b[36m0:00:00\u001b[0m\n",
            "\u001b[?25hInstalling collected packages: pyahocorasick, anyascii, textsearch, contractions\n",
            "Successfully installed anyascii-0.3.2 contractions-0.1.73 pyahocorasick-2.0.0 textsearch-0.0.24\n"
          ]
        }
      ]
    },
    {
      "cell_type": "code",
      "execution_count": null,
      "metadata": {
        "id": "3Uee1EPtcLMT",
        "colab": {
          "base_uri": "https://localhost:8080/"
        },
        "outputId": "4d3a8931-3701-4f12-ab84-f3bfaeddec67"
      },
      "outputs": [
        {
          "output_type": "stream",
          "name": "stderr",
          "text": [
            "[nltk_data] Downloading package stopwords to /root/nltk_data...\n",
            "[nltk_data]   Unzipping corpora/stopwords.zip.\n",
            "[nltk_data] Downloading package punkt to /root/nltk_data...\n",
            "[nltk_data]   Unzipping tokenizers/punkt.zip.\n"
          ]
        }
      ],
      "source": [
        "import numpy as np\n",
        "import pandas as pd\n",
        "\n",
        "import contractions\n",
        "import nltk\n",
        "nltk.download('stopwords')\n",
        "nltk.download('punkt')\n",
        "from nltk.corpus import stopwords\n",
        "from nltk.tokenize import word_tokenize\n",
        "\n",
        "from tqdm import tqdm\n",
        "\n",
        "import torch\n",
        "from torch.utils.data import Dataset, DataLoader\n",
        "\n",
        "from torch.nn.utils.rnn import pad_sequence\n",
        "\n",
        "import torch.nn as nn\n",
        "\n",
        "import torch.nn.functional as F\n",
        "import torch\n",
        "import torch.nn as nn\n",
        "\n",
        "from sklearn.metrics import f1_score, roc_auc_score\n",
        "\n",
        "from sklearn.metrics import classification_report"
      ]
    },
    {
      "cell_type": "code",
      "source": [
        "!gdown --id 1Ns456aZINhGcmnI_SCIHgT0q2x14jM2s"
      ],
      "metadata": {
        "colab": {
          "base_uri": "https://localhost:8080/"
        },
        "id": "PdZg1kUAisH2",
        "outputId": "26c7b297-5d9e-47b7-9af6-5701b221cd02"
      },
      "execution_count": null,
      "outputs": [
        {
          "output_type": "stream",
          "name": "stdout",
          "text": [
            "/usr/local/lib/python3.10/dist-packages/gdown/cli.py:121: FutureWarning: Option `--id` was deprecated in version 4.3.1 and will be removed in 5.0. You don't need to pass it anymore to use a file ID.\n",
            "  warnings.warn(\n",
            "Downloading...\n",
            "From: https://drive.google.com/uc?id=1Ns456aZINhGcmnI_SCIHgT0q2x14jM2s\n",
            "To: /content/yelp.csv\n",
            "100% 8.09M/8.09M [00:00<00:00, 37.3MB/s]\n"
          ]
        }
      ]
    },
    {
      "cell_type": "code",
      "source": [
        "!gdown --id 1Xl92YAhgQVS2fR0MDUTJHcpN5_hxP67-"
      ],
      "metadata": {
        "colab": {
          "base_uri": "https://localhost:8080/"
        },
        "id": "JFxszVCf3d3s",
        "outputId": "d933421c-c535-4f5d-f271-1a47469d957a"
      },
      "execution_count": null,
      "outputs": [
        {
          "output_type": "stream",
          "name": "stdout",
          "text": [
            "/usr/local/lib/python3.10/dist-packages/gdown/cli.py:121: FutureWarning: Option `--id` was deprecated in version 4.3.1 and will be removed in 5.0. You don't need to pass it anymore to use a file ID.\n",
            "  warnings.warn(\n",
            "Downloading...\n",
            "From: https://drive.google.com/uc?id=1Xl92YAhgQVS2fR0MDUTJHcpN5_hxP67-\n",
            "To: /content/test-gpt.csv\n",
            "100% 24.6k/24.6k [00:00<00:00, 51.0MB/s]\n"
          ]
        }
      ]
    },
    {
      "cell_type": "code",
      "source": [
        "df = pd.read_csv('yelp.csv')\n",
        "df.head()"
      ],
      "metadata": {
        "colab": {
          "base_uri": "https://localhost:8080/",
          "height": 293
        },
        "id": "ACJHyha8c_QQ",
        "outputId": "99d32af2-059f-4b99-a0c3-7a7dc0736877"
      },
      "execution_count": null,
      "outputs": [
        {
          "output_type": "execute_result",
          "data": {
            "text/plain": [
              "              business_id        date               review_id  stars  \\\n",
              "0  9yKzy9PApeiPPOUJEtnvkg  2011-01-26  fWKvX83p0-ka4JS3dc6E5A      5   \n",
              "1  ZRJwVLyzEJq1VAihDhYiow  2011-07-27  IjZ33sJrzXqU-0X6U8NwyA      5   \n",
              "2  6oRAC4uyJCsJl1X0WZpVSA  2012-06-14  IESLBzqUCLdSzSqm0eCSxQ      4   \n",
              "3  _1QQZuf4zZOyFCvXc0o6Vg  2010-05-27  G-WvGaISbqqaMHlNnByodA      5   \n",
              "4  6ozycU1RpktNG2-1BroVtw  2012-01-05  1uJFq2r5QfJG_6ExMRCaGw      5   \n",
              "\n",
              "                                                text    type  \\\n",
              "0  My wife took me here on my birthday for breakf...  review   \n",
              "1  I have no idea why some people give bad review...  review   \n",
              "2  love the gyro plate. Rice is so good and I als...  review   \n",
              "3  Rosie, Dakota, and I LOVE Chaparral Dog Park!!...  review   \n",
              "4  General Manager Scott Petello is a good egg!!!...  review   \n",
              "\n",
              "                  user_id  cool  useful  funny  \n",
              "0  rLtl8ZkDX5vH5nAx9C3q5Q     2       5      0  \n",
              "1  0a2KyEL0d3Yb1V6aivbIuQ     0       0      0  \n",
              "2  0hT2KtfLiobPvh6cDC8JQg     0       1      0  \n",
              "3  uZetl9T0NcROGOyFfughhg     1       2      0  \n",
              "4  vYmM4KTsC8ZfQBg-j5MWkw     0       0      0  "
            ],
            "text/html": [
              "\n",
              "  <div id=\"df-3e78a26d-d5be-4760-824b-faacf0378df6\" class=\"colab-df-container\">\n",
              "    <div>\n",
              "<style scoped>\n",
              "    .dataframe tbody tr th:only-of-type {\n",
              "        vertical-align: middle;\n",
              "    }\n",
              "\n",
              "    .dataframe tbody tr th {\n",
              "        vertical-align: top;\n",
              "    }\n",
              "\n",
              "    .dataframe thead th {\n",
              "        text-align: right;\n",
              "    }\n",
              "</style>\n",
              "<table border=\"1\" class=\"dataframe\">\n",
              "  <thead>\n",
              "    <tr style=\"text-align: right;\">\n",
              "      <th></th>\n",
              "      <th>business_id</th>\n",
              "      <th>date</th>\n",
              "      <th>review_id</th>\n",
              "      <th>stars</th>\n",
              "      <th>text</th>\n",
              "      <th>type</th>\n",
              "      <th>user_id</th>\n",
              "      <th>cool</th>\n",
              "      <th>useful</th>\n",
              "      <th>funny</th>\n",
              "    </tr>\n",
              "  </thead>\n",
              "  <tbody>\n",
              "    <tr>\n",
              "      <th>0</th>\n",
              "      <td>9yKzy9PApeiPPOUJEtnvkg</td>\n",
              "      <td>2011-01-26</td>\n",
              "      <td>fWKvX83p0-ka4JS3dc6E5A</td>\n",
              "      <td>5</td>\n",
              "      <td>My wife took me here on my birthday for breakf...</td>\n",
              "      <td>review</td>\n",
              "      <td>rLtl8ZkDX5vH5nAx9C3q5Q</td>\n",
              "      <td>2</td>\n",
              "      <td>5</td>\n",
              "      <td>0</td>\n",
              "    </tr>\n",
              "    <tr>\n",
              "      <th>1</th>\n",
              "      <td>ZRJwVLyzEJq1VAihDhYiow</td>\n",
              "      <td>2011-07-27</td>\n",
              "      <td>IjZ33sJrzXqU-0X6U8NwyA</td>\n",
              "      <td>5</td>\n",
              "      <td>I have no idea why some people give bad review...</td>\n",
              "      <td>review</td>\n",
              "      <td>0a2KyEL0d3Yb1V6aivbIuQ</td>\n",
              "      <td>0</td>\n",
              "      <td>0</td>\n",
              "      <td>0</td>\n",
              "    </tr>\n",
              "    <tr>\n",
              "      <th>2</th>\n",
              "      <td>6oRAC4uyJCsJl1X0WZpVSA</td>\n",
              "      <td>2012-06-14</td>\n",
              "      <td>IESLBzqUCLdSzSqm0eCSxQ</td>\n",
              "      <td>4</td>\n",
              "      <td>love the gyro plate. Rice is so good and I als...</td>\n",
              "      <td>review</td>\n",
              "      <td>0hT2KtfLiobPvh6cDC8JQg</td>\n",
              "      <td>0</td>\n",
              "      <td>1</td>\n",
              "      <td>0</td>\n",
              "    </tr>\n",
              "    <tr>\n",
              "      <th>3</th>\n",
              "      <td>_1QQZuf4zZOyFCvXc0o6Vg</td>\n",
              "      <td>2010-05-27</td>\n",
              "      <td>G-WvGaISbqqaMHlNnByodA</td>\n",
              "      <td>5</td>\n",
              "      <td>Rosie, Dakota, and I LOVE Chaparral Dog Park!!...</td>\n",
              "      <td>review</td>\n",
              "      <td>uZetl9T0NcROGOyFfughhg</td>\n",
              "      <td>1</td>\n",
              "      <td>2</td>\n",
              "      <td>0</td>\n",
              "    </tr>\n",
              "    <tr>\n",
              "      <th>4</th>\n",
              "      <td>6ozycU1RpktNG2-1BroVtw</td>\n",
              "      <td>2012-01-05</td>\n",
              "      <td>1uJFq2r5QfJG_6ExMRCaGw</td>\n",
              "      <td>5</td>\n",
              "      <td>General Manager Scott Petello is a good egg!!!...</td>\n",
              "      <td>review</td>\n",
              "      <td>vYmM4KTsC8ZfQBg-j5MWkw</td>\n",
              "      <td>0</td>\n",
              "      <td>0</td>\n",
              "      <td>0</td>\n",
              "    </tr>\n",
              "  </tbody>\n",
              "</table>\n",
              "</div>\n",
              "    <div class=\"colab-df-buttons\">\n",
              "\n",
              "  <div class=\"colab-df-container\">\n",
              "    <button class=\"colab-df-convert\" onclick=\"convertToInteractive('df-3e78a26d-d5be-4760-824b-faacf0378df6')\"\n",
              "            title=\"Convert this dataframe to an interactive table.\"\n",
              "            style=\"display:none;\">\n",
              "\n",
              "  <svg xmlns=\"http://www.w3.org/2000/svg\" height=\"24px\" viewBox=\"0 -960 960 960\">\n",
              "    <path d=\"M120-120v-720h720v720H120Zm60-500h600v-160H180v160Zm220 220h160v-160H400v160Zm0 220h160v-160H400v160ZM180-400h160v-160H180v160Zm440 0h160v-160H620v160ZM180-180h160v-160H180v160Zm440 0h160v-160H620v160Z\"/>\n",
              "  </svg>\n",
              "    </button>\n",
              "\n",
              "  <style>\n",
              "    .colab-df-container {\n",
              "      display:flex;\n",
              "      gap: 12px;\n",
              "    }\n",
              "\n",
              "    .colab-df-convert {\n",
              "      background-color: #E8F0FE;\n",
              "      border: none;\n",
              "      border-radius: 50%;\n",
              "      cursor: pointer;\n",
              "      display: none;\n",
              "      fill: #1967D2;\n",
              "      height: 32px;\n",
              "      padding: 0 0 0 0;\n",
              "      width: 32px;\n",
              "    }\n",
              "\n",
              "    .colab-df-convert:hover {\n",
              "      background-color: #E2EBFA;\n",
              "      box-shadow: 0px 1px 2px rgba(60, 64, 67, 0.3), 0px 1px 3px 1px rgba(60, 64, 67, 0.15);\n",
              "      fill: #174EA6;\n",
              "    }\n",
              "\n",
              "    .colab-df-buttons div {\n",
              "      margin-bottom: 4px;\n",
              "    }\n",
              "\n",
              "    [theme=dark] .colab-df-convert {\n",
              "      background-color: #3B4455;\n",
              "      fill: #D2E3FC;\n",
              "    }\n",
              "\n",
              "    [theme=dark] .colab-df-convert:hover {\n",
              "      background-color: #434B5C;\n",
              "      box-shadow: 0px 1px 3px 1px rgba(0, 0, 0, 0.15);\n",
              "      filter: drop-shadow(0px 1px 2px rgba(0, 0, 0, 0.3));\n",
              "      fill: #FFFFFF;\n",
              "    }\n",
              "  </style>\n",
              "\n",
              "    <script>\n",
              "      const buttonEl =\n",
              "        document.querySelector('#df-3e78a26d-d5be-4760-824b-faacf0378df6 button.colab-df-convert');\n",
              "      buttonEl.style.display =\n",
              "        google.colab.kernel.accessAllowed ? 'block' : 'none';\n",
              "\n",
              "      async function convertToInteractive(key) {\n",
              "        const element = document.querySelector('#df-3e78a26d-d5be-4760-824b-faacf0378df6');\n",
              "        const dataTable =\n",
              "          await google.colab.kernel.invokeFunction('convertToInteractive',\n",
              "                                                    [key], {});\n",
              "        if (!dataTable) return;\n",
              "\n",
              "        const docLinkHtml = 'Like what you see? Visit the ' +\n",
              "          '<a target=\"_blank\" href=https://colab.research.google.com/notebooks/data_table.ipynb>data table notebook</a>'\n",
              "          + ' to learn more about interactive tables.';\n",
              "        element.innerHTML = '';\n",
              "        dataTable['output_type'] = 'display_data';\n",
              "        await google.colab.output.renderOutput(dataTable, element);\n",
              "        const docLink = document.createElement('div');\n",
              "        docLink.innerHTML = docLinkHtml;\n",
              "        element.appendChild(docLink);\n",
              "      }\n",
              "    </script>\n",
              "  </div>\n",
              "\n",
              "\n",
              "<div id=\"df-fcb59a2d-b3bf-4720-bbaa-0c498dd382b7\">\n",
              "  <button class=\"colab-df-quickchart\" onclick=\"quickchart('df-fcb59a2d-b3bf-4720-bbaa-0c498dd382b7')\"\n",
              "            title=\"Suggest charts.\"\n",
              "            style=\"display:none;\">\n",
              "\n",
              "<svg xmlns=\"http://www.w3.org/2000/svg\" height=\"24px\"viewBox=\"0 0 24 24\"\n",
              "     width=\"24px\">\n",
              "    <g>\n",
              "        <path d=\"M19 3H5c-1.1 0-2 .9-2 2v14c0 1.1.9 2 2 2h14c1.1 0 2-.9 2-2V5c0-1.1-.9-2-2-2zM9 17H7v-7h2v7zm4 0h-2V7h2v10zm4 0h-2v-4h2v4z\"/>\n",
              "    </g>\n",
              "</svg>\n",
              "  </button>\n",
              "\n",
              "<style>\n",
              "  .colab-df-quickchart {\n",
              "      --bg-color: #E8F0FE;\n",
              "      --fill-color: #1967D2;\n",
              "      --hover-bg-color: #E2EBFA;\n",
              "      --hover-fill-color: #174EA6;\n",
              "      --disabled-fill-color: #AAA;\n",
              "      --disabled-bg-color: #DDD;\n",
              "  }\n",
              "\n",
              "  [theme=dark] .colab-df-quickchart {\n",
              "      --bg-color: #3B4455;\n",
              "      --fill-color: #D2E3FC;\n",
              "      --hover-bg-color: #434B5C;\n",
              "      --hover-fill-color: #FFFFFF;\n",
              "      --disabled-bg-color: #3B4455;\n",
              "      --disabled-fill-color: #666;\n",
              "  }\n",
              "\n",
              "  .colab-df-quickchart {\n",
              "    background-color: var(--bg-color);\n",
              "    border: none;\n",
              "    border-radius: 50%;\n",
              "    cursor: pointer;\n",
              "    display: none;\n",
              "    fill: var(--fill-color);\n",
              "    height: 32px;\n",
              "    padding: 0;\n",
              "    width: 32px;\n",
              "  }\n",
              "\n",
              "  .colab-df-quickchart:hover {\n",
              "    background-color: var(--hover-bg-color);\n",
              "    box-shadow: 0 1px 2px rgba(60, 64, 67, 0.3), 0 1px 3px 1px rgba(60, 64, 67, 0.15);\n",
              "    fill: var(--button-hover-fill-color);\n",
              "  }\n",
              "\n",
              "  .colab-df-quickchart-complete:disabled,\n",
              "  .colab-df-quickchart-complete:disabled:hover {\n",
              "    background-color: var(--disabled-bg-color);\n",
              "    fill: var(--disabled-fill-color);\n",
              "    box-shadow: none;\n",
              "  }\n",
              "\n",
              "  .colab-df-spinner {\n",
              "    border: 2px solid var(--fill-color);\n",
              "    border-color: transparent;\n",
              "    border-bottom-color: var(--fill-color);\n",
              "    animation:\n",
              "      spin 1s steps(1) infinite;\n",
              "  }\n",
              "\n",
              "  @keyframes spin {\n",
              "    0% {\n",
              "      border-color: transparent;\n",
              "      border-bottom-color: var(--fill-color);\n",
              "      border-left-color: var(--fill-color);\n",
              "    }\n",
              "    20% {\n",
              "      border-color: transparent;\n",
              "      border-left-color: var(--fill-color);\n",
              "      border-top-color: var(--fill-color);\n",
              "    }\n",
              "    30% {\n",
              "      border-color: transparent;\n",
              "      border-left-color: var(--fill-color);\n",
              "      border-top-color: var(--fill-color);\n",
              "      border-right-color: var(--fill-color);\n",
              "    }\n",
              "    40% {\n",
              "      border-color: transparent;\n",
              "      border-right-color: var(--fill-color);\n",
              "      border-top-color: var(--fill-color);\n",
              "    }\n",
              "    60% {\n",
              "      border-color: transparent;\n",
              "      border-right-color: var(--fill-color);\n",
              "    }\n",
              "    80% {\n",
              "      border-color: transparent;\n",
              "      border-right-color: var(--fill-color);\n",
              "      border-bottom-color: var(--fill-color);\n",
              "    }\n",
              "    90% {\n",
              "      border-color: transparent;\n",
              "      border-bottom-color: var(--fill-color);\n",
              "    }\n",
              "  }\n",
              "</style>\n",
              "\n",
              "  <script>\n",
              "    async function quickchart(key) {\n",
              "      const quickchartButtonEl =\n",
              "        document.querySelector('#' + key + ' button');\n",
              "      quickchartButtonEl.disabled = true;  // To prevent multiple clicks.\n",
              "      quickchartButtonEl.classList.add('colab-df-spinner');\n",
              "      try {\n",
              "        const charts = await google.colab.kernel.invokeFunction(\n",
              "            'suggestCharts', [key], {});\n",
              "      } catch (error) {\n",
              "        console.error('Error during call to suggestCharts:', error);\n",
              "      }\n",
              "      quickchartButtonEl.classList.remove('colab-df-spinner');\n",
              "      quickchartButtonEl.classList.add('colab-df-quickchart-complete');\n",
              "    }\n",
              "    (() => {\n",
              "      let quickchartButtonEl =\n",
              "        document.querySelector('#df-fcb59a2d-b3bf-4720-bbaa-0c498dd382b7 button');\n",
              "      quickchartButtonEl.style.display =\n",
              "        google.colab.kernel.accessAllowed ? 'block' : 'none';\n",
              "    })();\n",
              "  </script>\n",
              "</div>\n",
              "    </div>\n",
              "  </div>\n"
            ]
          },
          "metadata": {},
          "execution_count": 5
        }
      ]
    },
    {
      "cell_type": "code",
      "source": [
        "df.describe()"
      ],
      "metadata": {
        "colab": {
          "base_uri": "https://localhost:8080/",
          "height": 300
        },
        "id": "UqhqRmFifExw",
        "outputId": "66a5de29-532a-4e0a-ebd4-57a0eac566d0"
      },
      "execution_count": null,
      "outputs": [
        {
          "output_type": "execute_result",
          "data": {
            "text/plain": [
              "              stars          cool        useful         funny\n",
              "count  10000.000000  10000.000000  10000.000000  10000.000000\n",
              "mean       3.777500      0.876800      1.409300      0.701300\n",
              "std        1.214636      2.067861      2.336647      1.907942\n",
              "min        1.000000      0.000000      0.000000      0.000000\n",
              "25%        3.000000      0.000000      0.000000      0.000000\n",
              "50%        4.000000      0.000000      1.000000      0.000000\n",
              "75%        5.000000      1.000000      2.000000      1.000000\n",
              "max        5.000000     77.000000     76.000000     57.000000"
            ],
            "text/html": [
              "\n",
              "  <div id=\"df-162f0936-45af-4c43-ada8-13cdc25020fe\" class=\"colab-df-container\">\n",
              "    <div>\n",
              "<style scoped>\n",
              "    .dataframe tbody tr th:only-of-type {\n",
              "        vertical-align: middle;\n",
              "    }\n",
              "\n",
              "    .dataframe tbody tr th {\n",
              "        vertical-align: top;\n",
              "    }\n",
              "\n",
              "    .dataframe thead th {\n",
              "        text-align: right;\n",
              "    }\n",
              "</style>\n",
              "<table border=\"1\" class=\"dataframe\">\n",
              "  <thead>\n",
              "    <tr style=\"text-align: right;\">\n",
              "      <th></th>\n",
              "      <th>stars</th>\n",
              "      <th>cool</th>\n",
              "      <th>useful</th>\n",
              "      <th>funny</th>\n",
              "    </tr>\n",
              "  </thead>\n",
              "  <tbody>\n",
              "    <tr>\n",
              "      <th>count</th>\n",
              "      <td>10000.000000</td>\n",
              "      <td>10000.000000</td>\n",
              "      <td>10000.000000</td>\n",
              "      <td>10000.000000</td>\n",
              "    </tr>\n",
              "    <tr>\n",
              "      <th>mean</th>\n",
              "      <td>3.777500</td>\n",
              "      <td>0.876800</td>\n",
              "      <td>1.409300</td>\n",
              "      <td>0.701300</td>\n",
              "    </tr>\n",
              "    <tr>\n",
              "      <th>std</th>\n",
              "      <td>1.214636</td>\n",
              "      <td>2.067861</td>\n",
              "      <td>2.336647</td>\n",
              "      <td>1.907942</td>\n",
              "    </tr>\n",
              "    <tr>\n",
              "      <th>min</th>\n",
              "      <td>1.000000</td>\n",
              "      <td>0.000000</td>\n",
              "      <td>0.000000</td>\n",
              "      <td>0.000000</td>\n",
              "    </tr>\n",
              "    <tr>\n",
              "      <th>25%</th>\n",
              "      <td>3.000000</td>\n",
              "      <td>0.000000</td>\n",
              "      <td>0.000000</td>\n",
              "      <td>0.000000</td>\n",
              "    </tr>\n",
              "    <tr>\n",
              "      <th>50%</th>\n",
              "      <td>4.000000</td>\n",
              "      <td>0.000000</td>\n",
              "      <td>1.000000</td>\n",
              "      <td>0.000000</td>\n",
              "    </tr>\n",
              "    <tr>\n",
              "      <th>75%</th>\n",
              "      <td>5.000000</td>\n",
              "      <td>1.000000</td>\n",
              "      <td>2.000000</td>\n",
              "      <td>1.000000</td>\n",
              "    </tr>\n",
              "    <tr>\n",
              "      <th>max</th>\n",
              "      <td>5.000000</td>\n",
              "      <td>77.000000</td>\n",
              "      <td>76.000000</td>\n",
              "      <td>57.000000</td>\n",
              "    </tr>\n",
              "  </tbody>\n",
              "</table>\n",
              "</div>\n",
              "    <div class=\"colab-df-buttons\">\n",
              "\n",
              "  <div class=\"colab-df-container\">\n",
              "    <button class=\"colab-df-convert\" onclick=\"convertToInteractive('df-162f0936-45af-4c43-ada8-13cdc25020fe')\"\n",
              "            title=\"Convert this dataframe to an interactive table.\"\n",
              "            style=\"display:none;\">\n",
              "\n",
              "  <svg xmlns=\"http://www.w3.org/2000/svg\" height=\"24px\" viewBox=\"0 -960 960 960\">\n",
              "    <path d=\"M120-120v-720h720v720H120Zm60-500h600v-160H180v160Zm220 220h160v-160H400v160Zm0 220h160v-160H400v160ZM180-400h160v-160H180v160Zm440 0h160v-160H620v160ZM180-180h160v-160H180v160Zm440 0h160v-160H620v160Z\"/>\n",
              "  </svg>\n",
              "    </button>\n",
              "\n",
              "  <style>\n",
              "    .colab-df-container {\n",
              "      display:flex;\n",
              "      gap: 12px;\n",
              "    }\n",
              "\n",
              "    .colab-df-convert {\n",
              "      background-color: #E8F0FE;\n",
              "      border: none;\n",
              "      border-radius: 50%;\n",
              "      cursor: pointer;\n",
              "      display: none;\n",
              "      fill: #1967D2;\n",
              "      height: 32px;\n",
              "      padding: 0 0 0 0;\n",
              "      width: 32px;\n",
              "    }\n",
              "\n",
              "    .colab-df-convert:hover {\n",
              "      background-color: #E2EBFA;\n",
              "      box-shadow: 0px 1px 2px rgba(60, 64, 67, 0.3), 0px 1px 3px 1px rgba(60, 64, 67, 0.15);\n",
              "      fill: #174EA6;\n",
              "    }\n",
              "\n",
              "    .colab-df-buttons div {\n",
              "      margin-bottom: 4px;\n",
              "    }\n",
              "\n",
              "    [theme=dark] .colab-df-convert {\n",
              "      background-color: #3B4455;\n",
              "      fill: #D2E3FC;\n",
              "    }\n",
              "\n",
              "    [theme=dark] .colab-df-convert:hover {\n",
              "      background-color: #434B5C;\n",
              "      box-shadow: 0px 1px 3px 1px rgba(0, 0, 0, 0.15);\n",
              "      filter: drop-shadow(0px 1px 2px rgba(0, 0, 0, 0.3));\n",
              "      fill: #FFFFFF;\n",
              "    }\n",
              "  </style>\n",
              "\n",
              "    <script>\n",
              "      const buttonEl =\n",
              "        document.querySelector('#df-162f0936-45af-4c43-ada8-13cdc25020fe button.colab-df-convert');\n",
              "      buttonEl.style.display =\n",
              "        google.colab.kernel.accessAllowed ? 'block' : 'none';\n",
              "\n",
              "      async function convertToInteractive(key) {\n",
              "        const element = document.querySelector('#df-162f0936-45af-4c43-ada8-13cdc25020fe');\n",
              "        const dataTable =\n",
              "          await google.colab.kernel.invokeFunction('convertToInteractive',\n",
              "                                                    [key], {});\n",
              "        if (!dataTable) return;\n",
              "\n",
              "        const docLinkHtml = 'Like what you see? Visit the ' +\n",
              "          '<a target=\"_blank\" href=https://colab.research.google.com/notebooks/data_table.ipynb>data table notebook</a>'\n",
              "          + ' to learn more about interactive tables.';\n",
              "        element.innerHTML = '';\n",
              "        dataTable['output_type'] = 'display_data';\n",
              "        await google.colab.output.renderOutput(dataTable, element);\n",
              "        const docLink = document.createElement('div');\n",
              "        docLink.innerHTML = docLinkHtml;\n",
              "        element.appendChild(docLink);\n",
              "      }\n",
              "    </script>\n",
              "  </div>\n",
              "\n",
              "\n",
              "<div id=\"df-a9e6c147-b374-44e4-b412-bf818d2b5366\">\n",
              "  <button class=\"colab-df-quickchart\" onclick=\"quickchart('df-a9e6c147-b374-44e4-b412-bf818d2b5366')\"\n",
              "            title=\"Suggest charts.\"\n",
              "            style=\"display:none;\">\n",
              "\n",
              "<svg xmlns=\"http://www.w3.org/2000/svg\" height=\"24px\"viewBox=\"0 0 24 24\"\n",
              "     width=\"24px\">\n",
              "    <g>\n",
              "        <path d=\"M19 3H5c-1.1 0-2 .9-2 2v14c0 1.1.9 2 2 2h14c1.1 0 2-.9 2-2V5c0-1.1-.9-2-2-2zM9 17H7v-7h2v7zm4 0h-2V7h2v10zm4 0h-2v-4h2v4z\"/>\n",
              "    </g>\n",
              "</svg>\n",
              "  </button>\n",
              "\n",
              "<style>\n",
              "  .colab-df-quickchart {\n",
              "      --bg-color: #E8F0FE;\n",
              "      --fill-color: #1967D2;\n",
              "      --hover-bg-color: #E2EBFA;\n",
              "      --hover-fill-color: #174EA6;\n",
              "      --disabled-fill-color: #AAA;\n",
              "      --disabled-bg-color: #DDD;\n",
              "  }\n",
              "\n",
              "  [theme=dark] .colab-df-quickchart {\n",
              "      --bg-color: #3B4455;\n",
              "      --fill-color: #D2E3FC;\n",
              "      --hover-bg-color: #434B5C;\n",
              "      --hover-fill-color: #FFFFFF;\n",
              "      --disabled-bg-color: #3B4455;\n",
              "      --disabled-fill-color: #666;\n",
              "  }\n",
              "\n",
              "  .colab-df-quickchart {\n",
              "    background-color: var(--bg-color);\n",
              "    border: none;\n",
              "    border-radius: 50%;\n",
              "    cursor: pointer;\n",
              "    display: none;\n",
              "    fill: var(--fill-color);\n",
              "    height: 32px;\n",
              "    padding: 0;\n",
              "    width: 32px;\n",
              "  }\n",
              "\n",
              "  .colab-df-quickchart:hover {\n",
              "    background-color: var(--hover-bg-color);\n",
              "    box-shadow: 0 1px 2px rgba(60, 64, 67, 0.3), 0 1px 3px 1px rgba(60, 64, 67, 0.15);\n",
              "    fill: var(--button-hover-fill-color);\n",
              "  }\n",
              "\n",
              "  .colab-df-quickchart-complete:disabled,\n",
              "  .colab-df-quickchart-complete:disabled:hover {\n",
              "    background-color: var(--disabled-bg-color);\n",
              "    fill: var(--disabled-fill-color);\n",
              "    box-shadow: none;\n",
              "  }\n",
              "\n",
              "  .colab-df-spinner {\n",
              "    border: 2px solid var(--fill-color);\n",
              "    border-color: transparent;\n",
              "    border-bottom-color: var(--fill-color);\n",
              "    animation:\n",
              "      spin 1s steps(1) infinite;\n",
              "  }\n",
              "\n",
              "  @keyframes spin {\n",
              "    0% {\n",
              "      border-color: transparent;\n",
              "      border-bottom-color: var(--fill-color);\n",
              "      border-left-color: var(--fill-color);\n",
              "    }\n",
              "    20% {\n",
              "      border-color: transparent;\n",
              "      border-left-color: var(--fill-color);\n",
              "      border-top-color: var(--fill-color);\n",
              "    }\n",
              "    30% {\n",
              "      border-color: transparent;\n",
              "      border-left-color: var(--fill-color);\n",
              "      border-top-color: var(--fill-color);\n",
              "      border-right-color: var(--fill-color);\n",
              "    }\n",
              "    40% {\n",
              "      border-color: transparent;\n",
              "      border-right-color: var(--fill-color);\n",
              "      border-top-color: var(--fill-color);\n",
              "    }\n",
              "    60% {\n",
              "      border-color: transparent;\n",
              "      border-right-color: var(--fill-color);\n",
              "    }\n",
              "    80% {\n",
              "      border-color: transparent;\n",
              "      border-right-color: var(--fill-color);\n",
              "      border-bottom-color: var(--fill-color);\n",
              "    }\n",
              "    90% {\n",
              "      border-color: transparent;\n",
              "      border-bottom-color: var(--fill-color);\n",
              "    }\n",
              "  }\n",
              "</style>\n",
              "\n",
              "  <script>\n",
              "    async function quickchart(key) {\n",
              "      const quickchartButtonEl =\n",
              "        document.querySelector('#' + key + ' button');\n",
              "      quickchartButtonEl.disabled = true;  // To prevent multiple clicks.\n",
              "      quickchartButtonEl.classList.add('colab-df-spinner');\n",
              "      try {\n",
              "        const charts = await google.colab.kernel.invokeFunction(\n",
              "            'suggestCharts', [key], {});\n",
              "      } catch (error) {\n",
              "        console.error('Error during call to suggestCharts:', error);\n",
              "      }\n",
              "      quickchartButtonEl.classList.remove('colab-df-spinner');\n",
              "      quickchartButtonEl.classList.add('colab-df-quickchart-complete');\n",
              "    }\n",
              "    (() => {\n",
              "      let quickchartButtonEl =\n",
              "        document.querySelector('#df-a9e6c147-b374-44e4-b412-bf818d2b5366 button');\n",
              "      quickchartButtonEl.style.display =\n",
              "        google.colab.kernel.accessAllowed ? 'block' : 'none';\n",
              "    })();\n",
              "  </script>\n",
              "</div>\n",
              "    </div>\n",
              "  </div>\n"
            ]
          },
          "metadata": {},
          "execution_count": 6
        }
      ]
    },
    {
      "cell_type": "code",
      "source": [
        "# Now let's see how many samples there exists in this data set\n",
        "print(\"Total number of samples is: {}\".format(len(df)))\n",
        "print(\"Total number of 1 star reviews is: {} and the fraction is:{:0.2f}\".format(len(df[df['stars']==1]), len(df[df['stars']==1])/len(df)))\n",
        "print(\"Total number of 2 star reviews is: {} and the fraction is:{:0.2f}\".format(len(df[df['stars']==2]), len(df[df['stars']==2])/len(df)))\n",
        "print(\"Total number of 3 star reviews is: {} and the fraction is:{:0.2f}\".format(len(df[df['stars']==3]), len(df[df['stars']==3])/len(df)))\n",
        "print(\"Total number of 4 star reviews is: {} and the fraction is:{:0.2f}\".format(len(df[df['stars']==4]), len(df[df['stars']==4])/len(df)))\n",
        "print(\"Total number of 5 star reviews is: {} and the fraction is:{:0.2f}\".format(len(df[df['stars']==5]), len(df[df['stars']==5])/len(df)))"
      ],
      "metadata": {
        "colab": {
          "base_uri": "https://localhost:8080/"
        },
        "id": "to-DBUBIdZ26",
        "outputId": "511ad6d8-1f55-4d48-a964-45a9525577a0"
      },
      "execution_count": null,
      "outputs": [
        {
          "output_type": "stream",
          "name": "stdout",
          "text": [
            "Total number of samples is: 10000\n",
            "Total number of 1 star reviews is: 749 and the fraction is:0.07\n",
            "Total number of 2 star reviews is: 927 and the fraction is:0.09\n",
            "Total number of 3 star reviews is: 1461 and the fraction is:0.15\n",
            "Total number of 4 star reviews is: 3526 and the fraction is:0.35\n",
            "Total number of 5 star reviews is: 3337 and the fraction is:0.33\n"
          ]
        }
      ]
    },
    {
      "cell_type": "code",
      "source": [
        "# We just need these rows: text, stars\n",
        "df_new = df[['text', 'stars']].copy()\n",
        "df_new.head()"
      ],
      "metadata": {
        "colab": {
          "base_uri": "https://localhost:8080/",
          "height": 206
        },
        "id": "NnRfMF0QdynL",
        "outputId": "225e8902-1eaf-43d3-8de8-1e5827976e14"
      },
      "execution_count": null,
      "outputs": [
        {
          "output_type": "execute_result",
          "data": {
            "text/plain": [
              "                                                text  stars\n",
              "0  My wife took me here on my birthday for breakf...      5\n",
              "1  I have no idea why some people give bad review...      5\n",
              "2  love the gyro plate. Rice is so good and I als...      4\n",
              "3  Rosie, Dakota, and I LOVE Chaparral Dog Park!!...      5\n",
              "4  General Manager Scott Petello is a good egg!!!...      5"
            ],
            "text/html": [
              "\n",
              "  <div id=\"df-bfbdbe02-0bcc-4ed6-ab9a-ed2a6da07711\" class=\"colab-df-container\">\n",
              "    <div>\n",
              "<style scoped>\n",
              "    .dataframe tbody tr th:only-of-type {\n",
              "        vertical-align: middle;\n",
              "    }\n",
              "\n",
              "    .dataframe tbody tr th {\n",
              "        vertical-align: top;\n",
              "    }\n",
              "\n",
              "    .dataframe thead th {\n",
              "        text-align: right;\n",
              "    }\n",
              "</style>\n",
              "<table border=\"1\" class=\"dataframe\">\n",
              "  <thead>\n",
              "    <tr style=\"text-align: right;\">\n",
              "      <th></th>\n",
              "      <th>text</th>\n",
              "      <th>stars</th>\n",
              "    </tr>\n",
              "  </thead>\n",
              "  <tbody>\n",
              "    <tr>\n",
              "      <th>0</th>\n",
              "      <td>My wife took me here on my birthday for breakf...</td>\n",
              "      <td>5</td>\n",
              "    </tr>\n",
              "    <tr>\n",
              "      <th>1</th>\n",
              "      <td>I have no idea why some people give bad review...</td>\n",
              "      <td>5</td>\n",
              "    </tr>\n",
              "    <tr>\n",
              "      <th>2</th>\n",
              "      <td>love the gyro plate. Rice is so good and I als...</td>\n",
              "      <td>4</td>\n",
              "    </tr>\n",
              "    <tr>\n",
              "      <th>3</th>\n",
              "      <td>Rosie, Dakota, and I LOVE Chaparral Dog Park!!...</td>\n",
              "      <td>5</td>\n",
              "    </tr>\n",
              "    <tr>\n",
              "      <th>4</th>\n",
              "      <td>General Manager Scott Petello is a good egg!!!...</td>\n",
              "      <td>5</td>\n",
              "    </tr>\n",
              "  </tbody>\n",
              "</table>\n",
              "</div>\n",
              "    <div class=\"colab-df-buttons\">\n",
              "\n",
              "  <div class=\"colab-df-container\">\n",
              "    <button class=\"colab-df-convert\" onclick=\"convertToInteractive('df-bfbdbe02-0bcc-4ed6-ab9a-ed2a6da07711')\"\n",
              "            title=\"Convert this dataframe to an interactive table.\"\n",
              "            style=\"display:none;\">\n",
              "\n",
              "  <svg xmlns=\"http://www.w3.org/2000/svg\" height=\"24px\" viewBox=\"0 -960 960 960\">\n",
              "    <path d=\"M120-120v-720h720v720H120Zm60-500h600v-160H180v160Zm220 220h160v-160H400v160Zm0 220h160v-160H400v160ZM180-400h160v-160H180v160Zm440 0h160v-160H620v160ZM180-180h160v-160H180v160Zm440 0h160v-160H620v160Z\"/>\n",
              "  </svg>\n",
              "    </button>\n",
              "\n",
              "  <style>\n",
              "    .colab-df-container {\n",
              "      display:flex;\n",
              "      gap: 12px;\n",
              "    }\n",
              "\n",
              "    .colab-df-convert {\n",
              "      background-color: #E8F0FE;\n",
              "      border: none;\n",
              "      border-radius: 50%;\n",
              "      cursor: pointer;\n",
              "      display: none;\n",
              "      fill: #1967D2;\n",
              "      height: 32px;\n",
              "      padding: 0 0 0 0;\n",
              "      width: 32px;\n",
              "    }\n",
              "\n",
              "    .colab-df-convert:hover {\n",
              "      background-color: #E2EBFA;\n",
              "      box-shadow: 0px 1px 2px rgba(60, 64, 67, 0.3), 0px 1px 3px 1px rgba(60, 64, 67, 0.15);\n",
              "      fill: #174EA6;\n",
              "    }\n",
              "\n",
              "    .colab-df-buttons div {\n",
              "      margin-bottom: 4px;\n",
              "    }\n",
              "\n",
              "    [theme=dark] .colab-df-convert {\n",
              "      background-color: #3B4455;\n",
              "      fill: #D2E3FC;\n",
              "    }\n",
              "\n",
              "    [theme=dark] .colab-df-convert:hover {\n",
              "      background-color: #434B5C;\n",
              "      box-shadow: 0px 1px 3px 1px rgba(0, 0, 0, 0.15);\n",
              "      filter: drop-shadow(0px 1px 2px rgba(0, 0, 0, 0.3));\n",
              "      fill: #FFFFFF;\n",
              "    }\n",
              "  </style>\n",
              "\n",
              "    <script>\n",
              "      const buttonEl =\n",
              "        document.querySelector('#df-bfbdbe02-0bcc-4ed6-ab9a-ed2a6da07711 button.colab-df-convert');\n",
              "      buttonEl.style.display =\n",
              "        google.colab.kernel.accessAllowed ? 'block' : 'none';\n",
              "\n",
              "      async function convertToInteractive(key) {\n",
              "        const element = document.querySelector('#df-bfbdbe02-0bcc-4ed6-ab9a-ed2a6da07711');\n",
              "        const dataTable =\n",
              "          await google.colab.kernel.invokeFunction('convertToInteractive',\n",
              "                                                    [key], {});\n",
              "        if (!dataTable) return;\n",
              "\n",
              "        const docLinkHtml = 'Like what you see? Visit the ' +\n",
              "          '<a target=\"_blank\" href=https://colab.research.google.com/notebooks/data_table.ipynb>data table notebook</a>'\n",
              "          + ' to learn more about interactive tables.';\n",
              "        element.innerHTML = '';\n",
              "        dataTable['output_type'] = 'display_data';\n",
              "        await google.colab.output.renderOutput(dataTable, element);\n",
              "        const docLink = document.createElement('div');\n",
              "        docLink.innerHTML = docLinkHtml;\n",
              "        element.appendChild(docLink);\n",
              "      }\n",
              "    </script>\n",
              "  </div>\n",
              "\n",
              "\n",
              "<div id=\"df-2d1251fd-111f-4d92-abb9-45ba0ff4e13d\">\n",
              "  <button class=\"colab-df-quickchart\" onclick=\"quickchart('df-2d1251fd-111f-4d92-abb9-45ba0ff4e13d')\"\n",
              "            title=\"Suggest charts.\"\n",
              "            style=\"display:none;\">\n",
              "\n",
              "<svg xmlns=\"http://www.w3.org/2000/svg\" height=\"24px\"viewBox=\"0 0 24 24\"\n",
              "     width=\"24px\">\n",
              "    <g>\n",
              "        <path d=\"M19 3H5c-1.1 0-2 .9-2 2v14c0 1.1.9 2 2 2h14c1.1 0 2-.9 2-2V5c0-1.1-.9-2-2-2zM9 17H7v-7h2v7zm4 0h-2V7h2v10zm4 0h-2v-4h2v4z\"/>\n",
              "    </g>\n",
              "</svg>\n",
              "  </button>\n",
              "\n",
              "<style>\n",
              "  .colab-df-quickchart {\n",
              "      --bg-color: #E8F0FE;\n",
              "      --fill-color: #1967D2;\n",
              "      --hover-bg-color: #E2EBFA;\n",
              "      --hover-fill-color: #174EA6;\n",
              "      --disabled-fill-color: #AAA;\n",
              "      --disabled-bg-color: #DDD;\n",
              "  }\n",
              "\n",
              "  [theme=dark] .colab-df-quickchart {\n",
              "      --bg-color: #3B4455;\n",
              "      --fill-color: #D2E3FC;\n",
              "      --hover-bg-color: #434B5C;\n",
              "      --hover-fill-color: #FFFFFF;\n",
              "      --disabled-bg-color: #3B4455;\n",
              "      --disabled-fill-color: #666;\n",
              "  }\n",
              "\n",
              "  .colab-df-quickchart {\n",
              "    background-color: var(--bg-color);\n",
              "    border: none;\n",
              "    border-radius: 50%;\n",
              "    cursor: pointer;\n",
              "    display: none;\n",
              "    fill: var(--fill-color);\n",
              "    height: 32px;\n",
              "    padding: 0;\n",
              "    width: 32px;\n",
              "  }\n",
              "\n",
              "  .colab-df-quickchart:hover {\n",
              "    background-color: var(--hover-bg-color);\n",
              "    box-shadow: 0 1px 2px rgba(60, 64, 67, 0.3), 0 1px 3px 1px rgba(60, 64, 67, 0.15);\n",
              "    fill: var(--button-hover-fill-color);\n",
              "  }\n",
              "\n",
              "  .colab-df-quickchart-complete:disabled,\n",
              "  .colab-df-quickchart-complete:disabled:hover {\n",
              "    background-color: var(--disabled-bg-color);\n",
              "    fill: var(--disabled-fill-color);\n",
              "    box-shadow: none;\n",
              "  }\n",
              "\n",
              "  .colab-df-spinner {\n",
              "    border: 2px solid var(--fill-color);\n",
              "    border-color: transparent;\n",
              "    border-bottom-color: var(--fill-color);\n",
              "    animation:\n",
              "      spin 1s steps(1) infinite;\n",
              "  }\n",
              "\n",
              "  @keyframes spin {\n",
              "    0% {\n",
              "      border-color: transparent;\n",
              "      border-bottom-color: var(--fill-color);\n",
              "      border-left-color: var(--fill-color);\n",
              "    }\n",
              "    20% {\n",
              "      border-color: transparent;\n",
              "      border-left-color: var(--fill-color);\n",
              "      border-top-color: var(--fill-color);\n",
              "    }\n",
              "    30% {\n",
              "      border-color: transparent;\n",
              "      border-left-color: var(--fill-color);\n",
              "      border-top-color: var(--fill-color);\n",
              "      border-right-color: var(--fill-color);\n",
              "    }\n",
              "    40% {\n",
              "      border-color: transparent;\n",
              "      border-right-color: var(--fill-color);\n",
              "      border-top-color: var(--fill-color);\n",
              "    }\n",
              "    60% {\n",
              "      border-color: transparent;\n",
              "      border-right-color: var(--fill-color);\n",
              "    }\n",
              "    80% {\n",
              "      border-color: transparent;\n",
              "      border-right-color: var(--fill-color);\n",
              "      border-bottom-color: var(--fill-color);\n",
              "    }\n",
              "    90% {\n",
              "      border-color: transparent;\n",
              "      border-bottom-color: var(--fill-color);\n",
              "    }\n",
              "  }\n",
              "</style>\n",
              "\n",
              "  <script>\n",
              "    async function quickchart(key) {\n",
              "      const quickchartButtonEl =\n",
              "        document.querySelector('#' + key + ' button');\n",
              "      quickchartButtonEl.disabled = true;  // To prevent multiple clicks.\n",
              "      quickchartButtonEl.classList.add('colab-df-spinner');\n",
              "      try {\n",
              "        const charts = await google.colab.kernel.invokeFunction(\n",
              "            'suggestCharts', [key], {});\n",
              "      } catch (error) {\n",
              "        console.error('Error during call to suggestCharts:', error);\n",
              "      }\n",
              "      quickchartButtonEl.classList.remove('colab-df-spinner');\n",
              "      quickchartButtonEl.classList.add('colab-df-quickchart-complete');\n",
              "    }\n",
              "    (() => {\n",
              "      let quickchartButtonEl =\n",
              "        document.querySelector('#df-2d1251fd-111f-4d92-abb9-45ba0ff4e13d button');\n",
              "      quickchartButtonEl.style.display =\n",
              "        google.colab.kernel.accessAllowed ? 'block' : 'none';\n",
              "    })();\n",
              "  </script>\n",
              "</div>\n",
              "    </div>\n",
              "  </div>\n"
            ]
          },
          "metadata": {},
          "execution_count": 8
        }
      ]
    },
    {
      "cell_type": "code",
      "source": [
        "df_test = pd.read_csv('test-gpt.csv')\n",
        "df_test.drop(columns='Unnamed: 0', inplace=True)\n",
        "df_test.head()"
      ],
      "metadata": {
        "colab": {
          "base_uri": "https://localhost:8080/",
          "height": 206
        },
        "id": "kBIEmyy_3jQz",
        "outputId": "fb253d9c-cbdf-44dd-a182-da0c1c99dc73"
      },
      "execution_count": null,
      "outputs": [
        {
          "output_type": "execute_result",
          "data": {
            "text/plain": [
              "                                             ratings  labels\n",
              "0  The food was absolutely delicious! I couldn't ...       1\n",
              "1  Excellent service and a charming ambiance. I h...       1\n",
              "2  This restaurant has a fantastic selection of d...       1\n",
              "3  The staff is incredibly attentive and friendly...       1\n",
              "4  I love how they use fresh, high-quality ingred...       1"
            ],
            "text/html": [
              "\n",
              "  <div id=\"df-1d9aa9aa-d21b-49a0-a259-002d643feee6\" class=\"colab-df-container\">\n",
              "    <div>\n",
              "<style scoped>\n",
              "    .dataframe tbody tr th:only-of-type {\n",
              "        vertical-align: middle;\n",
              "    }\n",
              "\n",
              "    .dataframe tbody tr th {\n",
              "        vertical-align: top;\n",
              "    }\n",
              "\n",
              "    .dataframe thead th {\n",
              "        text-align: right;\n",
              "    }\n",
              "</style>\n",
              "<table border=\"1\" class=\"dataframe\">\n",
              "  <thead>\n",
              "    <tr style=\"text-align: right;\">\n",
              "      <th></th>\n",
              "      <th>ratings</th>\n",
              "      <th>labels</th>\n",
              "    </tr>\n",
              "  </thead>\n",
              "  <tbody>\n",
              "    <tr>\n",
              "      <th>0</th>\n",
              "      <td>The food was absolutely delicious! I couldn't ...</td>\n",
              "      <td>1</td>\n",
              "    </tr>\n",
              "    <tr>\n",
              "      <th>1</th>\n",
              "      <td>Excellent service and a charming ambiance. I h...</td>\n",
              "      <td>1</td>\n",
              "    </tr>\n",
              "    <tr>\n",
              "      <th>2</th>\n",
              "      <td>This restaurant has a fantastic selection of d...</td>\n",
              "      <td>1</td>\n",
              "    </tr>\n",
              "    <tr>\n",
              "      <th>3</th>\n",
              "      <td>The staff is incredibly attentive and friendly...</td>\n",
              "      <td>1</td>\n",
              "    </tr>\n",
              "    <tr>\n",
              "      <th>4</th>\n",
              "      <td>I love how they use fresh, high-quality ingred...</td>\n",
              "      <td>1</td>\n",
              "    </tr>\n",
              "  </tbody>\n",
              "</table>\n",
              "</div>\n",
              "    <div class=\"colab-df-buttons\">\n",
              "\n",
              "  <div class=\"colab-df-container\">\n",
              "    <button class=\"colab-df-convert\" onclick=\"convertToInteractive('df-1d9aa9aa-d21b-49a0-a259-002d643feee6')\"\n",
              "            title=\"Convert this dataframe to an interactive table.\"\n",
              "            style=\"display:none;\">\n",
              "\n",
              "  <svg xmlns=\"http://www.w3.org/2000/svg\" height=\"24px\" viewBox=\"0 -960 960 960\">\n",
              "    <path d=\"M120-120v-720h720v720H120Zm60-500h600v-160H180v160Zm220 220h160v-160H400v160Zm0 220h160v-160H400v160ZM180-400h160v-160H180v160Zm440 0h160v-160H620v160ZM180-180h160v-160H180v160Zm440 0h160v-160H620v160Z\"/>\n",
              "  </svg>\n",
              "    </button>\n",
              "\n",
              "  <style>\n",
              "    .colab-df-container {\n",
              "      display:flex;\n",
              "      gap: 12px;\n",
              "    }\n",
              "\n",
              "    .colab-df-convert {\n",
              "      background-color: #E8F0FE;\n",
              "      border: none;\n",
              "      border-radius: 50%;\n",
              "      cursor: pointer;\n",
              "      display: none;\n",
              "      fill: #1967D2;\n",
              "      height: 32px;\n",
              "      padding: 0 0 0 0;\n",
              "      width: 32px;\n",
              "    }\n",
              "\n",
              "    .colab-df-convert:hover {\n",
              "      background-color: #E2EBFA;\n",
              "      box-shadow: 0px 1px 2px rgba(60, 64, 67, 0.3), 0px 1px 3px 1px rgba(60, 64, 67, 0.15);\n",
              "      fill: #174EA6;\n",
              "    }\n",
              "\n",
              "    .colab-df-buttons div {\n",
              "      margin-bottom: 4px;\n",
              "    }\n",
              "\n",
              "    [theme=dark] .colab-df-convert {\n",
              "      background-color: #3B4455;\n",
              "      fill: #D2E3FC;\n",
              "    }\n",
              "\n",
              "    [theme=dark] .colab-df-convert:hover {\n",
              "      background-color: #434B5C;\n",
              "      box-shadow: 0px 1px 3px 1px rgba(0, 0, 0, 0.15);\n",
              "      filter: drop-shadow(0px 1px 2px rgba(0, 0, 0, 0.3));\n",
              "      fill: #FFFFFF;\n",
              "    }\n",
              "  </style>\n",
              "\n",
              "    <script>\n",
              "      const buttonEl =\n",
              "        document.querySelector('#df-1d9aa9aa-d21b-49a0-a259-002d643feee6 button.colab-df-convert');\n",
              "      buttonEl.style.display =\n",
              "        google.colab.kernel.accessAllowed ? 'block' : 'none';\n",
              "\n",
              "      async function convertToInteractive(key) {\n",
              "        const element = document.querySelector('#df-1d9aa9aa-d21b-49a0-a259-002d643feee6');\n",
              "        const dataTable =\n",
              "          await google.colab.kernel.invokeFunction('convertToInteractive',\n",
              "                                                    [key], {});\n",
              "        if (!dataTable) return;\n",
              "\n",
              "        const docLinkHtml = 'Like what you see? Visit the ' +\n",
              "          '<a target=\"_blank\" href=https://colab.research.google.com/notebooks/data_table.ipynb>data table notebook</a>'\n",
              "          + ' to learn more about interactive tables.';\n",
              "        element.innerHTML = '';\n",
              "        dataTable['output_type'] = 'display_data';\n",
              "        await google.colab.output.renderOutput(dataTable, element);\n",
              "        const docLink = document.createElement('div');\n",
              "        docLink.innerHTML = docLinkHtml;\n",
              "        element.appendChild(docLink);\n",
              "      }\n",
              "    </script>\n",
              "  </div>\n",
              "\n",
              "\n",
              "<div id=\"df-4310c80d-bd39-41b0-8b03-69d4f70e21f0\">\n",
              "  <button class=\"colab-df-quickchart\" onclick=\"quickchart('df-4310c80d-bd39-41b0-8b03-69d4f70e21f0')\"\n",
              "            title=\"Suggest charts.\"\n",
              "            style=\"display:none;\">\n",
              "\n",
              "<svg xmlns=\"http://www.w3.org/2000/svg\" height=\"24px\"viewBox=\"0 0 24 24\"\n",
              "     width=\"24px\">\n",
              "    <g>\n",
              "        <path d=\"M19 3H5c-1.1 0-2 .9-2 2v14c0 1.1.9 2 2 2h14c1.1 0 2-.9 2-2V5c0-1.1-.9-2-2-2zM9 17H7v-7h2v7zm4 0h-2V7h2v10zm4 0h-2v-4h2v4z\"/>\n",
              "    </g>\n",
              "</svg>\n",
              "  </button>\n",
              "\n",
              "<style>\n",
              "  .colab-df-quickchart {\n",
              "      --bg-color: #E8F0FE;\n",
              "      --fill-color: #1967D2;\n",
              "      --hover-bg-color: #E2EBFA;\n",
              "      --hover-fill-color: #174EA6;\n",
              "      --disabled-fill-color: #AAA;\n",
              "      --disabled-bg-color: #DDD;\n",
              "  }\n",
              "\n",
              "  [theme=dark] .colab-df-quickchart {\n",
              "      --bg-color: #3B4455;\n",
              "      --fill-color: #D2E3FC;\n",
              "      --hover-bg-color: #434B5C;\n",
              "      --hover-fill-color: #FFFFFF;\n",
              "      --disabled-bg-color: #3B4455;\n",
              "      --disabled-fill-color: #666;\n",
              "  }\n",
              "\n",
              "  .colab-df-quickchart {\n",
              "    background-color: var(--bg-color);\n",
              "    border: none;\n",
              "    border-radius: 50%;\n",
              "    cursor: pointer;\n",
              "    display: none;\n",
              "    fill: var(--fill-color);\n",
              "    height: 32px;\n",
              "    padding: 0;\n",
              "    width: 32px;\n",
              "  }\n",
              "\n",
              "  .colab-df-quickchart:hover {\n",
              "    background-color: var(--hover-bg-color);\n",
              "    box-shadow: 0 1px 2px rgba(60, 64, 67, 0.3), 0 1px 3px 1px rgba(60, 64, 67, 0.15);\n",
              "    fill: var(--button-hover-fill-color);\n",
              "  }\n",
              "\n",
              "  .colab-df-quickchart-complete:disabled,\n",
              "  .colab-df-quickchart-complete:disabled:hover {\n",
              "    background-color: var(--disabled-bg-color);\n",
              "    fill: var(--disabled-fill-color);\n",
              "    box-shadow: none;\n",
              "  }\n",
              "\n",
              "  .colab-df-spinner {\n",
              "    border: 2px solid var(--fill-color);\n",
              "    border-color: transparent;\n",
              "    border-bottom-color: var(--fill-color);\n",
              "    animation:\n",
              "      spin 1s steps(1) infinite;\n",
              "  }\n",
              "\n",
              "  @keyframes spin {\n",
              "    0% {\n",
              "      border-color: transparent;\n",
              "      border-bottom-color: var(--fill-color);\n",
              "      border-left-color: var(--fill-color);\n",
              "    }\n",
              "    20% {\n",
              "      border-color: transparent;\n",
              "      border-left-color: var(--fill-color);\n",
              "      border-top-color: var(--fill-color);\n",
              "    }\n",
              "    30% {\n",
              "      border-color: transparent;\n",
              "      border-left-color: var(--fill-color);\n",
              "      border-top-color: var(--fill-color);\n",
              "      border-right-color: var(--fill-color);\n",
              "    }\n",
              "    40% {\n",
              "      border-color: transparent;\n",
              "      border-right-color: var(--fill-color);\n",
              "      border-top-color: var(--fill-color);\n",
              "    }\n",
              "    60% {\n",
              "      border-color: transparent;\n",
              "      border-right-color: var(--fill-color);\n",
              "    }\n",
              "    80% {\n",
              "      border-color: transparent;\n",
              "      border-right-color: var(--fill-color);\n",
              "      border-bottom-color: var(--fill-color);\n",
              "    }\n",
              "    90% {\n",
              "      border-color: transparent;\n",
              "      border-bottom-color: var(--fill-color);\n",
              "    }\n",
              "  }\n",
              "</style>\n",
              "\n",
              "  <script>\n",
              "    async function quickchart(key) {\n",
              "      const quickchartButtonEl =\n",
              "        document.querySelector('#' + key + ' button');\n",
              "      quickchartButtonEl.disabled = true;  // To prevent multiple clicks.\n",
              "      quickchartButtonEl.classList.add('colab-df-spinner');\n",
              "      try {\n",
              "        const charts = await google.colab.kernel.invokeFunction(\n",
              "            'suggestCharts', [key], {});\n",
              "      } catch (error) {\n",
              "        console.error('Error during call to suggestCharts:', error);\n",
              "      }\n",
              "      quickchartButtonEl.classList.remove('colab-df-spinner');\n",
              "      quickchartButtonEl.classList.add('colab-df-quickchart-complete');\n",
              "    }\n",
              "    (() => {\n",
              "      let quickchartButtonEl =\n",
              "        document.querySelector('#df-4310c80d-bd39-41b0-8b03-69d4f70e21f0 button');\n",
              "      quickchartButtonEl.style.display =\n",
              "        google.colab.kernel.accessAllowed ? 'block' : 'none';\n",
              "    })();\n",
              "  </script>\n",
              "</div>\n",
              "    </div>\n",
              "  </div>\n"
            ]
          },
          "metadata": {},
          "execution_count": 9
        }
      ]
    },
    {
      "cell_type": "markdown",
      "source": [
        "# Text Preprocessing"
      ],
      "metadata": {
        "id": "wR4KKpc1gRuA"
      }
    },
    {
      "cell_type": "markdown",
      "source": [
        "Now, it's the time to apply text preprocessing. In text preprocessing we remove stopwords, remove punctuations, expand contractions, and make all words to lower."
      ],
      "metadata": {
        "id": "-N71-GnUgU8h"
      }
    },
    {
      "cell_type": "code",
      "source": [
        "stop_words = set(stopwords.words('english'))"
      ],
      "metadata": {
        "id": "MqZVWSr6kOtC"
      },
      "execution_count": null,
      "outputs": []
    },
    {
      "cell_type": "code",
      "source": [
        "print(stop_words)"
      ],
      "metadata": {
        "colab": {
          "base_uri": "https://localhost:8080/"
        },
        "id": "y__8iXsuxGzf",
        "outputId": "c258ba3c-a43a-4894-8a40-e9c9a00f05c0"
      },
      "execution_count": null,
      "outputs": [
        {
          "output_type": "stream",
          "name": "stdout",
          "text": [
            "{'to', 'we', 'all', \"hadn't\", 'no', 'are', 'weren', 'just', 'because', 'have', 'between', \"should've\", 'couldn', 'hasn', 'having', 'both', 'such', 'only', 'very', \"doesn't\", 'their', \"isn't\", 'shouldn', 'ma', 'under', 'doesn', 'them', 'other', 'down', 'same', 'll', 'being', 'for', 'yours', \"aren't\", 'your', 'doing', \"shouldn't\", \"shan't\", 't', 'is', 'if', 'been', 'once', \"it's\", 'an', 'y', 'on', 'shan', 're', \"hasn't\", 'which', 'with', 'herself', 'than', \"mustn't\", 'ours', 'the', \"wasn't\", 'that', 'be', 'where', 'any', 'too', \"couldn't\", 's', \"she's\", 'own', 'him', 'am', 'and', \"wouldn't\", \"you're\", 've', 'those', 'from', 'its', 'our', 'they', 'not', 'wouldn', 'whom', 'below', 'again', 'but', 'during', 'up', 'was', 'or', 'do', 'haven', 'into', 'what', 'at', 'm', 'it', 'were', 'her', 'd', 'myself', 'you', 'after', 'themselves', 'here', 'don', 'himself', 'isn', \"didn't\", 'needn', 'didn', 'out', 'aren', 'his', 'did', 'he', 'wasn', 'why', 'yourselves', \"won't\", 'then', \"you've\", \"mightn't\", \"needn't\", 'will', 'hadn', 'while', 'ourselves', 'off', 'when', 'above', 'about', 'further', 'yourself', 'so', 'of', 'o', 'through', 'me', 'theirs', 'a', 'against', 'i', 'most', 'nor', \"don't\", \"you'll\", 'she', 'how', \"you'd\", 'itself', 'who', 'has', 'this', 'had', \"haven't\", 'won', 'hers', 'these', 'few', 'mustn', \"weren't\", 'there', 'can', 'now', 'before', 'ain', 'does', \"that'll\", 'until', 'more', 'by', 'in', 'each', 'my', 'mightn', 'over', 'as', 'should', 'some'}\n"
          ]
        }
      ]
    },
    {
      "cell_type": "code",
      "source": [
        "def expand_sent(sent):\n",
        "  expanded_words = [ contractions.fix(word) for word in sent.split()]\n",
        "  expanded_sent = \" \".join(expanded_words)\n",
        "  return expanded_sent"
      ],
      "metadata": {
        "id": "3rQeYKWVk5vB"
      },
      "execution_count": null,
      "outputs": []
    },
    {
      "cell_type": "code",
      "source": [
        "# Lets see an example\n",
        "sent = \"I'm not very satisfied. It isn't good!\"\n",
        "expand_sent(sent)"
      ],
      "metadata": {
        "colab": {
          "base_uri": "https://localhost:8080/",
          "height": 35
        },
        "id": "t0oXvzb-zV3o",
        "outputId": "a8a718b7-abaf-4d9a-b886-391a61c6b193"
      },
      "execution_count": null,
      "outputs": [
        {
          "output_type": "execute_result",
          "data": {
            "text/plain": [
              "'I am not very satisfied. It is not good!'"
            ],
            "application/vnd.google.colaboratory.intrinsic+json": {
              "type": "string"
            }
          },
          "metadata": {},
          "execution_count": 13
        }
      ]
    },
    {
      "cell_type": "code",
      "source": [
        "def clean_sent(sent):\n",
        "  sent = expand_sent(sent)\n",
        "  tokens = word_tokenize(sent)\n",
        "  tokens = [word.lower() for word in tokens]\n",
        "  tokens = [word for word in tokens if word.isalpha()]\n",
        "  return \" \". join(tokens)"
      ],
      "metadata": {
        "id": "4bpTH1UXzlU7"
      },
      "execution_count": null,
      "outputs": []
    },
    {
      "cell_type": "code",
      "source": [
        "#Lets see an example\n",
        "sent = \"I'm not very satisfied. The price is 12$, it's not so cheep!!!???\"\n",
        "clean_sent(sent)"
      ],
      "metadata": {
        "colab": {
          "base_uri": "https://localhost:8080/",
          "height": 35
        },
        "id": "oBpQD9qU0Wzg",
        "outputId": "c2bcd060-8420-49bd-fe3a-16c3187e7538"
      },
      "execution_count": null,
      "outputs": [
        {
          "output_type": "execute_result",
          "data": {
            "text/plain": [
              "'i am not very satisfied the price is it is not so cheep'"
            ],
            "application/vnd.google.colaboratory.intrinsic+json": {
              "type": "string"
            }
          },
          "metadata": {},
          "execution_count": 15
        }
      ]
    },
    {
      "cell_type": "code",
      "source": [
        "# Now lets clean the sentences in the data set\n",
        "df_new['clean_text'] = df_new['text'].apply(clean_sent)\n",
        "ratings={1:0, 2:0, 3:1, 4:1, 5:1}\n",
        "df_new['new_stars'] = df_new['stars'].apply(lambda star: ratings[star])"
      ],
      "metadata": {
        "id": "tvY-A9fs0jjZ"
      },
      "execution_count": null,
      "outputs": []
    },
    {
      "cell_type": "code",
      "source": [
        "df_new"
      ],
      "metadata": {
        "colab": {
          "base_uri": "https://localhost:8080/",
          "height": 423
        },
        "id": "tGuR10xS9rEH",
        "outputId": "e10a49b9-e560-40c9-b7d4-5b0d57394b1e"
      },
      "execution_count": null,
      "outputs": [
        {
          "output_type": "execute_result",
          "data": {
            "text/plain": [
              "                                                   text  stars  \\\n",
              "0     My wife took me here on my birthday for breakf...      5   \n",
              "1     I have no idea why some people give bad review...      5   \n",
              "2     love the gyro plate. Rice is so good and I als...      4   \n",
              "3     Rosie, Dakota, and I LOVE Chaparral Dog Park!!...      5   \n",
              "4     General Manager Scott Petello is a good egg!!!...      5   \n",
              "...                                                 ...    ...   \n",
              "9995  First visit...Had lunch here today - used my G...      3   \n",
              "9996  Should be called house of deliciousness!\\n\\nI ...      4   \n",
              "9997  I recently visited Olive and Ivy for business ...      4   \n",
              "9998  My nephew just moved to Scottsdale recently so...      2   \n",
              "9999  4-5 locations.. all 4.5 star average.. I think...      5   \n",
              "\n",
              "                                             clean_text  new_stars  \n",
              "0     my wife took me here on my birthday for breakf...          1  \n",
              "1     i have no idea why some people give bad review...          1  \n",
              "2     love the gyro plate rice is so good and i also...          1  \n",
              "3     rosie dakota and i love chaparral dog park it ...          1  \n",
              "4     general manager scott petello is a good egg no...          1  \n",
              "...                                                 ...        ...  \n",
              "9995  first visit had lunch here today used my group...          1  \n",
              "9996  should be called house of deliciousness i coul...          1  \n",
              "9997  i recently visited olive and ivy for business ...          1  \n",
              "9998  my nephew just moved to scottsdale recently so...          0  \n",
              "9999  locations all star average i think arizona rea...          1  \n",
              "\n",
              "[10000 rows x 4 columns]"
            ],
            "text/html": [
              "\n",
              "  <div id=\"df-c43b9a0c-5a49-4584-9182-1595930c46b9\" class=\"colab-df-container\">\n",
              "    <div>\n",
              "<style scoped>\n",
              "    .dataframe tbody tr th:only-of-type {\n",
              "        vertical-align: middle;\n",
              "    }\n",
              "\n",
              "    .dataframe tbody tr th {\n",
              "        vertical-align: top;\n",
              "    }\n",
              "\n",
              "    .dataframe thead th {\n",
              "        text-align: right;\n",
              "    }\n",
              "</style>\n",
              "<table border=\"1\" class=\"dataframe\">\n",
              "  <thead>\n",
              "    <tr style=\"text-align: right;\">\n",
              "      <th></th>\n",
              "      <th>text</th>\n",
              "      <th>stars</th>\n",
              "      <th>clean_text</th>\n",
              "      <th>new_stars</th>\n",
              "    </tr>\n",
              "  </thead>\n",
              "  <tbody>\n",
              "    <tr>\n",
              "      <th>0</th>\n",
              "      <td>My wife took me here on my birthday for breakf...</td>\n",
              "      <td>5</td>\n",
              "      <td>my wife took me here on my birthday for breakf...</td>\n",
              "      <td>1</td>\n",
              "    </tr>\n",
              "    <tr>\n",
              "      <th>1</th>\n",
              "      <td>I have no idea why some people give bad review...</td>\n",
              "      <td>5</td>\n",
              "      <td>i have no idea why some people give bad review...</td>\n",
              "      <td>1</td>\n",
              "    </tr>\n",
              "    <tr>\n",
              "      <th>2</th>\n",
              "      <td>love the gyro plate. Rice is so good and I als...</td>\n",
              "      <td>4</td>\n",
              "      <td>love the gyro plate rice is so good and i also...</td>\n",
              "      <td>1</td>\n",
              "    </tr>\n",
              "    <tr>\n",
              "      <th>3</th>\n",
              "      <td>Rosie, Dakota, and I LOVE Chaparral Dog Park!!...</td>\n",
              "      <td>5</td>\n",
              "      <td>rosie dakota and i love chaparral dog park it ...</td>\n",
              "      <td>1</td>\n",
              "    </tr>\n",
              "    <tr>\n",
              "      <th>4</th>\n",
              "      <td>General Manager Scott Petello is a good egg!!!...</td>\n",
              "      <td>5</td>\n",
              "      <td>general manager scott petello is a good egg no...</td>\n",
              "      <td>1</td>\n",
              "    </tr>\n",
              "    <tr>\n",
              "      <th>...</th>\n",
              "      <td>...</td>\n",
              "      <td>...</td>\n",
              "      <td>...</td>\n",
              "      <td>...</td>\n",
              "    </tr>\n",
              "    <tr>\n",
              "      <th>9995</th>\n",
              "      <td>First visit...Had lunch here today - used my G...</td>\n",
              "      <td>3</td>\n",
              "      <td>first visit had lunch here today used my group...</td>\n",
              "      <td>1</td>\n",
              "    </tr>\n",
              "    <tr>\n",
              "      <th>9996</th>\n",
              "      <td>Should be called house of deliciousness!\\n\\nI ...</td>\n",
              "      <td>4</td>\n",
              "      <td>should be called house of deliciousness i coul...</td>\n",
              "      <td>1</td>\n",
              "    </tr>\n",
              "    <tr>\n",
              "      <th>9997</th>\n",
              "      <td>I recently visited Olive and Ivy for business ...</td>\n",
              "      <td>4</td>\n",
              "      <td>i recently visited olive and ivy for business ...</td>\n",
              "      <td>1</td>\n",
              "    </tr>\n",
              "    <tr>\n",
              "      <th>9998</th>\n",
              "      <td>My nephew just moved to Scottsdale recently so...</td>\n",
              "      <td>2</td>\n",
              "      <td>my nephew just moved to scottsdale recently so...</td>\n",
              "      <td>0</td>\n",
              "    </tr>\n",
              "    <tr>\n",
              "      <th>9999</th>\n",
              "      <td>4-5 locations.. all 4.5 star average.. I think...</td>\n",
              "      <td>5</td>\n",
              "      <td>locations all star average i think arizona rea...</td>\n",
              "      <td>1</td>\n",
              "    </tr>\n",
              "  </tbody>\n",
              "</table>\n",
              "<p>10000 rows × 4 columns</p>\n",
              "</div>\n",
              "    <div class=\"colab-df-buttons\">\n",
              "\n",
              "  <div class=\"colab-df-container\">\n",
              "    <button class=\"colab-df-convert\" onclick=\"convertToInteractive('df-c43b9a0c-5a49-4584-9182-1595930c46b9')\"\n",
              "            title=\"Convert this dataframe to an interactive table.\"\n",
              "            style=\"display:none;\">\n",
              "\n",
              "  <svg xmlns=\"http://www.w3.org/2000/svg\" height=\"24px\" viewBox=\"0 -960 960 960\">\n",
              "    <path d=\"M120-120v-720h720v720H120Zm60-500h600v-160H180v160Zm220 220h160v-160H400v160Zm0 220h160v-160H400v160ZM180-400h160v-160H180v160Zm440 0h160v-160H620v160ZM180-180h160v-160H180v160Zm440 0h160v-160H620v160Z\"/>\n",
              "  </svg>\n",
              "    </button>\n",
              "\n",
              "  <style>\n",
              "    .colab-df-container {\n",
              "      display:flex;\n",
              "      gap: 12px;\n",
              "    }\n",
              "\n",
              "    .colab-df-convert {\n",
              "      background-color: #E8F0FE;\n",
              "      border: none;\n",
              "      border-radius: 50%;\n",
              "      cursor: pointer;\n",
              "      display: none;\n",
              "      fill: #1967D2;\n",
              "      height: 32px;\n",
              "      padding: 0 0 0 0;\n",
              "      width: 32px;\n",
              "    }\n",
              "\n",
              "    .colab-df-convert:hover {\n",
              "      background-color: #E2EBFA;\n",
              "      box-shadow: 0px 1px 2px rgba(60, 64, 67, 0.3), 0px 1px 3px 1px rgba(60, 64, 67, 0.15);\n",
              "      fill: #174EA6;\n",
              "    }\n",
              "\n",
              "    .colab-df-buttons div {\n",
              "      margin-bottom: 4px;\n",
              "    }\n",
              "\n",
              "    [theme=dark] .colab-df-convert {\n",
              "      background-color: #3B4455;\n",
              "      fill: #D2E3FC;\n",
              "    }\n",
              "\n",
              "    [theme=dark] .colab-df-convert:hover {\n",
              "      background-color: #434B5C;\n",
              "      box-shadow: 0px 1px 3px 1px rgba(0, 0, 0, 0.15);\n",
              "      filter: drop-shadow(0px 1px 2px rgba(0, 0, 0, 0.3));\n",
              "      fill: #FFFFFF;\n",
              "    }\n",
              "  </style>\n",
              "\n",
              "    <script>\n",
              "      const buttonEl =\n",
              "        document.querySelector('#df-c43b9a0c-5a49-4584-9182-1595930c46b9 button.colab-df-convert');\n",
              "      buttonEl.style.display =\n",
              "        google.colab.kernel.accessAllowed ? 'block' : 'none';\n",
              "\n",
              "      async function convertToInteractive(key) {\n",
              "        const element = document.querySelector('#df-c43b9a0c-5a49-4584-9182-1595930c46b9');\n",
              "        const dataTable =\n",
              "          await google.colab.kernel.invokeFunction('convertToInteractive',\n",
              "                                                    [key], {});\n",
              "        if (!dataTable) return;\n",
              "\n",
              "        const docLinkHtml = 'Like what you see? Visit the ' +\n",
              "          '<a target=\"_blank\" href=https://colab.research.google.com/notebooks/data_table.ipynb>data table notebook</a>'\n",
              "          + ' to learn more about interactive tables.';\n",
              "        element.innerHTML = '';\n",
              "        dataTable['output_type'] = 'display_data';\n",
              "        await google.colab.output.renderOutput(dataTable, element);\n",
              "        const docLink = document.createElement('div');\n",
              "        docLink.innerHTML = docLinkHtml;\n",
              "        element.appendChild(docLink);\n",
              "      }\n",
              "    </script>\n",
              "  </div>\n",
              "\n",
              "\n",
              "<div id=\"df-8205be33-b0f9-4517-8d42-d3367bb12fa1\">\n",
              "  <button class=\"colab-df-quickchart\" onclick=\"quickchart('df-8205be33-b0f9-4517-8d42-d3367bb12fa1')\"\n",
              "            title=\"Suggest charts.\"\n",
              "            style=\"display:none;\">\n",
              "\n",
              "<svg xmlns=\"http://www.w3.org/2000/svg\" height=\"24px\"viewBox=\"0 0 24 24\"\n",
              "     width=\"24px\">\n",
              "    <g>\n",
              "        <path d=\"M19 3H5c-1.1 0-2 .9-2 2v14c0 1.1.9 2 2 2h14c1.1 0 2-.9 2-2V5c0-1.1-.9-2-2-2zM9 17H7v-7h2v7zm4 0h-2V7h2v10zm4 0h-2v-4h2v4z\"/>\n",
              "    </g>\n",
              "</svg>\n",
              "  </button>\n",
              "\n",
              "<style>\n",
              "  .colab-df-quickchart {\n",
              "      --bg-color: #E8F0FE;\n",
              "      --fill-color: #1967D2;\n",
              "      --hover-bg-color: #E2EBFA;\n",
              "      --hover-fill-color: #174EA6;\n",
              "      --disabled-fill-color: #AAA;\n",
              "      --disabled-bg-color: #DDD;\n",
              "  }\n",
              "\n",
              "  [theme=dark] .colab-df-quickchart {\n",
              "      --bg-color: #3B4455;\n",
              "      --fill-color: #D2E3FC;\n",
              "      --hover-bg-color: #434B5C;\n",
              "      --hover-fill-color: #FFFFFF;\n",
              "      --disabled-bg-color: #3B4455;\n",
              "      --disabled-fill-color: #666;\n",
              "  }\n",
              "\n",
              "  .colab-df-quickchart {\n",
              "    background-color: var(--bg-color);\n",
              "    border: none;\n",
              "    border-radius: 50%;\n",
              "    cursor: pointer;\n",
              "    display: none;\n",
              "    fill: var(--fill-color);\n",
              "    height: 32px;\n",
              "    padding: 0;\n",
              "    width: 32px;\n",
              "  }\n",
              "\n",
              "  .colab-df-quickchart:hover {\n",
              "    background-color: var(--hover-bg-color);\n",
              "    box-shadow: 0 1px 2px rgba(60, 64, 67, 0.3), 0 1px 3px 1px rgba(60, 64, 67, 0.15);\n",
              "    fill: var(--button-hover-fill-color);\n",
              "  }\n",
              "\n",
              "  .colab-df-quickchart-complete:disabled,\n",
              "  .colab-df-quickchart-complete:disabled:hover {\n",
              "    background-color: var(--disabled-bg-color);\n",
              "    fill: var(--disabled-fill-color);\n",
              "    box-shadow: none;\n",
              "  }\n",
              "\n",
              "  .colab-df-spinner {\n",
              "    border: 2px solid var(--fill-color);\n",
              "    border-color: transparent;\n",
              "    border-bottom-color: var(--fill-color);\n",
              "    animation:\n",
              "      spin 1s steps(1) infinite;\n",
              "  }\n",
              "\n",
              "  @keyframes spin {\n",
              "    0% {\n",
              "      border-color: transparent;\n",
              "      border-bottom-color: var(--fill-color);\n",
              "      border-left-color: var(--fill-color);\n",
              "    }\n",
              "    20% {\n",
              "      border-color: transparent;\n",
              "      border-left-color: var(--fill-color);\n",
              "      border-top-color: var(--fill-color);\n",
              "    }\n",
              "    30% {\n",
              "      border-color: transparent;\n",
              "      border-left-color: var(--fill-color);\n",
              "      border-top-color: var(--fill-color);\n",
              "      border-right-color: var(--fill-color);\n",
              "    }\n",
              "    40% {\n",
              "      border-color: transparent;\n",
              "      border-right-color: var(--fill-color);\n",
              "      border-top-color: var(--fill-color);\n",
              "    }\n",
              "    60% {\n",
              "      border-color: transparent;\n",
              "      border-right-color: var(--fill-color);\n",
              "    }\n",
              "    80% {\n",
              "      border-color: transparent;\n",
              "      border-right-color: var(--fill-color);\n",
              "      border-bottom-color: var(--fill-color);\n",
              "    }\n",
              "    90% {\n",
              "      border-color: transparent;\n",
              "      border-bottom-color: var(--fill-color);\n",
              "    }\n",
              "  }\n",
              "</style>\n",
              "\n",
              "  <script>\n",
              "    async function quickchart(key) {\n",
              "      const quickchartButtonEl =\n",
              "        document.querySelector('#' + key + ' button');\n",
              "      quickchartButtonEl.disabled = true;  // To prevent multiple clicks.\n",
              "      quickchartButtonEl.classList.add('colab-df-spinner');\n",
              "      try {\n",
              "        const charts = await google.colab.kernel.invokeFunction(\n",
              "            'suggestCharts', [key], {});\n",
              "      } catch (error) {\n",
              "        console.error('Error during call to suggestCharts:', error);\n",
              "      }\n",
              "      quickchartButtonEl.classList.remove('colab-df-spinner');\n",
              "      quickchartButtonEl.classList.add('colab-df-quickchart-complete');\n",
              "    }\n",
              "    (() => {\n",
              "      let quickchartButtonEl =\n",
              "        document.querySelector('#df-8205be33-b0f9-4517-8d42-d3367bb12fa1 button');\n",
              "      quickchartButtonEl.style.display =\n",
              "        google.colab.kernel.accessAllowed ? 'block' : 'none';\n",
              "    })();\n",
              "  </script>\n",
              "</div>\n",
              "    </div>\n",
              "  </div>\n"
            ]
          },
          "metadata": {},
          "execution_count": 17
        }
      ]
    },
    {
      "cell_type": "code",
      "source": [
        "tqdm.pandas()\n",
        "df_test['clean_text'] = df_test['ratings'].apply(clean_sent)\n",
        "df_test['new_stars'] = df_test['labels']\n",
        "df_test"
      ],
      "metadata": {
        "colab": {
          "base_uri": "https://localhost:8080/",
          "height": 423
        },
        "id": "3NOTZlvy3pSv",
        "outputId": "db56bb1d-07e9-440c-93c1-24327ec383e0"
      },
      "execution_count": null,
      "outputs": [
        {
          "output_type": "execute_result",
          "data": {
            "text/plain": [
              "                                               ratings  labels  \\\n",
              "0    The food was absolutely delicious! I couldn't ...       1   \n",
              "1    Excellent service and a charming ambiance. I h...       1   \n",
              "2    This restaurant has a fantastic selection of d...       1   \n",
              "3    The staff is incredibly attentive and friendly...       1   \n",
              "4    I love how they use fresh, high-quality ingred...       1   \n",
              "..                                                 ...     ...   \n",
              "295  The staff was unattentive, and it was hard to ...       0   \n",
              "296  The desserts were too sweet, and it was overwh...       0   \n",
              "297  The food lacked creativity and tasted like gen...       0   \n",
              "298  The restaurant had an insect problem, which wa...       0   \n",
              "299  The server was forgetful and didn't bring all ...       0   \n",
              "\n",
              "                                            clean_text  new_stars  \n",
              "0    the food was absolutely delicious i could not ...          1  \n",
              "1    excellent service and a charming ambiance i ha...          1  \n",
              "2    this restaurant has a fantastic selection of d...          1  \n",
              "3    the staff is incredibly attentive and friendly...          1  \n",
              "4    i love how they use fresh ingredients the flav...          1  \n",
              "..                                                 ...        ...  \n",
              "295  the staff was unattentive and it was hard to g...          0  \n",
              "296  the desserts were too sweet and it was overwhe...          0  \n",
              "297  the food lacked creativity and tasted like gen...          0  \n",
              "298  the restaurant had an insect problem which was...          0  \n",
              "299  the server was forgetful and did not bring all...          0  \n",
              "\n",
              "[300 rows x 4 columns]"
            ],
            "text/html": [
              "\n",
              "  <div id=\"df-8cbce16c-5b94-4014-b5a1-c6fe8f2abdb1\" class=\"colab-df-container\">\n",
              "    <div>\n",
              "<style scoped>\n",
              "    .dataframe tbody tr th:only-of-type {\n",
              "        vertical-align: middle;\n",
              "    }\n",
              "\n",
              "    .dataframe tbody tr th {\n",
              "        vertical-align: top;\n",
              "    }\n",
              "\n",
              "    .dataframe thead th {\n",
              "        text-align: right;\n",
              "    }\n",
              "</style>\n",
              "<table border=\"1\" class=\"dataframe\">\n",
              "  <thead>\n",
              "    <tr style=\"text-align: right;\">\n",
              "      <th></th>\n",
              "      <th>ratings</th>\n",
              "      <th>labels</th>\n",
              "      <th>clean_text</th>\n",
              "      <th>new_stars</th>\n",
              "    </tr>\n",
              "  </thead>\n",
              "  <tbody>\n",
              "    <tr>\n",
              "      <th>0</th>\n",
              "      <td>The food was absolutely delicious! I couldn't ...</td>\n",
              "      <td>1</td>\n",
              "      <td>the food was absolutely delicious i could not ...</td>\n",
              "      <td>1</td>\n",
              "    </tr>\n",
              "    <tr>\n",
              "      <th>1</th>\n",
              "      <td>Excellent service and a charming ambiance. I h...</td>\n",
              "      <td>1</td>\n",
              "      <td>excellent service and a charming ambiance i ha...</td>\n",
              "      <td>1</td>\n",
              "    </tr>\n",
              "    <tr>\n",
              "      <th>2</th>\n",
              "      <td>This restaurant has a fantastic selection of d...</td>\n",
              "      <td>1</td>\n",
              "      <td>this restaurant has a fantastic selection of d...</td>\n",
              "      <td>1</td>\n",
              "    </tr>\n",
              "    <tr>\n",
              "      <th>3</th>\n",
              "      <td>The staff is incredibly attentive and friendly...</td>\n",
              "      <td>1</td>\n",
              "      <td>the staff is incredibly attentive and friendly...</td>\n",
              "      <td>1</td>\n",
              "    </tr>\n",
              "    <tr>\n",
              "      <th>4</th>\n",
              "      <td>I love how they use fresh, high-quality ingred...</td>\n",
              "      <td>1</td>\n",
              "      <td>i love how they use fresh ingredients the flav...</td>\n",
              "      <td>1</td>\n",
              "    </tr>\n",
              "    <tr>\n",
              "      <th>...</th>\n",
              "      <td>...</td>\n",
              "      <td>...</td>\n",
              "      <td>...</td>\n",
              "      <td>...</td>\n",
              "    </tr>\n",
              "    <tr>\n",
              "      <th>295</th>\n",
              "      <td>The staff was unattentive, and it was hard to ...</td>\n",
              "      <td>0</td>\n",
              "      <td>the staff was unattentive and it was hard to g...</td>\n",
              "      <td>0</td>\n",
              "    </tr>\n",
              "    <tr>\n",
              "      <th>296</th>\n",
              "      <td>The desserts were too sweet, and it was overwh...</td>\n",
              "      <td>0</td>\n",
              "      <td>the desserts were too sweet and it was overwhe...</td>\n",
              "      <td>0</td>\n",
              "    </tr>\n",
              "    <tr>\n",
              "      <th>297</th>\n",
              "      <td>The food lacked creativity and tasted like gen...</td>\n",
              "      <td>0</td>\n",
              "      <td>the food lacked creativity and tasted like gen...</td>\n",
              "      <td>0</td>\n",
              "    </tr>\n",
              "    <tr>\n",
              "      <th>298</th>\n",
              "      <td>The restaurant had an insect problem, which wa...</td>\n",
              "      <td>0</td>\n",
              "      <td>the restaurant had an insect problem which was...</td>\n",
              "      <td>0</td>\n",
              "    </tr>\n",
              "    <tr>\n",
              "      <th>299</th>\n",
              "      <td>The server was forgetful and didn't bring all ...</td>\n",
              "      <td>0</td>\n",
              "      <td>the server was forgetful and did not bring all...</td>\n",
              "      <td>0</td>\n",
              "    </tr>\n",
              "  </tbody>\n",
              "</table>\n",
              "<p>300 rows × 4 columns</p>\n",
              "</div>\n",
              "    <div class=\"colab-df-buttons\">\n",
              "\n",
              "  <div class=\"colab-df-container\">\n",
              "    <button class=\"colab-df-convert\" onclick=\"convertToInteractive('df-8cbce16c-5b94-4014-b5a1-c6fe8f2abdb1')\"\n",
              "            title=\"Convert this dataframe to an interactive table.\"\n",
              "            style=\"display:none;\">\n",
              "\n",
              "  <svg xmlns=\"http://www.w3.org/2000/svg\" height=\"24px\" viewBox=\"0 -960 960 960\">\n",
              "    <path d=\"M120-120v-720h720v720H120Zm60-500h600v-160H180v160Zm220 220h160v-160H400v160Zm0 220h160v-160H400v160ZM180-400h160v-160H180v160Zm440 0h160v-160H620v160ZM180-180h160v-160H180v160Zm440 0h160v-160H620v160Z\"/>\n",
              "  </svg>\n",
              "    </button>\n",
              "\n",
              "  <style>\n",
              "    .colab-df-container {\n",
              "      display:flex;\n",
              "      gap: 12px;\n",
              "    }\n",
              "\n",
              "    .colab-df-convert {\n",
              "      background-color: #E8F0FE;\n",
              "      border: none;\n",
              "      border-radius: 50%;\n",
              "      cursor: pointer;\n",
              "      display: none;\n",
              "      fill: #1967D2;\n",
              "      height: 32px;\n",
              "      padding: 0 0 0 0;\n",
              "      width: 32px;\n",
              "    }\n",
              "\n",
              "    .colab-df-convert:hover {\n",
              "      background-color: #E2EBFA;\n",
              "      box-shadow: 0px 1px 2px rgba(60, 64, 67, 0.3), 0px 1px 3px 1px rgba(60, 64, 67, 0.15);\n",
              "      fill: #174EA6;\n",
              "    }\n",
              "\n",
              "    .colab-df-buttons div {\n",
              "      margin-bottom: 4px;\n",
              "    }\n",
              "\n",
              "    [theme=dark] .colab-df-convert {\n",
              "      background-color: #3B4455;\n",
              "      fill: #D2E3FC;\n",
              "    }\n",
              "\n",
              "    [theme=dark] .colab-df-convert:hover {\n",
              "      background-color: #434B5C;\n",
              "      box-shadow: 0px 1px 3px 1px rgba(0, 0, 0, 0.15);\n",
              "      filter: drop-shadow(0px 1px 2px rgba(0, 0, 0, 0.3));\n",
              "      fill: #FFFFFF;\n",
              "    }\n",
              "  </style>\n",
              "\n",
              "    <script>\n",
              "      const buttonEl =\n",
              "        document.querySelector('#df-8cbce16c-5b94-4014-b5a1-c6fe8f2abdb1 button.colab-df-convert');\n",
              "      buttonEl.style.display =\n",
              "        google.colab.kernel.accessAllowed ? 'block' : 'none';\n",
              "\n",
              "      async function convertToInteractive(key) {\n",
              "        const element = document.querySelector('#df-8cbce16c-5b94-4014-b5a1-c6fe8f2abdb1');\n",
              "        const dataTable =\n",
              "          await google.colab.kernel.invokeFunction('convertToInteractive',\n",
              "                                                    [key], {});\n",
              "        if (!dataTable) return;\n",
              "\n",
              "        const docLinkHtml = 'Like what you see? Visit the ' +\n",
              "          '<a target=\"_blank\" href=https://colab.research.google.com/notebooks/data_table.ipynb>data table notebook</a>'\n",
              "          + ' to learn more about interactive tables.';\n",
              "        element.innerHTML = '';\n",
              "        dataTable['output_type'] = 'display_data';\n",
              "        await google.colab.output.renderOutput(dataTable, element);\n",
              "        const docLink = document.createElement('div');\n",
              "        docLink.innerHTML = docLinkHtml;\n",
              "        element.appendChild(docLink);\n",
              "      }\n",
              "    </script>\n",
              "  </div>\n",
              "\n",
              "\n",
              "<div id=\"df-fd7c4a23-b528-42ee-85ca-b4909716e21b\">\n",
              "  <button class=\"colab-df-quickchart\" onclick=\"quickchart('df-fd7c4a23-b528-42ee-85ca-b4909716e21b')\"\n",
              "            title=\"Suggest charts.\"\n",
              "            style=\"display:none;\">\n",
              "\n",
              "<svg xmlns=\"http://www.w3.org/2000/svg\" height=\"24px\"viewBox=\"0 0 24 24\"\n",
              "     width=\"24px\">\n",
              "    <g>\n",
              "        <path d=\"M19 3H5c-1.1 0-2 .9-2 2v14c0 1.1.9 2 2 2h14c1.1 0 2-.9 2-2V5c0-1.1-.9-2-2-2zM9 17H7v-7h2v7zm4 0h-2V7h2v10zm4 0h-2v-4h2v4z\"/>\n",
              "    </g>\n",
              "</svg>\n",
              "  </button>\n",
              "\n",
              "<style>\n",
              "  .colab-df-quickchart {\n",
              "      --bg-color: #E8F0FE;\n",
              "      --fill-color: #1967D2;\n",
              "      --hover-bg-color: #E2EBFA;\n",
              "      --hover-fill-color: #174EA6;\n",
              "      --disabled-fill-color: #AAA;\n",
              "      --disabled-bg-color: #DDD;\n",
              "  }\n",
              "\n",
              "  [theme=dark] .colab-df-quickchart {\n",
              "      --bg-color: #3B4455;\n",
              "      --fill-color: #D2E3FC;\n",
              "      --hover-bg-color: #434B5C;\n",
              "      --hover-fill-color: #FFFFFF;\n",
              "      --disabled-bg-color: #3B4455;\n",
              "      --disabled-fill-color: #666;\n",
              "  }\n",
              "\n",
              "  .colab-df-quickchart {\n",
              "    background-color: var(--bg-color);\n",
              "    border: none;\n",
              "    border-radius: 50%;\n",
              "    cursor: pointer;\n",
              "    display: none;\n",
              "    fill: var(--fill-color);\n",
              "    height: 32px;\n",
              "    padding: 0;\n",
              "    width: 32px;\n",
              "  }\n",
              "\n",
              "  .colab-df-quickchart:hover {\n",
              "    background-color: var(--hover-bg-color);\n",
              "    box-shadow: 0 1px 2px rgba(60, 64, 67, 0.3), 0 1px 3px 1px rgba(60, 64, 67, 0.15);\n",
              "    fill: var(--button-hover-fill-color);\n",
              "  }\n",
              "\n",
              "  .colab-df-quickchart-complete:disabled,\n",
              "  .colab-df-quickchart-complete:disabled:hover {\n",
              "    background-color: var(--disabled-bg-color);\n",
              "    fill: var(--disabled-fill-color);\n",
              "    box-shadow: none;\n",
              "  }\n",
              "\n",
              "  .colab-df-spinner {\n",
              "    border: 2px solid var(--fill-color);\n",
              "    border-color: transparent;\n",
              "    border-bottom-color: var(--fill-color);\n",
              "    animation:\n",
              "      spin 1s steps(1) infinite;\n",
              "  }\n",
              "\n",
              "  @keyframes spin {\n",
              "    0% {\n",
              "      border-color: transparent;\n",
              "      border-bottom-color: var(--fill-color);\n",
              "      border-left-color: var(--fill-color);\n",
              "    }\n",
              "    20% {\n",
              "      border-color: transparent;\n",
              "      border-left-color: var(--fill-color);\n",
              "      border-top-color: var(--fill-color);\n",
              "    }\n",
              "    30% {\n",
              "      border-color: transparent;\n",
              "      border-left-color: var(--fill-color);\n",
              "      border-top-color: var(--fill-color);\n",
              "      border-right-color: var(--fill-color);\n",
              "    }\n",
              "    40% {\n",
              "      border-color: transparent;\n",
              "      border-right-color: var(--fill-color);\n",
              "      border-top-color: var(--fill-color);\n",
              "    }\n",
              "    60% {\n",
              "      border-color: transparent;\n",
              "      border-right-color: var(--fill-color);\n",
              "    }\n",
              "    80% {\n",
              "      border-color: transparent;\n",
              "      border-right-color: var(--fill-color);\n",
              "      border-bottom-color: var(--fill-color);\n",
              "    }\n",
              "    90% {\n",
              "      border-color: transparent;\n",
              "      border-bottom-color: var(--fill-color);\n",
              "    }\n",
              "  }\n",
              "</style>\n",
              "\n",
              "  <script>\n",
              "    async function quickchart(key) {\n",
              "      const quickchartButtonEl =\n",
              "        document.querySelector('#' + key + ' button');\n",
              "      quickchartButtonEl.disabled = true;  // To prevent multiple clicks.\n",
              "      quickchartButtonEl.classList.add('colab-df-spinner');\n",
              "      try {\n",
              "        const charts = await google.colab.kernel.invokeFunction(\n",
              "            'suggestCharts', [key], {});\n",
              "      } catch (error) {\n",
              "        console.error('Error during call to suggestCharts:', error);\n",
              "      }\n",
              "      quickchartButtonEl.classList.remove('colab-df-spinner');\n",
              "      quickchartButtonEl.classList.add('colab-df-quickchart-complete');\n",
              "    }\n",
              "    (() => {\n",
              "      let quickchartButtonEl =\n",
              "        document.querySelector('#df-fd7c4a23-b528-42ee-85ca-b4909716e21b button');\n",
              "      quickchartButtonEl.style.display =\n",
              "        google.colab.kernel.accessAllowed ? 'block' : 'none';\n",
              "    })();\n",
              "  </script>\n",
              "</div>\n",
              "    </div>\n",
              "  </div>\n"
            ]
          },
          "metadata": {},
          "execution_count": 18
        }
      ]
    },
    {
      "cell_type": "markdown",
      "source": [
        "# ‌Build Vocabulary for the data set"
      ],
      "metadata": {
        "id": "kNXZXgFE59mR"
      }
    },
    {
      "cell_type": "markdown",
      "source": [
        "In this section, we write a function to create a vocabulary for a given data set. To this aim, each word should be mapped to unique index."
      ],
      "metadata": {
        "id": "6uja7TbNU-eK"
      }
    },
    {
      "cell_type": "code",
      "source": [
        "def build_vocab(df, min_freq):\n",
        "  word2index ={}\n",
        "  index2word = {}\n",
        "  word_count ={}\n",
        "  index2word[0] = '<PAD>'\n",
        "  index2word[1] = '<UNK>'\n",
        "\n",
        "  word2index['<PAD>'] = 0\n",
        "  word2index['<UNK>'] = 1\n",
        "  sentences = df['clean_text'].to_list()\n",
        "  for sent in sentences:\n",
        "    tokens = sent.split()\n",
        "    for token in tokens:\n",
        "      if  not (token in word_count):\n",
        "        word_count[token] =1\n",
        "      else:\n",
        "        word_count[token]+=1\n",
        "  index =2\n",
        "  for word in word_count:\n",
        "    if word_count[word]>=min_freq:\n",
        "      index2word[index] = word\n",
        "      word2index[word] = index\n",
        "      index+=1\n",
        "  return word2index, index2word, word_count"
      ],
      "metadata": {
        "id": "Dta9Zp2K1bTV"
      },
      "execution_count": null,
      "outputs": []
    },
    {
      "cell_type": "code",
      "source": [
        "from sklearn.model_selection import train_test_split\n",
        "df_train, df_val = train_test_split(df_new, test_size=0.3, shuffle=True, random_state=123)"
      ],
      "metadata": {
        "id": "DYdtlFxjY2j2"
      },
      "execution_count": null,
      "outputs": []
    },
    {
      "cell_type": "code",
      "source": [
        "#We have to build vocabulary based on the train sentences\n",
        "min_freq = 4\n",
        "word2index, index2word, word_count = build_vocab(df_train, min_freq)"
      ],
      "metadata": {
        "id": "YN80aGQZd_FD"
      },
      "execution_count": null,
      "outputs": []
    },
    {
      "cell_type": "code",
      "source": [
        "print(len(word2index))"
      ],
      "metadata": {
        "colab": {
          "base_uri": "https://localhost:8080/"
        },
        "id": "JXYBaNieeS0w",
        "outputId": "d4718c58-e5d1-40de-c0bf-e0b6891a0ee4"
      },
      "execution_count": null,
      "outputs": [
        {
          "output_type": "stream",
          "name": "stdout",
          "text": [
            "8604\n"
          ]
        }
      ]
    },
    {
      "cell_type": "code",
      "source": [
        "print(index2word)"
      ],
      "metadata": {
        "colab": {
          "base_uri": "https://localhost:8080/"
        },
        "id": "jg--H7XReVlW",
        "outputId": "2a373108-8f6f-4bf6-9a6b-c672a51d596f"
      },
      "execution_count": null,
      "outputs": [
        {
          "output_type": "stream",
          "name": "stdout",
          "text": [
            "{0: '<PAD>', 1: '<UNK>', 2: 'my', 3: 'wife', 4: 'and', 5: 'i', 6: 'went', 7: 'here', 8: 'sat', 9: 'on', 10: 'the', 11: 'patio', 12: 'near', 13: 'canal', 14: 'temperature', 15: 'was', 16: 'perfect', 17: 'for', 18: 'being', 19: 'outside', 20: 'view', 21: 'of', 22: 'camelback', 23: 'sublime', 24: 'only', 25: 'complaint', 26: 'about', 27: 'seating', 28: 'it', 29: 'difficult', 30: 'to', 31: 'read', 32: 'our', 33: 'menus', 34: 'when', 35: 'we', 36: 'were', 37: 'there', 38: 'in', 39: 'evening', 40: 'waiter', 41: 'friendly', 42: 'helpful', 43: 'chicken', 44: 'salad', 45: 'sandwich', 46: 'had', 47: 'very', 48: 'good', 49: 'loved', 50: 'burger', 51: 'she', 52: 'ordered', 53: 'all', 54: 'a', 55: 'nice', 56: 'relaxing', 57: 'sunday', 58: 'dinner', 59: 'brunch', 60: 'at', 61: 'el', 62: 'today', 63: 'wonderful', 64: 'comfortable', 65: 'with', 66: 'umbrellas', 67: 'heaters', 68: 'service', 69: 'outstanding', 70: 'food', 71: 'delicious', 72: 'creme', 73: 'brulee', 74: 'french', 75: 'toast', 76: 'heaven', 77: 'everyone', 78: 'else', 79: 'enjoyed', 80: 'their', 81: 'eggs', 82: 'benedict', 83: 'came', 84: 'out', 85: 'blt', 86: 'looked', 87: 'awesome', 88: 'fries', 89: 'will', 90: 'definitely', 91: 'be', 92: 'back', 93: 'love', 94: 'this', 95: 'place', 96: 'tasty', 97: 'great', 98: 'prices', 99: 'who', 100: 'can', 101: 'beat', 102: 'that', 103: 'newest', 104: 'thing', 105: 'is', 106: 'order', 107: 'enjoy', 108: 'home', 109: 'am', 110: 'mom', 111: 'now', 112: 'so', 113: 'eating', 114: 'restaurant', 115: 'lot', 116: 'harder', 117: 'than', 118: 'used', 119: 'haha', 120: 'see', 121: 'ya', 122: 'if', 123: 'could', 124: 'give', 125: 'stars', 126: 'would', 127: 'but', 128: 'because', 129: 'have', 130: 'been', 131: 'joe', 132: 'real', 133: 'bbq', 134: 'know', 135: 'how', 136: 'famous', 137: 'dave', 138: 'fine', 139: 'are', 140: 'two', 141: 'them', 142: 'both', 143: 'they', 144: 'visited', 145: 'one', 146: 'chandler', 147: 'mall', 148: 'lunch', 149: 'off', 150: 'menu', 151: 'brisket', 152: 'beans', 153: 'not', 154: 'ok', 155: 'meat', 156: 'itself', 157: 'did', 158: 'seem', 159: 'smoked', 160: 'has', 161: 'certain', 162: 'look', 163: 'taste', 164: 'just', 165: 'frankly', 166: 'seemed', 167: 'sorta', 168: 'pale', 169: 'as', 170: 'boiled', 171: 'instead', 172: 'grilled', 173: 'or', 174: 'either', 175: 'sauce', 176: 'excessively', 177: 'salty', 178: 'severe', 179: 'returned', 180: 'noticeable', 181: 'salt', 182: 'should', 183: 'enhance', 184: 'flavor', 185: 'stand', 186: 'major', 187: 'note', 188: 'examined', 189: 'sale', 190: 'bottles', 191: 'you', 192: 'buy', 193: 'take', 194: 'use', 195: 'brown', 196: 'sugar', 197: 'most', 198: 'chefs', 199: 'no', 200: 'high', 201: 'corn', 202: 'syrup', 203: 'yuck', 204: 'besides', 205: 'stuff', 206: 'poison', 207: 'your', 208: 'right', 209: 'done', 210: 'anyway', 211: 'really', 212: 'nothing', 213: 'special', 214: 'authentic', 215: 'given', 216: 'choice', 217: 'want', 218: 'some', 219: 'nowhere', 220: 'do', 221: 'beats', 222: 'heck', 223: 'tom', 224: 'sure', 225: 'review', 226: 'truly', 227: 'awful', 228: 'pretty', 229: 'reviews', 230: 'golf', 231: 'course', 232: 'its', 233: 'self', 234: 'an', 235: 'easy', 236: 'star', 237: 'based', 238: 'price', 239: 'condition', 240: 'customer', 241: 'bother', 242: 'trying', 243: 'pro', 244: 'shop', 245: 'staff', 246: 'these', 247: 'folks', 248: 'going', 249: 'through', 250: 'taking', 251: 'money', 252: 'doing', 253: 'least', 254: 'possible', 255: 'get', 256: 'paycheck', 257: 'since', 258: 'such', 259: 'value', 260: 'people', 261: 'continue', 262: 'flock', 263: 'needing', 264: 'hire', 265: 'any', 266: 'time', 267: 'future', 268: 'front', 269: 'cart', 270: 'girl', 271: 'lady', 272: 'working', 273: 'snack', 274: 'shack', 275: 'another', 276: 'impress', 277: 'me', 278: 'walk', 279: 'told', 280: 'already', 281: 'carts', 282: 'group', 283: 'able', 284: 'own', 285: 'riding', 286: 'person', 287: 'don', 288: 't', 289: 'skills', 290: 'lack', 291: 'turned', 292: 'okay', 293: 'struck', 294: 'odd', 295: 'go', 296: 'hate', 297: 'bad', 298: 'behavior', 299: 'absolutely', 300: 'sub', 301: 'over', 302: 'years', 303: 'never', 304: 'tired', 305: 'owner', 306: 'he', 307: 'cares', 308: 'must', 309: 'thier', 310: 'new', 311: 'wave', 312: 'night', 313: 'drink', 314: 'hard', 315: 'find', 316: 'somewhere', 317: 'gay', 318: 'sober', 319: 'music', 320: 'ratio', 321: 'straight', 322: 'like', 323: 'what', 324: 'hang', 325: 'fact', 326: 'care', 327: 'also', 328: 'pool', 329: 'table', 330: 'wich', 331: 'rare', 332: 'clubs', 333: 'az', 334: 'liked', 335: 'set', 336: 'restored', 337: 'bungalow', 338: 'cibo', 339: 'pronounced', 340: 'hardwood', 341: 'floors', 342: 'exposed', 343: 'brick', 344: 'panel', 345: 'fireplace', 346: 'mood', 347: 'while', 348: 'downtown', 349: 'phoenix', 350: 'area', 351: 'beautiful', 352: 'salads', 353: 'antipasto', 354: 'pizzas', 355: 'fresh', 356: 'pasta', 357: 'flew', 358: 'business', 359: 'wednesday', 360: 'friends', 361: 'picked', 362: 'up', 363: 'decided', 364: 'bat', 365: 'impressed', 366: 'ambiance', 367: 'every', 368: 'corner', 369: 'romantic', 370: 'small', 371: 'parties', 372: 'seated', 373: 'four', 374: 'server', 375: 'well', 376: 'wine', 377: 'list', 378: 'away', 379: 'offered', 380: 'appetizer', 381: 'ideas', 382: 'offerings', 383: 'bottle', 384: 'pair', 385: 'little', 386: 'gem', 387: 'cutting', 388: 'board', 389: 'type', 390: 'platter', 391: 'three', 392: 'slices', 393: 'each', 394: 'having', 395: 'different', 396: 'topping', 397: 'first', 398: 'grape', 399: 'tomatoes', 400: 'basil', 401: 'second', 402: 'third', 403: 'prosciutto', 404: 'crudo', 405: 'mozzarella', 406: 'ah', 407: 'ing', 408: 'feeling', 409: 'super', 410: 'adventurous', 411: 'meal', 412: 'pizza', 413: 'average', 414: 'say', 415: 'inventive', 416: 'presentation', 417: 'though', 418: 'five', 419: 'furniture', 420: 'from', 421: 'fantastic', 422: 'spent', 423: 'better', 424: 'part', 425: 'month', 426: 'looking', 427: 'tv', 428: 'living', 429: 'room', 430: 'everything', 431: 'across', 432: 'cheap', 433: 'stumbled', 434: 'sweet', 435: 'potatoes', 436: 'way', 437: 'local', 438: 'store', 439: 'extremely', 440: 'found', 441: 'couple', 442: 'things', 443: 'size', 444: 'needed', 445: 'us', 446: 'pieces', 447: 'locally', 448: 'made', 449: 'call', 450: 'custom', 451: 'make', 452: 'agree', 453: 'dollars', 454: 'less', 455: 'anything', 456: 'received', 457: 'piece', 458: 'happier', 459: 'groceries', 460: 'keep', 461: 'too', 462: 'shabby', 463: 'decent', 464: 'drinks', 465: 'plate', 466: 'standard', 467: 'beet', 468: 'many', 469: 'beets', 470: 'more', 471: 'lettuce', 472: 'think', 473: 'wanting', 474: 'highlight', 475: 'whole', 476: 'squishy', 477: 'bread', 478: 'cheese', 479: 'big', 480: 'negative', 481: 'soggy', 482: 'center', 483: 'other', 484: 'complaints', 485: 'fruit', 486: 'best', 487: 'sausage', 488: 'typical', 489: 'margarita', 490: 'winner', 491: 'thought', 492: 'rubbery', 493: 'seafood', 494: 'tiramisu', 495: 'pine', 496: 'nut', 497: 'brittle', 498: 'chocolate', 499: 'cake', 500: 'neighborhood', 501: 'breakfast', 502: 'joint', 503: 'building', 504: 'turnover', 505: 'businesses', 506: 'location', 507: 'busy', 508: 'took', 509: 'bit', 510: 'refills', 511: 'coffee', 512: 'need', 513: 'bigger', 514: 'cups', 515: 'minutes', 516: 'longer', 517: 'worries', 518: 'standing', 519: 'by', 520: 'watching', 521: 'run', 522: 'around', 523: 'chickens', 524: 'heads', 525: 'cut', 526: 'serving', 527: 'clearing', 528: 'plates', 529: 'filling', 530: 'huge', 531: 'quite', 532: 'few', 533: 'items', 534: 'interested', 535: 'funny', 536: 'hubby', 537: 'ended', 538: 'ordering', 539: 'bacon', 540: 'realize', 541: 'until', 542: 'after', 543: 'finished', 544: 'try', 545: 'known', 546: 'jalapeno', 547: 'anyone', 548: 'ranch', 549: 'market', 550: 'atmosphere', 551: 'produce', 552: 'reasonable', 553: 'civiche', 554: 'excellent', 555: 'down', 556: 'appear', 557: 'filled', 558: 'grocery', 559: 'packaged', 560: 'foods', 561: 'makes', 562: 'advice', 563: 'fresca', 564: 'bar', 565: 'past', 566: 'bakery', 567: 'door', 568: 'pick', 569: 'favorite', 570: 'head', 571: 'grill', 572: 'carne', 573: 'asada', 574: 'street', 575: 'tacos', 576: 'save', 577: 'where', 578: 'shrimp', 579: 'ceviche', 580: 'reasonably', 581: 'usually', 582: 'half', 583: 'pound', 584: 'regular', 585: 'eat', 586: 'tostada', 587: 'rest', 588: 'next', 589: 'day', 590: 'yummy', 591: 'belly', 592: 'stop', 593: 'tortilla', 594: 'factory', 595: 'tortillas', 596: 'forget', 597: 'hit', 598: 'hot', 599: 'cream', 600: 'churro', 601: 'desert', 602: 'fave', 603: 'places', 604: 'stocked', 605: 'normally', 606: 'peruse', 607: 'dvds', 608: 'tend', 609: 'pricey', 610: 'border', 611: 'became', 612: 'fairly', 613: 'dvd', 614: 'paid', 615: 'bucks', 616: 'seen', 617: 'anywhere', 618: 'before', 619: 'much', 620: 'appreciate', 621: 'political', 622: 'alone', 623: 'worth', 624: 'paying', 625: 'even', 626: 'rang', 627: 'purchase', 628: 'knowledgable', 629: 'letting', 630: 'director', 631: 'film', 632: 'come', 633: 'put', 634: 'floor', 635: 'yet', 636: 'called', 637: 'someone', 638: 'open', 639: 'box', 640: 'bring', 641: 'copy', 642: 'bought', 643: 'patronize', 644: 'borders', 645: 'book', 646: 'japanese', 647: 'guaranteed', 648: 'original', 649: 'closest', 650: 'japan', 651: 'sushi', 652: 'soooo', 653: 'always', 654: 'carry', 655: 'available', 656: 'uni', 657: 'octopus', 658: 'ramen', 659: 'superb', 660: 'check', 661: 'offer', 662: 'lots', 663: 'variety', 664: 'arrived', 665: 'line', 666: 'opening', 667: 'ahead', 668: 'clear', 669: 'round', 670: 'placed', 671: 'name', 672: 'apps', 673: 'goat', 674: 'crostini', 675: 'wait', 676: 'pleasant', 677: 'kept', 678: 'updated', 679: 'hour', 680: 'fifteen', 681: 'seat', 682: 'started', 683: 'wood', 684: 'roasted', 685: 'vegetables', 686: 'bite', 687: 'then', 688: 'margherita', 689: 'tomato', 690: 'topped', 691: 'mushrooms', 692: 'rosa', 693: 'red', 694: 'onion', 695: 'parmigiano', 696: 'reggiano', 697: 'rosemary', 698: 'pistachios', 699: 'wiseguy', 700: 'house', 701: 'fennel', 702: 'salami', 703: 'biancoverde', 704: 'ricotta', 705: 'arugula', 706: 'added', 707: 'di', 708: 'pei', 709: 'wei', 710: 'consistant', 711: 'orders', 712: 'correct', 713: 'clean', 714: 'wish', 715: 'parking', 716: 'starbucks', 717: 'sidebar', 718: 'cars', 719: 'larger', 720: 'happening', 721: 'rating', 722: 'hut', 723: 'gross', 724: 'sandwiches', 725: 'wings', 726: 'fiance', 727: 'loves', 728: 'early', 729: 'soon', 730: 'eh', 731: 'lukewarm', 732: 'feelings', 733: 'exceedingly', 734: 'slow', 735: 'asked', 736: 'question', 737: 'may', 738: 'expectations', 739: 'hip', 740: 'modern', 741: 'decor', 742: 'large', 743: 'portions', 744: 'squid', 745: 'bowl', 746: 'returning', 747: 'those', 748: 'bathrooms', 749: 'piss', 750: 'soaked', 751: 'smell', 752: 'dining', 753: 'wrong', 754: 'iced', 755: 'gingerbread', 756: 'latte', 757: 'waffle', 758: 'nutella', 759: 'spread', 760: 'free', 761: 'especially', 762: 'shared', 763: 'tonight', 764: 'grand', 765: 'glorious', 766: 'breaking', 767: 'his', 768: 'diet', 769: 'houston', 770: 'forward', 771: 'scottsdale', 772: 'nights', 773: 'smoothly', 774: 'management', 775: 'met', 776: 'gin', 777: 'tonic', 778: 'strong', 779: 'extensive', 780: 'prefer', 781: 'vino', 782: 'headed', 783: 'far', 784: 'fresher', 785: 'e', 786: 'cheeses', 787: 'including', 788: 'chunks', 789: 'parm', 790: 'salmon', 791: 'sun', 792: 'dried', 793: 'olives', 794: 'marinated', 795: 'bell', 796: 'peppers', 797: 'asparagus', 798: 'mushroom', 799: 'caps', 800: 'beef', 801: 'cuts', 802: 'ancho', 803: 'rib', 804: 'eye', 805: 'classic', 806: 'sirloin', 807: 'moon', 808: 'shape', 809: 'garlic', 810: 'pork', 811: 'ribs', 812: 'juicy', 813: 'flavorful', 814: 'tad', 815: 'dry', 816: 'lamb', 817: 'liking', 818: 'side', 819: 'dishes', 820: 'brought', 821: 'appropriately', 822: 'modest', 823: 'squares', 824: 'polenta', 825: 'which', 826: 'mildly', 827: 'mashed', 828: 'fried', 829: 'plantains', 830: 'dessert', 831: 'choices', 832: 'flan', 833: 'types', 834: 'cheesecake', 835: 'wanted', 836: 'papaya', 837: 'de', 838: 'liqueur', 839: 'runny', 840: 'subtle', 841: 'top', 842: 'rather', 843: 'unnecessary', 844: 'valet', 845: 'surrounding', 846: 'however', 847: 'double', 848: 'parked', 849: 'per', 850: 'occasions', 851: 'tricks', 852: 'occasion', 853: 'seeing', 854: 'bill', 855: 'appreciated', 856: 'deal', 857: 'scallops', 858: 'app', 859: 'expected', 860: 'ones', 861: 'ever', 862: 'ahi', 863: 'tuna', 864: 'finish', 865: 'date', 866: 'hesitate', 867: 'setting', 868: 'except', 869: 'concrete', 870: 'wall', 871: 'sitting', 872: 'tables', 873: 'comes', 874: 'elbows', 875: 'crawling', 876: 'kind', 877: 'uncomfortable', 878: 'young', 879: 'guy', 880: 'washed', 881: 'shirt', 882: 'times', 883: 'wearing', 884: 'again', 885: 'otherwise', 886: 'cool', 887: 'sort', 888: 'sense', 889: 'hurry', 890: 'does', 891: 'guys', 892: 'events', 893: 'watch', 894: 'sports', 895: 'teriyaki', 896: 'habenero', 897: 'sauces', 898: 'monthly', 899: 'beer', 900: 'specials', 901: 'tall', 902: 'domestic', 903: 'property', 904: 'ago', 905: 'renovation', 906: 'finally', 907: 'chance', 908: 'stay', 909: 'studio', 910: 'weekend', 911: 'treat', 912: 'girlfriend', 913: 'vegas', 914: 'tempting', 915: 'drive', 916: 'eats', 917: 'same', 918: 'discounted', 919: 'fuel', 920: 'gorgeous', 921: 'suite', 922: 'valley', 923: 'ho', 924: 'fast', 925: 'lines', 926: 'bullshit', 927: 'resort', 928: 'fees', 929: 'personable', 930: 'behind', 931: 'counter', 932: 'unique', 933: 'sea', 934: 'cookie', 935: 'cutter', 936: 'resorts', 937: 'spin', 938: 'american', 939: 'style', 940: 'welcome', 941: 'change', 942: 'pace', 943: 'details', 944: 'hotel', 945: 'stayed', 946: 'grounds', 947: 'immaculate', 948: 'patrons', 949: 'sized', 950: 'tub', 951: 'useful', 952: 'bed', 953: 'shower', 954: 'dug', 955: 'sliding', 956: 'glass', 957: 'doors', 958: 'fall', 959: 'morning', 960: 'colors', 961: 'lamps', 962: 'bright', 963: 'nasty', 964: 'color', 965: 'thankfully', 966: 'lighting', 967: 'ceiling', 968: 'starting', 969: 'worse', 970: 'wear', 971: 'joints', 972: 'water', 973: 'stains', 974: 'flat', 975: 'leak', 976: 'system', 977: 'ala', 978: 'rock', 979: 'addition', 980: 'birds', 981: 'unbeatable', 982: 'short', 983: 'old', 984: 'town', 985: 'fashion', 986: 'square', 987: 'block', 988: 'etc', 989: 'enough', 990: 'bars', 991: 'quiet', 992: 'main', 993: 'probably', 994: 'worthwhile', 995: 'district', 996: 'disappoints', 997: 'takes', 998: 'advantage', 999: 'escape', 1000: 'tried', 1001: 'sooner', 1002: 'indian', 1003: 'converted', 1004: 'buffet', 1005: 'companions', 1006: 'refusing', 1007: 'tell', 1008: 'spot', 1009: 'work', 1010: 'rotation', 1011: 'mission', 1012: 'figure', 1013: 'whether', 1014: 'jewel', 1015: 'acceptable', 1016: 'haunts', 1017: 'route', 1018: 'garage', 1019: 'maze', 1020: 'structure', 1021: 'travel', 1022: 'combination', 1023: 'array', 1024: 'metal', 1025: 'containers', 1026: 'hope', 1027: 'majority', 1028: 'rules', 1029: 'fuego', 1030: 'bistro', 1031: 'favorites', 1032: 'recommended', 1033: 'boyfriend', 1034: 'week', 1035: 'reservation', 1036: 'welcoming', 1037: 'matt', 1038: 'mai', 1039: 'tai', 1040: 'sangria', 1041: 'refreshing', 1042: 'ready', 1043: 'waitress', 1044: 'gave', 1045: 'suggestions', 1046: 'options', 1047: 'mind', 1048: 'got', 1049: 'pomegranate', 1050: 'mojito', 1051: 'orange', 1052: 'starters', 1053: 'signature', 1054: 'empanadas', 1055: 'focus', 1056: 'preferred', 1057: 'inside', 1058: 'sauteed', 1059: 'prawns', 1060: 'entrees', 1061: 'cola', 1062: 'braised', 1063: 'amazing', 1064: 'tender', 1065: 'fatty', 1066: 'asado', 1067: 'shredded', 1068: 'sides', 1069: 'green', 1070: 'chili', 1071: 'cornbread', 1072: 'casserole', 1073: 'drier', 1074: 'imagined', 1075: 'maple', 1076: 'carrots', 1077: 'glaze', 1078: 'baby', 1079: 'creamed', 1080: 'pleasantly', 1081: 'surprised', 1082: 'chipotle', 1083: 'cheddar', 1084: 'point', 1085: 'knew', 1086: 'rolled', 1087: 'chip', 1088: 'pudding', 1089: 'scoops', 1090: 'crisp', 1091: 'ice', 1092: 'bites', 1093: 'banana', 1094: 'burrito', 1095: 'exactly', 1096: 'picture', 1097: 'icecream', 1098: 'charming', 1099: 'something', 1100: 'melted', 1101: 'bones', 1102: 'filet', 1103: 'mouth', 1104: 'remember', 1105: 'party', 1106: 'son', 1107: 'loaf', 1108: 'left', 1109: 'desired', 1110: 'b', 1111: 'hi', 1112: 'end', 1113: 'pricing', 1114: 'hey', 1115: 'visit', 1116: 'last', 1117: 'long', 1118: 'surprise', 1119: 'request', 1120: 'butter', 1121: 'teenage', 1122: 'daughter', 1123: 'ran', 1124: 'toilet', 1125: 'paper', 1126: 'problem', 1127: 'towels', 1128: 'days', 1129: 'yeah', 1130: 'mess', 1131: 'fixed', 1132: 'camera', 1133: 'thru', 1134: 'pipes', 1135: 'maybe', 1136: 'problems', 1137: 'quote', 1138: 'between', 1139: 'eight', 1140: 'thousand', 1141: 'repair', 1142: 'job', 1143: 'hand', 1144: 'yep', 1145: 'expensive', 1146: 'guess', 1147: 'extra', 1148: 'woman', 1149: 'answers', 1150: 'phone', 1151: 'impressive', 1152: 'her', 1153: 'info', 1154: 'said', 1155: 'rude', 1156: 'turn', 1157: 'entered', 1158: 'fit', 1159: 'older', 1160: 'dated', 1161: 'couches', 1162: 'needless', 1163: 'coming', 1164: 'friday', 1165: 'husband', 1166: 'dirty', 1167: 'martini', 1168: 'olive', 1169: 'juice', 1170: 'actually', 1171: 'wth', 1172: 'life', 1173: 'sent', 1174: 'heirloom', 1175: 'pet', 1176: 'peeve', 1177: 'expect', 1178: 'season', 1179: 'charge', 1180: 'plain', 1181: 'parmesan', 1182: 'fairness', 1183: 'let', 1184: 'serious', 1185: 'grated', 1186: 'soy', 1187: 'ketchup', 1188: 'kidding', 1189: 'talking', 1190: 'shaker', 1191: 'add', 1192: 'none', 1193: 'ask', 1194: 'afraid', 1195: 'start', 1196: 'quick', 1197: 'cheeseburger', 1198: 'theirs', 1199: 'teas', 1200: 'choose', 1201: 'omelet', 1202: 'station', 1203: 'suggest', 1204: 'chorizo', 1205: 'egg', 1206: 'burritos', 1207: 'happy', 1208: 'daily', 1209: 'knowledgeable', 1210: 'highly', 1211: 'recommend', 1212: 'antique', 1213: 'shops', 1214: 'city', 1215: 'wide', 1216: 'selection', 1217: 'booths', 1218: 'match', 1219: 'boxes', 1220: 'cute', 1221: 'purses', 1222: 'hats', 1223: 'cameras', 1224: 'toys', 1225: 'decently', 1226: 'priced', 1227: 'mainly', 1228: 'light', 1229: 'snacks', 1230: 'during', 1231: 'soft', 1232: 'posted', 1233: 'grab', 1234: 'manhattan', 1235: 'bartenders', 1236: 'sit', 1237: 'shake', 1238: 'showed', 1239: 'comped', 1240: 'warm', 1241: 'nuts', 1242: 'mixed', 1243: 'warmed', 1244: 'herbs', 1245: 'believe', 1246: 'feels', 1247: 'designing', 1248: 'space', 1249: 'mongolian', 1250: 'dragon', 1251: 'family', 1252: 'dentist', 1253: 'handle', 1254: 'situation', 1255: 'throw', 1256: 'him', 1257: 'tvs', 1258: 'exceptional', 1259: 'goodness', 1260: 'flight', 1261: 'decide', 1262: 'tamales', 1263: 'sampler', 1264: 'yes', 1265: 'loooong', 1266: 'peak', 1267: 'kitchen', 1268: 'workers', 1269: 'man', 1270: 'entertain', 1271: 'cook', 1272: 'typically', 1273: 'bored', 1274: 'quality', 1275: 'ingredients', 1276: 'tapas', 1277: 'reasons', 1278: 'constantly', 1279: 'item', 1280: 'others', 1281: 'worst', 1282: 'kinds', 1283: 'sol', 1284: 'y', 1285: 'eateries', 1286: 'cocktail', 1287: 'safeway', 1288: 'barista', 1289: 'dj', 1290: 'vibe', 1291: 'servers', 1292: 'wise', 1293: 'twist', 1294: 'cucumber', 1295: 'lemon', 1296: 'thumbs', 1297: 'medical', 1298: 'practice', 1299: 'attention', 1300: 'detail', 1301: 'hardly', 1302: 'doctor', 1303: 'office', 1304: 'anymore', 1305: 'ross', 1306: 'tremendous', 1307: 'relief', 1308: 'chiropractic', 1309: 'treatment', 1310: 'works', 1311: 'tissue', 1312: 'anyways', 1313: 'listens', 1314: 'body', 1315: 'unlike', 1316: 'doctors', 1317: 'speak', 1318: 'saw', 1319: 'blood', 1320: 'please', 1321: 'suggested', 1322: 'supplements', 1323: 'learned', 1324: 'pleased', 1325: 'children', 1326: 'feel', 1327: 'tons', 1328: 'mickey', 1329: 'mouse', 1330: 'figures', 1331: 'videos', 1332: 'nurses', 1333: 'appointment', 1334: 'bathroom', 1335: 'meh', 1336: 'particularly', 1337: 'memorable', 1338: 'eaten', 1339: 'asu', 1340: 'walking', 1341: 'starving', 1342: 'cookies', 1343: 'jones', 1344: 'soda', 1345: 'black', 1346: 'cherry', 1347: 'kicked', 1348: 'ass', 1349: 'warning', 1350: 'roast', 1351: 'horseradish', 1352: 'mother', 1353: 'spice', 1354: 'almost', 1355: 'nose', 1356: 'into', 1357: 'snotty', 1358: 'waterfall', 1359: 'becca', 1360: 'boy', 1361: 'haircut', 1362: 'moved', 1363: 'months', 1364: 'canyon', 1365: 'falls', 1366: 'settle', 1367: 'employees', 1368: 'greeted', 1369: 'comment', 1370: 'services', 1371: 'might', 1372: 'hair', 1373: 'thanks', 1374: 'catering', 1375: 'lunches', 1376: 'offices', 1377: 'jeff', 1378: 'running', 1379: 'prepares', 1380: 'customers', 1381: 'fare', 1382: 'healthy', 1383: 'alternative', 1384: 'craving', 1385: 'weigh', 1386: 'sleep', 1387: 'healthcare', 1388: 'community', 1389: 'confident', 1390: 'bringing', 1391: 'ingredient', 1392: 'personally', 1393: 'selected', 1394: 'bothers', 1395: 'country', 1396: 'forced', 1397: 'boyfriends', 1398: 'parents', 1399: 'cadillac', 1400: 'due', 1401: 'cuisine', 1402: 'foo', 1403: 'd', 1404: 'messed', 1405: 'sorry', 1406: 'italian', 1407: 'hungry', 1408: 'full', 1409: 'flavorless', 1410: 'wrapped', 1411: 'undercooked', 1412: 'scallop', 1413: 'overcooked', 1414: 'seared', 1415: 'sliders', 1416: 'supermarket', 1417: 'tough', 1418: 'alot', 1419: 'share', 1420: 'cents', 1421: 'card', 1422: 'deals', 1423: 'checkout', 1424: 'albertsons', 1425: 'product', 1426: 'cheaper', 1427: 'yesterday', 1428: 'snicker', 1429: 'comparable', 1430: 'bag', 1431: 'candies', 1432: 'case', 1433: 'coors', 1434: 'cent', 1435: 'bags', 1436: 'frozen', 1437: 'veggies', 1438: 'buying', 1439: 'crazy', 1440: 'korean', 1441: 'excited', 1442: 'perfectly', 1443: 'kalbi', 1444: 'balls', 1445: 'play', 1446: 'thrown', 1447: 'drop', 1448: 'football', 1449: 'jerseys', 1450: 'grabbing', 1451: 'putting', 1452: 'buffalo', 1453: 'wild', 1454: 'reason', 1455: 'notch', 1456: 'managed', 1457: 'properties', 1458: 'greens', 1459: 'inconsistent', 1460: 'grass', 1461: 'gold', 1462: 'lose', 1463: 'ball', 1464: 'rough', 1465: 'deep', 1466: 'blue', 1467: 'holes', 1468: 'playing', 1469: 'late', 1470: 'afternoon', 1471: 'close', 1472: 'eyes', 1473: 'directly', 1474: 'satisfied', 1475: 'live', 1476: 'miles', 1477: 'above', 1478: 'justify', 1479: 'final', 1480: 'glad', 1481: 'often', 1482: 'la', 1483: 'condesa', 1484: 'unassuming', 1485: 'noticed', 1486: 'salsa', 1487: 'chips', 1488: 'salsas', 1489: 'peanut', 1490: 'interesting', 1491: 'tomatillo', 1492: 'mole', 1493: 'taco', 1494: 'bland', 1495: 'huh', 1496: 'dumped', 1497: 'disappointed', 1498: 'particular', 1499: 'offering', 1500: 'seasoned', 1501: 'tasted', 1502: 'partner', 1503: 'baiz', 1504: 'waste', 1505: 'gps', 1506: 'secondly', 1507: 'outdated', 1508: 'styrofoam', 1509: 'middle', 1510: 'eastern', 1511: 'falafel', 1512: 'pies', 1513: 'heat', 1514: 'oven', 1515: 'pie', 1516: 'shawarma', 1517: 'still', 1518: 'onions', 1519: 'skipping', 1520: 'beverage', 1521: 'adjacent', 1522: 'cooler', 1523: 'south', 1524: 'clothing', 1525: 'photographer', 1526: 'shoots', 1527: 'owners', 1528: 'lover', 1529: 'fan', 1530: 'sakana', 1531: 'considered', 1532: 'appreciation', 1533: 'lobby', 1534: 'happily', 1535: 'deliver', 1536: 'writing', 1537: 'seems', 1538: 'strange', 1539: 'possibly', 1540: 'mean', 1541: 'knows', 1542: 'getting', 1543: 'true', 1544: 'felt', 1545: 'experience', 1546: 'tastes', 1547: 'nuggets', 1548: 'agreed', 1549: 'tasting', 1550: 'heavy', 1551: 'tea', 1552: 'staple', 1553: 'important', 1554: 'walked', 1555: 'noon', 1556: 'flash', 1557: 'icing', 1558: 'assortment', 1559: 'dipping', 1560: 'suit', 1561: 'whatever', 1562: 'moment', 1563: 'dip', 1564: 'hearts', 1565: 'desire', 1566: 'themed', 1567: 'exploring', 1568: 'stranger', 1569: 'spots', 1570: 'search', 1571: 'checked', 1572: 'focaccia', 1573: 'recommendation', 1574: 'm', 1575: 'pushy', 1576: 'neither', 1577: 'penny', 1578: 'somewhat', 1579: 'recent', 1580: 'convert', 1581: 'whites', 1582: 'option', 1583: 'spinach', 1584: 'texture', 1585: 'cooked', 1586: 'kick', 1587: 'carafe', 1588: 'accompany', 1589: 'cartel', 1590: 'god', 1591: 'apparently', 1592: 'fruits', 1593: 'restaurants', 1594: 'spicy', 1595: 'portion', 1596: 'dish', 1597: 'imitation', 1598: 'crab', 1599: 'disappointment', 1600: 'breaker', 1601: 'nicely', 1602: 'calamari', 1603: 'mussels', 1604: 'kid', 1605: 'spaghetti', 1606: 'kids', 1607: 'meatball', 1608: 'chunky', 1609: 'watery', 1610: 'covered', 1611: 'specific', 1612: 'trust', 1613: 'bend', 1614: 'prior', 1615: 'meals', 1616: 'exceptions', 1617: 'slower', 1618: 'target', 1619: 'greater', 1620: 'chairs', 1621: 'pictures', 1622: 'screams', 1623: 'remind', 1624: 'conference', 1625: 'hall', 1626: 'dark', 1627: 'couples', 1628: 'nicer', 1629: 'adults', 1630: 'ambience', 1631: 'darker', 1632: 'softer', 1633: 'volume', 1634: 'conversations', 1635: 'loud', 1636: 'obnoxious', 1637: 'overall', 1638: 'roosevelt', 1639: 'row', 1640: 'event', 1641: 'overheard', 1642: 'jazz', 1643: 'funk', 1644: 'pouring', 1645: 'invited', 1646: 'listen', 1647: 'once', 1648: 'ladies', 1649: 'asking', 1650: 'sodas', 1651: 'coke', 1652: 'venue', 1653: 'exception', 1654: 'band', 1655: 'together', 1656: 'oddly', 1657: 'paced', 1658: 'blues', 1659: 'hear', 1660: 'amount', 1661: 'opinion', 1662: 'thick', 1663: 'base', 1664: 'guitar', 1665: 'complimentary', 1666: 'piano', 1667: 'stuck', 1668: 'songs', 1669: 'move', 1670: 'kool', 1671: 'gang', 1672: 'imagine', 1673: 'changes', 1674: 'basis', 1675: 'step', 1676: 'catered', 1677: 'towards', 1678: 'crowd', 1679: 'considering', 1680: 'adult', 1681: 'beverages', 1682: 'sight', 1683: 'although', 1684: 'teenagers', 1685: 'listening', 1686: 'likely', 1687: 'plan', 1688: 'dropping', 1689: 'randomly', 1690: 'yelping', 1691: 'funky', 1692: 'baseball', 1693: 'player', 1694: 'spring', 1695: 'training', 1696: 'gets', 1697: 'sooo', 1698: 'literally', 1699: 'legs', 1700: 'apart', 1701: 'hands', 1702: 'air', 1703: 'needs', 1704: 'yup', 1705: 'support', 1706: 'minor', 1707: 'league', 1708: 'bikini', 1709: 'dress', 1710: 'fields', 1711: 'games', 1712: 'texas', 1713: 'airy', 1714: 'linen', 1715: 'napkins', 1716: 'fair', 1717: 'hummus', 1718: 'tzatziki', 1719: 'served', 1720: 'selections', 1721: 'medium', 1722: 'higher', 1723: 'burgers', 1724: 'thus', 1725: 'pub', 1726: 'beers', 1727: 'tap', 1728: 'dig', 1729: 'scratch', 1730: 'soup', 1731: 'slowly', 1732: 'pickup', 1733: 'brings', 1734: 'usage', 1735: 'environmental', 1736: 'sand', 1737: 'yum', 1738: 'honey', 1739: 'bear', 1740: 'gilbert', 1741: 'potato', 1742: 'myself', 1743: 'tempe', 1744: 'rarely', 1745: 'truthfully', 1746: 'stopped', 1747: 'bomb', 1748: 'bueno', 1749: 'hiking', 1750: 'flip', 1751: 'flops', 1752: 'saturday', 1753: 'zoo', 1754: 'signs', 1755: 'telling', 1756: 'blocked', 1757: 'trail', 1758: 'normal', 1759: 'ramada', 1760: 'min', 1761: 'hike', 1762: 'wow', 1763: 'chill', 1764: 'thanksgiving', 1765: 'vacation', 1766: 'easily', 1767: 'popular', 1768: 'san', 1769: 'diego', 1770: 'bunch', 1771: 'flatbreads', 1772: 'fig', 1773: 'chutney', 1774: 'helping', 1775: 'nailed', 1776: 'ps', 1777: 'cellar', 1778: 'truth', 1779: 'absolute', 1780: 'sonoran', 1781: 'mexican', 1782: 'chile', 1783: 'colorado', 1784: 'slap', 1785: 'mama', 1786: 'brewed', 1787: 'level', 1788: 'hell', 1789: 'fridays', 1790: 'feature', 1791: 'margaritas', 1792: 'swing', 1793: 'combo', 1794: 'favourite', 1795: 'deliciously', 1796: 'crap', 1797: 'varied', 1798: 'eventually', 1799: 'appetizers', 1800: 'include', 1801: 'mardi', 1802: 'gras', 1803: 'creamy', 1804: 'rice', 1805: 'tiny', 1806: 'pricy', 1807: 'outdoor', 1808: 'dimly', 1809: 'lit', 1810: 'quaint', 1811: 'waiting', 1812: 'giant', 1813: 'fans', 1814: 'waiters', 1815: 'tip', 1816: 'allowed', 1817: 'heard', 1818: 'dad', 1819: 'seven', 1820: 'instant', 1821: 'oh', 1822: 'pecan', 1823: 'amongst', 1824: 'latter', 1825: 'hog', 1826: 'chick', 1827: 'hashbrowns', 1828: 'verde', 1829: 'farms', 1830: 'preserves', 1831: 'write', 1832: 'addicted', 1833: 'hidden', 1834: 'art', 1835: 'park', 1836: 'misters', 1837: 'cramped', 1838: 'complaining', 1839: 'def', 1840: 'moneys', 1841: 'weekends', 1842: 'packed', 1843: 'rid', 1844: 'hangover', 1845: 'plus', 1846: 'georgia', 1847: 'pbr', 1848: 'boys', 1849: 'machaca', 1850: 'burro', 1851: 'ridiculous', 1852: 'promised', 1853: 'land', 1854: 'misfortune', 1855: 'stopping', 1856: 'establishment', 1857: 'skirt', 1858: 'cloth', 1859: 'purse', 1860: 'seconds', 1861: 'repaired', 1862: 'attached', 1863: 'loose', 1864: 'cleaned', 1865: 'pressed', 1866: 'tags', 1867: 'selling', 1868: 'process', 1869: 'cleaners', 1870: 'informed', 1871: 'usual', 1872: 'unfortunately', 1873: 'closed', 1874: 'boa', 1875: 'shit', 1876: 'pomodoro', 1877: 'alfredo', 1878: 'rocks', 1879: 'locations', 1880: 'triple', 1881: 'stomach', 1882: 'quickly', 1883: 'pissed', 1884: 'haji', 1885: 'baba', 1886: 'record', 1887: 'alas', 1888: 'vietnamese', 1889: 'popped', 1890: 'grabbed', 1891: 'sometimes', 1892: 'bird', 1893: 'calorie', 1894: 'counting', 1895: 'landmark', 1896: 'satisfying', 1897: 'awhile', 1898: 'sinful', 1899: 'urge', 1900: 'screw', 1901: 'carefully', 1902: 'laid', 1903: 'dietary', 1904: 'plans', 1905: 'badly', 1906: 'promising', 1907: 'combinations', 1908: 'qualities', 1909: 'locale', 1910: 'canadian', 1911: 'hefeweizen', 1912: 'pronounce', 1913: 'spell', 1914: 'recall', 1915: 'lick', 1916: 'brews', 1917: 'beyond', 1918: 'belief', 1919: 'liquor', 1920: 'proximity', 1921: 'bud', 1922: 'central', 1923: 'renaissance', 1924: 'why', 1925: 'staying', 1926: 'pride', 1927: 'effort', 1928: 'setup', 1929: 'delivery', 1930: 'slide', 1931: 'stools', 1932: 'ambient', 1933: 'comfy', 1934: 'lounge', 1935: 'slice', 1936: 'upper', 1937: 'crust', 1938: 'nibble', 1939: 'decadent', 1940: 'lies', 1941: 'former', 1942: 'visiting', 1943: 'portland', 1944: 'dust', 1945: 'slightest', 1946: 'show', 1947: 'east', 1948: 'dwellers', 1949: 'brats', 1950: 'reach', 1951: 'pause', 1952: 'sad', 1953: 'mere', 1954: 'feet', 1955: 'beloved', 1956: 'emerald', 1957: 'smoke', 1958: 'haven', 1959: 'locals', 1960: 'personality', 1961: 'painted', 1962: 'ghost', 1963: 'silence', 1964: 'below', 1965: 'thank', 1966: 'fuddruckers', 1967: 'toppings', 1968: 'gooey', 1969: 'melty', 1970: 'fake', 1971: 'rings', 1972: 'missed', 1973: 'remembered', 1974: 'enchilada', 1975: 'skimp', 1976: 'vary', 1977: 'exceptionally', 1978: 'help', 1979: 'spanish', 1980: 'limited', 1981: 'interior', 1982: 'fancy', 1983: 'decorations', 1984: 'faves', 1985: 'planned', 1986: 'mac', 1987: 'sick', 1988: 'vista', 1989: 'apple', 1990: 'sales', 1991: 'associate', 1992: 'convince', 1993: 'computer', 1994: 'loving', 1995: 'issues', 1996: 'enjoying', 1997: 'classes', 1998: 'teach', 1999: 'class', 2000: 'teacher', 2001: 'patient', 2002: 'teaching', 2003: 'features', 2004: 'mexico', 2005: 'send', 2006: 'biltmore', 2007: 'consistently', 2008: 'genius', 2009: 'making', 2010: 'purchases', 2011: 'amazed', 2012: 'economy', 2013: 'totally', 2014: 'convinced', 2015: 'experienced', 2016: 'sandwhich', 2017: 'nation', 2018: 'cacti', 2019: 'everywhere', 2020: 'camping', 2021: 'scenery', 2022: 'random', 2023: 'visitor', 2024: 'looks', 2025: 'compare', 2026: 'summer', 2027: 'winter', 2028: 'attentive', 2029: 'granted', 2030: 'monday', 2031: 'sour', 2032: 'sp', 2033: 'chow', 2034: 'mein', 2035: 'curry', 2036: 'terrific', 2037: 'thoroughly', 2038: 'additional', 2039: 'asahi', 2040: 'generous', 2041: 'polite', 2042: 'tasteful', 2043: 'chinese', 2044: 'located', 2045: 'frequenting', 2046: 'mcdowell', 2047: 'caliber', 2048: 'road', 2049: 'senior', 2050: 'broke', 2051: 'bean', 2052: 'strips', 2053: 'dang', 2054: 'wants', 2055: 'complain', 2056: 'suck', 2057: 'burn', 2058: 'bless', 2059: 'heart', 2060: 'serve', 2061: 'dogs', 2062: 'picky', 2063: 'section', 2064: 'gives', 2065: 'character', 2066: 'goes', 2067: 'jimmy', 2068: 'candy', 2069: 'neat', 2070: 'baskets', 2071: 'turkish', 2072: 'bun', 2073: 'gum', 2074: 'mash', 2075: 'mary', 2076: 'sen', 2077: 'packs', 2078: 'goo', 2079: 'zero', 2080: 'coolest', 2081: 'records', 2082: 'zia', 2083: 'trendy', 2084: 'keeps', 2085: 'slightly', 2086: 'lower', 2087: 'obscure', 2088: 'flipside', 2089: 'overlook', 2090: 'gems', 2091: 'stock', 2092: 'low', 2093: 'labels', 2094: 'general', 2095: 'press', 2096: 'numbers', 2097: 'bands', 2098: 'anyhow', 2099: 'cracked', 2100: 'total', 2101: 'held', 2102: 'golden', 2103: 'hits', 2104: 'king', 2105: 'sympathy', 2106: 'tie', 2107: 'adding', 2108: 'machine', 2109: 'gravy', 2110: 'train', 2111: 'hello', 2112: 'sells', 2113: 'complete', 2114: 'cold', 2115: 'barbacoa', 2116: 'lengua', 2117: 'hours', 2118: 'later', 2119: 'dash', 2120: 'catch', 2121: 'game', 2122: 'handful', 2123: 'checking', 2124: 'scene', 2125: 'thinking', 2126: 'classy', 2127: 'vegan', 2128: 'skip', 2129: 'froyo', 2130: 'gelatos', 2131: 'scoop', 2132: 'gelato', 2133: 'pastry', 2134: 'ironically', 2135: 'cakes', 2136: 'savory', 2137: 'treats', 2138: 'breads', 2139: 'various', 2140: 'pastries', 2141: 'coup', 2142: 'shakes', 2143: 'punch', 2144: 'world', 2145: 'tummy', 2146: 'takeout', 2147: 'jerk', 2148: 'rumbi', 2149: 'simply', 2150: 'splurge', 2151: 'cup', 2152: 'freakin', 2153: 'beware', 2154: 'challenge', 2155: 'wonton', 2156: 'year', 2157: 'sesame', 2158: 'skewers', 2159: 'names', 2160: 'genuine', 2161: 'provide', 2162: 'return', 2163: 'november', 2164: 'treated', 2165: 'nfl', 2166: 'white', 2167: 'cafe', 2168: 'refill', 2169: 'poured', 2170: 'sum', 2171: 'overs', 2172: 'shame', 2173: 'recommending', 2174: 'six', 2175: 'waited', 2176: 'homemade', 2177: 'bake', 2178: 'watered', 2179: 'missing', 2180: 'favor', 2181: 'under', 2182: 'salted', 2183: 'leftovers', 2184: 'learn', 2185: 'respectful', 2186: 'chose', 2187: 'anniversary', 2188: 'spend', 2189: 'amuse', 2190: 'throughout', 2191: 'foie', 2192: 'inviting', 2193: 'revisit', 2194: 'adventure', 2195: 'lovely', 2196: 'resturant', 2197: 'pea', 2198: 'lived', 2199: 'incredible', 2200: 'experiences', 2201: 'terrible', 2202: 'consistent', 2203: 'albeit', 2204: 'valentine', 2205: 'several', 2206: 'without', 2207: 'courses', 2208: 'damn', 2209: 'greeting', 2210: 'holidays', 2211: 'brie', 2212: 'shank', 2213: 'desserts', 2214: 'byob', 2215: 'aspect', 2216: 'charging', 2217: 'vegetarian', 2218: 'improve', 2219: 'bagel', 2220: 'nosh', 2221: 'admit', 2222: 'pumpkin', 2223: 'wishing', 2224: 'mornings', 2225: 'esp', 2226: 'bike', 2227: 'opened', 2228: 'fyi', 2229: 'closes', 2230: 'sweeter', 2231: 'yogurtland', 2232: 'mango', 2233: 'skinny', 2234: 'blueberry', 2235: 'flavors', 2236: 'mochi', 2237: 'mill', 2238: 'signed', 2239: 'groupon', 2240: 'score', 2241: 'tequila', 2242: 'print', 2243: 'thursday', 2244: 'honored', 2245: 'relax', 2246: 'fav', 2247: 'pasty', 2248: 'cajun', 2249: 'ipad', 2250: 'tunes', 2251: 'played', 2252: 'casual', 2253: 'described', 2254: 'southwest', 2255: 'stew', 2256: 'fondue', 2257: 'wallet', 2258: 'enter', 2259: 'credit', 2260: 'information', 2261: 'wash', 2262: 'ahh', 2263: 'automatic', 2264: 'car', 2265: 'remove', 2266: 'sucked', 2267: 'foam', 2268: 'sheets', 2269: 'touch', 2270: 'washes', 2271: 'understood', 2272: 'worry', 2273: 'mirrors', 2274: 'literature', 2275: 'mediocre', 2276: 'spray', 2277: 'polish', 2278: 'vacuums', 2279: 'machines', 2280: 'lazy', 2281: 'patron', 2282: 'approaches', 2283: 'attempt', 2284: 'dollar', 2285: 'aforementioned', 2286: 'tree', 2287: 'freshener', 2288: 'insert', 2289: 'slot', 2290: 'drops', 2291: 'realized', 2292: 'proceed', 2293: 'swear', 2294: 'laughs', 2295: 'united', 2296: 'states', 2297: 'cesar', 2298: 'sw', 2299: 'ave', 2300: 'baseline', 2301: 'mountain', 2302: 'residents', 2303: 'ample', 2304: 'benches', 2305: 'mile', 2306: 'wraps', 2307: 'runners', 2308: 'walkers', 2309: 'playground', 2310: 'families', 2311: 'matter', 2312: 'fishing', 2313: 'friend', 2314: 'sidewalk', 2315: 'elbow', 2316: 'drawbacks', 2317: 'trash', 2318: 'safe', 2319: 'parks', 2320: 'meet', 2321: 'screen', 2322: 'greasy', 2323: 'speedy', 2324: 'converse', 2325: 'mike', 2326: 'worn', 2327: 'counted', 2328: 'kim', 2329: 'broccoli', 2330: 'solid', 2331: 'upstairs', 2332: 'theater', 2333: 'swanky', 2334: 'smells', 2335: 'die', 2336: 'kiss', 2337: 'brain', 2338: 'swimming', 2339: 'tank', 2340: 'waterfront', 2341: 'corridor', 2342: 'stinks', 2343: 'term', 2344: 'filthy', 2345: 'rich', 2346: 'cooking', 2347: 'grub', 2348: 'evenings', 2349: 'april', 2350: 'september', 2351: 'october', 2352: 'chilly', 2353: 'sunset', 2354: 'explain', 2355: 'miss', 2356: 'company', 2357: 'pitchers', 2358: 'pretend', 2359: 'required', 2360: 'rip', 2361: 'connection', 2362: 'unaware', 2363: 'severely', 2364: 'bummed', 2365: 'mcdonalds', 2366: 'bison', 2367: 'witches', 2368: 'religious', 2369: 'tucson', 2370: 'bliss', 2371: 'buttery', 2372: 'reheated', 2373: 'toaster', 2374: 'khai', 2375: 'hoan', 2376: 'pho', 2377: 'glorified', 2378: 'noodles', 2379: 'roll', 2380: 'coconut', 2381: 'delightful', 2382: 'jealous', 2383: 'guacamole', 2384: 'ben', 2385: 'jerry', 2386: 'chain', 2387: 'outrageous', 2388: 'bowls', 2389: 'resist', 2390: 'classics', 2391: 'consistency', 2392: 'facility', 2393: 'hospitals', 2394: 'er', 2395: 'clubhouse', 2396: 'means', 2397: 'common', 2398: 'among', 2399: 'shows', 2400: 'artists', 2401: 'crowds', 2402: 'sound', 2403: 'venues', 2404: 'complained', 2405: 'motivated', 2406: 'slighted', 2407: 'observation', 2408: 'hardcore', 2409: 'opinions', 2410: 'skewed', 2411: 'pants', 2412: 'honestly', 2413: 'june', 2414: 'exit', 2415: 'significantly', 2416: 'afford', 2417: 'answer', 2418: 'understaffed', 2419: 'lined', 2420: 'faster', 2421: 'allowing', 2422: 'consume', 2423: 'sell', 2424: 'concept', 2425: 'destroy', 2426: 'hopefully', 2427: 'heed', 2428: 'feedback', 2429: 'artist', 2430: 'format', 2431: 'forgo', 2432: 'craft', 2433: 'hide', 2434: 'sans', 2435: 'bottoms', 2436: 'jersey', 2437: 'everybody', 2438: 'raves', 2439: 'meats', 2440: 'supposed', 2441: 'provolone', 2442: 'buckeye', 2443: 'throws', 2444: 'period', 2445: 'franchise', 2446: 'label', 2447: 'finest', 2448: 'deli', 2449: 'boar', 2450: 'peter', 2451: 'elsewhere', 2452: 'blown', 2453: 'photos', 2454: 'heading', 2455: 'regret', 2456: 'leaving', 2457: 'forgot', 2458: 'theaters', 2459: 'popping', 2460: 'movie', 2461: 'north', 2462: 'recently', 2463: 'luxurious', 2464: 'amc', 2465: 'esplanade', 2466: 'ipic', 2467: 'reclining', 2468: 'seats', 2469: 'traditional', 2470: 'companion', 2471: 'mentioned', 2472: 'reminded', 2473: 'airport', 2474: 'bowling', 2475: 'alley', 2476: 'pushing', 2477: 'button', 2478: 'similar', 2479: 'tickets', 2480: 'arriving', 2481: 'movies', 2482: 'warned', 2483: 'drank', 2484: 'ate', 2485: 'pitcher', 2486: 'concession', 2487: 'satisfactory', 2488: 'nope', 2489: 'lost', 2490: 'plenty', 2491: 'stores', 2492: 'designers', 2493: 'coach', 2494: 'forever', 2495: 'sur', 2496: 'windows', 2497: 'wifi', 2498: 'muni', 2499: 'stadium', 2500: 'oakland', 2501: 'arizona', 2502: 'stadiums', 2503: 'simple', 2504: 'charm', 2505: 'serves', 2506: 'vendors', 2507: 'stands', 2508: 'backed', 2509: 'attending', 2510: 'hungover', 2511: 'desperately', 2512: 'plug', 2513: 'gut', 2514: 'sounds', 2515: 'decision', 2516: 'fight', 2517: 'win', 2518: 'power', 2519: 'pepperoni', 2520: 'yay', 2521: 'croutons', 2522: 'fuck', 2523: 'sweat', 2524: 'grease', 2525: 'fat', 2526: 'raspberry', 2527: 'strength', 2528: 'energy', 2529: 'generally', 2530: 'current', 2531: 'incredibly', 2532: 'act', 2533: 'yelling', 2534: 'barking', 2535: 'twice', 2536: 'continues', 2537: 'fabulous', 2538: 'celebrating', 2539: 'birthday', 2540: 'farmer', 2541: 'feast', 2542: 'expecting', 2543: 'sample', 2544: 'antipasti', 2545: 'cured', 2546: 'sharp', 2547: 'peppery', 2548: 'strawberries', 2549: 'radishes', 2550: 'gnocchi', 2551: 'ravioli', 2552: 'stuffed', 2553: 'yam', 2554: 'fish', 2555: 'poached', 2556: 'halibut', 2557: 'vegetable', 2558: 'puree', 2559: 'lightly', 2560: 'fillet', 2561: 'raw', 2562: 'tenderloin', 2563: 'lucky', 2564: 'themselves', 2565: 'deserts', 2566: 'sweetness', 2567: 'pure', 2568: 'sorbet', 2569: 'pairings', 2570: 'complimented', 2571: 'beautifully', 2572: 'pairing', 2573: 'reviewers', 2574: 'mistake', 2575: 'chef', 2576: 'reviewer', 2577: 'questions', 2578: 'apologized', 2579: 'immediately', 2580: 'intentional', 2581: 'created', 2582: 'cozy', 2583: 'environment', 2584: 'yourself', 2585: 'minute', 2586: 'talk', 2587: 'influence', 2588: 'separately', 2589: 'independently', 2590: 'destination', 2591: 'prepared', 2592: 'challenging', 2593: 'heels', 2594: 'wedges', 2595: 'code', 2596: 'kai', 2597: 'pass', 2598: 'spoke', 2599: 'library', 2600: 'awkward', 2601: 'fork', 2602: 'quiessence', 2603: 'chatting', 2604: 'completely', 2605: 'ease', 2606: 'relaxed', 2607: 'rooms', 2608: 'trader', 2609: 'vic', 2610: 'spa', 2611: 'newly', 2612: 'stories', 2613: 'shopping', 2614: 'superstition', 2615: 'springs', 2616: 'efficient', 2617: 'shout', 2618: 'encountered', 2619: 'burros', 2620: 'cross', 2621: 'satisfies', 2622: 'fix', 2623: 'leave', 2624: 'gone', 2625: 'numerous', 2626: 'bucket', 2627: 'weird', 2628: 'updates', 2629: 'mix', 2630: 'fluorescent', 2631: 'pre', 2632: 'lime', 2633: 'malbec', 2634: 'pour', 2635: 'generously', 2636: 'seriously', 2637: 'rated', 2638: 'glasses', 2639: 'growing', 2640: 'watering', 2641: 'hole', 2642: 'grew', 2643: 'word', 2644: 'grace', 2645: 'buildings', 2646: 'church', 2647: 'pastor', 2648: 'praise', 2649: 'join', 2650: 'struggling', 2651: 'sins', 2652: 'fear', 2653: 'labeled', 2654: 'understand', 2655: 'views', 2656: 'doubt', 2657: 'accepted', 2658: 'homeless', 2659: 'drug', 2660: 'addiction', 2661: 'begin', 2662: 'christian', 2663: 'ignore', 2664: 'ie', 2665: 'sex', 2666: 'luck', 2667: 'finding', 2668: 'surprisingly', 2669: 'eggplant', 2670: 'certainly', 2671: 'fun', 2672: 'stare', 2673: 'shoot', 2674: 'admittedly', 2675: 'airline', 2676: 'residence', 2677: 'inn', 2678: 'connecting', 2679: 'szechwan', 2680: 'palace', 2681: 'drawn', 2682: 'neon', 2683: 'beginning', 2684: 'affair', 2685: 'bartender', 2686: 'jennifer', 2687: 'insisted', 2688: 'ensure', 2689: 'safety', 2690: 'fry', 2691: 'bonus', 2692: 'disliked', 2693: 'cover', 2694: 'ton', 2695: 'apartment', 2696: 'within', 2697: 'distance', 2698: 'ride', 2699: 'program', 2700: 'sheriff', 2701: 'pink', 2702: 'tent', 2703: 'ck', 2704: 'factor', 2705: 'number', 2706: 'nordstrom', 2707: 'multiple', 2708: 'cities', 2709: 'francisco', 2710: 'traffic', 2711: 'seattle', 2712: 'chicago', 2713: 'rack', 2714: 'exercise', 2715: 'baja', 2716: 'mcdonald', 2717: 'pico', 2718: 'gallo', 2719: 'alberto', 2720: 'bruschetta', 2721: 'briefly', 2722: 'bursting', 2723: 'umm', 2724: 'basket', 2725: 'thrift', 2726: 'thrifty', 2727: 'carries', 2728: 'legitimate', 2729: 'supplies', 2730: 'sorts', 2731: 'decorative', 2732: 'papers', 2733: 'online', 2734: 'taken', 2735: 'letter', 2736: 'techniques', 2737: 'offers', 2738: 'sign', 2739: 'oooh', 2740: 'shiny', 2741: 'barro', 2742: 'opportunity', 2743: 'test', 2744: 'zesty', 2745: 'coverage', 2746: 'outer', 2747: 'chewy', 2748: 'brand', 2749: 'previous', 2750: 'guests', 2751: 'plastic', 2752: 'inexpensive', 2753: 'closer', 2754: 'fez', 2755: 'sister', 2756: 'cousin', 2757: 'casa', 2758: 'berry', 2759: 'shortcake', 2760: 'killed', 2761: 'whipped', 2762: 'biscuit', 2763: 'peaceful', 2764: 'tow', 2765: 'misto', 2766: 'trio', 2767: 'ours', 2768: 'included', 2769: 'leaves', 2770: 'broccolini', 2771: 'wedge', 2772: 'alla', 2773: 'puttanesca', 2774: 'ear', 2775: 'whore', 2776: 'vibrant', 2777: 'worked', 2778: 'holy', 2779: 'capers', 2780: 'oil', 2781: 'uh', 2782: 'overpowered', 2783: 'humble', 2784: 'mothers', 2785: 'servings', 2786: 'european', 2787: 'um', 2788: 'willing', 2789: 'timely', 2790: 'manner', 2791: 'rush', 2792: 'completed', 2793: 'relieved', 2794: 'sens', 2795: 'smaller', 2796: 'tucked', 2797: 'hallway', 2798: 'soundtrack', 2799: 'ears', 2800: 'notes', 2801: 'veal', 2802: 'jar', 2803: 'sugary', 2804: 'range', 2805: 'mains', 2806: 'tax', 2807: 'license', 2808: 'sparkling', 2809: 'waters', 2810: 'root', 2811: 'diners', 2812: 'till', 2813: 'midnight', 2814: 'content', 2815: 'pastas', 2816: 'sounded', 2817: 'success', 2818: 'giving', 2819: 'kinks', 2820: 'entree', 2821: 'rounding', 2822: 'english', 2823: 'delighted', 2824: 'pasties', 2825: 'cornish', 2826: 'baked', 2827: 'freeze', 2828: 'whenever', 2829: 'freezer', 2830: 'mesa', 2831: 'judge', 2832: 'quieter', 2833: 'friendlier', 2834: 'costco', 2835: 'empty', 2836: 'dom', 2837: 'fucking', 2838: 'idiot', 2839: 'smart', 2840: 'shopper', 2841: 'opposite', 2842: 'merc', 2843: 'curtains', 2844: 'cigarettes', 2845: 'smoking', 2846: 'couch', 2847: 'single', 2848: 'entirely', 2849: 'memories', 2850: 'hotels', 2851: 'conveniently', 2852: 'stumbling', 2853: 'reading', 2854: 'hatch', 2855: 'spiced', 2856: 'scary', 2857: 'remodeled', 2858: 'changed', 2859: 'mostly', 2860: 'waitstaff', 2861: 'mandarin', 2862: 'notice', 2863: 'newer', 2864: 'china', 2865: 'kabuki', 2866: 'oasis', 2867: 'marketplace', 2868: 'sashimi', 2869: 'unusual', 2870: 'rolls', 2871: 'edamame', 2872: 'dine', 2873: 'justified', 2874: 'enjoyment', 2875: 'enticing', 2876: 'personal', 2877: 'corporate', 2878: 'enchiladas', 2879: 'accident', 2880: 'arrive', 2881: 'barely', 2882: 'piping', 2883: 'meeting', 2884: 'automatically', 2885: 'mine', 2886: 'plasma', 2887: 'indulge', 2888: 'whim', 2889: 'separate', 2890: 'exciting', 2891: 'delivered', 2892: 'cupcake', 2893: 'suddenly', 2894: 'began', 2895: 'dirt', 2896: 'insist', 2897: 'roller', 2898: 'brush', 2899: 'warranty', 2900: 'upset', 2901: 'stomping', 2902: 'sticker', 2903: 'stated', 2904: 'installed', 2905: 'obviously', 2906: 'attitude', 2907: 'unprofessional', 2908: 'fab', 2909: 'zinburger', 2910: 'cowboy', 2911: 'choc', 2912: 'milkshake', 2913: 'reg', 2914: 'bottom', 2915: 'mushy', 2916: 'luckily', 2917: 'pm', 2918: 'prob', 2919: 'upon', 2920: 'yelp', 2921: 'saturdays', 2922: 'entering', 2923: 'register', 2924: 'booth', 2925: 'spotless', 2926: 'monte', 2927: 'cristo', 2928: 'biscuits', 2929: 'perfection', 2930: 'strawberry', 2931: 'jam', 2932: 'professional', 2933: 'massage', 2934: 'envy', 2935: 'pricier', 2936: 'sticking', 2937: 'unimpressive', 2938: 'private', 2939: 'compared', 2940: 'cheapest', 2941: 'coupon', 2942: 'reservations', 2943: 'trouble', 2944: 'become', 2945: 'weeks', 2946: 'stepped', 2947: 'dead', 2948: 'cocktails', 2949: 'uno', 2950: 'commercial', 2951: 'stays', 2952: 'relatively', 2953: 'update', 2954: 'drowning', 2955: 'refried', 2956: 'bf', 2957: 'someplace', 2958: 'venture', 2959: 'coal', 2960: 'blah', 2961: 'natural', 2962: 'overpriced', 2963: 'charges', 2964: 'confirmed', 2965: 'critical', 2966: 'mass', 2967: 'hooked', 2968: 'thin', 2969: 'chris', 2970: 'trip', 2971: 'chops', 2972: 'prep', 2973: 'thyme', 2974: 'rubbed', 2975: 'citrus', 2976: 'hint', 2977: 'mint', 2978: 'complemented', 2979: 'cash', 2980: 'masks', 2981: 'joke', 2982: 'easley', 2983: 'mmmmm', 2984: 'mmmmmm', 2985: 'lush', 2986: 'bevmo', 2987: 'auto', 2988: 'complex', 2989: 'state', 2990: 'vehicles', 2991: 'honest', 2992: 'master', 2993: 'tech', 2994: 'countless', 2995: 'team', 2996: 'fixing', 2997: 'study', 2998: 'trade', 2999: 'feed', 3000: 'croissants', 3001: 'bagels', 3002: 'k', 3003: 'steady', 3004: 'along', 3005: 'extension', 3006: 'expanding', 3007: 'picks', 3008: 'additionally', 3009: 'sipping', 3010: 'blast', 3011: 'gyro', 3012: 'split', 3013: 'dropped', 3014: 'restrooms', 3015: 'soap', 3016: 'washing', 3017: 'hardware', 3018: 'frequented', 3019: 'ace', 3020: 'speakeasy', 3021: 'minimal', 3022: 'signage', 3023: 'exterior', 3024: 'urban', 3025: 'warehouse', 3026: 'spacious', 3027: 'figured', 3028: 'sparse', 3029: 'drinking', 3030: 'bouncing', 3031: 'walls', 3032: 'g', 3033: 'flautas', 3034: 'walgreen', 3035: 'drugs', 3036: 'aka', 3037: 'health', 3038: 'clinic', 3039: 'overly', 3040: 'generic', 3041: 'prescriptions', 3042: 'picking', 3043: 'provider', 3044: 'nurse', 3045: 'supply', 3046: 'pack', 3047: 'drunk', 3048: 'named', 3049: 'club', 3050: 'lively', 3051: 'predictable', 3052: 'dressed', 3053: 'upscale', 3054: 'folk', 3055: 'hoppin', 3056: 'toward', 3057: 'elevator', 3058: 'onto', 3059: 'dance', 3060: 'pays', 3061: 'champagne', 3062: 'fewer', 3063: 'bumping', 3064: 'stepping', 3065: 'russian', 3066: 'bouncers', 3067: 'intimidating', 3068: 'uber', 3069: 'enthusiastic', 3070: 'dancer', 3071: 'knocked', 3072: 'potstickers', 3073: 'kobe', 3074: 'clay', 3075: 'pot', 3076: 'sizzling', 3077: 'overdone', 3078: 'strangely', 3079: 'steamed', 3080: 'microwaved', 3081: 'argued', 3082: 'annoying', 3083: 'pay', 3084: 'decidedly', 3085: 'nearby', 3086: 'chase', 3087: 'field', 3088: 's', 3089: 'cons', 3090: 'bank', 3091: 'concern', 3092: 'perhaps', 3093: 'sucker', 3094: 'atm', 3095: 'member', 3096: 'greedy', 3097: 'cat', 3098: 'practices', 3099: 'regards', 3100: 'pop', 3101: 'chains', 3102: 'panda', 3103: 'express', 3104: 'disgusting', 3105: 'brat', 3106: 'pathetic', 3107: 'frank', 3108: 'corona', 3109: 'ha', 3110: 'pros', 3111: 'outfield', 3112: 'idea', 3113: 'issue', 3114: 'control', 3115: 'smooth', 3116: 'paris', 3117: 'hilton', 3118: 'ridge', 3119: 'bargain', 3120: 'hunting', 3121: 'tj', 3122: 'maxx', 3123: 'catching', 3124: 'harkins', 3125: 'stocking', 3126: 'shelf', 3127: 'panties', 3128: 'secret', 3129: 'zillion', 3130: 'sam', 3131: 'ethiopian', 3132: 'answered', 3133: 'strictly', 3134: 'gomen', 3135: 'misir', 3136: 'watt', 3137: 'fell', 3138: 'chickpeas', 3139: 'lentils', 3140: 'pulled', 3141: 'sliced', 3142: 'meaty', 3143: 'disappointing', 3144: 'kraft', 3145: 'o', 3146: 'ick', 3147: 'partially', 3148: 'mush', 3149: 'premium', 3150: 'q', 3151: 'dough', 3152: 'college', 3153: 'aged', 3154: 'yours', 3155: 'wonder', 3156: 'advance', 3157: 'handed', 3158: 'bothered', 3159: 'teppan', 3160: 'bummer', 3161: 'mid', 3162: 'women', 3163: 'age', 3164: 'wore', 3165: 'outfits', 3166: 'focused', 3167: 'skirts', 3168: 'prom', 3169: 'technician', 3170: 'equipment', 3171: 'products', 3172: 'pregnant', 3173: 'referred', 3174: 'hesitation', 3175: 'dog', 3176: 'ballpark', 3177: 'tater', 3178: 'tots', 3179: 'keeping', 3180: 'initially', 3181: 'berto', 3182: 'differences', 3183: 'killer', 3184: 'california', 3185: 'piled', 3186: 'freshly', 3187: 'wary', 3188: 'stupid', 3189: 'ham', 3190: 'bleu', 3191: 'figs', 3192: 'likes', 3193: 'luxury', 3194: 'oz', 3195: 'featured', 3196: 'thrilled', 3197: 'carefree', 3198: 'boom', 3199: 'western', 3200: 'informative', 3201: 'joked', 3202: 'voice', 3203: 'lights', 3204: 'series', 3205: 'overwhelming', 3206: 'alcohol', 3207: 'tooth', 3208: 'unimpressed', 3209: 'bare', 3210: 'attempts', 3211: 'despite', 3212: 'crowded', 3213: 'internet', 3214: 'gotten', 3215: 'concert', 3216: 'attend', 3217: 'ciao', 3218: 'turkey', 3219: 'swiss', 3220: 'wrap', 3221: 'cranberries', 3222: 'cashews', 3223: 'sage', 3224: 'pesto', 3225: 'wrote', 3226: 'stellar', 3227: 'fluke', 3228: 'vs', 3229: 'death', 3230: 'blow', 3231: 'shall', 3232: 'acted', 3233: 'conditioning', 3234: 'officially', 3235: 'books', 3236: 'lesson', 3237: 'industry', 3238: 'aj', 3239: 'dealing', 3240: 'cereal', 3241: 'circle', 3242: 'breasts', 3243: 'amazingly', 3244: 'loin', 3245: 'stuffing', 3246: 'roommate', 3247: 'crunchy', 3248: 'regardless', 3249: 'pita', 3250: 'tangy', 3251: 'greek', 3252: 'ourselves', 3253: 'fellow', 3254: 'yelper', 3255: 'john', 3256: 'appearance', 3257: 'cucumbers', 3258: 'drizzled', 3259: 'dill', 3260: 'vinaigrette', 3261: 'crepes', 3262: 'rounded', 3263: 'version', 3264: 'stick', 3265: 'mojitos', 3266: 'avenue', 3267: 'weight', 3268: 'pounds', 3269: 'stalls', 3270: 'reported', 3271: 'smattering', 3272: 'petite', 3273: 'padding', 3274: 'girls', 3275: 'saying', 3276: 'pee', 3277: 'wee', 3278: 'granola', 3279: 'picnic', 3280: 'vendor', 3281: 'flowers', 3282: 'hoping', 3283: 'notable', 3284: 'smith', 3285: 'failed', 3286: 'levels', 3287: 'sometime', 3288: 'bodies', 3289: 'stair', 3290: 'bouncer', 3291: 'shoe', 3292: 'clearly', 3293: 'capacity', 3294: 'fail', 3295: 'roughly', 3296: 'stood', 3297: 'reader', 3298: 'earlier', 3299: 'gesture', 3300: 'downstairs', 3301: 'hold', 3302: 'bass', 3303: 'parts', 3304: 'accessible', 3305: 'f', 3306: 'concerned', 3307: 'somebody', 3308: 'qt', 3309: 'gas', 3310: 'layout', 3311: 'convenience', 3312: 'stations', 3313: 'emergency', 3314: 'milk', 3315: 'unless', 3316: 'downhill', 3317: 'flavored', 3318: 'grainy', 3319: 'crystals', 3320: 'savor', 3321: 'says', 3322: 'earth', 3323: 'waffles', 3324: 'lo', 3325: 'everytime', 3326: 'unwind', 3327: 'michael', 3328: 'jan', 3329: 'elegant', 3330: 'jeans', 3331: 'cave', 3332: 'creek', 3333: 'mesquite', 3334: 'dept', 3335: 'succulent', 3336: 'fritters', 3337: 'buddy', 3338: 'instantly', 3339: 'video', 3340: 'knowing', 3341: 'sonic', 3342: 'breeze', 3343: 'distracting', 3344: 'lol', 3345: 'sons', 3346: 'doll', 3347: 'breathing', 3348: 'neck', 3349: 'copious', 3350: 'lame', 3351: 'toy', 3352: 'petsmart', 3353: 'marvelous', 3354: 'amenities', 3355: 'helped', 3356: 'spectacular', 3357: 'expectation', 3358: 'jungle', 3359: 'decorated', 3360: 'hostess', 3361: 'lentil', 3362: 'against', 3363: 'toasty', 3364: 'broken', 3365: 'slight', 3366: 'wondering', 3367: 'aside', 3368: 'unit', 3369: 'units', 3370: 'rent', 3371: 'horrible', 3372: 'noise', 3373: 'neighbor', 3374: 'plays', 3375: 'loudly', 3376: 'security', 3377: 'ceilings', 3378: 'gym', 3379: 'construction', 3380: 'non', 3381: 'belt', 3382: 'sketchy', 3383: 'staples', 3384: 'shwarma', 3385: 'exotic', 3386: 'silly', 3387: 'wander', 3388: 'sweets', 3389: 'matched', 3390: 'h', 3391: 'bruchetta', 3392: 'select', 3393: 'delay', 3394: 'discount', 3395: 'foot', 3396: 'shellac', 3397: 'edible', 3398: 'draft', 3399: 'caveat', 3400: 'cabs', 3401: 'tour', 3402: 'tavern', 3403: 'tribute', 3404: 'host', 3405: 'streets', 3406: 'snapped', 3407: 'rocked', 3408: 'lonely', 3409: 'island', 3410: 'guides', 3411: 'flexible', 3412: 'betty', 3413: 'calories', 3414: 'stops', 3415: 'shots', 3416: 'accommodating', 3417: 'entertaining', 3418: 'proved', 3419: 'discovering', 3420: 'facts', 3421: 'cost', 3422: 'arm', 3423: 'leg', 3424: 'substituted', 3425: 'sheer', 3426: 'exclusively', 3427: 'ranging', 3428: 'planning', 3429: 'ma', 3430: 'coworkers', 3431: 'seperate', 3432: 'checks', 3433: 'fuss', 3434: 'handmade', 3435: 'balsamic', 3436: 'vinegar', 3437: 'inch', 3438: 'cooks', 3439: 'written', 3440: 'adore', 3441: 'lgo', 3442: 'pizzeria', 3443: 'delight', 3444: 'buds', 3445: 'kale', 3446: 'quinoa', 3447: 'obsessed', 3448: 'avocado', 3449: 'omg', 3450: 'words', 3451: 'refuse', 3452: 'crack', 3453: 'quicker', 3454: 'eww', 3455: 'sums', 3456: 'soul', 3457: 'screamed', 3458: 'til', 3459: 'lolo', 3460: 'ray', 3461: 'jammed', 3462: 'lil', 3463: 'koolaid', 3464: 'biggest', 3465: 'halfway', 3466: 'presented', 3467: 'face', 3468: 'smothered', 3469: 'fill', 3470: 'boat', 3471: 'alright', 3472: 'cinnamon', 3473: 'kicking', 3474: 'grits', 3475: 'collared', 3476: 'velvet', 3477: 'bubbly', 3478: 'correction', 3479: 'surgery', 3480: 'protein', 3481: 'powder', 3482: 'provided', 3483: 'reached', 3484: 'refilled', 3485: 'powdered', 3486: 'wtf', 3487: 'smelled', 3488: 'tempura', 3489: 'happened', 3490: 'peaks', 3491: 'drove', 3492: 'hubs', 3493: 'temps', 3494: 'blew', 3495: 'dressing', 3496: 'trolley', 3497: 'ring', 3498: 'rail', 3499: 'arts', 3500: 'break', 3501: 'ground', 3502: 'engaging', 3503: 'ahwatukee', 3504: 'annoyed', 3505: 'snobby', 3506: 'moving', 3507: 'deny', 3508: 'neighbors', 3509: 'tanked', 3510: 'rescue', 3511: 'irritating', 3512: 'weeknight', 3513: 'ratings', 3514: 'lead', 3515: 'false', 3516: 'twenty', 3517: 'snooty', 3518: 'introduced', 3519: 'lately', 3520: 'al', 3521: 'wet', 3522: 'unexpected', 3523: 'hype', 3524: 'cashier', 3525: 'rectify', 3526: 'chopped', 3527: 'bust', 3528: 'trek', 3529: 'lee', 3530: 'ten', 3531: 'stocks', 3532: 'west', 3533: 'vast', 3534: 'sites', 3535: 'filed', 3536: 'bankruptcy', 3537: 'british', 3538: 'occasionally', 3539: 'tainted', 3540: 'rose', 3541: 'crown', 3542: 'fault', 3543: 'ruined', 3544: 'design', 3545: 'innovative', 3546: 'parent', 3547: 'hanging', 3548: 'oriented', 3549: 'churn', 3550: 'pedicure', 3551: 'toes', 3552: 'manicure', 3553: 'accidentally', 3554: 'thumb', 3555: 'hurts', 3556: 'richard', 3557: 'cho', 3558: 'memory', 3559: 'creative', 3560: 'award', 3561: 'macadamia', 3562: 'brilliant', 3563: 'pedestrian', 3564: 'transformed', 3565: 'introduce', 3566: 'remembers', 3567: 'kiddos', 3568: 'flour', 3569: 'sending', 3570: 'apologize', 3571: 'overwhelmed', 3572: 'drunken', 3573: 'pad', 3574: 'thai', 3575: 'apache', 3576: 'photo', 3577: 'ops', 3578: 'pear', 3579: 'fudge', 3580: 'degree', 3581: 'tourist', 3582: 'trap', 3583: 'mystery', 3584: 'cabana', 3585: 'balcony', 3586: 'wing', 3587: 'push', 3588: 'unacceptable', 3589: 'mugs', 3590: 'pots', 3591: 'maintenance', 3592: 'closet', 3593: 'crew', 3594: 'net', 3595: 'dresses', 3596: 'turns', 3597: 'angela', 3598: 'julie', 3599: 'key', 3600: 'fountains', 3601: 'curly', 3602: 'nap', 3603: 'peace', 3604: 'pickles', 3605: 'joking', 3606: 'subway', 3607: 'plaza', 3608: 'fails', 3609: 'gift', 3610: 'younger', 3611: 'detroit', 3612: 'clearance', 3613: 'browse', 3614: 'ivy', 3615: 'fire', 3616: 'sexy', 3617: 'retro', 3618: 'currently', 3619: 'loosely', 3620: 'outing', 3621: 'importantly', 3622: 'chosen', 3623: 'oregano', 3624: 'campus', 3625: 'remains', 3626: 'vintage', 3627: 'decoration', 3628: 'passing', 3629: 'dive', 3630: 'patience', 3631: 'qc', 3632: 'vet', 3633: 'caring', 3634: 'smile', 3635: 'pets', 3636: 'approach', 3637: 'discussed', 3638: 'performed', 3639: 'vets', 3640: 'estimate', 3641: 'hundreds', 3642: 'thousands', 3643: 'listed', 3644: 'judged', 3645: 'listened', 3646: 'appropriate', 3647: 'concerns', 3648: 'lives', 3649: 'capable', 3650: 'ill', 3651: 'excuse', 3652: 'narrow', 3653: 'teeny', 3654: 'dim', 3655: 'candles', 3656: 'unbelievable', 3657: 'action', 3658: 'respect', 3659: 'plethora', 3660: 'veggie', 3661: 'entire', 3662: 'despise', 3663: 'greet', 3664: 'cater', 3665: 'research', 3666: 'jw', 3667: 'marriott', 3668: 'roy', 3669: 'amy', 3670: 'york', 3671: 'foodie', 3672: 'december', 3673: 'martinis', 3674: 'loaded', 3675: 'vodka', 3676: 'drinkers', 3677: 'accomodating', 3678: 'relatives', 3679: 'stunning', 3680: 'competent', 3681: 'recommendations', 3682: 'using', 3683: 'lobster', 3684: 'satay', 3685: 'basically', 3686: 'pinnacle', 3687: 'socks', 3688: 'rolling', 3689: 'merely', 3690: 'intimate', 3691: 'post', 3692: 'encrusted', 3693: 'divine', 3694: 'mmm', 3695: 'hawaiian', 3696: 'butterfish', 3697: 'miso', 3698: 'poor', 3699: 'ugly', 3700: 'surpassed', 3701: 'licked', 3702: 'planet', 3703: 'souffle', 3704: 'brad', 3705: 'naked', 3706: 'vanilla', 3707: 'rum', 3708: 'justice', 3709: 'kissing', 3710: 'george', 3711: 'spoiled', 3712: 'mention', 3713: 'marble', 3714: 'favors', 3715: 'ownership', 3716: 'introducing', 3717: 'blend', 3718: 'hesitant', 3719: 'psycho', 3720: 'cupcakes', 3721: 'operations', 3722: 'nom', 3723: 'irish', 3724: 'trips', 3725: 'queen', 3726: 'dobson', 3727: 'warner', 3728: 'bangers', 3729: 'guinness', 3730: 'tan', 3731: 'tofu', 3732: 'delights', 3733: 'gimlet', 3734: 'hue', 3735: 'fruity', 3736: 'assume', 3737: 'candle', 3738: 'workout', 3739: 'angles', 3740: 'purpose', 3741: 'tennis', 3742: 'courts', 3743: 'spinning', 3744: 'effect', 3745: 'locker', 3746: 'sauna', 3747: 'aunt', 3748: 'uncle', 3749: 'haddock', 3750: 'everyday', 3751: 'snottsdale', 3752: 'obvious', 3753: 'musicians', 3754: 'perform', 3755: 'sets', 3756: 'steak', 3757: 'habit', 3758: 'marinara', 3759: 'crusty', 3760: 'cosmo', 3761: 'linguine', 3762: 'clam', 3763: 'definite', 3764: 'phx', 3765: 'era', 3766: 'devoid', 3767: 'basic', 3768: 'courtesy', 3769: 'chimichanga', 3770: 'liver', 3771: 'owned', 3772: 'supper', 3773: 'sudden', 3774: 'flirting', 3775: 'ugh', 3776: 'technique', 3777: 'gracious', 3778: 'tips', 3779: 'tab', 3780: 'gila', 3781: 'burning', 3782: 'fee', 3783: 'http', 3784: 'coast', 3785: 'cheesesteak', 3786: 'hobby', 3787: 'largest', 3788: 'managers', 3789: 'variation', 3790: 'costs', 3791: 'freaking', 3792: 'stage', 3793: 'count', 3794: 'climb', 3795: 'pole', 3796: 'curious', 3797: 'flying', 3798: 'demand', 3799: 'song', 3800: 'screaming', 3801: 'restroom', 3802: 'won', 3803: 'troy', 3804: 'pharmacist', 3805: 'familiar', 3806: 'sterile', 3807: 'areas', 3808: 'advanced', 3809: 'spending', 3810: 'replacement', 3811: 'therapy', 3812: 'increase', 3813: 'safer', 3814: 'consult', 3815: 'addressed', 3816: 'further', 3817: 'happiness', 3818: 'manage', 3819: 'highlights', 3820: 'artichoke', 3821: 'rokerij', 3822: 'describe', 3823: 'reminiscent', 3824: 'dc', 3825: 'stone', 3826: 'leather', 3827: 'pepper', 3828: 'afterwards', 3829: 'queso', 3830: 'layered', 3831: 'length', 3832: 'wedding', 3833: 'led', 3834: 'union', 3835: 'tropical', 3836: 'pineapple', 3837: 'relish', 3838: 'ted', 3839: 'happens', 3840: 'beau', 3841: 'maui', 3842: 'ish', 3843: 'lava', 3844: 'messy', 3845: 'delish', 3846: 'hippies', 3847: 'affordable', 3848: 'barbecue', 3849: 'authority', 3850: 'tear', 3851: 'cobbler', 3852: 'christine', 3853: 'tells', 3854: 'humor', 3855: 'wax', 3856: 'dipped', 3857: 'reviewed', 3858: 'pushed', 3859: 'explained', 3860: 'uses', 3861: 'unpretentious', 3862: 'nachos', 3863: 'ohio', 3864: 'prime', 3865: 'chelsea', 3866: 'story', 3867: 'visits', 3868: 'pinot', 3869: 'grigio', 3870: 'polished', 3871: 'swordfish', 3872: 'inattentive', 3873: 'pointed', 3874: 'supporting', 3875: 'houses', 3876: 'studying', 3877: 'awkwardly', 3878: 'acknowledge', 3879: 'agave', 3880: 'acidic', 3881: 'flag', 3882: 'steps', 3883: 'disappeared', 3884: 'conclusion', 3885: 'careful', 3886: 'hamburger', 3887: 'windsor', 3888: 'dancing', 3889: 'weekly', 3890: 'versus', 3891: 'caroline', 3892: 'caesar', 3893: 'consider', 3894: 'nonetheless', 3895: 'ranges', 3896: 'rowdy', 3897: 'applebees', 3898: 'ginger', 3899: 'ale', 3900: 'kiltlifter', 3901: 'basmati', 3902: 'coleslaw', 3903: 'meatloaf', 3904: 'beauty', 3905: 'baker', 3906: 'circa', 3907: 'compliment', 3908: 'example', 3909: 'versions', 3910: 'par', 3911: 'christopher', 3912: 'steaks', 3913: 'melts', 3914: 'sammy', 3915: 'runs', 3916: 'yummm', 3917: 'hillstone', 3918: 'includes', 3919: 'bandera', 3920: 'noisy', 3921: 'gm', 3922: 'instructed', 3923: 'news', 3924: 'rudely', 3925: 'herself', 3926: 'insult', 3927: 'injury', 3928: 'compensate', 3929: 'repeat', 3930: 'establishments', 3931: 'unfortunate', 3932: 'experiencing', 3933: 'belong', 3934: 'dudes', 3935: 'beach', 3936: 'swim', 3937: 'trunks', 3938: 'dude', 3939: 'bench', 3940: 'talked', 3941: 'saturated', 3942: 'trout', 3943: 'palette', 3944: 'aioli', 3945: 'squeezing', 3946: 'appetizing', 3947: 'actual', 3948: 'hh', 3949: 'biggie', 3950: 'attract', 3951: 'contrary', 3952: 'ed', 3953: 'hardy', 3954: 'shirts', 3955: 'calling', 3956: 'giants', 3957: 'eddie', 3958: 'tartar', 3959: 'immediate', 3960: 'path', 3961: 'unbelievably', 3962: 'shipping', 3963: 'packages', 3964: 'miserable', 3965: 'forms', 3966: 'ship', 3967: 'method', 3968: 'conversation', 3969: 'deserve', 3970: 'stealing', 3971: 'lying', 3972: 'society', 3973: 'rewarded', 3974: 'seemingly', 3975: 'receipt', 3976: 'grain', 3977: 'inedible', 3978: 'practically', 3979: 'slimy', 3980: 'claimed', 3981: 'fountain', 3982: 'girlfriends', 3983: 'adorable', 3984: 'weather', 3985: 'distinct', 3986: 'tolerate', 3987: 'formerly', 3988: 'teachers', 3989: 'school', 3990: 'pretentious', 3991: 'passed', 3992: 'marathon', 3993: 'refreshment', 3994: 'improvements', 3995: 'crispy', 3996: 'chimis', 3997: 'youngest', 3998: 'gobbled', 3999: 'battered', 4000: 'stress', 4001: 'raised', 4002: 'proper', 4003: 'height', 4004: 'acoustics', 4005: 'adequate', 4006: 'acts', 4007: 'speakers', 4008: 'flown', 4009: 'subs', 4010: 'beneath', 4011: 'cans', 4012: 'toss', 4013: 'attractive', 4014: 'ranged', 4015: 'whiskey', 4016: 'christmas', 4017: 'cops', 4018: 'pulling', 4019: 'rhythm', 4020: 'america', 4021: 'quesadilla', 4022: 'opens', 4023: 'january', 4024: 'botanical', 4025: 'gardens', 4026: 'opposed', 4027: 'difference', 4028: 'cactus', 4029: 'booked', 4030: 'guest', 4031: 'assigned', 4032: 'promise', 4033: 'bills', 4034: 'windshield', 4035: 'blades', 4036: 'dumb', 4037: 'site', 4038: 'model', 4039: 'aisle', 4040: 'throwing', 4041: 'cardboard', 4042: 'bin', 4043: 'minds', 4044: 'val', 4045: 'rd', 4046: 'cobb', 4047: 'iceberg', 4048: 'shaved', 4049: 'romaine', 4050: 'bits', 4051: 'forgetting', 4052: 'caviar', 4053: 'pancakes', 4054: 'grandma', 4055: 'brother', 4056: 'pecans', 4057: 'whoa', 4058: 'suggests', 4059: 'improved', 4060: 'dramatically', 4061: 'mountains', 4062: 'trails', 4063: 'espresso', 4064: 'shot', 4065: 'tends', 4066: 'subpar', 4067: 'successful', 4068: 'paintings', 4069: 'element', 4070: 'cher', 4071: 'madonna', 4072: 'lounging', 4073: 'regularly', 4074: 'registered', 4075: 'carrying', 4076: 'entry', 4077: 'id', 4078: 'prompt', 4079: 'vehicle', 4080: 'luggage', 4081: 'delayed', 4082: 'ticket', 4083: 'drivers', 4084: 'entrance', 4085: 'bound', 4086: 'washington', 4087: 'website', 4088: 'directions', 4089: 'processed', 4090: 'driving', 4091: 'standards', 4092: 'whoever', 4093: 'approximately', 4094: 'equivalent', 4095: 'pat', 4096: 'chompies', 4097: 'dump', 4098: 'reminds', 4099: 'sadly', 4100: 'france', 4101: 'zinc', 4102: 'wind', 4103: 'manager', 4104: 'hearing', 4105: 'peoples', 4106: 'lone', 4107: 'definately', 4108: 'loco', 4109: 'criticism', 4110: 'lemonade', 4111: 'hash', 4112: 'browns', 4113: 'donuts', 4114: 'dunkin', 4115: 'donut', 4116: 'bosa', 4117: 'echo', 4118: 'positive', 4119: 'grille', 4120: 'downright', 4121: 'mouthwatering', 4122: 'bone', 4123: 'piestewa', 4124: 'valued', 4125: 'tray', 4126: 'sake', 4127: 'salons', 4128: 'epic', 4129: 'salon', 4130: 'terms', 4131: 'dined', 4132: 'flower', 4133: 'wooden', 4134: 'crate', 4135: 'sundried', 4136: 'intrigued', 4137: 'slaw', 4138: 'bravo', 4139: 'drip', 4140: 'noteworthy', 4141: 'sampled', 4142: 'fanatic', 4143: 'kudos', 4144: 'trailer', 4145: 'opt', 4146: 'gripe', 4147: 'cob', 4148: 'depends', 4149: 'magazine', 4150: 'hung', 4151: 'mark', 4152: 'leaf', 4153: 'form', 4154: 'permanent', 4155: 'cum', 4156: 'gallery', 4157: 'tricky', 4158: 'exists', 4159: 'becoming', 4160: 'frustrated', 4161: 'artwork', 4162: 'homey', 4163: 'duck', 4164: 'brew', 4165: 'manages', 4166: 'respectable', 4167: 'hoped', 4168: 'inspired', 4169: 'ra', 4170: 'frequently', 4171: 'addictive', 4172: 'nigiri', 4173: 'upgrade', 4174: 'rainbow', 4175: 'himself', 4176: 'coins', 4177: 'discussion', 4178: 'minus', 4179: 'indeed', 4180: 'thanked', 4181: 'boring', 4182: 'loops', 4183: 'awesomeness', 4184: 'built', 4185: 'tuesday', 4186: 'stickers', 4187: 'skin', 4188: 'delicate', 4189: 'dumpling', 4190: 'delectable', 4191: 'balanced', 4192: 'overpower', 4193: 'underneath', 4194: 'scattered', 4195: 'chopsticks', 4196: 'spoon', 4197: 'stir', 4198: 'asian', 4199: 'fluffy', 4200: 'icy', 4201: 'dreamy', 4202: 'confection', 4203: 'sticky', 4204: 'artificial', 4205: 'curries', 4206: 'clothes', 4207: 'appointments', 4208: 'compliments', 4209: 'blanco', 4210: 'requested', 4211: 'oj', 4212: 'bloody', 4213: 'response', 4214: 'hiring', 4215: 'ruining', 4216: 'reputation', 4217: 'earn', 4218: 'theatre', 4219: 'arrowhead', 4220: 'bustling', 4221: 'concessions', 4222: 'meant', 4223: 'independent', 4224: 'sculptures', 4225: 'revealed', 4226: 'innsuites', 4227: 'nestled', 4228: 'squaw', 4229: 'preserve', 4230: 'access', 4231: 'northern', 4232: 'social', 4233: 'yogurt', 4234: 'juices', 4235: 'angry', 4236: 'bro', 4237: 'styles', 4238: 'comparing', 4239: 'boombozz', 4240: 'grimaldi', 4241: 'cheesy', 4242: 'accurate', 4243: 'description', 4244: 'succeed', 4245: 'members', 4246: 'scared', 4247: 'ethnic', 4248: 'downside', 4249: 'muddy', 4250: 'shoes', 4251: 'pup', 4252: 'jamba', 4253: 'smoothie', 4254: 'acai', 4255: 'smoothies', 4256: 'reliable', 4257: 'chances', 4258: 'unknown', 4259: 'goods', 4260: 'pancake', 4261: 'mmmm', 4262: 'portabella', 4263: 'gf', 4264: 'chair', 4265: 'sweetheart', 4266: 'pupusa', 4267: 'blocks', 4268: 'wake', 4269: 'brewery', 4270: 'jobs', 4271: 'bj', 4272: 'gluten', 4273: 'talented', 4274: 'amanda', 4275: 'unhappy', 4276: 'tag', 4277: 'budget', 4278: 'mat', 4279: 'vicinity', 4280: 'peking', 4281: 'eggroll', 4282: 'glazed', 4283: 'disclaimer', 4284: 'developed', 4285: 'dislike', 4286: 'hated', 4287: 'fortune', 4288: 'kabob', 4289: 'equally', 4290: 'shaking', 4291: 'encounter', 4292: 'bocca', 4293: 'demographic', 4294: 'canteen', 4295: 'chic', 4296: 'lie', 4297: 'ups', 4298: 'loads', 4299: 'latin', 4300: 'suggestion', 4301: 'comments', 4302: 'suited', 4303: 'yelpers', 4304: 'suspect', 4305: 'complains', 4306: 'cordial', 4307: 'pains', 4308: 'harsh', 4309: 'shuttle', 4310: 'avoid', 4311: 'moody', 4312: 'cards', 4313: 'premises', 4314: 'gyros', 4315: 'nyc', 4316: 'wallpaper', 4317: 'weights', 4318: 'basketball', 4319: 'court', 4320: 'men', 4321: 'sacks', 4322: 'healthier', 4323: 'van', 4324: 'sprouts', 4325: 'rye', 4326: 'smelling', 4327: 'coat', 4328: 'superior', 4329: 'competition', 4330: 'tgi', 4331: 'brim', 4332: 'postino', 4333: 'mondays', 4334: 'tuesdays', 4335: 'fingers', 4336: 'sharing', 4337: 'complementary', 4338: 'shady', 4339: 'farm', 4340: 'scheme', 4341: 'seasoning', 4342: 'jalapenos', 4343: 'partying', 4344: 'paradise', 4345: 'combos', 4346: 'crave', 4347: 'interactive', 4348: 'celebrate', 4349: 'originally', 4350: 'discovered', 4351: 'reverse', 4352: 'greatly', 4353: 'calzones', 4354: 'courtyard', 4355: 'overbearing', 4356: 'buys', 4357: 'audio', 4358: 'easiest', 4359: 'dime', 4360: 'drawback', 4361: 'theme', 4362: 'execution', 4363: 'lightrail', 4364: 'butt', 4365: 'drag', 4366: 'queens', 4367: 'groove', 4368: 'lesbian', 4369: 'depending', 4370: 'busier', 4371: 'rue', 4372: 'marquee', 4373: 'sing', 4374: 'fully', 4375: 'steal', 4376: 'boots', 4377: 'roots', 4378: 'pit', 4379: 'deck', 4380: 'sunny', 4381: 'gathering', 4382: 'nightmare', 4383: 'digress', 4384: 'accommodate', 4385: 'sucks', 4386: 'combine', 4387: 'knocks', 4388: 'rotten', 4389: 'tamale', 4390: 'rancid', 4391: 'stinky', 4392: 'shrugged', 4393: 'truffle', 4394: 'tower', 4395: 'goodies', 4396: 'ocean', 4397: 'moist', 4398: 'jus', 4399: 'refused', 4400: 'sommelier', 4401: 'skipped', 4402: 'pull', 4403: 'napkin', 4404: 'flawless', 4405: 'bourbon', 4406: 'chicks', 4407: 'fools', 4408: 'mechanical', 4409: 'bull', 4410: 'suppose', 4411: 'suspects', 4412: 'cowboys', 4413: 'entertainment', 4414: 'edit', 4415: 'rap', 4416: 'sessions', 4417: 'membership', 4418: 'pitas', 4419: 'flaming', 4420: 'festive', 4421: 'custard', 4422: 'carmel', 4423: 'displays', 4424: 'cases', 4425: 'closing', 4426: 'donated', 4427: 'donations', 4428: 'explore', 4429: 'reply', 4430: 'acknowledged', 4431: 'presence', 4432: 'dmv', 4433: 'map', 4434: 'precious', 4435: 'fortunate', 4436: 'receiving', 4437: 'magnificent', 4438: 'painful', 4439: 'public', 4440: 'massaging', 4441: 'creates', 4442: 'pleasing', 4443: 'reference', 4444: 'notorious', 4445: 'rocking', 4446: 'forth', 4447: 'clock', 4448: 'anxious', 4449: 'leash', 4450: 'quietly', 4451: 'monster', 4452: 'aisles', 4453: 'maintain', 4454: 'tones', 4455: 'calls', 4456: 'le', 4457: 'continued', 4458: 'humans', 4459: 'disappear', 4460: 'quit', 4461: 'hitting', 4462: 'recipe', 4463: 'dreams', 4464: 'humanity', 4465: 'painfully', 4466: 'motivation', 4467: 'slip', 4468: 'sink', 4469: 'sigh', 4470: 'rave', 4471: 'jumbo', 4472: 'caramelized', 4473: 'risotto', 4474: 'accessories', 4475: 'wheels', 4476: 'endless', 4477: 'jalapeño', 4478: 'weekday', 4479: 'rotisserie', 4480: 'fond', 4481: 'squash', 4482: 'herb', 4483: 'consist', 4484: 'boston', 4485: 'banh', 4486: 'veg', 4487: 'compares', 4488: 'coliseum', 4489: 'c', 4490: 'amaze', 4491: 'facilities', 4492: 'breathtaking', 4493: 'nightlife', 4494: 'functional', 4495: 'fits', 4496: 'comfortably', 4497: 'aluminum', 4498: 'grassy', 4499: 'rows', 4500: 'intimidated', 4501: 'enormous', 4502: 'footlong', 4503: 'foul', 4504: 'umbrella', 4505: 'sip', 4506: 'clerks', 4507: 'ways', 4508: 'crosswalk', 4509: 'bridge', 4510: 'sole', 4511: 'village', 4512: 'magical', 4513: 'wonders', 4514: 'tony', 4515: 'handles', 4516: 'belts', 4517: 'repairs', 4518: 'lift', 4519: 'frame', 4520: 'quirky', 4521: 'oriental', 4522: 'noodle', 4523: 'grade', 4524: 'boo', 4525: 'eel', 4526: 'unagi', 4527: 'disgusted', 4528: 'del', 4529: 'march', 4530: 'microwave', 4531: 'breaded', 4532: 'cafeteria', 4533: 'lovers', 4534: 'samples', 4535: 'stamp', 4536: 'eager', 4537: 'almond', 4538: 'flavoring', 4539: 'soo', 4540: 'loyalty', 4541: 'tiki', 4542: 'legal', 4543: 'escaping', 4544: 'female', 4545: 'warrant', 4546: 'sausages', 4547: 'yellowtail', 4548: 'purple', 4549: 'edges', 4550: 'glittery', 4551: 'renamed', 4552: 'locate', 4553: 'hipsters', 4554: 'whose', 4555: 'partake', 4556: 'barrio', 4557: 'bus', 4558: 'fusion', 4559: 'language', 4560: 'forgotten', 4561: 'ironic', 4562: 'immigrants', 4563: 'daughters', 4564: 'cleaning', 4565: 'landscaping', 4566: 'truck', 4567: 'supposedly', 4568: 'organized', 4569: 'shoppers', 4570: 'seasonal', 4571: 'perfume', 4572: 'bombs', 4573: 'wider', 4574: 'sensitive', 4575: 'racks', 4576: 'mines', 4577: 'sizes', 4578: 'sold', 4579: 'returns', 4580: 'seasons', 4581: 'pinch', 4582: 'leftover', 4583: 'points', 4584: 'honor', 4585: 'superbowl', 4586: 'majerles', 4587: 'hockey', 4588: 'extreme', 4589: 'surfing', 4590: 'lay', 4591: 'hilarious', 4592: 'reuben', 4593: 'contact', 4594: 'attitudes', 4595: 'viewing', 4596: 'pleasure', 4597: 'designed', 4598: 'multitude', 4599: 'sporting', 4600: 'accomplished', 4601: 'pane', 4602: 'bianco', 4603: 'celebrated', 4604: 'schedule', 4605: 'jobot', 4606: 'shortly', 4607: 'opting', 4608: 'awaited', 4609: 'chalkboard', 4610: 'sounding', 4611: 'appealing', 4612: 'featuring', 4613: 'apparel', 4614: 'manchego', 4615: 'fired', 4616: 'spongy', 4617: 'glory', 4618: 'ripe', 4619: 'layer', 4620: 'brooklyn', 4621: 'genre', 4622: 'result', 4623: 'exquisite', 4624: 'largely', 4625: 'masterpiece', 4626: 'organic', 4627: 'candied', 4628: 'crunch', 4629: 'prevent', 4630: 'exact', 4631: 'measured', 4632: 'rellano', 4633: 'plentiful', 4634: 'accompanied', 4635: 'batter', 4636: 'remarkable', 4637: 'garnish', 4638: 'mojo', 4639: 'fro', 4640: 'yo', 4641: 'twitter', 4642: 'chalet', 4643: 'indie', 4644: 'amid', 4645: 'strip', 4646: 'malls', 4647: 'targets', 4648: 'comedy', 4649: 'drew', 4650: 'expertly', 4651: 'crafted', 4652: 'disappoint', 4653: 'screens', 4654: 'showcase', 4655: 'crepe', 4656: 'medallions', 4657: 'enjoyable', 4658: 'performances', 4659: 'attended', 4660: 'curiosity', 4661: 'amateur', 4662: 'handsome', 4663: 'comfort', 4664: 'advertise', 4665: 'pools', 4666: 'tubs', 4667: 'stream', 4668: 'river', 4669: 'commented', 4670: 'garden', 4671: 'contains', 4672: 'unorganized', 4673: 'valid', 4674: 'replace', 4675: 'gladly', 4676: 'avoiding', 4677: 'culinary', 4678: 'creations', 4679: 'culture', 4680: 'padre', 4681: 'animals', 4682: 'curds', 4683: 'med', 4684: 'blind', 4685: 'thirsty', 4686: 'eatery', 4687: 'hurt', 4688: 'cranberry', 4689: 'scone', 4690: 'slathered', 4691: 'pretzel', 4692: 'windy', 4693: 'require', 4694: 'male', 4695: 'shorts', 4696: 'huevos', 4697: 'dense', 4698: 'nearly', 4699: 'almonds', 4700: 'blueberries', 4701: 'noted', 4702: 'ding', 4703: 'carpet', 4704: 'greatness', 4705: 'faux', 4706: 'kung', 4707: 'pao', 4708: 'chilli', 4709: 'celery', 4710: 'equals', 4711: 'bulbs', 4712: 'replaced', 4713: 'burnt', 4714: 'needles', 4715: 'bookstore', 4716: 'nor', 4717: 'switched', 4718: 'happen', 4719: 'preparation', 4720: 'spelling', 4721: 'iphone', 4722: 'lacked', 4723: 'junk', 4724: 'sought', 4725: 'operated', 4726: 'grown', 4727: 'fulfill', 4728: 'ability', 4729: 'anytime', 4730: 'reef', 4731: 'airlines', 4732: 'deserves', 4733: 'fly', 4734: 'airways', 4735: 'nobody', 4736: 'delta', 4737: 'attendants', 4738: 'cry', 4739: 'oops', 4740: 'finishing', 4741: 'jump', 4742: 'fourth', 4743: 'crappy', 4744: 'buck', 4745: 'gordon', 4746: 'sufficient', 4747: 'rounds', 4748: 'darts', 4749: 'pollo', 4750: 'pupusas', 4751: 'con', 4752: 'spicier', 4753: 'cabbage', 4754: 'screwed', 4755: 'guilty', 4756: 'plantain', 4757: 'carpaccio', 4758: 'lake', 4759: 'history', 4760: 'sicilian', 4761: 'ny', 4762: 'military', 4763: 'cleanliness', 4764: 'maximum', 4765: 'holds', 4766: 'ridiculously', 4767: 'citizens', 4768: 'yumm', 4769: 'buca', 4770: 'beppo', 4771: 'trinkets', 4772: 'coupons', 4773: 'helps', 4774: 'switch', 4775: 'results', 4776: 'livingsocial', 4777: 'purchased', 4778: 'rate', 4779: 'benefit', 4780: 'animal', 4781: 'alcoholic', 4782: 'hurricane', 4783: 'portioned', 4784: 'fishy', 4785: 'trains', 4786: 'display', 4787: 'bento', 4788: 'afterward', 4789: 'nervous', 4790: 'herbed', 4791: 'declined', 4792: 'disease', 4793: 'caprese', 4794: 'fontina', 4795: 'pancetta', 4796: 'marsala', 4797: 'questionable', 4798: 'impeccable', 4799: 'priority', 4800: 'uye', 4801: 'julia', 4802: 'highway', 4803: 'consisted', 4804: 'individual', 4805: 'booze', 4806: 'frosty', 4807: 'slipped', 4808: 'bs', 4809: 'thursdays', 4810: 'sundays', 4811: 'karaoke', 4812: 'forbidden', 4813: 'cheers', 4814: 'whatsoever', 4815: 'patios', 4816: 'halloween', 4817: 'trend', 4818: 'steakhouse', 4819: 'butcher', 4820: 'drum', 4821: 'printed', 4822: 'clueless', 4823: 'passable', 4824: 'ipa', 4825: 'markup', 4826: 'ribeye', 4827: 'drowned', 4828: 'cauliflower', 4829: 'powered', 4830: 'allergic', 4831: 'peanuts', 4832: 'wines', 4833: 'tuck', 4834: 'drafts', 4835: 'tee', 4836: 'useless', 4837: 'sarcasm', 4838: 'waitresses', 4839: 'silver', 4840: 'exceeded', 4841: 'jack', 4842: 'relleno', 4843: 'agua', 4844: 'horchata', 4845: 'tres', 4846: 'ca', 4847: 'package', 4848: 'keg', 4849: 'barbers', 4850: 'westside', 4851: 'barber', 4852: 'quantity', 4853: 'pate', 4854: 'mustard', 4855: 'baguette', 4856: 'steered', 4857: 'direction', 4858: 'paired', 4859: 'sauvignon', 4860: 'blanc', 4861: 'peas', 4862: 'breast', 4863: 'atop', 4864: 'blackberry', 4865: 'caught', 4866: 'rhone', 4867: 'restrictions', 4868: 'obliged', 4869: 'crème', 4870: 'apparent', 4871: 'equal', 4872: 'minded', 4873: 'dutch', 4874: 'bros', 4875: 'holiday', 4876: 'memorial', 4877: 'americano', 4878: 'proportions', 4879: 'chai', 4880: 'ngd', 4881: 'tears', 4882: 'removed', 4883: 'visually', 4884: 'carton', 4885: 'contents', 4886: 'boiling', 4887: 'furthermore', 4888: 'appears', 4889: 'routes', 4890: 'gentleman', 4891: 'properly', 4892: 'glassware', 4893: 'silverware', 4894: 'container', 4895: 'material', 4896: 'radio', 4897: 'buttered', 4898: 'carnivore', 4899: 'melrose', 4900: 'tone', 4901: 'reality', 4902: 'rushed', 4903: 'showing', 4904: 'pajamas', 4905: 'maria', 4906: 'clue', 4907: 'ruins', 4908: 'acting', 4909: 'wherever', 4910: 'embarrassed', 4911: 'sonora', 4912: 'mural', 4913: 'goddamn', 4914: 'dos', 4915: 'equis', 4916: 'taquitos', 4917: 'sunflower', 4918: 'unpleasant', 4919: 'inches', 4920: 'load', 4921: 'trays', 4922: 'mimosas', 4923: 'slam', 4924: 'foodies', 4925: 'existed', 4926: 'omelette', 4927: 'harvest', 4928: 'scrambled', 4929: 'hill', 4930: 'muffins', 4931: 'jars', 4932: 'gifts', 4933: 'therefore', 4934: 'warmer', 4935: 'attracted', 4936: 'coolness', 4937: 'desk', 4938: 'tailored', 4939: 'individually', 4940: 'million', 4941: 'definition', 4942: 'woohoo', 4943: 'folding', 4944: 'hurting', 4945: 'scarf', 4946: 'perks', 4947: 'scones', 4948: 'wildflower', 4949: 'prepare', 4950: 'officer', 4951: 'window', 4952: 'holders', 4953: 'railing', 4954: 'cilantro', 4955: 'charged', 4956: 'genuinely', 4957: 'zin', 4958: 'wednesdays', 4959: 'promptly', 4960: 'science', 4961: 'counts', 4962: 'holding', 4963: 'engineering', 4964: 'cast', 4965: 'bang', 4966: 'theory', 4967: 'proud', 4968: 'exhibits', 4969: 'exhibit', 4970: 'household', 4971: 'reduce', 4972: 'impact', 4973: 'nature', 4974: 'naturally', 4975: 'knowledge', 4976: 'museum', 4977: 'covers', 4978: 'systems', 4979: 'human', 4980: 'blows', 4981: 'objects', 4982: 'tests', 4983: 'admission', 4984: 'films', 4985: 'extras', 4986: 'imax', 4987: 'planetarium', 4988: 'groups', 4989: 'cleared', 4990: 'scream', 4991: 'makeover', 4992: 'marketing', 4993: 'potential', 4994: 'category', 4995: 'vaguely', 4996: 'inspire', 4997: 'confidence', 4998: 'elephant', 4999: 'background', 5000: 'suns', 5001: 'present', 5002: 'jon', 5003: 'charlie', 5004: 'erin', 5005: 'heritage', 5006: 'forno', 5007: 'longest', 5008: 'ventured', 5009: 'geisha', 5010: 'hiked', 5011: 'metro', 5012: 'darn', 5013: 'improvement', 5014: 'significant', 5015: 'scrumptious', 5016: 'mignon', 5017: 'durant', 5018: 'sundae', 5019: 'spicey', 5020: 'hostesses', 5021: 'father', 5022: 'nicole', 5023: 'au', 5024: 'address', 5025: 'finger', 5026: 'rule', 5027: 'affected', 5028: 'saved', 5029: 'greene', 5030: 'quoted', 5031: 'edge', 5032: 'facing', 5033: 'spite', 5034: 'nine', 5035: 'escaped', 5036: 'indicated', 5037: 'uninspired', 5038: 'dozen', 5039: 'radius', 5040: 'dozens', 5041: 'earned', 5042: 'dan', 5043: 'excitement', 5044: 'buzzing', 5045: 'misses', 5046: 'faithful', 5047: 'zipps', 5048: 'bachelorette', 5049: 'expense', 5050: 'regional', 5051: 'annual', 5052: 'biking', 5053: 'surrounded', 5054: 'serene', 5055: 'hopes', 5056: 'surly', 5057: 'prints', 5058: 'envelopes', 5059: 'letters', 5060: 'zip', 5061: 'netflix', 5062: 'addict', 5063: 'overrated', 5064: 'shut', 5065: 'moves', 5066: 'plane', 5067: 'lattes', 5068: 'shaped', 5069: 'university', 5070: 'ash', 5071: 'blank', 5072: 'mixers', 5073: 'opted', 5074: 'cue', 5075: 'inability', 5076: 'questioned', 5077: 'artsy', 5078: 'standouts', 5079: 'adobo', 5080: 'marg', 5081: 'raved', 5082: 'stiff', 5083: 'lax', 5084: 'boba', 5085: 'pistachio', 5086: 'diner', 5087: 'absent', 5088: 'fajitas', 5089: 'electronics', 5090: 'lab', 5091: 'department', 5092: 'merchandise', 5093: 'shelves', 5094: 'pumps', 5095: 'cancel', 5096: 'refund', 5097: 'policy', 5098: 'corned', 5099: 'kitschy', 5100: 'slim', 5101: 'motel', 5102: 'lodge', 5103: 'claim', 5104: 'plush', 5105: 'mini', 5106: 'fridge', 5107: 'continental', 5108: 'mecca', 5109: 'legendary', 5110: 'hideaway', 5111: 'stateside', 5112: 'presents', 5113: 'thrive', 5114: 'westin', 5115: 'muddled', 5116: 'stronger', 5117: 'ruby', 5118: 'empanada', 5119: 'cider', 5120: 'syrupy', 5121: 'concoction', 5122: 'brewer', 5123: 'chat', 5124: 'mario', 5125: 'feta', 5126: 'pile', 5127: 'tikka', 5128: 'masala', 5129: 'phenomenal', 5130: 'snagged', 5131: 'threw', 5132: 'raving', 5133: 'torta', 5134: 'tortas', 5135: 'los', 5136: 'reyes', 5137: 'st', 5138: 'thomas', 5139: 'courteous', 5140: 'specialty', 5141: 'kitty', 5142: 'hopping', 5143: 'jen', 5144: 'searching', 5145: 'consultation', 5146: 'furry', 5147: 'critters', 5148: 'interactions', 5149: 'cats', 5150: 'understands', 5151: 'foreign', 5152: 'wisconsin', 5153: 'cardinals', 5154: 'devils', 5155: 'coyotes', 5156: 'taps', 5157: 'rundown', 5158: 'philly', 5159: 'substantial', 5160: 'ounces', 5161: 'delightfully', 5162: 'tart', 5163: 'essentials', 5164: 'dbg', 5165: 'meetings', 5166: 'butterfly', 5167: 'butterflies', 5168: 'yellow', 5169: 'kiosk', 5170: 'photography', 5171: 'lock', 5172: 'paint', 5173: 'lied', 5174: 'camper', 5175: 'legit', 5176: 'authenticity', 5177: 'accompanying', 5178: 'sinfully', 5179: 'surely', 5180: 'seed', 5181: 'canned', 5182: 'minimum', 5183: 'bananas', 5184: 'organics', 5185: 'carbonara', 5186: 'freshest', 5187: 'visitors', 5188: 'providing', 5189: 'joining', 5190: 'mailing', 5191: 'facebook', 5192: 'page', 5193: 'hoa', 5194: 'branch', 5195: 'apprehensive', 5196: 'maintained', 5197: 'born', 5198: 'vietnam', 5199: 'traveled', 5200: 'munch', 5201: 'steep', 5202: 'wicked', 5203: 'josh', 5204: 'sleek', 5205: 'marks', 5206: 'sophisticated', 5207: 'goodcents', 5208: 'walnuts', 5209: 'balance', 5210: 'yelled', 5211: 'frosting', 5212: 'expand', 5213: 'maricopa', 5214: 'summit', 5215: 'favorable', 5216: 'wrapping', 5217: 'brands', 5218: 'companies', 5219: 'chestnut', 5220: 'dinners', 5221: 'novelty', 5222: 'markets', 5223: 'meticulously', 5224: 'reserved', 5225: 'direct', 5226: 'hosted', 5227: 'kevin', 5228: 'binkley', 5229: 'chilled', 5230: 'entrée', 5231: 'huckleberry', 5232: 'anthony', 5233: 'andre', 5234: 'moscato', 5235: 'riesling', 5236: 'involved', 5237: 'charred', 5238: 'demo', 5239: 'p', 5240: 'entertained', 5241: 'lunchtime', 5242: 'recipes', 5243: 'caramel', 5244: 'brownies', 5245: 'sanctuary', 5246: 'ballroom', 5247: 'bride', 5248: 'jade', 5249: 'overlooked', 5250: 'stairs', 5251: 'reception', 5252: 'flowing', 5253: 'delux', 5254: 'craziness', 5255: 'outta', 5256: 'crispier', 5257: 'worried', 5258: 'ashamed', 5259: 'pig', 5260: 'joy', 5261: 'hawaii', 5262: 'snow', 5263: 'puppy', 5264: 'birthdays', 5265: 'stingray', 5266: 'indoors', 5267: 'nick', 5268: 'jokes', 5269: 'diverse', 5270: 'omelets', 5271: 'varieties', 5272: 'meatballs', 5273: 'retailers', 5274: 'nw', 5275: 'expanded', 5276: 'rank', 5277: 'dreaming', 5278: 'ikea', 5279: 'angels', 5280: 'poorer', 5281: 'furnishings', 5282: 'child', 5283: 'appeal', 5284: 'specifically', 5285: 'babies', 5286: 'insanely', 5287: 'pillows', 5288: 'essentially', 5289: 'fo', 5290: 'concentrate', 5291: 'afterthought', 5292: 'phoenicians', 5293: 'associated', 5294: 'eric', 5295: 'testing', 5296: 'knocking', 5297: 'ignoring', 5298: 'tasteless', 5299: 'onsite', 5300: 'spotty', 5301: 'overpowering', 5302: 'explains', 5303: 'understandable', 5304: 'rudy', 5305: 'settled', 5306: 'backyard', 5307: 'tuned', 5308: 'dilemma', 5309: 'candace', 5310: 'mins', 5311: 'cuz', 5312: 'x', 5313: 'specialties', 5314: 'drinker', 5315: 'whoop', 5316: 'sapporo', 5317: 'discounts', 5318: 'n', 5319: 'energetic', 5320: 'lux', 5321: 'july', 5322: 'mason', 5323: 'beforehand', 5324: 'boxing', 5325: 'lessons', 5326: 'bet', 5327: 'sprite', 5328: 'stole', 5329: 'touched', 5330: 'w', 5331: 'delicous', 5332: 'regretted', 5333: 'following', 5334: 'butters', 5335: 'pillow', 5336: 'occassions', 5337: 'lacks', 5338: 'substandard', 5339: 'inflated', 5340: 'gigantic', 5341: 'slept', 5342: 'chaise', 5343: 'spirits', 5344: 'clarendon', 5345: 'buzzed', 5346: 'alert', 5347: 'teeth', 5348: 'spit', 5349: 'distrito', 5350: 'scope', 5351: 'designer', 5352: 'saguaro', 5353: 'guac', 5354: 'radish', 5355: 'zing', 5356: 'dives', 5357: 'wished', 5358: 'puff', 5359: 'grapes', 5360: 'lola', 5361: 'flaky', 5362: 'dynamite', 5363: 'sunglasses', 5364: 'patties', 5365: 'tilapia', 5366: 'insane', 5367: 'saigon', 5368: 'shaken', 5369: 'diced', 5370: 'brownie', 5371: 'heartbeat', 5372: 'refreshed', 5373: 'savings', 5374: 'faces', 5375: 'broth', 5376: 'hearty', 5377: 'flattened', 5378: 'indoor', 5379: 'noir', 5380: 'spotted', 5381: 'prado', 5382: 'impression', 5383: 'nightly', 5384: 'spain', 5385: 'encourage', 5386: 'bon', 5387: 'appetite', 5388: 'lacking', 5389: 'insurance', 5390: 'progress', 5391: 'prove', 5392: 'responded', 5393: 'neglected', 5394: 'underwhelming', 5395: 'easier', 5396: 'friendliest', 5397: 'lotus', 5398: 'mayo', 5399: 'overcharged', 5400: 'apology', 5401: 'coworker', 5402: 'heated', 5403: 'allow', 5404: 'gentle', 5405: 'blended', 5406: 'mocha', 5407: 'flavour', 5408: 'rds', 5409: 'instructors', 5410: 'beginner', 5411: 'untrained', 5412: 'sweaty', 5413: 'intense', 5414: 'saving', 5415: 'legally', 5416: 'claims', 5417: 'explaining', 5418: 'nutrition', 5419: 'andrew', 5420: 'weil', 5421: 'gorgonzola', 5422: 'mild', 5423: 'dumplings', 5424: 'cod', 5425: 'measure', 5426: 'fox', 5427: 'apples', 5428: 'goal', 5429: 'importance', 5430: 'mainstream', 5431: 'babbo', 5432: 'downfall', 5433: 'darkness', 5434: 'storage', 5435: 'woke', 5436: 'squeeze', 5437: 'efforts', 5438: 'pops', 5439: 'nostalgia', 5440: 'participate', 5441: 'j', 5442: 'oozing', 5443: 'dollop', 5444: 'caper', 5445: 'arranged', 5446: 'cycle', 5447: 'riders', 5448: 'directed', 5449: 'wandered', 5450: 'bikers', 5451: 'carly', 5452: 'macaroni', 5453: 'german', 5454: 'bratwurst', 5455: 'schnitzel', 5456: 'spare', 5457: 'appeared', 5458: 'reduced', 5459: 'subsequently', 5460: 'modified', 5461: 'reflect', 5462: 'honesty', 5463: 'behold', 5464: 'procedure', 5465: 're', 5466: 'hmm', 5467: 'draw', 5468: 'comparison', 5469: 'deserved', 5470: 'naan', 5471: 'austin', 5472: 'killing', 5473: 'louis', 5474: 'flatbread', 5475: 'tandoori', 5476: 'bicycle', 5477: 'tomorrow', 5478: 'blasting', 5479: 'hop', 5480: 'arrival', 5481: 'palate', 5482: 'rubber', 5483: 'displayed', 5484: 'carrot', 5485: 'blonde', 5486: 'sprinkles', 5487: 'dairy', 5488: 'bubble', 5489: 'shaded', 5490: 'pond', 5491: 'naughty', 5492: 'logo', 5493: 'hyped', 5494: 'southern', 5495: 'listing', 5496: 'frosted', 5497: 'thirty', 5498: 'percent', 5499: 'krispy', 5500: 'kreme', 5501: 'sticks', 5502: 'basement', 5503: 'idiots', 5504: 'cochinita', 5505: 'cali', 5506: 'deliciousness', 5507: 'fundido', 5508: 'churros', 5509: 'buddies', 5510: 'forewarned', 5511: 'spendy', 5512: 'shoestring', 5513: 'outback', 5514: 'hassle', 5515: 'blossom', 5516: 'lavender', 5517: 'apricot', 5518: 'roma', 5519: 'swirl', 5520: 'complement', 5521: 'solo', 5522: 'overkill', 5523: 'hybrid', 5524: 'trick', 5525: 'intact', 5526: 'grouper', 5527: 'confused', 5528: 'boneless', 5529: 'saucy', 5530: 'nail', 5531: 'pedicures', 5532: 'deluxe', 5533: 'designs', 5534: 'applied', 5535: 'coffees', 5536: 'applaud', 5537: 'cathedral', 5538: 'decade', 5539: 'owning', 5540: 'mobile', 5541: 'variations', 5542: 'bump', 5543: 'char', 5544: 'steam', 5545: 'smokey', 5546: 'patty', 5547: 'national', 5548: 'pickle', 5549: 'unclear', 5550: 'source', 5551: 'fires', 5552: 'produced', 5553: 'chuck', 5554: 'condiments', 5555: 'skeptical', 5556: 'condiment', 5557: 'zucchini', 5558: 'afternoons', 5559: 'homework', 5560: 'professors', 5561: 'hipster', 5562: 'population', 5563: 'delivers', 5564: 'timers', 5565: 'bold', 5566: 'receive', 5567: 'suprised', 5568: 'fabric', 5569: 'tolerable', 5570: 'supported', 5571: 'recognized', 5572: 'truffles', 5573: 'burned', 5574: 'bush', 5575: 'evidently', 5576: 'creativity', 5577: 'paneer', 5578: 'bollywood', 5579: 'pluses', 5580: 'buffets', 5581: 'vegetarians', 5582: 'l', 5583: 'earrings', 5584: 'imaginable', 5585: 'coin', 5586: 'routine', 5587: 'clips', 5588: 'assured', 5589: 'earl', 5590: 'spices', 5591: 'stylish', 5592: 'plugs', 5593: 'web', 5594: 'croissant', 5595: 'ordinary', 5596: 'lap', 5597: 'build', 5598: 'civic', 5599: 'gods', 5600: 'melt', 5601: 'seek', 5602: 'yelps', 5603: 'obligated', 5604: 'deserving', 5605: 'overnight', 5606: 'track', 5607: 'texting', 5608: 'talkative', 5609: 'nypd', 5610: 'topic', 5611: 'leading', 5612: 'teeming', 5613: 'wandering', 5614: 'oysters', 5615: 'casey', 5616: 'clientele', 5617: 'regulars', 5618: 'ages', 5619: 'students', 5620: 'faculty', 5621: 'updating', 5622: 'dick', 5623: 'anchor', 5624: 'applebee', 5625: 'attracts', 5626: 'sky', 5627: 'macy', 5628: 'sears', 5629: 'dillards', 5630: 'chevy', 5631: 'johnny', 5632: 'miracle', 5633: 'vouch', 5634: 'historic', 5635: 'flare', 5636: 'magically', 5637: 'myst', 5638: 'hood', 5639: 'hispanic', 5640: 'averaged', 5641: 'vip', 5642: 'allows', 5643: 'recession', 5644: 'clams', 5645: 'initial', 5646: 'apologetic', 5647: 'partial', 5648: 'breading', 5649: 'hovering', 5650: 'andrea', 5651: 'arrives', 5652: 'responsible', 5653: 'solution', 5654: 'historical', 5655: 'pics', 5656: 'seal', 5657: 'cuban', 5658: 'abuelo', 5659: 'yukon', 5660: 'territory', 5661: 'lollipops', 5662: 'network', 5663: 'rental', 5664: 'freeway', 5665: 'diablo', 5666: 'snickerdoodle', 5667: 'darling', 5668: 'ummm', 5669: 'dragged', 5670: 'muffin', 5671: 'wasted', 5672: 'cell', 5673: 'phones', 5674: 'crying', 5675: 'stunned', 5676: 'quiche', 5677: 'buyer', 5678: 'thinner', 5679: 'dripping', 5680: 'tight', 5681: 'si', 5682: 'lackluster', 5683: 'poorly', 5684: 'executed', 5685: 'coating', 5686: 'raisin', 5687: 'necessarily', 5688: 'ihop', 5689: 'rushing', 5690: 'horribly', 5691: 'offended', 5692: 'toasted', 5693: 'brioche', 5694: 'shocked', 5695: 'splitting', 5696: 'commitment', 5697: 'francis', 5698: 'fraction', 5699: 'knock', 5700: 'yuppie', 5701: 'assuming', 5702: 'materials', 5703: 'involve', 5704: 'frustration', 5705: 'verge', 5706: 'islands', 5707: 'navigating', 5708: 'consideration', 5709: 'impossible', 5710: 'strand', 5711: 'outlets', 5712: 'industrial', 5713: 'climbing', 5714: 'guard', 5715: 'jacuzzi', 5716: 'zumba', 5717: 'remotely', 5718: 'whopper', 5719: 'uniforms', 5720: 'shade', 5721: 'jason', 5722: 'cpk', 5723: 'santa', 5724: 'fe', 5725: 'boss', 5726: 'neighboring', 5727: 'rights', 5728: 'jim', 5729: 'donald', 5730: 'carin', 5731: 'laughing', 5732: 'related', 5733: 'publication', 5734: 'aloo', 5735: 'containing', 5736: 'remaining', 5737: 'displeased', 5738: 'excessive', 5739: 'statement', 5740: 'squeezed', 5741: 'soups', 5742: 'spiciness', 5743: 'bulgogi', 5744: 'katsu', 5745: 'moore', 5746: 'compromise', 5747: 'student', 5748: 'convenient', 5749: 'oyster', 5750: 'dates', 5751: 'divey', 5752: 'bothersome', 5753: 'handy', 5754: 'ole', 5755: 'degrees', 5756: 'gritty', 5757: 'blame', 5758: 'watched', 5759: 'ignored', 5760: 'mia', 5761: 'calm', 5762: 'communicate', 5763: 'beside', 5764: 'bolt', 5765: 'asks', 5766: 'died', 5767: 'friendliness', 5768: 'hooters', 5769: 'smack', 5770: 'dab', 5771: 'kit', 5772: 'moisturizer', 5773: 'soaps', 5774: 'bamboo', 5775: 'lemongrass', 5776: 'oatmeal', 5777: 'peppermint', 5778: 'tangerine', 5779: 'grapefruit', 5780: 'oils', 5781: 'vitamins', 5782: 'allot', 5783: 'scrambling', 5784: 'rico', 5785: 'massive', 5786: 'coupled', 5787: 'growler', 5788: 'jug', 5789: 'rage', 5790: 'latest', 5791: 'stout', 5792: 'penne', 5793: 'lighter', 5794: 'stirred', 5795: 'contrast', 5796: 'comforting', 5797: 'poblano', 5798: 'spoonful', 5799: 'smoky', 5800: 'necessary', 5801: 'heaping', 5802: 'skillet', 5803: 'simmered', 5804: 'crumbles', 5805: 'southwestern', 5806: 'discuss', 5807: 'scorching', 5808: 'todd', 5809: 'taught', 5810: 'depressing', 5811: 'tees', 5812: 'rocket', 5813: 'susan', 5814: 'kindly', 5815: 'duh', 5816: 'dryer', 5817: 'popcorn', 5818: 'fart', 5819: 'poster', 5820: 'meaning', 5821: 'bombay', 5822: 'distracted', 5823: 'respond', 5824: 'torn', 5825: 'falling', 5826: 'cab', 5827: 'hob', 5828: 'nob', 5829: 'earthy', 5830: 'humus', 5831: 'roti', 5832: 'garnished', 5833: 'slab', 5834: 'technical', 5835: 'marked', 5836: 'boasts', 5837: 'hygienist', 5838: 'lane', 5839: 'sloppy', 5840: 'joes', 5841: 'buns', 5842: 'retrieve', 5843: 'americans', 5844: 'thankful', 5845: 'jewish', 5846: 'upgrades', 5847: 'kiddies', 5848: 'flies', 5849: 'hong', 5850: 'kong', 5851: 'payment', 5852: 'consists', 5853: 'eater', 5854: 'shrug', 5855: 'shoulders', 5856: 'flier', 5857: 'floating', 5858: 'angel', 5859: 'unfriendly', 5860: 'transfer', 5861: 'fitness', 5862: 'session', 5863: 'dottsy', 5864: 'z', 5865: 'advised', 5866: 'leads', 5867: 'approached', 5868: 'comp', 5869: 'buttermilk', 5870: 'frites', 5871: 'racing', 5872: 'ultimately', 5873: 'marys', 5874: 'mekong', 5875: 'heavily', 5876: 'advertised', 5877: 'newspapers', 5878: 'advertising', 5879: 'chandeliers', 5880: 'tacky', 5881: 'exchange', 5882: 'operating', 5883: 'novel', 5884: 'strangest', 5885: 'breath', 5886: 'cardio', 5887: 'warmth', 5888: 'instruction', 5889: 'evident', 5890: 'default', 5891: 'alike', 5892: 'expiration', 5893: 'bay', 5894: 'thoughts', 5895: 'wonderfully', 5896: 'paste', 5897: 'tries', 5898: 'offense', 5899: 'allure', 5900: 'pedi', 5901: 'techs', 5902: 'thorough', 5903: 'neutral', 5904: 'accept', 5905: 'eve', 5906: 'mani', 5907: 'cuticles', 5908: 'slammed', 5909: 'tools', 5910: 'laughed', 5911: 'hospital', 5912: 'whom', 5913: 'sections', 5914: 'mouths', 5915: 'tipping', 5916: 'rocky', 5917: 'wound', 5918: 'graciously', 5919: 'redeemed', 5920: 'batch', 5921: 'kansas', 5922: 'gratin', 5923: 'grooming', 5924: 'weekdays', 5925: 'altogether', 5926: 'perspective', 5927: 'sandwiched', 5928: 'surroundings', 5929: 'devil', 5930: 'unreal', 5931: 'heavenly', 5932: 'freshness', 5933: 'atlantic', 5934: 'boot', 5935: 'expansion', 5936: 'hug', 5937: 'legacy', 5938: 'gimmick', 5939: 'trashed', 5940: 'hustle', 5941: 'followed', 5942: 'closely', 5943: 'delicately', 5944: 'lends', 5945: 'alice', 5946: 'cooperstown', 5947: 'rocker', 5948: 'vienna', 5949: 'force', 5950: 'rainy', 5951: 'risk', 5952: 'james', 5953: 'pocket', 5954: 'validate', 5955: 'driver', 5956: 'luis', 5957: 'molinos', 5958: 'cease', 5959: 'ribbon', 5960: 'correlation', 5961: 'guessed', 5962: 'contribute', 5963: 'mlb', 5964: 'nba', 5965: 'gratuity', 5966: 'incentive', 5967: 'resulted', 5968: 'stating', 5969: 'exist', 5970: 'sh', 5971: 'lb', 5972: 'facial', 5973: 'august', 5974: 'mr', 5975: 'proscuitto', 5976: 'downgrade', 5977: 'mamma', 5978: 'limp', 5979: 'venezia', 5980: 'hunks', 5981: 'sooooo', 5982: 'email', 5983: 'frequent', 5984: 'victoria', 5985: 'colorful', 5986: 'mex', 5987: 'underground', 5988: 'visible', 5989: 'plastered', 5990: 'brothers', 5991: 'casino', 5992: 'jewelry', 5993: 'singers', 5994: 'shouting', 5995: 'bitch', 5996: 'pussy', 5997: 'jacket', 5998: 'gear', 5999: 'bulk', 6000: 'user', 6001: 'lenses', 6002: 'contacts', 6003: 'via', 6004: 'honeymoon', 6005: 'agent', 6006: 'anybody', 6007: 'zone', 6008: 'sticklers', 6009: 'gals', 6010: 'newbie', 6011: 'active', 6012: 'abandoned', 6013: 'varies', 6014: 'chop', 6015: 'evil', 6016: 'difficulty', 6017: 'packing', 6018: 'valve', 6019: 'float', 6020: 'retail', 6021: 'seeking', 6022: 'cracker', 6023: 'barrels', 6024: 'barrel', 6025: 'trained', 6026: 'phoenician', 6027: 'chilies', 6028: 'weak', 6029: 'papago', 6030: 'dose', 6031: 'brewpub', 6032: 'coolers', 6033: 'testament', 6034: 'caution', 6035: 'lousy', 6036: 'fiery', 6037: 'faith', 6038: 'intend', 6039: 'ceramic', 6040: 'incompetent', 6041: 'fate', 6042: 'gag', 6043: 'bears', 6044: 'hairs', 6045: 'elliot', 6046: 'somehow', 6047: 'finds', 6048: 'speed', 6049: 'pcg', 6050: 'sauerkraut', 6051: 'enjoys', 6052: 'ac', 6053: 'spoil', 6054: 'kindness', 6055: 'discussing', 6056: 'newcastle', 6057: 'sits', 6058: 'hana', 6059: 'toro', 6060: 'spider', 6061: 'flakes', 6062: 'ending', 6063: 'quest', 6064: 'presumably', 6065: 'hers', 6066: 'spilled', 6067: 'diamond', 6068: 'bgf', 6069: 'referring', 6070: 'link', 6071: 'poisoning', 6072: 'forgive', 6073: 'gosh', 6074: 'buddha', 6075: 'steaming', 6076: 'singapore', 6077: 'walnut', 6078: 'wholesome', 6079: 'milkshakes', 6080: 'fills', 6081: 'midst', 6082: 'mentioning', 6083: 'madcap', 6084: 'peeps', 6085: 'correctly', 6086: 'kimchi', 6087: 'television', 6088: 'suspicious', 6089: 'gyoza', 6090: 'mound', 6091: 'pickled', 6092: 'sneakers', 6093: 'handled', 6094: 'thunderbird', 6095: 'puts', 6096: 'worthy', 6097: 'monkey', 6098: 'grateful', 6099: 'mad', 6100: 'input', 6101: 'sealed', 6102: 'niece', 6103: 'regarding', 6104: 'pastrami', 6105: 'nostalgic', 6106: 'quesadillas', 6107: 'accomodate', 6108: 'assistance', 6109: 'overlooking', 6110: 'competitors', 6111: 'childhood', 6112: 'annoyance', 6113: 'disaster', 6114: 'sanitary', 6115: 'brio', 6116: 'yr', 6117: 'gel', 6118: 'nails', 6119: 'gal', 6120: 'appt', 6121: 'elderly', 6122: 'yikes', 6123: 'frantic', 6124: 'stressed', 6125: 'constant', 6126: 'hunt', 6127: 'unsatisfied', 6128: 'mu', 6129: 'shu', 6130: 'skating', 6131: 'mixture', 6132: 'boutique', 6133: 'sorely', 6134: 'treatments', 6135: 'physicians', 6136: 'resulting', 6137: 'physician', 6138: 'walgreens', 6139: 'arms', 6140: 'requires', 6141: 'resemble', 6142: 'doc', 6143: 'exam', 6144: 'ends', 6145: 'computers', 6146: 'tops', 6147: 'glendale', 6148: 'sunnyslope', 6149: 'image', 6150: 'reserve', 6151: 'native', 6152: 'atrocious', 6153: 'inconveniencing', 6154: 'cure', 6155: 'satisfy', 6156: 'pj', 6157: 'nod', 6158: 'filipino', 6159: 'angeles', 6160: 'republic', 6161: 'voted', 6162: 'abacus', 6163: 'stem', 6164: 'chew', 6165: 'tire', 6166: 'sauced', 6167: 'string', 6168: 'sautéed', 6169: 'szechuan', 6170: 'westgate', 6171: 'itch', 6172: 'speaking', 6173: 'arena', 6174: 'nhl', 6175: 'concerts', 6176: 'thirst', 6177: 'splash', 6178: 'cigar', 6179: 'dock', 6180: 'portofino', 6181: 'sprucing', 6182: 'gringos', 6183: 'welcomed', 6184: 'sutra', 6185: 'ought', 6186: 'stale', 6187: 'passionate', 6188: 'requests', 6189: 'panini', 6190: 'toddy', 6191: 'caffeine', 6192: 'mascarpone', 6193: 'lottery', 6194: 'atl', 6195: 'stared', 6196: 'wondered', 6197: 'hmmm', 6198: 'expression', 6199: 'cube', 6200: 'explanation', 6201: 'chino', 6202: 'bandido', 6203: 'disposable', 6204: 'baking', 6205: 'atlanta', 6206: 'reiterate', 6207: 'menudo', 6208: 'rellenos', 6209: 'bff', 6210: 'status', 6211: 'harbor', 6212: 'lawn', 6213: 'cement', 6214: 'project', 6215: 'branches', 6216: 'roof', 6217: 'tame', 6218: 'oleanders', 6219: 'tool', 6220: 'competitive', 6221: 'biz', 6222: 'operation', 6223: 'wipe', 6224: 'wiped', 6225: 'drizzle', 6226: 'scraped', 6227: 'heap', 6228: 'belongs', 6229: 'magic', 6230: 'décor', 6231: 'camarones', 6232: 'culichi', 6233: 'patiently', 6234: 'remarked', 6235: 'tostadas', 6236: 'marginal', 6237: 'settings', 6238: 'utensils', 6239: 'repeatedly', 6240: 'touted', 6241: 'denny', 6242: 'thinks', 6243: 'bastard', 6244: 'responsibility', 6245: 'peoria', 6246: 'celebration', 6247: 'curse', 6248: 'overcrowded', 6249: 'gumbo', 6250: 'jambalaya', 6251: 'follow', 6252: 'freshman', 6253: 'moments', 6254: 'career', 6255: 'schools', 6256: 'supports', 6257: 'approaching', 6258: 'replied', 6259: 'meter', 6260: 'politely', 6261: 'proceeded', 6262: 'instance', 6263: 'wheat', 6264: 'straw', 6265: 'lion', 6266: 'inconvenience', 6267: 'pancit', 6268: 'performing', 6269: 'pavle', 6270: 'duo', 6271: 'fnb', 6272: 'gammage', 6273: 'broadway', 6274: 'physical', 6275: 'unable', 6276: 'traveling', 6277: 'toned', 6278: 'holly', 6279: 'bitterness', 6280: 'learning', 6281: 'wrinkled', 6282: 'responsive', 6283: 'dressings', 6284: 'amounts', 6285: 'whitney', 6286: 'murphy', 6287: 'arcadia', 6288: 'deb', 6289: 'shitty', 6290: 'costumes', 6291: 'savers', 6292: 'sue', 6293: 'madness', 6294: 'crammed', 6295: 'pigs', 6296: 'assisted', 6297: 'panic', 6298: 'repeated', 6299: 'guessing', 6300: 'attack', 6301: 'skimpy', 6302: 'hamburgers', 6303: 'unlimited', 6304: 'starts', 6305: 'damage', 6306: 'tires', 6307: 'placing', 6308: 'clients', 6309: 'locked', 6310: 'tweakers', 6311: 'blaring', 6312: 'strike', 6313: 'survey', 6314: 'alternatives', 6315: 'hence', 6316: 'discouraged', 6317: 'piercing', 6318: 'tongue', 6319: 'divided', 6320: 'ii', 6321: 'grimaldis', 6322: 'attendant', 6323: 'matches', 6324: 'lucked', 6325: 'scored', 6326: 'lean', 6327: 'tx', 6328: 'dd', 6329: 'oreo', 6330: 'sandals', 6331: 'assumed', 6332: 'recovering', 6333: 'purists', 6334: 'ohso', 6335: 'breweries', 6336: 'painless', 6337: 'roads', 6338: 'confusing', 6339: 'airports', 6340: 'perk', 6341: 'terminal', 6342: 'asians', 6343: 'discover', 6344: 'kona', 6345: 'account', 6346: 'fixtures', 6347: 'magazines', 6348: 'bonnie', 6349: 'chambord', 6350: 'hooks', 6351: 'laptop', 6352: 'saki', 6353: 'highest', 6354: 'hikes', 6355: 'fame', 6356: 'grind', 6357: 'temperatures', 6358: 'appointed', 6359: 'peppercorn', 6360: 'composed', 6361: 'watercress', 6362: 'goodwill', 6363: 'temp', 6364: 'hippie', 6365: 'timer', 6366: 'gasp', 6367: 'readily', 6368: 'gabi', 6369: 'jellies', 6370: 'wink', 6371: 'saint', 6372: 'youthful', 6373: 'spirit', 6374: 'limit', 6375: 'websites', 6376: 'accent', 6377: 'unfamiliar', 6378: 'eggrolls', 6379: 'scale', 6380: 'chiles', 6381: 'yupha', 6382: 'marcellino', 6383: 'pan', 6384: 'limes', 6385: 'timing', 6386: 'satisfaction', 6387: 'transport', 6388: 'limitations', 6389: 'hr', 6390: 'compelled', 6391: 'superstar', 6392: 'bikes', 6393: 'mellow', 6394: 'florida', 6395: 'enthusiast', 6396: 'fascinating', 6397: 'busting', 6398: 'intriguing', 6399: 'searched', 6400: 'r', 6401: 'lifting', 6402: 'refer', 6403: 'monstrosity', 6404: 'restaurateurs', 6405: 'message', 6406: 'tokyo', 6407: 'hiro', 6408: 'kirin', 6409: 'opener', 6410: 'deciding', 6411: 'crumbly', 6412: 'refrigerator', 6413: 'positively', 6414: 'yard', 6415: 'crusted', 6416: 'scalloped', 6417: 'yearly', 6418: 'taker', 6419: 'galleries', 6420: 'bottled', 6421: 'bath', 6422: 'yc', 6423: 'bocce', 6424: 'hundred', 6425: 'steel', 6426: 'contacted', 6427: 'proactive', 6428: 'dent', 6429: 'hibachi', 6430: 'husbands', 6431: 'tradition', 6432: 'atleast', 6433: 'babysitter', 6434: 'ruth', 6435: 'requirement', 6436: 'grinders', 6437: 'vice', 6438: 'formula', 6439: 'stylist', 6440: 'pits', 6441: 'burrata', 6442: 'chianti', 6443: 'employee', 6444: 'barnes', 6445: 'noble', 6446: 'ipod', 6447: 'banging', 6448: 'crossed', 6449: 'mug', 6450: 'italy', 6451: 'transportation', 6452: 'cleaner', 6453: 'smarter', 6454: 'experiment', 6455: 'kill', 6456: 'struggled', 6457: 'veteran', 6458: 'wreck', 6459: 'shorter', 6460: 'tenderness', 6461: 'ideal', 6462: 'deeply', 6463: 'healing', 6464: 'masseuse', 6465: 'utterly', 6466: 'extraordinary', 6467: 'owe', 6468: 'financial', 6469: 'aid', 6470: 'exaggerating', 6471: 'cha', 6472: 'centers', 6473: 'graduated', 6474: 'landing', 6475: 'domestics', 6476: 'camelview', 6477: 'examples', 6478: 'cinema', 6479: 'pulp', 6480: 'fiction', 6481: 'danny', 6482: 'fool', 6483: 'shine', 6484: 'carlsbad', 6485: 'jager', 6486: 'greets', 6487: 'watermelon', 6488: 'standby', 6489: 'wowed', 6490: 'collection', 6491: 'guide', 6492: 'flamenco', 6493: 'guitars', 6494: 'holder', 6495: 'residential', 6496: 'kierland', 6497: 'commons', 6498: 'dallas', 6499: 'stripped', 6500: 'suburban', 6501: 'represented', 6502: 'pf', 6503: 'chang', 6504: 'compelling', 6505: 'tune', 6506: 'conducive', 6507: 'waxing', 6508: 'joined', 6509: 'dealt', 6510: 'lbs', 6511: 'camp', 6512: 'ultimate', 6513: 'rates', 6514: 'co', 6515: 'contract', 6516: 'musical', 6517: 'explode', 6518: 'cred', 6519: 'noca', 6520: 'communication', 6521: 'hrs', 6522: 'warrants', 6523: 'ounce', 6524: 'rotate', 6525: 'combined', 6526: 'gummy', 6527: 'adds', 6528: 'creepy', 6529: 'staring', 6530: 'lloyd', 6531: 'wright', 6532: 'suburbs', 6533: 'ballet', 6534: 'costume', 6535: 'outs', 6536: 'fortunately', 6537: 'rooftop', 6538: 'fajita', 6539: 'primarily', 6540: 'tossed', 6541: 'ache', 6542: 'gimmicky', 6543: 'indulged', 6544: 'howard', 6545: 'periods', 6546: 'describing', 6547: 'vision', 6548: 'architecture', 6549: 'lifestyle', 6550: 'electronic', 6551: 'vomit', 6552: 'et', 6553: 'tightly', 6554: 'sprayed', 6555: 'stall', 6556: 'einstein', 6557: 'grains', 6558: 'draws', 6559: 'mature', 6560: 'designated', 6561: 'peach', 6562: 'hankering', 6563: 'pint', 6564: 'stretch', 6565: 'imagination', 6566: 'intending', 6567: 'prepped', 6568: 'mundane', 6569: 'prix', 6570: 'tail', 6571: 'marshmallow', 6572: 'coated', 6573: 'marshmallows', 6574: 'leisurely', 6575: 'crowed', 6576: 'gun', 6577: 'wendy', 6578: 'rubio', 6579: 'macayo', 6580: 'formal', 6581: 'valle', 6582: 'luna', 6583: 'costing', 6584: 'yakisoba', 6585: 'bye', 6586: 'kazimierz', 6587: 'adjusted', 6588: 'flights', 6589: 'inventory', 6590: 'faced', 6591: 'survive', 6592: 'gyms', 6593: 'text', 6594: 'trainer', 6595: 'sf', 6596: 'cracks', 6597: 'waits', 6598: 'aerobics', 6599: 'laps', 6600: 'towel', 6601: 'cranky', 6602: 'shoulder', 6603: 'stretching', 6604: 'development', 6605: 'athletic', 6606: 'professionals', 6607: 'treadmill', 6608: 'margs', 6609: 'golfer', 6610: 'summertime', 6611: 'shown', 6612: 'fairways', 6613: 'hotdogs', 6614: 'pump', 6615: 'asshole', 6616: 'carved', 6617: 'dumpster', 6618: 'scramble', 6619: 'jay', 6620: 'passionfruit', 6621: 'frames', 6622: 'competitor', 6623: 'dr', 6624: 'bullet', 6625: 'specializes', 6626: 'suitable', 6627: 'rachel', 6628: 'police', 6629: 'farmers', 6630: 'rides', 6631: 'mma', 6632: 'stingy', 6633: 'anticipate', 6634: 'breakfasts', 6635: 'assorted', 6636: 'noticing', 6637: 'terribly', 6638: 'scott', 6639: 'infused', 6640: 'complexity', 6641: 'copper', 6642: 'charcoal', 6643: 'rub', 6644: 'endeavor', 6645: 'burst', 6646: 'gentlemen', 6647: 'calzone', 6648: 'engagement', 6649: 'getaway', 6650: 'petals', 6651: 'televisions', 6652: 'jukebox', 6653: 'slides', 6654: 'grossed', 6655: 'puzzled', 6656: 'recognize', 6657: 'cow', 6658: 'robin', 6659: 'mmmmmmm', 6660: 'cane', 6661: 'ohhh', 6662: 'lumpia', 6663: 'preface', 6664: 'buzz', 6665: 'shea', 6666: 'interrupted', 6667: 'loses', 6668: 'overshadowed', 6669: 'nada', 6670: 'lifetime', 6671: 'turning', 6672: 'lasagna', 6673: 'substitute', 6674: 'whew', 6675: 'awaiting', 6676: 'forks', 6677: 'stacked', 6678: 'crumbs', 6679: 'intention', 6680: 'snap', 6681: 'afterall', 6682: 'hills', 6683: 'strangers', 6684: 'warming', 6685: 'colored', 6686: 'glanced', 6687: 'qualify', 6688: 'unusually', 6689: 'argue', 6690: 'fighting', 6691: 'mode', 6692: 'hires', 6693: 'garbage', 6694: 'defalco', 6695: 'il', 6696: 'assessment', 6697: 'cannolis', 6698: 'outdoors', 6699: 'basics', 6700: 'corporation', 6701: 'benefits', 6702: 'clerk', 6703: 'hating', 6704: 'yea', 6705: 'jared', 6706: 'horrid', 6707: 'law', 6708: 'apply', 6709: 'collective', 6710: 'rode', 6711: 'daytime', 6712: 'babes', 6713: 'douche', 6714: 'makeup', 6715: 'buckets', 6716: 'wannabes', 6717: 'trading', 6718: 'dream', 6719: 'complicated', 6720: 'hollandaise', 6721: 'benny', 6722: 'hospitality', 6723: 'bum', 6724: 'redeeming', 6725: 'bomber', 6726: 'tiniest', 6727: 'tmi', 6728: 'stray', 6729: 'norm', 6730: 'vibes', 6731: 'secluded', 6732: 'hosting', 6733: 'doggy', 6734: 'trees', 6735: 'perimeter', 6736: 'poop', 6737: 'aggressive', 6738: 'trainers', 6739: 'tanning', 6740: 'beds', 6741: 'aware', 6742: 'ken', 6743: 'bombers', 6744: 'seaweed', 6745: 'soba', 6746: 'inner', 6747: 'adjust', 6748: 'shy', 6749: 'pressure', 6750: 'sleeping', 6751: 'situated', 6752: 'pompous', 6753: 'ghetto', 6754: 'americanized', 6755: 'thailand', 6756: 'trucks', 6757: 'yelped', 6758: 'wiener', 6759: 'contained', 6760: 'accustomed', 6761: 'lindsey', 6762: 'rama', 6763: 'carolina', 6764: 'filiberto', 6765: 'impressions', 6766: 'dropout', 6767: 'steve', 6768: 'singles', 6769: 'kickboxing', 6770: 'bathing', 6771: 'havana', 6772: 'oxtail', 6773: 'homes', 6774: 'tapenade', 6775: 'perusing', 6776: 'cappuccino', 6777: 'favs', 6778: 'pints', 6779: 'educated', 6780: 'rad', 6781: 'recomend', 6782: 'fulfilling', 6783: 'berries', 6784: 'da', 6785: 'butterscotch', 6786: 'kittens', 6787: 'housewares', 6788: 'foothills', 6789: 'willingly', 6790: 'chocolates', 6791: 'bobby', 6792: 'hollywood', 6793: 'meets', 6794: 'grandparents', 6795: 'estate', 6796: 'investment', 6797: 'girly', 6798: 'gymboree', 6799: 'instructor', 6800: 'someday', 6801: 'quintessential', 6802: 'gourmet', 6803: 'bavarian', 6804: 'pretzels', 6805: 'porter', 6806: 'belgian', 6807: 'exhaust', 6808: 'distant', 6809: 'prescribed', 6810: 'intended', 6811: 'infection', 6812: 'glance', 6813: 'stink', 6814: 'blossoms', 6815: 'opentable', 6816: 'sizable', 6817: 'ciabatta', 6818: 'newbies', 6819: 'file', 6820: 'hiding', 6821: 'caused', 6822: 'outfit', 6823: 'uniform', 6824: 'privately', 6825: 'parlor', 6826: 'cap', 6827: 'aesthetics', 6828: 'dot', 6829: 'vases', 6830: 'daniel', 6831: 'outrageously', 6832: 'infusion', 6833: 'tourists', 6834: 'pampering', 6835: 'plunge', 6836: 'corners', 6837: 'doughy', 6838: 'bottomless', 6839: 'frills', 6840: 'okra', 6841: 'catfish', 6842: 'forefathers', 6843: 'bee', 6844: 'soccer', 6845: 'grey', 6846: 'fixe', 6847: 'florist', 6848: 'arrangement', 6849: 'emailed', 6850: 'gangplank', 6851: 'smallest', 6852: 'limeade', 6853: 'rotating', 6854: 'dingy', 6855: 'resource', 6856: 'fashioned', 6857: 'poke', 6858: 'carried', 6859: 'firm', 6860: 'believer', 6861: 'panang', 6862: 'touching', 6863: 'peel', 6864: 'navy', 6865: 'scare', 6866: 'cleverly', 6867: 'contemporary', 6868: 'daddy', 6869: 'motor', 6870: 'dancers', 6871: 'fuzzy', 6872: 'skins', 6873: 'hallways', 6874: 'sucking', 6875: 'cherries', 6876: 'glow', 6877: 'doused', 6878: 'oversized', 6879: 'sneak', 6880: 'keys', 6881: 'decades', 6882: 'sheraton', 6883: 'vanity', 6884: 'attraction', 6885: 'uneven', 6886: 'boasted', 6887: 'usa', 6888: 'spinato', 6889: 'carlos', 6890: 'spaces', 6891: 'surface', 6892: 'create', 6893: 'seeds', 6894: 'wong', 6895: 'drastically', 6896: 'uncommon', 6897: 'liquid', 6898: 'horrified', 6899: 'temporary', 6900: 'carl', 6901: 'navigate', 6902: 'quart', 6903: 'allergies', 6904: 'travels', 6905: 'baggage', 6906: 'travelers', 6907: 'effing', 6908: 'manufacturer', 6909: 'apologizing', 6910: 'scotch', 6911: 'mucho', 6912: 'positives', 6913: 'carnitas', 6914: 'lard', 6915: 'report', 6916: 'primary', 6917: 'dreading', 6918: 'interaction', 6919: 'bothering', 6920: 'hamachi', 6921: 'obligatory', 6922: 'bent', 6923: 'gates', 6924: 'conveyor', 6925: 'tsa', 6926: 'digital', 6927: 'boarding', 6928: 'gate', 6929: 'connected', 6930: 'scan', 6931: 'nonsense', 6932: 'arnold', 6933: 'palmer', 6934: 'peek', 6935: 'orleans', 6936: 'max', 6937: 'rabbit', 6938: 'sarah', 6939: 'overflowing', 6940: 'receptionist', 6941: 'stressful', 6942: 'patients', 6943: 'snails', 6944: 'lanes', 6945: 'boards', 6946: 'smelly', 6947: 'avoided', 6948: 'cork', 6949: 'jello', 6950: 'hunk', 6951: 'previously', 6952: 'overdue', 6953: 'shockingly', 6954: 'yasu', 6955: 'shift', 6956: 'continually', 6957: 'duty', 6958: 'guarantee', 6959: 'shocking', 6960: 'install', 6961: 'cable', 6962: 'wasting', 6963: 'festival', 6964: 'anime', 6965: 'characters', 6966: 'responses', 6967: 'mixer', 6968: 'qdoba', 6969: 'smiling', 6970: 'links', 6971: 'sourdough', 6972: 'zucca', 6973: 'lox', 6974: 'ufc', 6975: 'friggin', 6976: 'anticipated', 6977: 'baristas', 6978: 'northwest', 6979: 'filibertos', 6980: 'tattoo', 6981: 'overflow', 6982: 'expert', 6983: 'preference', 6984: 'las', 6985: 'cultural', 6986: 'passes', 6987: 'galore', 6988: 'blowing', 6989: 'guided', 6990: 'tours', 6991: 'sleepy', 6992: 'rosati', 6993: 'battery', 6994: 'batteries', 6995: 'watches', 6996: 'labor', 6997: 'coma', 6998: 'availability', 6999: 'secure', 7000: 'larry', 7001: 'passion', 7002: 'plated', 7003: 'dips', 7004: 'hired', 7005: 'jesus', 7006: 'judging', 7007: 'imho', 7008: 'criteria', 7009: 'singing', 7010: 'mm', 7011: 'chalk', 7012: 'potatoe', 7013: 'changs', 7014: 'trusty', 7015: 'taylor', 7016: 'doggie', 7017: 'cottage', 7018: 'conscious', 7019: 'dying', 7020: 'comics', 7021: 'comic', 7022: 'cooling', 7023: 'chimi', 7024: 'oily', 7025: 'unsure', 7026: 'crisped', 7027: 'tabasco', 7028: 'understanding', 7029: 'pain', 7030: 'ripped', 7031: 'couscous', 7032: 'snob', 7033: 'arriba', 7034: 'bisque', 7035: 'eaters', 7036: 'laser', 7037: 'removal', 7038: 'lasts', 7039: 'grow', 7040: 'shave', 7041: 'becomes', 7042: 'valuable', 7043: 'changing', 7044: 'pipe', 7045: 'methods', 7046: 'boarded', 7047: 'batman', 7048: 'hat', 7049: 'client', 7050: 'fiancé', 7051: 'bo', 7052: 'disorganized', 7053: 'circles', 7054: 'bumper', 7055: 'boats', 7056: 'wrist', 7057: 'arcade', 7058: 'painting', 7059: 'staffperson', 7060: 'describes', 7061: 'limo', 7062: 'mcclintock', 7063: 'indication', 7064: 'chime', 7065: 'som', 7066: 'inconsistencies', 7067: 'activity', 7068: 'sang', 7069: 'gills', 7070: 'trusted', 7071: 'ultra', 7072: 'borrow', 7073: 'yell', 7074: 'chest', 7075: 'sinks', 7076: 'bleh', 7077: 'doughnut', 7078: 'doughnuts', 7079: 'handling', 7080: 'beignets', 7081: 'throat', 7082: 'laden', 7083: 'frying', 7084: 'spoken', 7085: 'poker', 7086: 'loyal', 7087: 'papa', 7088: 'johns', 7089: 'supreme', 7090: 'sends', 7091: 'thee', 7092: 'greatest', 7093: 'rockin', 7094: 'arrogant', 7095: 'resolved', 7096: 'ethics', 7097: 'provides', 7098: 'cole', 7099: 'fatburger', 7100: 'stinkweeds', 7101: 'smallish', 7102: 'strongly', 7103: 'hangout', 7104: 'pv', 7105: 'mayonnaise', 7106: 'artistic', 7107: 'fist', 7108: 'montelucia', 7109: 'compote', 7110: 'mixes', 7111: 'germany', 7112: 'hook', 7113: 'strikes', 7114: 'blunt', 7115: 'speaker', 7116: 'jalepeno', 7117: 'blanket', 7118: 'chilling', 7119: 'strives', 7120: 'wad', 7121: 'quiznos', 7122: 'palatable', 7123: 'refilling', 7124: 'definetly', 7125: 'imported', 7126: 'driven', 7127: 'adobe', 7128: 'nephew', 7129: 'stack', 7130: 'adovada', 7131: 'unparalleled', 7132: 'inhaled', 7133: 'mediterranean', 7134: 'remembering', 7135: 'festivities', 7136: 'talent', 7137: 'cotton', 7138: 'sprinkled', 7139: 'sincere', 7140: 'goooood', 7141: 'capital', 7142: 'tenders', 7143: 'resident', 7144: 'crackers', 7145: 'race', 7146: 'tri', 7147: 'woo', 7148: 'hoo', 7149: 'geared', 7150: 'motion', 7151: 'endure', 7152: 'tiffany', 7153: 'coats', 7154: 'descriptions', 7155: 'sonoma', 7156: 'kokopelli', 7157: 'reviewing', 7158: 'preserved', 7159: 'luminarias', 7160: 'volunteers', 7161: 'paths', 7162: 'cocoa', 7163: 'performers', 7164: 'mariachi', 7165: 'continuously', 7166: 'cleanest', 7167: 'subways', 7168: 'bins', 7169: 'fed', 7170: 'hazelnut', 7171: 'tastier', 7172: 'sportsman', 7173: 'mens', 7174: 'purely', 7175: 'jerky', 7176: 'grills', 7177: 'rei', 7178: 'promote', 7179: 'disinterested', 7180: 'drab', 7181: 'icky', 7182: 'capriotti', 7183: 'suits', 7184: 'slacks', 7185: 'advise', 7186: 'turf', 7187: 'shepherd', 7188: 'crawl', 7189: 'maizie', 7190: 'fifth', 7191: 'void', 7192: 'ao', 7193: 'speaks', 7194: 'tranquil', 7195: 'zen', 7196: 'tendon', 7197: 'tripe', 7198: 'aroma', 7199: 'anise', 7200: 'creation', 7201: 'accompaniment', 7202: 'winners', 7203: 'firstly', 7204: 'replacing', 7205: 'privacy', 7206: 'relevant', 7207: 'organization', 7208: 'sampling', 7209: 'hosts', 7210: 'cenpho', 7211: 'robert', 7212: 'smashed', 7213: 'occupied', 7214: 'willow', 7215: 'stab', 7216: 'suspended', 7217: 'assure', 7218: 'consignment', 7219: 'chu', 7220: 'pockets', 7221: 'identify', 7222: 'hanger', 7223: 'consumer', 7224: 'customize', 7225: 'kettle', 7226: 'dangerous', 7227: 'freaked', 7228: 'harm', 7229: 'mormon', 7230: 'hikers', 7231: 'error', 7232: 'hiker', 7233: 'loop', 7234: 'tied', 7235: 'gravel', 7236: 'determined', 7237: 'hitch', 7238: 'creep', 7239: 'chit', 7240: 'chatted', 7241: 'unmarked', 7242: 'beast', 7243: 'practical', 7244: 'smiles', 7245: 'dread', 7246: 'walmart', 7247: 'eclectic', 7248: 'proudly', 7249: 'intentions', 7250: 'century', 7251: 'crystal', 7252: 'pulls', 7253: 'traveler', 7254: 'yards', 7255: 'suites', 7256: 'tin', 7257: 'miners', 7258: 'toe', 7259: 'glowing', 7260: 'creature', 7261: 'gai', 7262: 'bitter', 7263: 'syrups', 7264: 'effective', 7265: 'towners', 7266: 'smiled', 7267: 'alive', 7268: 'scheduled', 7269: 'dental', 7270: 'heather', 7271: 'guilt', 7272: 'popeye', 7273: 'shelter', 7274: 'haunt', 7275: 'wed', 7276: 'renovated', 7277: 'tempted', 7278: 'resembling', 7279: 'tipped', 7280: 'kabobs', 7281: 'floral', 7282: 'arrangements', 7283: 'rivals', 7284: 'ai', 7285: 'paperwork', 7286: 'committed', 7287: 'semester', 7288: 'impatient', 7289: 'region', 7290: 'backwards', 7291: 'splashed', 7292: 'abilities', 7293: 'pottery', 7294: 'pencil', 7295: 'intrusive', 7296: 'horse', 7297: 'nearest', 7298: 'smash', 7299: 'embarrassment', 7300: 'puffs', 7301: 'seasonings', 7302: 'chaos', 7303: 'morons', 7304: 'purposely', 7305: 'decisions', 7306: 'attempted', 7307: 'formed', 7308: 'tastiness', 7309: 'pb', 7310: 'choosing', 7311: 'yoga', 7312: 'canada', 7313: 'royal', 7314: 'palms', 7315: 'hottie', 7316: 'butternut', 7317: 'devoured', 7318: 'cotta', 7319: 'appliances', 7320: 'manicures', 7321: 'alongside', 7322: 'dedicated', 7323: 'posting', 7324: 'chilaquiles', 7325: 'flow', 7326: 'quarter', 7327: 'frustrating', 7328: 'grandmother', 7329: 'abundance', 7330: 'fred', 7331: 'horrendous', 7332: 'carbs', 7333: 'piper', 7334: 'representative', 7335: 'java', 7336: 'blends', 7337: 'habanero', 7338: 'disagree', 7339: 'chowder', 7340: 'compete', 7341: 'daycare', 7342: 'teenager', 7343: 'debris', 7344: 'squirt', 7345: 'attempting', 7346: 'minty', 7347: 'unappetizing', 7348: 'teens', 7349: 'factors', 7350: 'revolving', 7351: 'fest', 7352: 'cigarette', 7353: 'macaroons', 7354: 'colleague', 7355: 'brightly', 7356: 'distinctive', 7357: 'marco', 7358: 'hooray', 7359: 'stranded', 7360: 'compassionate', 7361: 'bob', 7362: 'confirm', 7363: 'capitol', 7364: 'ahhh', 7365: 'relationship', 7366: 'corrected', 7367: 'bagging', 7368: 'connoisseur', 7369: 'concepts', 7370: 'anti', 7371: 'patato', 7372: 'gloves', 7373: 'creating', 7374: 'travelzoo', 7375: 'carte', 7376: 'weakness', 7377: 'married', 7378: 'successfully', 7379: 'performance', 7380: 'cheeseburgers', 7381: 'fixin', 7382: 'crinkle', 7383: 'rnr', 7384: 'lavosh', 7385: 'amber', 7386: 'lastly', 7387: 'india', 7388: 'aa', 7389: 'fitting', 7390: 'models', 7391: 'technically', 7392: 'paella', 7393: 'worker', 7394: 'wiz', 7395: 'thinly', 7396: 'assistant', 7397: 'inform', 7398: 'queue', 7399: 'serviced', 7400: 'gristle', 7401: 'zinfandel', 7402: 'matthew', 7403: 'saves', 7404: 'hotter', 7405: 'economic', 7406: 'plants', 7407: 'plant', 7408: 'cashiers', 7409: 'haus', 7410: 'spatzle', 7411: 'nowadays', 7412: 'multigrain', 7413: 'grinder', 7414: 'topics', 7415: 'proof', 7416: 'moms', 7417: 'awake', 7418: 'invisible', 7419: 'hannah', 7420: 'institute', 7421: 'wheel', 7422: 'shipped', 7423: 'drooling', 7424: 'leche', 7425: 'aiello', 7426: 'roberto', 7427: 'caribbean', 7428: 'oxtails', 7429: 'snapper', 7430: 'melting', 7431: 'gathered', 7432: 'carb', 7433: 'layers', 7434: 'condos', 7435: 'seniors', 7436: 'beginners', 7437: 'stringy', 7438: 'players', 7439: 'sunshine', 7440: 'vig', 7441: 'uptown', 7442: 'gently', 7443: 'verdict', 7444: 'newspaper', 7445: 'ad', 7446: 'anywho', 7447: 'duper', 7448: 'drill', 7449: 'sisters', 7450: 'hottest', 7451: 'yorker', 7452: 'rotting', 7453: 'strenuous', 7454: 'horses', 7455: 'hum', 7456: 'sore', 7457: 'swaddee', 7458: 'ka', 7459: 'topless', 7460: 'un', 7461: 'avocados', 7462: 'drenched', 7463: 'posh', 7464: 'wagyu', 7465: 'pilsner', 7466: 'stax', 7467: 'receives', 7468: 'rewards', 7469: 'wipes', 7470: 'rustic', 7471: 'uncooked', 7472: 'elements', 7473: 'moldy', 7474: 'pointing', 7475: 'brushed', 7476: 'mold', 7477: 'tidy', 7478: 'nah', 7479: 'lengthy', 7480: 'mimi', 7481: 'walks', 7482: 'brocolli', 7483: 'sliver', 7484: 'sincerely', 7485: 'unfinished', 7486: 'remodeling', 7487: 'foolish', 7488: 'citizen', 7489: 'jelly', 7490: 'supporter', 7491: 'tim', 7492: 'gums', 7493: 'bumped', 7494: 'puke', 7495: 'premade', 7496: 'strict', 7497: 'fettuccine', 7498: 'sassy', 7499: 'curb', 7500: 'sayin', 7501: 'oak', 7502: 'micro', 7503: 'remodel', 7504: 'stylists', 7505: 'soaking', 7506: 'skilled', 7507: 'tattoos', 7508: 'bugs', 7509: 'ali', 7510: 'brewers', 7511: 'underwhelmed', 7512: 'rubios', 7513: 'meager', 7514: 'wontons', 7515: 'suggesting', 7516: 'inquired', 7517: 'mask', 7518: 'liz', 7519: 'rita', 7520: 'relaxation', 7521: 'sundaes', 7522: 'maker', 7523: 'permits', 7524: 'develop', 7525: 'meanwhile', 7526: 'anticipating', 7527: 'platters', 7528: 'disgust', 7529: 'delivering', 7530: 'jumped', 7531: 'methinks', 7532: 'incident', 7533: 'daylight', 7534: 'port', 7535: 'rio', 7536: 'invented', 7537: 'utah', 7538: 'modifications', 7539: 'koi', 7540: 'substance', 7541: 'surprising', 7542: 'parsnip', 7543: 'brussel', 7544: 'annoyingly', 7545: 'ubiquitous', 7546: 'tastebuds', 7547: 'flair', 7548: 'cal', 7549: 'busboy', 7550: 'sriracha', 7551: 'concoctions', 7552: 'crop', 7553: 'tottie', 7554: 'hospitable', 7555: 'napa', 7556: 'viet', 7557: 'donkey', 7558: 'unhealthy', 7559: 'deduct', 7560: 'solely', 7561: 'inconvenient', 7562: 'dire', 7563: 'iron', 7564: 'channel', 7565: 'negatives', 7566: 'hotdog', 7567: 'mi', 7568: 'brief', 7569: 'reaction', 7570: 'hugely', 7571: 'dear', 7572: 'conscience', 7573: 'elevation', 7574: 'breaks', 7575: 'yucky', 7576: 'thicker', 7577: 'explosion', 7578: 'purchasing', 7579: 'international', 7580: 'matching', 7581: 'patronized', 7582: 'knots', 7583: 'crumbled', 7584: 'com', 7585: 'tam', 7586: 'bahn', 7587: 'rarity', 7588: 'curd', 7589: 'whisper', 7590: 'tantalizing', 7591: 'bargains', 7592: 'dare', 7593: 'executive', 7594: 'witness', 7595: 'beckett', 7596: 'broad', 7597: 'knife', 7598: 'flavourful', 7599: 'reduction', 7600: 'ginormous', 7601: 'depot', 7602: 'cone', 7603: 'sweetened', 7604: 'established', 7605: 'runway', 7606: 'occasional', 7607: 'google', 7608: 'fooled', 7609: 'thereof', 7610: 'browsing', 7611: 'cubes', 7612: 'overhead', 7613: 'relied', 7614: 'blvd', 7615: 'pairs', 7616: 'hemmed', 7617: 'curtain', 7618: 'vermicelli', 7619: 'interrupt', 7620: 'indifferent', 7621: 'albert', 7622: 'marilyn', 7623: 'monroe', 7624: 'ocatilla', 7625: 'concierge', 7626: 'tarts', 7627: 'chunk', 7628: 'granite', 7629: 'mattress', 7630: 'silky', 7631: 'disturbed', 7632: 'housekeeping', 7633: 'rise', 7634: 'cokes', 7635: 'massages', 7636: 'headache', 7637: 'rentals', 7638: 'losing', 7639: 'cheat', 7640: 'admitted', 7641: 'classier', 7642: 'mealy', 7643: 'junkie', 7644: 'confusion', 7645: 'cravings', 7646: 'fillings', 7647: 'karey', 7648: 'lucille', 7649: 'collard', 7650: 'starter', 7651: 'swipe', 7652: 'cd', 7653: 'dispenser', 7654: 'grazie', 7655: 'ritz', 7656: 'instructions', 7657: 'pups', 7658: 'yrs', 7659: 'mahi', 7660: 'bizarre', 7661: 'ins', 7662: 'oreos', 7663: 'swedish', 7664: 'smeeks', 7665: 'goofy', 7666: 'parsley', 7667: 'pal', 7668: 'billiards', 7669: 'wasabi', 7670: 'mgr', 7671: 'swap', 7672: 'caters', 7673: 'sammich', 7674: 'associates', 7675: 'sunscreens', 7676: 'cc', 7677: 'yung', 7678: 'cardinal', 7679: 'sin', 7680: 'yumminess', 7681: 'se', 7682: 'laugh', 7683: 'david', 7684: 'ruin', 7685: 'cruz', 7686: 'mba', 7687: 'according', 7688: 'elvis', 7689: 'bevy', 7690: 'posters', 7691: 'statues', 7692: 'rumor', 7693: 'alma', 7694: 'padres', 7695: 'sweeping', 7696: 'gateway', 7697: 'carrier', 7698: 'consequently', 7699: 'walkway', 7700: 'maneuver', 7701: 'cancer', 7702: 'midwest', 7703: 'ads', 7704: 'den', 7705: 'rink', 7706: 'summary', 7707: 'raise', 7708: 'sandwhiches', 7709: 'tastey', 7710: 'basha', 7711: 'daunting', 7712: 'trim', 7713: 'conditioned', 7714: 'education', 7715: 'activities', 7716: 'softball', 7717: 'volleyball', 7718: 'regard', 7719: 'chatty', 7720: 'odds', 7721: 'blackened', 7722: 'boxed', 7723: 'brag', 7724: 'bout', 7725: 'staffed', 7726: 'pepsi', 7727: 'chocolatey', 7728: 'patrick', 7729: 'dreaded', 7730: 'nutmeg', 7731: 'defiantly', 7732: 'ovens', 7733: 'stake', 7734: 'roaring', 7735: 'remainder', 7736: 'poolside', 7737: 'moderately', 7738: 'amused', 7739: 'wiping', 7740: 'reaching', 7741: 'occurred', 7742: 'reflected', 7743: 'nike', 7744: 'loss', 7745: 'vowed', 7746: 'danielle', 7747: 'tracks', 7748: 'bums', 7749: 'jams', 7750: 'mousse', 7751: 'swamped', 7752: 'pounding', 7753: 'chilis', 7754: 'visa', 7755: 'princess', 7756: 'passengers', 7757: 'dehydrated', 7758: 'uninteresting', 7759: 'army', 7760: 'rant', 7761: 'extent', 7762: 'anyhoo', 7763: 'hastily', 7764: 'knot', 7765: 'megan', 7766: 'romance', 7767: 'eg', 7768: 'tahini', 7769: 'extended', 7770: 'brave', 7771: 'olivos', 7772: 'irritated', 7773: 'senor', 7774: 'kosher', 7775: 'floats', 7776: 'jodi', 7777: 'erica', 7778: 'robe', 7779: 'dyes', 7780: 'refined', 7781: 'wok', 7782: 'tso', 7783: 'essence', 7784: 'tammie', 7785: 'coe', 7786: 'mj', 7787: 'selecting', 7788: 'rome', 7789: 'attractions', 7790: 'diamondback', 7791: 'poser', 7792: 'bedroom', 7793: 'coronado', 7794: 'juke', 7795: 'agrees', 7796: 'symphony', 7797: 'ninja', 7798: 'moderate', 7799: 'houstons', 7800: 'picazzo', 7801: 'remain', 7802: 'nourish', 7803: 'prescription', 7804: 'preferences', 7805: 'hates', 7806: 'cutesy', 7807: 'progressive', 7808: 'pitch', 7809: 'dentists', 7810: 'matters', 7811: 'fireplaces', 7812: 'blu', 7813: 'kicks', 7814: 'spectrum', 7815: 'cantina', 7816: 'shumai', 7817: 'nam', 7818: 'spoons', 7819: 'slider', 7820: 'demanding', 7821: 'lesser', 7822: 'abroad', 7823: 'lasted', 7824: 'hometown', 7825: 'profit', 7826: 'toddler', 7827: 'tia', 7828: 'winning', 7829: 'chardonnay', 7830: 'agreement', 7831: 'persian', 7832: 'sprout', 7833: 'wilted', 7834: 'woods', 7835: 'shasta', 7836: 'counters', 7837: 'assist', 7838: 'interest', 7839: 'crema', 7840: 'monk', 7841: 'whitey', 7842: 'diagnosed', 7843: 'dumping', 7844: 'handing', 7845: 'defunct', 7846: 'intent', 7847: 'wisdom', 7848: 'bitches', 7849: 'kills', 7850: 'kilt', 7851: 'lifter', 7852: 'portobello', 7853: 'outright', 7854: 'breathe', 7855: 'advocate', 7856: 'pueblo', 7857: 'ancient', 7858: 'props', 7859: 'gb', 7860: 'friendship', 7861: 'freak', 7862: 'ducks', 7863: 'vacuum', 7864: 'remained', 7865: 'phil', 7866: 'congrats', 7867: 'decked', 7868: 'specialize', 7869: 'miniature', 7870: 'virgin', 7871: 'lai', 7872: 'calming', 7873: 'focusing', 7874: 'knees', 7875: 'movement', 7876: 'preparing', 7877: 'tint', 7878: 'witty', 7879: 'shopped', 7880: 'whopping', 7881: 'surf', 7882: 'media', 7883: 'mulligan', 7884: 'womens', 7885: 'dilly', 7886: 'programs', 7887: 'smashburger', 7888: 'smashfries', 7889: 'circling', 7890: 'coco', 7891: 'lychee', 7892: 'substitutions', 7893: 'accommodations', 7894: 'enthusiasm', 7895: 'cashew', 7896: 'cabernet', 7897: 'sophia', 7898: 'toffee', 7899: 'malt', 7900: 'stickler', 7901: 'traditionally', 7902: 'numero', 7903: 'mock', 7904: 'colossal', 7905: 'cared', 7906: 'foxy', 7907: 'chompie', 7908: 'marie', 7909: 'cutest', 7910: 'apron', 7911: 'trauma', 7912: 'overload', 7913: 'lite', 7914: 'utmost', 7915: 'stares', 7916: 'liar', 7917: 'talks', 7918: 'boost', 7919: 'immune', 7920: 'innocent', 7921: 'denver', 7922: 'wares', 7923: 'postinos', 7924: 'boulders', 7925: 'dangerously', 7926: 'nicest', 7927: 'mixing', 7928: 'barbeque', 7929: 'dodgers', 7930: 'tommy', 7931: 'sail', 7932: 'miller', 7933: 'dodger', 7934: 'roasting', 7935: 'virtually', 7936: 'sips', 7937: 'grumpy', 7938: 'riazzi', 7939: 'loaves', 7940: 'elaborate', 7941: 'pharmacy', 7942: 'dew', 7943: 'medley', 7944: 'sir', 7945: 'farther', 7946: 'meantime', 7947: 'entre', 7948: 'shock', 7949: 'sidecar', 7950: 'reminding', 7951: 'roadhouse', 7952: 'stella', 7953: 'condescending', 7954: 'condo', 7955: 'scallion', 7956: 'kyle', 7957: 'consumed', 7958: 'tina', 7959: 'nondescript', 7960: 'towne', 7961: 'roomy', 7962: 'samosas', 7963: 'whip', 7964: 'seabass', 7965: 'tar', 7966: 'observed', 7967: 'refrigerated', 7968: 'brewing', 7969: 'rep', 7970: 'chico', 7971: 'driveway', 7972: 'applying', 7973: 'depth', 7974: 'tanks', 7975: 'article', 7976: 'institution', 7977: 'mail', 7978: 'crime', 7979: 'excellence', 7980: 'dinning', 7981: 'serrano', 7982: 'chimichangas', 7983: 'pina', 7984: 'digging', 7985: 'nitris', 7986: 'googled', 7987: 'bam', 7988: 'goodbye', 7989: 'billing', 7990: 'crush', 7991: 'blending', 7992: 'pong', 7993: 'dismay', 7994: 'metropolitan', 7995: 'pages', 7996: 'tastiest', 7997: 'soju', 7998: 'sheet', 7999: 'shampoo', 8000: 'straightforward', 8001: 'debit', 8002: 'mien', 8003: 'breadfruit', 8004: 'overwhelm', 8005: 'jamaican', 8006: 'beard', 8007: 'spouse', 8008: 'interview', 8009: 'reads', 8010: 'graham', 8011: 'programming', 8012: 'personnel', 8013: 'yoli', 8014: 'analysis', 8015: 'marmalade', 8016: 'frat', 8017: 'rula', 8018: 'bula', 8019: 'trivia', 8020: 'sport', 8021: 'santan', 8022: 'cvs', 8023: 'scanned', 8024: 'copies', 8025: 'bahamas', 8026: 'auditorium', 8027: 'flame', 8028: 'batting', 8029: 'cools', 8030: 'battle', 8031: 'shabu', 8032: 'unforgettable', 8033: 'gays', 8034: 'willo', 8035: 'core', 8036: 'spelled', 8037: 'horror', 8038: 'safely', 8039: 'cringe', 8040: 'mastro', 8041: 'dominick', 8042: 'filets', 8043: 'branding', 8044: 'goals', 8045: 'raj', 8046: 'bait', 8047: 'lamp', 8048: 'bmw', 8049: 'harvil', 8050: 'jose', 8051: 'rain', 8052: 'culvers', 8053: 'completes', 8054: 'loading', 8055: 'dice', 8056: 'tiger', 8057: 'title', 8058: 'bug', 8059: 'comical', 8060: 'cues', 8061: 'eyebrows', 8062: 'curling', 8063: 'richardson', 8064: 'nobuo', 8065: 'senses', 8066: 'spilling', 8067: 'jotc', 8068: 'wins', 8069: 'nj', 8070: 'upgraded', 8071: 'vote', 8072: 'tournament', 8073: 'donate', 8074: 'reese', 8075: 'richness', 8076: 'dull', 8077: 'forgettable', 8078: 'rag', 8079: 'macayos', 8080: 'ankle', 8081: 'distinction', 8082: 'typed', 8083: 'lisa', 8084: 'perched', 8085: 'allergy', 8086: 'bathtub', 8087: 'drain', 8088: 'rb', 8089: 'aspects', 8090: 'reccomend', 8091: 'ex', 8092: 'adam', 8093: 'commission', 8094: 'pappadeaux', 8095: 'overloaded', 8096: 'covering', 8097: 'answering', 8098: 'quarters', 8099: 'deer', 8100: 'vine', 8101: 'cholla', 8102: 'quail', 8103: 'challah', 8104: 'ignite', 8105: 'festivals', 8106: 'turd', 8107: 'slant', 8108: 'shooting', 8109: 'wildfish', 8110: 'v', 8111: 'wildlife', 8112: 'pierced', 8113: 'piercings', 8114: 'fastest', 8115: 'nite', 8116: 'shepherds', 8117: 'biased', 8118: 'cityscape', 8119: 'swirled', 8120: 'busses', 8121: 'creaminess', 8122: 'twelve', 8123: 'stalks', 8124: 'packaging', 8125: 'amex', 8126: 'hunger', 8127: 'scraps', 8128: 'chuckled', 8129: 'bellies', 8130: 'volunteer', 8131: 'steakhouses', 8132: 'illegal', 8133: 'ganoush', 8134: 'gargantuan', 8135: 'attire', 8136: 'retain', 8137: 'approx', 8138: 'meringue', 8139: 'measly', 8140: 'wm', 8141: 'conditions', 8142: 'volcano', 8143: 'installing', 8144: 'desperate', 8145: 'preservatives', 8146: 'kiwi', 8147: 'journey', 8148: 'tractor', 8149: 'nello', 8150: 'merry', 8151: 'disturbing', 8152: 'mats', 8153: 'artichokes', 8154: 'katie', 8155: 'gap', 8156: 'crushed', 8157: 'graduate', 8158: 'brandy', 8159: 'colleagues', 8160: 'upside', 8161: 'bra', 8162: 'bras', 8163: 'differently', 8164: 'pours', 8165: 'taro', 8166: 'melon', 8167: 'emails', 8168: 'logan', 8169: 'lotion', 8170: 'existence', 8171: 'bryan', 8172: 'cheerful', 8173: 'tilted', 8174: 'peppered', 8175: 'tejas', 8176: 'shortage', 8177: 'europe', 8178: 'follows', 8179: 'curl', 8180: 'stuffy', 8181: 'strings', 8182: 'surrounds', 8183: 'fryer', 8184: 'owns', 8185: 'sweetest', 8186: 'beaten', 8187: 'gather', 8188: 'finely', 8189: 'engine', 8190: 'persons', 8191: 'pawn', 8192: 'hints', 8193: 'seller', 8194: 'stetson', 8195: 'oranges', 8196: 'buffett', 8197: 'ales', 8198: 'algae', 8199: 'forcing', 8200: 'fantasy', 8201: 'pun', 8202: 'embarrassing', 8203: 'voucher', 8204: 'bibimbap', 8205: 'jasmine', 8206: 'gusto', 8207: 'sees', 8208: 'drool', 8209: 'cleanfreak', 8210: 'medal', 8211: 'addicting', 8212: 'meth', 8213: 'kyoto', 8214: 'caterpillar', 8215: 'roka', 8216: 'blackberries', 8217: 'salesperson', 8218: 'scheduling', 8219: 'transaction', 8220: 'hoot', 8221: 'cuisines', 8222: 'suede', 8223: 'techno', 8224: 'damaged', 8225: 'london', 8226: 'stoked', 8227: 'charleston', 8228: 'encouraged', 8229: 'tube', 8230: 'tuscan', 8231: 'morgan', 8232: 'tendency', 8233: 'po', 8234: 'hideous', 8235: 'blazing', 8236: 'loosing', 8237: 'mighty', 8238: 'fragrant', 8239: 'sara', 8240: 'wierd', 8241: 'café', 8242: 'cannoli', 8243: 'pischke', 8244: 'mcgrath', 8245: 'warn', 8246: 'offensive', 8247: 'treasures', 8248: 'foccacia', 8249: 'bosses', 8250: 'verse', 8251: 'chorus', 8252: 'marching', 8253: 'war', 8254: 'liquors', 8255: 'chemicals', 8256: 'disclosure', 8257: 'rivaled', 8258: 'saltier', 8259: 'strongbow', 8260: 'uk', 8261: 'pa', 8262: 'electric', 8263: 'aji', 8264: 'certificate', 8265: 'ooey', 8266: 'liberty', 8267: 'bruce', 8268: 'marnier', 8269: 'mister', 8270: 'vegans', 8271: 'collected', 8272: 'paul', 8273: 'goose', 8274: 'parisian', 8275: 'envisioned', 8276: 'stark', 8277: 'worrying', 8278: 'aftertaste', 8279: 'pictured', 8280: 'classroom', 8281: 'official', 8282: 'phrase', 8283: 'trunk', 8284: 'sneaking', 8285: 'lalibela', 8286: 'african', 8287: 'exclusive', 8288: 'injera', 8289: 'michaels', 8290: 'framed', 8291: 'avail', 8292: 'ashley', 8293: 'therapist', 8294: 'confirmation', 8295: 'therapists', 8296: 'shells', 8297: 'tracy', 8298: 'chuckbox', 8299: 'zuzu', 8300: 'figuring', 8301: 'steer', 8302: 'outgoing', 8303: 'jesse', 8304: 'tott', 8305: 'trimmed', 8306: 'connect', 8307: 'manageable', 8308: 'bats', 8309: 'tunnel', 8310: 'culver', 8311: 'intoxicated', 8312: 'worlds', 8313: 'causing', 8314: 'touches', 8315: 'mistakes', 8316: 'zoe', 8317: 'winco', 8318: 'blatantly', 8319: 'identical', 8320: 'invite', 8321: 'suffered', 8322: 'luke', 8323: 'fund', 8324: 'roxie', 8325: 'treasure', 8326: 'trophy', 8327: 'michigan', 8328: 'scuba', 8329: 'barcelona', 8330: 'tartare', 8331: 'mirror', 8332: 'accompaniments', 8333: 'fallen', 8334: 'musician', 8335: 'db', 8336: 'kristi', 8337: 'vca', 8338: 'absurd', 8339: 'memorabilia', 8340: 'kathy', 8341: 'saffron', 8342: 'fresco', 8343: 'pears', 8344: 'joya', 8345: 'booking', 8346: 'gallon', 8347: 'hangs', 8348: 'teg', 8349: 'relative', 8350: 'inconsistency', 8351: 'textures', 8352: 'bingsoo', 8353: 'baklava', 8354: 'shoved', 8355: 'mysterious', 8356: 'unseasoned', 8357: 'shades', 8358: 'deviled', 8359: 'cancelled', 8360: 'sandbar', 8361: 'fiesta', 8362: 'tabs', 8363: 'circular', 8364: 'enotria', 8365: 'invitations', 8366: 'dk', 8367: 'ajo', 8368: 'yen', 8369: 'hefty', 8370: 'fleming', 8371: 'symbols', 8372: 'lookout', 8373: 'flo', 8374: 'individuals', 8375: 'ringo', 8376: 'passive', 8377: 'gamestop', 8378: 'grande', 8379: 'fri', 8380: 'wes', 8381: 'registry', 8382: 'scenes', 8383: 'starwood', 8384: 'convention', 8385: 'avacado', 8386: 'upcharge', 8387: 'golfing', 8388: 'jumping', 8389: 'fbh', 8390: 'awfully', 8391: 'doodle', 8392: 'storm', 8393: 'pickiest', 8394: 'eastwind', 8395: 'qualifies', 8396: 'sustainable', 8397: 'adams', 8398: 'skate', 8399: 'payton', 8400: 'aaron', 8401: 'artisan', 8402: 'ito', 8403: 'equipped', 8404: 'bodo', 8405: 'bolognese', 8406: 'departure', 8407: 'sorority', 8408: 'thaiger', 8409: 'rear', 8410: 'rey', 8411: 'wigwam', 8412: 'upbeat', 8413: 'urgent', 8414: 'majerle', 8415: 'spam', 8416: 'opportunities', 8417: 'paleta', 8418: 'leeks', 8419: 'childsplay', 8420: 'position', 8421: 'alex', 8422: 'cous', 8423: 'morton', 8424: 'soak', 8425: 'function', 8426: 'diamondbacks', 8427: 'muy', 8428: 'stain', 8429: 'lickin', 8430: 'lucia', 8431: 'prompted', 8432: 'educate', 8433: 'beating', 8434: 'yolk', 8435: 'fraiche', 8436: 'laredo', 8437: 'glitter', 8438: 'ebi', 8439: 'prawn', 8440: 'shining', 8441: 'articles', 8442: 'tastings', 8443: 'neiman', 8444: 'marcus', 8445: 'chanel', 8446: 'laura', 8447: 'styled', 8448: 'cherryblossom', 8449: 'charles', 8450: 'surprises', 8451: 'flooring', 8452: 'fixings', 8453: 'mimosa', 8454: 'consuming', 8455: 'kahlua', 8456: 'paninis', 8457: 'gray', 8458: 'urinal', 8459: 'reopen', 8460: 'drybar', 8461: 'thanh', 8462: 'bomberos', 8463: 'nacho', 8464: 'ranks', 8465: 'hyatt', 8466: 'misleading', 8467: 'microbrews', 8468: 'affiliated', 8469: 'arribas', 8470: 'butai', 8471: 'ganache', 8472: 'landed', 8473: 'suv', 8474: 'maps', 8475: 'detailed', 8476: 'payed', 8477: 'smiley', 8478: 'downer', 8479: 'atrium', 8480: 'cookiez', 8481: 'bookmans', 8482: 'satiate', 8483: 'release', 8484: 'adjoining', 8485: 'bedrooms', 8486: 'bragging', 8487: 'carla', 8488: 'cricket', 8489: 'taberna', 8490: 'seville', 8491: 'anglaise', 8492: 'continuing', 8493: 'avid', 8494: 'croque', 8495: 'cabeza', 8496: 'musty', 8497: 'havarti', 8498: 'groomer', 8499: 'transit', 8500: 'reliably', 8501: 'uptight', 8502: 'casually', 8503: 'ichi', 8504: 'maintaining', 8505: 'grayhawk', 8506: 'canasta', 8507: 'confit', 8508: 'fiancee', 8509: 'strapped', 8510: 'hay', 8511: 'races', 8512: 'teakwoods', 8513: 'fluff', 8514: 'studios', 8515: 'critic', 8516: 'antiques', 8517: 'backs', 8518: 'snag', 8519: 'taxes', 8520: 'cheek', 8521: 'exhausted', 8522: 'cigars', 8523: 'relating', 8524: 'collar', 8525: 'texted', 8526: 'soi', 8527: 'easter', 8528: 'icon', 8529: 'cough', 8530: 'hookah', 8531: 'randy', 8532: 'validation', 8533: 'nutshell', 8534: 'standout', 8535: 'giggle', 8536: 'canidae', 8537: 'innova', 8538: 'nibbles', 8539: 'rally', 8540: 'lemony', 8541: 'bahama', 8542: 'venturing', 8543: 'lord', 8544: 'spencer', 8545: 'greg', 8546: 'felipe', 8547: 'munchies', 8548: 'beams', 8549: 'eyed', 8550: 'entries', 8551: 'upfront', 8552: 'hero', 8553: 'ariel', 8554: 'introduction', 8555: 'fb', 8556: 'begging', 8557: 'ann', 8558: 'damned', 8559: 'drifty', 8560: 'cheerfully', 8561: 'shannon', 8562: 'junior', 8563: 'genghis', 8564: 'relocated', 8565: 'thou', 8566: 'ab', 8567: 'meaningful', 8568: 'knish', 8569: 'pin', 8570: 'fam', 8571: 'blouses', 8572: 'michelin', 8573: 'runner', 8574: 'kitchenette', 8575: 'amusing', 8576: 'karsh', 8577: 'cambodian', 8578: 'oscar', 8579: 'corndog', 8580: 'tyler', 8581: 'tile', 8582: 'bertha', 8583: 'porterhouse', 8584: 'cows', 8585: 'plantation', 8586: 'clarice', 8587: 'tryst', 8588: 'natcher', 8589: 'vang', 8590: 'ama', 8591: 'stockyards', 8592: 'encore', 8593: 'jenny', 8594: 'veronica', 8595: 'clouds', 8596: 'metrocenter', 8597: 'yogurtology', 8598: 'phú', 8599: 'thành', 8600: 'karawi', 8601: 'cevapi', 8602: 'tenants', 8603: 'wand'}\n"
          ]
        }
      ]
    },
    {
      "cell_type": "code",
      "source": [
        "print(word_count)"
      ],
      "metadata": {
        "colab": {
          "base_uri": "https://localhost:8080/"
        },
        "id": "gmUm7ZRmelrU",
        "outputId": "9089114e-3ce9-4f3a-83cd-d591160941d7"
      },
      "execution_count": null,
      "outputs": [
        {
          "output_type": "stream",
          "name": "stdout",
          "text": [
            "{'my': 7729, 'wife': 253, 'and': 30582, 'i': 29087, 'went': 1065, 'here': 3172, 'sat': 247, 'on': 6542, 'the': 46676, 'patio': 344, 'near': 186, 'canal': 13, 'temperature': 22, 'was': 14478, 'perfect': 429, 'for': 10659, 'being': 653, 'outside': 416, 'view': 114, 'of': 14852, 'camelback': 58, 'sublime': 10, 'only': 1772, 'complaint': 76, 'about': 2364, 'seating': 210, 'it': 14491, 'difficult': 70, 'to': 21261, 'read': 177, 'our': 2356, 'menus': 61, 'when': 2507, 'we': 6556, 'were': 4290, 'there': 3866, 'in': 10276, 'evening': 180, 'waiter': 239, 'friendly': 1030, 'helpful': 268, 'chicken': 1173, 'salad': 887, 'sandwich': 616, 'had': 5170, 'very': 3111, 'good': 4761, 'loved': 365, 'burger': 582, 'she': 1368, 'ordered': 1198, 'all': 3193, 'a': 25052, 'nice': 1541, 'relaxing': 59, 'sunday': 189, 'dinner': 685, 'brunch': 93, 'at': 4551, 'el': 31, 'chorro': 1, 'today': 249, 'wonderful': 340, 'comfortable': 183, 'with': 7620, 'umbrellas': 4, 'heaters': 12, 'service': 2163, 'outstanding': 91, 'food': 4217, 'delicious': 935, 'creme': 60, 'brulee': 29, 'french': 173, 'toast': 127, 'heaven': 85, 'everyone': 385, 'else': 400, 'enjoyed': 369, 'their': 2675, 'eggs': 164, 'benedict': 26, 'came': 888, 'out': 3106, 'blt': 20, 'looked': 309, 'awesome': 571, 'fries': 553, 'will': 2971, 'definitely': 809, 'be': 3921, 'back': 1987, 'love': 1601, 'this': 7208, 'place': 4651, 'tasty': 600, 'great': 3534, 'prices': 596, 'who': 1022, 'can': 2922, 'beat': 93, 'that': 8928, 'newest': 6, 'thing': 672, 'is': 16144, 'order': 1117, 'enjoy': 393, 'home': 595, 'am': 2685, 'mom': 157, 'now': 880, 'so': 4608, 'eating': 330, 'restaurant': 1195, 'lot': 707, 'harder': 11, 'than': 1373, 'used': 410, 'haha': 21, 'see': 799, 'ya': 55, 'if': 3312, 'could': 1355, 'give': 722, 'stars': 611, 'would': 3156, 'but': 7425, 'because': 1572, 'have': 8222, 'been': 2078, 'joe': 86, 'real': 274, 'bbq': 268, 'know': 1155, 'how': 969, 'famous': 60, 'dave': 32, 'fine': 239, 'are': 6036, 'two': 936, 'them': 1487, 'both': 633, 'they': 6938, 'visited': 96, 'one': 2847, 'chandler': 100, 'mall': 200, 'lunch': 890, 'off': 992, 'menu': 1153, 'brisket': 71, 'wilbur': 2, 'beans': 242, 'not': 11879, 'ok': 454, 'meat': 470, 'itself': 173, 'did': 2171, 'seem': 237, 'smoked': 61, 'has': 1584, 'certain': 62, 'look': 434, 'taste': 488, 'just': 3213, 'frankly': 19, 'seemed': 263, 'sorta': 13, 'pale': 13, 'as': 4014, 'boiled': 14, 'instead': 267, 'grilled': 207, 'or': 2787, 'either': 305, 'sauce': 853, 'excessively': 5, 'salty': 95, 'severe': 7, 'returned': 64, 'noticeable': 4, 'salt': 98, 'should': 567, 'enhance': 5, 'flavor': 481, 'stand': 128, 'major': 57, 'note': 132, 'examined': 4, 'sale': 64, 'bottles': 63, 'you': 8289, 'buy': 205, 'take': 783, 'use': 342, 'molasses': 2, 'brown': 82, 'sugar': 95, 'most': 767, 'chefs': 37, 'no': 1680, 'high': 328, 'fructose': 3, 'corn': 168, 'syrup': 35, 'yuck': 20, 'besides': 46, 'stuff': 334, 'poison': 5, 'your': 2042, 'pancreas': 1, 'right': 951, 'done': 296, 'anyway': 186, 'really': 2329, 'nothing': 489, 'special': 446, 'authentic': 175, 'given': 178, 'choice': 203, 'want': 945, 'some': 2325, 'nowhere': 24, 'do': 3284, 'beats': 25, 'heck': 43, 'tom': 30, 'sure': 803, 'review': 422, 'truly': 133, 'awful': 74, 'pretty': 1260, 'reviews': 347, 'golf': 47, 'course': 364, 'its': 698, 'self': 44, 'an': 2040, 'easy': 205, 'star': 331, 'based': 134, 'price': 555, 'condition': 24, 'customer': 304, 'bother': 45, 'trying': 294, 'pro': 17, 'shop': 322, 'staff': 1004, 'these': 512, 'folks': 99, 'going': 1026, 'through': 347, 'motions': 1, 'taking': 157, 'money': 272, 'doing': 161, 'least': 365, 'possible': 80, 'get': 2646, 'paycheck': 6, 'since': 786, 'such': 348, 'value': 115, 'people': 1145, 'continue': 62, 'flock': 5, 'droves': 1, 'needing': 10, 'hire': 11, 'personalities': 1, 'any': 908, 'time': 2415, 'future': 67, 'front': 252, 'cart': 33, 'girl': 147, 'lady': 120, 'working': 175, 'snack': 47, 'shack': 7, 'another': 688, 'impress': 30, 'me': 3160, 'walk': 266, 'renting': 2, 'told': 436, 'already': 170, 'carts': 21, 'group': 228, 'able': 246, 'own': 286, 'riding': 15, 'person': 252, 'don': 10, 't': 38, 'subjected': 2, 'skills': 20, 'lack': 98, 'turned': 87, 'okay': 267, 'struck': 11, 'odd': 57, 'go': 2450, 'hate': 137, 'reward': 3, 'bad': 714, 'behavior': 13, 'absolutely': 218, 'sub': 78, 'over': 1058, 'years': 501, 'never': 1082, 'tired': 37, 'mitch': 2, 'owner': 234, 'he': 1406, 'cares': 32, 'must': 328, 'thier': 10, 'new': 833, 'wave': 12, 'night': 1010, 'drink': 557, 'hard': 344, 'find': 741, 'somewhere': 98, 'gay': 23, 'sober': 12, 'bitchin': 1, 'music': 366, 'ratio': 14, 'straight': 68, 'like': 3450, 'breeders': 1, 'what': 2123, 'hang': 112, 'fact': 271, 'wnat': 1, 'care': 303, 'also': 1768, 'pool': 211, 'table': 727, 'wich': 4, 'rare': 88, 'clubs': 16, 'az': 189, 'liked': 293, 'set': 170, 'restored': 8, 'bungalow': 4, 'cibo': 23, 'pronounced': 8, 'hardwood': 5, 'floors': 21, 'exposed': 11, 'brick': 33, 'panel': 5, 'fireplace': 17, 'mood': 92, 'while': 837, 'revitalizing': 1, 'downtown': 191, 'phoenix': 655, 'area': 730, 'beautiful': 210, 'salads': 165, 'antipasto': 15, 'artisanal': 1, 'pizzas': 102, 'housemade': 3, 'fresh': 858, 'pasta': 186, 'flew': 8, 'business': 290, 'wednesday': 38, 'friends': 482, 'picked': 90, 'up': 2430, 'decided': 388, 'bat': 6, 'impressed': 230, 'ambiance': 176, 'exudes': 2, 'every': 730, 'corner': 113, 'romantic': 46, 'small': 632, 'parties': 30, 'seated': 193, 'four': 218, 'server': 480, 'well': 1486, 'versed': 2, 'wine': 574, 'list': 253, 'away': 421, 'offered': 153, 'appetizer': 211, 'ideas': 13, 'parings': 2, 'offerings': 35, 'bottle': 137, 'vipra': 1, 'rossa': 1, 'pair': 45, 'buschetta': 2, 'little': 1561, 'gem': 64, 'cutting': 14, 'board': 35, 'type': 215, 'platter': 49, 'three': 353, 'slices': 112, 'each': 430, 'having': 392, 'different': 546, 'topping': 31, 'first': 1169, 'grape': 10, 'tomatoes': 120, 'basil': 82, 'second': 238, 'cannelini': 1, 'third': 48, 'prosciutto': 40, 'crudo': 5, 'mozzarella': 83, 'ah': 17, 'mazz': 1, 'ing': 4, 'feeling': 151, 'super': 433, 'adventurous': 14, 'meal': 720, 'diavola': 2, 'pizza': 949, 'average': 223, 'say': 879, 'inventive': 15, 'presentation': 62, 'though': 719, 'five': 176, 'furniture': 46, 'from': 2523, 'fantastic': 327, 'spent': 116, 'better': 1077, 'part': 330, 'month': 113, 'looking': 550, 'tv': 116, 'living': 77, 'room': 487, 'everything': 762, 'across': 172, 'cheap': 278, 'prefabricated': 1, 'stumbled': 28, 'sweet': 579, 'potatoes': 187, 'way': 1036, 'local': 309, 'store': 547, 'extremely': 204, 'found': 492, 'couple': 369, 'things': 590, 'size': 229, 'needed': 219, 'us': 1474, 'pieces': 124, 'locally': 36, 'made': 903, 'call': 250, 'custom': 25, 'make': 1030, 'agree': 83, 'dollars': 67, 'less': 314, 'anything': 454, 'received': 125, 'piece': 119, 'happier': 12, 'groceries': 23, 'keep': 281, 'too': 1545, 'shabby': 14, 'decent': 355, 'drinks': 598, 'plate': 328, 'standard': 87, 'beet': 15, 'many': 704, 'beets': 14, 'more': 1863, 'lettuce': 122, 'think': 1108, 'wanting': 65, 'highlight': 30, 'whole': 329, 'squishy': 5, 'bread': 571, 'cheese': 946, 'big': 643, 'negative': 55, 'soggy': 62, 'center': 165, 'other': 1544, 'complaints': 61, 'fruit': 113, 'best': 1365, 'sausage': 140, 'typical': 152, 'margarita': 86, 'winner': 32, 'thought': 431, 'rubbery': 14, 'seafood': 103, 'tiramisu': 20, 'pine': 6, 'nut': 10, 'brittle': 6, 'chocolate': 340, 'cake': 208, 'neighborhood': 151, 'breakfast': 502, 'joint': 156, 'building': 111, 'cursed': 2, 'turnover': 8, 'businesses': 39, 'location': 682, 'oink': 2, 'busy': 335, 'took': 524, 'bit': 713, 'refills': 37, 'coffee': 532, 'need': 535, 'bigger': 64, 'cups': 49, 'minutes': 563, 'longer': 105, 'worries': 10, 'standing': 55, 'by': 1739, 'watching': 126, 'run': 187, 'around': 823, 'chickens': 8, 'heads': 15, 'cut': 178, 'serving': 115, 'clearing': 5, 'plates': 138, 'filling': 110, 'huge': 517, 'quite': 471, 'few': 914, 'items': 420, 'interested': 39, 'funny': 63, 'hubby': 76, 'ended': 201, 'ordering': 161, 'bacon': 261, 'realize': 67, 'until': 289, 'after': 1246, 'finished': 106, 'try': 1179, 'known': 83, 'jalapeno': 32, 'anyone': 232, 'ranch': 76, 'market': 148, 'atmosphere': 542, 'produce': 57, 'reasonable': 199, 'civiche': 4, 'excellent': 508, 'down': 817, 'isles': 3, 'appear': 19, 'filled': 138, 'grocery': 85, 'packaged': 16, 'foods': 115, 'makes': 369, 'advice': 47, 'fresca': 7, 'bar': 1107, 'past': 199, 'bakery': 84, 'door': 304, 'pick': 188, 'favorite': 624, 'head': 160, 'grill': 136, 'carne': 105, 'asada': 90, 'street': 249, 'tacos': 322, 'save': 76, 'where': 713, 'deliciouso': 1, 'shrimp': 302, 'ceviche': 25, 'reasonably': 91, 'usually': 452, 'half': 372, 'pound': 25, 'regular': 263, 'ensalda': 1, 'eat': 818, 'tostada': 11, 'rest': 158, 'next': 765, 'day': 798, 'yummy': 270, 'belly': 41, 'stop': 310, 'tortilla': 102, 'factory': 19, 'tortillas': 63, 'forget': 108, 'hit': 202, 'hot': 615, 'cream': 417, 'churro': 6, 'desert': 150, 'fave': 36, 'places': 496, 'stocked': 34, 'normally': 109, 'peruse': 8, 'dvds': 8, 'cds': 2, 'tend': 38, 'pricey': 126, 'border': 9, 'became': 31, 'fairly': 117, 'documentary': 2, 'dvd': 16, 'paid': 105, 'bucks': 151, 'seen': 204, 'anywhere': 144, 'before': 808, 'much': 1225, 'appreciate': 87, 'refuses': 1, 'cowtow': 1, 'ridiculousness': 1, 'political': 4, 'correctness': 1, 'alone': 94, 'worth': 542, 'paying': 110, 'even': 1433, 'staffer': 2, 'rang': 11, 'purchase': 69, 'knowledgable': 25, 'letting': 19, 'biography': 2, 'director': 5, 'film': 15, 'come': 857, 'shipment': 2, 'tagged': 2, 'put': 361, 'floor': 108, 'yet': 320, 'called': 272, 'someone': 314, 'open': 366, 'box': 121, 'bring': 287, 'copy': 14, 'bought': 112, 'coninue': 1, 'patronize': 8, 'borders': 6, 'book': 102, 'chooses': 2, 'censor': 1, 'japanese': 79, 'guaranteed': 9, 'original': 99, 'closest': 26, 'japan': 11, 'sushi': 451, 'soooo': 37, 'always': 1395, 'carry': 75, 'available': 158, 'uni': 5, 'octopus': 9, 'ramen': 23, 'superb': 50, 'check': 452, 'offer': 249, 'lots': 273, 'variety': 200, 'arrived': 189, 'staked': 2, 'line': 289, 'opening': 68, 'ahead': 79, 'clear': 71, 'round': 67, 'placed': 52, 'name': 295, 'apps': 29, 'goat': 55, 'crostini': 7, 'wait': 757, 'pleasant': 130, 'kept': 134, 'updated': 23, 'hour': 686, 'fifteen': 15, 'seat': 99, 'started': 275, 'wood': 45, 'roasted': 117, 'vegetables': 74, 'sopressata': 1, 'bite': 188, 'then': 1022, 'margherita': 18, 'tomato': 174, 'topped': 74, 'cremini': 1, 'mushrooms': 114, 'rosa': 8, 'red': 364, 'onion': 161, 'parmigiano': 6, 'reggiano': 4, 'rosemary': 22, 'pistachios': 6, 'wiseguy': 5, 'house': 444, 'fennel': 15, 'salami': 18, 'biancoverde': 7, 'ricotta': 17, 'arugula': 23, 'added': 110, 'di': 13, 'parma': 2, 'pei': 39, 'wei': 39, 'consistant': 4, 'orders': 106, 'correct': 47, 'clean': 518, 'wish': 231, 'parking': 392, 'shares': 3, 'starbucks': 87, 'sidebar': 12, 'cars': 42, 'larger': 49, 'happening': 21, 'rating': 79, 'hut': 23, 'gross': 74, 'sandwiches': 232, 'wings': 178, 'fiance': 24, 'loves': 86, 'early': 205, 'soon': 198, 'eh': 26, 'lukewarm': 11, 'feelings': 12, 'exceedingly': 6, 'slow': 174, 'martian': 1, 'asked': 498, 'question': 52, 'may': 344, 'exceed': 3, 'expectations': 77, 'hip': 65, 'modern': 78, 'decor': 280, 'nickle': 3, 'large': 452, 'portions': 218, 'squid': 11, 'bowl': 197, 'returning': 69, 'those': 460, 'bathrooms': 58, 'piss': 12, 'soaked': 13, 'smell': 99, 'dining': 329, 'oooff': 1, 'wrong': 236, 'iced': 113, 'gingerbread': 4, 'latte': 36, 'waffle': 56, 'nutella': 12, 'spread': 29, 'free': 424, 'especially': 313, 'shared': 109, 'tonight': 77, 'grand': 31, 'glorious': 8, 'breaking': 17, 'his': 617, 'diet': 47, 'houston': 14, 'forward': 125, 'scottsdale': 470, 'nights': 92, 'smoothly': 10, 'management': 76, 'met': 104, 'gin': 17, 'tonic': 13, 'caipirinha': 2, 'strong': 81, 'extensive': 57, 'prefer': 113, 'vino': 4, 'popovers': 3, 'headed': 45, 'far': 410, 'fresher': 6, 'fogo': 2, 'e': 30, 'brasa': 1, 'cheeses': 41, 'including': 149, 'chunks': 37, 'parm': 15, 'salmon': 131, 'sun': 80, 'dried': 34, 'olives': 69, 'marinated': 18, 'bell': 85, 'peppers': 109, 'asparagus': 35, 'spears': 2, 'mushroom': 63, 'caps': 6, 'veritable': 2, 'torrent': 1, 'beef': 427, 'cuts': 25, 'preparations': 3, 'ancho': 5, 'rib': 58, 'eye': 83, 'picanha': 1, 'classic': 87, 'sirloin': 15, 'moon': 32, 'shape': 37, 'garlic': 164, 'pork': 377, 'ribs': 129, 'juicy': 63, 'flavorful': 141, 'tad': 40, 'dry': 189, 'lamb': 87, 'gamey': 2, 'liking': 27, 'side': 684, 'dishes': 356, 'brought': 237, 'appropriately': 16, 'modest': 16, 'squares': 6, 'polenta': 11, 'which': 2029, 'mildly': 10, 'mashed': 64, 'fried': 369, 'plantains': 17, 'dessert': 307, 'choices': 148, 'flan': 19, 'types': 69, 'cheesecake': 44, 'wanted': 465, 'papaya': 18, 'de': 63, 'cassis': 1, 'liqueur': 6, 'runny': 14, 'subtle': 18, 'top': 412, 'rather': 168, 'unnecessary': 10, 'valet': 55, 'surrounding': 22, 'however': 454, 'double': 84, 'parked': 22, 'unnoticed': 3, 'per': 89, 'occasions': 34, 'tricks': 7, 'occasion': 51, 'seeing': 94, 'bill': 195, 'appreciated': 43, 'deal': 266, 'scallops': 56, 'app': 50, 'expected': 144, 'prettiest': 3, 'ones': 168, 'ever': 770, 'ahi': 45, 'tuna': 128, 'finish': 121, 'date': 188, 'hesitate': 15, 'setting': 73, 'except': 123, 'concrete': 10, 'wall': 126, 'separating': 2, 'sitting': 186, 'tables': 284, 'comes': 283, 'elbows': 7, 'ants': 2, 'crawling': 4, 'kind': 608, 'uncomfortable': 41, 'itchy': 1, 'young': 113, 'guy': 290, 'washed': 16, 'shirt': 23, 'times': 758, 'wearing': 49, 'again': 868, 'otherwise': 80, 'cool': 462, 'sort': 136, 'sense': 70, 'urgency': 3, 'hurry': 32, 'does': 657, 'guys': 189, 'events': 44, 'watch': 184, 'sports': 121, 'parmesaean': 1, 'teriyaki': 42, 'habenero': 4, 'sauces': 107, 'monthly': 15, 'beer': 568, 'specials': 167, 'tall': 25, 'domestic': 9, 'property': 34, 'ago': 228, 'renovation': 5, 'finally': 302, 'chance': 122, 'stay': 210, 'studio': 33, 'weekend': 158, 'treat': 98, 'girlfriend': 61, 'vegas': 26, 'tempting': 8, 'drive': 249, 'eats': 34, 'gamble': 2, 'same': 466, 'discounted': 11, 'mirage': 3, 'fuel': 5, 'expenses': 1, 'gorgeous': 38, 'suite': 15, 'valley': 328, 'ho': 26, 'fast': 323, 'lines': 65, 'bullshit': 7, 'resort': 76, 'fees': 24, 'personable': 31, 'behind': 187, 'counter': 183, 'startlingly': 1, 'unique': 178, 'sea': 42, 'cookie': 88, 'cutter': 7, 'mega': 2, 'resorts': 5, 'spin': 23, 'american': 98, 'style': 267, 'welcome': 64, 'change': 132, 'pace': 16, 'details': 31, 'hotel': 235, 'stayed': 106, 'grounds': 24, 'landscaped': 1, 'immaculate': 8, 'humbling': 1, 'patrons': 95, 'sized': 67, 'tub': 16, 'useful': 14, 'bed': 70, 'linens': 3, 'shower': 29, 'dug': 13, 'sliding': 4, 'glass': 247, 'doors': 51, 'fall': 56, 'morning': 218, 'colors': 31, 'gripes': 3, 'lamps': 8, 'unusable': 2, 'bright': 51, 'nasty': 27, 'color': 64, 'cfls': 1, 'thankfully': 24, 'lighting': 65, 'ceiling': 28, 'starting': 46, 'worse': 76, 'wear': 51, 'sagging': 2, 'joints': 41, 'water': 367, 'stains': 5, 'flat': 83, 'roofs': 2, 'leak': 6, 'system': 50, 'ala': 9, 'rock': 91, 'addition': 93, 'birds': 16, 'unbeatable': 7, 'short': 185, 'old': 499, 'town': 437, 'fashion': 49, 'square': 34, 'nightclub': 3, 'block': 23, 'etc': 251, 'enough': 589, 'bars': 101, 'quiet': 71, 'main': 170, 'probably': 489, 'worthwhile': 5, 'walkable': 3, 'district': 21, 'disappoints': 8, 'takes': 119, 'advantage': 35, 'escape': 19, 'tried': 525, 'sooner': 14, 'indian': 77, 'converted': 13, 'buffet': 109, 'companions': 11, 'refusing': 5, 'tell': 300, 'spot': 391, 'work': 508, 'rotation': 22, 'mission': 31, 'figure': 66, 'whether': 59, 'jewel': 6, 'acceptable': 17, 'haunts': 5, 'managing': 3, 'circuitous': 1, 'route': 17, 'garage': 32, 'navigated': 1, 'maze': 5, 'structure': 9, 'corridors': 1, 'travel': 53, 'negate': 3, 'thali': 1, 'combination': 88, 'array': 20, 'metal': 17, 'containers': 16, 'hope': 150, 'majority': 19, 'rules': 22, 'fuego': 17, 'bistro': 34, 'favorites': 87, 'recommended': 122, 'boyfriend': 108, 'week': 319, 'reservation': 59, 'welcoming': 60, 'matt': 31, 'mai': 6, 'tai': 6, 'sangria': 46, 'refreshing': 68, 'ready': 160, 'waitress': 301, 'gave': 284, 'suggestions': 36, 'options': 226, 'sharers': 1, 'mind': 209, 'got': 1307, 'pomegranate': 17, 'mojito': 26, 'orange': 114, 'starters': 20, 'signature': 40, 'empanadas': 15, 'focus': 27, 'preferred': 20, 'inside': 417, 'sauteed': 19, 'prawns': 8, 'entrees': 160, 'cola': 6, 'braised': 13, 'amazing': 741, 'tender': 121, 'fatty': 22, 'pernil': 2, 'asado': 4, 'shredded': 59, 'sides': 129, 'green': 325, 'chili': 137, 'cornbread': 39, 'casserole': 10, 'drier': 5, 'imagined': 7, 'maple': 21, 'chiliglazed': 1, 'carrots': 43, 'glaze': 12, 'baby': 101, 'creamed': 15, 'pleasantly': 59, 'surprised': 161, 'chipotle': 76, 'cheddar': 37, 'point': 209, 'knew': 171, 'rolled': 33, 'chip': 62, 'pudding': 57, 'scoops': 10, 'malted': 1, 'crisp': 97, 'ice': 336, 'savored': 3, 'bites': 52, 'banana': 63, 'burrito': 217, 'exactly': 132, 'picture': 52, 'icecream': 5, 'charming': 36, 'something': 768, 'melted': 49, 'bones': 25, 'filet': 50, 'mouth': 134, 'remember': 216, 'party': 223, 'son': 94, 'loaf': 10, 'left': 393, 'desired': 30, 'b': 50, 'hi': 17, 'end': 280, 'pricing': 65, 'hey': 70, 'visit': 486, 'last': 671, 'long': 571, 'surprise': 84, 'request': 45, 'butter': 188, 'teenage': 5, 'daughter': 112, 'ran': 44, 'toilet': 21, 'paper': 86, 'problem': 204, 'towels': 21, 'days': 203, 'yeah': 134, 'mess': 70, 'roto': 1, 'rooter': 1, 'fixed': 29, 'snake': 2, 'camera': 18, 'thru': 37, 'pipes': 5, 'maybe': 463, 'problems': 40, 'quote': 15, 'between': 204, 'eight': 9, 'thousand': 18, 'repair': 23, 'errrrrrrrrrrr': 1, 'job': 229, 'hand': 162, 'yep': 23, 'expensive': 165, 'guess': 244, 'extra': 257, 'woman': 68, 'answers': 9, 'phone': 128, 'impressive': 60, 'consign': 2, 'her': 806, 'info': 8, 'said': 714, 'rude': 106, 'turn': 87, 'entered': 24, 'fit': 83, 'robb': 1, 'stucky': 1, 'older': 54, 'dated': 14, 'couches': 25, 'florals': 1, 'mauves': 1, 'accessory': 2, 'needless': 44, 'coming': 288, 'consigning': 1, 'friday': 189, 'husband': 337, 'dirty': 127, 'martini': 61, 'olive': 95, 'juice': 66, 'grenadine': 1, 'actually': 511, 'wth': 6, 'life': 167, 'sent': 57, 'eyeballs': 2, 'heirloom': 13, 'pet': 35, 'peeve': 9, 'expect': 223, 'season': 47, 'cannelloni': 3, 'kicker': 3, 'charge': 134, 'plain': 64, 'parmesan': 42, 'fairness': 4, 'let': 449, 'serious': 60, 'grated': 4, 'soy': 47, 'ketchup': 26, 'kidding': 40, 'talking': 104, 'shaker': 6, 'add': 189, 'none': 82, 'ask': 376, 'afraid': 28, 'start': 219, 'quick': 288, 'cheeseburger': 27, 'theirs': 20, 'teas': 23, 'choose': 180, 'omelet': 45, 'station': 69, 'suggest': 90, 'chorizo': 51, 'egg': 195, 'burritos': 69, 'happy': 815, 'daily': 79, 'knowledgeable': 76, 'highly': 240, 'recommend': 515, 'antique': 16, 'shops': 68, 'city': 123, 'wide': 73, 'selection': 480, 'booths': 46, 'match': 36, 'boxes': 39, 'cute': 170, 'purses': 9, 'hats': 12, 'wacky': 2, 'mannequins': 2, 'cameras': 4, 'toys': 26, 'reminiscence': 1, 'decently': 16, 'priced': 189, 'mainly': 31, 'light': 218, 'snacks': 28, 'during': 320, 'soft': 138, 'posted': 25, 'grab': 121, 'manhattan': 9, 'boozometer': 1, 'bartenders': 87, 'sit': 302, 'shake': 34, 'showed': 81, 'sazerac': 2, 'comped': 12, 'warm': 224, 'nuts': 40, 'twss': 1, 'mixed': 142, 'warmed': 13, 'herbs': 26, 'provence': 1, 'flake': 2, 'believe': 166, 'soooooo': 2, 'feels': 55, 'cliche': 2, 'palomar': 1, 'designing': 5, 'space': 152, 'scape': 2, 'mongolian': 36, 'mongo': 1, 'dragon': 14, 'family': 368, 'brittan': 1, 'dentist': 36, 'handle': 41, 'situation': 53, 'throw': 61, 'him': 348, 'tvs': 44, 'exceptional': 40, 'goodness': 75, 'flight': 58, 'decide': 59, 'vege': 2, 'tamales': 35, 'yums': 2, 'sampler': 22, 'plaintains': 2, 'yuca': 1, 'yes': 348, 'loooong': 4, 'peak': 35, 'kitchen': 243, 'workers': 37, 'man': 178, 'entertain': 6, 'cook': 110, 'typically': 65, 'bored': 15, 'quality': 473, 'ingredients': 192, 'tapas': 41, 'reasons': 52, 'constantly': 33, 'item': 127, 'others': 201, 'worst': 111, 'kinds': 60, 'sol': 10, 'y': 11, 'sombra': 3, 'eateries': 13, 'cocktail': 66, 'safeway': 33, 'marissa': 1, 'barista': 10, 'dj': 50, 'vibe': 118, 'servers': 144, 'presentable': 2, 'wise': 30, 'twist': 20, 'cucumber': 50, 'lemon': 101, 'thumbs': 34, 'medical': 18, 'practice': 35, 'attention': 104, 'detail': 34, 'hardly': 43, 'doctor': 44, 'office': 150, 'anymore': 66, 'ross': 9, 'osteopathic': 1, 'manipulation': 1, 'surgeries': 1, 'tremendous': 5, 'relief': 6, 'omt': 1, 'chiropractic': 6, 'treatment': 28, 'works': 108, 'tissue': 7, 'muscles': 2, 'anyways': 52, 'listens': 8, 'body': 54, 'unlike': 52, 'doctors': 17, 'knob': 1, 'speak': 69, 'saw': 235, 'naturopath': 3, 'cheryl': 1, 'blood': 23, 'please': 168, 'suggested': 61, 'supplements': 4, 'learned': 42, 'pleased': 84, 'children': 78, 'feel': 556, 'tons': 108, 'mickey': 8, 'mouse': 8, 'figures': 4, 'videos': 11, 'nurses': 12, 'productive': 3, 'appointment': 61, 'bathroom': 84, 'meh': 53, 'particularly': 58, 'memorable': 40, 'eaten': 178, 'asu': 57, 'walking': 171, 'starving': 31, 'cookies': 92, 'jones': 4, 'soda': 101, 'black': 151, 'cherry': 39, 'kicked': 14, 'ass': 73, 'warning': 27, 'roast': 46, 'overture': 1, 'horseradish': 23, 'mother': 58, 'spice': 69, 'almost': 345, 'unbearable': 3, 'nose': 24, 'into': 678, 'snotty': 7, 'waterfall': 5, 'opa': 2, 'becca': 4, 'boy': 64, 'haircut': 25, 'moved': 139, 'months': 129, 'canyon': 16, 'falls': 17, 'settle': 16, 'employees': 134, 'greeted': 92, 'comment': 41, 'services': 47, 'might': 307, 'hair': 127, 'thanks': 142, 'sandella': 1, 'catering': 20, 'lunches': 21, 'offices': 11, 'jeff': 27, 'running': 76, 'prepares': 4, 'customers': 164, 'fare': 64, 'healthy': 119, 'alternative': 39, 'craving': 110, 'weigh': 8, 'sleep': 23, 'healthcare': 8, 'community': 45, 'confident': 15, 'bringing': 50, 'colleges': 1, 'ingredient': 23, 'personally': 68, 'selected': 14, 'bothers': 7, 'country': 74, 'freaks': 2, 'forced': 19, 'boyfriends': 7, 'parents': 59, 'cadillac': 9, 'due': 112, 'cuisine': 74, 'foo': 12, 'd': 44, 'messed': 18, 'sorry': 116, 'italian': 175, 'pep': 1, 'hungry': 129, 'full': 466, 'flavorless': 34, 'wrapped': 47, 'undercooked': 18, 'scallop': 21, 'overcooked': 44, 'seared': 34, 'sliders': 69, 'tutti': 2, 'santi': 2, 'supermarket': 17, 'tough': 59, 'alot': 43, 'share': 118, 'cents': 49, 'card': 134, 'deals': 70, 'checkout': 12, 'albertsons': 4, 'lowest': 3, 'amonst': 1, 'product': 67, 'cheaper': 79, 'yesterday': 58, 'snicker': 5, 'comparable': 16, 'bag': 120, 'lifesavor': 1, 'candies': 7, 'case': 127, 'coors': 5, 'cent': 20, 'bags': 63, 'frozen': 119, 'veggies': 133, 'buying': 47, 'crazy': 115, 'korean': 40, 'excited': 125, 'perfectly': 210, 'kalbi': 8, 'jjim': 1, 'shortribs': 1, 'sleeve': 3, 'balls': 28, 'play': 135, 'hazards': 1, 'thrown': 21, 'drop': 63, 'football': 52, 'jerseys': 4, 'grabbing': 12, 'putting': 44, 'buffalo': 59, 'wild': 38, 'reason': 252, 'notch': 65, 'troon': 1, 'managed': 41, 'properties': 5, 'greens': 64, 'inconsistent': 16, 'bumpy': 2, 'grass': 35, 'gold': 41, 'lose': 34, 'ball': 44, 'rough': 19, 'deep': 65, 'blue': 121, 'holes': 20, 'playing': 111, 'late': 193, 'afternoon': 124, 'close': 315, 'eyes': 67, 'teeing': 1, 'architect': 3, 'directly': 26, 'sneaked': 2, 'satisfied': 59, 'live': 315, 'miles': 74, 'above': 117, 'justify': 14, 'final': 33, 'glad': 171, 'often': 252, 'la': 119, 'condesa': 8, 'unassuming': 6, 'noticed': 135, 'salsa': 269, 'chips': 338, 'salsas': 29, 'peanut': 82, 'interesting': 144, 'tomatillo': 9, 'oaxaca': 3, 'mole': 25, 'taco': 184, 'bland': 152, 'huh': 21, 'dumped': 10, 'disappointed': 309, 'particular': 83, 'offering': 31, 'calabacitas': 2, 'seasoned': 85, 'tasted': 315, 'partner': 33, 'baiz': 5, 'waste': 49, 'gps': 24, 'secondly': 10, 'outdated': 15, 'styrofoam': 12, 'middle': 104, 'eastern': 12, 'shawarmas': 1, 'falafel': 26, 'kebabs': 3, 'pies': 21, 'heat': 108, 'oven': 61, 'pie': 121, 'shawarma': 13, 'still': 833, 'onions': 160, 'excluded': 2, 'skipping': 5, 'beverage': 45, 'adjacent': 12, 'cooler': 37, 'south': 68, 'clothing': 48, 'photographer': 5, 'shoots': 6, 'wardrobe': 2, 'owners': 125, 'confession': 2, 'landlocked': 2, 'lover': 23, 'fan': 339, 'sakana': 18, 'considered': 21, 'appreciation': 12, 'ichiban': 2, 'lobby': 42, 'happily': 28, 'deliver': 38, 'writing': 44, 'seems': 255, 'strange': 77, 'possibly': 42, 'mean': 179, 'knows': 80, 'getting': 388, 'true': 121, 'felt': 263, 'snippet': 2, 'experience': 813, 'tastes': 140, 'nuggets': 5, 'overbreaded': 1, 'agreed': 37, 'tasting': 122, 'heavy': 93, 'tea': 256, 'staple': 29, 'important': 74, 'walked': 264, 'noon': 16, 'flash': 11, 'cfa': 1, 'icing': 9, 'assortment': 30, 'dipping': 51, 'suit': 17, 'whatever': 118, 'moment': 72, 'dip': 129, 'hearts': 8, 'desire': 17, 'themed': 16, 'exploring': 9, 'angle': 3, 'stranger': 9, 'spots': 50, 'search': 36, 'checked': 83, 'focaccia': 13, 'recommendation': 40, 'myles': 2, 'm': 25, 'pushy': 12, 'neither': 44, 'conviction': 1, 'obediently': 1, 'complied': 2, 'penny': 28, 'somewhat': 92, 'recent': 75, 'convert': 8, 'pescetarianism': 1, 'whites': 11, 'option': 104, 'spinach': 121, 'texture': 67, 'cooked': 283, 'kick': 82, 'carafe': 5, 'accompany': 13, 'cartel': 15, 'god': 75, 'choppino': 1, 'fruittas': 1, 'mare': 2, 'apparently': 94, 'hinted': 2, 'fruits': 23, 'restaurants': 343, 'spicy': 372, 'portion': 153, 'dish': 415, 'imitation': 7, 'crab': 108, 'disappointment': 56, 'breaker': 4, 'nicely': 71, 'calamari': 67, 'mussels': 29, 'kid': 113, 'spaghetti': 37, 'kids': 327, 'invariably': 3, 'meatball': 14, 'shick': 1, 'chunky': 15, 'watery': 21, 'covered': 79, 'specific': 30, 'trust': 54, 'bend': 9, 'prior': 54, 'meals': 146, 'exceptions': 6, 'slower': 7, 'dreadful': 3, 'target': 22, 'demographics': 3, 'greater': 9, 'chairs': 91, 'pictures': 41, 'screams': 7, 'remind': 17, 'conference': 17, 'hall': 20, 'dark': 138, 'retired': 2, 'couples': 17, 'nicer': 23, 'adults': 42, 'accomidating': 1, 'ambience': 47, 'darker': 5, 'softer': 5, 'volume': 16, 'conversations': 25, 'loud': 147, 'obnoxious': 15, 'overall': 370, 'roosevelt': 11, 'row': 24, 'event': 115, 'overheard': 9, 'jazz': 23, 'funk': 9, 'pouring': 13, 'invited': 20, 'listen': 34, 'once': 464, 'ladies': 60, 'asking': 79, 'sodas': 32, 'coke': 52, 'nash': 2, 'venue': 60, 'exception': 29, 'band': 62, 'together': 139, 'oddly': 9, 'paced': 6, 'blues': 7, 'hear': 118, 'amount': 178, 'harbored': 1, 'opinion': 93, 'thick': 93, 'base': 22, 'guitar': 11, 'complimentary': 54, 'piano': 12, 'horn': 3, 'stuck': 53, 'songs': 21, 'move': 79, 'kool': 5, 'gang': 7, 'imagine': 74, 'subjective': 2, 'changes': 43, 'basis': 46, 'step': 50, 'catered': 8, 'towards': 36, 'teenaged': 1, 'crowd': 178, 'considering': 88, 'adult': 30, 'beverages': 28, 'sight': 18, 'although': 280, 'teenagers': 8, 'listening': 21, 'likely': 63, 'plan': 100, 'dropping': 15, 'randomly': 8, 'yelping': 7, 'funky': 37, 'baseball': 34, 'player': 16, 'spring': 122, 'training': 82, 'gets': 213, 'sooo': 32, 'hooooot': 1, 'literally': 124, 'legs': 22, 'apart': 46, 'hands': 138, 'waist': 2, 'air': 73, 'needs': 135, 'aired': 2, 'yup': 10, 'support': 58, 'thy': 1, 'minor': 18, 'league': 11, 'bikini': 9, 'dress': 46, 'fields': 20, 'royals': 1, 'games': 93, 'texas': 55, 'whirl': 3, 'airy': 16, 'linen': 5, 'napkins': 37, 'luster': 3, 'fair': 110, 'hummus': 102, 'tzatziki': 15, 'served': 394, 'selections': 70, 'medium': 83, 'higher': 51, 'burgers': 203, 'thus': 26, 'gastro': 1, 'pub': 37, 'beers': 188, 'tap': 81, 'dig': 32, 'scratch': 23, 'soup': 354, 'slowly': 14, 'pickup': 14, 'brings': 29, 'usage': 6, 'environmental': 6, 'sand': 7, 'pastafagioli': 1, 'yum': 157, 'honey': 87, 'bear': 22, 'gilbert': 37, 'potato': 247, 'myself': 251, 'tempe': 183, 'rarely': 42, 'truthfully': 4, 'giuseppes': 1, 'stopped': 174, 'giu': 1, 'arrivederci': 1, 'bomb': 37, 'bueno': 8, 'sera': 1, 'hiking': 14, 'flip': 14, 'flops': 8, 'saturday': 202, 'zoo': 13, 'signs': 26, 'telling': 33, 'blocked': 7, 'trail': 64, 'normal': 91, 'ramada': 5, 'min': 69, 'hike': 49, 'wow': 155, 'chill': 66, 'thanksgiving': 14, 'vacation': 28, 'easily': 108, 'rival': 3, 'popular': 57, 'lounges': 3, 'san': 81, 'diego': 24, 'bunch': 100, 'bruschettas': 2, 'flatbreads': 11, 'fig': 27, 'chutney': 11, 'helping': 43, 'wino': 1, 'nailed': 5, 'ps': 14, 'cellar': 9, 'truth': 39, 'absolute': 41, 'sonoran': 16, 'mexican': 361, 'chile': 80, 'colorado': 9, 'slap': 6, 'mama': 16, 'brewed': 15, 'sixth': 2, 'level': 90, 'hell': 88, 'fridays': 29, 'feature': 26, 'margaritas': 87, 'swing': 17, 'combo': 105, 'revel': 1, 'gluttony': 3, 'rocketed': 1, 'favourite': 7, 'deliciously': 10, 'crap': 74, 'varied': 10, 'eventually': 28, 'appetizers': 160, 'include': 52, 'alligator': 3, 'frog': 1, 'mardi': 4, 'gras': 14, 'linguini': 3, 'andouille': 2, 'crawfish': 2, 'creamy': 87, 'rice': 422, 'tiny': 126, 'pricy': 10, 'outdoor': 124, 'dimly': 5, 'lit': 34, 'quaint': 36, 'waiting': 259, 'giant': 57, 'fans': 36, 'waiters': 31, 'tip': 156, 'allowed': 33, 'heard': 185, 'etoufee': 1, 'opelousas': 1, 'dad': 67, 'seven': 19, 'instant': 10, 'oh': 384, 'pecan': 19, 'amongst': 11, 'latter': 16, 'hog': 5, 'chick': 19, 'hashbrowns': 14, 'terra': 2, 'verde': 19, 'farms': 9, 'preserves': 5, 'write': 94, 'addicted': 16, 'hidden': 47, 'art': 98, 'park': 195, 'towner': 1, 'misters': 27, 'cramped': 21, 'complaining': 24, 'def': 23, 'moneys': 4, 'weekends': 71, 'packed': 171, 'rid': 13, 'hangover': 17, 'plus': 259, 'georgia': 5, 'pbr': 12, 'boys': 37, 'woop': 2, 'machaca': 9, 'burro': 20, 'ridiculous': 61, 'promised': 19, 'land': 25, 'misfortune': 6, 'stopping': 24, 'establishment': 75, 'skirt': 15, 'cloth': 11, 'handbag': 3, 'stitching': 2, 'purse': 19, 'seconds': 28, 'repaired': 10, 'sewn': 1, 'pom': 1, 'poms': 1, 'attached': 23, 'strap': 2, 'loose': 15, 'stitched': 2, 'tighter': 2, 'task': 3, 'cleaned': 25, 'pressed': 22, 'tags': 6, 'selling': 31, 'destroyed': 2, 'process': 46, 'cleaners': 11, 'informed': 40, 'usual': 99, 'unfortunately': 146, 'closed': 112, 'caffe': 2, 'boa': 4, 'shit': 57, 'pomodoro': 4, 'tortellini': 3, 'alfredo': 17, 'rocks': 47, 'locations': 80, 'triple': 18, 'stomach': 46, 'growling': 3, 'quickly': 180, 'pissed': 17, 'haji': 7, 'baba': 17, 'bessie': 1, 'record': 21, 'alas': 29, 'vietnamese': 81, 'popped': 19, 'grabbed': 28, 'deelish': 2, 'sometimes': 191, 'bird': 15, 'calorie': 13, 'counting': 5, 'landmark': 6, 'satisfying': 32, 'awhile': 51, 'sinful': 4, 'urge': 10, 'screw': 16, 'carefully': 8, 'laid': 69, 'dietary': 8, 'plans': 24, 'badly': 9, 'promising': 12, 'combinations': 14, 'qualities': 6, 'locale': 5, 'qualms': 1, 'canadian': 7, 'hefeweizen': 6, 'pronounce': 8, 'spell': 6, 'recall': 24, 'lick': 9, 'lips': 2, 'brews': 27, 'beyond': 62, 'belief': 5, 'liquor': 30, 'proximity': 16, 'compound': 1, 'blossoming': 1, 'bud': 8, 'central': 81, 'renaissance': 7, 'why': 434, 'commute': 2, 'staying': 61, 'induction': 1, 'sling': 3, 'pride': 20, 'effort': 34, 'setup': 10, 'delivery': 71, 'slide': 14, 'hovel': 1, 'hydraulic': 1, 'stools': 11, 'multicolored': 2, 'ambient': 5, 'comfy': 47, 'lounge': 68, 'slice': 101, 'upper': 28, 'crust': 179, 'nibble': 5, 'decadent': 14, 'herein': 1, 'lies': 7, 'former': 32, 'boozing': 2, 'visiting': 97, 'digs': 3, 'portland': 5, 'dust': 10, 'slightest': 5, 'show': 187, 'east': 106, 'dwellers': 4, 'brats': 8, 'reach': 21, 'pause': 8, 'sad': 100, 'mere': 8, 'feet': 54, 'corpse': 1, 'beloved': 8, 'emerald': 6, 'seedy': 3, 'smoke': 44, 'haven': 5, 'locals': 30, 'personality': 37, 'painted': 25, 'ghost': 17, 'silence': 5, 'below': 44, 'thank': 140, 'fuddruckers': 5, 'toppings': 143, 'gooey': 21, 'melty': 10, 'fake': 35, 'frings': 1, 'rings': 65, 'missed': 41, 'remembered': 45, 'enchilada': 34, 'skimp': 13, 'vary': 13, 'exceptionally': 16, 'help': 236, 'spanish': 31, 'limited': 85, 'interior': 86, 'fancy': 87, 'decorations': 16, 'th': 1, 'faves': 10, 'planned': 18, 'mac': 115, 'sick': 59, 'vista': 8, 'hp': 2, 'dell': 2, 'apple': 68, 'macbook': 2, 'sales': 56, 'associate': 9, 'pcs': 1, 'convince': 5, 'computer': 17, 'loving': 14, 'issues': 65, 'enjoying': 50, 'classes': 82, 'teach': 12, 'class': 73, 'teacher': 22, 'patient': 46, 'teaching': 4, 'features': 20, 'applications': 1, 'translator': 2, 'mexico': 41, 'send': 57, 'biltmore': 31, 'consistently': 77, 'genius': 17, 'making': 199, 'purchases': 14, 'amazed': 21, 'economy': 23, 'totally': 157, 'convinced': 22, 'experienced': 59, 'sandwhich': 17, 'nation': 9, 'cacti': 11, 'everywhere': 64, 'camping': 7, 'scenery': 11, 'random': 48, 'visitor': 7, 'looks': 183, 'compare': 38, 'summer': 112, 'winter': 28, 'attentive': 206, 'granted': 26, 'monday': 60, 'sour': 100, 'puu': 2, 'sp': 9, 'chow': 20, 'mein': 16, 'curry': 138, 'terrific': 37, 'thoroughly': 32, 'additional': 40, 'asahi': 4, 'totaled': 3, 'generous': 74, 'polite': 57, 'tasteful': 11, 'chinese': 193, 'located': 140, 'avondale': 2, 'frequenting': 13, 'dysart': 1, 'mcdowell': 10, 'caliber': 10, 'road': 88, 'elmer': 2, 'senior': 10, 'broke': 33, 'bean': 91, 'strips': 36, 'dang': 18, 'wants': 47, 'complain': 58, 'suck': 23, 'burn': 27, 'bless': 8, 'heart': 75, 'serve': 227, 'dogs': 115, 'picky': 50, 'section': 95, 'gives': 54, 'character': 23, 'goes': 125, 'jimmy': 29, 'sweeties': 3, 'candy': 58, 'neat': 44, 'baskets': 10, 'turkish': 5, 'taffy': 1, 'bun': 92, 'stripe': 1, 'gum': 5, 'mash': 13, 'mary': 37, 'janes': 1, 'valomilk': 1, 'sen': 8, 'packs': 13, 'goo': 6, 'clusters': 2, 'squirrel': 2, 'zippers': 1, 'flipstick': 1, 'lipstick': 1, 'licorice': 1, 'zero': 25, 'twin': 3, 'bings': 1, 'coolest': 12, 'records': 5, 'zia': 10, 'trendy': 64, 'anyplace': 3, 'eastside': 2, 'keeps': 49, 'slightly': 99, 'lower': 44, 'obscure': 6, 'flipside': 4, 'overlook': 5, 'gems': 6, 'stock': 35, 'low': 123, 'labels': 9, 'releases': 3, 'general': 73, 'rationale': 1, 'press': 37, 'numbers': 14, 'bands': 31, 'anyhow': 18, 'inadvertantly': 2, 'licker': 1, 'ep': 1, 'cracked': 11, 'cop': 3, 'skulls': 2, 'total': 101, 'swede': 2, 'orchid': 3, 'held': 30, 'automatics': 1, 'golden': 44, 'hits': 28, 'makin': 3, 'chubbies': 1, 'king': 35, 'sympathy': 5, 'tie': 6, 'binds': 1, 'adding': 41, 'machine': 65, 'gravy': 67, 'train': 25, 'hello': 38, 'lp': 1, 'sells': 23, 'complete': 81, 'cold': 188, 'barbacoa': 4, 'lengua': 6, 'tripita': 1, 'chicharon': 2, 'hours': 300, 'later': 215, 'clenching': 1, 'dash': 7, 'catch': 47, 'game': 187, 'bumpn': 1, 'handful': 26, 'creepers': 1, 'checking': 72, 'scene': 56, 'thinking': 114, 'classy': 34, 'vegan': 79, 'skip': 55, 'froyo': 8, 'gelatos': 5, 'scoop': 30, 'gelato': 64, 'arai': 2, 'pastry': 45, 'ironically': 7, 'confections': 1, 'cakes': 54, 'cremes': 1, 'savory': 34, 'treats': 40, 'breads': 20, 'knotch': 1, 'various': 71, 'pastries': 34, 'coup': 7, 'grâce': 1, 'mamoth': 1, 'shakes': 17, 'powerful': 1, 'punch': 29, 'sagacity': 1, 'world': 148, 'tummy': 15, 'takeout': 30, 'jerk': 31, 'rumbi': 9, 'simply': 119, 'splurge': 19, 'cup': 150, 'freakin': 22, 'lactose': 3, 'intolerants': 1, 'beware': 30, 'challenge': 35, 'wonton': 5, 'year': 280, 'sesame': 19, 'skewers': 14, 'names': 29, 'genuine': 24, 'provide': 47, 'return': 252, 'november': 8, 'treated': 48, 'nfl': 8, 'white': 255, 'cafe': 106, 'foodnet': 2, 'refill': 39, 'poured': 28, 'sum': 70, 'overs': 7, 'shame': 42, 'recommending': 12, 'six': 48, 'waited': 167, 'peolple': 1, 'homemade': 124, 'cleary': 1, 'bake': 14, 'watered': 16, 'missing': 76, 'favor': 28, 'under': 180, 'salted': 21, 'leftovers': 49, 'learn': 39, 'respectful': 6, 'chose': 85, 'binkleys': 1, 'anniversary': 29, 'spend': 151, 'amuse': 4, 'bouche': 3, 'throughout': 79, 'foie': 8, 'cosy': 1, 'inviting': 38, 'revisit': 7, 'adventure': 31, 'lovely': 108, 'resturant': 12, 'pea': 9, 'lived': 109, 'engaged': 3, 'incredible': 78, 'varying': 3, 'experiences': 52, 'terrible': 105, 'consistent': 55, 'likewise': 2, 'albeit': 20, 'valentine': 6, 'several': 328, 'without': 370, 'showy': 1, 'courses': 43, 'damn': 100, 'greeting': 12, 'holidays': 12, 'brie': 33, 'shank': 8, 'solidly': 3, 'desserts': 78, 'byob': 11, 'aspect': 13, 'corking': 3, 'charging': 15, 'corkscrew': 1, 'vegetarian': 112, 'improve': 17, 'bagel': 73, 'nosh': 11, 'admit': 74, 'pumpkin': 25, 'wishing': 9, 'mornings': 20, 'esp': 4, 'bike': 49, 'opened': 142, 'fyi': 25, 'closes': 14, 'sweeter': 6, 'yogurtland': 15, 'mango': 50, 'skinny': 17, 'blueberry': 23, 'flavors': 234, 'incl': 1, 'mochi': 11, 'mill': 82, 'signed': 17, 'groupon': 61, 'score': 40, 'tequila': 24, 'cien': 1, 'agaves': 1, 'print': 19, 'thursday': 50, 'skimmed': 1, 'honored': 6, 'relax': 48, 'fav': 29, 'pasty': 47, 'cajun': 21, 'ipad': 6, 'tunes': 9, 'played': 55, 'casual': 95, 'entice': 2, 'described': 27, 'southwest': 38, 'stew': 36, 'fondue': 28, 'wallet': 31, 'enter': 39, 'credit': 73, 'information': 47, 'wash': 79, 'ahh': 4, 'automatic': 7, 'car': 242, 'remove': 25, 'antenna': 1, 'sucked': 24, 'foam': 5, 'sheets': 9, 'touch': 101, 'washes': 9, 'understood': 14, 'frightened': 3, 'engulfed': 1, 'swallowed': 3, 'captain': 3, 'ahab': 1, 'wale': 1, 'worry': 35, 'antennas': 2, 'mirrors': 10, 'protruding': 1, 'literature': 4, 'mediocre': 83, 'spray': 16, 'rinse': 2, 'polish': 23, 'vacuums': 4, 'vending': 1, 'machines': 38, 'disperse': 1, 'fresheners': 1, 'lazy': 28, 'autozone': 1, 'unexpecting': 1, 'patron': 20, 'approaches': 4, 'attempt': 30, 'dollar': 79, 'aforementioned': 5, 'tree': 14, 'freshener': 9, 'proceeds': 3, 'insert': 6, 'clang': 3, 'slot': 5, 'drops': 5, 'reaches': 3, 'realized': 62, 'tokens': 3, 'doh': 1, 'proceed': 9, 'swear': 29, 'laughs': 6, 'currency': 1, 'sovereign': 1, 'united': 10, 'states': 19, 'cesar': 6, 'chavez': 2, 'sw': 9, 'ave': 35, 'baseline': 11, 'mountain': 63, 'residents': 8, 'laveen': 2, 'secrets': 2, 'ample': 34, 'ramadas': 3, 'benches': 18, 'mile': 49, 'wraps': 35, 'lakes': 3, 'runners': 5, 'walkers': 4, 'tot': 2, 'playground': 4, 'families': 29, 'matter': 97, 'fishing': 15, 'friend': 509, 'tripped': 1, 'careless': 2, 'fisherman': 3, 'sidewalk': 7, 'elbow': 7, 'drawbacks': 6, 'trash': 26, 'safe': 44, 'parks': 12, 'meet': 86, 'screen': 56, 'greasy': 107, 'speedy': 17, 'converse': 4, 'mike': 20, 'worn': 14, 'counted': 8, 'kim': 7, 'chi': 2, 'broccoli': 43, 'solid': 88, 'sr': 2, 'upstairs': 29, 'theater': 92, 'swanky': 10, 'smells': 21, 'diarrhea': 2, 'die': 95, 'kiss': 7, 'brain': 10, 'swimming': 19, 'septic': 2, 'tank': 18, 'waterfront': 8, 'corridor': 7, 'stinks': 7, 'term': 18, 'filthy': 15, 'rich': 94, 'cooking': 68, 'grub': 21, 'evenings': 21, 'april': 15, 'september': 9, 'october': 11, 'winters': 1, 'chilly': 16, 'sunset': 15, 'explain': 52, 'miss': 129, 'company': 119, 'pitchers': 20, 'pretend': 18, 'required': 11, 'rip': 12, 'connection': 15, 'unaware': 7, 'severely': 7, 'bummed': 14, 'irreplaceable': 2, 'mcdonalds': 8, 'bison': 7, 'witches': 6, 'religious': 5, 'hearth': 2, 'tucson': 23, 'transplanting': 1, 'primitive': 1, 'bliss': 16, 'buttery': 24, 'reheated': 11, 'toaster': 4, 'khai': 6, 'hoan': 6, 'pho': 169, 'glorified': 5, 'noodles': 131, 'roll': 212, 'coconut': 68, 'delightful': 40, 'cotija': 3, 'jealous': 6, 'guacamole': 90, 'ben': 12, 'jerry': 9, 'chain': 157, 'outrageous': 14, 'cones': 3, 'bowls': 27, 'wafts': 1, 'resist': 15, 'classics': 7, 'garcia': 1, 'phish': 1, 'consistency': 21, 'facility': 45, 'hospitals': 7, 'receptive': 2, 'er': 9, 'operates': 3, 'clockwork': 2, 'clubhouse': 4, 'means': 98, 'common': 36, 'themes': 3, 'among': 42, 'shows': 48, 'artists': 14, 'genres': 2, 'crowds': 21, 'sound': 91, 'venues': 7, 'complained': 28, 'monitors': 2, 'motivated': 6, 'slighted': 4, 'observation': 7, 'sacrificed': 1, 'hardcore': 6, 'thrasher': 1, 'opinions': 7, 'skewed': 4, 'pants': 32, 'honestly': 112, 'june': 7, 'exit': 12, 'noticeably': 3, 'significantly': 11, 'afford': 28, 'answer': 49, 'understaffed': 9, 'lined': 11, 'faster': 20, 'allowing': 15, 'consume': 4, 'sell': 83, 'concept': 60, 'destroy': 6, 'hopefully': 38, 'heed': 5, 'feedback': 13, 'constructively': 1, 'artist': 15, 'format': 5, 'forgo': 4, 'pantaloons': 1, 'craft': 38, 'clever': 3, 'hide': 12, 'flask': 3, 'sans': 14, 'bottoms': 4, 'jersey': 23, 'everybody': 30, 'raves': 8, 'mikes': 1, 'meats': 92, 'supposed': 85, 'provolone': 23, 'buckeye': 6, 'throws': 6, 'period': 32, 'franchise': 14, 'contracts': 3, 'provisioner': 1, 'label': 10, 'finest': 14, 'deli': 78, 'thumann': 2, 'boar': 7, 'dietz': 1, 'watson': 1, 'peter': 8, 'cancro': 1, 'ceo': 1, 'elsewhere': 65, 'blown': 43, 'photos': 27, 'pt': 1, 'manasquan': 1, 'inlet': 1, 'jenk': 1, 'pier': 3, 'surfers': 2, 'heading': 36, 'regret': 28, 'leaving': 76, 'forgot': 69, 'theaters': 21, 'popping': 15, 'movie': 126, 'north': 94, 'recently': 172, 'luxurious': 7, 'amc': 32, 'esplanade': 9, 'ipic': 4, 'reclining': 4, 'seats': 111, 'upright': 1, 'blankets': 1, 'traditional': 90, 'companion': 36, 'mentioned': 79, 'reminded': 48, 'airport': 99, 'bowling': 20, 'alley': 18, 'pushing': 12, 'button': 12, 'similar': 71, 'tickets': 27, 'arriving': 21, 'movies': 42, 'warned': 22, 'drank': 21, 'ate': 216, 'pitcher': 25, 'thickly': 1, 'concession': 13, 'satisfactory': 5, 'directories': 3, 'nope': 29, 'lost': 98, 'plenty': 195, 'stores': 111, 'designers': 7, 'coach': 11, 'forever': 85, 'sur': 6, 'windows': 51, 'priceline': 2, 'wifi': 34, 'muni': 4, 'stadium': 50, 'oakland': 6, 'arizona': 213, 'stadiums': 5, 'simple': 153, 'charm': 29, 'serves': 57, 'vendors': 26, 'stands': 32, 'backed': 11, 'municipal': 2, 'attending': 25, 'comicon': 2, 'hungover': 10, 'desperately': 7, 'plug': 8, 'gut': 8, 'sounds': 52, 'decision': 44, 'fight': 24, 'win': 30, 'power': 24, 'pepperoni': 47, 'shields': 1, 'yay': 32, 'croutons': 6, 'assignment': 3, 'nay': 3, 'fuck': 19, 'salvageable': 1, 'sweat': 21, 'grease': 44, 'fat': 85, 'choked': 2, 'raspberry': 29, 'strength': 7, 'energy': 28, 'geeked': 1, 'xtreme': 1, 'generally': 77, 'current': 33, 'incredibly': 73, 'immature': 3, 'act': 31, 'yelling': 13, 'barking': 4, 'decibels': 1, 'twice': 179, 'continues': 18, 'fabulous': 121, 'celebrating': 17, 'birthday': 145, 'farmer': 16, 'feast': 11, 'expecting': 81, 'sample': 66, 'antipasti': 8, 'cured': 9, 'sharp': 13, 'peppery': 8, 'strawberries': 22, 'radishes': 4, 'gnocchi': 16, 'ravioli': 22, 'stuffed': 117, 'yam': 4, 'fish': 317, 'poached': 9, 'halibut': 18, 'vegetable': 49, 'puree': 10, 'lightly': 31, 'fillet': 17, 'raw': 60, 'tenderloin': 25, 'lucky': 76, 'starches': 2, 'themselves': 67, 'deserts': 16, 'sweetness': 23, 'pure': 40, 'sorbet': 17, 'pairings': 11, 'complimented': 9, 'beautifully': 24, 'pairing': 11, 'reviewers': 41, 'mistake': 52, 'chef': 178, 'reviewer': 25, 'questions': 77, 'apologized': 36, 'immediately': 92, 'intentional': 4, 'created': 25, 'cozy': 80, 'environment': 63, 'linger': 3, 'yourself': 149, 'minute': 97, 'talk': 115, 'spacing': 3, 'influence': 6, 'separately': 9, 'independently': 8, 'destination': 32, 'prepared': 124, 'rural': 3, 'challenging': 14, 'heels': 13, 'wedges': 10, 'code': 23, 'kai': 4, 'wildhorse': 2, 'pass': 103, 'comparisons': 3, 'spoke': 27, 'library': 34, 'whispers': 1, 'awkward': 27, 'fork': 30, 'quiessence': 6, 'chatting': 29, 'completely': 165, 'ease': 13, 'relaxed': 42, 'rooms': 100, 'trader': 21, 'vic': 8, 'spa': 77, 'newly': 12, 'loft': 3, 'stories': 12, 'shopping': 176, 'nightclubs': 2, 'superstition': 10, 'springs': 5, 'efficient': 70, 'stanley': 1, 'finals': 3, 'shout': 11, 'encountered': 25, 'burros': 6, 'cross': 19, 'satisfies': 7, 'fix': 87, 'leave': 191, 'regretting': 3, 'afterwords': 2, 'filbertos': 2, 'gone': 157, 'numerous': 27, 'bucket': 11, 'rotd': 3, 'weird': 118, 'updates': 7, 'mix': 106, 'fluorescent': 4, 'pre': 9, 'lime': 42, 'argentinian': 2, 'malbec': 6, 'pour': 26, 'generously': 13, 'slouch': 2, 'seriously': 211, 'posture': 2, 'rated': 14, 'sleeves': 3, 'glasses': 71, 'growing': 26, 'watering': 28, 'hole': 63, 'biagga': 1, 'grew': 26, 'word': 106, 'grace': 18, 'buildings': 13, 'church': 29, 'pastor': 18, 'gary': 3, 'ministry': 1, 'praise': 10, 'worship': 2, 'join': 21, 'struggling': 7, 'terry': 2, 'joel': 2, 'osteen': 1, 'denominational': 1, 'congregation': 1, 'sins': 4, 'situations': 3, 'churches': 2, 'fear': 21, 'labeled': 12, 'attends': 2, 'understand': 124, 'views': 37, 'doubt': 42, 'kindess': 1, 'accepted': 14, 'homeless': 13, 'outreaches': 1, 'drug': 9, 'addiction': 12, 'begin': 35, 'cornerstone': 1, 'christian': 4, 'ignore': 12, 'ie': 8, 'divorce': 2, 'porn': 3, 'sex': 12, 'sexuality': 1, 'infedility': 1, 'luck': 45, 'finding': 57, 'surprisingly': 65, 'sichuan': 1, 'accommodated': 3, 'infant': 3, 'mapo': 2, 'doufu': 1, 'eggplant': 51, 'yuxiang': 1, 'qiezi': 1, 'hui': 1, 'guo': 2, 'rou': 1, 'ganbian': 1, 'sijidou': 1, 'certainly': 100, 'fun': 433, 'stare': 11, 'flames': 2, 'shoot': 25, 'admittedly': 9, 'pos': 1, 'airline': 9, 'residence': 9, 'inn': 29, 'connecting': 9, 'szechwan': 4, 'palace': 17, 'nun': 2, 'drawn': 5, 'neon': 9, 'beginning': 25, 'affair': 11, 'bartender': 142, 'jennifer': 10, 'insisted': 21, 'barback': 1, 'ensure': 17, 'safety': 7, 'moons': 2, 'fry': 82, 'bonus': 63, 'disliked': 8, 'cover': 60, 'ntn': 1, 'ton': 79, 'apartment': 22, 'within': 123, 'distance': 49, 'ride': 73, 'program': 32, 'sheriff': 5, 'pink': 39, 'undies': 1, 'tent': 6, 'ck': 16, 'factor': 34, 'number': 125, 'nordstrom': 23, 'multiple': 42, 'cities': 17, 'francisco': 27, 'assinine': 1, 'traffic': 44, 'contend': 1, 'seattle': 10, 'chicago': 71, 'rack': 24, 'exercise': 10, 'resisting': 1, 'temptation': 2, 'baja': 18, 'mcdonald': 15, 'pico': 26, 'gallo': 33, 'alberto': 4, 'cheerily': 1, 'bruschetta': 90, 'briefly': 4, 'bursting': 7, 'umm': 7, 'basket': 37, 'thrift': 20, 'thrifty': 5, 'carries': 12, 'legitimate': 5, 'binding': 2, 'supplies': 23, 'sorts': 22, 'decorative': 4, 'papers': 5, 'scrapbooking': 1, 'online': 63, 'taken': 114, 'letter': 7, 'techniques': 10, 'offers': 67, 'sign': 127, 'oooh': 4, 'shiny': 7, 'barro': 4, 'opportunity': 41, 'test': 29, 'zesty': 7, 'coverage': 5, 'puffy': 3, 'outer': 8, 'chewy': 51, 'alchemy': 1, 'brand': 60, 'previous': 71, 'guests': 70, 'plastic': 61, 'inexpensive': 54, 'sadness': 2, 'closer': 69, 'fez': 42, 'sister': 60, 'cousin': 24, 'casa': 11, 'blanca': 3, 'berry': 23, 'shortcake': 4, 'killed': 17, 'whipped': 20, 'biscuit': 11, 'peaceful': 15, 'tow': 8, 'finalmente': 1, 'andiamo': 1, 'fritto': 2, 'misto': 4, 'trio': 26, 'ours': 24, 'included': 81, 'leaves': 49, 'broccolini': 4, 'wedge': 14, 'crumbling': 3, 'orecchiette': 3, 'alla': 5, 'puttanesca': 4, 'ear': 9, 'whore': 12, 'vibrant': 5, 'stringier': 1, 'worked': 103, 'holy': 33, 'streetwalkin': 1, 'hussy': 1, 'capers': 7, 'breadcrumbs': 1, 'anchovy': 1, 'oil': 139, 'uh': 10, 'harmony': 2, 'overpowered': 4, 'humble': 21, 'mothers': 7, 'servings': 18, 'european': 15, 'um': 25, 'slowed': 3, 'breadsticks': 3, 'willing': 65, 'timely': 23, 'manner': 23, 'rush': 59, 'completed': 16, 'pastabar': 2, 'palpable': 2, 'relieved': 10, 'cavernous': 3, 'sens': 15, 'smaller': 73, 'tucked': 38, 'hallway': 10, 'shins': 2, 'albums': 2, 'soundtrack': 4, 'incongruous': 1, 'ears': 15, 'crib': 2, 'notes': 20, 'veal': 19, 'hoikey': 1, 'jar': 19, 'sugary': 7, 'prego': 3, 'range': 71, 'mains': 6, 'tax': 26, 'license': 15, 'sparkling': 8, 'waters': 16, 'lemonades': 1, 'root': 37, 'awaits': 2, 'diners': 35, 'averse': 1, 'till': 31, 'midnight': 22, 'weeknights': 2, 'asset': 2, 'content': 19, 'whoreish': 1, 'pastas': 9, 'sounded': 36, 'success': 13, 'giving': 136, 'gratitude': 3, 'kinks': 12, 'entree': 143, 'rounding': 5, 'english': 53, 'delighted': 11, 'pasties': 6, 'cornish': 10, 'baked': 102, 'freeze': 8, 'whenever': 61, 'regrets': 2, 'freezer': 17, 'mesa': 60, 'judge': 31, 'quieter': 8, 'friendlier': 4, 'costco': 33, 'empty': 129, 'dom': 5, 'fucking': 26, 'idiot': 15, 'smart': 18, 'shopper': 14, 'opposite': 15, 'loungy': 3, 'clubby': 2, 'merc': 9, 'curtains': 4, 'cigarettes': 8, 'smoking': 21, 'couch': 17, 'single': 103, 'mondrian': 2, 'entirely': 17, 'memories': 26, 'unrelated': 2, 'wealthy': 2, 'hotels': 30, 'conveniently': 17, 'stumbling': 4, 'dissapointed': 3, 'reading': 93, 'fijitas': 1, 'inferno': 2, 'hatch': 12, 'spiced': 23, 'ut': 1, 'scary': 20, 'remodeled': 14, 'changed': 87, 'mostly': 94, 'cantonese': 2, 'waitstaff': 35, 'mandarin': 8, 'notice': 76, 'inexpesive': 1, 'heavier': 1, 'standbys': 1, 'newer': 13, 'nee': 2, 'china': 46, 'knowadays': 1, 'kabuki': 6, 'oasis': 10, 'marketplace': 26, 'scoped': 1, 'sashimi': 42, 'unusual': 27, 'rolls': 216, 'edamame': 40, 'dine': 56, 'justified': 4, 'expressing': 2, 'enjoyment': 9, 'enticing': 6, 'personal': 107, 'corporate': 37, 'mosh': 1, 'enchiladas': 60, 'accident': 11, 'arrive': 60, 'slopped': 2, 'barely': 68, 'piping': 20, 'meeting': 45, 'automatically': 9, 'mine': 131, 'evidenced': 1, 'plasma': 4, 'deemos': 1, 'indulge': 18, 'whim': 7, 'separate': 47, 'processes': 2, 'reassure': 2, 'exciting': 23, 'delivered': 63, 'cupcake': 83, 'oreck': 3, 'sweeper': 2, 'suddenly': 14, 'began': 28, 'spewing': 2, 'dirt': 37, 'insist': 8, 'roller': 8, 'brush': 12, 'warranty': 9, 'upset': 28, 'stomping': 5, 'sticker': 8, 'stated': 30, 'installed': 11, 'shoving': 2, 'insisting': 2, 'obviously': 80, 'attitude': 63, 'unprofessional': 13, 'basing': 1, 'fab': 17, 'zinburger': 10, 'cowboy': 27, 'choc': 6, 'milkshake': 9, 'reg': 8, 'bottom': 83, 'mushy': 22, 'luckily': 52, 'pm': 68, 'prob': 5, 'upon': 114, 'yelp': 254, 'saturdays': 15, 'entering': 27, 'register': 52, 'booth': 53, 'spotless': 13, 'monte': 8, 'cristo': 5, 'biscuits': 34, 'perfection': 70, 'strawberry': 52, 'jam': 35, 'reflexology': 2, 'professional': 105, 'massage': 86, 'envy': 11, 'pricier': 16, 'sticking': 10, 'unimpressive': 6, 'unsketchy': 1, 'private': 54, 'compared': 62, 'cheapest': 25, 'coupon': 100, 'reservations': 56, 'trouble': 29, 'become': 74, 'weeks': 110, 'stepped': 27, 'dead': 51, 'cocktails': 65, 'derived': 3, 'uno': 5, 'commercial': 10, 'stays': 16, 'relatively': 30, 'update': 62, 'drowning': 8, 'charro': 1, 'refried': 17, 'bf': 57, 'someplace': 7, 'venture': 21, 'coal': 5, 'blah': 58, 'natural': 35, 'overpriced': 96, 'charges': 19, 'confirmed': 17, 'generate': 1, 'critical': 7, 'mass': 12, 'hooked': 29, 'thin': 118, 'spliting': 1, 'chris': 44, 'biancos': 1, 'trip': 182, 'monarch': 3, 'chops': 8, 'inquire': 2, 'prep': 10, 'thyme': 7, 'rubbed': 7, 'citrus': 13, 'hint': 38, 'mint': 46, 'complemented': 5, 'cash': 90, 'masks': 5, 'robberies': 1, 'joke': 43, 'easley': 4, 'mmmmm': 6, 'mmmmmm': 9, 'lush': 14, 'bevmo': 9, 'orientated': 1, 'auto': 17, 'complex': 36, 'state': 59, 'vehicles': 11, 'honest': 65, 'subaru': 3, 'master': 8, 'tech': 21, 'countless': 18, 'team': 54, 'fixing': 9, 'oversell': 1, 'quotas': 1, 'stealerships': 1, 'study': 20, 'plop': 3, 'trade': 14, 'caffeinate': 1, 'feed': 38, 'tasties': 1, 'quiches': 1, 'croissants': 16, 'bagels': 41, 'julyish': 1, 'k': 20, 'musing': 1, 'steady': 15, 'revitalization': 2, 'along': 192, 'extension': 5, 'expanding': 4, 'picks': 8, 'additionally': 9, 'sipping': 7, 'blast': 22, 'gyro': 54, 'split': 107, 'dropped': 39, 'restrooms': 21, 'soap': 29, 'washing': 6, 'hardware': 10, 'projects': 3, 'rebuilding': 2, 'frequented': 7, 'ace': 9, 'searches': 1, 'speakeasy': 4, 'minimal': 20, 'signage': 11, 'exterior': 22, 'housed': 2, 'urban': 44, 'warehouse': 8, 'spacious': 33, 'figured': 49, 'sparse': 10, 'drinking': 98, 'refrain': 3, 'bouncing': 5, 'walls': 81, 'epitome': 3, 'caffeinated': 2, 'beatiful': 3, 'julio': 2, 'g': 22, 'flautas': 7, 'walgreen': 4, 'drugs': 6, 'aka': 16, 'health': 44, 'clinic': 16, 'overly': 59, 'generic': 28, 'prescriptions': 6, 'pharmacies': 2, 'picking': 32, 'medication': 3, 'provider': 7, 'nurse': 6, 'supply': 16, 'viagra': 3, 'pack': 33, 'drunk': 42, 'narcisse': 3, 'named': 39, 'club': 153, 'lively': 25, 'predictable': 6, 'scantily': 2, 'dressed': 39, 'cougars': 2, 'royalty': 2, 'upscale': 52, 'folk': 11, 'hoppin': 5, 'thumpin': 1, 'leans': 2, 'toward': 19, 'elevator': 12, 'cinematic': 1, 'emerging': 3, 'onto': 44, 'dance': 68, 'pays': 6, 'champagne': 26, 'skyline': 2, 'fewer': 6, 'bumping': 8, 'stepping': 10, 'russian': 11, 'bouncers': 12, 'intimidating': 10, 'uber': 12, 'enthusiastic': 11, 'dancer': 5, 'knocked': 19, 'shattered': 2, 'veuve': 1, 'whisked': 2, 'mopped': 1, 'epidemic': 1, 'potstickers': 10, 'kobe': 15, 'clay': 9, 'pot': 51, 'sizzling': 16, 'overdone': 9, 'strangely': 6, 'steamed': 29, 'microwaved': 6, 'argued': 9, 'annoying': 51, 'pay': 276, 'decidedly': 5, 'partiers': 1, 'nearby': 65, 'chase': 11, 'field': 26, 's': 37, 'cons': 26, 'bank': 29, 'finacial': 1, 'concern': 15, 'perhaps': 116, 'sucker': 22, 'atm': 21, 'member': 36, 'greedy': 5, 'cat': 22, 'practices': 5, 'regards': 8, 'pop': 59, 'capitalize': 2, 'chains': 41, 'panda': 30, 'express': 50, 'disgusting': 42, 'brat': 7, 'pathetic': 17, 'decency': 1, 'frank': 35, 'overpaid': 2, 'ouncer': 1, 'corona': 6, 'ha': 21, 'pros': 23, 'outfield': 4, 'idea': 151, 'issue': 96, 'control': 33, 'smooth': 38, 'originality': 2, 'sixpack': 1, 'paris': 9, 'hilton': 9, 'ridge': 19, 'wishes': 3, 'bargain': 18, 'hunting': 12, 'tj': 14, 'maxx': 4, 'catching': 10, 'harkins': 24, 'stocking': 9, 'shelf': 15, 'panties': 5, 'vicky': 1, 'secret': 39, 'zillion': 4, 'sam': 23, 'ethiopian': 21, 'answered': 30, 'strictly': 15, 'tikil': 1, 'gomen': 4, 'misir': 4, 'watt': 5, 'kik': 1, 'shuro': 3, 'dubba': 1, 'fell': 45, 'chickpeas': 5, 'lentils': 14, 'pulled': 102, 'sliced': 55, 'meaty': 14, 'disappointing': 72, 'kraft': 4, 'o': 15, 'ick': 7, 'partially': 4, 'mush': 7, 'premium': 15, 'gouge': 3, 'q': 31, 'rakin': 1, 'dough': 41, 'wrestling': 1, 'college': 78, 'aged': 10, 'yours': 14, 'wonder': 57, 'mobbed': 2, 'advance': 15, 'handed': 32, 'pager': 1, 'bothered': 18, 'teppan': 4, 'bummer': 28, 'mid': 16, 'women': 49, 'age': 42, 'wore': 7, 'outfits': 5, 'focused': 16, 'sparkly': 3, 'sequined': 1, 'skirts': 10, 'prom': 4, 'hon': 3, 'machi': 1, 'amomi': 2, 'obgyn': 1, 'pregnancy': 3, 'ultrasounds': 3, 'ultrasound': 1, 'technician': 6, 'equipment': 25, 'products': 76, 'pregnant': 13, 'ob': 1, 'referred': 11, 'hesitation': 5, 'dog': 247, 'ballpark': 10, 'tater': 18, 'tots': 20, 'getcha': 1, 'keeping': 36, 'unwillingness': 2, 'enforce': 1, 'initially': 18, 'riva': 2, 'berto': 5, 'differences': 5, 'killer': 36, 'california': 69, 'metric': 1, 'piled': 14, 'freshly': 63, 'hammered': 2, 'wary': 10, 'stupid': 28, 'violations': 1, 'sissies': 1, 'ham': 53, 'damnit': 2, 'bleu': 13, 'figs': 12, 'dizzy': 3, 'dre': 1, 'awsome': 1, 'likes': 49, 'customizes': 1, 'luxury': 9, 'oz': 57, 'featured': 18, 'thrilled': 26, 'carefree': 4, 'boom': 10, 'western': 20, 'informative': 20, 'joked': 6, 'voice': 18, 'animated': 3, 'lights': 53, 'jellyfish': 3, 'piccata': 2, 'series': 8, 'overwhelming': 31, 'alcohol': 63, 'tooth': 19, 'unimpressed': 6, 'bare': 10, 'attempts': 8, 'unreasonably': 1, 'despite': 78, 'crowded': 135, 'internet': 26, 'password': 1, 'supplied': 3, 'disruptive': 2, 'gotten': 78, 'concert': 17, 'attend': 16, 'ciao': 14, 'turkey': 109, 'swiss': 21, 'wrap': 53, 'cranberries': 7, 'cashews': 4, 'sage': 12, 'pesto': 49, 'gala': 2, 'wrote': 26, 'stellar': 26, 'fluke': 10, 'vs': 13, 'death': 25, 'blow': 24, 'shall': 14, 'acted': 10, 'conditioning': 13, 'brutal': 2, 'crummy': 2, 'officially': 9, 'books': 49, 'lesson': 15, 'industry': 24, 'acy': 1, 'aj': 21, 'dealing': 18, 'cereal': 9, 'triscuits': 1, 'circle': 20, 'brighter': 1, 'breasts': 8, 'amazingly': 24, 'loin': 4, 'stuffing': 20, 'suckered': 1, 'lexus': 3, 'hummers': 1, 'roommate': 7, 'crunchy': 61, 'chocolately': 2, 'wonderfulness': 3, 'regardless': 36, 'pita': 101, 'tangy': 18, 'greek': 83, 'workweek': 1, 'ourselves': 46, 'fellow': 32, 'yelper': 17, 'john': 44, 'uzbek': 3, 'appearance': 14, 'ornate': 3, 'cucumbers': 14, 'drizzled': 10, 'dill': 16, 'vinaigrette': 25, 'blinchik': 2, 'crepes': 17, 'palov': 2, 'rounded': 13, 'version': 66, 'stick': 87, 'mojitos': 11, 'avenue': 29, 'bantam': 1, 'weight': 29, 'weighing': 3, 'pounds': 9, 'haggle': 1, 'stalls': 9, 'diminutive': 2, 'reported': 8, 'smattering': 5, 'petite': 9, 'padding': 4, 'girls': 95, 'saying': 122, 'pee': 15, 'wee': 8, 'kiwanis': 1, 'rec': 3, 'gatorade': 2, 'granola': 10, 'picnic': 23, 'vendor': 5, 'flowers': 28, 'hoping': 58, 'turnout': 1, 'rudunk': 1, 'notable': 6, 'smith': 9, 'failed': 23, 'levels': 20, 'sometime': 32, 'bodies': 4, 'stair': 4, 'bouncer': 12, 'trickle': 1, 'shoe': 29, 'clearly': 64, 'capacity': 8, 'fail': 20, 'roughly': 8, 'oversold': 2, 'clusterfuck': 1, 'stood': 52, 'reader': 6, 'earlier': 55, 'gesture': 8, 'downstairs': 20, 'hold': 67, 'bass': 21, 'distorted': 1, 'inched': 1, 'parts': 32, 'accessible': 10, 'f': 31, 'concerned': 28, 'headlining': 1, 'somebody': 18, 'qt': 4, 'gas': 60, 'layout': 41, 'convenience': 24, 'phenom': 2, 'stations': 16, 'emergency': 18, 'snickers': 3, 'chicharones': 1, 'milk': 86, 'wipies': 1, 'hahaha': 3, 'unless': 127, 'unlucky': 3, 'steeply': 1, 'downhill': 10, 'flavored': 42, 'grainy': 5, 'noticable': 1, 'crystals': 6, 'flavorings': 2, 'savor': 11, 'profile': 3, 'says': 97, 'earth': 24, 'waffles': 65, 'lo': 15, 'everytime': 22, 'unwind': 8, 'michael': 15, 'jan': 7, 'elegant': 20, 'jeans': 30, 'cave': 13, 'creek': 20, 'cartwrights': 2, 'mesquite': 17, 'dept': 9, 'succulent': 5, 'fritters': 16, 'buddy': 30, 'instantly': 26, 'video': 36, 'knowing': 46, 'sonic': 10, 'xbox': 2, 'breeze': 19, 'hypnotized': 1, 'distracting': 10, 'lol': 61, 'jessie': 1, 'sons': 13, 'doll': 4, 'breathing': 7, 'neck': 18, 'hacked': 3, 'copious': 8, 'lame': 34, 'unhelpful': 2, 'toy': 5, 'petsmart': 6, 'firesky': 1, 'marvelous': 8, 'torches': 2, 'kimpton': 2, 'amenities': 20, 'helped': 86, 'taggio': 1, 'spectacular': 52, 'expectation': 9, 'jungle': 31, 'decorated': 31, 'greated': 2, 'hostess': 76, 'lentil': 8, 'dicey': 3, 'against': 41, 'toasty': 6, 'broken': 38, 'slight': 24, 'wondering': 21, 'sourpuss': 1, 'aside': 61, 'unit': 16, 'units': 5, 'rent': 26, 'horrible': 119, 'noise': 28, 'neighbor': 11, 'plays': 20, 'loudly': 11, 'humidifier': 1, 'security': 34, 'ceilings': 6, 'easiy': 1, 'aesthetically': 3, 'gym': 81, 'construction': 16, 'non': 20, 'conveyer': 1, 'belt': 12, 'sketchy': 8, 'staples': 13, 'shwarma': 6, 'snappy': 1, 'exotic': 20, 'silly': 16, 'wander': 18, 'sweets': 16, 'matched': 8, 'sharon': 3, 'h': 17, 'bruchetta': 14, 'select': 18, 'delay': 6, 'discount': 62, 'foot': 38, 'callus': 1, 'shellac': 4, 'gelish': 3, 'edible': 31, 'drags': 2, 'suspicion': 1, 'draft': 29, 'caveat': 6, 'emptor': 2, 'cabs': 5, 'rig': 3, 'tour': 60, 'tavern': 25, 'tribute': 5, 'tipsy': 3, 'teamwork': 2, 'host': 47, 'pedalers': 1, 'inaugural': 1, 'celebrity': 3, 'cruising': 2, 'winding': 3, 'streets': 19, 'onlookers': 1, 'snapped': 4, 'cheered': 2, 'rocked': 11, 'lonely': 4, 'island': 31, 'guides': 4, 'flexible': 5, 'impromptu': 2, 'horseback': 1, 'shotgun': 2, 'betty': 5, 'unwanted': 3, 'calories': 34, 'stops': 23, 'shots': 26, 'momentum': 1, 'coveted': 2, 'pedaling': 1, 'compromised': 2, 'accommodating': 41, 'entertaining': 23, 'proved': 6, 'discovering': 6, 'facts': 12, 'cost': 130, 'arm': 16, 'leg': 16, 'substituted': 7, 'sheer': 10, 'exclusively': 5, 'ranging': 11, 'planning': 39, 'ma': 5, 'coworkers': 31, 'accomodated': 3, 'seperate': 5, 'checks': 26, 'fuss': 9, 'handmade': 10, 'balsamic': 35, 'vinegar': 22, 'inch': 22, 'optional': 3, 'seperately': 2, 'exp': 1, 'cooks': 26, 'written': 23, 'adore': 21, 'lgo': 27, 'pizzeria': 42, 'delight': 37, 'buds': 25, 'kale': 21, 'quinoa': 14, 'obsessed': 8, 'avocado': 67, 'omg': 57, 'words': 53, 'refuse': 7, 'crack': 18, 'quicker': 9, 'eww': 4, 'bri': 2, 'sums': 5, 'soul': 24, 'screamed': 5, 'til': 12, 'lolo': 12, 'memorizing': 1, 'ray': 13, 'overjoyed': 1, 'grooves': 2, 'jammed': 7, 'lil': 19, 'koolaid': 4, 'biggest': 53, 'halfway': 13, 'presented': 28, 'face': 122, 'smothered': 17, 'fill': 72, 'boat': 17, 'alright': 49, 'cinnamon': 34, 'kicking': 10, 'grits': 24, 'collared': 4, 'velvet': 52, 'bubbly': 5, 'frazzled': 2, 'correction': 4, 'tootsy': 2, 'maki': 2, 'daugther': 1, 'surgery': 17, 'restricted': 1, 'protein': 21, 'powder': 14, 'provided': 51, 'reached': 11, 'refilled': 20, 'powdered': 7, 'wtf': 24, 'smelled': 25, 'eeek': 2, 'makie': 1, 'tempura': 39, 'happened': 87, 'peaks': 46, 'drove': 54, 'hubs': 18, 'temps': 6, 'blew': 17, 'assumption': 2, 'dressing': 128, 'mizithra': 1, 'trolley': 4, 'ring': 25, 'rail': 47, 'arts': 11, 'break': 80, 'reharsal': 1, 'ground': 50, 'engaging': 6, 'barristas': 1, 'tca': 1, 'ahwatukee': 17, 'annoyed': 27, 'snobby': 13, 'moving': 52, 'deny': 4, 'tukee': 3, 'neighbors': 13, 'tanked': 6, 'rescue': 10, 'irritating': 8, 'weeknight': 9, 'approve': 2, 'ratings': 15, 'lead': 14, 'false': 4, 'twenty': 6, 'snooty': 8, 'connaisseur': 1, 'unto': 3, 'nobu': 1, 'whine': 2, 'shootin': 1, 'introduced': 29, 'lately': 22, 'anaheim': 3, 'portillo': 2, 'buena': 2, 'moreno': 1, 'al': 35, 'wet': 29, 'unexpected': 12, 'hype': 46, 'cashier': 53, 'rectify': 5, 'chopped': 68, 'bust': 10, 'trek': 14, 'lee': 51, 'ten': 56, 'stocks': 6, 'malaysian': 3, 'west': 80, 'vast': 14, 'yerba': 1, 'mate': 2, 'prepaid': 2, 'credits': 2, 'speculation': 1, 'sites': 7, 'filed': 12, 'bankruptcy': 4, 'cordoned': 2, 'british': 4, 'pubs': 2, 'occasionally': 31, 'lethal': 1, 'pooped': 2, 'tainted': 6, 'rose': 19, 'crown': 12, 'fault': 44, 'ruined': 18, 'design': 54, 'innovative': 7, 'parent': 11, 'hanging': 61, 'oriented': 10, 'kiddo': 3, 'churn': 5, 'pedicure': 33, 'toes': 10, 'manicure': 27, 'accidentally': 6, 'thumb': 6, 'bled': 1, 'hurts': 7, 'richard': 7, 'cho': 6, 'memory': 16, 'creative': 50, 'award': 9, 'macadamia': 4, 'brilliant': 11, 'pedestrian': 7, 'transformed': 4, 'introduce': 6, 'remembers': 9, 'hubbies': 2, 'kiddos': 5, 'flour': 19, 'sending': 8, 'apologize': 15, 'overwhelmed': 19, 'drunken': 21, 'pad': 69, 'thai': 282, 'apache': 5, 'photo': 29, 'ops': 4, 'souveniers': 1, 'prickly': 3, 'pear': 19, 'fudge': 12, 'degree': 41, 'curmudgeons': 1, 'moaning': 1, 'tourist': 13, 'trap': 5, 'mystery': 14, 'flags': 1, 'dicking': 1, 'cabana': 6, 'balcony': 14, 'wing': 24, 'handicapped': 1, 'push': 15, 'unacceptable': 10, 'mugs': 6, 'pots': 8, 'maintenance': 14, 'closet': 16, 'crew': 33, 'crude': 1, 'desolate': 1, 'net': 7, 'tights': 1, 'dresses': 21, 'turns': 36, 'classmates': 3, 'angela': 5, 'julie': 5, 'natalie': 3, 'key': 42, 'suburbia': 3, 'fountains': 13, 'poodles': 1, 'curly': 5, 'nap': 7, 'chores': 1, 'peace': 11, 'pickles': 50, 'joking': 13, 'subway': 45, 'plaza': 26, 'fails': 11, 'gift': 60, 'younger': 21, 'detroit': 5, 'sweaters': 2, 'clearance': 15, 'browse': 11, 'ivy': 10, 'fire': 59, 'bethany': 3, 'luci': 2, 'sexy': 36, 'retro': 16, 'currently': 24, 'loosely': 7, 'outing': 7, 'filmbar': 2, 'djentrification': 1, 'importantly': 24, 'improving': 3, 'chosen': 13, 'oregano': 23, 'flagstaff': 2, 'nau': 1, 'campus': 33, 'remains': 12, 'vintage': 31, 'decoration': 11, 'ella': 1, 'fitzgerald': 1, 'icons': 1, 'passing': 25, 'pizzookie': 2, 'dive': 57, 'bellinis': 2, 'patience': 13, 'qc': 7, 'vet': 23, 'caring': 19, 'smile': 62, 'pets': 13, 'fiscally': 1, 'conservative': 2, 'approach': 21, 'discussed': 10, 'performed': 7, 'vets': 5, 'estimate': 4, 'hundreds': 10, 'thousands': 9, 'budge': 2, 'listed': 32, 'judged': 5, 'listened': 14, 'appropriate': 39, 'concerns': 15, 'preventing': 1, 'lives': 23, 'capable': 4, 'ill': 15, 'empathetic': 2, 'excuse': 44, 'narrow': 11, 'teeny': 9, 'dim': 73, 'candles': 12, 'unbelievable': 26, 'action': 19, 'respect': 18, 'plethora': 8, 'generation': 3, 'veggie': 133, 'entire': 150, 'schezwan': 1, 'misspelled': 1, 'hunan': 1, 'despise': 6, 'greet': 23, 'cater': 10, 'research': 21, 'jw': 4, 'marriott': 14, 'hoopla': 2, 'roy': 10, 'amy': 13, 'york': 47, 'foodie': 31, 'immense': 2, 'december': 11, 'martinis': 26, 'loaded': 35, 'vodka': 49, 'drinkers': 5, 'accomodating': 13, 'watcher': 1, 'relatives': 5, 'conversing': 3, 'mariott': 1, 'stunning': 12, 'meandered': 1, 'competent': 17, 'recommendations': 39, 'clingy': 1, 'joan': 3, 'cusack': 2, 'washcloths': 1, 'heathens': 1, 'using': 101, 'canoe': 1, 'lobster': 68, 'satay': 12, 'basically': 93, 'pinnacle': 4, 'socks': 21, 'choking': 2, 'rolling': 15, 'ecstacy': 2, 'bustled': 1, 'merely': 9, 'interrupting': 3, 'intimate': 39, 'post': 40, 'encrusted': 5, 'divine': 25, 'mmm': 17, 'showstopper': 1, 'hawaiian': 21, 'butterfish': 5, 'miso': 39, 'poor': 98, 'cinderella': 1, 'ugly': 27, 'stepsister': 1, 'upstaged': 1, 'decadence': 2, 'surpassed': 4, 'fantasizing': 1, 'licked': 7, 'declared': 2, 'planet': 9, 'molten': 2, 'souffle': 6, 'brad': 5, 'pitt': 3, 'naked': 14, 'shoveling': 2, 'brulees': 2, 'vanilla': 81, 'rum': 29, 'justice': 5, 'kissing': 5, 'george': 7, 'clooney': 1, 'rick': 3, 'springfield': 1, 'spoiled': 18, 'mention': 92, 'corwn': 1, 'molding': 2, 'tampons': 1, 'marble': 10, 'favors': 9, 'juba': 2, 'ownership': 12, 'molly': 1, 'introducing': 5, 'blend': 29, 'hesitant': 18, 'psycho': 4, 'cupcakes': 78, 'ollie': 3, 'operations': 4, 'nom': 15, 'irish': 38, 'fibber': 1, 'magee': 1, 'trips': 28, 'queen': 18, 'dobson': 10, 'warner': 4, 'dublin': 1, 'bangers': 7, 'tyrrellspass': 1, 'castle': 2, 'galway': 1, 'ireland': 3, 'guinness': 9, 'tan': 19, 'sláinte': 1, 'larb': 1, 'tofu': 68, 'delights': 7, 'gimlet': 4, 'hue': 16, 'fruity': 19, 'cardamom': 3, 'assume': 19, 'ewe': 1, 'textured': 3, 'candle': 11, 'signing': 3, 'workout': 32, 'angles': 6, 'purpose': 19, 'tennis': 4, 'racquetball': 2, 'courts': 8, 'spinning': 15, 'nursery': 3, 'graphics': 1, 'effect': 13, 'emphasis': 3, 'locker': 18, 'sauna': 12, 'aunt': 11, 'madiera': 2, 'uncle': 8, 'haddock': 5, 'everyday': 41, 'snottsdale': 5, 'obvious': 28, 'musicians': 9, 'perform': 8, 'sets': 28, 'steak': 318, 'habit': 10, 'knocci': 2, 'marinara': 26, 'crusty': 13, 'heft': 3, 'cosmo': 5, 'cioppino': 3, 'allesia': 1, 'linguine': 6, 'clam': 7, 'definite': 17, 'phx': 45, 'era': 6, 'exploration': 1, 'personalty': 1, 'devoid': 6, 'basic': 68, 'courtesy': 8, 'chimichanga': 19, 'liver': 10, 'chagrin': 2, 'owned': 64, 'supper': 6, 'sudden': 6, 'shamelessly': 1, 'flirting': 12, 'touchy': 1, 'feely': 1, 'ugh': 28, 'technique': 5, 'garner': 2, 'gracious': 14, 'tips': 35, 'privilege': 1, 'lackadaisical': 2, 'settling': 3, 'tab': 28, 'gila': 7, 'firewood': 1, 'burning': 14, 'fee': 36, 'http': 60, 'coast': 27, 'cheesesteaks': 3, 'cheesesteak': 19, 'hobby': 7, 'largest': 17, 'managers': 18, 'variation': 5, 'costs': 28, 'freaking': 25, 'stage': 36, 'count': 39, 'poles': 2, 'climb': 9, 'pole': 6, 'curious': 16, 'mirrored': 3, 'flying': 25, 'leap': 2, 'demand': 15, 'song': 19, 'screaming': 17, 'blindness': 1, 'restroom': 30, 'won': 48, 'troy': 4, 'businessman': 2, 'pharmacist': 4, 'familiar': 20, 'sterile': 6, 'compounding': 2, 'areas': 56, 'advanced': 8, 'spending': 42, 'hormone': 2, 'replacement': 13, 'therapy': 4, 'docs': 1, 'dictate': 1, 'increase': 6, 'compounded': 2, 'hrt': 1, 'safer': 5, 'prempro': 1, 'consult': 4, 'adequately': 1, 'addressed': 4, 'further': 39, 'mailed': 3, 'happiness': 6, 'manage': 15, 'highlights': 13, 'artichoke': 49, 'rokerij': 9, 'describe': 43, 'reminiscent': 9, 'dc': 4, 'stone': 27, 'leather': 22, 'strategically': 2, 'outskirts': 2, 'pepper': 89, 'afterwards': 22, 'queso': 29, 'layered': 8, 'length': 13, 'kauai': 1, 'wedding': 55, 'led': 20, 'puka': 1, 'discovery': 3, 'matrimony': 1, 'union': 13, 'frankfurters': 1, 'tropical': 4, 'longed': 1, 'companionship': 2, 'pineapple': 46, 'relish': 17, 'disconsolate': 1, 'abstained': 1, 'ted': 11, 'happens': 31, 'beau': 6, 'maui': 4, 'ish': 6, 'lava': 7, 'messy': 28, 'delish': 77, 'hippies': 11, 'affordable': 46, 'barbecue': 18, 'authority': 6, 'tear': 9, 'cobbler': 11, 'brazilian': 2, 'christine': 7, 'tells': 25, 'tosses': 2, 'humor': 9, 'wax': 17, 'dipped': 23, 'reviewed': 22, 'pushed': 8, 'explained': 55, 'uses': 23, 'waxed': 1, 'unpretentious': 8, 'nachos': 59, 'ohio': 10, 'prime': 47, 'chelsea': 9, 'circumstances': 3, 'story': 46, 'visits': 43, 'pinot': 18, 'grigio': 5, 'polished': 12, 'swordfish': 8, 'inattentive': 7, 'pointed': 23, 'supporting': 20, 'houses': 27, 'studying': 5, 'avalanches': 1, 'ids': 2, 'awkwardly': 7, 'acknowledge': 15, 'agave': 6, 'acidic': 4, 'flag': 15, 'steps': 21, 'soapbox': 1, 'harassing': 2, 'disappeared': 15, 'reeked': 1, 'conclusion': 7, 'careful': 30, 'hamburger': 32, 'windsor': 9, 'ironing': 2, 'dancing': 36, 'weekly': 34, 'versus': 12, 'caroline': 7, 'caesar': 35, 'consider': 66, 'nonetheless': 24, 'ticoz': 3, 'ranges': 4, 'rowdy': 6, 'applebees': 4, 'locales': 1, 'ginger': 34, 'ale': 35, 'kiltlifter': 8, 'blackwidow': 1, 'basmati': 4, 'coleslaw': 28, 'meatloaf': 20, 'beauty': 15, 'baker': 9, 'circa': 4, 'compliment': 22, 'bordelaise': 1, 'example': 48, 'versions': 15, 'par': 52, 'sophie': 2, 'christopher': 12, 'daren': 1, 'steaks': 35, 'melts': 14, 'sammy': 4, 'runs': 31, 'yummm': 9, 'insulted': 1, 'hillstone': 10, 'includes': 49, 'bandera': 6, 'deliberately': 1, 'noisy': 25, 'gm': 5, 'miranda': 1, 'geranios': 1, 'instructed': 6, 'news': 16, 'outbursts': 1, 'rudely': 9, 'asserted': 1, 'herself': 19, 'insult': 6, 'injury': 9, 'compensate': 6, 'repeat': 26, 'establishments': 14, 'unfortunate': 16, 'challenges': 2, 'iruna': 2, 'experiencing': 7, 'belong': 5, 'dudes': 13, 'beach': 22, 'swim': 20, 'trunks': 4, 'dude': 42, 'kneeled': 1, 'bench': 15, 'talked': 40, 'saturated': 8, 'squeezes': 1, 'romesco': 1, 'croquettas': 1, 'trout': 22, 'palette': 12, 'aioli': 14, 'squeezing': 5, 'appetizing': 14, 'actual': 56, 'hh': 22, 'biggie': 8, 'attract': 4, 'tweaked': 2, 'contrary': 7, 'ed': 7, 'hardy': 5, 'shirts': 21, 'calling': 30, 'giants': 7, 'eddie': 11, 'tartar': 8, 'fiddler': 1, 'ferns': 1, 'immediate': 13, 'path': 21, 'unbelievably': 17, 'shipping': 12, 'packages': 14, 'miserable': 9, 'forms': 6, 'ship': 4, 'method': 5, 'stressing': 1, 'conversation': 91, 'deserve': 26, 'stealing': 7, 'lying': 8, 'society': 7, 'pillage': 1, 'rewarded': 4, 'seemingly': 15, 'receipt': 23, 'grain': 10, 'inedible': 13, 'absorption': 1, 'practically': 29, 'slimy': 7, 'claimed': 12, 'fountain': 41, 'girlfriends': 21, 'adorable': 34, 'torrential': 1, 'downpour': 1, 'wtih': 3, 'craptastic': 3, 'weather': 59, 'distinct': 12, 'tolerate': 5, 'livly': 1, 'formerly': 6, 'teachers': 12, 'school': 157, 'pretentious': 38, 'passed': 50, 'cooperates': 1, 'footsore': 1, 'marathon': 9, 'refreshment': 4, 'improvements': 13, 'snatch': 1, 'oldest': 3, 'crispy': 156, 'eldest': 3, 'poco': 1, 'chimis': 6, 'torito': 2, 'youngest': 8, 'gobbled': 5, 'battered': 17, 'uquiel': 1, 'reassurance': 1, 'nate': 2, 'stress': 12, 'raised': 22, 'proper': 18, 'height': 5, 'acoustics': 16, 'adequate': 16, 'acts': 9, 'trapezoidal': 1, 'speakers': 8, 'flown': 8, 'clarity': 3, 'subs': 31, 'beneath': 5, 'cans': 16, 'jbls': 1, 'toss': 16, 'trussing': 1, 'attractive': 14, 'ranged': 7, 'whiskey': 11, 'bases': 1, 'christmas': 39, 'cops': 9, 'pulling': 14, 'rhythm': 5, 'effen': 1, 'lisous': 1, 'clip': 2, 'america': 39, 'quesadilla': 46, 'opens': 19, 'january': 11, 'botanical': 8, 'gardens': 14, 'opposed': 25, 'difference': 46, 'cactus': 14, 'booked': 24, 'guest': 37, 'assigned': 9, 'ambassador': 2, 'promise': 32, 'panag': 1, 'bills': 10, 'skies': 3, 'windshield': 16, 'wiper': 3, 'blades': 5, 'dumb': 12, 'northsight': 2, 'site': 30, 'model': 18, 'aisle': 17, 'throwing': 17, 'cardboard': 10, 'bin': 8, 'shocker': 1, 'minds': 4, 'val': 4, 'rd': 26, 'cobb': 7, 'iceberg': 10, 'shaved': 15, 'romaine': 10, 'bits': 23, 'forgetting': 9, 'caviar': 5, 'pancakes': 99, 'grandma': 22, 'grandpa': 1, 'brother': 33, 'barbecuein': 1, 'pecans': 12, 'whoa': 8, 'suggests': 6, 'improved': 23, 'dramatically': 5, 'mountains': 14, 'trails': 11, 'chowing': 3, 'espresso': 51, 'macchiato': 1, 'microfoam': 2, 'bubbles': 3, 'shot': 92, 'tends': 11, 'subpar': 7, 'viable': 1, 'measures': 1, 'successful': 11, 'coffeeshops': 1, 'paintings': 9, 'element': 7, 'flatscreens': 2, 'cher': 5, 'madonna': 4, 'mesh': 3, 'lounging': 8, 'regularly': 32, 'registered': 5, 'carrying': 14, 'entry': 14, 'government': 2, 'id': 25, 'prompt': 48, 'vehicle': 10, 'luggage': 10, 'weave': 1, 'delayed': 8, 'ticket': 33, 'drivers': 11, 'entrance': 41, 'accessed': 2, 'bound': 10, 'washington': 6, 'website': 71, 'directions': 19, 'einsteins': 3, 'schmears': 1, 'processed': 13, 'driving': 73, 'standards': 18, 'whoever': 10, 'approximately': 9, 'equivalent': 9, 'pat': 8, 'chompies': 8, 'kashmans': 1, 'dump': 13, 'reminds': 57, 'cafes': 3, 'sadly': 37, 'france': 8, 'zinc': 18, 'burgundy': 1, 'pomme': 2, 'frittes': 1, 'flagging': 2, 'rememeber': 1, 'wind': 14, 'sprints': 2, 'manager': 165, 'hearing': 41, 'peoples': 6, 'lone': 6, 'shameful': 1, 'definately': 17, 'hopple': 1, 'popple': 1, 'wolf': 2, 'loco': 7, 'moko': 1, 'criticism': 5, 'lemonade': 48, 'hash': 44, 'browns': 30, 'donuts': 84, 'dunkin': 17, 'donut': 26, 'bosa': 18, 'echo': 17, 'positive': 61, 'grille': 9, 'downright': 12, 'mouthwatering': 5, 'bone': 27, 'overcoated': 1, 'piestewa': 4, 'underdressed': 1, 'valued': 4, 'tray': 19, 'sake': 61, 'tragically': 1, 'haircuts': 3, 'salons': 7, 'pixie': 1, 'mans': 3, 'epic': 12, 'salon': 45, 'chey': 2, 'exacting': 1, 'fluent': 2, 'terms': 31, 'articulate': 2, 'dined': 38, 'decore': 2, 'flower': 10, 'wooden': 16, 'crate': 5, 'sundried': 5, 'ploenta': 1, 'spincach': 1, 'blackrice': 1, 'intrigued': 14, 'slaw': 49, 'suberb': 1, 'bravo': 6, 'cherubini': 2, 'decaf': 3, 'drip': 7, 'noteworthy': 6, 'sampled': 26, 'fanatic': 4, 'kudos': 22, 'hap': 3, 'trailer': 6, 'jefferson': 3, 'hail': 3, 'opt': 15, 'mashers': 3, 'gripe': 16, 'cob': 8, 'consecutive': 3, 'depends': 14, 'regarded': 3, 'magazine': 17, 'publications': 1, 'hung': 24, 'mark': 24, 'leaf': 20, 'form': 36, 'permanent': 4, 'intaglio': 1, 'cheeks': 2, 'stool': 3, 'cum': 4, 'gallery': 7, 'tricky': 12, 'exists': 5, 'becoming': 13, 'frustrated': 14, 'fruitlessly': 1, 'ducking': 1, 'artwork': 17, 'decorating': 2, 'homey': 13, 'talkers': 1, 'rejoice': 1, 'duck': 72, 'bogglingly': 1, 'brew': 25, 'manages': 7, 'respectable': 6, 'laughable': 2, 'hoped': 20, 'fixes': 3, 'inspired': 19, 'ra': 25, 'frequently': 28, 'addictive': 11, 'nigiri': 15, 'upgrade': 17, 'rainbow': 14, 'himself': 34, 'presumptuous': 1, 'coins': 7, 'discussion': 9, 'minus': 30, 'tense': 1, 'indeed': 32, 'thanked': 9, 'ripples': 1, 'isolated': 3, 'scenic': 2, 'boring': 44, 'loops': 4, 'mentions': 2, 'awesomeness': 9, 'datish': 1, 'built': 18, 'tuesday': 57, 'buckaroos': 1, 'stickers': 10, 'skin': 35, 'encased': 1, 'delicate': 23, 'dumpling': 8, 'delectable': 21, 'balanced': 15, 'overpower': 7, 'underneath': 9, 'scallions': 2, 'scattered': 10, 'mmmmmmmmmmm': 1, 'brothy': 1, 'sopping': 1, 'chopsticks': 12, 'spoon': 27, 'stir': 20, 'asian': 138, 'eggplants': 1, 'fluffy': 37, 'icy': 4, 'dreamy': 6, 'cloud': 3, 'confection': 4, 'sickly': 2, 'sticky': 28, 'artificial': 9, 'predominant': 1, 'curries': 18, 'clothes': 65, 'appointments': 6, 'compliments': 18, 'blanco': 21, 'doug': 1, 'robson': 2, 'requested': 24, 'oj': 9, 'slackers': 1, 'bloody': 39, 'response': 26, 'hiring': 6, 'parade': 3, 'unsupervised': 1, 'ruining': 4, 'reputation': 15, 'earn': 7, 'theatre': 18, 'arrowhead': 7, 'theatres': 3, 'bustling': 11, 'concessions': 5, 'loath': 2, 'meant': 26, 'independent': 22, 'coveting': 1, 'litttle': 1, 'robot': 1, 'sculptures': 5, 'robots': 1, 'owls': 2, 'revealed': 5, 'innsuites': 4, 'nestled': 12, 'squaw': 9, 'preserve': 6, 'prestigious': 2, 'access': 27, 'comfotable': 1, 'rasonable': 1, 'northern': 15, 'social': 30, 'yogurt': 95, 'juices': 18, 'angry': 12, 'bro': 9, 'smedium': 1, 'affliction': 2, 'styles': 13, 'comparing': 8, 'boombozz': 5, 'grimaldi': 20, 'cheesy': 45, 'breadstick': 1, 'accurate': 9, 'description': 21, 'detracted': 3, 'midweek': 3, 'succeed': 6, 'finicky': 3, 'members': 31, 'scared': 18, 'ethnic': 19, 'baggies': 1, 'downside': 41, 'muddy': 4, 'shoes': 74, 'pup': 6, 'jamba': 6, 'smoothie': 25, 'acai': 5, 'antioxidant': 1, 'smoothies': 22, 'reliable': 8, 'chances': 13, 'unknown': 7, 'goods': 36, 'panera': 3, 'pancake': 22, 'mmmm': 20, 'portabella': 6, 'gf': 34, 'burp': 1, 'chair': 36, 'simplicity': 2, 'sweetheart': 5, 'pechuga': 1, 'pupusa': 9, 'locoye': 1, 'blocks': 26, 'wake': 16, 'eff': 3, 'brewery': 27, 'mabe': 2, 'jobs': 18, 'bj': 5, 'gluten': 35, 'talented': 12, 'amanda': 14, 'planb': 1, 'dpov': 1, 'unhappy': 11, 'tag': 22, 'ballin': 1, 'budget': 32, 'lanterns': 2, 'horoscope': 1, 'mat': 7, 'teal': 3, 'vicinity': 5, 'peking': 7, 'pu': 2, 'consisting': 3, 'eggroll': 4, 'skewer': 2, 'glazed': 18, 'disclaimer': 5, 'preggers': 1, 'developed': 11, 'dislike': 15, 'hated': 17, 'requisite': 3, 'fortune': 10, 'kabob': 14, 'shish': 3, 'equally': 48, 'shaking': 6, 'sumac': 1, 'shirazi': 1, 'encounter': 9, 'bocca': 11, 'underserved': 1, 'demographic': 6, 'canteen': 8, 'twenties': 1, 'chic': 28, 'lie': 18, 'ups': 15, 'daiquiri': 2, 'masquerading': 2, 'loads': 13, 'latin': 6, 'suggestion': 29, 'emphasize': 2, 'minimize': 3, 'verges': 1, 'contextualize': 1, 'comments': 16, 'suited': 7, 'jaeger': 1, 'yelpers': 44, 'suspect': 7, 'suffers': 2, 'complains': 4, 'cordial': 4, 'pains': 4, 'issuing': 1, 'harsh': 13, 'judgments': 1, 'jeopardize': 1, 'shuttle': 23, 'avoid': 71, 'enchanting': 2, 'nightcap': 2, 'moody': 5, 'iterations': 1, 'shoppe': 2, 'baguettes': 3, 'cards': 36, 'premises': 5, 'gyros': 26, 'nyc': 31, 'wallpaper': 7, 'threadmill': 1, 'weights': 5, 'basketball': 15, 'court': 33, 'men': 55, 'gaining': 2, 'sacks': 12, 'healthier': 21, 'van': 13, 'gogh': 3, 'alfalfa': 2, 'sprouts': 46, 'subsituted': 1, 'rye': 20, 'snuck': 2, 'stewart': 2, 'smelling': 9, 'coat': 12, 'superior': 19, 'competition': 20, 'tgi': 8, 'brim': 7, 'postino': 32, 'mondays': 11, 'tuesdays': 13, 'fingers': 28, 'outstretched': 1, 'sharing': 37, 'complementary': 7, 'glibert': 1, 'shady': 16, 'farm': 48, 'scheme': 5, 'seasoning': 40, 'helpings': 1, 'jalapenos': 41, 'partying': 4, 'paradise': 51, 'pebbles': 3, 'combos': 8, 'crave': 39, 'interactive': 5, 'heats': 1, 'celebrate': 31, 'anniversaries': 1, 'hallmark': 1, 'originally': 25, 'discovered': 42, 'reverse': 15, 'greatly': 8, 'calzones': 8, 'courtyard': 18, 'overbearing': 7, 'buys': 6, 'bestbuy': 1, 'audio': 5, 'easiest': 6, 'transition': 2, 'dime': 10, 'drawback': 14, 'theme': 28, 'execution': 8, 'scant': 3, 'commensurate': 3, 'lightrail': 4, 'accesible': 1, 'butt': 18, 'drag': 12, 'queens': 4, 'groove': 4, 'lesbian': 4, 'depending': 29, 'busier': 12, 'rue': 4, 'jeep': 3, 'marquee': 6, 'psychostick': 1, 'sing': 16, 'boobies': 1, 'narc': 1, 'fully': 52, 'steal': 22, 'toed': 1, 'boots': 8, 'dyed': 3, 'roots': 8, 'pit': 19, 'deck': 7, 'snoogen': 1, 'bfast': 1, 'unreliable': 2, 'reset': 1, 'sunny': 18, 'mbfgr': 1, 'gathering': 6, 'fiasco': 1, 'logistical': 1, 'nightmare': 13, 'digress': 12, 'ballooned': 1, 'solutions': 2, 'accommodate': 22, 'sucks': 65, 'saganaki': 1, 'combine': 10, 'knocks': 5, 'rotten': 6, 'tamale': 17, 'rancid': 5, 'stinky': 5, 'outraged': 1, 'shrugged': 5, 'rosita': 3, 'limits': 3, 'rat': 3, 'truffle': 28, 'emulsion': 1, 'shellfish': 2, 'tower': 13, 'goodies': 24, 'ocean': 19, 'moist': 80, 'jus': 11, 'refused': 22, 'sommelier': 8, 'skipped': 14, 'pull': 40, 'napkin': 7, 'flawless': 7, 'bourbon': 15, 'chicks': 7, 'fools': 5, 'mechanical': 9, 'bull': 12, 'suppose': 31, 'suspects': 5, 'cowboys': 6, 'cowgirls': 1, 'deaf': 3, 'entertainment': 37, 'edit': 10, 'rap': 6, 'sessions': 6, 'membership': 30, 'dolmas': 3, 'pitas': 6, 'spanikopita': 3, 'flaming': 6, 'festive': 13, 'custard': 36, 'carmel': 14, 'displays': 6, 'dusty': 3, 'cases': 10, 'closing': 27, 'donated': 4, 'operate': 3, 'donations': 5, 'minerals': 1, 'explore': 15, 'reply': 5, 'acknowledged': 13, 'presence': 10, 'scathing': 3, 'deplorable': 1, 'dmv': 9, 'modeled': 2, 'agonizing': 1, 'depths': 1, 'musac': 1, 'voracious': 1, 'stench': 2, 'spastic': 1, 'politicians': 1, 'campaigning': 1, 'emissions': 2, 'dmvs': 3, 'map': 8, 'precious': 8, 'fortunate': 12, 'receiving': 15, 'magnificent': 8, 'painful': 8, 'simplify': 1, 'constitutes': 2, 'public': 41, 'bathe': 2, 'massaging': 4, 'creates': 4, 'outcome': 2, 'pleasing': 9, 'scrub': 1, 'reference': 15, 'notorious': 4, 'tapping': 2, 'rocking': 9, 'forth': 11, 'clock': 11, 'anxious': 11, 'leash': 13, 'quietly': 4, 'monster': 14, 'aisles': 14, 'maintain': 9, 'tones': 4, 'calls': 26, 'stripping': 1, 'audition': 2, 'le': 9, 'continued': 23, 'woodworker': 1, 'humans': 4, 'sideways': 3, 'disappear': 4, 'quit': 10, 'hitting': 13, 'recipe': 30, 'dashing': 1, 'dreams': 9, 'gutting': 1, 'humanity': 4, 'painfully': 6, 'reeks': 3, 'underwear': 3, 'motivation': 7, 'slip': 5, 'anchors': 1, 'oft': 2, 'sink': 9, 'sigh': 10, 'tarbells': 2, 'rave': 34, 'dines': 1, 'jumbo': 11, 'caramelized': 24, 'risotto': 15, 'accessories': 20, 'wheels': 4, 'possibilities': 1, 'endless': 15, 'jalapeño': 9, 'weekday': 28, 'rotisserie': 14, 'fond': 18, 'squash': 21, 'herb': 22, 'heh': 3, 'consist': 7, 'boston': 18, 'yummers': 3, 'banh': 5, 'xeo': 1, 'proportion': 3, 'veg': 12, 'compares': 6, 'forvever': 1, 'enemies': 1, 'coliseum': 5, 'rickey': 1, 'henderson': 1, 'c': 18, 'yankee': 2, 'amaze': 4, 'facilities': 20, 'breathtaking': 5, 'nightlife': 7, 'functional': 6, 'fits': 21, 'comfortably': 7, 'infield': 2, 'aluminum': 4, 'grassy': 6, 'knoll': 1, 'rows': 11, 'struggle': 2, 'scoreboard': 2, 'centerfield': 3, 'intimidated': 6, 'enormous': 18, 'wieners': 2, 'footlong': 4, 'foul': 5, 'umbrella': 4, 'sip': 20, 'ushers': 1, 'clerks': 4, 'ways': 33, 'crosswalk': 4, 'bridge': 6, 'erected': 1, 'sole': 11, 'uhh': 2, 'elves': 1, 'village': 15, 'magical': 15, 'wonders': 6, 'tony': 9, 'spic': 1, 'span': 3, 'handles': 6, 'belts': 4, 'repairs': 7, 'widening': 1, 'lift': 10, 'frame': 5, 'freshened': 1, 'heel': 3, 'fairytales': 1, 'cobblers': 1, 'photograph': 1, 'quirky': 5, 'oriental': 5, 'noodle': 63, 'grade': 12, 'boo': 17, 'eel': 6, 'unagi': 4, 'disgusted': 7, 'exagerating': 1, 'del': 19, 'march': 18, 'microwave': 19, 'breaded': 17, 'precut': 2, 'shapes': 1, 'cafeteria': 24, 'clincher': 1, 'unsweetened': 2, 'wahoo': 1, 'jolla': 1, 'lovers': 16, 'tawnya': 1, 'samples': 33, 'confuse': 1, 'stamp': 8, 'eager': 26, 'koko': 1, 'almond': 16, 'flavoring': 6, 'soo': 17, 'larges': 2, 'loyalty': 12, 'tiki': 6, 'legal': 4, 'escaping': 4, 'female': 14, 'passerbys': 2, 'grinding': 1, 'warrant': 4, 'sausages': 14, 'yellowtail': 9, 'purple': 9, 'edges': 28, 'glittery': 4, 'silvana': 2, 'esparza': 3, 'calle': 3, 'dieciseis': 3, 'renamed': 5, 'locate': 13, 'scottsdalish': 2, 'wealthier': 1, 'hipsters': 15, 'whose': 13, 'partake': 5, 'barrio': 11, 'cashing': 1, 'bus': 39, 'rawness': 1, 'fusion': 20, 'vulgar': 1, 'language': 7, 'youtube': 1, 'pseudo': 2, 'activism': 2, 'forgotten': 23, 'upbringings': 1, 'ironic': 5, 'immigrants': 4, 'daughters': 8, 'cleaning': 43, 'landscaping': 7, 'truck': 32, 'irony': 2, 'supposedly': 17, 'plight': 1, 'downtrodden': 1, 'capitalism': 2, 'organized': 29, 'mauled': 1, 'roving': 2, 'shoppers': 7, 'seasonal': 30, 'comprehensive': 3, 'anthropologies': 1, 'lays': 1, 'perfume': 4, 'bombs': 12, 'wider': 8, 'sensitive': 6, 'noses': 1, 'racks': 12, 'mines': 5, 'sizes': 42, 'sold': 56, 'returns': 6, 'seasons': 15, 'anthropologie': 1, 'pinch': 7, 'leftover': 8, 'points': 50, 'honor': 12, 'impending': 1, 'superbowl': 5, 'xlv': 1, 'majerles': 5, 'rager': 1, 'weirdest': 1, 'mah': 2, 'jer': 1, 'lees': 2, 'mar': 3, 'rephrase': 1, 'involves': 3, 'hockey': 13, 'extreme': 12, 'surfing': 5, 'skateboarding': 1, 'lay': 15, 'spades': 1, 'perrier': 1, 'jouet': 1, 'vueve': 1, 'clicquot': 1, 'champagnes': 1, 'praised': 2, 'hilarious': 13, 'champers': 2, 'reuben': 12, 'sidling': 1, 'contact': 35, 'attitudes': 6, 'strategic': 1, 'placement': 1, 'viewing': 9, 'pleasure': 39, 'designed': 14, 'multitude': 8, 'blocking': 2, 'likey': 1, 'sporting': 20, 'tasks': 2, 'accomplished': 7, 'pane': 9, 'bianco': 66, 'celebrated': 9, 'pilgrimage': 1, 'eponymous': 1, 'radar': 3, 'schedule': 28, 'jobot': 5, 'shortly': 21, 'allocating': 1, 'juxtaposing': 1, 'debated': 3, 'opting': 4, 'awaited': 5, 'chalkboard': 7, 'sounding': 8, 'appealing': 26, 'deferred': 2, 'undeterred': 1, 'featuring': 11, 'apparel': 9, 'manchego': 10, 'giorno': 1, 'fired': 15, 'spongy': 4, 'glory': 9, 'ripe': 8, 'layer': 15, 'briny': 2, 'difara': 1, 'brooklyn': 5, 'genre': 6, 'result': 25, 'exquisite': 10, 'composition': 3, 'largely': 9, 'unmanipulated': 1, 'masterpiece': 5, 'flourless': 1, 'emerge': 2, 'organic': 57, 'candied': 11, 'simplistic': 2, 'stunner': 1, 'arborio': 1, 'imbued': 1, 'flicked': 2, 'crunch': 25, 'contender': 3, 'shadow': 2, 'prevent': 4, 'exact': 25, 'measured': 4, 'rellano': 4, 'plentiful': 27, 'accompanied': 22, 'chilantro': 1, 'batter': 37, 'oozed': 1, 'remarkable': 7, 'vital': 1, 'garnish': 11, 'drawing': 3, 'mojo': 20, 'fro': 8, 'yo': 19, 'twitter': 9, 'chalet': 11, 'indie': 7, 'amid': 4, 'strip': 123, 'malls': 16, 'targets': 4, 'comedy': 10, 'surveillance': 1, 'oddities': 1, 'drew': 11, 'expertly': 5, 'crafted': 10, 'circuit': 2, 'disappoint': 37, 'screens': 30, 'showcase': 5, 'crepe': 12, 'griddles': 1, 'bretonne': 1, 'landaise': 1, 'blinis': 1, 'fois': 1, 'potence': 1, 'medallions': 4, 'medieval': 2, 'mace': 2, 'tableside': 2, 'enjoyable': 33, 'raclette': 1, 'sculpted': 1, 'performances': 6, 'attended': 24, 'slated': 2, 'morbid': 1, 'curiosity': 6, 'amateur': 6, 'handsome': 4, 'classify': 3, 'outshines': 2, 'thoughtfully': 2, 'comfort': 42, 'advertise': 4, 'fingerling': 3, 'pools': 18, 'tubs': 7, 'stream': 13, 'river': 24, 'commented': 14, 'garden': 59, 'lawns': 2, 'contains': 11, 'ranchero': 3, 'brûlée': 3, 'fromage': 2, 'unorganized': 9, 'expire': 2, 'valid': 4, 'expires': 1, 'nominal': 1, 'replace': 20, 'gladly': 18, 'avoiding': 5, 'culinary': 41, 'creations': 15, 'culture': 23, 'inappropriate': 1, 'padre': 7, 'animals': 27, 'curds': 13, 'med': 6, 'blind': 7, 'moose': 1, 'thirsty': 20, 'eatery': 19, 'hurt': 32, 'waldorf': 1, 'cranberry': 15, 'scone': 8, 'slathered': 5, 'pretzel': 27, 'windy': 5, 'jungles': 2, 'fetoosh': 2, 'gazpacho': 2, 'luch': 1, 'require': 13, 'male': 24, 'shorts': 23, 'cheerleader': 1, 'blush': 2, 'blondes': 1, 'huevos': 6, 'rancheros': 3, 'manger': 2, 'cheer': 2, 'dense': 19, 'nearly': 86, 'expects': 2, 'almonds': 9, 'blueberries': 7, 'noted': 18, 'ding': 7, 'affect': 2, 'garish': 1, 'carpet': 12, 'aesthetic': 2, 'greatness': 8, 'faux': 10, 'kung': 18, 'pao': 15, 'chilli': 5, 'togo': 2, 'celery': 15, 'equals': 4, 'nami': 1, 'oldtown': 3, 'bulbs': 6, 'replaced': 25, 'markings': 2, 'champs': 2, 'covert': 1, 'burnt': 40, 'halogens': 1, 'needles': 4, 'strbucks': 1, 'expct': 1, 'dzughter': 1, 'oly': 2, 'ge': 1, 'serive': 1, 'bookstore': 12, 'noel': 3, 'exceptionaaly': 1, 'nor': 40, 'weren': 1, 'switched': 13, 'petes': 1, 'happen': 71, 'preparation': 23, 'spelling': 5, 'typing': 2, 'iphone': 14, 'pellchck': 1, 'desirable': 3, 'lacked': 28, 'junk': 16, 'sought': 4, 'operated': 10, 'prefered': 1, 'livestock': 3, 'grown': 32, 'fulfill': 7, 'ability': 13, 'anytime': 37, 'reef': 4, 'monsters': 2, 'sorting': 3, 'tailoring': 2, 'israel': 1, 'airlines': 14, 'deserves': 26, 'fly': 34, 'airways': 9, 'nobody': 23, 'complainer': 1, 'planes': 3, 'nippon': 1, 'delta': 9, 'attendants': 16, 'cry': 11, 'talibanish': 1, 'oops': 7, 'finishing': 16, 'jump': 18, 'fourth': 9, 'crappy': 21, 'buck': 26, 'gordon': 7, 'sufficient': 6, 'rounds': 12, 'darts': 10, 'mounted': 2, 'salvadorian': 1, 'pollo': 30, 'polla': 1, 'pupusas': 16, 'pastelitos': 2, 'con': 25, 'papas': 3, 'spicier': 6, 'cabbage': 36, 'screwed': 11, 'platano': 2, 'guilty': 17, 'plantain': 4, 'terrrific': 1, 'carpaccio': 7, 'busters': 1, 'lake': 15, 'history': 28, 'sicilian': 5, 'ny': 64, 'military': 6, 'cleanliness': 22, 'enforced': 1, 'maximum': 7, 'overseen': 1, 'pepperonchinis': 1, 'holds': 13, 'ridiculously': 26, 'citizens': 5, 'yumm': 7, 'buca': 13, 'beppo': 7, 'fascinated': 2, 'trinkets': 6, 'coupons': 24, 'helps': 23, 'switch': 40, 'results': 20, 'livingsocial': 5, 'purchased': 55, 'rate': 66, 'benefit': 14, 'animal': 23, 'alcoholic': 7, 'fantastically': 3, 'zombie': 2, 'hurricane': 6, 'portioned': 5, 'calamri': 1, 'fishy': 14, 'adores': 1, 'trains': 7, 'display': 26, 'stationary': 3, 'bento': 10, 'afterward': 11, 'nervous': 23, 'tardy': 1, 'herbed': 5, 'declined': 9, 'celiac': 1, 'disease': 4, 'caprese': 20, 'mozza': 1, 'fontina': 11, 'pancetta': 10, 'marsala': 6, 'questionable': 9, 'impeccable': 22, 'priority': 4, 'vibrate': 1, 'uye': 6, 'julia': 4, 'highway': 6, 'robbery': 1, 'alarming': 2, 'slyly': 1, 'kazillion': 1, 'consisted': 16, 'individual': 29, 'chihuahua': 1, 'tablespoons': 2, 'booze': 21, 'frosty': 5, 'slipped': 6, 'fellas': 1, 'bs': 10, 'thursdays': 8, 'sundays': 25, 'karaoke': 27, 'forbidden': 8, 'amsterdam': 1, 'cheers': 16, 'whatsoever': 12, 'patios': 12, 'halloween': 12, 'bash': 3, 'trend': 8, 'steakhouse': 29, 'butcher': 13, 'drum': 6, 'printed': 9, 'clueless': 7, 'passable': 4, 'ipa': 21, 'markup': 4, 'ribeye': 21, 'drowned': 9, 'cauliflower': 8, 'powered': 4, 'allergic': 13, 'peanuts': 20, 'wines': 66, 'tuck': 11, 'sous': 3, 'vide': 1, 'orangecello': 1, 'projectors': 1, 'drafts': 14, 'shuffleboard': 3, 'tee': 13, 'useless': 7, 'sarcasm': 7, 'recharge': 1, 'waitresses': 39, 'cleavage': 2, 'supplemented': 1, 'silver': 16, 'exceeded': 15, 'jack': 36, 'daniels': 2, 'relleno': 19, 'agua': 4, 'horchata': 25, 'tres': 5, 'leches': 1, 'striploin': 1, 'donovan': 2, 'ca': 29, 'package': 30, 'keg': 13, 'barbers': 4, 'westside': 5, 'ely': 1, 'barber': 15, 'quantity': 18, 'abbaye': 1, 'bellocq': 1, 'taleggio': 1, 'caravaggio': 1, 'pate': 8, 'cornichons': 1, 'dijon': 3, 'mustard': 49, 'baguette': 10, 'zach': 2, 'dislikes': 2, 'steered': 6, 'direction': 11, 'paired': 19, 'cakebread': 1, 'sauvignon': 7, 'blanc': 10, 'peas': 26, 'breast': 33, 'atop': 16, 'blackberry': 9, 'gastrique': 2, 'caught': 42, 'delas': 1, 'cotes': 2, 'du': 3, 'rhone': 4, 'whatta': 1, 'restrictions': 8, 'obliged': 7, 'crème': 4, 'apparent': 7, 'starch': 2, 'equal': 15, 'ratios': 1, 'minded': 9, 'dutch': 5, 'bros': 5, 'holiday': 24, 'memorial': 11, 'americano': 9, 'proportions': 4, 'chai': 33, 'ngd': 6, 'tears': 12, 'removed': 13, 'visually': 5, 'chemical': 2, 'unseen': 2, 'elf': 1, 'carton': 6, 'contents': 4, 'boiling': 4, 'cauldron': 2, 'furthermore': 6, 'appears': 33, 'labeling': 2, 'optimized': 1, 'routes': 5, 'outlying': 1, 'gentleman': 15, 'properly': 30, 'glassware': 4, 'silverware': 16, 'recycled': 2, 'container': 18, 'material': 8, 'radio': 11, 'buttered': 4, 'carnivore': 5, 'omnivore': 2, 'herbivore': 1, 'accoutrements': 1, 'midway': 1, 'melrose': 6, 'tone': 12, 'obscene': 3, 'reality': 9, 'armed': 3, 'cust': 1, 'rushed': 35, 'unplesant': 1, 'showing': 30, 'pajamas': 5, 'bilinis': 1, 'maria': 6, 'clue': 20, 'ruins': 5, 'cougar': 2, 'acting': 4, 'wherever': 11, 'embarrassed': 13, 'gee': 3, 'carryout': 2, 'carniceria': 2, 'sonora': 12, 'mural': 7, 'goddamn': 5, 'primera': 1, 'division': 1, 'dos': 31, 'equis': 5, 'tougher': 3, 'taquitos': 11, 'buff': 2, 'sunflower': 10, 'unpleasant': 15, 'bussers': 3, 'inches': 17, 'load': 26, 'trays': 6, 'refiller': 1, 'divider': 1, 'mimosas': 14, 'weds': 2, 'faucets': 2, 'slam': 7, 'sprays': 2, 'sporadically': 1, 'foodies': 12, 'existed': 8, 'grenache': 2, 'omelette': 17, 'fetash': 1, 'harvest': 5, 'scrambled': 15, 'hill': 16, 'girdle': 1, 'muffins': 18, 'jars': 8, 'gifts': 24, 'dumpy': 3, 'therefore': 20, 'warmer': 12, 'awarded': 3, 'attracted': 7, 'coolness': 4, 'accessibility': 1, 'wheelchair': 1, 'desk': 50, 'printouts': 1, 'tailored': 5, 'individually': 10, 'astounding': 3, 'swine': 1, 'cereals': 2, 'million': 21, 'definition': 13, 'woohoo': 12, 'distinctiveness': 1, 'cult': 1, 'folding': 6, 'ithey': 1, 'clanging': 1, 'whispering': 1, 'reclined': 2, 'hurting': 4, 'readjust': 1, 'progressively': 2, 'apologizes': 2, 'forgiveable': 2, 'serioulsy': 1, 'scarf': 5, 'perks': 6, 'scones': 6, 'wildflower': 16, 'prepare': 32, 'wade': 1, 'onslaught': 2, 'cliques': 1, 'officer': 4, 'window': 59, 'cushy': 2, 'holders': 6, 'soles': 1, 'railing': 4, 'perch': 1, 'cilantro': 47, 'charged': 48, 'aqua': 3, 'genuinely': 16, 'cliff': 3, 'carrabas': 1, 'detox': 2, 'zin': 6, 'wednesdays': 13, 'promptly': 39, 'science': 22, 'sciences': 1, 'counts': 6, 'bachelors': 1, 'phd': 1, 'holding': 23, 'physicists': 1, 'studied': 2, 'electrical': 3, 'engineering': 5, 'cast': 9, 'bang': 17, 'theory': 9, 'proud': 12, 'exhibits': 11, 'appealed': 2, 'solarville': 1, 'exhibit': 16, 'conservation': 1, 'household': 5, 'reduce': 6, 'impact': 6, 'forces': 2, 'nature': 18, 'technology': 3, 'electricity': 1, 'naturally': 17, 'engineer': 1, 'knowledge': 29, 'museum': 23, 'covers': 8, 'systems': 7, 'human': 17, 'blows': 8, 'objects': 6, 'neuroscience': 1, 'tests': 5, 'admission': 11, 'films': 10, 'extras': 13, 'imax': 9, 'planetarium': 4, 'pirate': 2, 'groups': 34, 'cleared': 14, 'schoolers': 2, 'scream': 8, 'naming': 2, 'makeover': 5, 'frontier': 1, 'marketing': 9, 'gurus': 1, 'potential': 29, 'category': 14, 'vaguely': 5, 'insulting': 3, 'caricatures': 1, 'yings': 1, 'horrific': 2, 'puns': 1, 'inspire': 4, 'confidence': 9, 'elephant': 9, 'reversed': 1, 'suspiciously': 2, 'parasitic': 1, 'elephantiasis': 1, 'overcome': 2, 'biases': 1, 'whitewashed': 1, 'dimmed': 1, 'background': 25, 'suns': 9, 'present': 22, 'belies': 1, 'jon': 4, 'tess': 1, 'charlie': 17, 'erin': 4, 'kathleen': 1, 'heritage': 8, 'piazza': 1, 'forno': 4, 'longest': 7, 'lifesaver': 1, 'ventured': 19, 'geisha': 6, 'hiked': 9, 'winded': 2, 'sunrise': 3, 'vertical': 2, 'metro': 35, 'darn': 48, 'improvement': 11, 'significant': 12, 'leaning': 3, 'scrumptious': 17, 'mignon': 16, 'durant': 10, 'sundae': 18, 'aloof': 3, 'fawning': 2, 'spicey': 4, 'hostesses': 16, 'father': 20, 'nicole': 5, 'auctioned': 2, 'tobasco': 1, 'coq': 1, 'au': 21, 'vin': 2, 'address': 33, 'finger': 26, 'rule': 18, 'affected': 4, 'thriving': 3, 'praising': 1, 'sank': 1, 'waders': 1, 'saved': 33, 'greene': 7, 'quoted': 15, 'edge': 22, 'facing': 13, 'spite': 6, 'waving': 3, 'nine': 13, 'logic': 3, 'escaped': 4, 'amazement': 1, 'spontaneous': 2, 'indicated': 7, 'begining': 1, 'suffer': 3, 'uninspired': 9, 'dozen': 56, 'radius': 5, 'dozens': 13, 'phoeniz': 1, 'earned': 17, 'thunder': 3, 'dan': 13, 'excitement': 14, 'buzzing': 7, 'buzzer': 2, 'beater': 2, 'misses': 5, 'faithful': 4, 'zipps': 11, 'bing': 2, 'bachelorette': 5, 'expense': 5, 'regional': 9, 'pitfall': 1, 'annual': 7, 'intensity': 3, 'biking': 7, 'surrounded': 14, 'serene': 4, 'hopes': 25, 'surly': 5, 'automated': 1, 'interacting': 1, 'prints': 6, 'envelopes': 4, 'stamped': 2, 'letters': 5, 'zip': 4, 'netflix': 6, 'addict': 9, 'repulsive': 2, 'appauling': 1, 'overrated': 8, 'shut': 21, 'cdc': 1, 'jist': 1, 'moves': 7, 'plane': 21, 'understatement': 3, 'pans': 2, 'lattes': 12, 'shaped': 14, 'university': 19, 'ash': 5, 'blank': 7, 'mixers': 8, 'opted': 49, 'cue': 5, 'inability': 4, 'questioned': 5, 'tally': 3, 'artsy': 5, 'standouts': 7, 'adobo': 11, 'marg': 5, 'tablemates': 1, 'raved': 31, 'sufficiently': 3, 'stiff': 10, 'carburetor': 2, 'ph': 2, 'lax': 5, 'ls': 1, 'boba': 44, 'pistachio': 12, 'diner': 43, 'absent': 4, 'fajitas': 29, 'buisness': 1, 'fax': 2, 'electronics': 5, 'lab': 7, 'optical': 2, 'department': 48, 'clearancing': 1, 'merchandise': 10, 'shelves': 22, 'gasoline': 1, 'pumps': 5, 'satified': 2, 'cancel': 7, 'prorate': 1, 'refund': 17, 'policy': 10, 'corned': 21, 'zuch': 1, 'driest': 1, 'kitschy': 7, 'slim': 13, 'motel': 11, 'lodge': 14, 'motels': 1, 'claim': 29, 'plush': 9, 'mini': 72, 'fridge': 14, 'cranking': 2, 'continental': 8, 'ufo': 1, 'mecca': 7, 'levy': 2, 'legendary': 5, 'nita': 1, 'hideaway': 6, 'stateside': 4, 'presents': 5, 'unite': 1, 'thrive': 4, 'djs': 2, 'westin': 4, 'muddled': 4, 'cosmos': 2, 'stronger': 7, 'uniqueness': 3, 'mambo': 1, 'ceviches': 1, 'escabeche': 1, 'mixto': 2, 'clasico': 1, 'ruby': 8, 'empanada': 4, 'jidori': 1, 'cider': 22, 'syrupy': 4, 'cloudy': 2, 'concoction': 16, 'brewer': 4, 'taster': 2, 'chat': 26, 'mario': 5, 'feta': 35, 'pile': 25, 'immensely': 3, 'clatter': 1, 'tikka': 12, 'masala': 19, 'phenomenal': 36, 'snagged': 4, 'bananoffee': 1, 'threw': 31, 'raving': 15, 'torta': 39, 'cubana': 3, 'tortas': 16, 'los': 49, 'reyes': 5, 'st': 27, 'hatcher': 1, 'nopalito': 3, 'thomas': 18, 'bosnian': 1, 'courteous': 21, 'specialty': 59, 'kitty': 7, 'harajuku': 2, 'hopping': 15, 'jen': 15, 'searching': 21, 'consultation': 4, 'furry': 6, 'critters': 5, 'interactions': 4, 'cats': 22, 'understands': 6, 'petsitter': 1, 'teams': 3, 'foreign': 4, 'hoards': 2, 'wisconsin': 11, 'minnesota': 3, 'illinois': 1, 'dukes': 3, 'tundras': 1, 'cardinals': 6, 'devils': 4, 'coyotes': 6, 'taps': 9, 'aquariums': 1, 'rundown': 9, 'philly': 21, 'distribution': 3, 'creamer': 3, 'latino': 2, 'celebrations': 2, 'creeps': 1, 'ournces': 1, 'substantial': 9, 'ounces': 8, 'rissoto': 1, 'delightfully': 5, 'tart': 39, 'mugged': 2, 'essentials': 6, 'toilets': 3, 'dbg': 8, 'openings': 2, 'meetings': 4, 'bloom': 3, 'butterfly': 7, 'butterflies': 5, 'yellow': 40, 'striped': 2, 'pavillion': 2, 'kiosk': 6, 'puppet': 2, 'photography': 9, 'widow': 1, 'chronic': 2, 'tenant': 2, 'lock': 9, 'paint': 15, 'lied': 6, 'socal': 3, 'multicultural': 1, 'camper': 5, 'legit': 20, 'salvadoreno': 3, 'authenticity': 8, 'disconcerting': 2, 'revueltas': 1, 'loroco': 1, 'accompanying': 13, 'sinfully': 7, 'surely': 13, 'albertos': 1, 'morrow': 1, 'seed': 10, 'madeleine': 1, 'canned': 21, 'minimum': 18, 'bananas': 14, 'organics': 4, 'carbonara': 5, 'freshest': 10, 'visitors': 17, 'providing': 18, 'organizes': 1, 'joining': 9, 'mailing': 6, 'facebook': 14, 'page': 21, 'hoa': 4, 'reunion': 3, 'branch': 12, 'apprehensive': 7, 'maintained': 15, 'intestines': 1, 'rupture': 1, 'dissipated': 3, 'born': 10, 'vietnam': 9, 'traveled': 13, 'happiest': 2, 'hkgb': 2, 'munch': 8, 'veer': 2, 'steep': 24, 'grazing': 3, 'lisette': 1, 'wicked': 9, 'josh': 4, 'commend': 2, 'sleek': 10, 'ipas': 3, 'marks': 9, 'revered': 1, 'dfh': 1, 'sophisticated': 7, 'mingling': 2, 'libations': 3, 'goodcents': 4, 'walnuts': 11, 'balance': 38, 'rotated': 1, 'yelled': 6, 'frosting': 40, 'expand': 4, 'roundtrip': 1, 'maricopa': 6, 'summit': 8, 'offroad': 1, 'favorable': 4, 'phat': 2, 'chestnuts': 2, 'wrapping': 8, 'brands': 16, 'companies': 16, 'chestnut': 4, 'dinners': 13, 'acclimating': 1, 'novelty': 10, 'edibles': 2, 'intriguingly': 1, 'foodstuffs': 3, 'markets': 11, 'meticulously': 4, 'greenery': 2, 'aug': 3, 'reserved': 17, 'respective': 1, 'direct': 9, 'placards': 3, 'hosted': 5, 'macmillan': 3, 'kevin': 11, 'binkley': 4, 'obtrusive': 3, 'chilled': 13, 'entrée': 6, 'huckleberry': 7, 'anthony': 5, 'andre': 12, 'brunel': 1, 'cote': 1, 'pietro': 1, 'rinaldi': 2, 'moscato': 7, 'riesling': 6, 'demonstrated': 3, 'involved': 16, 'charred': 18, 'chantrell': 1, 'demo': 4, 'p': 16, 'entertained': 17, 'lunchtime': 15, 'recipes': 8, 'raffles': 1, 'prizes': 2, 'caramel': 47, 'brownies': 15, 'sanctuary': 8, 'ceremony': 3, 'ballroom': 7, 'unbearably': 1, 'bride': 7, 'groom': 2, 'observing': 2, 'jade': 18, 'overlooked': 7, 'stairs': 11, 'hors': 3, 'backdrop': 1, 'reception': 14, 'flowing': 14, 'planner': 2, 'caterer': 1, 'delux': 20, 'craziness': 6, 'outta': 10, 'crispier': 5, 'peanuty': 1, 'worried': 28, 'ashamed': 9, 'pig': 19, 'joy': 19, 'hawaii': 5, 'snow': 20, 'mainlanders': 1, 'puppy': 10, 'quarts': 2, 'punches': 3, 'birthdays': 8, 'stingray': 8, 'indoors': 12, 'nick': 7, 'jokes': 9, 'incorporation': 1, 'spokane': 1, 'granddaughter': 2, 'diverse': 18, 'skillets': 2, 'omelets': 8, 'varieties': 24, 'fettucine': 3, 'meatballs': 31, 'retailers': 8, 'nw': 8, 'catalog': 3, 'expanded': 8, 'rank': 9, 'dreaming': 5, 'ikea': 18, 'angels': 4, 'hallowed': 1, 'poorer': 4, 'furnishings': 8, 'child': 42, 'appeal': 16, 'specifically': 28, 'babies': 5, 'insanely': 8, 'pillows': 14, 'essentially': 17, 'brentwood': 1, 'copied': 3, 'fo': 8, 'concentrate': 7, 'afterthought': 4, 'phoenicians': 6, 'joys': 3, 'associated': 6, 'eric': 6, 'clapton': 1, 'adapted': 2, 'testing': 4, 'opine': 1, 'soggier': 1, 'knocking': 5, 'ignoring': 5, 'tasteless': 34, 'retaining': 1, 'substituting': 3, 'freaky': 3, 'onsite': 6, 'spotty': 10, 'translation': 3, 'phony': 1, 'overpowering': 9, 'explains': 12, 'understandable': 13, 'hickory': 2, 'rudy': 5, 'settled': 20, 'backyard': 12, 'evolve': 3, 'rudys': 2, 'tuned': 7, 'dilemma': 5, 'shiverrrrrrrrrrrrr': 1, 'promblem': 1, 'solved': 3, 'candace': 4, 'dzn': 1, 'mins': 37, 'gazpacheo': 2, 'crustini': 3, 'cuz': 32, 'x': 9, 'specialties': 8, 'drinker': 19, 'sav': 1, 'zealand': 3, 'fabby': 1, 'fairgrounds': 2, 'derby': 2, 'whoop': 5, 'sapporo': 11, 'discounts': 11, 'diver': 1, 'teppanyaki': 3, 'n': 34, 'energetic': 6, 'lux': 25, 'july': 19, 'mason': 9, 'beforehand': 9, 'boxing': 15, 'stupor': 2, 'rockabilly': 2, 'oldies': 3, 'lessons': 6, 'bet': 27, 'sis': 2, 'detour': 1, 'sprite': 6, 'stole': 8, 'touched': 10, 'w': 48, 'tejano': 1, 'delicous': 5, 'regretted': 4, 'richie': 2, 'following': 40, 'butters': 4, 'chantilly': 3, 'pillow': 4, 'occassions': 4, 'strengthens': 1, 'ot': 3, 'doublewide': 1, 'foundation': 3, 'northeastern': 1, 'lacks': 20, 'itchin': 2, 'substandard': 5, 'marginally': 2, 'inflated': 6, 'gigantic': 23, 'slept': 4, 'chaise': 4, 'toliet': 2, 'console': 1, 'spirits': 10, 'clarendon': 6, 'modernized': 2, 'buzzed': 4, 'alert': 10, 'elote': 3, 'teeth': 29, 'sunk': 2, 'spit': 10, 'hasty': 3, 'ohhhh': 2, 'distrito': 5, 'scope': 7, 'designer': 14, 'gumball': 1, 'saguaro': 10, 'guac': 32, 'radish': 5, 'zing': 6, 'dives': 15, 'dungy': 1, 'portguese': 1, 'centurion': 1, 'guarding': 1, 'wished': 18, 'padded': 1, 'banko': 1, 'puff': 11, 'grapes': 11, 'portugal': 1, 'cutie': 2, 'gloomly': 1, 'lola': 12, 'mozarella': 3, 'flaky': 10, 'sop': 2, 'donec': 1, 'obviam': 1, 'redimus': 1, 'dynamite': 4, 'bloodymarys': 1, 'sunglasses': 6, 'influencing': 1, 'cappicola': 2, 'rojo': 1, 'patties': 22, 'twister': 1, 'sweetener': 2, 'tilapia': 11, 'marinades': 2, 'insane': 10, 'saigon': 6, 'shaken': 6, 'diced': 9, 'global': 3, 'brownie': 38, 'appitite': 1, 'silvermine': 3, 'fanciest': 2, 'bullion': 1, 'heartbeat': 5, 'romano': 1, 'quitting': 3, 'squishing': 1, 'aloha': 1, 'attendee': 2, 'refreshed': 5, 'expo': 1, 'vestibule': 1, 'showcased': 3, 'shuttled': 2, 'visibility': 2, 'savings': 13, 'deterred': 1, 'faces': 19, 'broth': 64, 'hearty': 24, 'flattened': 4, 'finesse': 1, 'indoor': 33, 'noir': 9, 'syrah': 2, 'spotted': 11, 'prado': 4, 'impression': 33, 'nightly': 5, 'bore': 3, 'spain': 5, 'encourage': 16, 'bon': 7, 'appetite': 24, 'lacking': 46, 'noodlee': 1, 'insurance': 26, 'progress': 10, 'occassion': 1, 'arises': 1, 'prove': 6, 'pray': 3, 'alexa': 2, 'responded': 9, 'neglected': 6, 'underwhelming': 8, 'lengthwise': 2, 'easier': 29, 'friendliest': 14, 'lotus': 5, 'ikura': 2, 'mayo': 59, 'overcharged': 7, 'apology': 22, 'coworker': 26, 'heated': 16, 'shrink': 1, 'allow': 33, 'rene': 1, 'hygenist': 1, 'gentle': 11, 'keith': 2, 'blended': 11, 'mocha': 23, 'flavour': 9, 'tarte': 2, 'krav': 1, 'maga': 1, 'react': 2, 'defense': 2, 'rds': 5, 'instructors': 19, 'beginner': 5, 'untrained': 4, 'smacking': 1, 'sweaty': 7, 'fists': 3, 'intense': 14, 'saving': 30, 'skill': 3, 'fitter': 1, 'flippant': 1, 'legally': 5, 'claims': 10, 'explaining': 13, 'nutrition': 6, 'guru': 1, 'andrew': 8, 'weil': 4, 'philosophies': 2, 'sacrifice': 3, 'elixir': 3, 'refresher': 2, 'gorgonzola': 13, 'mild': 36, 'dumplings': 30, 'pureed': 3, 'cod': 10, 'measure': 9, 'increasingly': 3, 'fox': 24, 'empire': 3, 'apples': 18, 'aims': 3, 'lofty': 2, 'goal': 6, 'importance': 4, 'mainstream': 6, 'shun': 1, 'babbo': 4, 'downfall': 7, 'kneels': 1, 'darkness': 4, 'coves': 1, 'storage': 4, 'assign': 1, 'woke': 11, 'squeeze': 15, 'amidst': 3, 'clad': 2, 'efforts': 7, 'succumbing': 2, 'pops': 9, 'nostalgia': 5, 'toothpick': 1, 'transform': 2, 'weeds': 2, 'stewed': 2, 'participate': 4, 'continuation': 1, 'j': 28, 'cfs': 1, 'encompasses': 1, 'oozing': 10, 'dollop': 5, 'caper': 4, 'achieved': 3, 'devastated': 1, 'fearless': 1, 'organizer': 1, 'arranged': 8, 'cycle': 8, 'purports': 1, 'riders': 4, 'brusquely': 1, 'directed': 9, 'wandered': 6, 'portlands': 1, 'bikers': 5, 'carly': 5, 'freely': 1, 'macaroni': 24, 'auction': 2, 'dearth': 1, 'german': 42, 'krakauer': 1, 'wurst': 1, 'bratwurst': 6, 'schweizer': 1, 'schnitzel': 11, 'spare': 16, 'appeared': 38, 'reduced': 6, 'rectified': 1, 'subsequently': 5, 'modified': 4, 'reflect': 8, 'honesty': 7, 'behold': 6, 'procedure': 12, 'utilized': 1, 'sear': 2, 'overcooking': 1, 're': 7, 'sogginess': 1, 'hmm': 17, 'draw': 21, 'comparison': 23, 'deserved': 17, 'naan': 21, 'austin': 9, 'killing': 9, 'louis': 6, 'chives': 3, 'flatbread': 27, 'tandoori': 12, 'intake': 3, 'memorized': 1, 'bicycle': 5, 'lulus': 1, 'accessbile': 1, 'tomorrow': 20, 'convertables': 1, 'zoomed': 1, 'blasting': 5, 'hop': 21, 'psyched': 2, 'arrival': 11, 'pinks': 1, 'dominate': 2, 'palate': 14, 'rubber': 5, 'duckies': 1, 'merch': 1, 'stripes': 2, 'xl': 2, 'lovingly': 2, 'displayed': 8, 'domes': 1, 'carrot': 21, 'blonde': 14, 'mercy': 2, 'dodging': 2, 'ingrediants': 3, 'sprinkles': 33, 'dairy': 19, 'icings': 1, 'melissa': 3, 'samplings': 2, 'bubble': 13, 'dotted': 1, 'suckers': 3, 'bazillion': 2, 'rickeys': 1, 'delectables': 1, 'shaded': 8, 'pond': 17, 'savoured': 2, 'naughty': 4, 'logo': 5, 'hyped': 8, 'southern': 30, 'mcklintock': 1, 'fallout': 2, 'lighted': 2, 'listing': 7, 'frosted': 6, 'thirty': 4, 'percent': 5, 'krispy': 7, 'kreme': 6, 'forty': 3, 'sticks': 24, 'basement': 7, 'idiots': 8, 'reopened': 2, 'nile': 1, 'cochinita': 13, 'pibil': 2, 'tinier': 2, 'cali': 7, 'deliciousness': 11, 'fundido': 8, 'cheesey': 2, 'whaaaat': 1, 'spackle': 2, 'churros': 4, 'buddies': 7, 'forewarned': 8, 'spendy': 4, 'shoestring': 5, 'outback': 11, 'groovy': 2, 'carmax': 1, 'spawned': 1, 'appraisal': 3, 'kelley': 1, 'hassle': 8, 'dealership': 2, 'thunk': 3, 'cibatta': 2, 'blossom': 11, 'lavender': 8, 'hibiscus': 2, 'apricot': 7, 'rosehips': 1, 'roma': 8, 'kilo': 1, 'swirl': 9, 'complement': 8, 'solo': 12, 'oozy': 1, 'overkill': 4, 'hybrid': 7, 'trick': 5, 'hanny': 3, 'skeleton': 1, 'intact': 4, 'grouper': 4, 'primo': 3, 'confused': 33, 'boneless': 6, 'saucy': 8, 'nail': 47, 'pedicures': 6, 'deluxe': 12, 'designs': 7, 'applied': 7, 'coffees': 7, 'abhor': 1, 'putrid': 1, 'mop': 2, 'sweep': 2, 'windex': 1, 'applaud': 4, 'cathedral': 4, 'decade': 9, 'mechanic': 3, 'owning': 4, 'cheaply': 3, 'downloaded': 1, 'mobile': 12, 'harlow': 3, 'variations': 4, 'bump': 6, 'char': 21, 'steam': 14, 'smokey': 9, 'sources': 3, 'patty': 23, 'national': 21, 'tailgates': 1, 'pickle': 22, 'unclear': 4, 'external': 3, 'source': 7, 'fires': 4, 'produced': 4, 'forte': 2, 'chuck': 9, 'condiments': 23, 'skeptical': 13, 'condiment': 13, 'grinning': 2, 'bearing': 3, 'zucchini': 27, 'concealed': 3, 'crossword': 1, 'puzzle': 1, 'halcyon': 1, 'undergraduate': 1, 'afternoons': 7, 'houseshow': 1, 'homework': 6, 'professors': 6, 'honors': 1, 'hipster': 26, 'gamut': 1, 'population': 4, 'coffeeshop': 3, 'depend': 2, 'evolved': 3, 'generations': 3, 'lt': 1, 'delivers': 17, 'reminisce': 2, 'timers': 6, 'bold': 16, 'marinade': 3, 'absorbed': 2, 'receive': 37, 'fieri': 1, 'suprised': 4, 'fabric': 5, 'tolerable': 8, 'crafts': 2, 'sherpas': 1, 'amore': 2, 'supported': 5, 'recognized': 7, 'truffles': 8, 'burned': 23, 'endeavors': 2, 'wussies': 1, 'bush': 5, 'evidently': 4, 'creativity': 19, 'korma': 3, 'kadai': 1, 'vindaloo': 3, 'paneer': 4, 'mattar': 1, 'malai': 1, 'methi': 1, 'fenugreek': 1, 'dahi': 1, 'vada': 1, 'haphazardly': 2, 'bollywood': 7, 'pluses': 4, 'fwith': 1, 'buffets': 16, 'vegetarians': 8, 'manchurian': 2, 'chana': 2, 'harshly': 2, 'l': 18, 'earrings': 6, 'imaginable': 5, 'coin': 10, 'routine': 10, 'clips': 4, 'assured': 19, 'leary': 2, 'fibbertygibbet': 1, 'butchering': 1, 'accomplish': 2, 'gunny': 1, 'seagulls': 1, 'clippers': 1, 'earl': 4, 'spices': 43, 'chaat': 2, 'masalas': 2, 'rices': 2, 'paneers': 1, 'stylish': 9, 'upholstered': 1, 'plugs': 4, 'web': 5, 'fh': 3, 'croissant': 17, 'ordinary': 20, 'parfait': 3, 'highchair': 2, 'lap': 9, 'build': 21, 'civic': 5, 'freshnewssness': 1, 'nectar': 3, 'gods': 5, 'melt': 35, 'seek': 8, 'pertinacious': 1, 'yelps': 4, 'obligated': 5, 'tuneup': 1, 'demonstrating': 1, 'deserving': 4, 'overnight': 9, 'craigslist': 2, 'protip': 2, 'bmx': 2, 'track': 27, 'jumps': 2, 'texting': 5, 'talkative': 6, 'extrovert': 1, 'nypd': 8, 'topic': 6, 'unsuccessful': 3, 'leading': 9, 'teeming': 4, 'birdlife': 1, 'abundant': 3, 'blooming': 2, 'succulents': 1, 'wandering': 11, 'oysters': 27, 'casey': 16, 'expansive': 1, 'clientele': 25, 'regulars': 35, 'ages': 17, 'backgrounds': 2, 'students': 34, 'faculty': 4, 'westcor': 3, 'updating': 9, 'dick': 15, 'anchor': 6, 'applebee': 5, 'attracts': 4, 'sky': 35, 'macy': 13, 'mervyn': 1, 'jc': 3, 'sears': 8, 'formally': 1, 'montgomery': 1, 'wards': 1, 'dillards': 6, 'chevy': 5, 'johnny': 11, 'rockets': 3, 'miracle': 9, 'sephora': 3, 'disney': 2, 'swaroski': 1, 'jill': 2, 'vouch': 11, 'historic': 18, 'flare': 6, 'magically': 5, 'myst': 7, 'promoter': 1, 'hood': 13, 'hispanic': 9, 'averaged': 4, 'vip': 12, 'allows': 15, 'recession': 7, 'gucci': 3, 'mane': 1, 'romanos': 1, 'maggianos': 1, 'clams': 14, 'stepson': 1, 'qualified': 3, 'initial': 24, 'sec': 2, 'hangin': 1, 'apologetic': 11, 'partial': 12, 'breading': 13, 'whoopie': 2, 'tartness': 1, 'hovering': 5, 'andrea': 6, 'arrives': 19, 'responsible': 7, 'trustworthy': 3, 'solution': 15, 'historical': 4, 'pics': 17, 'governor': 1, 'gleaming': 2, 'seal': 4, 'doorway': 2, 'cuban': 29, 'atoes': 1, 'abuelo': 4, 'yellowknife': 1, 'yukon': 5, 'territory': 6, 'lollipops': 6, 'network': 15, 'rental': 23, 'freeway': 11, 'diablo': 8, 'snickerdoodle': 6, 'declining': 3, 'snapping': 3, 'gorditas': 1, 'darling': 6, 'looooooves': 1, 'ummm': 7, 'dragged': 13, 'honeybuns': 1, 'components': 1, 'drippings': 1, 'muffin': 21, 'puck': 3, 'downing': 2, 'wasted': 14, 'cell': 23, 'phones': 10, 'ipods': 1, 'volumes': 3, 'crying': 15, 'swordfight': 1, 'ego': 1, 'stroked': 1, 'cholesterol': 2, 'stunned': 5, 'macaroon': 2, 'quiche': 25, 'buyer': 6, 'remorse': 3, 'thinner': 8, 'dripping': 16, 'soppy': 1, 'forthcoming': 2, 'tight': 24, 'si': 4, 'lackluster': 13, 'faire': 1, 'poorly': 17, 'executed': 4, 'coating': 10, 'raisin': 4, 'necessarily': 16, 'ihop': 12, 'rushing': 6, 'horribly': 12, 'offended': 5, 'toasted': 56, 'brioche': 10, 'shocked': 36, 'loretta': 1, 'splitting': 14, 'uneaten': 3, 'commitment': 8, 'francis': 15, 'fraction': 4, 'pretension': 3, 'knock': 24, 'yuppie': 5, 'assuming': 16, 'theoretically': 1, 'accents': 3, 'materials': 11, 'involve': 5, 'frustration': 6, 'dearly': 3, 'verge': 5, 'nightmarish': 1, 'needlessly': 1, 'islands': 4, 'navigating': 5, 'wretched': 1, 'consideration': 7, 'impossible': 33, 'strand': 5, 'outlets': 5, 'bastions': 1, 'industrial': 14, 'hugh': 2, 'climbing': 6, 'guard': 7, 'jacuzzi': 5, 'saunas': 1, 'zumba': 4, 'conflicted': 1, 'overshadows': 1, 'remotely': 8, 'travelled': 1, 'bk': 3, 'quips': 1, 'whopper': 8, 'iike': 1, 'uniforms': 6, 'charity': 1, 'shade': 19, 'jason': 13, 'halley': 1, 'cpk': 10, 'santa': 13, 'fe': 7, 'boss': 17, 'freezing': 3, 'macalpine': 3, 'neighboring': 8, 'copyright': 2, 'mejimbo': 1, 'enterprises': 1, 'rights': 6, 'dateline': 1, 'jim': 11, 'audrey': 3, 'reportedly': 2, 'donald': 4, 'carin': 4, 'witnesses': 2, 'laughing': 22, 'bystander': 1, 'guffaw': 2, 'outburst': 1, 'related': 13, 'publication': 4, 'aloo': 4, 'tikki': 3, 'containing': 4, 'foursome': 1, 'swab': 1, 'remaining': 10, 'kahari': 1, 'substantiated': 1, 'rumored': 1, 'considerable': 1, 'spooned': 1, 'experts': 1, 'unnamed': 1, 'swordplay': 1, 'displeased': 4, 'excessive': 10, 'blog': 3, 'statement': 11, 'wimp': 3, 'sucky': 3, 'maid': 1, 'squeezed': 10, 'soups': 30, 'spiciness': 15, 'galbi': 1, 'bulgogi': 6, 'katsu': 6, 'haunted': 3, 'moore': 9, 'casper': 1, 'compromise': 4, 'student': 19, 'convenient': 67, 'slew': 3, 'angstful': 1, 'stoic': 1, 'gothic': 2, 'oyster': 10, 'aphrodisiac': 1, 'dates': 35, 'cram': 3, 'divey': 5, 'checkers': 1, 'undoubtedly': 3, 'bothersome': 4, 'humid': 2, 'handy': 16, 'ole': 4, 'azkaban': 1, 'joyfully': 1, 'degrees': 26, 'gritty': 4, 'blame': 18, 'watched': 34, 'ignored': 26, 'mia': 20, 'leaned': 2, 'calm': 17, 'treating': 3, 'communicate': 5, 'telephone': 3, 'beside': 7, 'overrode': 2, 'prisoners': 1, 'usain': 1, 'bolt': 4, 'asks': 27, 'pheonix': 2, 'died': 8, 'requirements': 1, 'friendliness': 9, 'hooters': 10, 'smack': 7, 'dab': 6, 'kit': 5, 'yuzu': 3, 'bergamot': 2, 'moisturizer': 10, 'soaps': 4, 'kits': 1, 'bamboo': 10, 'reusable': 2, 'zippered': 2, 'clove': 2, 'lemongrass': 9, 'oatmeal': 19, 'peppermint': 6, 'tangerine': 4, 'vetivert': 1, 'grapefruit': 12, 'kelp': 1, 'stuffers': 1, 'hehe': 2, 'essential': 3, 'oils': 8, 'vitamins': 6, 'antioxidants': 1, 'synthetic': 1, 'fragrances': 1, 'sourcing': 3, 'tldr': 2, 'allot': 4, 'versatility': 1, 'scrambling': 4, 'grilling': 1, 'rico': 12, 'massive': 20, 'coupled': 4, 'beckons': 1, 'capped': 3, 'growler': 5, 'jug': 6, 'rage': 5, 'latest': 20, 'stout': 16, 'sugars': 3, 'remedied': 3, 'glimmer': 2, 'penne': 13, 'dente': 2, 'lighter': 21, 'stirred': 4, 'contrast': 9, 'demi': 1, 'slabs': 2, 'comforting': 8, 'poblano': 11, 'spoonful': 6, 'smoky': 22, 'necessary': 15, 'heaping': 6, 'skillet': 19, 'simmered': 6, 'crumbles': 4, 'southwestern': 23, 'influenced': 3, 'beachy': 1, 'discuss': 7, 'scorching': 7, 'hahah': 1, 'todd': 8, 'segway': 3, 'taught': 5, 'depressing': 5, 'perky': 3, 'tees': 5, 'rocket': 10, 'dingbat': 1, 'ringing': 3, 'susan': 6, 'kindly': 13, 'nudged': 1, 'qty': 1, 'duh': 13, 'dryer': 5, 'popcorn': 26, 'fart': 4, 'rotates': 2, 'frquently': 1, 'burt': 1, 'reynolds': 1, 'beefcake': 1, 'poster': 4, 'strore': 1, 'meaning': 23, 'bombay': 5, 'ref': 1, 'foursquare': 2, 'distracted': 7, 'respond': 5, 'torn': 13, 'falling': 22, 'cab': 11, 'bodied': 2, 'hob': 8, 'nob': 8, 'earthy': 8, 'lingo': 1, 'unofficial': 3, 'humus': 4, 'nerd': 3, 'chickpea': 1, 'roti': 6, 'garnished': 6, 'slab': 9, 'herby': 1, 'technical': 4, 'egglplant': 1, 'marked': 12, 'boasts': 6, 'pfd': 1, 'hygienist': 4, 'jackie': 3, 'yardhouse': 2, 'lane': 13, 'sloppy': 9, 'joes': 6, 'buns': 26, 'adquate': 1, 'crashed': 3, 'retrieve': 4, 'data': 3, 'americans': 11, 'brainwashed': 1, 'precede': 2, 'thankful': 10, 'jewish': 14, 'upgrades': 4, 'kiddies': 4, 'flies': 13, 'hong': 16, 'kong': 16, 'congee': 1, 'payment': 7, 'consists': 14, 'eater': 29, 'teryaki': 1, 'shrug': 5, 'shoulders': 13, 'flier': 4, 'floating': 8, 'rigatoni': 2, 'angel': 15, 'maggiano': 1, 'unfriendly': 10, 'incorrect': 3, 'transfer': 4, 'fitness': 37, 'witch': 3, 'session': 13, 'malling': 1, 'scotsdale': 1, 'dottsy': 4, 'z': 17, 'advised': 11, 'leads': 10, 'otter': 1, 'creeks': 1, 'yummmm': 3, 'approached': 12, 'comp': 15, 'mmmmms': 1, 'buttermilk': 14, 'lump': 2, 'crabmeat': 2, 'soldier': 1, 'moules': 1, 'frites': 8, 'casoulet': 1, 'crispness': 2, 'ramekin': 2, 'racing': 8, 'ultimately': 11, 'docked': 3, 'brasserie': 2, 'oooooh': 1, 'myriad': 3, 'midsummer': 1, 'marys': 7, 'chitchat': 2, 'mekong': 9, 'heavily': 11, 'advertised': 12, 'newspapers': 4, 'advertising': 9, 'eyesore': 1, 'chandeliers': 7, 'tacky': 13, 'gabriel': 1, 'har': 1, 'gow': 1, 'clumpy': 2, 'exchange': 16, 'lamest': 1, 'trademark': 1, 'internal': 1, 'organs': 2, 'tendons': 3, 'daikon': 2, 'siu': 1, 'operating': 5, 'dimsum': 2, 'banquets': 2, 'novel': 5, 'strangest': 4, 'acquired': 3, 'carimali': 1, 'breath': 20, 'cardio': 6, 'huffing': 1, 'puffing': 3, 'chump': 2, 'deceive': 1, 'hubbard': 3, 'warmth': 5, 'dedication': 2, 'instruction': 6, 'evident': 5, 'swimmer': 1, 'default': 4, 'homefries': 2, 'criminal': 1, 'alike': 4, 'expiration': 9, 'bay': 23, 'lahna': 3, 'intrude': 1, 'thoughts': 8, 'gustatory': 2, 'flashbacks': 1, 'wonderfully': 13, 'phaht': 2, 'khung': 1, 'nahm': 1, 'prik': 2, 'pow': 2, 'paste': 9, 'richly': 1, 'sauciness': 1, 'tinting': 2, 'blinded': 1, 'headlights': 2, 'tries': 19, 'tenderbelly': 1, 'offense': 7, 'gorge': 3, 'heaps': 2, 'allure': 4, 'pedi': 12, 'techs': 4, 'thorough': 18, 'neutral': 4, 'accept': 20, 'upsales': 1, 'flop': 1, 'eve': 16, 'mani': 6, 'sloppiest': 1, 'cuticles': 5, 'flinched': 1, 'slammed': 8, 'tools': 7, 'jumpy': 1, 'cuticle': 1, 'laughed': 15, 'tickles': 1, 'advantages': 2, 'hospital': 32, 'hahn': 1, 'spieker': 1, 'completly': 2, 'cyr': 1, 'whom': 6, 'venti': 1, 'sections': 9, 'spitting': 2, 'mouths': 9, 'exorbitantly': 1, 'naive': 1, 'tipping': 6, 'masto': 1, 'rocky': 7, 'wound': 13, 'farthest': 1, 'graciously': 9, 'reseated': 2, 'redeemed': 7, 'temporarily': 1, 'batch': 11, 'beefsteak': 1, 'kansas': 5, 'gratin': 9, 'grooming': 8, 'groomers': 1, 'groomed': 2, 'roys': 3, 'employ': 1, 'weekdays': 8, 'tailgating': 2, 'altogether': 10, 'perspective': 5, 'sandwiched': 5, 'surroundings': 15, 'devil': 25, 'unreal': 6, 'heavenly': 27, 'detract': 1, 'freshness': 15, 'atlantic': 4, 'northeast': 2, 'boot': 16, 'prize': 2, 'openly': 1, 'patronage': 3, 'expansion': 4, 'jettison': 2, 'daydream': 2, 'sangrita': 2, 'hug': 4, 'whatevs': 1, 'legacy': 4, 'gimmick': 8, 'representation': 3, 'trashed': 4, 'ratty': 1, 'tattered': 2, 'lamination': 1, 'hustle': 5, 'bustle': 1, 'stereotypical': 2, 'justifiable': 1, 'shanks': 1, 'proteins': 3, 'accoutrement': 1, 'skillfully': 2, 'followed': 34, 'closely': 8, 'delicately': 6, 'lends': 4, 'alice': 9, 'cooperstown': 6, 'rocker': 4, 'cooper': 3, 'vienna': 4, 'force': 15, 'fuller': 1, 'absynthe': 1, 'rainy': 8, 'risk': 16, 'filler': 3, 'disapointing': 2, 'james': 8, 'bond': 2, 'plugged': 2, 'outlet': 3, 'cord': 2, 'hazardous': 1, 'pocket': 14, 'validate': 4, 'interacts': 1, 'experiments': 1, 'bookstores': 2, 'driver': 30, 'passenger': 3, 'unlocked': 3, 'luis': 5, 'molinos': 5, 'cease': 4, 'specifics': 3, 'decipherable': 1, 'ribbon': 8, 'calculator': 1, 'tape': 3, 'correlation': 4, 'itemizations': 1, 'correlated': 1, 'guessed': 10, 'contribute': 5, 'morse': 1, 'mlb': 4, 'nba': 6, 'collectively': 1, 'gratuity': 14, 'incentive': 5, 'bald': 3, 'caucasian': 3, 'resulted': 4, 'stating': 10, 'childish': 2, 'audience': 3, 'exist': 7, 'grave': 3, 'wholly': 3, 'sh': 9, 'rediculous': 3, 'foody': 3, 'mushroms': 1, 'shallots': 3, 'lb': 14, 'shrooms': 2, 'frys': 2, 'facial': 34, 'august': 14, 'bada': 1, 'mr': 9, 'proscuitto': 5, 'downgrade': 4, 'mamma': 11, 'limp': 6, 'venezia': 4, 'ulta': 2, 'wednesay': 1, 'topppings': 1, 'hunks': 4, 'flavore': 1, 'ceaser': 2, 'ziti': 3, 'lasagne': 3, 'mozeralla': 1, 'melded': 3, 'ibites': 1, 'sooooo': 10, 'yeasty': 1, 'canollis': 1, 'disappointned': 1, 'lori': 3, 'email': 21, 'jessica': 1, 'frequent': 69, 'yucca': 3, 'victoria': 7, 'sopapillas': 1, 'colorful': 11, 'mex': 13, 'underground': 5, 'thole': 1, 'vacant': 3, 'visible': 5, 'sharpie': 2, 'duct': 1, 'tapped': 1, 'flashlight': 3, 'redneck': 1, 'whispered': 2, 'fags': 1, 'firearms': 1, 'plastered': 6, 'brothers': 9, 'casino': 16, 'jewelry': 15, 'cussing': 1, 'singers': 4, 'hicks': 1, 'shouting': 6, 'morbidly': 1, 'obese': 2, 'toothless': 2, 'tattooed': 2, 'bicker': 1, 'bitch': 13, 'pussy': 4, 'jacket': 5, 'bandana': 1, 'harley': 1, 'davidson': 1, 'gear': 21, 'buckle': 2, 'bulk': 15, 'user': 4, 'lenses': 4, 'contacts': 7, 'via': 24, 'rebate': 3, 'expos': 1, 'benefited': 2, 'honeymoon': 7, 'tahiti': 1, 'costo': 1, 'airfare': 3, 'agent': 5, 'anybody': 8, 'consistanly': 1, 'rh': 1, 'stacie': 1, 'ditz': 1, 'mushu': 2, 'zone': 16, 'shizznit': 1, 'uffffff': 1, 'delisioso': 1, 'sticklers': 4, 'gals': 9, 'newbie': 6, 'intolerant': 3, 'active': 21, 'wrongly': 1, 'accused': 3, 'dui': 2, 'abandoned': 4, 'varies': 6, 'chop': 32, 'evil': 6, 'perservering': 1, 'numbered': 3, 'difficulty': 4, 'packing': 8, 'valve': 4, 'float': 7, 'plumbing': 3, 'retail': 30, 'plumber': 3, 'seeking': 9, 'cookin': 3, 'cracker': 16, 'barrels': 5, 'barrel': 13, 'trained': 16, 'shitake': 2, 'amicable': 1, 'hoenstly': 1, 'wayyy': 2, 'phoenician': 12, 'snacked': 1, 'pacific': 3, 'chilies': 6, 'appitizers': 1, 'chivas': 1, 'sambuca': 2, 'weak': 27, 'papago': 12, 'grunt': 1, 'compadre': 1, 'dose': 13, 'expertise': 3, 'arguably': 2, 'brewpub': 5, 'showcases': 1, 'coolers': 10, 'testament': 5, 'caution': 9, 'gardiniera': 2, 'lousy': 12, 'jalapeños': 1, 'fiery': 4, 'scrape': 2, 'faith': 4, 'intend': 8, 'unwarmed': 1, 'ceramic': 5, 'incompetent': 9, 'fate': 10, 'gag': 4, 'reflex': 1, 'bears': 21, 'hairs': 6, 'tootsie': 1, 'elliot': 4, 'somehow': 40, 'finds': 14, 'speed': 20, 'pcg': 5, 'belgium': 2, 'sauerkraut': 9, 'horizon': 2, 'enjoys': 12, 'freindly': 3, 'atmoshpere': 1, 'ac': 18, 'accutemp': 1, 'enlarge': 1, 'spoil': 4, 'kindness': 4, 'multi': 2, 'excluding': 3, 'nonexistent': 3, 'disappearing': 2, 'discussing': 6, 'lameness': 2, 'newcastle': 4, 'sits': 13, 'untouched': 3, 'bellys': 1, 'aching': 1, 'fulfillment': 1, 'reveals': 1, 'hana': 8, 'strutted': 1, 'remarkably': 2, 'ensues': 1, 'devluges': 1, 'toro': 4, 'spider': 5, 'flakes': 6, 'siracha': 2, 'ending': 19, 'quest': 11, 'thereafter': 3, 'presumably': 4, 'hers': 14, 'spilled': 6, 'slips': 2, 'farewell': 2, 'diamond': 14, 'adventures': 3, 'rustler': 1, 'roost': 3, 'hrid': 2, 'bgf': 5, 'hounding': 1, 'referring': 7, 'link': 6, 'poisoning': 8, 'grousing': 2, 'forgive': 8, 'gosh': 10, 'translated': 1, 'blankity': 1, 'pity': 2, 'rooster': 1, 'buddha': 9, 'steaming': 7, 'singapore': 5, 'walnut': 18, 'gained': 3, 'agritopia': 1, 'wholesome': 5, 'milkshakes': 7, 'fills': 12, 'enchanted': 2, 'midst': 6, 'vanish': 1, 'dolls': 3, 'jetsons': 2, 'puddle': 3, 'mentioning': 11, 'indicating': 3, 'madcap': 4, 'peeps': 9, 'rested': 2, 'correctly': 18, 'avina': 3, 'spies': 1, 'chuhgajib': 1, 'grabs': 2, 'kimchi': 13, 'lpga': 2, 'television': 6, 'hottee': 1, 'paula': 2, 'depriving': 1, 'victory': 1, 'suspicious': 6, 'gyoza': 14, 'optimistic': 3, 'waaay': 2, 'liptons': 1, 'aok': 1, 'mound': 8, 'pickled': 21, 'vegables': 1, 'disappointments': 2, 'wears': 1, 'sneakers': 7, 'handled': 13, 'thunderbird': 5, 'puts': 15, 'worthy': 19, 'lions': 1, 'tigers': 1, 'monkey': 11, 'monkeys': 1, 'giraffes': 2, 'creatures': 3, 'lindsay': 2, 'grateful': 10, 'mad': 21, 'restuarant': 3, 'devine': 3, 'input': 6, 'patti': 1, 'sealed': 7, 'niece': 12, 'regarding': 13, 'pastrami': 25, 'nostalgic': 4, 'reconstituted': 1, 'stylings': 2, 'quesadillas': 20, 'lass': 1, 'guiness': 3, 'accomodate': 4, 'walkins': 1, 'blinking': 3, 'mishap': 3, 'assistance': 10, 'furnished': 3, 'overlooking': 10, 'banquet': 3, 'astonishing': 2, 'competitors': 7, 'simpsons': 1, 'cine': 1, 'capri': 2, 'relic': 2, 'repeating': 2, 'bullhorn': 1, 'repeats': 1, 'yells': 2, 'profane': 1, 'derogatory': 1, 'childhood': 15, 'annoyance': 5, 'compels': 1, 'behave': 2, 'beefneck': 1, 'dippin': 1, 'dots': 3, 'disaster': 16, 'sanitary': 4, 'brio': 9, 'enraged': 1, 'appalled': 1, 'yr': 10, 'gel': 20, 'nails': 68, 'gal': 20, 'presume': 2, 'nodded': 1, 'appt': 8, 'technicians': 1, 'concede': 3, 'elderly': 11, 'yikes': 13, 'piccola': 1, 'cucina': 2, 'frantic': 5, 'stressed': 11, 'transparent': 1, 'agreeable': 3, 'manifest': 1, 'constant': 12, 'hunt': 18, 'unsatisfied': 4, 'mu': 4, 'shu': 5, 'loooves': 1, 'bets': 1, 'ventilate': 1, 'skating': 7, 'mixture': 17, 'socialized': 1, 'boutique': 15, 'sorely': 8, 'bleak': 1, 'iota': 1, 'burrio': 1, 'ticketing': 3, 'fandango': 2, 'auditoriums': 1, 'recline': 1, 'rests': 3, 'movable': 1, 'snuggle': 1, 'cinemark': 2, 'counterparts': 2, 'mendy': 1, 'treatments': 8, 'physicians': 6, 'participating': 3, 'resulting': 5, 'physician': 4, 'consumers': 3, 'quickbite': 1, 'walgreens': 4, 'shifty': 1, 'purell': 1, 'arms': 14, 'curt': 3, 'terse': 1, 'requires': 6, 'hippity': 1, 'dippity': 1, 'surmise': 1, 'neigborhood': 1, 'decrepit': 1, 'makers': 2, 'resemble': 8, 'addicts': 2, 'derelicts': 1, 'bandwagon': 2, 'feelin': 3, 'doc': 8, 'pshh': 1, 'crammin': 1, 'exam': 6, 'ends': 22, 'computers': 7, 'olean': 1, 'tops': 17, 'apollo': 2, 'cortez': 1, 'glendale': 32, 'greenway': 3, 'independence': 2, 'sunnyslope': 5, 'ribbons': 1, 'extraordinaire': 1, 'nielsen': 1, 'participants': 3, 'enhances': 2, 'image': 8, 'egos': 1, 'reserve': 8, 'duce': 3, 'native': 26, 'atrocious': 4, 'inconveniencing': 4, 'scandalesque': 1, 'cure': 9, 'jitters': 1, 'satisfy': 20, 'dieting': 1, 'fats': 2, 'pj': 4, 'nod': 7, 'filipino': 20, 'jeepney': 1, 'angeles': 14, 'filipina': 3, 'contest': 3, 'beg': 3, 'bahay': 1, 'kubo': 1, 'natin': 1, 'republic': 11, 'voted': 5, 'abacus': 4, 'yui': 2, 'shan': 2, 'shiitake': 1, 'stems': 3, 'stem': 4, 'chew': 13, 'tire': 34, 'sauced': 8, 'shangri': 3, 'string': 8, 'sautéed': 4, 'szechuan': 6, 'westgate': 6, 'moes': 1, 'itch': 4, 'speaking': 21, 'arena': 10, 'nhl': 5, 'concerts': 5, 'conventions': 1, 'thirst': 5, 'quenching': 2, 'splash': 7, 'wg': 2, 'sucha': 1, 'juan': 2, 'sinsr': 1, 'truely': 3, 'cigar': 5, 'dock': 4, 'portofino': 4, 'sprucing': 4, 'raymond': 1, 'attendance': 3, 'dtown': 1, 'oc': 3, 'reaffirmed': 1, 'gringos': 14, 'welcomed': 19, 'kama': 3, 'sutra': 7, 'ought': 6, 'stale': 24, 'gloppy': 1, 'hattie': 1, 'passionate': 13, 'requests': 15, 'panini': 30, 'toddy': 6, 'caffeine': 10, 'mascarpone': 14, 'lottery': 4, 'ghirardelli': 1, 'pauli': 1, 'atl': 4, 'stared': 7, 'cheeeeno': 1, 'banddddeeedo': 1, 'wondered': 10, 'hmmm': 14, 'bandit': 2, 'expression': 4, 'nutjob': 1, 'rubik': 1, 'cube': 5, 'dooo': 2, 'youngggg': 1, 'burrritos': 1, 'jaaaade': 1, 'tacossssss': 1, 'goodnight': 1, 'explanation': 9, 'chino': 13, 'bandido': 9, 'disposable': 5, 'baking': 8, 'atlanta': 7, 'piezooki': 1, 'averages': 2, 'regio': 1, 'reiterate': 4, 'menudo': 8, 'eveything': 1, 'rellenos': 6, 'bff': 9, 'thang': 2, 'baller': 1, 'status': 9, 'dfw': 1, 'harbor': 26, 'marscapone': 3, 'hedge': 1, 'trimmers': 1, 'lawn': 14, 'aerators': 1, 'cement': 7, 'project': 10, 'invest': 2, 'chainsaw': 2, 'unwelcome': 2, 'sapling': 2, 'branches': 6, 'encroaching': 1, 'roof': 19, 'tame': 6, 'monstrous': 2, 'oleanders': 6, 'tool': 6, 'competitive': 9, 'biz': 8, 'tutorial': 1, 'operation': 9, 'arboreal': 1, 'carnage': 1, 'fliers': 1, 'gurl': 1, 'wipe': 13, 'wiped': 5, 'drizzle': 14, 'scraped': 6, 'heap': 5, 'belongs': 5, 'puppies': 2, 'magic': 16, 'décor': 9, 'charmed': 2, 'camarones': 7, 'aguachile': 1, 'culichi': 4, 'shrimps': 1, 'tomatill': 1, 'rezongue': 1, 'mexi': 2, 'patiently': 9, 'remarked': 4, 'mermaid': 2, 'crustaceans': 1, 'tostadas': 9, 'marginal': 6, 'settings': 4, 'utensils': 11, 'repeatedly': 9, 'novelties': 2, 'farmland': 1, 'touted': 4, 'looved': 1, 'trifecta': 2, 'bree': 3, 'teriaki': 1, 'denny': 24, 'dennys': 3, 'iam': 1, 'sporadic': 3, 'cheapo': 1, 'whatnot': 3, 'supplementation': 2, 'oblivious': 1, 'wield': 1, 'weapons': 1, 'thinks': 15, 'bastard': 5, 'cruise': 3, 'responsibility': 5, 'claustrophobic': 2, 'peoria': 11, 'celebration': 13, 'flemings': 2, 'goers': 2, 'curse': 4, 'tallest': 1, 'bleacher': 1, 'overcrowded': 4, 'stroller': 2, 'gumbo': 10, 'jambalaya': 5, 'follow': 35, 'xcp': 2, 'dramatics': 1, 'discipline': 3, 'xavier': 2, 'alums': 1, 'freshman': 5, 'sophomore': 3, 'dances': 2, 'dockers': 1, 'defining': 1, 'moments': 15, 'career': 11, 'schools': 5, 'cropping': 1, 'brophy': 2, 'supports': 7, 'acrylics': 3, 'requesting': 3, 'shaping': 1, 'approaching': 6, 'replied': 16, 'unapologetically': 1, 'meter': 5, 'adrian': 1, 'politely': 7, 'snottily': 1, 'astounded': 1, 'proceeded': 18, 'confrontational': 1, 'instance': 6, 'stored': 3, 'lazily': 2, 'wheat': 28, 'straw': 7, 'camel': 1, 'darcy': 1, 'mcgees': 1, 'lion': 8, 'inconvenience': 5, 'santisi': 2, 'tex': 2, 'crafty': 1, 'pancit': 7, 'palabok': 1, 'philippines': 1, 'coyote': 1, 'dayum': 2, 'token': 3, 'attach': 2, 'performing': 5, 'starr': 1, 'pavle': 4, 'charleen': 3, 'duo': 4, 'fnb': 10, 'gammage': 4, 'broadway': 7, 'physical': 8, 'disability': 1, 'renders': 1, 'unable': 6, 'orchestra': 3, 'traveling': 22, 'productions': 1, 'mon': 2, 'dugg': 1, 'toned': 4, 'sausagy': 1, 'holly': 5, 'bitterness': 4, 'margerine': 1, 'learning': 12, 'wrinkled': 4, 'responsive': 8, 'dressings': 7, 'amounts': 22, 'monastery': 1, 'whitney': 4, 'murphy': 9, 'funeral': 2, 'valets': 1, 'arcadia': 26, 'entitle': 2, 'consultant': 2, 'deb': 4, 'siam': 2, 'sa': 3, 'addictingly': 1, 'booyah': 1, 'piecing': 1, 'shitty': 10, 'costumes': 6, 'savers': 11, 'clintons': 1, 'beyonce': 3, 'biden': 1, 'obama': 3, 'kanye': 2, 'oprah': 3, 'octomom': 1, 'jolie': 1, 'lynn': 1, 'sue': 10, 'cooney': 1, 'madness': 6, 'crammed': 7, 'wigs': 1, 'vampire': 1, 'noises': 2, 'pigs': 4, 'assisted': 5, 'panic': 6, 'liberace': 2, 'wig': 2, 'repeated': 8, 'gettin': 1, 'guessing': 15, 'bert': 1, 'nineteen': 1, 'sixty': 3, 'howl': 2, 'griefo': 1, 'hemp': 3, 'humbolt': 1, 'majic': 1, 'marijuana': 1, 'attack': 11, 'skimpy': 9, 'ambulance': 2, 'hamburgers': 9, 'cardiac': 1, 'unlimited': 14, 'starts': 31, 'connolys': 1, 'oppinion': 1, 'animation': 1, 'damage': 8, 'thew': 1, 'homophobia': 2, 'hick': 1, 'alabama': 1, 'tires': 31, 'placing': 12, 'clients': 19, 'fillllled': 1, 'methamphetamine': 1, 'locked': 10, 'tweakers': 5, 'clunk': 1, 'whattt': 1, 'blaring': 6, 'strike': 17, 'stiffs': 1, 'arcarde': 1, 'loooveeee': 1, 'brunswick': 1, 'survey': 7, 'alternatives': 6, 'sunlight': 3, 'hence': 22, 'pushes': 2, 'discouraged': 6, 'processing': 2, 'piercing': 5, 'tongue': 26, 'tragus': 1, 'seamlessly': 3, 'educational': 3, 'portfolio': 3, 'divided': 5, 'ii': 4, 'grimaldis': 4, 'attendant': 10, 'matches': 4, 'lucked': 6, 'scored': 5, 'namely': 1, 'lean': 11, 'tx': 5, 'dd': 10, 'dh': 2, 'sissy': 3, 'kfc': 3, 'oreo': 8, 'naot': 2, 'sandals': 9, 'assumed': 15, 'blisters': 1, 'ankles': 2, 'salesman': 2, 'occur': 3, 'recovering': 6, 'reminder': 3, 'dissatisfied': 3, 'zappos': 1, 'purists': 4, 'enemy': 2, 'ohso': 6, 'focal': 1, 'differentiates': 1, 'achievement': 2, 'breweries': 9, 'painless': 6, 'roads': 5, 'ramps': 1, 'terminals': 3, 'convoluted': 2, 'confusing': 20, 'warmly': 3, 'airports': 7, 'perk': 5, 'terminal': 18, 'dachshund': 1, 'intel': 1, 'asians': 5, 'discover': 14, 'kona': 22, 'account': 30, 'fixtures': 4, 'paneling': 1, 'magazines': 15, 'drives': 3, 'bonnie': 5, 'lightbulbs': 2, 'snobbish': 3, 'ketel': 3, 'chambord': 5, 'hooks': 5, 'wi': 2, 'fi': 1, 'laptop': 9, 'conicidence': 1, 'kir': 1, 'royale': 3, 'saki': 4, 'highest': 13, 'freeways': 3, 'hikes': 5, 'overdo': 1, 'fame': 6, 'grind': 22, 'temperatures': 7, 'appointed': 7, 'peppercorn': 8, 'composed': 6, 'watercress': 4, 'goodwill': 13, 'temp': 9, 'grant': 3, 'inordinate': 1, 'hippie': 7, 'timer': 4, 'gasp': 5, 'readily': 8, 'initiation': 1, 'gabi': 6, 'chewies': 1, 'alica': 1, 'jellies': 4, 'insider': 1, 'wink': 4, 'saint': 4, 'commence': 2, 'youthful': 4, 'farts': 1, 'captures': 1, 'spirit': 13, 'limit': 12, 'jo': 2, 'asparagas': 1, 'fungi': 1, 'pizzaz': 1, 'websites': 6, 'accent': 10, 'unfamiliar': 4, 'eggrolls': 9, 'wrapper': 3, 'panko': 3, 'evaluating': 1, 'scale': 8, 'chiles': 13, 'yupha': 7, 'sima': 1, 'marcellino': 5, 'slicer': 2, 'pan': 25, 'disabilities': 1, 'guzzle': 1, 'drench': 2, 'limes': 8, 'timing': 6, 'satisfaction': 8, 'gulps': 1, 'transport': 7, 'countries': 2, 'jets': 2, 'limitations': 4, 'distributors': 1, 'biryani': 2, 'tandoor': 1, 'naans': 1, 'tikkas': 1, 'puris': 1, 'channa': 1, 'halwa': 1, 'indopak': 1, 'impossibly': 2, 'hr': 6, 'compelled': 7, 'disbelief': 1, 'elevates': 1, 'superstar': 4, 'honorable': 1, 'cockroaches': 2, 'bikes': 7, 'mellow': 12, 'florida': 4, 'vegitarians': 1, 'carnivores': 2, 'translates': 3, 'scum': 1, 'enthusiast': 4, 'fascinating': 4, 'risky': 2, 'revuelta': 1, 'actor': 2, 'busting': 4, 'bienvenidos': 1, 'tierra': 1, 'intriguing': 4, 'searched': 6, 'r': 14, 'lifting': 4, 'refer': 11, 'durango': 1, 'monstrosity': 5, 'joins': 1, 'restaurateurs': 4, 'flavoriing': 1, 'prives': 1, 'message': 24, 'tokyo': 15, 'toyama': 1, 'hiro': 5, 'dozo': 1, 'foolishly': 2, 'kirin': 5, 'opener': 6, 'deciding': 21, 'albacore': 3, 'freshwater': 2, 'crumbly': 4, 'refrigerator': 5, 'unused': 3, 'positively': 5, 'yard': 32, 'dragging': 1, 'macademia': 2, 'crusted': 11, 'scalloped': 4, 'yearly': 8, 'taker': 4, 'comanion': 1, 'galleries': 5, 'bottled': 22, 'dddinfo': 1, 'nominate': 1, 'experince': 1, 'marshalls': 3, 'bath': 15, 'yc': 7, 'tumblers': 1, 'caddy': 3, 'soaring': 1, 'marker': 2, 'albiet': 1, 'bocce': 5, 'diversion': 2, 'hundred': 12, 'simulaneously': 1, 'steel': 9, 'softies': 1, 'piggy': 2, 'contacted': 10, 'proactive': 7, 'crullers': 1, 'uhhh': 2, 'unfair': 2, 'dent': 5, 'hibachi': 7, 'husbands': 8, 'tradition': 12, 'atleast': 8, 'streak': 2, 'bees': 2, 'babysitter': 4, 'whinnying': 2, 'ruth': 7, 'requirement': 5, 'mortons': 2, 'preset': 1, 'grinders': 8, 'vice': 5, 'crank': 3, 'formula': 8, 'outlyers': 1, 'jess': 3, 'chace': 1, 'stylist': 8, 'revamp': 2, 'pits': 7, 'burrata': 13, 'gynormus': 1, 'chianti': 4, 'grandmas': 3, 'employee': 51, 'eewh': 2, 'barnes': 10, 'noble': 10, 'grossness': 1, 'kart': 1, 'peacefully': 2, 'grinds': 1, 'yeesh': 2, 'ipod': 5, 'banging': 5, 'cleanly': 2, 'crossed': 5, 'mug': 6, 'italy': 11, 'goona': 2, 'curbside': 2, 'transportation': 4, 'cleaner': 16, 'backing': 2, 'shutting': 1, 'sluggishness': 1, 'smarter': 4, 'gunning': 1, 'experiment': 5, 'kill': 22, 'curfew': 1, 'nascent': 1, 'satrt': 1, 'struggled': 9, 'entrence': 1, 'amaturish': 1, 'shined': 2, 'veteran': 6, 'goings': 1, 'wreck': 4, 'extreemly': 1, 'expectaions': 2, 'vinager': 1, 'sadwich': 1, 'flavorfull': 1, 'chintzy': 2, 'earls': 1, 'shorter': 6, 'naturopathic': 2, 'unsurpassed': 1, 'tenderness': 4, 'ideal': 14, 'deeply': 5, 'enriching': 1, 'healing': 6, 'gifted': 1, 'masseuse': 4, 'hyper': 3, 'trapped': 2, 'negativity': 2, 'cleansed': 1, 'utterly': 9, 'indulgent': 2, 'extraordinary': 8, 'retention': 1, 'owe': 6, 'canceled': 3, 'financial': 6, 'aid': 10, 'collect': 3, 'withdrawn': 2, 'withdrawal': 1, 'referral': 3, 'exaggerating': 4, 'sekong': 1, 'swapped': 2, 'phnom': 1, 'penh': 1, 'katheaw': 1, 'cha': 6, 'centers': 5, 'nurturing': 1, 'graduated': 8, 'toddlers': 3, 'attribute': 3, 'welcomes': 3, 'bev': 1, 'mo': 3, 'brackin': 2, 'landing': 5, 'domestics': 4, 'camelview': 4, 'examples': 4, 'bleep': 1, 'che': 1, 'cinema': 5, 'paradiso': 1, 'pulp': 4, 'fiction': 4, 'screening': 3, 'slumdog': 1, 'millionaire': 2, 'danny': 5, 'boyle': 1, 'screenings': 1, 'beverly': 3, 'decorate': 2, 'zagat': 1, 'announcement': 2, 'justifies': 3, 'moniker': 1, 'fool': 16, 'poof': 1, 'opaque': 1, 'shine': 7, 'niman': 1, 'carlsbad': 5, 'hoegaarden': 3, 'jager': 4, 'greets': 5, 'watermelon': 5, 'selves': 2, 'standby': 4, 'envelope': 1, 'gloominess': 1, 'mim': 3, 'wowed': 19, 'collection': 19, 'instruments': 2, 'guide': 18, 'museums': 3, 'headset': 2, 'flamenco': 4, 'madrid': 1, 'filmed': 3, 'guts': 2, 'steinway': 1, 'martin': 3, 'guitars': 5, 'edited': 3, 'holder': 7, 'mimics': 1, 'residential': 7, 'kierland': 15, 'commons': 7, 'dallas': 5, 'santana': 2, 'clara': 1, 'stripped': 5, 'suburban': 5, 'hawken': 1, 'backside': 3, 'frolick': 1, 'barbie': 2, 'siblings': 3, 'unimaginative': 2, 'represented': 5, 'pf': 10, 'chang': 10, 'compelling': 5, 'phobia': 2, 'tune': 6, 'headphones': 3, 'spotify': 1, 'conducive': 5, 'kara': 2, 'waxing': 7, 'joined': 15, 'dealt': 7, 'trace': 3, 'lbs': 8, 'workouts': 3, 'camp': 8, 'ugg': 1, 'ultimate': 21, 'rates': 18, 'commitments': 1, 'co': 17, 'contract': 5, 'negra': 1, 'modelo': 1, 'musical': 6, 'explode': 6, 'cred': 4, 'haul': 3, 'noca': 5, 'communication': 7, 'hrs': 6, 'translations': 1, 'discontinued': 3, 'hnnngffff': 1, 'warrants': 5, 'fattening': 2, 'ounce': 7, 'rotate': 6, 'nog': 1, 'combined': 18, 'gummy': 8, 'adds': 21, 'conversate': 1, 'creepy': 12, 'staring': 14, 'lloyd': 8, 'wright': 6, 'tore': 2, 'orpheum': 1, 'begrudgingly': 3, 'suburbs': 4, 'privileged': 1, 'opera': 3, 'ballet': 5, 'nutcracker': 2, 'resumes': 2, 'conductor': 2, 'costume': 7, 'outs': 4, 'supremely': 2, 'craves': 2, 'fortunately': 16, 'goodyear': 2, 'inspecting': 1, 'rooftop': 6, 'fajita': 10, 'primarily': 4, 'tossed': 19, 'recognizable': 2, 'everclear': 1, 'octane': 1, 'ache': 5, 'gimmicky': 6, 'fathom': 3, 'indulged': 6, 'fantasies': 2, 'howard': 5, 'roark': 1, 'insights': 1, 'convictions': 2, 'flw': 3, 'indescribably': 3, 'periods': 5, 'dismayed': 2, 'disrepair': 2, 'repairing': 1, 'windowpanes': 1, 'describing': 6, 'vision': 10, 'architecture': 8, 'lifestyle': 5, 'electronic': 8, 'vomit': 4, 'et': 4, 'tightly': 4, 'liable': 1, 'sprayed': 4, 'stall': 6, 'laws': 2, 'einstein': 5, 'stainless': 3, 'grains': 4, 'mellower': 1, 'draws': 5, 'mature': 7, 'leisure': 1, 'designated': 8, 'costumer': 1, 'peach': 30, 'hankering': 6, 'pint': 17, 'brachetto': 1, 'lizzie': 2, 'stretch': 11, 'imagination': 7, 'intending': 4, 'worstershire': 1, 'prepped': 4, 'mundane': 4, 'prix': 5, 'tail': 15, 'boullion': 1, 'rasberry': 2, 'smore': 1, 'marshmallow': 13, 'flambeed': 1, 'grahm': 1, 'coated': 9, 'marshmallows': 7, 'overstuff': 1, 'leisurely': 8, 'constraint': 1, 'crowed': 4, 'popularity': 1, 'gun': 11, 'wendy': 14, 'jaz': 1, 'defintely': 3, 'rubio': 7, 'taquerias': 3, 'favoritos': 3, 'rivas': 2, 'macayo': 6, 'formal': 9, 'michoacana': 1, 'mateo': 2, 'valle': 12, 'luna': 12, 'costing': 4, 'mexifood': 3, 'bypass': 2, 'iceburge': 1, 'yakisoba': 4, 'shouted': 3, 'bye': 10, 'kazimierz': 6, 'adjusted': 5, 'egyptian': 3, 'flights': 14, 'inventory': 14, 'listings': 2, 'fraîche': 2, 'gouda': 2, 'faced': 6, 'hesitated': 2, 'survive': 7, 'gyms': 14, 'loathe': 2, 'odors': 3, 'longing': 2, 'text': 9, 'socket': 1, 'trainer': 8, 'nautilus': 1, 'introductory': 2, 'sf': 15, 'sharkfest': 1, 'alcatraz': 3, 'cracks': 5, 'waits': 12, 'aerobics': 7, 'laps': 5, 'inexplicable': 1, 'dunking': 1, 'aficionado': 3, 'towel': 12, 'locks': 1, 'cranky': 6, 'sweetie': 2, 'inadvertently': 1, 'whimper': 1, 'shoulder': 15, 'cede': 1, 'bod': 1, 'stretching': 5, 'hid': 1, 'gushing': 2, 'seizing': 1, 'chateaux': 1, 'development': 7, 'encanto': 2, 'meters': 3, 'validates': 1, 'athletic': 5, 'professionals': 7, 'retirees': 2, 'ogling': 1, 'bunnies': 3, 'leotard': 2, 'treadmill': 4, 'warmers': 2, 'margs': 4, 'moly': 3, 'waaaaaay': 2, 'golfer': 5, 'summertime': 5, 'shown': 15, 'forgiving': 2, 'fairways': 9, 'hotdogs': 11, 'pump': 11, 'doglegs': 2, 'smuggle': 1, 'punk': 2, 'fucked': 3, 'dinged': 1, 'mud': 2, 'asshole': 6, 'carved': 5, 'pentagram': 1, 'satan': 1, 'urine': 1, 'pissing': 2, 'bushes': 2, 'fiberglass': 1, 'dumpster': 4, 'smails': 1, 'bushwood': 1, 'estates': 1, 'monopoly': 1, 'graces': 1, 'playoffs': 1, 'strenuously': 1, 'object': 3, 'scramble': 12, 'jay': 6, 'sunsine': 1, 'passionfruit': 4, 'tataki': 3, 'thay': 1, 'downsides': 3, 'upsides': 2, 'paralyzing': 1, 'indecision': 1, 'opto': 1, 'tieu': 2, 'approachable': 2, 'frames': 8, 'competitor': 5, 'rebates': 2, 'dr': 20, 'bullet': 7, 'specializes': 4, 'suitable': 6, 'masiman': 1, 'rachel': 4, 'luciana': 1, 'logistics': 1, 'police': 16, 'farmers': 13, 'jumpers': 1, 'carnival': 3, 'rides': 8, 'insanity': 2, 'mma': 6, 'profesional': 1, 'readymade': 1, 'stingy': 10, 'anticipate': 5, 'shoty': 1, 'doppio': 1, 'tripel': 1, 'karmeliet': 1, 'lindeman': 1, 'framboise': 2, 'lambic': 2, 'mothership': 1, 'witbier': 1, 'divide': 2, 'breakfasts': 14, 'observations': 3, 'assorted': 9, 'noticing': 4, 'terribly': 18, 'becacuse': 1, 'flowed': 3, 'scott': 8, 'infused': 14, 'vodkas': 3, 'steeping': 1, 'frito': 2, 'complexity': 4, 'limoncello': 2, 'shin': 1, 'shinbay': 1, 'copper': 14, 'centered': 3, 'charcoal': 8, 'editable': 1, 'eatable': 1, 'odor': 2, 'rub': 9, 'untill': 1, 'endeavor': 6, 'burst': 5, 'hops': 2, 'centrally': 3, 'gentlemen': 10, 'calzone': 26, 'engagement': 4, 'getaway': 7, 'coordinated': 2, 'petals': 5, 'accidently': 2, 'bandaids': 1, 'televisions': 5, 'etcetera': 1, 'jukebox': 17, 'profits': 2, 'jsut': 1, 'cannon': 2, 'whistle': 3, 'smeared': 3, 'slides': 7, 'slid': 2, 'glop': 1, 'oiled': 2, 'slick': 2, 'glued': 2, 'residue': 3, 'grossed': 6, 'faintly': 1, 'puzzled': 4, 'faint': 3, 'livery': 1, 'consumption': 2, 'recognize': 12, 'cow': 8, 'shriveled': 2, 'danged': 1, 'vicious': 1, 'robin': 8, 'sewage': 2, 'wafting': 3, 'embarrassingly': 2, 'rectangular': 2, 'mmmmmmm': 5, 'butterrrrr': 1, 'cane': 8, 'ohhh': 4, 'sirring': 2, 'awwwwkwaaaard': 1, 'lumpia': 8, 'preface': 7, 'scorched': 3, 'tortured': 1, 'hollow': 1, 'tubes': 3, 'buzz': 18, 'comply': 3, 'tatum': 2, 'shea': 18, 'interrupted': 9, 'undercover': 2, 'interupted': 1, 'loses': 5, 'overshadowed': 5, 'contemplated': 2, 'nada': 4, 'lifetime': 14, 'turning': 12, 'campanelle': 3, 'curled': 1, 'lasagna': 12, 'substitute': 19, 'glenn': 2, 'assembled': 2, 'whew': 5, 'exhausting': 2, 'awaiting': 4, 'forks': 8, 'stacked': 11, 'crumbs': 11, 'reclaim': 1, 'circulating': 1, 'intention': 5, 'snap': 7, 'judgment': 3, 'intially': 1, 'afterall': 5, 'hills': 20, 'unaddressed': 1, 'unsuspecting': 2, 'strangers': 6, 'reassigned': 1, 'warming': 6, 'colored': 13, 'glanced': 5, 'passify': 1, 'qualify': 8, 'bleeding': 3, 'subsided': 1, 'malfunction': 1, 'unusually': 5, 'infuriating': 1, 'disrespectful': 2, 'argue': 7, 'umpteen': 1, 'fighting': 8, 'mode': 7, 'hires': 5, 'johnnie': 1, 'garbage': 14, 'grip': 3, 'defalco': 9, 'il': 9, 'purista': 1, 'assessment': 4, 'cannolis': 4, 'hb': 1, 'maretplace': 1, 'outdoors': 13, 'accross': 2, 'milquetoast': 1, 'basics': 13, 'clutch': 1, 'yeast': 3, 'entitled': 2, 'corporation': 4, 'firing': 1, 'smarten': 1, 'merchants': 1, 'salary': 3, 'benefits': 6, 'clerk': 14, 'orthodontist': 1, 'alienated': 1, 'hating': 5, 'yea': 9, 'firearm': 1, 'prohibition': 1, 'jared': 8, 'loughner': 1, 'horrid': 5, 'alienate': 1, 'law': 11, 'abiding': 1, 'constitutional': 1, 'constitution': 1, 'apply': 6, 'collective': 5, 'motherf': 2, 'downsized': 1, 'giarduia': 1, 'rode': 8, 'anderson': 2, 'daytime': 5, 'babes': 4, 'douche': 7, 'skanks': 1, 'makeup': 9, 'hater': 3, 'westwood': 1, 'trashiest': 1, 'buckets': 4, 'nighttime': 1, 'tat': 1, 'wannabes': 4, 'trading': 4, 'hips': 2, 'dream': 27, 'complicated': 9, 'hollandaise': 7, 'benny': 4, 'spectular': 1, 'douchebags': 3, 'audacity': 3, 'hospitality': 5, 'convienence': 2, 'coaxed': 2, 'bum': 4, 'treehouse': 3, 'redeeming': 10, 'bomber': 4, 'burlington': 2, 'layaway': 1, 'tiniest': 4, 'tmi': 4, 'stray': 11, 'humboldt': 3, 'norm': 10, 'cloying': 2, 'inebriator': 1, 'vibes': 4, 'pleaser': 1, 'tingle': 1, 'fishiness': 1, 'unsanitized': 1, 'visual': 3, 'ensalada': 1, 'cortada': 1, 'secluded': 5, 'hosting': 10, 'doggy': 4, 'trees': 17, 'perimeter': 4, 'poop': 5, 'dispensers': 3, 'chaparral': 3, 'inactive': 2, 'aggressive': 12, 'kyrene': 1, 'carver': 3, 'youfit': 1, 'trainers': 6, 'tanning': 7, 'beds': 14, 'aware': 19, 'ken': 14, 'bombers': 8, 'nigeri': 1, 'seaweed': 12, 'soba': 10, 'gated': 1, 'stairway': 1, 'balconies': 1, 'inner': 11, 'stairwells': 1, 'carpeted': 1, 'chrome': 3, 'beige': 2, 'showerheads': 1, 'adjust': 6, 'shy': 10, 'pressure': 23, 'alleyway': 1, 'sleeping': 10, 'accomodations': 2, 'discomforts': 1, 'billions': 1, 'situated': 10, 'pompous': 4, 'ghetto': 13, 'americanized': 15, 'manadrian': 1, 'thailand': 5, 'korea': 3, 'lumbergh': 1, 'ooo': 3, 'yeahh': 1, 'clump': 3, 'nastily': 2, 'catalyst': 1, 'africa': 3, 'docking': 2, 'flipping': 2, 'shrip': 2, 'ect': 2, 'trucks': 6, 'yelped': 7, 'thrilling': 2, 'wiener': 5, 'contained': 14, 'accustomed': 4, 'lindsey': 7, 'tying': 1, 'mississippi': 2, 'handlebar': 2, 'katlan': 1, 'rama': 6, 'pleeeaaassse': 1, 'dragonberry': 1, 'drinklist': 1, 'carolina': 11, 'filiberto': 7, 'surname': 1, 'impressions': 4, 'dropout': 8, 'lasting': 2, 'secound': 1, 'stepper': 2, 'ltf': 3, 'abbreviate': 1, 'steve': 13, 'salute': 1, 'aknowledging': 1, 'childcare': 3, 'singles': 5, 'flirt': 2, 'sniffling': 1, 'parental': 1, 'supervision': 3, 'waterslides': 2, 'loveitloveit': 2, 'forsaken': 1, 'athelete': 1, 'equipement': 1, 'meathead': 2, 'coreographed': 1, 'kickboxing': 6, 'weirdo': 2, 'device': 3, 'dries': 1, 'bathing': 4, 'ingenious': 3, 'homecooked': 2, 'havana': 4, 'fricase': 1, 'oxtail': 4, 'homes': 6, 'sofa': 3, 'brushetta': 3, 'tomatoe': 1, 'tapenade': 6, 'nag': 2, 'cubed': 2, 'zuchinni': 3, 'iffy': 3, 'stews': 2, 'achieve': 3, 'buskers': 1, 'perusing': 8, 'petersen': 1, 'cappuccino': 16, 'favs': 10, 'pints': 10, 'gallons': 2, 'educated': 6, 'originated': 1, 'tiles': 2, 'coffe': 2, 'pepperment': 1, 'rad': 6, 'recomend': 5, 'fulfilling': 6, 'berries': 9, 'cals': 1, 'awesomely': 2, 'da': 18, 'sumo': 1, 'butterscotch': 8, 'amazin': 1, 'adopted': 3, 'kitten': 1, 'kittens': 4, 'adoption': 1, 'petco': 2, 'housewares': 5, 'crapstuffs': 1, 'optimistically': 1, 'goodwills': 1, 'boulevard': 1, 'foothills': 8, 'thrifts': 1, 'delusion': 1, 'wherein': 2, 'willingly': 6, 'disadvantaged': 1, 'ahem': 3, 'aand': 1, 'chocolates': 8, 'buzzy': 1, 'bobby': 21, 'hollywood': 8, 'glamour': 1, 'meets': 15, 'grandparents': 5, 'estate': 4, 'investment': 4, 'cuilichi': 1, 'girly': 6, 'gymboree': 5, 'tike': 1, 'reintroduced': 1, 'instructor': 9, 'communicated': 3, 'someday': 7, 'outgrow': 2, 'hayde': 1, 'defalcos': 1, 'bianca': 2, 'quintessential': 4, 'gourmet': 38, 'beerbread': 1, 'bavarian': 5, 'pretzels': 35, 'abound': 2, 'porter': 6, 'belgian': 5, 'barleywine': 1, 'transported': 3, 'monterrey': 2, 'exhaust': 5, 'vochos': 1, 'distant': 6, 'policia': 1, 'extorting': 1, 'prescribed': 4, 'mordida': 1, 'intended': 15, 'creators': 1, 'unadulterated': 1, 'pomo': 1, 'infection': 8, 'licence': 1, 'glance': 9, 'danger': 2, 'collapse': 2, 'dregs': 2, 'starchy': 2, 'taiwan': 3, 'prowl': 3, 'durian': 2, 'stink': 7, 'blossoms': 6, 'regions': 2, 'isle': 3, 'compass': 1, 'opentable': 4, 'spins': 3, 'theatrics': 1, 'mainstays': 1, 'comrades': 1, 'sizable': 7, 'ciabatta': 12, 'franc': 2, 'carménère': 1, 'pourings': 1, 'deliberate': 1, 'newbies': 4, 'athmosphere': 1, 'file': 6, 'hiding': 10, 'critque': 1, 'aire': 1, 'palatte': 2, 'probing': 1, 'caused': 9, 'outfit': 8, 'uniform': 4, 'athmo': 1, 'liberally': 1, 'aric': 1, 'monica': 1, 'pabst': 2, 'dunkel': 2, 'privately': 4, 'parlor': 9, 'cap': 5, 'aesthetics': 5, 'dot': 7, 'vases': 4, 'clocks': 2, 'zones': 1, 'scratcher': 1, 'daniel': 17, 'outrageously': 6, 'heating': 3, 'infusion': 5, 'tourists': 8, 'pampering': 4, 'plunge': 4, 'vibrated': 1, 'unexceptional': 1, 'aaaamazing': 1, 'corners': 6, 'doughy': 10, 'bottomless': 5, 'frills': 13, 'publicity': 1, 'louisiana': 3, 'saturation': 1, 'momma': 3, 'okra': 14, 'catfish': 10, 'kickin': 2, 'forefathers': 5, 'zoyo': 3, 'nooooo': 3, 'rv': 1, 'yougurt': 1, 'tending': 2, 'pleanty': 1, 'bee': 7, 'soccer': 7, 'grey': 16, 'ordinarily': 3, 'nye': 1, 'coincidentally': 2, 'countdown': 3, 'jaime': 1, 'tiaras': 1, 'beads': 3, 'excitedly': 2, 'toasting': 3, 'cheering': 2, 'fixe': 5, 'angelina': 1, 'appetisers': 3, 'manor': 1, 'florist': 8, 'arrangement': 4, 'alleviated': 1, 'emailed': 7, 'gangplank': 6, 'restaraunt': 3, 'smallest': 7, 'adaptive': 1, 'curve': 2, 'adverse': 2, 'limeade': 5, 'foodwise': 1, 'mayor': 3, 'sandblasted': 1, 'offset': 2, 'rotating': 9, 'dingy': 7, 'resource': 4, 'fashioned': 10, 'requiring': 2, 'intermittent': 2, 'grouchy': 1, 'poke': 5, 'teamed': 1, 'carried': 14, 'rarest': 1, 'firm': 8, 'believer': 7, 'grad': 2, 'panang': 7, 'brestaurants': 1, 'touching': 5, 'nappy': 1, 'peel': 7, 'holey': 1, 'navy': 4, 'millionaires': 1, 'planters': 2, 'scare': 8, 'tamp': 1, 'scoche': 1, 'forerunner': 1, 'cleverly': 4, 'usps': 2, 'rousing': 1, 'mutual': 1, 'draughts': 1, 'contemporary': 9, 'pepporoni': 1, 'woud': 1, 'hahahahaha': 1, 'occupying': 2, 'afterdark': 1, 'daddy': 8, 'sexiness': 1, 'bleached': 2, 'motor': 4, 'dancers': 8, 'rider': 2, 'fuzzy': 6, 'muppet': 1, 'skins': 12, 'adorning': 1, 'vids': 1, 'hallways': 5, 'tact': 2, 'interspersed': 2, 'footage': 1, 'hagard': 1, 'chics': 1, 'sucking': 7, 'cherries': 7, 'winking': 2, 'lair': 1, 'bask': 1, 'glow': 4, 'doused': 4, 'violently': 1, 'oversized': 8, 'baggy': 2, 'peggy': 1, 'bundy': 1, 'spandex': 1, 'calf': 2, 'leggings': 2, 'spandwex': 1, 'boob': 2, 'sneak': 7, 'choir': 2, 'keys': 6, 'unlock': 2, 'canopy': 3, 'signal': 2, 'locksmith': 1, 'washers': 1, 'incompetence': 3, 'flagship': 3, 'omelettes': 3, 'dean': 3, 'admired': 2, 'decades': 8, 'throwback': 2, 'dow': 1, 'millennials': 1, 'halves': 2, 'upped': 3, 'incorporated': 1, 'guedo': 3, 'paloma': 1, 'sheraton': 18, 'auditor': 1, 'vanity': 7, 'loofa': 1, 'attraction': 4, 'octaves': 1, 'slapped': 2, 'uneven': 6, 'crusts': 1, 'psychological': 1, 'warfare': 1, 'maintains': 3, 'superiority': 1, 'famished': 3, 'reporting': 1, 'boasted': 5, 'debatable': 2, 'usa': 6, 'spinato': 4, 'carlos': 9, 'iv': 1, 'ruffled': 1, 'sensibly': 1, 'smushing': 1, 'spaces': 10, 'smush': 1, 'surface': 5, 'create': 28, 'taller': 3, 'pineapples': 2, 'seeds': 13, 'somethin': 3, 'wong': 9, 'drastically': 6, 'noonish': 1, 'uncommon': 6, 'liquid': 13, 'sabotaged': 1, 'horrified': 4, 'temporary': 4, 'drilling': 2, 'filing': 2, 'opi': 3, 'carl': 5, 'jr': 3, 'navigate': 5, 'quart': 4, 'fearing': 3, 'evacuate': 1, 'breech': 1, 'allergies': 9, 'asthma': 1, 'plague': 3, 'glitch': 1, 'unplanned': 1, 'inconsideration': 1, 'providers': 2, 'travels': 9, 'hairiest': 1, 'baggage': 5, 'humanly': 2, 'distress': 2, 'wheezing': 1, 'sneezing': 1, 'itching': 3, 'gasping': 3, 'travelers': 5, 'naperville': 1, 'convincing': 2, 'earleir': 1, 'househunting': 1, 'realtors': 1, 'gong': 2, 'effing': 4, 'dope': 3, 'phase': 2, 'jackass': 1, 'contacting': 3, 'manufacturer': 4, 'warranties': 1, 'checkup': 2, 'filters': 2, 'thanking': 3, 'apologizing': 4, 'scotch': 5, 'totaling': 2, 'mucho': 5, 'positives': 5, 'carnitas': 25, 'gristly': 2, 'liberal': 3, 'lard': 13, 'report': 17, 'negligent': 1, 'primary': 6, 'dreading': 4, 'interaction': 9, 'bothering': 6, 'hamachi': 9, 'dinosaur': 1, 'barrier': 3, 'obligatory': 4, 'addressing': 2, 'attired': 1, 'gardening': 3, 'hose': 2, 'hispanc': 1, 'degress': 1, 'bent': 4, 'gates': 11, 'conveyor': 5, 'scanners': 1, 'tsa': 4, 'groping': 1, 'electing': 1, 'digital': 5, 'boarding': 8, 'android': 3, 'gate': 15, 'connected': 8, 'runways': 1, 'scan': 4, 'diagnosis': 1, 'attorney': 3, 'generals': 1, 'nonsense': 6, 'snafu': 2, 'straightened': 3, 'arnold': 7, 'palmer': 9, 'zupas': 1, 'peek': 7, 'orleans': 5, 'max': 16, 'rabbit': 6, 'sarah': 6, 'overflowing': 7, 'receptionist': 8, 'forceful': 1, 'sexist': 1, 'stressful': 4, 'booklet': 1, 'patients': 12, 'encourages': 2, 'restful': 2, 'socializing': 3, 'mazing': 1, 'goto': 1, 'chritophers': 1, 'expenesive': 1, 'escagort': 1, 'snails': 4, 'amf': 1, 'lanes': 8, 'scoring': 1, 'boards': 6, 'smelly': 5, 'avoided': 4, 'alleys': 1, 'faculties': 1, 'towing': 2, 'leyva': 1, 'cork': 9, 'cleavers': 1, 'jello': 5, 'barkeeps': 1, 'hunk': 5, 'contempo': 1, 'feeney': 2, 'psudeo': 1, 'previously': 27, 'agents': 3, 'tested': 3, 'puncture': 1, 'overdue': 5, 'habits': 3, 'shockingly': 5, 'intelligent': 2, 'relies': 2, 'substantially': 1, 'sizzle': 2, 'yasu': 15, 'pristine': 2, 'mackerel': 2, 'shift': 8, 'batista': 1, 'brusque': 2, 'subtractions': 1, 'bow': 3, 'qwest': 2, 'cox': 3, 'continually': 5, 'raising': 3, 'duty': 12, 'mbps': 2, 'guarantee': 16, 'speeds': 2, 'static': 1, 'crackling': 2, 'shocking': 5, 'install': 10, 'bundle': 2, 'submit': 2, 'bundled': 1, 'cable': 5, 'wasting': 12, 'squarish': 1, 'matsuri': 2, 'festival': 22, 'drums': 2, 'anime': 4, 'manga': 2, 'characters': 7, 'whadda': 1, 'convieeeeent': 1, 'responses': 6, 'fixens': 1, 'griddle': 3, 'downed': 3, 'bbb': 3, 'bosch': 1, 'mixer': 6, 'subject': 3, 'availibility': 1, 'schneikies': 1, 'qdoba': 13, 'jive': 1, 'fixins': 1, 'jd': 3, 'yearn': 3, 'suggestee': 1, 'acquaintance': 2, 'smiling': 18, 'esquire': 1, 'nic': 1, 'nacs': 1, 'toothpaste': 2, 'friee': 1, 'suey': 1, 'bridal': 3, 'swapping': 1, 'links': 9, 'sourdough': 15, 'barn': 3, 'zucca': 4, 'lox': 10, 'nastiest': 1, 'lurch': 1, 'silenced': 1, 'afloat': 3, 'ufc': 7, 'georges': 3, 'pierre': 3, 'friggin': 6, 'fights': 3, 'dsw': 2, 'anticipated': 7, 'fighter': 1, 'baristas': 12, 'freezeacino': 1, 'sbux': 3, 'northwest': 4, 'bosco': 2, 'filibertos': 7, 'knockoff': 1, 'hazard': 2, 'atoyac': 3, 'tattoo': 8, 'atoyas': 1, 'overflow': 6, 'expert': 13, 'suffice': 2, 'preference': 17, 'las': 13, 'spank': 1, 'dorm': 3, 'cultural': 10, 'passes': 9, 'drawings': 1, 'galore': 9, 'blowing': 9, 'guided': 5, 'tours': 10, 'enlightening': 1, 'sleepy': 5, 'opporation': 1, 'pakuras': 1, 'pickings': 2, 'rosati': 4, 'kc': 2, 'caraf': 1, 'inconvienent': 1, 'battery': 9, 'batteries': 6, 'watches': 4, 'jeweler': 1, 'labor': 11, 'baltimore': 1, 'md': 1, 'orioles': 1, 'coma': 8, 'zzzzzzzzzzzzzzzzz': 1, 'spas': 3, 'availability': 4, 'secure': 5, 'cliffs': 1, 'kia': 1, 'larry': 5, 'passion': 20, 'hears': 1, 'plated': 5, 'delishish': 1, 'dips': 6, 'twinkling': 1, 'hyperbole': 3, 'apetite': 1, 'kimmel': 1, 'hired': 7, 'eyesite': 1, 'jesus': 7, 'denying': 1, 'judging': 8, 'jaded': 3, 'imho': 6, 'pressing': 2, 'criteria': 5, 'pholicious': 1, 'condensed': 3, 'dummy': 1, 'clutches': 1, 'singing': 13, 'swallow': 2, 'pill': 2, 'jolly': 2, 'notices': 3, 'mm': 6, 'chalk': 4, 'sweden': 1, 'noy': 2, 'potatoe': 5, 'changs': 9, 'indulgence': 3, 'towns': 2, 'vancouver': 2, 'dial': 2, 'irene': 1, 'trusty': 4, 'droid': 2, 'taylor': 9, 'readied': 1, 'doggie': 5, 'cottage': 16, 'conscious': 10, 'sardines': 1, 'newport': 2, 'cocina': 3, 'biersch': 3, 'dying': 13, 'deceptive': 3, 'comics': 4, 'comic': 4, 'exasperated': 2, 'atomic': 2, 'acacia': 1, 'facade': 2, 'exclaimed': 2, 'gazing': 2, 'blandish': 1, 'mistifiers': 1, 'cooling': 6, 'chimi': 16, 'dazzling': 1, 'oily': 20, 'steadily': 1, 'analyzing': 1, 'enhanced': 2, 'blanketed': 2, 'unsure': 7, 'crisped': 4, 'shred': 3, 'savoriness': 2, 'garbled': 1, 'chewed': 2, 'tabasco': 4, 'analytical': 1, 'understanding': 11, 'removing': 3, 'contradiction': 3, 'redone': 2, 'pain': 31, 'ripped': 12, 'couscous': 6, 'snob': 17, 'undrmine': 1, 'arriba': 11, 'cousins': 1, 'rehersal': 2, 'bisque': 11, 'eaters': 17, 'waterfalls': 2, 'laser': 13, 'removal': 6, 'lasering': 1, 'lasts': 4, 'discouraging': 1, 'grow': 15, 'policies': 3, 'kristen': 2, 'credited': 3, 'underarm': 1, 'extravaganza': 3, 'underarms': 2, 'shave': 5, 'becomes': 12, 'backup': 3, 'rodney': 1, 'dangerfield': 1, 'valuable': 6, 'allotment': 1, 'balthazar': 1, 'soho': 1, 'sean': 2, 'changing': 25, 'paperback': 2, 'hardcovers': 1, 'ch': 1, 'plazas': 1, 'nerds': 2, 'indulging': 2, 'hobbies': 1, 'assuredly': 3, 'pipe': 4, 'hippy': 2, 'spiritual': 3, 'methods': 7, 'buddhism': 1, 'cultured': 3, 'inherent': 2, 'doggies': 3, 'boarded': 5, 'lululemon': 3, 'tijuana': 3, 'batman': 6, 'alfred': 1, 'batmobile': 2, 'hat': 12, 'hogwarts': 1, 'overweight': 2, 'elastic': 3, 'cried': 3, 'client': 13, 'fiancé': 6, 'pfft': 1, 'solace': 1, 'cheated': 3, 'quietest': 2, 'bo': 13, 'hock': 2, 'beo': 1, 'disorganized': 4, 'countered': 2, 'despairing': 1, 'dillard': 3, 'iraqi': 1, 'kegs': 1, 'departing': 1, 'spiderman': 1, 'exclude': 2, 'carousel': 2, 'parachute': 1, 'circles': 4, 'helicopters': 1, 'futuristic': 1, 'bumper': 7, 'boats': 5, 'determining': 1, 'wrist': 5, 'arcade': 8, 'painting': 15, 'scruffy': 2, 'staffperson': 16, 'describes': 8, 'untried': 1, 'limo': 4, 'tampa': 1, 'mcclintock': 6, 'exiting': 3, 'harried': 2, 'buffer': 1, 'fiercely': 1, 'contain': 3, 'hurries': 1, 'indication': 9, 'plexiglass': 2, 'perception': 1, 'cellphone': 2, 'chime': 6, 'overworked': 2, 'stoned': 2, 'som': 8, 'pavlovian': 2, 'stimuli': 1, 'pursuit': 1, 'quickening': 1, 'rushes': 2, 'waitstand': 1, 'advising': 1, 'citing': 1, 'inconsistencies': 4, 'advertisement': 1, 'activity': 10, 'sang': 4, 'airless': 1, 'gills': 6, 'brett': 2, 'lid': 3, 'trusted': 15, 'reducing': 1, 'mouthful': 3, 'cripsy': 1, 'ultra': 4, 'saltiness': 2, 'totonno': 1, 'cruisers': 1, 'borrow': 5, 'yell': 6, 'yee': 1, 'haw': 1, 'chest': 4, 'uniquely': 2, 'sinks': 4, 'genders': 1, 'bleh': 8, 'errand': 1, 'doughnut': 5, 'doughnuts': 7, 'handling': 4, 'beignets': 7, 'hydrogenated': 2, 'throat': 7, 'chucked': 1, 'chemically': 1, 'laden': 6, 'frying': 7, 'surpasses': 1, 'tuscana': 1, 'spoken': 9, 'ti': 1, 'jacks': 1, 'poker': 7, 'loyal': 16, 'papa': 12, 'johns': 10, 'supreme': 7, 'sends': 5, 'stretchy': 1, 'disconnected': 1, 'steeper': 1, 'thee': 6, 'greatest': 12, 'legends': 3, 'rockin': 8, 'irs': 3, 'admits': 1, 'arrogant': 8, 'dorrie': 2, 'coughing': 3, 'phlegm': 1, 'documents': 1, 'dismissed': 3, 'sentences': 1, 'resolved': 6, 'mis': 1, 'dorries': 1, 'ethics': 4, 'ladys': 1, 'inconvenice': 1, 'mannered': 3, 'wienerschnitzel': 1, 'stereotype': 2, 'provides': 19, 'cole': 23, 'fatburger': 11, 'jilly': 1, 'stinkweeds': 4, 'commerce': 1, 'booster': 1, 'kimber': 1, 'lanning': 1, 'smallish': 6, 'excursion': 1, 'mags': 2, 'healthiest': 2, 'strongly': 13, 'hangout': 24, 'chz': 2, 'bragged': 1, 'pv': 8, 'raggedy': 1, 'mayonnaise': 6, 'steals': 1, 'souls': 1, 'vain': 3, 'hacky': 1, 'narcissistic': 1, 'whatsosever': 1, 'tyson': 3, 'crosby': 3, 'phenomenally': 1, 'artistic': 10, 'photographic': 1, 'brilliance': 1, 'premier': 2, 'poetic': 1, 'fist': 9, 'crosbie': 1, 'zzed': 1, 'marry': 2, 'montelucia': 6, 'compote': 6, 'desires': 2, 'heidelberg': 1, 'oktoberfest': 2, 'pumpernickel': 1, 'concentrated': 1, 'maggi': 1, 'würze': 1, 'knorr': 2, 'salat': 1, 'krönung': 1, 'mixes': 7, 'sauerbraten': 1, 'volunteered': 2, 'germany': 5, 'berlin': 1, 'bavaria': 1, 'rarer': 2, 'leberknödel': 1, 'delicacies': 1, 'hook': 8, 'sinker': 1, 'destined': 3, 'diane': 2, 'mannerisms': 1, 'boycott': 1, 'blarring': 1, 'fluffers': 1, 'strikes': 6, 'blunt': 5, 'speaker': 7, 'lured': 3, 'spear': 3, 'hallelujah': 1, 'fantasized': 1, 'sacrificing': 1, 'jalepeno': 4, 'blanket': 4, 'potpourri': 1, 'chilling': 4, 'strives': 4, 'plagued': 1, 'wad': 6, 'wasabe': 3, 'sal': 3, 'quiznos': 7, 'fowl': 2, 'beckoning': 2, 'antiseptic': 2, 'handwritten': 3, 'ornamentation': 1, 'lend': 3, 'palatable': 7, 'rectangles': 1, 'refilling': 8, 'packd': 1, 'pappadeux': 2, 'andjust': 1, 'wre': 1, 'definetly': 7, 'quartet': 1, 'huband': 1, 'imported': 11, 'gifting': 1, 'driven': 15, 'quench': 2, 'adobe': 11, 'nephew': 6, 'stack': 16, 'adovada': 5, 'unparalleled': 6, 'inhaled': 4, 'travis': 3, 'mediterranean': 16, 'connects': 2, 'remembering': 6, 'saddle': 1, 'festivities': 6, 'hehehe': 2, 'talent': 12, 'cotton': 10, 'badass': 1, 'adios': 1, 'fabulousness': 1, 'sprinkled': 18, 'goer': 1, 'whores': 1, 'impluse': 1, 'princeton': 1, 'secondary': 2, 'flaccid': 1, 'moxie': 1, 'totem': 1, 'slurpee': 1, 'kitsch': 3, 'obsolete': 1, 'psych': 1, 'swindling': 1, 'lowly': 2, 'johnson': 3, 'moreover': 3, 'merriweather': 1, 'kickass': 3, 'sincere': 12, 'boddington': 2, 'goooood': 4, 'palpitating': 1, 'capital': 8, 'chix': 2, 'tenders': 19, 'jamisons': 1, 'resident': 6, 'macrame': 1, 'functions': 2, 'horns': 2, 'chilean': 2, 'crackers': 16, 'triathlon': 1, 'race': 14, 'pearl': 3, 'izumi': 1, 'tri': 4, 'woo': 9, 'hoo': 4, 'geared': 5, 'triathlons': 1, 'writers': 3, 'motion': 5, 'upsell': 3, 'endure': 5, 'agony': 1, 'tiffany': 5, 'tale': 1, 'fingernails': 2, 'coats': 6, 'tapioca': 1, 'splendid': 2, 'unrestricted': 1, 'descriptions': 4, 'disneyland': 1, 'sonoma': 5, 'wineries': 1, 'fumé': 1, 'ferrari': 3, 'fume': 2, 'kokopelli': 4, 'wilcox': 1, 'whiten': 1, 'harmful': 1, 'uv': 2, 'rays': 2, 'ju': 1, 'giardiniera': 3, 'reviewing': 21, 'chore': 2, 'passport': 3, 'bouquet': 3, 'boutonnieres': 2, 'corsages': 2, 'preserved': 6, 'luminarias': 5, 'volunteers': 5, 'directing': 1, 'paths': 6, 'meowganificant': 1, 'knook': 1, 'cranny': 1, 'cocoa': 9, 'performers': 9, 'carolers': 1, 'mariachi': 6, 'continuously': 4, 'planners': 2, 'cleanest': 6, 'subways': 5, 'bins': 4, 'orderly': 1, 'mosaic': 1, 'fed': 19, 'hazelnut': 12, 'pleasurable': 3, 'wonferul': 1, 'tastier': 5, 'sportsman': 5, 'mated': 1, 'steroids': 2, 'mens': 13, 'survival': 3, 'purely': 6, 'jerky': 5, 'grills': 7, 'guns': 2, 'mimimalist': 1, 'rei': 8, 'woolen': 1, 'appalling': 1, 'promote': 5, 'disinterested': 4, 'assisting': 1, 'drab': 4, 'barkeep': 2, 'gelling': 1, 'peeling': 1, 'icky': 10, 'smoker': 2, 'capriotti': 5, 'multilayered': 1, 'shanghai': 3, 'chinatown': 3, 'suits': 6, 'sportcoats': 1, 'slacks': 5, 'advise': 11, 'turf': 10, 'shepherd': 6, 'harps': 1, 'crow': 2, 'crawl': 8, 'maizie': 5, 'uww': 1, 'eyeing': 3, 'dumber': 2, 'fifth': 8, 'meatless': 3, 'void': 6, 'oregonian': 1, 'deschutes': 2, 'debauchery': 1, 'cyclo': 2, 'ao': 8, 'speaks': 7, 'tranquil': 5, 'minimalistic': 2, 'zen': 7, 'dac': 3, 'biet': 3, 'flank': 2, 'tendon': 5, 'tripe': 8, 'goi': 2, 'aroma': 11, 'anise': 4, 'creation': 8, 'accompaniment': 4, 'spearmint': 1, 'rhino': 1, 'winners': 5, 'pyramid': 2, 'hefe': 3, 'balidated': 1, 'eritrean': 1, 'buzzkill': 1, 'cassandra': 2, 'firstly': 7, 'replacing': 5, 'privacy': 11, 'relevant': 6, 'woodchuck': 2, 'nifty': 1, 'appetit': 2, 'ea': 3, 'usury': 1, 'incessant': 1, 'humming': 1, 'generator': 1, 'organization': 11, 'organizing': 2, 'furnishing': 2, 'periodic': 2, 'sampling': 14, 'tweak': 1, 'hosts': 8, 'cenpho': 11, 'combines': 3, 'robert': 12, 'smashed': 11, 'applies': 1, 'proven': 3, 'shovelfuls': 1, 'rim': 2, 'occupied': 10, 'conspire': 3, 'willow': 7, 'steams': 1, 'thoughtful': 3, 'violation': 3, 'stab': 6, 'deconstructed': 1, 'taxicab': 1, 'suspended': 5, 'fantastical': 1, 'accurately': 2, 'cabbies': 1, 'carnegie': 1, 'hostage': 2, 'demands': 3, 'ransom': 1, 'afoul': 1, 'assure': 5, 'consignment': 4, 'chu': 7, 'hangers': 2, 'dooney': 2, 'wristlet': 1, 'sensors': 2, 'pockets': 11, 'wallets': 3, 'placements': 1, 'damages': 2, 'identify': 5, 'hanger': 5, 'coding': 2, 'consumer': 5, 'sportsac': 1, 'resale': 1, 'pluck': 1, 'customize': 4, 'kettle': 11, 'bibs': 1, 'knives': 3, 'cinnimon': 1, 'dangerous': 6, 'bethel': 1, 'freaked': 6, 'wowza': 2, 'grid': 2, 'blazed': 2, 'harm': 8, 'february': 3, 'mormon': 7, 'religion': 2, 'hikers': 5, 'ponder': 2, 'markers': 3, 'conquering': 2, 'piles': 1, 'onward': 2, 'punching': 3, 'squinting': 1, 'retiring': 1, 'stubborn': 1, 'error': 6, 'hiker': 4, 'loop': 10, 'tied': 5, 'labyrinth': 1, 'gravel': 16, 'weaved': 1, 'determined': 11, 'westward': 1, 'cinder': 1, 'hitch': 4, 'ford': 3, 'jeeps': 1, 'plea': 2, 'creep': 4, 'exchanged': 1, 'glances': 1, 'hopped': 3, 'chit': 4, 'chatted': 17, 'disjointed': 2, 'unmarked': 4, 'moron': 2, 'enthusiastically': 1, 'beast': 4, 'practical': 5, 'joker': 1, 'smiles': 17, 'reassuring': 3, 'dread': 4, 'walmart': 25, 'eclectic': 12, 'proudly': 5, 'ominvore': 1, 'irrelevant': 3, 'progression': 1, 'interpretations': 2, 'unpretentiously': 1, 'intentions': 7, 'sustainability': 1, 'conjure': 1, 'excuses': 3, 'vitamin': 3, 'century': 8, 'crystal': 11, 'pulls': 6, 'vengence': 1, 'guacomole': 2, 'traveler': 9, 'yards': 5, 'alternate': 2, 'mysteriously': 1, 'unauthorized': 1, 'embassy': 1, 'suites': 14, 'tin': 5, 'miners': 4, 'england': 3, 'toe': 6, 'nourishment': 3, 'discard': 1, 'thereby': 1, 'appeasing': 1, 'glowing': 7, 'flaws': 2, 'creature': 4, 'erawan': 1, 'gai': 4, 'bitter': 18, 'lieu': 3, 'syrups': 5, 'effective': 8, 'cluster': 1, 'rueben': 2, 'towners': 5, 'needy': 3, 'fridged': 1, 'smiled': 13, 'jeremy': 1, 'lin': 1, 'cub': 3, 'alive': 11, 'hohokam': 1, 'lushes': 1, 'ovations': 1, 'powerhouse': 1, 'progresses': 2, 'cubs': 2, 'avoidance': 1, 'trepidation': 2, 'scheduled': 15, 'dental': 22, 'heather': 4, 'confessing': 1, 'allayed': 1, 'guilt': 10, 'flossing': 1, 'berschler': 1, 'cavities': 2, 'scarier': 1, 'helpfulness': 2, 'taters': 1, 'richest': 1, 'chocolatiest': 1, 'moistest': 1, 'tellin': 2, 'yessss': 1, 'popeye': 5, 'sugared': 3, 'lollicup': 1, 'frantically': 2, 'mohave': 1, 'afront': 1, 'shelter': 6, 'tully': 2, 'mochas': 1, 'haunt': 6, 'wed': 4, 'manuels': 2, 'renovated': 9, 'tempted': 13, 'persisted': 1, 'resembling': 5, 'pizokie': 2, 'wattage': 2, 'longtime': 1, 'itemized': 2, 'tipped': 7, 'tippers': 1, 'kabobs': 4, 'floral': 5, 'arrangements': 11, 'rivals': 4, 'unsettling': 2, 'promotions': 3, 'tents': 3, 'ai': 4, 'graphic': 2, 'counselor': 2, 'paperwork': 6, 'adviser': 1, 'inexperienced': 2, 'committed': 9, 'semester': 6, 'permission': 3, 'advisor': 1, 'irked': 2, 'impatient': 7, 'hamburgessa': 1, 'hungary': 1, 'region': 7, 'patented': 1, 'brined': 3, 'jumper': 2, 'backwards': 8, 'mandalay': 1, 'burmese': 2, 'betito': 2, 'brandon': 2, 'rustica': 3, 'penis': 2, 'splashed': 4, 'grazi': 1, 'abilities': 9, 'pottery': 5, 'pencil': 5, 'paints': 1, 'sponges': 1, 'stencils': 1, 'masterpeice': 1, 'keepsake': 1, 'intrusive': 4, 'helper': 2, 'dagger': 1, 'horse': 15, 'trough': 3, 'shovel': 1, 'questionably': 1, 'nearest': 7, 'smash': 10, 'embarrassment': 5, 'riches': 1, 'secured': 3, 'puffs': 6, 'eggless': 1, 'bloomin': 1, 'seasonings': 6, 'alway': 2, 'notsomuch': 1, 'sooooooooo': 3, 'chaos': 8, 'morons': 6, 'chalky': 1, 'rhyme': 2, 'dumbest': 1, 'irrational': 2, 'dispense': 1, 'purposely': 4, 'decisions': 10, 'sane': 1, 'attempted': 10, 'realllllllly': 1, 'terrified': 2, 'fury': 2, 'waaaaaaaaay': 1, 'hydrated': 2, 'commit': 3, 'crimes': 1, 'soooorrrrry': 1, 'meanderings': 1, 'deemed': 1, 'nazi': 2, 'misconstrue': 1, 'heavens': 1, 'formed': 4, 'sonny': 3, 'tastiness': 4, 'determine': 2, 'stoves': 1, 'porky': 2, 'pb': 10, 'tish': 3, 'choosing': 19, 'crucially': 1, 'hegel': 3, 'yoga': 29, 'canada': 5, 'lounged': 2, 'royal': 21, 'palms': 11, 'hottie': 4, 'butternut': 9, 'devoured': 11, 'panna': 3, 'cotta': 4, 'ingrained': 1, 'genes': 1, 'ware': 1, 'appliances': 6, 'cutters': 1, 'scampi': 3, 'unheard': 2, 'pedicured': 1, 'manicures': 5, 'belvedere': 3, 'perf': 1, 'prefers': 3, 'alongside': 6, 'exposure': 3, 'bussing': 2, 'dedicated': 12, 'twilight': 3, 'amend': 1, 'posting': 4, 'smunchphoenix': 1, 'galloblanco': 1, 'chilaquiles': 7, 'satff': 1, 'drizzling': 1, 'diameter': 2, 'pourer': 2, 'flow': 9, 'quarter': 22, 'frustrating': 10, 'gravity': 3, 'yeahhh': 1, 'squeezable': 1, 'restrictors': 1, 'puhleeeeze': 1, 'hmmmmm': 2, 'hmmmmmm': 2, 'ipads': 1, 'savvy': 3, 'grandmother': 11, 'abundance': 7, 'fred': 8, 'debating': 3, 'traps': 3, 'flashing': 1, 'horrendous': 5, 'cupcakery': 1, 'cuppies': 1, 'scottsale': 2, 'cupcakeries': 1, 'whala': 1, 'tirelessly': 2, 'busted': 3, 'carbs': 12, 'indy': 3, 'grownup': 1, 'piper': 5, 'ppp': 2, 'representative': 4, 'hava': 2, 'java': 7, 'blends': 7, 'habanero': 8, 'disagree': 11, 'minna': 1, 'chowder': 5, 'compete': 6, 'vampiro': 3, 'cojita': 1, 'crimini': 2, 'proportioned': 1, 'reallllllly': 1, 'chillies': 2, 'daycare': 6, 'selfish': 1, 'specialists': 3, 'teenager': 6, 'wayward': 1, 'yogurtini': 3, 'gunked': 1, 'debris': 4, 'gossiping': 2, 'dodged': 2, 'puddles': 1, 'levers': 1, 'squirt': 4, 'attempting': 7, 'bordering': 2, 'medicine': 2, 'minty': 4, 'unappetizing': 4, 'teens': 6, 'chattering': 1, 'dating': 3, 'woes': 1, 'abandoning': 1, 'factors': 7, 'committing': 2, 'revolving': 5, 'haru': 1, 'udon': 3, 'eves': 1, 'mammogram': 1, 'terminated': 1, 'proclaims': 2, 'scrawled': 1, 'ducked': 2, 'fest': 4, 'indians': 2, 'barflys': 1, 'getaways': 1, 'flys': 1, 'cigarette': 4, 'necklace': 1, 'fattie': 1, 'macaroons': 5, 'wooooooooo': 1, 'colleague': 6, 'predominately': 1, 'signaled': 1, 'brightly': 4, 'distinctive': 4, 'reminisced': 1, 'marco': 5, 'polo': 2, 'hooray': 8, 'peels': 2, 'darla': 1, 'salem': 1, 'carumba': 1, 'misguided': 2, 'pecos': 2, 'pinned': 3, 'stranded': 5, 'transfered': 1, 'wanda': 1, 'dispatcher': 1, 'compassionate': 7, 'buses': 3, 'tracked': 2, 'supervisor': 3, 'bob': 14, 'doornob': 1, 'stipend': 1, 'arizonans': 2, 'financially': 2, 'impractical': 1, 'harkin': 1, 'lodi': 3, 'confirm': 6, 'gene': 1, 'outrigger': 1, 'marathons': 2, 'capitol': 4, 'haagen': 2, 'dazs': 2, 'ahhh': 4, 'relationship': 12, 'corrected': 8, 'lightened': 1, 'circulation': 3, 'troublesome': 2, 'registers': 2, 'bagging': 4, 'specially': 3, 'connoisseur': 9, 'pretentiousness': 3, 'concepts': 5, 'anti': 4, 'smancy': 2, 'tatters': 1, 'patato': 4, 'ghesicuto': 1, 'criticisms': 2, 'gloves': 16, 'laying': 2, 'creating': 12, 'scooping': 1, 'squirm': 1, 'barrow': 1, 'souper': 1, 'travelzoo': 4, 'appertizer': 2, 'appologized': 1, 'ordred': 1, 'carte': 10, 'cabinet': 3, 'raped': 1, 'weakness': 4, 'duplicate': 3, 'married': 10, 'inflections': 1, 'seventeen': 2, 'olds': 2, 'dobler': 1, 'successfully': 5, 'faking': 1, 'performance': 12, 'decipher': 1, 'pummel': 1, 'cheeseburgers': 5, 'fixin': 6, 'crinkle': 8, 'rnr': 10, 'orgasm': 2, 'hav': 2, 'doomed': 1, 'reside': 1, 'lavosh': 7, 'okayed': 1, 'amber': 19, 'ladders': 1, 'retrieval': 1, 'treks': 1, 'fuh': 1, 'campbells': 1, 'sriacha': 1, 'rangoon': 2, 'krab': 1, 'encouragement': 2, 'shepards': 1, 'lastly': 13, 'gimmicks': 2, 'noexisitant': 1, 'realld': 1, 'india': 12, 'aa': 11, 'hypocrite': 1, 'weirded': 1, 'strapless': 1, 'romper': 1, 'petticoat': 1, 'curves': 1, 'fitting': 12, 'models': 10, 'barefaced': 1, 'photoshopped': 1, 'logging': 1, 'petulant': 1, 'technically': 7, 'puerto': 2, 'rican': 3, 'peole': 1, 'paella': 5, 'rums': 1, 'worker': 9, 'beefy': 2, 'cheez': 3, 'wiz': 7, 'thinly': 7, 'drippy': 1, 'accounts': 2, 'unthinkable': 1, 'banker': 3, 'grumbling': 1, 'jennfer': 1, 'manning': 3, 'tennesee': 1, 'disruption': 1, 'upsetting': 2, 'curtly': 1, 'transacting': 1, 'deadline': 2, 'asterisk': 1, 'approved': 1, 'signer': 1, 'assistant': 8, 'extend': 2, 'inform': 6, 'queue': 5, 'federal': 3, 'institutions': 1, 'serviced': 5, 'overlong': 3, 'gristle': 7, 'excess': 3, 'noshed': 1, 'zinfandel': 7, 'granny': 2, 'brushcetta': 1, 'peeks': 2, 'matthew': 4, 'galletta': 1, 'saves': 4, 'motorcycles': 2, 'charlotte': 1, 'nc': 2, 'hotter': 8, 'ozone': 1, 'becom': 1, 'playa': 1, 'sharen': 1, 'economic': 5, 'demaria': 1, 'therein': 1, 'litte': 2, 'offsets': 1, 'waite': 2, 'grandad': 1, 'roofing': 1, 'bark': 3, 'chinaberry': 1, 'lantana': 1, 'trumpet': 2, 'vines': 1, 'hummingbirds': 2, 'flowering': 1, 'transplanted': 2, 'replant': 1, 'plants': 21, 'plant': 10, 'bakers': 2, 'yorkers': 3, 'plump': 3, 'cashiers': 12, 'unenjoyably': 1, 'haus': 7, 'shove': 2, 'blandest': 1, 'schnitzels': 1, 'gravies': 1, 'spatzle': 4, 'evenly': 3, 'bap': 3, 'modify': 1, 'seinfeld': 2, 'episode': 3, 'ehhh': 3, 'nowadays': 4, 'repotted': 1, 'memorize': 1, 'decrease': 1, 'skim': 2, 'multigrain': 4, 'prop': 3, 'grinder': 7, 'fumes': 1, 'motorcycle': 1, 'geezerados': 1, 'controversial': 1, 'topics': 7, 'proof': 7, 'moms': 11, 'flooded': 3, 'rotc': 1, 'splayed': 1, 'talker': 1, 'peep': 1, 'eavesdrop': 1, 'awake': 4, 'invisible': 6, 'hannah': 5, 'lincoln': 3, 'scrubs': 1, 'devry': 1, 'institute': 5, 'pouding': 1, 'wil': 1, 'jcc': 2, 'momentarily': 2, 'retrospect': 1, 'midday': 3, 'wheel': 8, 'shipped': 7, 'jumpsuit': 1, 'drooling': 5, 'torture': 3, 'leche': 5, 'thu': 1, 'aiello': 7, 'mono': 1, 'sambar': 2, 'rasam': 1, 'idlis': 1, 'dosas': 2, 'miserly': 1, 'gulab': 3, 'jamuns': 2, 'disgustingly': 2, 'udupi': 3, 'decline': 3, 'scolded': 2, 'disrespected': 2, 'roberto': 9, 'tlc': 2, 'anthem': 3, 'rediculously': 1, 'caribbean': 11, 'oxtails': 5, 'milder': 3, 'snapper': 4, 'melting': 7, 'mitigate': 1, 'gathered': 7, 'carb': 9, 'depended': 2, 'smidgen': 2, 'wedged': 1, 'layers': 9, 'leaden': 1, 'disadvantage': 2, 'condos': 4, 'seniors': 6, 'fold': 2, 'philipino': 2, 'beginners': 5, 'stringy': 8, 'flakey': 2, 'adored': 3, 'heckling': 1, 'players': 21, 'wrigley': 1, 'florescent': 1, 'sunshine': 8, 'vig': 21, 'uptown': 5, 'gently': 10, 'scrambler': 3, 'debut': 1, 'tucker': 1, 'scramblers': 1, 'verdict': 6, 'retreat': 3, 'cg': 1, 'lv': 2, 'newspaper': 10, 'ad': 6, 'anywho': 7, 'eyeballing': 2, 'duper': 5, 'drill': 5, 'threesome': 1, 'icey': 3, 'delete': 1, 'sisters': 4, 'discernable': 1, 'hottest': 4, 'promoting': 3, 'hazelwoods': 1, 'yorker': 7, 'tweakwoods': 1, 'rotting': 4, 'strenuous': 4, 'pavement': 1, 'scenary': 1, 'goregous': 3, 'horses': 10, 'hum': 6, 'circled': 2, 'calves': 3, 'sore': 8, 'bastards': 2, 'handlers': 1, 'writer': 1, 'greeter': 2, 'swaddee': 5, 'ka': 5, 'topless': 6, 'exec': 1, 'controlling': 3, 'aw': 2, 'un': 4, 'attentiveness': 1, 'decorum': 2, 'curved': 2, 'avocados': 5, 'lettce': 1, 'iceburg': 2, 'avocoda': 1, 'layover': 3, 'drenched': 12, 'circumference': 1, 'aviation': 1, 'canvas': 3, 'posh': 10, 'wagyu': 6, 'pilsner': 5, 'stax': 5, 'sultry': 3, 'diversify': 1, 'fattier': 3, 'redicolus': 1, 'receives': 4, 'racism': 1, 'goody': 2, 'rewards': 8, 'wipes': 5, 'diapers': 2, 'breastfeeding': 3, 'discreetly': 1, 'garlands': 1, 'rustic': 7, 'checkin': 1, 'soto': 1, 'fr': 3, 'robinson': 1, 'priests': 1, 'sullivan': 1, 'stained': 3, 'communion': 1, 'baaaaaaad': 1, 'milling': 3, 'uncooked': 5, 'encompass': 1, 'representing': 3, 'elements': 8, 'moldy': 4, 'pointing': 5, 'brushed': 6, 'mold': 9, 'muttered': 1, 'whitefish': 2, 'bialy': 3, 'phosphate': 1, 'kingdom': 2, 'tidy': 5, 'mondo': 1, 'thirtsy': 1, 'cavity': 3, 'feared': 1, 'lemons': 2, 'hells': 2, 'nah': 6, 'aight': 2, 'luby': 2, 'dunked': 1, 'shazaam': 1, 'licking': 3, 'lengthy': 4, 'mimi': 5, 'oct': 2, 'recant': 1, 'resembled': 2, 'walks': 13, 'quacks': 1, 'cordon': 2, 'brocolli': 4, 'feat': 3, 'sliver': 6, 'graphically': 1, 'spackling': 1, 'sincerely': 4, 'unfinished': 4, 'baffled': 3, 'remodeling': 7, 'foolish': 4, 'citizen': 11, 'arrest': 1, 'unlikely': 2, 'swooning': 1, 'soronan': 1, 'earliest': 2, 'waking': 3, 'eucalyptus': 3, 'abbreviated': 2, 'youngsters': 1, 'atmospheres': 1, 'besties': 2, 'popper': 1, 'elimination': 1, 'jelly': 10, 'furious': 3, 'endured': 2, 'beep': 2, 'vroooom': 1, 'missy': 1, 'misdemeanor': 1, 'elliott': 1, 'pierce': 2, 'phenomenum': 1, 'coalition': 1, 'lags': 2, 'shaft': 1, 'breakfasty': 2, 'oliver': 2, 'annie': 2, 'supporter': 4, 'endearing': 2, 'bombero': 1, 'afficianados': 1, 'tim': 9, 'bruscetta': 3, 'gums': 4, 'chimmichurri': 1, 'bumped': 6, 'atmopshere': 1, 'pretense': 3, 'pimped': 1, 'handshake': 3, 'punished': 1, 'positioning': 1, 'puke': 5, 'urinate': 1, 'premade': 6, 'strict': 4, 'fettuccine': 5, 'sassy': 4, 'curb': 7, 'tinted': 3, 'sayin': 9, 'oak': 4, 'unbussed': 1, 'micro': 7, 'import': 3, 'actively': 2, 'robyn': 3, 'cb': 3, 'dissappointed': 3, 'remodel': 11, 'ritzy': 1, 'stylists': 7, 'grit': 2, 'marinate': 2, 'soaking': 10, 'skilled': 6, 'lennie': 1, 'playful': 1, 'mohawk': 1, 'tattoos': 7, 'peaking': 1, 'swears': 3, 'dusted': 3, 'wonderous': 1, 'dojo': 2, 'income': 3, 'grocer': 2, 'bugs': 6, 'receipts': 3, 'equates': 3, 'unnecessarily': 2, 'muhammed': 1, 'ali': 4, 'memorbillia': 1, 'brewers': 4, 'coaches': 2, 'underwhelmed': 11, 'rubios': 4, 'decidely': 2, 'dulce': 3, 'meager': 6, 'wontons': 9, 'danced': 3, 'suggesting': 4, 'inquired': 6, 'mask': 6, 'liz': 5, 'rita': 15, 'relaxation': 10, 'glimpse': 3, 'sundaes': 5, 'maker': 7, 'permits': 4, 'mnf': 1, 'discordant': 1, 'secretary': 1, 'tequilas': 2, 'excruciatingly': 2, 'develop': 7, 'puréed': 1, 'tqla': 2, 'swift': 3, 'tort': 1, 'dnf': 1, 'meanwhile': 6, 'whilst': 2, 'oversee': 1, 'saucers': 1, 'tattering': 1, 'eagerly': 2, 'anticipating': 4, 'expedite': 2, 'crept': 1, 'shuffled': 1, 'platters': 11, 'ficticious': 1, 'disgust': 5, 'fetch': 1, 'delivering': 6, 'setups': 1, 'temper': 3, 'jumped': 10, 'retrieved': 3, 'salvage': 2, 'habaneros': 2, 'nandos': 1, 'olympic': 2, 'bartop': 1, 'inexplicably': 2, 'shifts': 1, 'methinks': 4, 'ram': 1, 'incident': 12, 'borad': 1, 'daylight': 5, 'vulture': 2, 'port': 4, 'pulverized': 1, 'instincts': 1, 'rio': 4, 'invented': 5, 'utah': 4, 'rios': 1, 'micky': 1, 'dees': 1, 'dressier': 2, 'sparkles': 1, 'modifications': 6, 'koi': 5, 'substance': 9, 'draught': 3, 'surprising': 17, 'dungeness': 2, 'tanzy': 2, 'parsnip': 5, 'mmmmmmmm': 3, 'alaskan': 3, 'brussel': 10, 'incinerate': 1, 'briquettes': 1, 'columbia': 1, 'badger': 2, 'annoyingly': 4, 'ubiquitous': 5, 'lewis': 2, 'folds': 1, 'hadron': 1, 'collider': 1, 'vats': 1, 'gecko': 1, 'greed': 1, 'exemplifies': 1, 'credo': 1, 'defectors': 1, 'peet': 1, 'lampooned': 1, 'sayings': 1, 'chuckle': 2, 'grungy': 1, 'blond': 3, 'uneducated': 2, 'coaster': 3, 'tastebuds': 10, 'flair': 5, 'binging': 1, 'cal': 8, 'ap': 2, 'chao': 1, 'herbal': 3, 'rooibos': 2, 'teapots': 1, 'teapot': 1, 'whistling': 1, 'busboy': 5, 'brine': 2, 'douchy': 1, 'baconator': 1, 'sriracha': 8, 'orzo': 2, 'tier': 1, 'concoctions': 4, 'recognizing': 1, 'crop': 5, 'drift': 3, 'madre': 1, 'aromatic': 2, 'tottie': 4, 'kaya': 1, 'hospitable': 7, 'totts': 1, 'hotttt': 1, 'pungent': 3, 'bourban': 1, 'twins': 1, 'awesomer': 1, 'napa': 6, 'loathed': 2, 'boil': 2, 'foresee': 1, 'pilgrim': 2, 'crisps': 3, 'revitalize': 1, 'dueling': 1, 'pianos': 1, 'inebriated': 2, 'slurp': 2, 'viet': 8, 'soothing': 3, 'installations': 1, 'whatevers': 1, 'dnb': 1, 'gaming': 3, 'nonstop': 2, 'amphitheatre': 2, 'risers': 1, 'donkey': 7, 'hayden': 2, 'enchaladas': 1, 'saucier': 1, 'mcuh': 1, 'unhealthy': 7, 'deduct': 4, 'solely': 11, 'inconvenient': 6, 'dire': 4, 'yearning': 3, 'rerun': 1, 'iron': 26, 'glancing': 1, 'argument': 3, 'channel': 5, 'negatives': 5, 'hotdog': 7, 'recover': 3, 'mi': 20, 'brief': 10, 'bubbling': 2, 'reaction': 10, 'swoon': 2, 'toxic': 3, 'vapors': 1, 'heals': 2, 'hugely': 5, 'mortifying': 1, 'elaine': 2, 'fret': 1, 'dear': 19, 'paulene': 1, 'pic': 3, 'conscience': 4, 'elevation': 6, 'fences': 1, 'tumbling': 1, 'ledges': 1, 'handrails': 1, 'trickiest': 1, 'breather': 1, 'twisted': 2, 'breaks': 7, 'liter': 1, 'yucky': 7, 'rethink': 2, 'pilaf': 1, 'yaya': 1, 'amaaizizznzng': 1, 'heffe': 1, 'concerened': 1, 'suicide': 2, 'vinegary': 3, 'hella': 3, 'thicker': 12, 'salazar': 3, 'competitions': 2, 'phenomena': 1, 'breakroom': 1, 'explosion': 6, 'chased': 3, 'perogies': 1, 'flesh': 3, 'comping': 2, 'medjool': 1, 'purchasing': 13, 'holland': 1, 'classified': 3, 'international': 7, 'restock': 2, 'shelved': 1, 'matching': 4, 'accomodates': 1, 'upwards': 1, 'expressed': 2, 'dissatisfaction': 1, 'tolerance': 2, 'patronized': 4, 'elixirs': 1, 'dazed': 3, 'slllllow': 1, 'gangster': 1, 'knots': 6, 'crumbled': 4, 'charcuterie': 3, 'fizz': 3, 'germaine': 1, 'carbonation': 1, 'jumpstreet': 2, 'quesdilla': 2, 'triangular': 2, 'upload': 1, 'embodies': 1, 'westminster': 1, 'com': 9, 'tam': 4, 'bi': 2, 'gio': 2, 'integrity': 3, 'oiliness': 2, 'bahn': 6, 'outsourced': 1, 'arbol': 2, 'orchata': 1, 'rarity': 4, 'messing': 3, 'redo': 3, 'developing': 2, 'cca': 1, 'curd': 4, 'anonymous': 2, 'diagnosable': 1, 'yah': 1, 'tendencies': 1, 'repetitive': 2, 'shelve': 1, 'undr': 1, 'grasp': 2, 'tales': 2, 'fabled': 1, 'whisper': 4, 'thief': 2, 'believed': 2, 'tantalizing': 5, 'visions': 1, 'archives': 1, 'blindly': 1, 'illuminated': 1, 'prayer': 2, 'haze': 3, 'bargains': 5, 'wept': 2, 'marvels': 1, 'clap': 1, 'dare': 8, 'executive': 8, 'macmillian': 2, 'renovations': 2, 'gadgets': 1, 'skylights': 2, 'cranks': 1, 'witness': 4, 'artistry': 1, 'promises': 3, 'sensory': 2, 'na': 1, 'kebab': 1, 'messages': 3, 'iolanda': 1, 'orangeheads': 1, 'doling': 1, 'insults': 1, 'rebuttal': 1, 'jealously': 1, 'pug': 1, 'yeppie': 1, 'cutlery': 1, 'illusion': 2, 'normalcy': 2, 'rr': 1, 'beckett': 5, 'schreiner': 1, 'appy': 3, 'broad': 6, 'knife': 8, 'flavourful': 4, 'reduction': 7, 'brule': 3, 'ginormous': 7, 'depot': 10, 'punked': 1, 'briggs': 1, 'pearly': 1, 'closeup': 2, 'cages': 3, 'fishheads': 1, 'feeding': 3, 'stingrays': 1, 'yow': 1, 'jeez': 2, 'cone': 8, 'philosophical': 1, 'elder': 1, 'profession': 2, 'commonly': 1, 'vices': 2, 'pancreatic': 1, 'islets': 1, 'succumbed': 1, 'sweetened': 5, 'established': 5, 'tibi': 1, 'runway': 4, 'mountian': 1, 'restraunt': 2, 'mre': 2, 'backpacking': 2, 'meetup': 2, 'occasional': 15, 'urging': 1, 'munchener': 1, 'spaten': 1, 'pils': 1, 'pollack': 2, 'reluctant': 3, 'google': 7, 'fooled': 8, 'czech': 1, 'thereof': 4, 'browsing': 9, 'swavorski': 1, 'bicones': 1, 'cubes': 6, 'pendant': 2, 'vexed': 1, 'baroque': 1, 'sported': 1, 'findings': 2, 'stringing': 1, 'raiding': 1, 'abides': 1, 'rusted': 1, 'overhead': 7, 'loader': 2, 'loaders': 3, 'laundry': 2, 'lonnnnng': 1, 'alexandra': 1, 'partly': 3, 'recovery': 3, 'relied': 4, 'blvd': 7, 'dammit': 3, 'wildcats': 1, 'alterations': 3, 'alteration': 3, 'reflections': 1, 'innumerable': 2, 'pairs': 9, 'hemmed': 4, 'undress': 1, 'curtain': 4, 'trousers': 2, 'cuff': 2, 'indestructible': 1, 'vermicelli': 7, 'interrupt': 4, 'neglectful': 1, 'indifferent': 9, 'weary': 3, 'rx': 2, 'peanutty': 1, 'cock': 3, 'aromas': 3, 'intoxicating': 3, 'interlude': 2, 'vaporized': 1, 'euphoria': 1, 'slurping': 1, 'hotpot': 1, 'dame': 1, 'albert': 12, 'mcarthur': 1, 'presidents': 1, 'golfed': 1, 'marilyn': 4, 'monroe': 5, 'celebrities': 3, 'magnates': 1, 'costly': 2, 'imposed': 1, 'purveyors': 1, 'shriner': 2, 'ocatilla': 4, 'concierge': 8, 'stomachs': 2, 'tarts': 7, 'chunk': 6, 'prosecco': 2, 'hote': 1, 'sizeable': 1, 'deco': 2, 'granite': 5, 'countertops': 1, 'salts': 1, 'submerged': 1, 'chins': 1, 'robes': 3, 'wetbar': 1, 'storing': 1, 'etremely': 1, 'mattress': 4, 'feather': 1, 'thread': 3, 'silky': 5, 'disturbed': 4, 'housekeeping': 6, 'rise': 8, 'lavish': 1, 'croissans': 1, 'boursin': 1, 'danishes': 3, 'assortmnt': 1, 'cokes': 6, 'massages': 15, 'personalized': 3, 'headache': 4, 'printers': 1, 'wii': 2, 'rentals': 5, 'therapeutic': 2, 'losing': 8, 'patched': 1, 'birth': 2, 'spawn': 1, 'frigging': 1, 'stubs': 1, 'ther': 2, 'eis': 1, 'norterra': 2, 'coded': 1, 'muscle': 3, 'cheat': 10, 'admitted': 4, 'heng': 1, 'classier': 4, 'failure': 3, 'punishment': 1, 'mealy': 4, 'bdsm': 1, 'capellini': 2, 'checca': 2, 'girth': 2, 'limpest': 1, 'revived': 2, 'doa': 1, 'sprinkling': 1, 'moreso': 2, 'acrid': 3, 'teaspoon': 2, 'microscopically': 1, 'starve': 2, 'doom': 1, 'disowned': 1, 'junkie': 10, 'osf': 2, 'unforgivable': 1, 'oreganato': 1, 'sneer': 1, 'uncool': 1, 'blemish': 1, 'corduroys': 1, 'patterned': 1, 'unapologetic': 2, 'nausea': 2, 'realizing': 3, 'confusion': 17, 'murmuring': 1, 'recompense': 1, 'cloyed': 1, 'salvador': 2, 'similarities': 1, 'roadside': 3, 'loraco': 1, 'telenovela': 1, 'baileys': 1, 'cravings': 16, 'mushed': 1, 'fillings': 9, 'redemption': 3, 'karey': 4, 'deceiving': 3, 'es': 1, 'cargo': 2, 'lucille': 4, 'buster': 3, 'memphis': 1, 'tuition': 2, 'collard': 4, 'starter': 14, 'thicken': 1, 'carbon': 3, 'punched': 2, 'expands': 1, 'swipe': 4, 'activation': 1, 'privy': 1, 'pronunciation': 1, 'cd': 8, 'beirut': 1, 'magnet': 1, 'avengers': 1, 'dispenser': 5, 'arching': 1, 'grazie': 4, 'execute': 3, 'dorks': 1, 'aww': 1, 'slather': 2, 'ritz': 5, 'staffs': 1, 'fonts': 1, 'canceling': 1, 'pc': 3, 'nikon': 1, 'lowes': 1, 'lowe': 1, 'diy': 2, 'instructions': 8, 'pups': 5, 'complementing': 1, 'cuteness': 2, 'bofa': 1, 'chicagoan': 1, 'azz': 1, 'yrs': 4, 'reminders': 2, 'prison': 3, 'warden': 1, 'fines': 2, 'bugged': 3, 'hideously': 2, 'reals': 1, 'mahi': 22, 'gall': 2, 'survived': 2, 'specified': 2, 'spiciest': 1, 'bizarre': 11, 'heater': 1, 'flooding': 2, 'dinette': 1, 'roomstore': 2, 'dressers': 1, 'unrefined': 1, 'icee': 1, 'gelati': 3, 'blendini': 3, 'ins': 4, 'oreos': 4, 'ms': 1, 'mistos': 1, 'swedish': 6, 'custards': 2, 'ices': 2, 'awesometown': 1, 'smeeks': 7, 'goofy': 4, 'applause': 2, 'necks': 1, 'climate': 3, 'heroes': 1, 'mediteranian': 1, 'raisins': 2, 'parsley': 4, 'pronto': 2, 'craig': 1, 'demarco': 1, 'extends': 3, 'cassette': 1, 'tapes': 1, 'hipper': 2, 'pal': 6, 'goddess': 2, 'porkwich': 1, 'familiarity': 2, 'aps': 1, 'agenda': 1, 'billiards': 6, 'cornhole': 2, 'blackjack': 1, 'hork': 1, 'chipper': 2, 'worky': 1, 'wasabi': 18, 'acknowledgment': 1, 'mgr': 4, 'rubbing': 3, 'underseasoned': 2, 'customary': 1, 'clinging': 1, 'swap': 4, 'denser': 1, 'hotspot': 2, 'caters': 4, 'sammich': 4, 'nuff': 2, 'chaotic': 2, 'clowns': 3, 'associates': 7, 'sunscreens': 4, 'cc': 7, 'professionally': 3, 'blur': 1, 'yung': 6, 'cardinal': 11, 'sin': 7, 'coctail': 1, 'yumminess': 4, 'praiseworthy': 1, 'se': 6, 'pumped': 3, 'suizas': 1, 'laugh': 24, 'jewelery': 1, 'etsy': 1, 'david': 10, 'goliath': 1, 'playoff': 2, 'alchyhol': 1, 'postnet': 1, 'galleria': 2, 'davis': 1, 'ruin': 10, 'cruz': 6, 'mba': 5, 'networking': 2, 'pinwheel': 2, 'peeked': 2, 'according': 22, 'commercialized': 3, 'replicate': 3, 'gringo': 3, 'spectacle': 2, 'beanbag': 1, 'televised': 1, 'elvis': 5, 'norris': 1, 'bevy': 4, 'posters': 5, 'footprints': 1, 'statues': 4, 'trotting': 1, 'zebra': 1, 'rumor': 4, 'tickle': 1, 'resuscitating': 1, 'unleashes': 1, 'alma': 4, 'expectant': 2, 'mariners': 1, 'padres': 5, 'unoccupied': 1, 'stacy': 2, 'partied': 1, 'valeted': 1, 'casita': 3, 'solitude': 2, 'jetted': 1, 'slippers': 2, 'heartburn': 1, 'tums': 3, 'pescado': 2, 'sweeping': 6, 'mopping': 1, 'gateway': 4, 'carrier': 5, 'configured': 1, 'prong': 1, 'concourses': 1, 'consequently': 4, 'spill': 3, 'walkway': 4, 'necessitates': 1, 'walkways': 2, 'spine': 1, 'maneuver': 6, 'throngs': 1, 'distances': 1, 'bruises': 1, 'negotiate': 3, 'contributes': 2, 'amateurs': 1, 'bottlenecks': 1, 'exacerbating': 1, 'snowbirds': 2, 'cancer': 9, 'habitats': 1, 'midwest': 7, 'loveliest': 1, 'grandson': 1, 'splurged': 3, 'carmelized': 3, 'scal': 1, 'ads': 4, 'informal': 2, 'treadmills': 1, 'lockers': 3, 'cabinets': 2, 'personals': 1, 'latch': 1, 'mountainside': 1, 'den': 5, 'rink': 8, 'crusade': 1, 'gonging': 1, 'infrequently': 1, 'summary': 7, 'raise': 9, 'brava': 2, 'usairways': 1, 'elbrava': 1, 'sandwhiches': 5, 'removable': 2, 'tastey': 5, 'medications': 2, 'sportman': 1, 'basha': 4, 'customized': 3, 'omnivorous': 1, 'daunting': 6, 'trim': 7, 'interfere': 2, 'goelet': 1, 'beuf': 1, 'ammenities': 1, 'classrooms': 2, 'conditioned': 5, 'pilates': 3, 'education': 9, 'activities': 14, 'softball': 5, 'volleyball': 7, 'playgrounds': 1, 'regard': 4, 'downgrading': 3, 'chatty': 6, 'dividers': 2, 'crumble': 3, 'craisins': 2, 'prevented': 3, 'venyse': 3, 'clawing': 1, 'loveliness': 2, 'odds': 4, 'daunted': 2, 'blackened': 7, 'israeli': 3, 'persevered': 1, 'relented': 2, 'boxed': 5, 'splurges': 1, 'buckles': 1, 'swag': 2, 'creeped': 2, 'wcg': 1, 'nwohio': 1, 'dolphin': 2, 'brag': 5, 'oftern': 2, 'ashtray': 2, 'bonuses': 2, 'recovered': 2, 'reassurances': 2, 'mightly': 1, 'comedian': 3, 'pittsburgh': 2, 'butts': 2, 'bout': 4, 'pinkeye': 3, 'elected': 2, 'maestro': 1, 'imply': 3, 'staffed': 9, 'congenial': 1, 'widest': 1, 'apeshit': 1, 'pepsi': 9, 'breadshits': 1, 'achieving': 1, 'parenting': 1, 'snazzy': 1, 'theives': 1, 'econolodge': 1, 'chocolatey': 5, 'tram': 1, 'smf': 1, 'sna': 1, 'ont': 1, 'bur': 1, 'infamous': 3, 'altered': 3, 'sew': 1, 'patrick': 6, 'joshua': 2, 'wills': 1, 'sawdust': 1, 'intermittently': 2, 'trailers': 1, 'priorities': 1, 'sprawling': 3, 'dreaded': 5, 'hover': 2, 'necessity': 2, 'powdery': 1, 'nutmeg': 4, 'smog': 1, 'eternal': 2, 'frothy': 3, 'lulu': 3, 'defiantly': 8, 'ovens': 7, 'verify': 2, 'stake': 4, 'roaring': 7, 'barometer': 2, 'remainder': 4, 'staycation': 3, 'poolside': 10, 'palm': 3, 'heinekins': 1, 'coppers': 1, 'limbs': 1, 'tapenades': 1, 'strolled': 3, 'moderately': 5, 'replenish': 1, 'lingering': 3, 'arguing': 3, 'nd': 1, 'fingerprint': 1, 'bacteria': 2, 'wishful': 2, 'thinker': 1, 'smearing': 1, 'wrappers': 2, 'amused': 5, 'actions': 3, 'wiping': 5, 'prepping': 2, 'occurs': 1, 'slaps': 1, 'surfaces': 3, 'reaching': 8, 'occurred': 5, 'speculate': 1, 'reflected': 4, 'stride': 1, 'percentage': 1, 'mismanaging': 1, 'county': 3, 'inspector': 2, 'covet': 3, 'loooooove': 1, 'couture': 1, 'acne': 1, 'endovenera': 1, 'ksubi': 1, 'nike': 9, 'finishes': 2, 'propped': 2, 'unfulfilled': 2, 'tecate': 2, 'loss': 7, 'carpacchio': 1, 'vowed': 6, 'danielle': 7, 'caved': 3, 'vinyl': 3, 'qualm': 3, 'titles': 2, 'collections': 2, 'tracks': 4, 'amoeba': 2, 'ukrainian': 1, 'bestie': 1, 'janis': 2, 'joplin': 1, 'doubted': 1, 'lingerie': 3, 'semi': 3, 'bums': 6, 'profanities': 1, 'passerby': 2, 'vendetta': 1, 'researched': 1, 'emulates': 1, 'winds': 2, 'taxpayers': 1, 'teacups': 1, 'patch': 3, 'monochromatic': 1, 'jams': 4, 'gulp': 3, 'mousse': 19, 'keen': 3, 'frisbee': 1, 'desks': 1, 'sipped': 2, 'munched': 2, 'dud': 1, 'swamped': 5, 'barros': 1, 'vault': 2, 'dietetic': 1, 'arsenal': 1, 'segment': 1, 'disapointed': 1, 'ouchh': 1, 'fuckin': 1, 'pounding': 4, 'chilis': 8, 'visa': 4, 'mastercard': 2, 'jolt': 1, 'fairmont': 3, 'princess': 8, 'lagoon': 1, 'firey': 1, 'swam': 1, 'bourdon': 1, 'mina': 3, 'hacienda': 2, 'scarred': 1, 'jacked': 2, 'passengers': 7, 'showers': 3, 'deodorant': 1, 'lysol': 2, 'traverse': 1, 'earthen': 1, 'embankment': 1, 'grubby': 1, 'fashionable': 2, 'detracts': 2, 'tarbell': 2, 'pretensions': 1, 'leek': 2, 'redolent': 1, 'dehydrated': 5, 'nonentity': 1, 'mightily': 2, 'peculiar': 2, 'unidentified': 2, 'fragment': 1, 'uninteresting': 4, 'celebratory': 3, 'army': 9, 'bragg': 2, 'rapid': 3, 'pressured': 2, 'freeing': 1, 'resorted': 1, 'tactic': 1, 'tarrying': 1, 'ascertained': 1, 'pardon': 2, 'gracing': 2, 'rant': 5, 'extent': 5, 'marriage': 2, 'marriages': 1, 'gentler': 1, 'veerrrrrryyyyyyyyy': 1, 'clorox': 1, 'attributes': 2, 'anyhoo': 4, 'vincent': 3, 'errors': 2, 'hastily': 4, 'diagnose': 2, 'skimpt': 1, 'knot': 4, 'everday': 1, 'toof': 1, 'rehearsal': 3, 'atc': 2, 'production': 3, 'herberger': 2, 'megan': 4, 'mcginnis': 3, 'adelman': 1, 'hancock': 2, 'assets': 1, 'romance': 7, 'deception': 1, 'sorrow': 2, 'harmonies': 1, 'cherished': 1, 'eden': 1, 'artie': 1, 'eg': 4, 'dolmades': 3, 'tahini': 6, 'extended': 7, 'displaying': 3, 'brave': 6, 'apartments': 3, 'olivos': 5, 'irritated': 6, 'betitos': 2, 'autocross': 1, 'sombreros': 3, 'senor': 6, 'fandito': 1, 'moods': 1, 'kosher': 5, 'kicky': 2, 'alread': 1, 'sooooooo': 1, 'nonvegan': 1, 'adrienne': 2, 'profusely': 3, 'appreciative': 2, 'cheapish': 1, 'underfilled': 1, 'emotions': 1, 'mckenna': 1, 'rootbeer': 3, 'floats': 5, 'jodi': 8, 'erica': 4, 'loosens': 1, 'nude': 1, 'sunburn': 2, 'serums': 1, 'moisturizers': 1, 'sunscreen': 1, 'primer': 1, 'pose': 2, 'positions': 1, 'twisting': 1, 'robe': 5, 'album': 2, 'firs': 1, 'sourced': 3, 'artful': 3, 'emu': 1, 'inflammation': 1, 'jaw': 1, 'dyes': 4, 'refined': 4, 'ridden': 3, 'wok': 4, 'tso': 6, 'unashamedly': 1, 'gobs': 2, 'zig': 1, 'zag': 1, 'essence': 15, 'tammie': 9, 'coe': 7, 'mj': 7, 'fwd': 1, 'selecting': 7, 'sympathetic': 3, 'admitting': 3, 'makhani': 1, 'rome': 4, 'carby': 1, 'cluttered': 1, 'giveaway': 1, 'os': 1, 'glitters': 2, 'jiffy': 2, 'misnomer': 1, 'omnipresent': 1, 'uofp': 2, 'employment': 2, 'snobsdale': 1, 'snotsdale': 1, 'wannabee': 1, 'billboards': 2, 'populated': 3, 'peddling': 1, 'masking': 2, 'hords': 1, 'bossomed': 1, 'attractions': 4, 'diamondback': 5, 'margarittaville': 1, 'masses': 2, 'housing': 2, 'collapsed': 1, 'renassaince': 1, 'poser': 4, 'occupancy': 2, 'homewood': 3, 'gaudiness': 1, 'fria': 1, 'riverbed': 1, 'beacon': 3, 'westsiders': 1, 'bedroom': 13, 'communities': 2, 'coronado': 8, 'boycotted': 2, 'cochata': 1, 'juke': 7, 'crappiest': 1, 'eventful': 1, 'lifes': 1, 'agrees': 4, 'ez': 1, 'component': 2, 'symphony': 10, 'ngoc': 1, 'mam': 1, 'pansy': 1, 'lollypop': 1, 'hushpuppies': 1, 'remoulade': 3, 'lag': 1, 'logjam': 1, 'roux': 1, 'ninja': 12, 'moderate': 9, 'rumors': 3, 'houstons': 4, 'picazzo': 4, 'merchant': 1, 'remain': 9, 'elevators': 3, 'nourish': 4, 'prescription': 5, 'preferences': 4, 'speech': 2, 'hates': 5, 'gauged': 1, 'optometrist': 1, 'unsolicited': 2, 'graphical': 1, 'references': 3, 'cutesy': 4, 'progressive': 4, 'pitch': 4, 'optometrists': 1, 'dentists': 8, 'retailer': 2, 'matters': 16, 'cylindrical': 1, 'performer': 1, 'aimed': 2, 'fireplaces': 4, 'von': 2, 'hansons': 1, 'blu': 6, 'versa': 3, 'kicks': 5, 'firemen': 3, 'spectrum': 5, 'filming': 1, 'beauties': 1, 'dodge': 3, 'tmp': 2, 'cantina': 10, 'julep': 1, 'shumai': 4, 'bcs': 3, 'hitlist': 1, 'olympia': 1, 'wannabe': 3, 'nam': 6, 'sao': 3, 'seeming': 2, 'spoons': 7, 'recentley': 1, 'fosters': 2, 'shazzam': 1, 'slider': 8, 'tout': 1, 'moto': 3, 'tonia': 1, 'demanding': 4, 'lesser': 8, 'aim': 1, 'splits': 1, 'abroad': 4, 'remover': 3, 'simultaneously': 3, 'brewpubs': 2, 'rapture': 2, 'spinto': 1, 'scientists': 1, 'presets': 1, 'lasted': 6, 'boisterous': 3, 'highlighted': 2, 'argos': 1, 'brickhouse': 1, 'invested': 1, 'okkervil': 1, 'kindof': 2, 'hometown': 5, 'uncrisp': 1, 'clippings': 2, 'scraggly': 1, 'cynical': 1, 'profit': 4, 'toddler': 12, 'neesd': 1, 'jucey': 1, 'animatronics': 1, 'distraction': 2, 'ony': 2, 'brownish': 1, 'enternaining': 1, 'hefeweisen': 2, 'nirvana': 1, 'transitiony': 1, 'sproutsflower': 1, 'tia': 4, 'reword': 1, 'inhale': 3, 'winning': 10, 'exits': 1, 'salame': 1, 'gris': 1, 'shiraz': 3, 'chardonnay': 4, 'doted': 2, 'crocodile': 2, 'thr': 1, 'heff': 1, 'agreement': 6, 'iask': 1, 'gastropub': 2, 'mule': 3, 'persian': 10, 'absolut': 1, 'germain': 1, 'elderflower': 1, 'spaetzle': 2, 'brussels': 3, 'sprout': 4, 'serbian': 1, 'lepinja': 1, 'kennebec': 1, 'reallly': 1, 'hampshire': 1, 'wilted': 6, 'amaro': 2, 'montenegro': 1, 'fluffed': 1, 'damp': 2, 'woods': 6, 'navajo': 2, 'mutton': 3, 'hominy': 3, 'shasta': 4, 'inconspicuous': 1, 'elizabeth': 3, 'arden': 1, 'inserthighendretailerhere': 1, 'claiming': 2, 'fend': 1, 'inquiries': 1, 'counters': 7, 'miraculous': 2, 'assist': 5, 'lololololololol': 1, 'diaf': 1, 'vested': 1, 'interest': 20, 'truffled': 3, 'julian': 1, 'surveying': 1, 'crema': 7, 'merlot': 1, 'brusschetta': 1, 'pecials': 1, 'skull': 1, 'verisimilitude': 1, 'conversion': 1, 'portafilter': 1, 'barley': 3, 'monk': 4, 'marci': 1, 'contempt': 1, 'wholeheartedly': 2, 'pleases': 1, 'flintstones': 1, 'wilma': 1, 'pontiac': 1, 'firebird': 2, 'sinking': 2, 'tinkering': 1, 'meineke': 3, 'transmission': 2, 'whitey': 4, 'diagnosed': 4, 'dumping': 6, 'handing': 4, 'spark': 1, 'filter': 3, 'alleged': 1, 'defunct': 4, 'intent': 4, 'precisely': 1, 'subsequent': 2, 'wisdom': 4, 'extraction': 2, 'expedient': 1, 'unsatisfactory': 2, 'bitches': 4, 'scouting': 1, 'kills': 4, 'accordingly': 3, 'kilt': 9, 'lifter': 4, 'pathetically': 1, 'wage': 1, 'puking': 2, 'portobello': 4, 'outright': 5, 'marriot': 1, 'breathe': 7, 'demise': 2, 'soma': 1, 'wool': 2, 'anazazi': 2, 'advocate': 4, 'refers': 3, 'ancestral': 1, 'pueblo': 4, 'nm': 2, 'ancient': 4, 'probaby': 1, 'props': 15, 'gb': 4, 'bahooka': 1, 'grog': 1, 'cluttering': 1, 'breadboard': 1, 'rosemead': 1, 'covina': 2, 'duvet': 1, 'rattle': 1, 'sweating': 3, 'laidback': 1, 'grueyer': 1, 'cucumer': 1, 'friendship': 4, 'meditative': 1, 'meditating': 1, 'freak': 5, 'ducks': 4, 'emapanadas': 1, 'venom': 1, 'recommends': 3, 'harping': 2, 'sangrias': 1, 'chuy': 1, 'redos': 1, 'vacuum': 9, 'remained': 5, 'colorfully': 1, 'miguel': 2, 'allende': 1, 'phil': 8, 'conveying': 1, 'concoct': 2, 'parilla': 2, 'tinga': 1, 'poblana': 1, 'awards': 3, 'nationally': 1, 'amazzzzzzing': 1, 'undecided': 2, 'gastronomy': 1, 'azucena': 1, 'tovar': 1, 'congrats': 4, 'pablo': 1, 'specks': 1, 'decked': 4, 'seals': 1, 'audacious': 2, 'forbid': 2, 'ws': 3, 'rightfully': 1, 'specialize': 6, 'burratta': 2, 'cotto': 1, 'miniature': 4, 'virgin': 9, 'witih': 1, 'poast': 1, 'alto': 1, 'gratto': 1, 'lai': 6, 'sanwiches': 2, 'mustachio': 1, 'pursued': 1, 'practicing': 3, 'briefs': 1, 'calming': 7, 'inst': 1, 'imagery': 3, 'staircase': 2, 'pudge': 1, 'focusing': 4, 'relieves': 1, 'credentials': 1, 'echoes': 1, 'ashtanga': 2, 'sivananda': 1, 'ditto': 2, 'sequence': 1, 'knees': 5, 'kinetic': 1, 'movement': 4, 'asses': 3, 'renew': 1, 'cliched': 1, 'namaste': 1, 'chiladas': 3, 'preparing': 11, 'goldwell': 1, 'tint': 7, 'absolutly': 2, 'outgrowth': 1, 'expecially': 1, 'impession': 1, 'nastiness': 1, 'witty': 8, 'browser': 1, 'shopped': 6, 'inbetween': 2, 'whopping': 4, 'surf': 4, 'dies': 1, 'dawned': 1, 'hormones': 2, 'fuji': 2, 'subdued': 1, 'pucker': 1, 'invites': 1, 'elegance': 3, 'media': 5, 'helpfull': 2, 'traction': 1, 'nitpicking': 1, 'boosters': 1, 'crrraazzyyy': 1, 'biacoverde': 1, 'boooy': 1, 'avanti': 1, 'mobster': 1, 'fantastico': 2, 'uncertain': 1, 'portifino': 2, 'nancie': 1, 'chloe': 3, 'poppyseed': 1, 'mulligan': 4, 'obnoxiously': 1, 'centralized': 3, 'stabbed': 2, 'evertime': 1, 'womens': 5, 'boobs': 2, 'survivor': 1, 'vests': 2, 'vest': 1, 'midwestern': 3, 'temple': 3, 'overhyped': 1, 'thur': 1, 'brokers': 2, 'dilly': 6, 'haired': 3, 'chicas': 1, 'cabin': 2, 'flickering': 1, 'schwasted': 1, 'cookout': 1, 'ape': 1, 'obsession': 3, 'subscription': 2, 'roku': 2, 'streaming': 3, 'programs': 6, 'crackle': 2, 'hulu': 1, 'huluplus': 1, 'sashaying': 1, 'smashburger': 13, 'harry': 3, 'sally': 3, 'subbing': 1, 'smashfries': 4, 'flows': 1, 'vultures': 2, 'circling': 5, 'flapjacks': 1, 'ron': 1, 'diaphanous': 1, 'wells': 2, 'fargo': 1, 'boozatorium': 1, 'unmemorable': 2, 'diminished': 3, 'heightened': 3, 'trampolines': 1, 'bounce': 2, 'bouncy': 2, 'stunts': 1, 'anandita': 1, 'cougaresque': 1, 'refreshingly': 1, 'straying': 2, 'grocers': 2, 'inordinately': 1, 'cu': 2, 'coco': 4, 'lychejito': 1, 'lychee': 5, 'substitutions': 4, 'sammies': 2, 'accommodations': 5, 'hound': 3, 'enthusiasm': 5, 'arthichoke': 1, 'sammie': 3, 'cashew': 5, 'wha': 3, 'cabernet': 7, 'sophia': 4, 'lauren': 1, 'serivce': 1, 'generallty': 1, 'grassroots': 1, 'browned': 3, 'toffee': 11, 'gadsden': 1, 'apologies': 2, 'demonstrative': 1, 'lapsed': 1, 'malt': 12, 'malteds': 1, 'stickler': 5, 'vickie': 1, 'uop': 2, 'ryan': 2, 'fu': 2, 'traditionally': 5, 'cleanse': 1, 'warsteiner': 1, 'kiltlifters': 1, 'firecracker': 3, 'numero': 4, 'taverny': 1, 'splitter': 1, 'mock': 16, 'carnivorous': 2, 'voracity': 1, 'velociraptor': 1, 'eternally': 2, 'tsoynami': 3, 'mcflurries': 1, 'tsoynamis': 1, 'kitkats': 1, 'hazlenut': 1, 'causal': 1, 'reino': 1, 'instances': 3, 'backlit': 2, 'flirtini': 1, 'colossal': 6, 'maytag': 3, 'trends': 3, 'ahorita': 1, 'overuse': 1, 'forgivable': 2, 'cared': 8, 'lightweight': 3, 'relying': 1, 'prey': 2, 'foxy': 4, 'iitttyyy': 1, 'bitttyyy': 1, 'evanger': 2, 'goober': 2, 'porch': 3, 'newsletter': 1, 'huuuugggeee': 1, 'chompie': 15, 'espn': 3, 'decorator': 1, 'propane': 3, 'donny': 1, 'marie': 6, 'countrilicous': 1, 'yuppified': 1, 'cutest': 6, 'dcranch': 2, 'pcake': 1, 'apron': 7, 'sturdy': 2, 'canteloupe': 2, 'escapes': 2, 'trauma': 4, 'funniest': 3, 'bric': 1, 'brac': 1, 'rafters': 2, 'wagon': 3, 'skeedaddle': 1, 'overload': 5, 'womb': 1, 'lite': 10, 'damper': 2, 'utmost': 4, 'woe': 2, 'conclude': 2, 'stunk': 1, 'terrace': 2, 'jackpot': 1, 'initally': 1, 'stares': 5, 'writes': 2, 'liar': 7, 'susy': 1, 'talks': 9, 'grossest': 2, 'lozenge': 1, 'tablet': 2, 'boost': 6, 'immune': 5, 'placebo': 1, 'pete': 3, 'enticement': 1, 'whacking': 1, 'groovin': 1, 'flushes': 2, 'diuretic': 1, 'hep': 1, 'fixie': 2, 'laptops': 1, 'homies': 2, 'donation': 2, 'crabs': 2, 'insides': 3, 'underage': 1, 'experimented': 1, 'structured': 1, 'racked': 2, 'emoticon': 1, 'snaking': 2, 'respectively': 2, 'innocent': 4, 'punish': 2, 'washable': 1, 'implement': 1, 'heyday': 1, 'deductible': 1, 'denver': 10, 'abrupt': 2, 'thta': 1, 'airwarys': 1, 'capsule': 1, 'funneled': 2, 'wares': 4, 'nerve': 1, 'wracking': 1, 'timey': 1, 'rearranging': 1, 'investing': 2, 'homeopathic': 2, 'environmentally': 2, 'corporal': 1, 'adjustments': 1, 'ilk': 1, 'microbrewery': 2, 'represents': 2, 'schmoozy': 1, 'jts': 1, 'postinos': 11, 'atomosphere': 1, 'domino': 2, 'howie': 2, 'flyers': 1, 'horrifying': 1, 'tessio': 1, 'boulders': 9, 'dangerously': 4, 'orthopedics': 1, 'nicest': 17, 'flustered': 3, 'teensy': 3, 'rethinking': 1, 'scolding': 1, 'floored': 3, 'crocker': 1, 'cramps': 1, 'bialeys': 2, 'tues': 1, 'grady': 3, 'mixing': 4, 'barbeque': 9, 'milwaukee': 2, 'dodgers': 7, 'tommy': 7, 'lasorda': 1, 'autographs': 1, 'mccourt': 1, 'berm': 1, 'cushions': 3, 'sail': 6, 'miller': 9, 'dodger': 4, 'behalf': 3, 'slatted': 1, 'protection': 1, 'roasting': 5, 'sunblock': 3, 'commuting': 1, 'dominos': 2, 'crossroad': 1, 'eta': 2, 'rawr': 1, 'rammed': 1, 'cascading': 1, 'virtually': 6, 'sips': 5, 'aiming': 2, 'hector': 2, 'kinneson': 1, 'remaking': 1, 'grumpy': 7, 'ppllo': 1, 'critics': 3, 'riazzi': 4, 'strengths': 1, 'interrupts': 1, 'unobstrusive': 1, 'hartford': 1, 'providence': 1, 'loaves': 7, 'possess': 1, 'cheeseless': 1, 'arrabiata': 2, 'primavera': 3, 'elaborate': 5, 'ncounter': 2, 'pharmacy': 9, 'teresa': 2, 'kurt': 1, 'lightening': 1, 'dispensing': 1, 'tako': 3, 'foldable': 2, 'winery': 1, 'dismal': 3, 'leader': 1, 'forgiven': 1, 'earning': 2, 'tullamore': 1, 'dew': 4, 'snacking': 3, 'medley': 5, 'command': 2, 'sir': 7, 'haitian': 1, 'caeser': 1, 'jazzy': 1, 'leelee': 1, 'farther': 7, 'thuan': 1, 'kieu': 1, 'cutlet': 2, 'belive': 2, 'sourness': 1, 'pilgrimages': 1, 'discharged': 1, 'marine': 2, 'corps': 1, 'razor': 3, 'leveler': 1, 'meantime': 6, 'topper': 1, 'entre': 4, 'blob': 2, 'sopa': 1, 'pillas': 1, 'clarify': 2, 'stupidly': 1, 'jumbalaya': 1, 'aura': 2, 'evap': 2, 'assessed': 1, 'stumpy': 1, 'sheen': 1, 'immediatly': 1, 'distictive': 1, 'blower': 2, 'values': 2, 'decanted': 2, 'artfully': 2, 'vineyard': 2, 'frenched': 2, 'hollendaise': 2, 'randomness': 1, 'elaines': 2, 'regal': 2, 'flashy': 2, 'shock': 7, 'sidecar': 4, 'reminding': 5, 'greenest': 1, 'labrea': 1, 'roadhouse': 18, 'stella': 9, 'artois': 2, 'omfg': 2, 'termial': 1, 'thatt': 1, 'decreased': 2, 'condescending': 6, 'somtimes': 1, 'primal': 1, 'tableful': 1, 'sprigs': 1, 'plusses': 1, 'condo': 6, 'hotwire': 2, 'xona': 2, 'begged': 2, 'monotone': 1, 'lenny': 3, 'greyhound': 3, 'balancing': 3, 'interferes': 1, 'kelly': 2, 'aubrey': 1, 'accidents': 2, 'scares': 1, 'locating': 1, 'noshes': 2, 'hebert': 1, 'lexington': 1, 'ponzu': 1, 'scallion': 4, 'okonomiyaki': 1, 'greasier': 1, 'yaki': 2, 'goma': 1, 'rames': 1, 'indistinguishable': 1, 'francesca': 1, 'mf': 2, 'gospel': 2, 'kyle': 7, 'classifies': 1, 'hardwired': 1, 'texan': 2, 'herbaceous': 1, 'handily': 1, 'peeled': 3, 'consumed': 8, 'barrumunda': 3, 'rivers': 3, 'australia': 3, 'fillets': 2, 'timeless': 2, 'tina': 6, 'turner': 1, 'nondescript': 4, 'towne': 4, 'centre': 2, 'busboys': 3, 'employed': 1, 'reprinting': 1, 'silvered': 1, 'specification': 3, 'roomy': 8, 'tush': 1, 'shelley': 1, 'favorito': 2, 'banquette': 1, 'livers': 1, 'samosa': 2, 'chatney': 1, 'punjabi': 1, 'samosas': 7, 'spencers': 1, 'petpad': 1, 'macys': 1, 'dicks': 3, 'sniper': 1, 'hijack': 1, 'armored': 1, 'confindetial': 1, 'unsafe': 1, 'dv': 3, 'massagers': 1, 'essie': 1, 'mangos': 2, 'applewood': 3, 'creepiest': 1, 'equip': 2, 'whip': 7, 'sickeningly': 2, 'avo': 1, 'whereas': 2, 'kaley': 2, 'chakra': 2, 'shhhh': 2, 'tomatos': 2, 'potsticker': 1, 'seabass': 6, 'tar': 6, 'observed': 8, 'swipes': 1, 'sunglass': 1, 'detailing': 2, 'mishaps': 2, 'sicily': 1, 'muchies': 1, 'delcious': 1, 'refrigerated': 4, 'dogfish': 1, 'brewing': 9, 'sierra': 1, 'nevada': 1, 'bluecheese': 1, 'landscape': 3, 'contractors': 2, 'representatives': 1, 'sketch': 1, 'surveys': 2, 'baird': 2, 'environments': 1, 'cad': 1, 'rep': 5, 'inness': 3, 'likable': 1, 'considerably': 3, 'bobcat': 1, 'dredge': 1, 'fulfilled': 3, 'installation': 2, 'foreman': 1, 'chico': 5, 'unreachable': 1, 'shoveled': 2, 'contoured': 1, 'mounds': 2, 'driveway': 5, 'applying': 6, 'unevenly': 1, 'depth': 8, 'contractor': 1, 'scooped': 2, 'weed': 2, 'estimators': 1, 'breese': 1, 'impersonators': 1, 'saltine': 1, 'messenger': 1, 'vincents': 1, 'tanks': 8, 'fauna': 1, 'catchment': 1, 'uninspiring': 1, 'article': 6, 'azcentral': 1, 'asphalt': 1, 'combining': 1, 'institution': 4, 'mail': 13, 'transplant': 2, 'crime': 4, 'excellence': 6, 'dinning': 8, 'frisked': 1, 'snoring': 3, 'alarm': 3, 'highball': 1, 'exceeding': 1, 'females': 1, 'archway': 1, 'bedazzled': 2, 'pirates': 2, 'faded': 3, 'fronts': 2, 'cheddary': 1, 'madhouse': 2, 'serrano': 5, 'adulthood': 2, 'blinders': 1, 'dwarf': 1, 'chimichangas': 4, 'discerning': 3, 'hopknot': 2, 'sn': 1, 'kolsch': 3, 'growlers': 1, 'justin': 2, 'tannat': 3, 'challenged': 3, 'tattled': 1, 'qpr': 1, 'tradiciones': 2, 'pina': 4, 'sopito': 1, 'soptio': 1, 'digging': 5, 'blegh': 1, 'debilitating': 1, 'nightmares': 1, 'nitris': 4, 'oxide': 1, 'claw': 2, 'marcia': 1, 'blazer': 2, 'googled': 5, 'invasive': 2, 'procedures': 3, 'scrapy': 1, 'pointy': 1, 'plaque': 1, 'gumline': 1, 'abrasion': 1, 'bam': 7, 'lighthearted': 1, 'eliminating': 2, 'goodbye': 6, 'signals': 1, 'billing': 6, 'restarants': 1, 'scratchy': 1, 'crush': 5, 'cubicle': 3, 'graced': 1, 'creamiest': 1, 'morphed': 1, 'lust': 2, 'silently': 1, 'tiers': 1, 'rattles': 1, 'pacifier': 1, 'teddy': 2, 'scariest': 1, 'unrivaled': 1, 'expansions': 1, 'surround': 3, 'brulée': 2, 'griping': 2, 'bashing': 2, 'competence': 1, 'blending': 5, 'travesty': 2, 'bodega': 1, 'praying': 2, 'turquoise': 2, 'discrete': 1, 'slipping': 2, 'skeptic': 1, 'climax': 2, 'gargonzola': 1, 'janet': 1, 'frittatas': 2, 'shuffle': 2, 'vestiges': 1, 'pong': 4, 'bella': 2, 'pointe': 3, 'swore': 3, 'dismay': 5, 'dally': 2, 'limping': 2, 'unfailingly': 1, 'strides': 1, 'nicht': 1, 'karina': 3, 'asinine': 1, 'humors': 1, 'diametrically': 1, 'elusive': 1, 'waaaaay': 2, 'infomercials': 2, 'spreadsheet': 1, 'euthanize': 1, 'eased': 1, 'nagging': 1, 'doubts': 2, 'unfocused': 1, 'metropolitan': 4, 'cuppa': 1, 'pages': 8, 'arabic': 2, 'fattoush': 1, 'tastiest': 4, 'buybuybaby': 1, 'soju': 4, 'sheet': 6, 'chevelle': 1, 'benjamin': 1, 'terrorize': 1, 'hd': 3, 'lolz': 1, 'chicgo': 1, 'posterboard': 1, 'chicaga': 1, 'mezmerized': 1, 'permeated': 1, 'dared': 1, 'ooooh': 2, 'diabetic': 3, 'bop': 2, 'plum': 2, 'feb': 2, 'channels': 2, 'shampoo': 5, 'deposit': 2, 'joynt': 3, 'raintree': 3, 'steering': 3, 'straightforward': 4, 'sectioned': 1, 'gracie': 1, 'debit': 8, 'kota': 1, 'athenian': 1, 'spanny': 1, 'mien': 4, 'birdcage': 1, 'overlay': 1, 'uncouth': 1, 'breadfruit': 6, 'overwhelm': 4, 'corkage': 3, 'waived': 1, 'stronghold': 1, 'jamaican': 5, 'modification': 1, 'nourishes': 1, 'rejuvenates': 1, 'vein': 3, 'utensil': 1, 'obstinate': 1, 'grandiose': 1, 'beard': 6, 'rolex': 2, 'heffner': 1, 'spouse': 5, 'chlorine': 1, 'interview': 6, 'panes': 1, 'mastery': 1, 'punctual': 1, 'powerfully': 1, 'koolaide': 3, 'banner': 3, 'reads': 6, 'biscotti': 2, 'reaaaaally': 1, 'graham': 5, 'tk': 1, 'bakeries': 3, 'veronique': 1, 'mauclerc': 1, 'efficent': 1, 'calo': 1, 'brilliantly': 1, 'refurbished': 1, 'guardrails': 1, 'programming': 4, 'utilize': 2, 'aspire': 1, 'observant': 1, 'optimism': 1, 'personnel': 5, 'yoli': 8, 'mouthing': 1, 'trending': 1, 'analysis': 4, 'resembles': 3, 'squeaky': 2, 'leveled': 1, 'stealthier': 1, 'marmalade': 5, 'alaska': 2, 'freindlier': 1, 'frat': 5, 'sobriety': 2, 'intentionally': 3, 'handsdown': 1, 'anthro': 2, 'flaunting': 1, 'knobs': 1, 'switches': 1, 'refurbish': 1, 'rula': 10, 'bula': 4, 'trivia': 12, 'sceney': 1, 'namesakes': 1, 'sport': 16, 'gymgoers': 1, 'ofthe': 1, 'untoasted': 2, 'santan': 6, 'understandably': 3, 'yummies': 1, 'compacted': 1, 'stockpile': 1, 'blaaaah': 1, 'adobada': 3, 'cvs': 5, 'spanning': 1, 'presences': 1, 'lest': 2, 'scanned': 5, 'copies': 5, 'profitable': 2, 'meds': 3, 'rite': 1, 'bahamas': 4, 'preview': 1, 'protocol': 3, 'slope': 3, 'auditorium': 5, 'uneasy': 1, 'fears': 3, 'unanimous': 2, 'defnitely': 1, 'battlers': 1, 'flame': 7, 'batting': 5, 'paso': 3, 'cools': 5, 'aarp': 1, 'rely': 3, 'taxi': 1, 'longs': 1, 'girlish': 1, 'threatening': 3, 'keeper': 1, 'mentality': 2, 'roscoe': 2, 'dove': 3, 'battle': 5, 'shabu': 4, 'fondu': 2, 'fondues': 1, 'unforgettable': 4, 'bailey': 1, 'dcor': 3, 'bicycles': 2, 'terrain': 2, 'brianna': 1, 'springtime': 2, 'troubles': 2, 'barefoot': 2, 'litter': 1, 'gays': 4, 'tightest': 1, 'nab': 2, 'cheba': 1, 'nty': 1, 'saleswomen': 1, 'fajito': 1, 'emerged': 1, 'willo': 9, 'mccann': 1, 'poetry': 1, 'slams': 1, 'unmistakable': 1, 'vocally': 1, 'cenphos': 1, 'saddened': 2, 'interloper': 1, 'hopeful': 1, 'midtown': 3, 'emboldened': 1, 'voting': 1, 'oli': 1, 'moley': 1, 'cloves': 2, 'permanently': 1, 'core': 6, 'widen': 1, 'hues': 2, 'boasting': 1, 'jovial': 1, 'spelled': 4, 'incorrectly': 1, 'springy': 1, 'grading': 1, 'essays': 1, 'portrait': 1, 'melonfishphoto': 2, 'portraits': 2, 'emotion': 2, 'horror': 6, 'burner': 2, 'fogies': 1, 've': 3, 'thruoghout': 1, 'safely': 4, 'll': 2, 'firestone': 2, 'dbas': 1, 'cranked': 1, 'sidenote': 2, 'withing': 1, 'promotes': 2, 'insofar': 1, 'cringe': 4, 'deter': 2, 'salsita': 1, 'buren': 2, 'mastro': 10, 'dominick': 6, 'opulent': 1, 'ostentatious': 3, 'yielding': 1, 'deference': 1, 'minimized': 2, 'rubs': 1, 'filets': 4, 'ramikans': 1, 'branding': 4, 'diminishes': 1, 'feng': 1, 'shui': 1, 'qualifier': 2, 'critically': 3, 'recepies': 1, 'index': 2, 'tradtional': 1, 'breadticks': 1, 'graduates': 1, 'goals': 4, 'raj': 4, 'cask': 3, 'bait': 6, 'lamp': 7, 'genetically': 1, 'mutated': 1, 'hwy': 1, 'tomahawk': 1, 'strive': 1, 'bmw': 4, 'keyed': 2, 'harvil': 6, 'hertz': 1, 'jose': 7, 'garces': 2, 'doorman': 1, 'rain': 7, 'ignacio': 1, 'barbbacoa': 1, 'costillas': 1, 'berkshire': 1, 'whatza': 1, 'culvers': 4, 'butterburger': 2, 'completes': 4, 'marques': 1, 'airplanes': 1, 'loading': 8, 'dice': 4, 'tiger': 4, 'reel': 1, 'scam': 2, 'reiki': 1, 'chanting': 2, 'laughter': 1, 'winked': 1, 'geriatric': 1, 'observe': 1, 'economical': 3, 'crisis': 3, 'unemployed': 1, 'wasteful': 1, 'transformers': 1, 'gaylee': 2, 'nutritionist': 1, 'bestowed': 1, 'title': 17, 'summery': 1, 'chiccharon': 1, 'empress': 1, 'becase': 1, 'eaves': 1, 'sanwhich': 1, 'cummings': 3, 'bug': 12, 'pest': 1, 'crushing': 2, 'impressively': 2, 'autumn': 1, 'rockerij': 2, 'tomb': 1, 'intruding': 3, 'indicates': 2, 'perchance': 1, 'comical': 4, 'egypt': 2, 'tandem': 1, 'cues': 6, 'furrowed': 1, 'eyebrows': 5, 'curling': 4, 'courtney': 1, 'dumbfounded': 2, 'drought': 1, 'richardson': 8, 'exemplary': 3, 'mining': 1, 'lore': 1, 'dutchman': 2, 'henry': 1, 'lingua': 2, 'overhear': 1, 'intrested': 1, 'nobuo': 6, 'teeter': 2, 'senses': 4, 'sensations': 1, 'bopped': 1, 'loudspeaker': 1, 'rotary': 1, 'notary': 2, 'document': 2, 'verbal': 3, 'hickish': 1, 'eek': 3, 'iq': 1, 'unjustified': 1, 'distinctly': 2, 'spilling': 7, 'billion': 2, 'jotc': 4, 'hushed': 1, 'wins': 6, 'bhindi': 1, 'brass': 2, 'spreadable': 1, 'pouting': 1, 'nj': 6, 'upgraded': 8, 'vote': 4, 'penzey': 1, 'perry': 1, 'tournament': 4, 'donate': 5, 'reese': 4, 'serapes': 1, 'incidences': 1, 'en': 1, 'drawer': 2, 'respecting': 1, 'splenda': 1, 'augments': 1, 'richness': 4, 'shines': 3, 'dull': 4, 'cinci': 1, 'whiz': 3, 'forgettable': 4, 'assed': 2, 'invoke': 1, 'stroke': 2, 'zippy': 1, 'doo': 1, 'reeeeeally': 1, 'nakey': 2, 'blessing': 2, 'clothed': 2, 'joelle': 1, 'recognition': 3, 'stigmata': 2, 'finale': 1, 'billet': 1, 'biker': 3, 'rag': 4, 'prank': 1, 'wooed': 1, 'amish': 3, 'ew': 1, 'reacted': 2, 'brains': 1, 'oy': 2, 'vey': 1, 'stumble': 3, 'thom': 2, 'kha': 3, 'kaffir': 1, 'kwediaw': 1, 'kraphrao': 1, 'mediumly': 1, 'mintyness': 1, 'jogging': 2, 'zipcar': 1, 'nonfat': 2, 'kibbi': 1, 'jester': 1, 'macayos': 4, 'mob': 3, 'dressy': 2, 'ankle': 6, 'nylons': 1, 'distinction': 4, 'dieters': 1, 'breas': 1, 'thigh': 2, 'mutant': 1, 'vermont': 1, 'typed': 5, 'cruller': 1, 'lisa': 7, 'contentment': 1, 'ecstasy': 1, 'liken': 1, 'hushpuppys': 1, 'perched': 4, 'allergy': 5, 'pbnj': 1, 'attractiveness': 1, 'tastefully': 3, 'doubletree': 1, 'bathtub': 5, 'drain': 6, 'roid': 1, 'bravos': 1, 'motif': 2, 'rogue': 3, 'mulhollands': 1, 'rb': 4, 'aspects': 6, 'crash': 3, 'ans': 2, 'peepers': 1, 'suicidal': 1, 'stpping': 1, 'slutty': 2, 'vagina': 3, 'jean': 2, 'cheeseboard': 1, 'gorganzola': 2, 'aniston': 1, 'narco': 1, 'powering': 2, 'blockbuster': 2, 'wizard': 2, 'dermatologist': 1, 'extremly': 3, 'reccomend': 7, 'attain': 1, 'ex': 8, 'adam': 6, 'irritable': 1, 'restless': 2, 'voided': 1, 'commission': 6, 'respected': 1, 'circumvent': 2, 'unappealing': 2, 'pappadeaux': 6, 'etouffe': 1, 'newborn': 1, 'overloaded': 5, 'cheery': 2, 'covering': 8, 'mn': 2, 'plotnik': 1, 'answering': 9, 'readers': 3, 'figuratively': 1, 'smokes': 2, 'yodeling': 1, 'yodels': 1, 'realistic': 1, 'puntini': 1, 'microscope': 1, 'slums': 1, 'quarters': 7, 'unserved': 1, 'deer': 5, 'guandong': 1, 'rahul': 1, 'iyer': 1, 'vatican': 3, 'musketeers': 1, 'brandied': 1, 'durants': 2, 'garlicky': 3, 'cco': 2, 'sundance': 1, 'trot': 1, 'slicker': 1, 'sandstorm': 1, 'prides': 2, 'macerated': 1, 'vine': 4, 'ripened': 2, 'fossil': 2, 'buckwheat': 3, 'foamed': 2, 'flashed': 1, 'chanterelles': 2, 'cholla': 7, 'chanterelle': 1, 'quail': 8, 'currents': 2, 'sherry': 2, 'sandalwood': 1, 'rutabaga': 1, 'iitoi': 1, 'insures': 1, 'carpeting': 1, 'smokehouse': 2, 'unmentionable': 1, 'exploding': 2, 'mediocrity': 1, 'versatile': 2, 'intently': 1, 'gregarious': 2, 'crabcakes': 1, 'challah': 7, 'overboard': 2, 'juts': 1, 'usable': 1, 'particle': 1, 'furnace': 3, 'mb': 1, 'patent': 2, 'cardemom': 1, 'pending': 2, 'dependable': 2, 'edgier': 1, 'leaner': 1, 'relationships': 2, 'occupies': 1, 'courageous': 1, 'remoteness': 1, 'oblivion': 1, 'ignite': 5, 'whaaat': 1, 'soprassata': 1, 'uncaring': 3, 'resteraunt': 1, 'disgrace': 3, 'festivals': 5, 'nobs': 1, 'alloted': 2, 'praises': 3, 'ooooowwweeee': 1, 'diggity': 2, 'blaze': 1, 'infuse': 2, 'amino': 1, 'edename': 1, 'unwrapping': 2, 'osco': 1, 'bucco': 3, 'turd': 5, 'stinking': 3, 'developers': 1, 'scottsdalian': 1, 'slant': 4, 'kudo': 1, 'southbridge': 1, 'shooting': 8, 'championship': 1, 'ft': 2, 'wildfish': 4, 'bible': 3, 'v': 5, 'trendier': 2, 'sentance': 1, 'definatly': 2, 'darius': 2, 'hogie': 1, 'iot': 1, 'lining': 2, 'alarmed': 1, 'wildlife': 5, 'pitches': 1, 'pierced': 4, 'claire': 1, 'threading': 1, 'htc': 2, 'piercings': 5, 'longbow': 1, 'nearer': 1, 'mounding': 1, 'fastest': 4, 'truest': 1, 'putt': 3, 'sendas': 1, 'nite': 4, 'ocd': 1, 'glaring': 2, 'ackward': 1, 'shepherds': 4, 'biased': 7, 'lube': 3, 'cityscape': 4, 'admirable': 2, 'fifty': 3, 'swirled': 4, 'marbled': 3, 'anthoney': 1, 'limonade': 1, 'malalay': 1, 'svelte': 1, 'krista': 1, 'busses': 5, 'marian': 3, 'risen': 1, 'sumderful': 1, 'creaminess': 4, 'albino': 3, 'oopsie': 1, 'gyrating': 1, 'twelve': 6, 'appletini': 3, 'overalls': 1, 'protest': 2, 'stalks': 4, 'diagonally': 1, 'quesedilla': 1, 'quesedillas': 1, 'thickness': 1, 'wisely': 3, 'mills': 2, 'crappier': 2, 'slimey': 2, 'scurry': 1, 'finito': 1, 'partners': 2, 'jazzing': 1, 'disinfectant': 1, 'grosses': 1, 'hydroplane': 1, 'packaging': 6, 'cheeto': 1, 'amex': 4, 'fantabulous': 1, 'hunger': 6, 'strozzapreti': 1, 'scraps': 4, 'dickhead': 1, 'mulling': 1, 'dank': 2, 'chuckled': 4, 'utter': 3, 'employer': 2, 'authentically': 3, 'authenticly': 1, 'snobbery': 3, 'acoustic': 2, 'cappella': 1, 'proving': 3, 'caterpillars': 1, 'stat': 3, 'surgeons': 1, 'brows': 2, 'sermon': 1, 'verses': 3, 'baptist': 1, 'prayers': 1, 'sinner': 1, 'corinthians': 1, 'apostles': 1, 'preach': 1, 'saintly': 1, 'unselfishly': 1, 'blessings': 3, 'blessed': 1, 'warehoused': 1, 'sorted': 3, 'gratefully': 1, 'bellies': 4, 'cope': 1, 'unemployment': 2, 'mounting': 1, 'dwindling': 1, 'humbly': 2, 'malaise': 1, 'volunteer': 10, 'sarrc': 1, 'autistic': 1, 'sacked': 1, 'hauled': 2, 'dun': 2, 'steakhouses': 7, 'croce': 1, 'beatles': 1, 'claws': 1, 'illegal': 6, 'hiccup': 1, 'abc': 2, 'gadget': 2, 'molds': 1, 'toppers': 2, 'liners': 1, 'wilton': 1, 'ganoush': 4, 'spanakopita': 3, 'locationally': 1, 'resisted': 1, 'brazin': 1, 'hillside': 1, 'caf': 1, 'bagged': 2, 'bellowing': 1, 'holler': 2, 'villalpando': 1, 'pizzaria': 3, 'gargantuan': 4, 'suvs': 1, 'racket': 1, 'nusiance': 1, 'umc': 1, 'disputed': 1, 'adhered': 1, 'resides': 3, 'frequents': 1, 'forming': 3, 'attire': 6, 'slowing': 3, 'tourism': 1, 'retain': 4, 'approx': 4, 'titled': 1, 'recieved': 2, 'janessa': 1, 'beaver': 2, 'gravlax': 3, 'poutine': 2, 'quebec': 1, 'meringue': 6, 'onset': 1, 'diabetes': 2, 'scandinavian': 2, 'viking': 1, 'recite': 2, 'measly': 4, 'odinian': 1, 'incantation': 1, 'wm': 4, 'possibility': 3, 'tb': 1, 'flu': 3, 'hub': 3, 'wa': 2, 'conditions': 4, 'minority': 1, 'mgrs': 2, 'naaaaah': 1, 'admiring': 1, 'sighed': 2, 'shook': 3, 'madam': 3, 'sarcastically': 2, 'engrossed': 3, 'wt': 1, 'occurences': 1, 'takeaway': 3, 'sack': 2, 'whinings': 1, 'scissors': 3, 'breezeway': 2, 'quintissential': 1, 'taqueria': 3, 'smacked': 1, 'volcano': 6, 'flamed': 1, 'upkeep': 1, 'gourmand': 1, 'employing': 1, 'installing': 4, 'suburbanite': 1, 'childes': 1, 'buttah': 1, 'carding': 1, 'scrawl': 1, 'paloozas': 1, 'desperate': 7, 'twists': 2, 'thet': 1, 'preservatives': 6, 'legroom': 1, 'perpetual': 1, 'kiwi': 5, 'journey': 8, 'independant': 1, 'tractor': 4, 'forearm': 2, 'bluemoon': 1, 'utility': 1, 'nello': 7, 'richmond': 2, 'rindsroulade': 1, 'undercut': 2, 'defiant': 1, 'potentially': 3, 'sheeps': 1, 'bracelet': 1, 'mandatory': 3, 'gown': 2, 'unfiltered': 1, 'stogies': 1, 'greer': 1, 'merry': 7, 'bunkers': 1, 'jugs': 1, 'crucial': 2, 'suspension': 1, 'imminent': 1, 'disturbing': 5, 'rhode': 1, 'fingertips': 3, 'cascio': 1, 'protectors': 1, 'mats': 6, 'chunkier': 2, 'milanese': 1, 'artichokes': 8, 'katie': 7, 'hula': 3, 'urbane': 1, 'neared': 1, 'mmhmm': 1, 'guajillo': 1, 'dissuaded': 1, 'suction': 1, 'hoses': 1, 'canisters': 1, 'gingerly': 1, 'tug': 1, 'investigate': 1, 'arteries': 2, 'interpersonal': 1, 'gap': 9, 'tilly': 1, 'undershirts': 1, 'deliberation': 1, 'ruling': 1, 'adjectives': 2, 'overinflated': 1, 'superlatives': 1, 'thrice': 2, 'kaz': 3, 'hipness': 1, 'predictability': 2, 'disillusioned': 1, 'crushed': 8, 'motown': 1, 'singer': 3, 'mtv': 2, 'strained': 2, 'oogling': 1, 'krunch': 1, 'peers': 1, 'inspiring': 2, 'graduate': 5, 'chez': 1, 'nous': 1, 'abode': 1, 'sculpture': 3, 'pissy': 1, 'brandy': 5, 'rellena': 1, 'ropa': 2, 'viejas': 1, 'gallina': 1, 'frita': 1, 'pricks': 1, 'heartening': 1, 'colleagues': 6, 'upside': 9, 'recoomend': 1, 'consulted': 1, 'bads': 1, 'unripe': 1, 'bra': 7, 'bras': 5, 'differently': 4, 'peed': 1, 'measurement': 2, 'salesgirl': 1, 'supportive': 3, 'fringe': 1, 'pours': 11, 'taro': 5, 'honeydew': 3, 'melon': 4, 'emails': 8, 'bogo': 2, 'hanson': 1, 'logan': 11, 'hurried': 2, 'manicurist': 1, 'lightning': 2, 'lotioned': 1, 'defeats': 2, 'lotion': 4, 'perfunctory': 1, 'existence': 4, 'dunk': 2, 'despised': 1, 'offends': 1, 'innocuous': 1, 'straightaway': 1, 'mooing': 1, 'unidentifiable': 1, 'ohhhhkay': 1, 'unyielding': 1, 'jenna': 1, 'jameson': 1, 'suffering': 3, 'wolfed': 1, 'diehard': 1, 'announcer': 1, 'gabe': 1, 'aaammmazzing': 1, 'starvation': 1, 'bryan': 4, 'douse': 2, 'pepperocini': 1, 'cheerful': 8, 'lawyer': 2, 'tilted': 5, 'veers': 1, 'pitiful': 1, 'chodang': 2, 'peppered': 6, 'paragraph': 1, 'tejas': 6, 'terriyaki': 2, 'clem': 1, 'lingered': 2, 'classiest': 1, 'fingerprints': 1, 'airpark': 3, 'pi': 1, 'bombarded': 2, 'declarations': 1, 'pr': 3, 'disservice': 1, 'proclaiming': 1, 'superlative': 1, 'congeniality': 1, 'depressed': 2, 'confiscated': 1, 'apparenly': 1, 'neutrogena': 1, 'malicious': 1, 'monitoring': 2, 'tenths': 1, 'users': 1, 'concourse': 2, 'shortage': 4, 'jacqui': 1, 'bruthas': 1, 'mlk': 1, 'pooches': 3, 'dexter': 1, 'burping': 1, 'summarize': 1, 'utrecht': 1, 'pastels': 1, 'sketchbook': 2, 'mediums': 1, 'rumba': 1, 'europe': 11, 'paraphrased': 1, 'follows': 6, 'bossy': 1, 'dernmark': 1, 'dodey': 3, 'role': 3, 'felix': 2, 'godsend': 2, 'categories': 3, 'karaoking': 1, 'pony': 2, 'delia': 2, 'ordeal': 2, 'shiney': 2, 'humorous': 2, 'coffeehouse': 3, 'starbuck': 3, 'groupons': 3, 'curl': 5, 'dryers': 2, 'curls': 1, 'indiana': 3, 'viscous': 1, 'abandon': 2, 'violent': 1, 'stuffy': 8, 'reappeared': 1, 'valentines': 1, 'spree': 1, 'grimace': 1, 'forked': 2, 'terrifying': 2, 'gawking': 1, 'lvs': 1, 'sfs': 1, 'itinerary': 1, 'strings': 9, 'assaulted': 1, 'gak': 1, 'excitation': 1, 'gabacho': 1, 'dominated': 2, 'informs': 1, 'subgenres': 1, 'surrounds': 4, 'mismatched': 2, 'dishware': 1, 'snagging': 2, 'vineagrette': 1, 'certified': 3, 'fryer': 6, 'cinammon': 1, 'gluey': 1, 'machiato': 1, 'restauant': 1, 'cappucino': 2, 'faxing': 1, 'renee': 1, 'owns': 8, 'galbut': 1, 'autograt': 1, 'sweetest': 4, 'scraping': 2, 'beaten': 8, 'ski': 3, 'pendemums': 1, 'jillian': 1, 'mixology': 1, 'maraschino': 2, 'zweigel': 1, 'austria': 1, 'convienent': 2, 'tang': 3, 'southeast': 2, 'gather': 6, 'coca': 2, 'drinkable': 3, 'fulling': 1, 'finely': 6, 'engine': 5, 'wikieup': 1, 'persons': 4, 'resemblance': 3, 'berated': 1, 'belonged': 1, 'dichotomy': 1, 'slurred': 2, 'pawn': 11, 'sloshy': 1, 'masochists': 1, 'mum': 2, 'precook': 1, 'introduces': 2, 'drying': 2, 'counteract': 1, 'dryness': 1, 'pastys': 1, 'hints': 4, 'abnormally': 1, 'applesauce': 3, 'seller': 5, 'invoice': 2, 'joanns': 1, 'billiard': 1, 'dewalt': 1, 'makita': 1, 'oster': 1, 'cuisinart': 1, 'farberware': 1, 'keurig': 1, 'banded': 1, 'manual': 2, 'stetson': 9, 'fundraiser': 2, 'oranges': 9, 'marley': 1, 'buffett': 6, 'meatiest': 1, 'devour': 3, 'snaked': 1, 'lovey': 2, 'brewmaster': 2, 'uwe': 1, 'ales': 4, 'euro': 3, 'carrabbas': 2, 'commercials': 1, 'simi': 1, 'peper': 1, 'listless': 1, 'ponds': 1, 'stagnant': 1, 'algae': 4, 'celtcharm': 1, 'backroom': 1, 'skeeball': 1, 'remortgage': 1, 'hudson': 3, 'banter': 3, 'roped': 2, 'sleazer': 1, 'espanola': 1, 'chistorra': 1, 'tomate': 2, 'distribute': 2, 'navarra': 1, 'salbitxada': 1, 'refired': 1, 'kore': 1, 'mckellips': 2, 'quotes': 2, 'fungus': 2, 'quorn': 1, 'believers': 2, 'forcing': 6, 'fantasy': 6, 'yawp': 1, 'sic': 3, 'undertaste': 1, 'nickel': 3, 'slivers': 3, 'aspargus': 2, 'cliché': 1, 'summed': 1, 'chevre': 3, 'babybel': 1, 'minis': 1, 'colby': 1, 'implies': 2, 'degraded': 1, 'aguas': 2, 'frescas': 2, 'gringa': 1, 'sevice': 1, 'poivre': 2, 'zombi': 2, 'banfield': 3, 'petshotel': 2, 'adoptions': 1, 'pooch': 2, 'rabies': 1, 'pun': 7, 'vsc': 1, 'limb': 1, 'embarrassing': 4, 'underhanded': 1, 'voucher': 7, 'mathematically': 1, 'cutco': 1, 'aprons': 2, 'tongs': 1, 'consistantly': 1, 'bibimbap': 5, 'yardstick': 2, 'forehead': 1, 'jasmine': 5, 'evaluated': 1, 'doctored': 1, 'gusto': 4, 'completing': 2, 'sees': 4, 'booming': 2, 'drool': 4, 'pinner': 1, 'evoo': 2, 'cleanfreak': 5, 'debugging': 1, 'monsoon': 2, 'monsoons': 3, 'terrorists': 1, 'freedom': 3, 'armor': 1, 'scans': 2, 'communicating': 3, 'fastpass': 1, 'recipt': 1, 'spits': 1, 'headaches': 1, 'flyer': 1, 'overview': 2, 'medal': 6, 'starfish': 1, 'routinely': 2, 'olympians': 1, 'accounting': 1, 'resume': 2, 'admissions': 1, 'application': 2, 'smokin': 2, 'taxis': 1, 'fot': 2, 'holla': 3, 'byol': 1, 'yuuuuummmmmyyy': 1, 'addicting': 5, 'yuuuuuuum': 1, 'blitzed': 1, 'interact': 2, 'blech': 2, 'moaned': 1, 'umami': 2, 'tahitian': 1, 'facilites': 1, 'parched': 3, 'inexcusable': 2, 'meth': 5, 'billboard': 1, 'uncleanliness': 1, 'morsel': 1, 'vow': 3, 'drained': 2, 'paltry': 2, 'dominic': 1, 'kyoto': 8, 'caterpillar': 4, 'philadelphia': 3, 'roka': 7, 'akor': 2, 'frc': 1, 'rolatini': 1, 'literal': 1, 'bruin': 1, 'fwiw': 1, 'indigestion': 1, 'frida': 1, 'kahlo': 1, 'firefly': 1, 'transporting': 1, 'strolling': 3, 'viad': 1, 'committee': 2, 'inspirations': 1, 'constrained': 1, 'subtracted': 1, 'wavering': 1, 'healthiness': 1, 'variant': 1, 'proposition': 2, 'flexibility': 2, 'frankenstein': 1, 'saccharine': 1, 'pining': 1, 'pinkberry': 1, 'blackberries': 4, 'audible': 1, 'storefront': 1, 'confidently': 3, 'testimonials': 1, 'salesperson': 4, 'miscommunication': 1, 'scheduling': 6, 'reschedule': 2, 'rainstorm': 1, 'peon': 1, 'installers': 2, 'transaction': 5, 'angrier': 3, 'cleanup': 3, 'windowsills': 1, 'sills': 1, 'installer': 1, 'overstate': 1, 'tossup': 2, 'foliage': 2, 'trample': 1, 'crouton': 2, 'pibb': 1, 'drooled': 1, 'keyboard': 2, 'wallowing': 1, 'pleasures': 3, 'hoot': 5, 'dizzie': 1, 'gillespie': 1, 'discussions': 1, 'trickling': 1, 'haney': 1, 'summitt': 1, 'burped': 1, 'jamming': 2, 'wikipedia': 1, 'gent': 1, 'bullriders': 1, 'strummed': 1, 'hmmmm': 3, 'malts': 2, 'moira': 1, 'pricepoint': 1, 'doable': 3, 'zuma': 3, 'industries': 1, 'tau': 1, 'cuisines': 4, 'suede': 5, 'axis': 2, 'pussycat': 2, 'techno': 9, 'disabled': 2, 'noooo': 1, 'schmucks': 1, 'damaged': 6, 'dousing': 1, 'tweeter': 1, 'harassed': 2, 'incentives': 2, 'craftsmanship': 2, 'carraba': 1, 'tel': 2, 'quarterly': 1, 'brulet': 1, 'london': 8, 'spoilt': 1, 'recapture': 1, 'clutching': 1, 'stoked': 8, 'charleston': 4, 'encouraged': 6, 'blackhawks': 1, 'fanatics': 1, 'scores': 3, 'rt': 1, 'tube': 12, 'ragu': 1, 'wiley': 1, 'betos': 3, 'stroll': 2, 'ummmmmmmm': 1, 'tuscan': 5, 'balsalmic': 1, 'vingerette': 1, 'moroccan': 3, 'saguaros': 2, 'misbehaved': 1, 'engage': 3, 'constructive': 3, 'rabbits': 3, 'poultry': 1, 'informational': 1, 'coordinate': 1, 'imports': 3, 'smirnoff': 1, 'morgan': 4, 'underpaid': 1, 'wildfire': 1, 'reopening': 1, 'margaritaville': 3, 'senorita': 1, 'parrothead': 2, 'broadcast': 2, 'montages': 1, 'outings': 1, 'okaaaaay': 1, 'meeeeeanie': 1, 'mockingly': 1, 'responds': 1, 'establishement': 1, 'municipals': 1, 'aguila': 1, 'threats': 1, 'birdies': 1, 'bermuda': 3, 'putts': 1, 'fairway': 2, 'elevated': 1, 'slopes': 1, 'formidable': 1, 'tendency': 5, 'reachable': 1, 'bogey': 1, 'yds': 1, 'keegan': 1, 'exaggeration': 3, 'langer': 1, 'gandolfo': 1, 'toughness': 1, 'masked': 2, 'heidi': 1, 'hankerin': 1, 'storyline': 1, 'athlete': 3, 'betrays': 1, 'rito': 3, 'jordan': 2, 'censored': 3, 'sua': 2, 'mellows': 1, 'giggly': 2, 'stave': 1, 'yadda': 3, 'lenient': 2, 'somplace': 1, 'unreasonable': 2, 'po': 4, 'popeyes': 1, 'streetcar': 1, 'frequrntly': 1, 'moderation': 1, 'hideous': 4, 'trepedation': 1, 'attatched': 1, 'chichen': 1, 'deeper': 3, 'popyes': 1, 'blazing': 5, 'hockypuckish': 1, 'milage': 1, 'rvw': 1, 'loosing': 4, 'shoping': 1, 'travelling': 1, 'snags': 2, 'galsses': 1, 'topsy': 1, 'turvy': 1, 'naaaaaaah': 1, 'reys': 1, 'mighty': 6, 'mexicali': 3, 'knicker': 1, 'knackers': 1, 'hotlanta': 1, 'hangovers': 1, 'fragrant': 5, 'sara': 5, 'cenaduría': 1, 'molded': 1, 'unsalted': 1, 'hookahs': 2, 'expired': 1, 'aficionados': 1, 'omen': 3, 'irritation': 2, 'adjective': 2, 'thefontina': 1, 'smear': 2, 'unremarkable': 3, 'wierd': 4, 'juggling': 2, 'irriation': 1, 'swarming': 2, 'swatting': 2, 'recommdendation': 1, 'submitting': 2, 'amaretti': 2, 'salsiccia': 3, 'pecorino': 3, 'ignorantly': 1, 'beaches': 2, 'motherfucker': 1, 'socialize': 3, 'topnotch': 2, 'piquant': 1, 'revelation': 2, 'whammy': 1, 'ninth': 1, 'lip': 1, 'dinnertime': 2, 'café': 5, 'lait': 2, 'persuade': 3, 'cannoli': 7, 'pischke': 6, 'mcgrath': 5, 'reflection': 3, 'unending': 1, 'pasedena': 1, 'prepackaged': 2, 'clif': 1, 'supermarkets': 2, 'cantaloupe': 2, 'unwashed': 1, 'gambling': 1, 'effects': 3, 'tupperware': 1, 'warn': 6, 'valrona': 1, 'exclamation': 1, 'visibly': 3, 'perturbed': 1, 'deadbeats': 1, 'offensive': 4, 'rattling': 1, 'thawing': 2, 'shore': 1, 'slooters': 1, 'treasures': 6, 'blazin': 2, 'foccacia': 6, 'specimen': 1, 'crossover': 1, 'betrayed': 1, 'owed': 3, 'bajillion': 1, 'washingtons': 1, 'arlecchino': 1, 'theprice': 1, 'bosses': 4, 'lyrics': 2, 'verse': 4, 'dawn': 2, 'uncut': 1, 'mutts': 1, 'fucks': 1, 'solemnly': 1, 'flee': 3, 'rebel': 1, 'chorus': 4, 'solitary': 1, 'mic': 3, 'pried': 1, 'deamon': 1, 'veins': 2, 'rugged': 1, 'junkyard': 1, 'marching': 4, 'sacred': 2, 'war': 4, 'jaws': 1, 'controlled': 1, 'preaching': 1, 'uttered': 2, 'gon': 1, 'headings': 1, 'sashami': 1, 'yakitori': 1, 'loyally': 2, 'liquors': 6, 'juuuust': 1, 'hangar': 1, 'porchetta': 2, 'bricks': 1, 'ruben': 3, 'spy': 2, 'domo': 1, 'arigato': 1, 'enterprise': 1, 'preform': 1, 'chemicals': 4, 'pesky': 1, 'destroying': 1, 'storms': 2, 'massamum': 1, 'disclosure': 7, 'ghanoush': 1, 'lebanese': 2, 'generalize': 1, 'workday': 1, 'rivaled': 4, 'shear': 1, 'comprised': 2, 'fecking': 1, 'saltier': 5, 'sheperds': 1, 'prolonged': 1, 'strongbow': 5, 'uk': 6, 'ciders': 2, 'mustart': 1, 'sheperd': 1, 'flavours': 3, 'champ': 2, 'potatos': 2, 'oddity': 2, 'speckled': 2, 'quiz': 2, 'pa': 4, 'electric': 8, 'nin': 1, 'baracade': 1, 'aji': 9, 'cantelope': 1, 'breakfeast': 1, 'honoring': 1, 'certificate': 14, 'teh': 2, 'alternately': 3, 'perplexed': 1, 'dana': 2, 'judges': 2, 'hugs': 3, 'jamaica': 3, 'insiders': 1, 'alcove': 1, 'perused': 2, 'ooey': 4, 'messier': 2, 'debbie': 2, 'liberty': 13, 'bruce': 4, 'addendum': 1, 'quickest': 2, 'gratis': 1, 'regulary': 1, 'incase': 1, 'guestions': 1, 'poised': 2, 'italia': 3, 'anticipation': 2, 'spiked': 2, 'reminiscing': 1, 'fondly': 1, 'marnier': 4, 'extr': 1, 'lessened': 1, 'larchmont': 1, 'feliz': 1, 'jutting': 1, 'absolutley': 3, 'gutted': 2, 'lrt': 1, 'sistahs': 1, 'florists': 1, 'mister': 4, 'tulips': 1, 'roses': 2, 'chiang': 2, 'moat': 1, 'mims': 2, 'growls': 1, 'wildly': 1, 'legitimately': 1, 'gardein': 1, 'vegans': 4, 'omni': 1, 'amountapparently': 1, 'alrady': 1, 'frowned': 1, 'bestselling': 1, 'restrant': 1, 'eddies': 1, 'collected': 4, 'betray': 1, 'paul': 9, 'extending': 2, 'yippee': 1, 'weddings': 2, 'burrows': 1, 'wildflowers': 1, 'garnered': 1, 'tamarindo': 2, 'fussy': 2, 'goose': 12, 'bunches': 2, 'parisian': 4, 'patisserie': 2, 'parisians': 1, 'envisioned': 4, 'payard': 2, 'stark': 4, 'arrondissement': 1, 'scottdale': 1, 'mortgage': 1, 'exausts': 1, 'bistros': 1, 'fares': 1, 'supplier': 1, 'chevres': 1, 'softs': 1, 'ramkin': 1, 'dieing': 1, 'mumbled': 2, 'chatter': 3, 'janitor': 1, 'undelivered': 1, 'grates': 1, 'assaults': 1, 'thugs': 1, 'fowarding': 1, 'forwarding': 1, 'scammed': 1, 'worrying': 4, 'flowery': 1, 'aftertaste': 4, 'mylissa': 1, 'giuseppe': 3, 'franco': 1, 'sheila': 1, 'rollatini': 1, 'tartufa': 1, 'pasquale': 2, 'pictured': 5, 'ristorant': 1, 'salud': 1, 'trojan': 3, 'arrested': 2, 'embezzling': 1, 'graduating': 1, 'classroom': 6, 'patrolling': 1, 'escapees': 1, 'condemned': 2, 'official': 4, 'announcements': 1, 'phrase': 5, 'pretended': 2, 'lisps': 1, 'flailing': 1, 'wrists': 1, 'approval': 2, 'expelled': 1, 'pox': 1, 'ditched': 1, 'administrators': 2, 'trunk': 4, 'highschool': 3, 'pvusd': 1, 'inspiration': 3, 'councilor': 1, 'badminton': 1, 'mental': 3, 'chemistry': 1, 'shakespear': 1, 'slaves': 1, 'biology': 2, 'toal': 1, 'suave': 1, 'horny': 2, 'sneaking': 4, 'barrows': 1, 'condom': 1, 'assemblies': 1, 'chant': 1, 'blurring': 1, 'drone': 1, 'exorbitant': 2, 'shirley': 2, 'walter': 1, 'crankite': 1, 'servere': 1, 'towed': 2, 'unethical': 2, 'crooks': 3, 'ethiopia': 3, 'lalibela': 6, 'african': 4, 'woven': 1, 'harar': 1, 'ehtiopian': 1, 'lager': 3, 'yekik': 2, 'alicha': 3, 'yekemem': 1, 'shai': 1, 'exclusive': 6, 'yebeg': 1, 'sega': 1, 'wat': 2, 'kibae': 1, 'turmeric': 2, 'injera': 5, 'morsels': 2, 'caravan': 1, 'carniverous': 1, 'adventurer': 1, 'swashbuckler': 1, 'dominant': 1, 'cabbages': 1, 'gustative': 1, 'greta': 1, 'preferring': 1, 'interject': 1, 'sparked': 2, 'shopkeepers': 1, 'snarl': 1, 'narrowing': 3, 'mislead': 1, 'cuffs': 1, 'lenart': 2, 'kazmer': 1, 'michaels': 6, 'scanning': 1, 'framed': 4, 'avail': 4, 'mckellip': 1, 'cking': 2, 'irritate': 1, 'refunded': 3, 'ashley': 4, 'debacle': 3, 'therapist': 13, 'confirmation': 5, 'confirming': 2, 'migraines': 2, 'woken': 2, 'talisha': 1, 'aisha': 1, 'therapists': 4, 'torched': 3, 'tg': 1, 'lowlights': 1, 'flatiron': 2, 'subscribed': 1, 'bohemian': 2, 'bloodletting': 1, 'photographs': 3, 'neighborhoods': 1, 'authoritarian': 1, 'overlords': 1, 'homeowner': 1, 'associations': 1, 'retained': 1, 'neighborly': 1, 'transitioned': 2, 'antithesis': 1, 'quibble': 3, 'adaquet': 1, 'morgue': 1, 'dam': 1, 'tet': 1, 'confuses': 2, 'squint': 2, 'cabo': 1, 'shells': 11, 'frown': 2, 'satuday': 2, 'reconnect': 1, 'mandel': 1, 'gameshow': 1, 'ensue': 1, 'delays': 3, 'timed': 3, 'annoy': 2, 'vat': 2, 'michanical': 1, 'paws': 1, 'canine': 1, 'dest': 1, 'tracy': 4, 'macaw': 1, 'mello': 1, 'yello': 1, 'chuckbox': 6, 'stones': 1, 'idiosyncratic': 1, 'permeating': 1, 'ennui': 1, 'coldplay': 3, 'analogue': 1, 'failing': 2, 'epically': 2, 'pomp': 1, 'circumstance': 2, 'soulless': 1, 'accountant': 1, 'middling': 1, 'dilla': 2, 'captured': 2, 'zuzu': 5, 'figuring': 5, 'overheating': 1, 'infiniti': 1, 'grelichs': 1, 'explanations': 2, 'servicing': 1, 'humiliate': 1, 'steer': 9, 'intimacy': 3, 'objective': 3, 'jordre': 1, 'cajones': 1, 'ongoing': 3, 'entity': 2, 'js': 1, 'outgoing': 6, 'schwann': 1, 'surreal': 1, 'announced': 1, 'bullpen': 1, 'jesse': 6, 'tott': 6, 'beverege': 2, 'aslo': 1, 'trimmed': 6, 'grisle': 1, 'confess': 2, 'accesories': 1, 'connect': 4, 'escalators': 2, 'mcc': 1, 'pima': 3, 'gazillion': 2, 'complexes': 1, 'waistband': 1, 'chock': 2, 'hush': 1, 'underseason': 1, 'ambitious': 2, 'allowance': 2, 'evolving': 2, 'bottleneck': 1, 'choula': 1, 'tobascos': 1, 'tricked': 2, 'fright': 1, 'bánh': 3, 'xèo': 3, 'leery': 2, 'guadalupe': 3, 'talavera': 2, 'seabase': 1, 'manageable': 5, 'crescent': 2, 'ilbs': 1, 'peacefulness': 1, 'bats': 5, 'teller': 2, 'potent': 3, 'dissolver': 1, 'tunnel': 5, 'jet': 2, 'kokomo': 1, 'elated': 1, 'follwing': 1, 'shane': 2, 'culver': 12, 'glutton': 3, 'chomping': 2, 'taylored': 1, 'intoxicated': 5, 'haver': 1, 'scenesters': 1, 'shelving': 2, 'depots': 1, 'tenth': 2, 'frisk': 1, 'trini': 1, 'grandfather': 1, 'antiquated': 2, 'librera': 1, 'coffeecake': 2, 'dads': 1, 'commuter': 2, 'lectures': 2, 'overviews': 1, 'genetics': 1, 'nanotechnology': 1, 'medicinal': 1, 'utilization': 1, 'poisoned': 1, 'dumbed': 1, 'worlds': 4, 'titanic': 1, 'lecture': 2, 'microphones': 2, 'causing': 4, 'stalled': 1, 'tootzi': 1, 'touches': 4, 'intolerance': 1, 'chipote': 1, 'tabassco': 1, 'rags': 1, 'matrix': 1, 'printer': 2, 'skepticism': 2, 'reflective': 1, 'startofffriendly': 1, 'turntobeastwhentoldno': 1, 'workerbee': 1, 'glared': 1, 'mistakes': 5, 'sven': 1, 'malibu': 3, 'indecisive': 3, 'cherish': 1, 'zoe': 5, 'frugal': 3, 'winco': 7, 'clipper': 1, 'matcher': 1, 'attest': 2, 'earnings': 2, 'seam': 2, 'blatantly': 5, 'dixie': 1, 'carpal': 1, 'heartbroken': 3, 'hurtful': 1, 'cancelling': 1, 'identical': 4, 'gina': 3, 'invite': 5, 'illustrates': 1, 'unsophisticated': 2, 'nanny': 2, 'straps': 3, 'shorten': 2, 'suffered': 4, 'cautious': 2, 'luke': 4, 'eternity': 2, 'goof': 3, 'gels': 3, 'crudites': 1, 'turnips': 1, 'trailed': 1, 'maitre': 3, 'anew': 2, 'innovation': 2, 'warranted': 2, 'dbacks': 3, 'fund': 4, 'fonda': 1, 'lf': 2, 'roxie': 5, 'hcg': 2, 'solve': 1, 'holistic': 1, 'daaaaaaaaaaaaaaaaaaaaaang': 1, 'grrrrr': 1, 'lavelle': 1, 'wolfpack': 2, 'crative': 1, 'hides': 3, 'descript': 1, 'treasure': 8, 'skyscrapers': 1, 'contra': 1, 'hillbilly': 1, 'aerobic': 2, 'sloped': 1, 'downtime': 1, 'aromatherapy': 1, 'minnie': 2, 'amenity': 1, 'tomi': 1, 'tease': 2, 'esthetician': 3, 'scalp': 2, 'giftcards': 1, 'energized': 1, 'taos': 2, 'laundered': 1, 'waaaay': 2, 'divorced': 3, 'corvette': 1, 'trophy': 5, 'cocoajoe': 1, 'plaintain': 1, 'overflavored': 1, 'neem': 1, 'repaint': 1, 'headsplitting': 1, 'semblance': 2, 'pleas': 1, 'relay': 3, 'hubris': 1, 'lavishly': 1, 'michigan': 6, 'belgiun': 1, 'mashup': 1, 'michele': 1, 'turnip': 1, 'habachi': 1, 'pumping': 2, 'cougarish': 1, 'blizzard': 2, 'kayaking': 1, 'presense': 1, 'accumulate': 1, 'scuba': 7, 'waiver': 1, 'releasing': 1, 'liabilities': 1, 'acknowledging': 1, 'fins': 2, 'buoyancy': 1, 'compensator': 1, 'oxygen': 1, 'regulator': 2, 'denim': 3, 'betsey': 1, 'luved': 2, 'oregon': 3, 'tortelli': 1, 'namesake': 3, 'capriottis': 3, 'tide': 2, 'crest': 1, 'rana': 1, 'barcelona': 4, 'specialized': 3, 'jumble': 1, 'cockroach': 1, 'veered': 1, 'tartare': 5, 'blandness': 2, 'medallion': 3, 'glob': 2, 'resistance': 1, 'unattentive': 2, 'breathed': 3, 'swinging': 3, 'copiers': 1, 'cheeburger': 2, 'vinagrette': 1, 'carrott': 1, 'chard': 1, 'mccormick': 2, 'schmicks': 1, 'yawn': 2, 'cheeze': 1, 'tucks': 1, 'assertively': 1, 'proclaimed': 2, 'swings': 1, 'froth': 1, 'mirror': 6, 'dresser': 3, 'latenight': 1, 'snazzier': 1, 'skinyalicous': 1, 'donot': 1, 'shepard': 3, 'zuccini': 2, 'ramsay': 1, 'capture': 2, 'appreciates': 2, 'catholic': 2, 'imprint': 1, 'flatware': 1, 'cus': 1, 'accompaniments': 4, 'anger': 2, 'pianist': 2, 'ponytail': 1, 'hygiene': 2, 'parcel': 1, 'ajar': 1, 'fallen': 10, 'coz': 3, 'xmas': 2, 'beatable': 1, 'shinny': 2, 'porto': 1, 'bottling': 1, 'resold': 1, 'thrifting': 1, 'glasswares': 1, 'outlasted': 1, 'suppliers': 1, 'unocal': 1, 'kidless': 1, 'escolar': 3, 'karoake': 1, 'usuals': 3, 'musician': 4, 'lovergirl': 1, 'bonding': 2, 'mushroomy': 1, 'bougey': 1, 'accessibly': 1, 'inclined': 2, 'ventura': 1, 'wendys': 2, 'stacks': 1, 'vogue': 1, 'shortbread': 2, 'oscuro': 1, 'footbal': 1, 'robata': 1, 'tidbits': 2, 'zoftik': 1, 'sochu': 1, 'sayaka': 1, 'watanabe': 1, 'midorikawa': 1, 'koide': 1, 'alessandro': 1, 'marchesan': 1, 'loaner': 2, 'hq': 3, 'unskilled': 2, 'reiterated': 1, 'entertainingly': 1, 'kanpai': 1, 'db': 4, 'carrey': 1, 'brunette': 3, 'mag': 3, 'conflicting': 2, 'tontorita': 1, 'polytechnic': 1, 'initiative': 2, 'ba': 3, 'wifey': 3, 'carbed': 1, 'tats': 2, 'bif': 1, 'flyest': 1, 'gauges': 1, 'roam': 2, 'eyefucking': 1, 'creeper': 1, 'identity': 2, 'behing': 1, 'harlequin': 1, 'dane': 1, 'flourished': 1, 'hearted': 2, 'acapulco': 1, 'seann': 1, 'panama': 1, 'blender': 2, 'blenders': 2, 'viola': 1, 'conjures': 1, 'images': 2, 'aiko': 1, 'shortleashdogs': 1, 'kat': 1, 'kristi': 6, 'secures': 1, 'paparazzi': 1, 'muckrack': 1, 'cheuvront': 3, 'cheuvronts': 1, 'pates': 2, 'similarly': 3, 'thingy': 2, 'heaped': 1, 'veterinary': 3, 'vca': 4, 'pveah': 1, 'svs': 2, 'convey': 2, 'astronomical': 2, 'traumatized': 1, 'tack': 1, 'bogus': 2, 'surcharges': 2, 'biohazard': 1, 'absurd': 5, 'tramadol': 1, 'conversely': 1, 'context': 3, 'sham': 1, 'dali': 2, 'frappe': 2, 'overstuffed': 3, 'memorabilia': 8, 'unmanageable': 1, 'maureen': 1, 'checker': 2, 'kathy': 10, 'welcomeing': 1, 'louder': 1, 'aprreciated': 1, 'employess': 3, 'resonably': 1, 'skiba': 1, 'professionalism': 2, 'posts': 3, 'christie': 1, 'susie': 3, 'saffron': 4, 'await': 2, 'missus': 1, 'colder': 2, 'tonite': 1, 'torch': 3, 'fluid': 3, 'sustain': 1, 'swarmed': 2, 'chan': 1, 'awhatukee': 3, 'parka': 1, 'parkas': 1, 'jackets': 2, 'correspondance': 1, 'puter': 1, 'printing': 3, 'priveleges': 1, 'madeira': 1, 'childhoods': 1, 'fresco': 4, 'hapuku': 1, 'lifestyles': 1, 'kachina': 2, 'og': 2, 'consummate': 2, 'likem': 1, 'latilla': 2, 'sync': 1, 'suiting': 1, 'highs': 2, 'pears': 8, 'hazelnuts': 2, 'foraged': 1, 'embellishment': 1, 'branzino': 1, 'caponata': 1, 'flap': 1, 'masterfully': 1, 'majestic': 1, 'beacuse': 1, 'corresponds': 1, 'oreganos': 2, 'minestrone': 2, 'joya': 4, 'anxiously': 3, 'entrancing': 1, 'awareness': 3, 'tension': 2, 'strokes': 2, 'movements': 1, 'booking': 5, 'abridged': 1, 'penetrated': 1, 'alber': 3, 'rusty': 3, 'awe': 1, 'prestige': 2, 'moolah': 1, 'unspectacular': 2, 'mortified': 1, 'gallon': 9, 'sherlock': 1, 'overhaul': 1, 'monumental': 3, 'hangs': 5, 'kokopellis': 1, 'teg': 6, 'cubans': 2, 'hawiiana': 2, 'relative': 8, 'descent': 2, 'envision': 2, 'backseat': 2, 'anal': 2, 'inconsistency': 4, 'bready': 2, 'harmonious': 2, 'textures': 11, 'guero': 2, 'youth': 2, 'serenity': 1, 'stature': 1, 'admire': 2, 'homogenized': 1, 'ladder': 2, 'bingsoo': 4, 'bantering': 1, 'ff': 1, 'buyers': 3, 'samauri': 1, 'sams': 1, 'cartoon': 1, 'innuendos': 1, 'littered': 3, 'brian': 3, 'mcknight': 1, 'giggles': 1, 'strangle': 1, 'phyllo': 2, 'baklava': 7, 'switching': 1, 'huffy': 1, 'shoved': 4, 'frienldy': 1, 'scoffed': 1, 'solitaire': 1, 'conditioner': 3, 'fragrance': 3, 'commenting': 1, 'distasteful': 2, 'empathize': 1, 'lows': 1, 'ramble': 2, 'renters': 1, 'aircraft': 2, 'denney': 1, 'searously': 1, 'hicima': 1, 'tostado': 1, 'imagining': 1, 'rods': 2, 'discriminatory': 1, 'schmancy': 2, 'thingies': 2, 'deprived': 1, 'swayed': 2, 'alberts': 1, 'mysterious': 4, 'unseasoned': 5, 'packet': 3, 'dollhouse': 2, 'smashboxx': 1, 'overwhelmingly': 3, 'bode': 1, 'fierce': 1, 'shucks': 2, 'bischoff': 3, 'shades': 4, 'touristy': 1, 'skeptically': 1, 'uofm': 1, 'paraphernalia': 2, 'keychains': 1, 'ncaa': 1, 'mabel': 3, 'lollypops': 1, 'deviled': 6, 'trisha': 1, 'manicuring': 1, 'trish': 2, 'generalizing': 1, 'hungrier': 2, 'mantra': 1, 'reinvention': 1, 'plesant': 1, 'harvesting': 1, 'promoted': 2, 'lomein': 1, 'nutter': 1, 'texaz': 2, 'deseret': 2, 'lds': 1, 'pantry': 2, 'proselytized': 1, 'cancelled': 6, 'contagious': 1, 'rescheduled': 1, 'illness': 3, 'aging': 3, 'eyebrow': 2, 'newyorker': 1, 'masa': 2, 'chimmichunga': 1, 'burden': 1, 'summers': 3, 'barbara': 2, 'savy': 1, 'sandbar': 5, 'scottsdalers': 1, 'recollection': 1, 'platforms': 1, 'sprained': 1, 'burbs': 2, 'whales': 1, 'squealing': 1, 'chugged': 1, 'antonio': 3, 'extensively': 1, 'roeser': 1, 'snobs': 2, 'declasse': 1, 'lockhart': 1, 'stubbs': 1, 'kruez': 1, 'proclaim': 1, 'ensuing': 2, 'freud': 1, 'horrifically': 1, 'auntie': 1, 'infantile': 1, 'gomers': 1, 'fiesta': 4, 'aptly': 1, 'immortal': 1, 'quotable': 1, 'branching': 1, 'susman': 2, 'concise': 2, 'oral': 2, 'surgeon': 3, 'lillien': 1, 'complications': 2, 'infections': 1, 'healed': 2, 'radiation': 2, 'whitening': 1, 'kendall': 1, 'noreen': 1, 'retakes': 1, 'tabs': 4, 'circular': 4, 'wahts': 1, 'fiorella': 1, 'tearing': 2, 'testosterone': 3, 'lovvvve': 1, 'hyberbolic': 1, 'pinpoint': 1, 'arbuckle': 2, 'deservedly': 3, 'halls': 2, 'gruyère': 2, 'undressed': 1, 'bld': 1, 'sentimental': 1, 'marshal': 2, 'sunbru': 1, 'adriana': 1, 'roopas': 1, 'crumb': 3, 'carded': 1, 'enotria': 4, 'released': 3, 'problematic': 1, 'disproportionately': 1, 'reputable': 3, 'bellini': 3, 'zoey': 2, 'additives': 1, 'invitations': 4, 'menchies': 1, 'mojos': 1, 'zoning': 1, 'pinko': 1, 'buks': 1, 'lectric': 1, 'reprint': 1, 'dk': 4, 'bretheren': 2, 'teppiniyaki': 1, 'personallity': 1, 'euthanizing': 1, 'ike': 1, 'lword': 1, 'loser': 2, 'dissed': 1, 'tranny': 3, 'allways': 1, 'cezanne': 2, 'classical': 2, 'eras': 1, 'borrowed': 2, 'racette': 1, 'brusqueness': 1, 'script': 1, 'stratified': 1, 'ajo': 4, 'shae': 1, 'ono': 1, 'seams': 2, 'wives': 1, 'lashes': 2, 'tumbled': 3, 'averted': 1, 'gaze': 2, 'rada': 1, 'scarce': 1, 'adorned': 2, 'deff': 1, 'cr': 1, 'monterey': 3, 'fancier': 3, 'thhe': 1, 'hotspots': 1, 'buzzcation': 2, 'sidebarphx': 1, 'fundraising': 1, 'joing': 2, 'tweeples': 1, 'taquito': 1, 'pretending': 1, 'barbecued': 1, 'iain': 1, 'insecurities': 1, 'solicited': 1, 'thankyou': 3, 'denise': 1, 'apt': 2, 'denied': 1, 'investigated': 1, 'yen': 6, 'dq': 3, 'mixup': 1, 'subtlety': 1, 'hefty': 6, 'minuets': 1, 'loafs': 1, 'snatched': 2, 'sheep': 3, 'banking': 3, 'inverse': 1, 'moping': 1, 'littler': 1, 'ruff': 1, 'treachery': 2, 'indictment': 1, 'effectively': 1, 'entrées': 1, 'founded': 3, 'fleming': 4, 'philip': 1, 'regrettable': 1, 'saltiest': 1, 'clumsy': 2, 'inclusion': 1, 'warriors': 2, 'symbols': 4, 'chronicles': 1, 'burial': 1, 'reapply': 2, 'bedsheets': 1, 'shuttles': 1, 'dominating': 1, 'inspected': 3, 'lookout': 4, 'oneness': 1, 'flo': 6, 'aver': 1, 'convelient': 1, 'spur': 2, 'hitchin': 1, 'yer': 1, 'wayne': 2, 'clint': 2, 'eastwood': 1, 'wakes': 1, 'maximilian': 2, 'huuge': 1, 'individuals': 4, 'rehearsed': 1, 'boop': 1, 'reddest': 1, 'verified': 1, 'skinned': 2, 'chewing': 3, 'spimoni': 1, 'ringo': 5, 'beagle': 1, 'passive': 5, 'goons': 1, 'sniff': 1, 'sox': 3, 'irrigate': 1, 'jumbotron': 1, 'enclosed': 3, 'maryvale': 2, 'gamestop': 5, 'smashfires': 1, 'steamy': 1, 'dishing': 2, 'mann': 1, 'pepita': 1, 'burgundian': 1, 'morels': 1, 'ingesting': 2, 'interestingly': 2, 'veddddy': 1, 'goood': 3, 'bundt': 1, 'compalin': 1, 'spinatos': 2, 'grande': 15, 'awatuke': 1, 'blooze': 2, 'fri': 5, 'gobi': 2, 'prevalance': 1, 'bertos': 3, 'filebertos': 1, 'humbertos': 1, 'rolibertos': 1, 'infected': 3, 'extracted': 1, 'calmed': 2, 'numbed': 1, 'multidimensional': 2, 'wes': 5, 'physics': 1, 'eversince': 1, 'hubbie': 2, 'ygl': 2, 'heehee': 1, 'abstain': 1, 'lent': 1, 'registry': 5, 'aide': 1, 'crustacean': 1, 'maine': 1, 'touting': 1, 'yao': 1, 'ming': 1, 'lobsters': 1, 'wellington': 1, 'descend': 2, 'disgruntled': 2, 'devotee': 2, 'fender': 1, 'bender': 2, 'automobile': 2, 'advocated': 1, 'flocking': 1, 'rls': 1, 'cheerios': 2, 'snail': 2, 'jalepeño': 1, 'lucious': 2, 'asthmatic': 1, 'adherence': 1, 'smokers': 3, 'midwesterner': 1, 'rhonda': 1, 'designationl': 1, 'poa': 1, 'upcharges': 1, 'tention': 1, 'remolded': 2, 'gears': 1, 'improvised': 1, 'plating': 2, 'splinter': 2, 'refine': 1, 'upping': 1, 'delicioso': 1, 'scenes': 7, 'pasteries': 2, 'stylishly': 1, 'lorraine': 1, 'hardest': 3, 'tien': 1, 'intot': 1, 'honolulu': 2, 'sparing': 1, 'waistline': 1, 'soapy': 2, 'suds': 1, 'starwood': 5, 'convention': 10, 'crossaint': 1, 'probalby': 1, 'prebreaded': 1, 'avacodo': 1, 'avacado': 5, 'bobas': 2, 'mentally': 3, 'combat': 2, 'fighters': 1, 'upcharge': 4, 'outlined': 1, 'yoohoo': 1, 'reccommend': 2, 'uplighting': 1, 'matsumoto': 1, 'pediatricians': 1, 'scuzy': 1, 'busiest': 3, 'efficiency': 3, 'sarsaparilla': 1, 'topps': 1, 'unstopable': 1, 'prominently': 1, 'golfing': 6, 'warnings': 2, 'jumping': 4, 'teed': 2, 'composure': 1, 'provisionals': 2, 'marshals': 3, 'diplomatically': 1, 'chipping': 2, 'frost': 2, 'bitten': 2, 'aaa': 2, 'bail': 3, 'fbh': 4, 'fasting': 1, 'smashing': 1, 'circus': 2, 'disliking': 1, 'paddy': 1, 'cologne': 2, 'insecurity': 1, 'overcompensation': 1, 'whoring': 1, 'belltown': 1, 'pimpercrombie': 1, 'cesspools': 1, 'sweatshops': 1, 'ymca': 2, 'campaign': 2, 'awfully': 4, 'presto': 1, 'crayons': 3, 'doodle': 4, 'richer': 2, 'amazes': 2, 'rations': 1, 'refugees': 1, 'blimpie': 2, 'biglots': 1, 'salvadoran': 2, 'prevalent': 2, 'husk': 1, 'repast': 1, 'richardsons': 1, 'madeliene': 1, 'normandy': 1, 'basted': 1, 'peppercorns': 3, 'acknowledgement': 2, 'comb': 1, 'nair': 1, 'exodus': 1, 'cubicles': 1, 'plaster': 2, 'luncha': 1, 'libre': 1, 'toledos': 1, 'thumping': 1, 'swamp': 3, 'casuals': 1, 'amazeballs': 1, 'association': 2, 'storm': 6, 'dale': 1, 'attic': 1, 'programmable': 1, 'thermostat': 3, 'sensational': 1, 'bangin': 1, 'pickiest': 5, 'wildest': 1, 'dishonest': 2, 'attarct': 1, 'restoration': 1, 'oblige': 1, 'velveeta': 1, 'breezy': 3, 'improves': 2, 'maryland': 2, 'eastwind': 4, 'consulting': 1, 'seeps': 1, 'attained': 2, 'converting': 1, 'drunkeness': 1, 'dani': 2, 'oatmeat': 1, 'scode': 1, 'loooove': 2, 'cooled': 2, 'florets': 1, 'cloths': 3, 'checkered': 3, 'ernie': 2, 'coarse': 2, 'lists': 3, 'roomier': 1, 'courtside': 1, 'narrower': 1, 'clostrophobic': 1, 'leah': 3, 'academy': 1, 'disregarding': 1, 'portos': 1, 'promoters': 1, 'owl': 1, 'frenzy': 3, 'landon': 1, 'pigg': 1, 'stripper': 1, 'tabouli': 1, 'nailing': 1, 'homage': 2, 'venus': 1, 'nectarine': 1, 'crustada': 1, 'nit': 2, 'bengan': 1, 'bartha': 1, 'nan': 2, 'fullers': 1, 'esb': 1, 'outfitters': 2, 'curvy': 2, 'muted': 1, 'chopin': 1, 'booker': 2, 'stairwell': 1, 'qualifies': 4, 'narrowed': 2, 'nantucket': 1, 'facials': 3, 'riddled': 2, 'adorn': 1, 'rockefeller': 1, 'disregard': 1, 'bartlett': 1, 'quince': 2, 'certifications': 1, 'sustainable': 6, 'depleted': 1, 'sustainably': 1, 'roar': 2, 'peppering': 1, 'rinkukiu': 1, 'alaus': 1, 'darykla': 1, 'whe': 1, 'sobbing': 1, 'wobbled': 1, 'bobbi': 1, 'boxty': 1, 'dedicates': 1, 'smithwick': 2, 'harp': 2, 'kilkenny': 1, 'magner': 1, 'killians': 1, 'adams': 5, 'shamrocks': 1, 'ayce': 2, 'mcd': 3, 'ehhhh': 1, 'befitting': 1, 'arizonians': 3, 'californians': 1, 'hahahhaa': 1, 'boogie': 1, 'geek': 3, 'freshening': 1, 'parish': 1, 'receptions': 1, 'casseroles': 1, 'dolsot': 1, 'reallllly': 1, 'omellete': 1, 'omelletes': 1, 'wifes': 1, 'slighty': 1, 'challange': 1, 'definilty': 1, 'bannana': 1, 'mixteca': 2, 'robertos': 1, 'carumbas': 1, 'automotive': 3, 'bogi': 3, 'implicitly': 2, 'ponied': 1, 'tracking': 1, 'mozz': 2, 'specialness': 2, 'downs': 1, 'skate': 9, 'eleve': 1, 'intermezzo': 1, 'getter': 1, 'impolite': 1, 'suspected': 3, 'gryo': 1, 'congealed': 3, 'suace': 1, 'wows': 1, 'pucks': 2, 'represent': 1, 'mclinn': 2, 'foh': 1, 'dishwashers': 1, 'kline': 1, 'peacemakers': 2, 'eastonashe': 1, 'headroom': 1, 'comer': 1, 'jarrod': 1, 'bogsinski': 1, 'pattrick': 1, 'fagan': 1, 'carter': 1, 'payton': 6, 'aaron': 4, 'chamberlin': 1, 'curtis': 1, 'talents': 1, 'groupies': 1, 'believes': 2, 'botox': 2, 'toxin': 1, 'empowering': 1, 'crackerjack': 2, 'godfather': 2, 'hairy': 2, 'magnum': 1, 'pouch': 1, 'ouch': 2, 'ode': 1, 'kingdoms': 1, 'announces': 2, 'savior': 1, 'enable': 3, 'poverty': 1, 'economist': 1, 'environmentalists': 1, 'sensor': 1, 'schtick': 1, 'artisan': 4, 'messes': 3, 'bellman': 1, 'screwing': 2, 'exclusivity': 2, 'marrow': 1, 'athletica': 1, 'sizing': 2, 'lucy': 1, 'customizable': 1, 'hugest': 1, 'druelz': 1, 'burns': 2, 'seep': 2, 'fairs': 2, 'surmised': 1, 'gretel': 1, 'solstice': 2, 'widely': 1, 'ito': 5, 'flipped': 1, 'chiclets': 1, 'cosmetic': 1, 'equipped': 5, 'omygosh': 1, 'sprinkle': 3, 'diaper': 2, 'accidental': 2, 'presumptive': 1, 'qcom': 1, 'pesticide': 1, 'paninni': 1, 'aoli': 3, 'kumomato': 1, 'procure': 2, 'bodo': 7, 'afar': 1, 'deduce': 1, 'charlottesville': 1, 'virginia': 2, 'wallys': 1, 'thunkkkk': 1, 'roscoes': 3, 'lolos': 1, 'suuuree': 1, 'confirms': 2, 'renown': 1, 'ropes': 2, 'forefather': 1, 'worthless': 2, 'crabcake': 1, 'goodytwo': 3, 'wowzer': 1, 'regoddamndiculously': 1, 'twozels': 1, 'stockings': 1, 'perfected': 3, 'lugging': 1, 'tablecloth': 1, 'bolognese': 6, 'anchovies': 3, 'dissapointment': 2, 'departure': 4, 'internship': 3, 'dragonfly': 1, 'inauthentic': 1, 'chargers': 1, 'drapery': 1, 'panels': 1, 'humongous': 2, 'width': 1, 'mmmmmmmmmmmm': 1, 'undamaged': 1, 'hummous': 2, 'bdays': 1, 'canoli': 3, 'grades': 2, 'funding': 1, 'noce': 1, 'globs': 1, 'lightest': 2, 'sorority': 4, 'rochelle': 1, 'fujiya': 2, 'bentos': 3, 'suruki': 1, 'placard': 1, 'cj': 1, 'entress': 2, 'cooker': 1, 'indicative': 1, 'destroys': 1, 'rooted': 1, 'borderline': 3, 'thaiger': 7, 'bizarro': 2, 'headbangers': 1, 'rappers': 1, 'punks': 1, 'bowie': 1, 'trent': 1, 'reznor': 1, 'refiled': 1, 'rear': 5, 'interiorly': 1, 'align': 1, 'nites': 2, 'convience': 1, 'portrayed': 1, 'kennedy': 1, 'seventies': 1, 'ascend': 1, 'reveal': 2, 'brickwork': 1, 'casement': 1, 'integrated': 2, 'spared': 3, 'organically': 1, 'sofas': 2, 'conversational': 2, 'artistically': 1, 'voiced': 1, 'showings': 2, 'arrange': 1, 'coincide': 1, 'milagro': 1, 'etiquette': 1, 'affiliates': 1, 'professionality': 1, 'toscana': 2, 'acclaimed': 1, 'citywide': 3, 'dentistry': 3, 'bader': 2, 'handouts': 1, 'lash': 2, 'extensions': 2, 'aaand': 1, 'yellowish': 2, 'lemming': 1, 'rey': 5, 'constructed': 2, 'plasticware': 1, 'softdrink': 1, 'tzaziki': 1, 'investors': 1, 'injected': 3, 'legend': 2, 'wigwam': 5, 'litchfield': 3, 'affectionately': 1, 'stern': 1, 'falter': 1, 'craze': 2, 'caramelizing': 2, 'searing': 1, 'astute': 1, 'baffling': 1, 'drapes': 1, 'shushed': 1, 'blinding': 1, 'awnings': 1, 'gawd': 1, 'perfecter': 1, 'crates': 2, 'tesco': 1, 'albertson': 2, 'chaokoh': 1, 'unpasteurized': 1, 'molotes': 1, 'offspring': 1, 'ramsey': 1, 'yu': 1, 'upbeat': 9, 'dinosaurs': 3, 'extinct': 1, 'mutilated': 1, 'decapitated': 1, 'salivating': 1, 'pavlov': 2, 'pennants': 1, 'pampered': 1, 'crooked': 1, 'stan': 2, 'jmho': 1, 'sewer': 3, 'vent': 2, 'juiciest': 1, 'rants': 1, 'famed': 2, 'undisciplined': 1, 'sufficed': 2, 'snarky': 3, 'fuckface': 1, 'bitchy': 2, 'refrigerate': 1, 'pediatric': 2, 'salek': 3, 'fever': 3, 'reassured': 3, 'urgent': 8, 'overbooked': 1, 'bronco': 1, 'janey': 1, 'becuase': 2, 'dynasty': 1, 'majerle': 4, 'marjerle': 1, 'aol': 1, 'pacifico': 3, 'sizzlin': 1, 'slack': 2, 'frybread': 1, 'sofitel': 1, 'fathers': 2, 'beaters': 1, 'substitutes': 1, 'ricky': 1, 'singular': 1, 'addictions': 1, 'spam': 4, 'musubi': 1, 'chewey': 1, 'softly': 1, 'hopshot': 1, 'revert': 1, 'gastricly': 1, 'hollering': 1, 'assembly': 2, 'frickin': 2, 'candyland': 2, 'franticly': 1, 'reps': 1, 'eegee': 3, 'colda': 1, 'gruyere': 1, 'adjustment': 2, 'chiropractor': 1, 'tweek': 1, 'unexpectedly': 1, 'chiro': 3, 'xtra': 2, 'palmers': 1, 'knowlegable': 1, 'akur': 1, 'aspires': 2, 'consensus': 1, 'opportunities': 4, 'adjunct': 1, 'compartments': 1, 'merger': 1, 'ay': 1, 'dios': 1, 'mio': 1, 'paleta': 4, 'añejo': 1, 'vainly': 1, 'popsicle': 1, 'popsicles': 1, 'sorrows': 1, 'timid': 3, 'fresa': 1, 'overwhelms': 1, 'reprogram': 1, 'reevaluate': 1, 'paletas': 1, 'pura': 1, 'piña': 2, 'hallucinogen': 1, 'prosper': 2, 'leeks': 7, 'mailer': 1, 'simplest': 2, 'baggers': 1, 'thighs': 1, 'woah': 1, 'husbandly': 1, 'pomegranite': 1, 'theatrical': 1, 'actuality': 2, 'hmmmmmmm': 2, 'childsplay': 4, 'drama': 2, 'teehee': 1, 'remakes': 1, 'scripts': 1, 'tcpa': 2, 'fernidad': 1, 'bfg': 1, 'masterpieces': 1, 'actors': 2, 'tomorrows': 1, 'tutelage': 1, 'inhibiting': 1, 'contests': 1, 'soooooooo': 2, 'crafting': 1, 'paseo': 1, 'consolidated': 1, 'paved': 3, 'subdivisions': 1, 'joggers': 1, 'bicyclists': 1, 'equestrians': 1, 'tumbleweed': 2, 'recreation': 2, 'mcqueen': 2, 'germann': 3, 'junctions': 1, 'riggs': 1, 'uphill': 2, 'crossings': 2, 'motorists': 1, 'forging': 1, 'fortified': 1, 'artisianal': 1, 'wroth': 1, 'fives': 1, 'willy': 3, 'nilly': 1, 'adoration': 1, 'athletics': 1, 'flatscreen': 2, 'yaaaaay': 1, 'deadly': 1, 'stardust': 1, 'zuzus': 1, 'groaning': 1, 'prescott': 2, 'beanery': 1, 'myspace': 2, 'sweater': 2, 'defrosted': 1, 'granular': 1, 'discernible': 1, 'choke': 3, 'reeling': 2, 'charismatic': 1, 'position': 4, 'meatheads': 1, 'lockerrooms': 1, 'reddddddd': 1, 'suger': 1, 'comeon': 1, 'attentetive': 1, 'urchin': 3, 'hemet': 1, 'stalk': 2, 'defies': 1, 'alex': 6, 'spooky': 2, 'presses': 1, 'lotto': 2, 'anejo': 1, 'reactionary': 1, 'sauza': 1, 'undergrad': 1, 'blackout': 1, 'grooving': 1, 'governator': 1, 'soupy': 2, 'simmering': 1, 'weaken': 1, 'dai': 2, 'miele': 1, 'brochette': 3, 'accompanies': 2, 'brent': 1, 'dimmer': 1, 'dusk': 2, 'tbsp': 1, 'alfafa': 1, 'farming': 1, 'nitrates': 1, 'feeds': 3, 'pastured': 1, 'diets': 1, 'obtain': 1, 'shirtless': 1, 'prefect': 2, 'whack': 2, 'cous': 4, 'pinto': 3, 'betraying': 1, 'hogs': 1, 'corporations': 3, 'morton': 5, 'steakplace': 1, 'looooong': 1, 'tapa': 1, 'canelloni': 1, 'rewind': 1, 'eleven': 1, 'stevey': 1, 'effin': 2, 'fondest': 1, 'alameda': 1, 'arkansas': 1, 'overdressed': 2, 'pmdd': 1, 'rejection': 1, 'satiated': 1, 'soak': 7, 'dover': 2, 'ties': 1, 'function': 5, 'paddle': 3, 'oi': 2, 'everythings': 1, 'evreyone': 1, 'copa': 1, 'mingle': 3, 'freshen': 1, 'reconsider': 1, 'permitted': 1, 'arrests': 2, 'becuse': 1, 'guysgot': 1, 'disguised': 3, 'enchillada': 1, 'otfm': 1, 'itsy': 1, 'bitsy': 1, 'exploded': 2, 'gil': 1, 'mcclendon': 3, 'shears': 1, 'brow': 3, 'eyelas': 1, 'resources': 2, 'dee': 3, 'dancewear': 2, 'mischa': 1, 'capezio': 1, 'landfill': 1, 'heinous': 1, 'lollygagged': 1, 'prohibited': 1, 'sunsplash': 2, 'waterpark': 1, 'icees': 1, 'sheesh': 1, 'dork': 1, 'reliving': 1, 'lifeguards': 1, 'lily': 1, 'captioning': 1, 'straws': 2, 'blacked': 3, 'diamondbacks': 4, 'affiliate': 1, 'caprisun': 1, 'muy': 4, 'pino': 1, 'surefire': 1, 'explored': 2, 'restraint': 1, 'pasteles': 1, 'viejo': 2, 'excellante': 1, 'sensual': 1, 'haggling': 1, 'accountability': 1, 'dazzled': 3, 'rightly': 2, 'maestros': 1, 'ripoff': 1, 'succeeds': 1, 'miserably': 2, 'magnitude': 1, 'shittier': 1, 'brak': 3, 'vacuuming': 2, 'fuzz': 1, 'shield': 1, 'greats': 1, 'hounded': 1, 'candor': 1, 'fuse': 2, 'hotziki': 1, 'playdough': 1, 'manipulatives': 1, 'elementary': 3, 'math': 1, 'stain': 5, 'saturn': 1, 'jonesin': 1, 'aways': 3, 'lickin': 4, 'overpowers': 2, 'lucia': 6, 'miami': 2, 'jewlery': 1, 'paddys': 1, 'nassau': 1, 'prompted': 4, 'ridiculing': 1, 'exhibited': 1, 'wantons': 1, 'pablano': 2, 'brough': 1, 'amaretto': 3, 'educate': 4, 'finer': 3, 'therefor': 1, 'culprit': 1, 'borne': 1, 'salvation': 2, 'madden': 2, 'metropolis': 1, 'instruct': 1, 'kampachi': 1, 'mirugai': 3, 'sumibiyaki': 3, 'salmonella': 1, 'pls': 1, 'promos': 2, 'waddled': 1, 'rearrange': 1, 'ungracious': 1, 'rust': 1, 'uhm': 3, 'annnd': 1, 'muuuuch': 1, 'kohl': 2, 'cheesehead': 1, 'wisconsinite': 1, 'iowa': 1, 'threads': 1, 'blistered': 1, 'filmy': 1, 'disintegrate': 1, 'ventilation': 3, 'lurid': 1, 'sustaining': 1, 'tooooo': 1, 'dogfishhead': 1, 'chicory': 1, 'griller': 1, 'flemmingsery': 1, 'bibimbop': 1, 'cerveza': 2, 'squished': 1, 'foil': 3, 'sizzler': 2, 'corral': 2, 'amigos': 2, 'disco': 3, 'pizookie': 1, 'beating': 6, 'osetra': 1, 'toasts': 2, 'minced': 3, 'shallot': 1, 'yolk': 4, 'fraiche': 4, 'continentally': 1, 'laredo': 4, 'export': 1, 'professes': 1, 'lovable': 1, 'proves': 2, 'anomaly': 1, 'flimsiest': 1, 'wallpapers': 1, 'tavola': 1, 'loooooooooooove': 1, 'sworn': 3, 'secrecy': 1, 'obs': 1, 'cursive': 1, 'pasting': 1, 'snowman': 1, 'glitter': 4, 'roommates': 1, 'gulped': 1, 'schwarzbiers': 1, 'hoodlum': 1, 'kristian': 1, 'traders': 1, 'bargin': 1, 'playtime': 3, 'contraptions': 2, 'obstacle': 2, 'rigid': 1, 'prodding': 2, 'sidelines': 1, 'insistence': 1, 'yank': 1, 'eccentric': 1, 'velveta': 1, 'cuties': 1, 'subtly': 1, 'illuminating': 1, 'playable': 1, 'handicappers': 2, 'birdie': 1, 'kenny': 1, 'penal': 1, 'ebi': 5, 'prawn': 4, 'tartine': 2, 'bouillabaisse': 3, 'medjul': 2, 'merguez': 1, 'tappas': 3, 'sings': 3, 'nebraska': 2, 'dainty': 3, 'farmed': 1, 'mel': 2, 'mecinas': 1, 'spouts': 2, 'lad': 1, 'shining': 6, 'barrage': 2, 'smug': 1, 'bluebottle': 1, 'fourbarrel': 1, 'saucer': 1, 'sweeten': 1, 'cocaine': 2, 'mainstay': 1, 'gooooooood': 1, 'debate': 3, 'proponent': 2, 'mover': 2, 'movers': 1, 'halo': 1, 'striping': 1, 'bodyworker': 1, 'develope': 1, 'individualized': 1, 'nutritional': 2, 'renewed': 2, 'impresses': 1, 'calloused': 1, 'softening': 1, 'hypes': 1, 'lance': 1, 'articles': 4, 'arugala': 2, 'chipolte': 1, 'malee': 1, 'incidentally': 2, 'layering': 1, 'tastings': 4, 'dolma': 1, 'babaganoush': 3, 'wacko': 1, 'neiman': 4, 'marcus': 5, 'saks': 1, 'impecable': 2, 'chanel': 4, 'handbags': 3, 'dior': 1, 'laura': 5, 'mercier': 1, 'trekked': 1, 'neimans': 2, 'estrellas': 1, 'marina': 1, 'shoreline': 1, 'lakeside': 1, 'warns': 1, 'iridescent': 1, 'carp': 2, 'feathered': 1, 'scaled': 1, 'scavengers': 1, 'vie': 2, 'inked': 2, 'tackle': 1, 'wilderness': 3, 'gig': 3, 'gryos': 1, 'souvlaki': 1, 'zatsiki': 1, 'retort': 1, 'inspect': 1, 'newcomers': 1, 'asaian': 1, 'herring': 1, 'strep': 1, 'matzah': 1, 'reluctantly': 3, 'golds': 1, 'tara': 2, 'ziploc': 1, 'styled': 5, 'annette': 1, 'punchcard': 1, 'prailine': 1, 'gummi': 3, 'chopping': 1, 'burritoes': 3, 'especial': 1, 'dissapoint': 2, 'billed': 1, 'dispute': 2, 'gobble': 1, 'pounded': 1, 'ravenous': 2, 'bangs': 1, 'byo': 1, 'multiples': 1, 'increments': 1, 'teyes': 1, 'huuugggge': 1, 'chicharron': 1, 'estilo': 3, 'mugginess': 1, 'mexicana': 3, 'mangoes': 2, 'latinos': 1, 'recreate': 2, 'parlors': 1, 'coyle': 2, 'rented': 1, 'groundskeepers': 2, 'massaged': 2, 'nosebleed': 1, 'enviornment': 1, 'clientle': 1, 'cherryblossom': 5, 'mercedes': 1, 'charles': 4, 'aurohaus': 1, 'fermented': 2, 'loyd': 1, 'foreigner': 1, 'nikolai': 1, 'khabibulin': 1, 'retrospectively': 1, 'existing': 2, 'gymnastics': 1, 'lioness': 1, 'hobos': 1, 'mrs': 2, 'howell': 1, 'iii': 2, 'positioned': 2, 'curtained': 1, 'penalize': 1, 'blackboard': 1, 'recites': 2, 'chapter': 1, 'leviticus': 1, 'captivated': 1, 'piedmont': 1, 'glove': 3, 'prefecture': 1, 'hailed': 1, 'fades': 1, 'sated': 1, 'haüs': 1, 'surprises': 5, 'strikingly': 1, 'waikiki': 2, 'flooring': 5, 'tood': 1, 'darned': 2, 'issac': 1, 'stimulating': 3, 'cofco': 1, 'acid': 2, 'reflux': 1, 'clotted': 1, 'fixings': 8, 'frisbees': 1, 'ronnie': 1, 'mimosa': 6, 'consuming': 5, 'demos': 1, 'muster': 2, 'kahlua': 9, 'wih': 2, 'pepin': 1, 'squirmy': 1, 'sandles': 1, 'clapping': 1, 'chirico': 1, 'chaka': 2, 'rollin': 2, 'winos': 2, 'logical': 1, 'paninis': 4, 'loungers': 1, 'crem': 1, 'burle': 1, 'sickening': 1, 'droolin': 1, 'desperation': 2, 'froze': 1, 'slicing': 2, 'thawed': 2, 'gray': 5, 'nauseous': 3, 'bleech': 1, 'rqstd': 1, 'salcido': 1, 'dba': 1, 'urinal': 7, 'misled': 1, 'believing': 2, 'unsuccessfully': 2, 'dumbass': 2, 'relieving': 2, 'reopen': 4, 'coverup': 1, 'reordered': 1, 'hassled': 2, 'spongebob': 1, 'drybar': 6, 'blowouts': 2, 'replica': 3, 'thanh': 5, 'absense': 1, 'friendlyer': 1, 'frances': 2, 'persuasion': 1, 'landmarks': 1, 'porkless': 1, 'clumps': 1, 'disposition': 2, 'sights': 1, 'introductions': 1, 'conformable': 1, 'multiply': 1, 'camus': 1, 'bomberos': 4, 'timo': 2, 'ravaged': 1, 'sweltering': 2, 'helpers': 1, 'oohed': 1, 'awed': 1, 'disappointin': 1, 'overprices': 2, 'tomasos': 2, 'discourage': 3, 'remedy': 2, 'blasted': 2, 'deejays': 2, 'unattractive': 1, 'trashy': 2, 'deejay': 2, 'circuity': 1, 'eighties': 1, 'charitable': 2, 'voila': 2, 'fould': 1, 'congratulate': 1, 'jt': 1, 'converstaion': 1, 'strewn': 2, 'killers': 1, 'deployment': 1, 'wasy': 1, 'recept': 1, 'filepe': 1, 'wll': 1, 'caddilac': 1, 'overspending': 1, 'extravaganzas': 1, 'bingo': 2, 'butterflied': 1, 'collaboration': 1, 'fence': 3, 'fillers': 1, 'nacho': 9, 'definitively': 3, 'mates': 2, 'ranks': 4, 'cheapskate': 1, 'violated': 1, 'roamed': 1, 'strategizing': 1, 'sensation': 2, 'alluring': 1, 'artificially': 2, 'cleanser': 1, 'define': 1, 'rangoons': 1, 'mos': 2, 'diaya': 1, 'retirement': 2, 'dividing': 1, 'tempermant': 1, 'sdl': 1, 'longish': 1, 'mickie': 1, 'foray': 1, 'hyatt': 5, 'gainey': 2, 'swb': 1, 'scrambles': 2, 'baeley': 2, 'roman': 2, 'speciality': 1, 'misleading': 5, 'darkened': 2, 'chimed': 1, 'brakes': 1, 'sellers': 2, 'ugliest': 1, 'hump': 1, 'notifications': 1, 'grossly': 1, 'employers': 2, 'shitaki': 1, 'raviolli': 1, 'cited': 2, 'published': 2, 'tossing': 2, 'retire': 1, 'duties': 1, 'protégé': 1, 'horatio': 2, 'hernandez': 1, 'microbrews': 4, 'gaeta': 1, 'unison': 1, 'trotted': 1, 'stalked': 2, 'evaluative': 1, 'rosson': 2, 'lacy': 1, 'ghostly': 1, 'pinafore': 1, 'fours': 1, 'picholine': 1, 'campbell': 1, 'affiliated': 4, 'arribas': 7, 'yourselves': 2, 'pley': 1, 'umbrellaed': 1, 'resto': 1, 'whereupon': 2, 'butai': 4, 'distaste': 1, 'recharging': 1, 'presenting': 3, 'receptacle': 1, 'oye': 1, 'ganache': 4, 'displeasure': 1, 'overseas': 2, 'absurdly': 2, 'carelessly': 3, 'fluids': 1, 'nerdy': 1, 'divert': 1, 'fudd': 1, 'traditionalist': 1, 'blasphemy': 1, 'neeext': 1, 'florentine': 2, 'mesha': 1, 'michelle': 3, 'refrigerators': 2, 'nagasaki': 1, 'taiko': 1, 'martial': 1, 'demonstrations': 1, 'bonsai': 1, 'akitas': 1, 'immersion': 1, 'landed': 4, 'montana': 1, 'increases': 2, 'colon': 1, 'muslim': 2, 'bok': 2, 'choy': 2, 'curried': 2, 'plateful': 2, 'trepidations': 1, 'invent': 1, 'frustrate': 1, 'huff': 1, 'interpret': 2, 'grunts': 1, 'firmly': 3, 'topple': 1, 'decompose': 1, 'suv': 4, 'urbanity': 1, 'sprawl': 3, 'lamar': 3, 'fulls': 1, 'spudnuts': 1, 'cussed': 1, 'unsanitary': 1, 'reakfast': 1, 'quiktrip': 2, 'quiktrips': 1, 'arco': 1, 'whacked': 1, 'surcharge': 3, 'loitering': 1, 'squeegee': 1, 'compressor': 1, 'mew': 1, 'specialities': 2, 'fanstastic': 1, 'maps': 9, 'mitts': 1, 'detailed': 4, 'detouring': 1, 'arizonian': 1, 'cracking': 1, 'windshields': 1, 'vandalized': 2, 'certificates': 3, 'honeycomb': 1, 'whaat': 1, 'ribeeyeeeee': 1, 'forgave': 2, 'rutherford': 1, 'altos': 1, 'jargon': 2, 'abodoba': 1, 'risks': 1, 'serranos': 1, 'slanged': 1, 'outlook': 1, 'heaviness': 1, 'rappini': 1, 'fossilized': 1, 'slushies': 1, 'undrinkable': 2, 'rot': 1, 'payed': 4, 'squirted': 1, 'smiley': 4, 'daves': 1, 'iconic': 1, 'doodles': 1, 'minneapolis': 1, 'downer': 4, 'pasted': 1, 'adaquate': 1, 'foodgasm': 3, 'priciest': 1, 'plantar': 1, 'faciatis': 1, 'unknowingly': 2, 'woot': 2, 'lofts': 1, 'coffers': 1, 'haved': 1, 'smalls': 1, 'duration': 2, 'sho': 1, 'burnnnn': 1, 'urrr': 1, 'hite': 1, 'ypu': 1, 'titillates': 1, 'organize': 2, 'wining': 1, 'briefed': 2, 'enlightened': 2, 'togetherness': 1, 'evfn': 1, 'tweetup': 1, 'bonafide': 1, 'kickassery': 1, 'snoooty': 1, 'agape': 1, 'manicured': 2, 'catalogs': 2, 'postcards': 2, 'atrium': 4, 'splleeeendid': 1, 'whirlwind': 1, 'condor': 2, 'mistakenly': 3, 'terrycloth': 3, 'flashback': 1, 'donned': 2, 'soothed': 2, 'literary': 1, 'torrid': 1, 'hoi': 1, 'polli': 1, 'accuracy': 1, 'ensued': 1, 'actress': 1, 'hurled': 1, 'ire': 1, 'escorted': 1, 'peta': 1, 'wilson': 1, 'realm': 1, 'awaken': 2, 'trance': 1, 'masseur': 1, 'entrepreneurs': 2, 'disappearance': 1, 'yummier': 1, 'repicci': 1, 'cookiez': 4, 'bookmans': 4, 'recycling': 2, 'contribution': 1, 'satiate': 4, 'nutty': 3, 'jittering': 1, 'steeped': 1, 'distinguish': 3, 'hostile': 3, 'agitated': 1, 'demanded': 3, 'escalate': 1, 'headfirst': 1, 'swiped': 2, 'recording': 2, 'adamant': 1, 'disrespectfully': 1, 'manhandling': 1, 'guidelines': 2, 'conduct': 2, 'witnessed': 1, 'assault': 2, 'infringement': 2, 'regulatory': 1, 'agency': 2, 'skips': 1, 'unforgiving': 1, 'rockies': 1, 'pacino': 1, 'potpie': 1, 'mouthwashy': 1, 'seasalt': 1, 'dt': 2, 'gambas': 1, 'enticed': 2, 'piranha': 1, 'release': 4, 'shadows': 2, 'staircases': 1, 'slowest': 2, 'babble': 1, 'pennies': 2, 'paychecks': 1, 'gummie': 1, 'parmigiana': 2, 'gorged': 1, 'adjoining': 5, 'sabrett': 2, 'hds': 2, 'sever': 1, 'overstaffing': 1, 'huddled': 1, 'hurrying': 1, 'magnifico': 1, 'frightening': 1, 'deserted': 3, 'depression': 2, 'thrives': 2, 'phenomenon': 3, 'kissed': 1, 'folded': 2, 'uniformly': 3, 'dermabrasion': 1, 'perfectionist': 1, 'hahha': 1, 'goats': 2, 'livelier': 1, 'ruthless': 1, 'cumin': 2, 'falafels': 2, 'daphne': 2, 'jazzed': 1, 'astatically': 1, 'amounted': 1, 'zilch': 1, 'disks': 2, 'triangles': 1, 'chomp': 3, 'mmmghgh': 1, 'sllluuuurrrpp': 1, 'opps': 1, 'upleveled': 1, 'implored': 2, 'whiteboard': 2, 'daphnes': 2, 'begins': 3, 'bedrooms': 4, 'mormons': 3, 'belted': 1, 'plaid': 1, 'masochist': 1, 'sate': 1, 'emperor': 1, 'fore': 1, 'ion': 1, 'midget': 2, 'childrens': 1, 'playroom': 1, 'ellis': 2, 'compasionate': 1, 'demonstrates': 1, 'elite': 2, 'colleen': 3, 'bonkers': 1, 'caffine': 1, 'infomral': 1, 'baiscally': 1, 'aked': 1, 'protect': 1, 'shrinkage': 1, 'goping': 1, 'penang': 2, 'broun': 1, 'liquidy': 1, 'twinkies': 1, 'soynami': 1, 'alp': 1, 'exclaiming': 1, 'lik': 1, 'havoc': 1, 'metabolism': 1, 'rl': 1, 'blurb': 1, 'optimizing': 1, 'chilehead': 1, 'enchelada': 1, 'cape': 1, 'oppressive': 3, 'bragging': 5, 'congratulations': 1, 'weasels': 1, 'scorn': 1, 'ritual': 2, 'shhhhhh': 1, 'kewlest': 1, 'kewl': 1, 'petty': 2, 'carla': 5, 'improper': 1, 'possessive': 1, 'apostrophe': 1, 'trolling': 3, 'chastising': 1, 'famously': 1, 'retract': 1, 'butthurt': 1, 'whines': 2, 'perceived': 1, 'braggart': 1, 'forays': 1, 'residences': 1, 'timeshares': 1, 'repleat': 1, 'tiled': 1, 'calender': 1, 'clover': 3, 'rocklike': 1, 'caves': 2, 'tpc': 3, 'cricket': 4, 'insect': 1, 'compensation': 3, 'uncrumbled': 1, 'unfresh': 1, 'selectioned': 1, 'checkeed': 1, 'upholstery': 1, 'qhick': 1, 'belated': 1, 'coordination': 2, 'notches': 2, 'judgement': 1, 'taberna': 4, 'ninfa': 1, 'coincidence': 1, 'ftr': 1, 'seville': 5, 'ciroc': 1, 'mmmmmazing': 1, 'apothic': 1, 'reds': 2, 'flush': 2, 'yapping': 1, 'shaper': 1, 'flagged': 1, 'swearing': 2, 'extortion': 1, 'clarified': 2, 'beckham': 1, 'passports': 1, 'dual': 1, 'citizenship': 1, 'pointless': 1, 'scholar': 1, 'brinner': 1, 'wicker': 2, 'lawnchair': 1, 'donna': 1, 'gunna': 1, 'abuelos': 1, 'oldie': 1, 'goodie': 1, 'repertoire': 1, 'reflecting': 2, 'weihenstephaner': 1, 'hoffman': 1, 'fubar': 1, 'makeshift': 1, 'loan': 1, 'yuk': 3, 'giardinara': 1, 'joltachinno': 1, 'frappacino': 1, 'recongnized': 1, 'tampiquena': 1, 'citrusy': 1, 'smacks': 1, 'doozy': 1, 'caradmom': 1, 'resolving': 1, 'primp': 1, 'doorbell': 1, 'solicitors': 1, 'shooters': 2, 'teenie': 1, 'souffles': 1, 'anglaise': 4, 'segments': 1, 'coasters': 2, 'chines': 1, 'stereo': 1, 'beacause': 1, 'pcl': 2, 'unwelcoming': 3, 'abysmal': 3, 'claustraphobic': 3, 'philosophy': 1, 'sorbets': 1, 'mayan': 1, 'continuing': 4, 'abogado': 1, 'comida': 2, 'avid': 4, 'quilter': 1, 'quilt': 2, 'fabrics': 3, 'minky': 1, 'dec': 1, 'delishhhh': 1, 'jenga': 2, 'taxidermy': 1, 'log': 1, 'allen': 2, 'vikings': 1, 'nflers': 1, 'bathrobes': 1, 'advertized': 1, 'splashing': 2, 'nippy': 1, 'spen': 1, 'nicoise': 2, 'croque': 5, 'monsieur': 2, 'ingridients': 1, 'saunter': 1, 'assumes': 1, 'sb': 2, 'decides': 1, 'teen': 2, 'ooops': 1, 'tablespoon': 1, 'teppen': 2, 'viewpoint': 1, 'benihana': 1, 'ddd': 1, 'cabeza': 4, 'bugger': 1, 'prance': 1, 'winky': 1, 'tinkled': 1, 'australian': 2, 'terrier': 2, 'aussie': 2, 'shep': 2, 'saliva': 2, 'marking': 1, 'parker': 2, 'carving': 1, 'humidity': 1, 'orient': 1, 'stroganoff': 1, 'beebees': 1, 'lumpless': 1, 'madera': 1, 'swirls': 1, 'foamy': 1, 'gelatinous': 2, 'velvety': 2, 'differ': 2, 'libraries': 2, 'reviwers': 1, 'ss': 1, 'mouaikel': 1, 'lenghtly': 1, 'preamble': 1, 'yiu': 1, 'aia': 1, 'tesoro': 1, 'apologetically': 1, 'shivering': 2, 'saltimbocca': 1, 'farfalle': 1, 'detraction': 1, 'gynormous': 1, 'tabbouleh': 2, 'karma': 3, 'jokingly': 1, 'armour': 2, 'manikin': 2, 'rob': 1, 'yankin': 1, 'ceases': 1, 'musty': 4, 'mafia': 1, 'sade': 1, 'ausi': 1, 'gewürztraminer': 1, 'taramosalata': 1, 'kangaroo': 1, 'sandy': 2, 'havarti': 6, 'groomer': 4, 'complientary': 1, 'champaigne': 1, 'champainge': 1, 'oversalted': 1, 'uneventful': 2, 'foced': 1, 'unisex': 2, 'addd': 1, 'egad': 1, 'margins': 1, 'ancillary': 1, 'carmelpalooza': 1, 'mustaches': 1, 'foodcourt': 1, 'somone': 1, 'jicama': 1, 'rind': 1, 'flung': 1, 'coffin': 1, 'ignorant': 2, 'hellions': 1, 'restaruant': 1, 'discreetely': 1, 'reign': 1, 'preperation': 1, 'feces': 1, 'initialed': 1, 'somehwere': 1, 'upselling': 1, 'beehive': 1, 'presumed': 1, 'bradley': 2, 'mandy': 1, 'pnuemonia': 1, 'bladder': 3, 'duane': 3, 'orbit': 2, 'clustering': 1, 'transit': 6, 'jurisdiction': 1, 'excursions': 2, 'revolves': 1, 'hoagies': 1, 'frogger': 1, 'saba': 3, 'interminable': 1, 'greece': 1, 'piped': 1, 'posse': 1, 'cognizant': 1, 'vegetariana': 1, 'emeril': 2, 'spiedini': 2, 'redness': 1, 'kardashian': 1, 'dolce': 2, 'della': 2, 'coldness': 1, 'knicks': 1, 'linsanity': 1, 'woodfire': 1, 'gatherings': 1, 'boondoggle': 1, 'jonathan': 3, 'quizzed': 2, 'hunka': 2, 'votive': 2, 'kisras': 1, 'loooooooove': 1, 'tio': 1, 'oso': 1, 'tc': 2, 'clarification': 2, 'tcspub': 1, 'palees': 1, 'tum': 1, 'nak': 1, 'grueling': 1, 'rails': 2, 'bascially': 1, 'surplus': 1, 'jockey': 1, 'tumble': 2, 'mammal': 1, 'puked': 1, 'yack': 1, 'exercises': 1, 'rugby': 2, 'stomp': 1, 'proxy': 1, 'digression': 1, 'politically': 1, 'rugger': 1, 'vitality': 1, 'dia': 1, 'muertos': 1, 'mitt': 2, 'pattern': 2, 'regress': 1, 'chirping': 1, 'reliably': 5, 'uptight': 4, 'culinarily': 1, 'hone': 1, 'enjoyably': 1, 'loungey': 1, 'gossip': 1, 'diverted': 1, 'sabor': 2, 'cubano': 2, 'aunties': 1, 'talkin': 2, 'cortadito': 3, 'hee': 2, 'appeals': 3, 'resonated': 1, 'casually': 5, 'jhane': 1, 'zanella': 1, 'brioni': 3, 'toting': 2, 'glossy': 1, 'ichi': 5, 'ban': 2, 'deduction': 2, 'florence': 2, 'humm': 1, 'fashionably': 2, 'aaaaaalright': 1, 'geesh': 1, 'mmmmmmmms': 1, 'vigilance': 1, 'staunch': 1, 'teaming': 1, 'maintaining': 4, 'guise': 1, 'flourish': 1, 'clamshell': 1, 'emaciated': 1, 'ticking': 1, 'timebomb': 1, 'dealers': 2, 'ebay': 3, 'merchandised': 1, 'futon': 3, 'adjusting': 1, 'grayhawk': 8, 'unpacking': 1, 'giza': 1, 'sphinx': 2, 'pyramids': 1, 'zpizza': 1, 'casablanca': 1, 'laced': 3, 'altering': 1, 'liters': 1, 'mesmerized': 2, 'plaques': 1, 'sdc': 2, 'bolls': 1, 'canasta': 4, 'harmless': 1, 'chubby': 1, 'spurt': 1, 'induced': 1, 'luscious': 2, 'universe': 3, 'angus': 2, 'scarfed': 2, 'stolen': 3, 'inactivity': 1, 'poppers': 3, 'baron': 1, 'croquette': 1, 'ohh': 1, 'rezs': 1, 'alass': 1, 'capresse': 1, 'excellant': 2, 'sleeper': 2, 'starteed': 1, 'butterkäse': 1, 'dreamed': 1, 'priceless': 3, 'calendar': 1, 'medditeranean': 1, 'portlandia': 1, 'hipsterness': 1, 'profesh': 1, 'helluva': 1, 'battling': 1, 'mascara': 1, 'nimrod': 1, 'terrifically': 1, 'osso': 3, 'buco': 1, 'confit': 4, 'macho': 1, 'realy': 1, 'wordy': 1, 'redundant': 1, 'nooks': 1, 'crannys': 1, 'paranoid': 1, 'possesive': 1, 'restricts': 1, 'trespasser': 1, 'fiancee': 8, 'metrosexual': 1, 'ika': 1, 'baskin': 1, 'robbins': 1, 'lineup': 2, 'unpalatable': 1, 'anyday': 3, 'trailor': 1, 'homemakes': 1, 'swath': 1, 'sociable': 1, 'trophies': 1, 'unborn': 1, 'creams': 2, 'leonidas': 1, 'softshell': 2, 'leering': 1, 'req': 1, 'shipments': 1, 'trib': 1, 'funnier': 2, 'direclty': 1, 'grouping': 1, 'panoramic': 1, 'cpu': 1, 'bao': 1, 'nunchuks': 1, 'yragui': 1, 'possesses': 1, 'healer': 1, 'carol': 2, 'tassone': 1, 'bru': 2, 'discontinue': 1, 'strapped': 4, 'grody': 1, 'likelihood': 1, 'vaccilate': 1, 'populations': 1, 'densely': 1, 'butterfinger': 1, 'karob': 1, 'worms': 1, 'twizzlers': 1, 'spotlessly': 2, 'christi': 1, 'oui': 1, 'resigned': 1, 'hay': 5, 'louie': 3, 'withdrawl': 1, 'subaway': 1, 'probally': 1, 'flea': 3, 'races': 6, 'tugging': 1, 'heartstrings': 1, 'betting': 1, 'giddily': 1, 'relent': 1, 'garb': 1, 'muzzles': 1, 'eighteen': 3, 'creaky': 1, 'lumpy': 1, 'redirected': 1, 'meandering': 1, 'twinge': 1, 'tanginess': 1, 'cranberrry': 1, 'unprocessed': 2, 'decedent': 1, 'striking': 2, 'sil': 1, 'yeung': 1, 'tonkatsu': 2, 'barricades': 1, 'waved': 2, 'equation': 1, 'sting': 2, 'annoyances': 2, 'blurred': 1, 'lungs': 3, 'rapturous': 1, 'goaded': 1, 'gaydar': 1, 'pudgy': 1, 'rendition': 2, 'billy': 1, 'misrepresent': 1, 'parallelogram': 2, 'scoff': 2, 'qed': 1, 'biatch': 1, 'relentless': 2, 'haymakers': 1, 'lefts': 1, 'bruised': 1, 'prizefighter': 1, 'cower': 1, 'flex': 1, 'flexing': 1, 'onioins': 1, 'tatziki': 1, 'bias': 2, 'embarassing': 2, 'thingys': 1, 'moo': 3, 'alec': 1, 'haas': 1, 'tuscany': 3, 'vinegarette': 3, 'appalachians': 1, 'rumbling': 1, 'depositing': 1, 'drunks': 1, 'shindig': 1, 'rockband': 1, 'molson': 1, 'labatt': 1, 'teakwoods': 4, 'wineburger': 1, 'leasing': 1, 'hardworking': 2, 'fermentated': 1, 'drools': 1, 'rachael': 1, 'breyers': 1, 'softserve': 1, 'eatin': 2, 'watcning': 1, 'frugality': 1, 'bourke': 1, 'extravagant': 1, 'competiveness': 1, 'commotion': 1, 'compact': 1, 'tended': 2, 'fairy': 2, 'youki': 1, 'demonstrate': 3, 'cleansers': 2, 'toners': 1, 'dusting': 3, 'powders': 1, 'fluff': 4, 'snowfairy': 1, 'thirdly': 2, 'fourtherly': 1, 'basalmic': 1, 'russets': 1, 'howland': 2, 'studios': 6, 'demonstration': 1, 'ritter': 1, 'schtuff': 1, 'schmixins': 1, 'loosening': 1, 'xxxx': 1, 'ef': 1, 'thimble': 2, 'fetoush': 1, 'overpoweringly': 1, 'oniony': 1, 'accommodation': 3, 'peaches': 2, 'photoshoots': 1, 'photographers': 1, 'utilizing': 1, 'hateful': 1, 'publisher': 3, 'credibiilty': 1, 'meticulous': 2, 'backstory': 1, 'candid': 1, 'gnat': 1, 'medicore': 2, 'riverview': 2, 'gussy': 1, 'noddle': 1, 'cattle': 2, 'critic': 4, 'studded': 2, 'orgering': 1, 'typos': 1, 'appearances': 1, 'coupling': 2, 'reddwarf': 2, 'antiques': 4, 'roadshow': 1, 'newshour': 1, 'nova': 1, 'dyer': 1, 'frontline': 1, 'scientific': 1, 'frontiers': 1, 'pbs': 3, 'haves': 1, 'gingered': 1, 'ajillo': 2, 'favoreite': 1, 'maduras': 1, 'fritos': 1, 'marquesas': 1, 'arroz': 2, 'fritoras': 1, 'frijoles': 2, 'negros': 1, 'calypso': 1, 'chippy': 1, 'datiles': 1, 'meatier': 2, 'empanaditas': 1, 'mastered': 2, 'tamal': 1, 'soupier': 1, 'salvadorean': 1, 'cultures': 3, 'ped': 1, 'daeng': 1, 'reposting': 1, 'saddlebags': 1, 'tits': 1, 'complexion': 1, 'shitzadoodle': 1, 'shitload': 1, 'feline': 1, 'telegraphing': 1, 'thongs': 2, 'thong': 2, 'idly': 1, 'dwindle': 1, 'gracefully': 1, 'overzealous': 2, 'microwavization': 1, 'laurels': 1, 'upcoming': 2, 'accolades': 3, 'thia': 1, 'molino': 2, 'flamingo': 3, 'smushed': 1, 'flawed': 1, 'speculating': 1, 'pocketbook': 3, 'selective': 1, 'coppola': 1, 'kiosks': 1, 'jensy': 1, 'irma': 1, 'vep': 1, 'attaining': 1, 'backs': 5, 'silk': 2, 'rebecca': 1, 'catalogue': 2, 'kobalt': 3, 'wireless': 3, 'thouse': 1, 'showtunes': 1, 'phantom': 1, 'sinatra': 2, 'ftw': 2, 'nooooooooo': 1, 'huauchinango': 2, 'whiff': 2, 'congeal': 1, 'brussell': 1, 'snag': 4, 'aquatic': 2, 'transferred': 2, 'skateboards': 1, 'historically': 1, 'amtrack': 1, 'vender': 1, 'soutwest': 1, 'fiend': 1, 'biweekly': 1, 'relocating': 2, 'jonesing': 1, 'unbiased': 1, 'seens': 1, 'dungeoness': 1, 'roadhouses': 1, 'huli': 1, 'puddings': 1, 'heartily': 1, 'taxes': 5, 'leaking': 2, 'overindulge': 1, 'shortcomings': 3, 'experiens': 1, 'sakes': 1, 'crusties': 1, 'chopstick': 1, 'bilbo': 1, 'confronted': 1, 'snorting': 1, 'bambi': 1, 'smoca': 1, 'cheek': 4, 'interpretation': 3, 'mod': 1, 'aquarium': 1, 'kristin': 2, 'colada': 2, 'scence': 1, 'drunky': 1, 'goddamit': 2, 'homely': 1, 'barbies': 1, 'friedns': 1, 'seaseme': 1, 'peruvian': 1, 'unphoghetable': 1, 'satellite': 2, 'communications': 1, 'towers': 1, 'nespresso': 1, 'homestyle': 1, 'exhausted': 5, 'emulating': 1, 'softness': 1, 'flowy': 1, 'hoop': 2, 'manipulating': 1, 'mesmerizing': 1, 'gloria': 1, 'wavelle': 1, 'cigars': 7, 'jedis': 2, 'helmet': 1, 'stutter': 1, 'ragey': 1, 'worldwide': 1, 'spends': 2, 'irks': 1, 'slash': 1, 'deseo': 1, 'hilariously': 2, 'superman': 1, 'offending': 3, 'microbes': 1, 'sprint': 2, 'cooties': 1, 'renegade': 3, 'spudskins': 1, 'cardboardy': 1, 'looky': 1, 'baco': 1, 'pleading': 2, 'relents': 1, 'lowered': 2, 'nowonder': 1, 'firepit': 2, 'files': 1, 'turnaround': 1, 'addresses': 1, 'chimay': 1, 'falaffel': 2, 'relating': 4, 'hight': 1, 'romanelli': 2, 'capicolla': 2, 'mortadella': 1, 'newark': 1, 'whined': 1, 'wussy': 1, 'faggot': 1, 'blake': 1, 'kennan': 1, 'clair': 1, 'prick': 2, 'adrianne': 1, 'sommersault': 1, 'hitler': 1, 'bunker': 1, 'otb': 1, 'collar': 4, 'mused': 1, 'occupy': 1, 'yams': 2, 'bakersfield': 1, 'texted': 4, 'carlo': 1, 'rossi': 2, 'downcast': 1, 'varietals': 2, 'ta': 1, 'cherubs': 1, 'descending': 1, 'earthward': 1, 'trumpets': 1, 'nra': 1, 'sparsely': 1, 'illuminates': 1, 'resturants': 3, 'soi': 4, 'britain': 2, 'declare': 2, 'morass': 1, 'permeates': 2, 'papadums': 1, 'chutneys': 1, 'parantha': 2, 'mishmash': 2, 'disheartenment': 1, 'feasted': 1, 'induce': 1, 'childs': 3, 'auditioning': 2, 'workshops': 1, 'auditions': 1, 'hogging': 1, 'consisited': 1, 'souths': 1, 'sould': 1, 'nashville': 1, 'collards': 1, 'arean': 1, 'easter': 5, 'insulin': 1, 'losers': 2, 'sundown': 1, 'scrounge': 1, 'listlessly': 1, 'irritates': 1, 'madame': 2, 'bechamel': 1, 'speeding': 2, 'ridership': 1, 'proprietors': 2, 'corebalance': 1, 'encouraging': 3, 'realrider': 1, 'realryder': 1, 'obliques': 1, 'hoboken': 1, 'enveloped': 1, 'pitted': 1, 'charger': 1, 'litmus': 1, 'deported': 1, 'pats': 2, 'icon': 5, 'carefull': 1, 'handicapted': 1, 'ballyhooed': 1, 'cough': 7, 'attitudinous': 1, 'nectarines': 1, 'protective': 1, 'pant': 1, 'amateurish': 1, 'expeditor': 1, 'purée': 1, 'nationwide': 2, 'ling': 3, 'franchising': 1, 'dat': 1, 'taunts': 1, 'antiquing': 1, 'gluttonous': 3, 'preet': 1, 'slimmed': 1, 'bulked': 1, 'factoring': 1, 'orgasmic': 1, 'unfounded': 1, 'sysco': 1, 'bearers': 1, 'competing': 2, 'nachitos': 1, 'bevs': 1, 'horrendously': 1, 'xlarge': 1, 'surviving': 2, 'saver': 2, 'neatly': 1, 'aligned': 1, 'amiss': 1, 'wires': 1, 'cables': 2, 'scratches': 2, 'overpopulated': 1, 'hookah': 4, 'jockstrap': 1, 'jingle': 1, 'jangle': 1, 'evolutionary': 1, 'inserts': 1, 'invitation': 2, 'succumb': 1, 'notify': 1, 'puma': 1, 'addidas': 1, 'satori': 1, 'kaigen': 1, 'enlightenment': 1, 'awakening': 1, 'incapable': 1, 'sided': 3, 'jotted': 1, 'prominent': 1, 'peeped': 1, 'honda': 3, 'rifled': 1, 'fenced': 2, 'cage': 1, 'oceanic': 1, 'invading': 1, 'forest': 2, 'scarfing': 2, 'rises': 2, 'masterful': 1, 'crescendo': 1, 'coda': 1, 'chiming': 1, 'hiatus': 2, 'transitioning': 2, 'patatas': 2, 'bravas': 2, 'revoir': 1, 'remodelled': 1, 'willys': 1, 'shortcutter': 1, 'erick': 1, 'floyd': 1, 'telescope': 1, 'sharpened': 1, 'sakitini': 1, 'smelt': 1, 'spankin': 1, 'spans': 1, 'ourself': 1, 'hannys': 1, 'misinformation': 3, 'specialist': 1, 'retards': 2, 'download': 2, 'garmin': 2, 'nuvi': 2, 'compatible': 1, 'minisd': 2, 'footwear': 2, 'scrunched': 1, 'randy': 6, 'shampooed': 2, 'clipped': 2, 'arthritic': 1, 'bounced': 2, 'larg': 1, 'bowtie': 1, 'adriatica': 1, 'jj': 3, 'sm': 1, 'superbly': 1, 'slob': 2, 'accomplishment': 3, 'validation': 6, 'detect': 1, 'shoebox': 2, 'slade': 1, 'buttering': 1, 'deliveries': 1, 'nutshell': 5, 'hoooorray': 1, 'climbers': 1, 'cyclists': 2, 'sause': 1, 'nephews': 2, 'tricycles': 1, 'mailers': 1, 'roasts': 1, 'wholesale': 1, 'presidential': 3, 'especiale': 1, 'taiwanese': 3, 'broiled': 3, 'magees': 1, 'bobbyq': 1, 'fella': 1, 'mcgaees': 1, 'standout': 5, 'dunlap': 1, 'broader': 1, 'clubbers': 2, 'clubbing': 2, 'appetites': 3, 'lotions': 1, 'whet': 2, 'autopay': 1, 'committment': 1, 'artery': 2, 'cloggin': 1, 'hauling': 1, 'glazes': 1, 'shamrock': 1, 'mountaintop': 1, 'icebergs': 1, 'glaciers': 1, 'caveman': 1, 'lawyers': 1, 'sensible': 2, 'hodgepodge': 2, 'undesirable': 1, 'ridealong': 1, 'fritatta': 1, 'pinball': 3, 'affects': 1, 'giggle': 6, 'caucasians': 1, 'americanos': 1, 'canidae': 4, 'inferior': 3, 'innova': 6, 'chumps': 2, 'controversy': 2, 'morally': 1, 'nibbles': 7, 'swollen': 3, 'interrogated': 1, 'solicits': 1, 'rally': 4, 'skimping': 1, 'lemony': 4, 'unlisted': 1, 'yumness': 1, 'fundito': 3, 'begun': 1, 'emberassed': 1, 'natzi': 1, 'abou': 1, 'speraticly': 1, 'beligerent': 1, 'uncomfotable': 1, 'continuosly': 1, 'gripeing': 1, 'bolted': 1, 'mgmt': 1, 'omlet': 1, 'silberschlag': 1, 'tailors': 2, 'aeropress': 1, 'chemex': 1, 'marz': 1, 'transfers': 1, 'handiwork': 1, 'outreach': 1, 'pierrend': 1, 'investigating': 1, 'pmg': 1, 'renovating': 1, 'predator': 1, 'hansen': 2, 'kubrick': 1, 'lolita': 1, 'pervert': 1, 'waterworks': 1, 'floater': 1, 'blowout': 1, 'trump': 1, 'undergrads': 2, 'imprerial': 1, 'tastyness': 1, 'redbox': 3, 'timei': 1, 'pani': 1, 'poori': 1, 'lassi': 2, 'makani': 1, 'separators': 1, 'yowza': 1, 'cerignola': 1, 'roading': 1, 'bahama': 5, 'vacationing': 2, 'hawai': 1, 'peeing': 1, 'wile': 1, 'urinals': 1, 'sprites': 2, 'devouring': 2, 'nib': 1, 'subscriber': 1, 'codes': 1, 'knockout': 1, 'coronas': 1, 'yew': 2, 'iew': 1, 'deffinitely': 1, 'wor': 1, 'dinky': 1, 'shashimi': 2, 'coloring': 3, 'oggie': 2, 'pews': 2, 'deocrations': 1, 'bougainvillea': 1, 'woody': 2, 'rancho': 1, 'chille': 1, 'clare': 1, 'lipton': 1, 'bronx': 1, 'misuse': 1, 'slang': 2, 'retarded': 2, 'crowding': 1, 'redbull': 1, 'weirdos': 1, 'costa': 2, 'greeeeeeat': 1, 'shimogamo': 1, 'yoshi': 1, 'dampness': 1, 'pleasingly': 1, 'luana': 1, 'squared': 1, 'mvp': 1, 'grows': 3, 'sportscenter': 1, 'portable': 1, 'tasters': 1, 'sniveling': 1, 'sashayed': 1, 'motioned': 1, 'venturing': 4, 'coconuts': 1, 'allah': 1, 'fingerless': 1, 'braves': 2, 'zapped': 1, 'defeating': 1, 'sadder': 1, 'postal': 1, 'grunge': 2, 'diggin': 3, 'estabilshment': 1, 'halen': 1, 'vh': 1, 'polishes': 1, 'jumbled': 2, 'pupu': 2, 'siamese': 1, 'kisses': 1, 'stirfry': 1, 'amazingness': 2, 'pillowy': 1, 'topings': 1, 'sware': 1, 'limbo': 1, 'handyman': 2, 'disposal': 1, 'enrolled': 3, 'dramatic': 1, 'esteem': 3, 'preventive': 1, 'wellness': 2, 'hopital': 1, 'wayyyy': 2, 'edged': 1, 'sword': 1, 'crosses': 1, 'blamed': 2, 'bathed': 3, 'personified': 1, 'hippness': 1, 'mudd': 1, 'pod': 1, 'midi': 1, 'phonetic': 1, 'spellings': 1, 'lord': 6, 'uopx': 1, 'spencer': 5, 'neutered': 2, 'incision': 1, 'sutures': 1, 'rescued': 2, 'abusive': 1, 'calmly': 1, 'urinates': 1, 'abused': 2, 'sedation': 2, 'sedate': 1, 'sedated': 1, 'bleed': 2, 'ecstatic': 2, 'poliberto': 1, 'unabashedly': 1, 'drumsticks': 1, 'dart': 1, 'walled': 1, 'bladders': 1, 'splatter': 1, 'gyozo': 1, 'slogan': 1, 'barra': 1, 'segmented': 1, 'fishballs': 1, 'typo': 1, 'juror': 1, 'considers': 1, 'decadently': 2, 'conscientious': 1, 'cursing': 1, 'glasgow': 1, 'celtic': 1, 'experimenting': 1, 'microsoft': 1, 'conflating': 1, 'mumbai': 1, 'musicals': 1, 'audiences': 2, 'thrills': 1, 'intermission': 2, 'toooo': 2, 'franks': 1, 'fascinations': 3, 'garments': 2, 'salespeople': 1, 'enigma': 1, 'enigmatic': 1, 'bosnia': 1, 'killin': 1, 'boozers': 1, 'fullest': 1, 'whale': 2, 'bullshitting': 1, 'eugene': 3, 'metallic': 1, 'mirrior': 1, 'blart': 1, 'corey': 1, 'haim': 1, 'hooker': 1, 'fudgepackers': 1, 'irregardless': 1, 'bbs': 1, 'britney': 1, 'brit': 1, 'rafts': 2, 'eactually': 1, 'bellboy': 1, 'graders': 1, 'considerate': 2, 'asana': 1, 'subjects': 1, 'keyboardist': 1, 'reed': 1, 'descern': 1, 'greg': 4, 'muffler': 3, 'mish': 1, 'generious': 1, 'yeh': 1, 'limiting': 1, 'cosco': 1, 'felipe': 4, 'unflavored': 1, 'cavalleria': 1, 'rusticana': 1, 'pagliacci': 1, 'munchies': 7, 'libation': 1, 'loo': 1, 'yogis': 3, 'uninterested': 2, 'magnolia': 1, 'waayy': 1, 'mocchiato': 1, 'buttercream': 1, 'cellarmaster': 1, 'abslutely': 1, 'unvalidated': 1, 'biancoverdes': 1, 'kumquat': 1, 'scented': 1, 'apothecary': 1, 'inthe': 1, 'tini': 2, 'teriyakki': 1, 'stove': 2, 'nyt': 2, 'cholula': 3, 'skateboard': 1, 'beams': 5, 'brightness': 1, 'lactaid': 1, 'keats': 1, 'amiable': 1, 'swiping': 1, 'mayonaisse': 1, 'breakfest': 1, 'harlows': 1, 'median': 1, 'rotassarie': 1, 'cinnamony': 1, 'sauted': 1, 'periodically': 1, 'eyed': 4, 'skidaddled': 1, 'blondie': 1, 'greased': 1, 'biagio': 2, 'undersized': 1, 'giordano': 1, 'gino': 1, 'lou': 1, 'malnati': 1, 'bizzare': 1, 'elses': 1, 'collecting': 1, 'moray': 1, 'turntable': 1, 'thit': 2, 'nuong': 1, 'downy': 1, 'hippos': 2, 'carcass': 1, 'drown': 2, 'peptides': 1, 'somedays': 2, 'liars': 3, 'lairs': 1, 'boredom': 1, 'regresses': 1, 'hurrah': 2, 'brookstone': 1, 'sharper': 1, 'pads': 2, 'devices': 1, 'humerous': 1, 'caesars': 2, 'fortuitous': 1, 'badman': 2, 'advent': 1, 'epicurean': 1, 'chantelle': 1, 'differentiated': 1, 'unnotice': 1, 'identified': 1, 'nothin': 1, 'lure': 2, 'entries': 4, 'voicemail': 1, 'unfairly': 1, 'playfully': 1, 'ploy': 1, 'remark': 2, 'defined': 2, 'rica': 1, 'operational': 1, 'connections': 2, 'screened': 1, 'carriers': 3, 'routing': 1, 'corresponding': 2, 'kmnc': 1, 'hyundai': 2, 'elentra': 1, 'persistent': 1, 'arise': 1, 'allotted': 1, 'invergorden': 1, 'treacherous': 2, 'gradual': 1, 'definetely': 1, 'exhaustion': 1, 'nondistracting': 1, 'largeish': 1, 'grads': 1, 'aggressively': 1, 'surrender': 1, 'trampling': 1, 'resistence': 1, 'obstruction': 1, 'parasites': 2, 'hilary': 1, 'upfront': 5, 'cancellation': 1, 'nately': 3, 'squirming': 1, 'newland': 2, 'admonishment': 1, 'eagerness': 1, 'abdomen': 1, 'plainly': 1, 'dispensed': 1, 'heartworm': 1, 'prevention': 1, 'vaccines': 1, 'frighten': 1, 'diagnostics': 1, 'diseases': 1, 'gerry': 1, 'angie': 1, 'puzzling': 1, 'bequeathed': 1, 'que': 1, 'raspberries': 3, 'devoted': 3, 'portal': 1, 'deinitely': 1, 'glorias': 1, 'critter': 1, 'cowpoke': 1, 'hero': 7, 'pizzerias': 1, 'bobbie': 3, 'capastrami': 1, 'distinctness': 1, 'pessimism': 1, 'fascade': 1, 'califlower': 1, 'intuitive': 2, 'stormy': 2, 'valencia': 1, 'asleep': 3, 'profanity': 1, 'villa': 3, 'bidet': 2, 'atypical': 1, 'tooooooo': 1, 'kurdy': 1, 'figurines': 2, 'tournaments': 3, 'cornmeal': 3, 'stephanie': 2, 'asasda': 2, 'diming': 1, 'swimsuits': 1, 'haley': 1, 'texts': 2, 'airplane': 2, 'terriic': 1, 'platinum': 2, 'projection': 1, 'destruction': 1, 'richman': 2, 'euphoric': 2, 'souvenier': 2, 'metered': 2, 'jfg': 1, 'tsk': 2, 'wo': 2, 'johnston': 2, 'yields': 1, 'suuuuuuuper': 1, 'sequel': 1, 'hierarchy': 1, 'erratic': 1, 'hustlin': 1, 'fredo': 1, 'assoc': 1, 'amazon': 3, 'reinvent': 2, 'teharu': 2, 'sunumono': 1, 'niche': 2, 'buget': 1, 'regus': 1, 'seatings': 1, 'dhosa': 1, 'idli': 1, 'waaayyy': 1, 'dhosas': 1, 'jalepenos': 2, 'seized': 1, 'jail': 2, 'swivel': 1, 'puncturing': 1, 'officers': 1, 'inadequate': 2, 'informing': 1, 'assurance': 1, 'aladdin': 1, 'kronos': 1, 'ariel': 5, 'prada': 2, 'uppers': 1, 'lemonaid': 1, 'emily': 2, 'kyosk': 1, 'yummo': 1, 'viniagrette': 1, 'wowwy': 1, 'mowwy': 1, 'mideocre': 1, 'bloodies': 1, 'yuukk': 1, 'cynic': 1, 'weaving': 2, 'compose': 1, 'formations': 3, 'lizards': 3, 'jackrabbit': 1, 'species': 2, 'nests': 1, 'introduction': 4, 'botany': 2, 'stevia': 3, 'staycations': 1, 'cookouts': 1, 'cupholders': 1, 'shifter': 1, 'yume': 1, 'bim': 1, 'bab': 1, 'tshirts': 1, 'kazilicious': 1, 'planked': 2, 'candlelit': 1, 'passageway': 1, 'softened': 2, 'yesssss': 1, 'fertility': 1, 'ambrosia': 2, 'chapoutier': 1, 'sizeranne': 1, 'heady': 2, 'currants': 1, 'coy': 2, 'toying': 2, 'sexiest': 1, 'recap': 1, 'seductive': 2, 'swank': 3, 'wazoooo': 1, 'prelude': 1, 'vegie': 2, 'goyza': 1, 'complanned': 1, 'ow': 1, 'allright': 1, 'fb': 4, 'voyage': 2, 'unplayable': 1, 'recon': 1, 'brake': 1, 'pedal': 2, 'mechwarrior': 1, 'jerking': 1, 'hydraulics': 1, 'tekken': 1, 'galaga': 1, 'lacklustre': 1, 'horizontal': 1, 'scroller': 1, 'affront': 1, 'barman': 1, 'politics': 2, 'bind': 1, 'flannel': 2, 'secreto': 1, 'unrushed': 1, 'ahold': 1, 'sweetish': 1, 'extraordinarily': 1, 'estrella': 3, 'loren': 2, 'himalayan': 1, 'phoenicia': 1, 'selvedge': 1, 'wrath': 1, 'arcane': 1, 'sickest': 1, 'cigs': 1, 'zipper': 1, 'pennsylvania': 1, 'doneness': 1, 'warp': 1, 'chirashi': 1, 'yuyuyummy': 1, 'boycotting': 1, 'behaved': 2, 'voyeuristic': 1, 'overlooks': 2, 'dancefloor': 2, 'staged': 1, 'pretends': 1, 'diary': 2, 'prude': 1, 'douchebagery': 1, 'fembots': 1, 'singray': 1, 'oshibori': 1, 'zoom': 1, 'ferrits': 1, 'overflows': 1, 'buggers': 2, 'radical': 1, 'flavoured': 1, 'recyclable': 1, 'greektown': 1, 'disrespect': 2, 'begging': 4, 'stationed': 2, 'elsie': 2, 'stouts': 1, 'hefeweizens': 1, 'fridges': 2, 'inc': 1, 'loudness': 1, 'acoustician': 1, 'standpoint': 1, 'outweighs': 1, 'motivational': 1, 'unaffordable': 1, 'tay': 1, 'feller': 1, 'irishman': 1, 'cozier': 1, 'wbc': 1, 'satisfyingly': 1, 'dachs': 2, 'belmont': 1, 'elm': 2, 'oakville': 2, 'moscow': 2, 'pimp': 3, 'pimms': 1, 'vigazz': 1, 'vings': 2, 'poem': 1, 'frightful': 1, 'squeal': 2, 'merchandising': 2, 'textiles': 1, 'recital': 1, 'itty': 2, 'bitty': 3, 'argumentative': 1, 'hovered': 1, 'daahhling': 1, 'potion': 1, 'hoods': 2, 'repurposed': 1, 'shishito': 2, 'rackin': 1, 'uchi': 1, 'priviledge': 1, 'kwss': 2, 'listeners': 1, 'caller': 1, 'alternatively': 1, 'overcrowding': 1, 'appease': 1, 'electronica': 1, 'oooookay': 1, 'males': 1, 'rooftops': 1, 'redeem': 3, 'predictably': 1, 'formulaic': 1, 'impostors': 1, 'condensation': 1, 'miniscule': 1, 'eeew': 1, 'ippei': 1, 'happhazardly': 1, 'insists': 1, 'conceived': 1, 'excellently': 1, 'pac': 1, 'vuitton': 2, 'bentleys': 1, 'lambos': 1, 'ferraris': 1, 'aston': 1, 'martins': 1, 'impeccably': 2, 'wyder': 2, 'innards': 1, 'leaked': 1, 'poisson': 1, 'rouge': 1, 'snide': 1, 'yeo': 1, 'koch': 1, 'republican': 2, 'mccain': 1, 'boomers': 2, 'purge': 1, 'homeland': 1, 'consumes': 1, 'aegean': 1, 'understaffing': 1, 'inattentiveness': 1, 'slushy': 2, 'kimmy': 1, 'gils': 2, 'carnita': 1, 'spec': 1, 'chilie': 2, 'apetito': 1, 'stalking': 1, 'bathwater': 1, 'gator': 2, 'schedules': 1, 'surveyed': 1, 'pleather': 2, 'ann': 4, 'stickiness': 1, 'hotties': 1, 'pivotal': 1, 'disperses': 1, 'sneeze': 1, 'bong': 1, 'deeees': 1, 'unwaveringly': 1, 'constraints': 2, 'tureen': 2, 'geniuses': 1, 'whipping': 1, 'insight': 3, 'danish': 2, 'ganouj': 2, 'tootin': 1, 'griddled': 3, 'wars': 3, 'impressing': 1, 'preservation': 1, 'aspirin': 1, 'dulche': 1, 'expressions': 2, 'dissertation': 1, 'bottomline': 1, 'terroir': 1, 'grainbelt': 1, 'yumtastic': 1, 'tweaker': 1, 'lease': 1, 'gusta': 1, 'thouhgt': 1, 'shimp': 1, 'galze': 1, 'compaining': 1, 'arpaio': 3, 'enlargements': 1, 'causes': 1, 'enlargement': 1, 'notables': 1, 'probly': 1, 'amare': 1, 'stretches': 2, 'faxes': 1, 'responding': 2, 'efax': 1, 'discusting': 1, 'margarittas': 1, 'willingfully': 1, 'margaritta': 1, 'tequilla': 1, 'wh': 1, 'bumpin': 1, 'sliggity': 1, 'sloppt': 1, 'slave': 1, 'wingless': 1, 'mallory': 1, 'convos': 1, 'lienau': 2, 'hygienists': 2, 'wysiwyg': 1, 'columbus': 3, 'beanie': 1, 'chiefly': 1, 'souvenir': 2, 'respite': 1, 'yogurts': 1, 'pebble': 1, 'referencing': 1, 'nitpick': 1, 'prevail': 1, 'sumptuous': 2, 'rickety': 1, 'expedited': 1, 'cmon': 1, 'superhighway': 1, 'mechanics': 1, 'flack': 1, 'roach': 1, 'infested': 3, 'tolteca': 1, 'flatter': 1, 'masochistic': 1, 'closeby': 1, 'wallett': 1, 'unoriginal': 3, 'strait': 1, 'cinemas': 1, 'litterally': 1, 'frugle': 1, 'relive': 1, 'braized': 1, 'heaviest': 1, 'éclairs': 1, 'napoleons': 1, 'pescatarian': 1, 'kisra': 3, 'obscenely': 1, 'braciole': 1, 'kelsey': 1, 'efficiently': 3, 'bookman': 2, 'notion': 1, 'dixon': 1, 'cubbies': 1, 'ajs': 1, 'scratched': 2, 'saurkraut': 1, 'pipping': 2, 'eggrolss': 1, 'inquiring': 1, 'polestar': 1, 'vantage': 1, 'delicouisness': 1, 'jog': 1, 'mahon': 1, 'apricots': 1, 'reflects': 2, 'extract': 1, 'waver': 1, 'swell': 2, 'contradictory': 1, 'creamsicle': 1, 'mouthfeel': 1, 'novice': 3, 'nodding': 2, 'amicably': 1, 'shorties': 1, 'gigando': 1, 'assy': 1, 'mofo': 1, 'peeking': 2, 'revive': 1, 'packets': 2, 'stud': 1, 'peasy': 1, 'hellllllllo': 1, 'golfers': 1, 'pga': 1, 'lateral': 1, 'errant': 2, 'pell': 1, 'mell': 1, 'mach': 1, 'damned': 8, 'strategy': 2, 'omnivores': 2, 'preconceived': 1, 'notions': 1, 'legumes': 2, 'bedding': 1, 'err': 1, 'blandsville': 1, 'subutopian': 1, 'drifty': 4, 'kettles': 1, 'nondrifty': 1, 'meatie': 1, 'backtracking': 1, 'oat': 1, 'nuke': 1, 'propelled': 1, 'shorty': 2, 'steakburger': 1, 'rocketburger': 1, 'startled': 1, 'debt': 1, 'stirrup': 1, 'priveledge': 1, 'reinvest': 1, 'photomart': 2, 'photomark': 1, 'instagramaz': 1, 'honeys': 1, 'esplinade': 1, 'margartias': 1, 'nana': 2, 'honouring': 1, 'artifacts': 2, 'rc': 1, 'canneloni': 1, 'clutter': 1, 'bashas': 1, 'pappa': 1, 'tails': 1, 'hagen': 1, 'daas': 1, 'handi': 1, 'guild': 1, 'lilly': 1, 'trailhead': 1, 'telegraph': 3, 'parkway': 1, 'steepness': 1, 'ascent': 1, 'inclines': 1, 'riped': 1, 'dimension': 1, 'lao': 2, 'sustitution': 1, 'elemental': 1, 'feminine': 3, 'blasphemous': 1, 'reminescent': 1, 'esan': 1, 'ettiquette': 1, 'kashmere': 1, 'stedson': 1, 'baggie': 1, 'foster': 3, 'gonzales': 1, 'sneezed': 1, 'niblets': 1, 'preferably': 1, 'jacob': 1, 'breeds': 1, 'separated': 2, 'beasties': 1, 'poo': 2, 'prisses': 1, 'grovers': 1, 'basin': 1, 'beasts': 1, 'yawners': 1, 'spotting': 2, 'fetzer': 1, 'ceasar': 3, 'condemn': 1, 'descriptor': 1, 'juarez': 1, 'comedor': 1, 'guadalajara': 1, 'chicos': 1, 'caloric': 2, 'creole': 2, 'spartan': 2, 'mower': 1, 'ranger': 2, 'underaged': 1, 'nevertheless': 2, 'alwasy': 1, 'scummy': 1, 'ammaccapane': 1, 'hs': 2, 'dina': 1, 'ths': 1, 'loathes': 1, 'characterization': 1, 'oneself': 1, 'critiques': 1, 'commuters': 2, 'reno': 2, 'deplane': 2, 'triangle': 1, 'desperatly': 1, 'petrol': 1, 'siren': 2, 'necked': 1, 'demon': 1, 'luring': 1, 'dino': 1, 'pondering': 2, 'grimaced': 1, 'sketched': 1, 'ignition': 1, 'clicking': 1, 'ssshhhiiiiiiitttt': 1, 'panicking': 1, 'sinclair': 2, 'shirked': 1, 'swung': 1, 'yous': 1, 'ecclectic': 2, 'hubster': 2, 'subbed': 2, 'soppressata': 1, 'econ': 1, 'branded': 2, 'ansel': 2, 'layed': 1, 'fixable': 1, 'frenetic': 1, 'nuked': 1, 'dispite': 1, 'libra': 1, 'decisive': 1, 'stumps': 1, 'verduras': 1, 'temporada': 1, 'verdes': 1, 'cheerfully': 4, 'uncleared': 1, 'propose': 1, 'descends': 1, 'gradually': 1, 'ascends': 1, 'offshoot': 1, 'pretentions': 1, 'mocvement': 1, 'misfit': 1, 'grandkids': 1, 'tarantino': 2, 'pulse': 3, 'intoxication': 1, 'jab': 1, 'wailing': 1, 'mcfly': 1, 'hermit': 1, 'maizies': 1, 'chibata': 1, 'chainy': 1, 'caldo': 1, 'mares': 1, 'enchilidas': 1, 'backard': 1, 'planting': 2, 'cheesiest': 1, 'raining': 2, 'twig': 1, 'bonfire': 1, 'hideway': 1, 'rugs': 1, 'shorthand': 1, 'shannon': 8, 'syndrome': 1, 'latex': 1, 'parrafin': 1, 'boutiques': 1, 'restaraunts': 1, 'senario': 1, 'parmesean': 2, 'apetizer': 1, 'steamrolling': 1, 'integration': 1, 'lessees': 1, 'clause': 1, 'approed': 1, 'bandito': 1, 'decited': 1, 'snikerdoodle': 1, 'causeway': 1, 'drastic': 1, 'discriminating': 1, 'hardshell': 2, 'aunty': 2, 'asthetic': 1, 'miscellaneous': 3, 'accomplice': 1, 'correlate': 1, 'teaches': 3, 'junior': 5, 'compressed': 2, 'equivocal': 1, 'grenadiene': 1, 'shocks': 1, 'ishikari': 1, 'sealing': 1, 'derive': 1, 'inherently': 1, 'wiser': 1, 'instinct': 1, 'champon': 1, 'genghis': 5, 'dawg': 1, 'quota': 1, 'smidge': 2, 'president': 1, 'lawd': 1, 'nevercomer': 1, 'tombout': 1, 'guiding': 1, 'relocated': 4, 'lafitte': 1, 'brut': 1, 'sparking': 1, 'bourguignon': 1, 'yanni': 1, 'margie': 2, 'eba': 1, 'pallets': 1, 'humbe': 1, 'acrylic': 1, 'harris': 3, 'archive': 1, 'funds': 1, 'flours': 1, 'solar': 1, 'goldfield': 1, 'saloons': 1, 'blacksmith': 1, 'faulted': 1, 'ore': 2, 'sopes': 1, 'conquered': 1, 'iddy': 1, 'weeny': 1, 'prunes': 1, 'obtainable': 1, 'barbacks': 2, 'hooligans': 1, 'ruffians': 1, 'fixated': 1, 'railable': 1, 'spills': 1, 'innate': 1, 'intelligence': 1, 'baseballs': 2, 'lending': 1, 'shudder': 3, 'organ': 2, 'caliente': 2, 'pitbull': 1, 'bemoaned': 1, 'fleshed': 1, 'kirins': 1, 'edemame': 1, 'regroove': 1, 'hiccups': 2, 'sauv': 1, 'chiller': 2, 'orderd': 1, 'witht': 1, 'creamier': 1, 'pepitas': 3, 'mintues': 2, 'leet': 1, 'rf': 1, 'reheat': 2, 'mutliple': 1, 'europa': 1, 'businessmen': 1, 'sidekick': 1, 'vesper': 1, 'bordeaux': 1, 'pome': 1, 'rm': 1, 'kimberly': 2, 'insightful': 1, 'cleveland': 1, 'hopkins': 1, 'marshall': 1, 'sante': 1, 'molete': 1, 'cheezecake': 1, 'crapory': 1, 'victim': 2, 'incubus': 1, 'avalon': 1, 'eduardo': 2, 'haboob': 2, 'rainforest': 1, 'hightop': 1, 'microbrewer': 1, 'atmostphere': 1, 'arepas': 2, 'venezuelan': 1, 'withteriyaki': 1, 'mirin': 1, 'servin': 1, 'dobo': 1, 'grumbly': 1, 'doro': 1, 'stitches': 2, 'orthopedic': 1, 'remote': 3, 'snores': 1, 'wheeled': 1, 'anesthesiologist': 1, 'nelson': 2, 'aids': 1, 'satin': 1, 'raiser': 1, 'flora': 2, 'undiscovered': 1, 'busser': 1, 'lumps': 1, 'cascade': 1, 'converts': 1, 'shirataki': 1, 'uprooted': 1, 'banned': 1, 'clumsiness': 1, 'loudspeakers': 1, 'pennys': 1, 'crippled': 1, 'staggering': 1, 'helstrom': 2, 'chronicle': 2, 'adolescence': 1, 'cannibal': 1, 'holocaust': 1, 'zombies': 1, 'unbridled': 1, 'tumbler': 1, 'sculling': 1, 'eagle': 1, 'aeropostale': 1, 'gardeners': 1, 'selects': 1, 'toluca': 1, 'brizza': 1, 'ghosty': 2, 'moco': 2, 'auther': 1, 'homilies': 1, 'anne': 1, 'positivity': 2, 'phew': 1, 'catches': 1, 'momentary': 1, 'bearings': 1, 'tfm': 1, 'heartsick': 1, 'zealous': 1, 'budding': 1, 'jake': 2, 'wheats': 1, 'ebt': 1, 'wonderland': 1, 'childless': 1, 'additions': 2, 'tempered': 1, 'greeks': 1, 'abruptly': 1, 'ithink': 1, 'fishnet': 1, 'specify': 2, 'chyna': 1, 'hots': 1, 'hotwings': 1, 'ivan': 1, 'trippin': 1, 'tue': 1, 'garfield': 1, 'soldiers': 1, 'uso': 1, 'deployed': 1, 'poncho': 1, 'hayashi': 1, 'borracho': 1, 'inoffensive': 1, 'enthused': 1, 'notwithstanding': 1, 'thou': 4, 'shalt': 3, 'redefine': 2, 'gridlock': 1, 'guarantees': 1, 'barflies': 1, 'strain': 1, 'pills': 2, 'unnatural': 1, 'ooze': 1, 'woefully': 1, 'underrepresented': 1, 'macnasty': 1, 'blink': 3, 'unrealistic': 2, 'enforcement': 1, 'squad': 2, 'hereby': 2, 'undeserving': 2, 'icehouse': 1, 'embrace': 1, 'goldfish': 2, 'norman': 1, 'duplication': 1, 'celina': 2, 'painstaking': 1, 'razpado': 1, 'pew': 1, 'munching': 2, 'kashman': 2, 'crotchety': 1, 'lashing': 1, 'definitley': 1, 'didi': 1, 'vn': 1, 'redseven': 2, 'ab': 5, 'butka': 1, 'payoff': 1, 'participated': 1, 'wagged': 1, 'poked': 1, 'phoneix': 1, 'autentica': 1, 'gob': 1, 'irvine': 1, 'deducted': 1, 'foyer': 2, 'prospect': 1, 'withstand': 3, 'unfavorable': 2, 'distrust': 1, 'fads': 1, 'busily': 1, 'tropics': 1, 'mystical': 1, 'facilitate': 1, 'flanked': 3, 'touche': 1, 'bussed': 1, 'pals': 3, 'spanglish': 1, 'meaningful': 4, 'juiced': 1, 'valentino': 1, 'protecting': 2, 'reunite': 1, 'maira': 1, 'aestheticians': 1, 'retinol': 1, 'eyelids': 1, 'aesthetician': 2, 'overtime': 2, 'centerpiece': 1, 'gauzy': 1, 'bangles': 1, 'whimsical': 1, 'charts': 1, 'schwetty': 1, 'luau': 1, 'gooood': 1, 'rages': 1, 'tepanaki': 1, 'redecorating': 2, 'droping': 1, 'iz': 1, 'mir': 1, 'kvetch': 1, 'delis': 3, 'predominantly': 2, 'jew': 1, 'knish': 4, 'schlepped': 1, 'schlocky': 1, 'snapple': 1, 'nathan': 3, 'tampte': 1, 'breakdown': 2, 'matzoh': 3, 'chazerei': 1, 'knishes': 1, 'flimsy': 3, 'meshugas': 1, 'schlep': 1, 'schvitzing': 1, 'dreck': 1, 'gritted': 1, 'meow': 1, 'kitties': 1, 'offend': 1, 'azrescue': 1, 'sponsored': 1, 'yoghund': 1, 'socially': 2, 'felines': 1, 'wag': 1, 'vapid': 1, 'meatl': 1, 'clog': 1, 'barq': 2, 'endorse': 1, 'sundrops': 1, 'andy': 1, 'gimlets': 1, 'gibsons': 1, 'posto': 1, 'florentina': 1, 'romantico': 1, 'vistal': 1, 'guido': 1, 'fettucini': 1, 'fluffiness': 1, 'pedro': 1, 'humberto': 3, 'northgate': 1, 'rediscovered': 1, 'restorative': 1, 'colonial': 3, 'drumettes': 2, 'communal': 1, 'sushis': 2, 'tske': 1, 'daring': 2, 'recycle': 2, 'receptacles': 1, 'fkn': 1, 'crapola': 1, 'kindred': 2, 'sprits': 1, 'wrongs': 1, 'emo': 1, 'wah': 1, 'abby': 1, 'grinda': 1, 'baston': 1, 'expedition': 1, 'frisco': 1, 'eludes': 1, 'untraditional': 1, 'empties': 1, 'teaks': 1, 'ém': 1, 'risser': 1, 'guenther': 1, 'hootsuite': 1, 'diligent': 1, 'efficacious': 1, 'gain': 2, 'examining': 1, 'hellava': 1, 'pin': 4, 'gutsy': 1, 'darryl': 1, 'reinhart': 1, 'kepts': 1, 'fashoined': 1, 'roni': 1, 'crispiness': 1, 'occurrence': 1, 'noticably': 1, 'preceded': 1, 'appauled': 1, 'befpre': 1, 'embarassed': 2, 'urciuoli': 1, 'taggia': 1, 'hellish': 2, 'transcripts': 1, 'usd': 1, 'magna': 1, 'laude': 1, 'universities': 1, 'finance': 2, 'repetition': 1, 'internships': 1, 'groupwork': 1, 'recruiting': 1, 'assistants': 2, 'bridging': 1, 'tutoring': 1, 'accepts': 1, 'advisors': 1, 'advertisements': 1, 'prerequisite': 1, 'dorms': 1, 'bullsh': 1, 'manzy': 1, 'manzanita': 1, 'froshy': 1, 'dirtiest': 1, 'rats': 1, 'promiscuous': 1, 'inaccurate': 1, 'betta': 1, 'refrigeration': 1, 'piling': 1, 'molina': 1, 'ock': 1, 'backpack': 2, 'soar': 1, 'stonehenge': 1, 'butte': 1, 'rejecting': 1, 'ino': 1, 'remnants': 1, 'hipsterish': 1, 'commonplace': 2, 'irresponsible': 1, 'serously': 1, 'accepting': 2, 'batches': 2, 'tae': 1, 'digi': 2, 'cam': 2, 'iflip': 2, 'bitchez': 1, 'lez': 1, 'flick': 2, 'terrimisu': 1, 'stationery': 1, 'sift': 1, 'mailee': 1, 'palaces': 1, 'spied': 1, 'enjoyers': 1, 'brewski': 1, 'oftentimes': 1, 'footlongs': 1, 'pomeroy': 2, 'uncanny': 2, 'fiscal': 1, 'harbinger': 1, 'meltdown': 1, 'cashola': 1, 'reversal': 1, 'fourteen': 2, 'dennis': 3, 'steven': 1, 'blushing': 2, 'boozahol': 1, 'slr': 1, 'sofrita': 1, 'pervasive': 1, 'prune': 1, 'shisito': 2, 'caperberries': 1, 'votives': 2, 'unlit': 1, 'forego': 1, 'chart': 1, 'reggae': 1, 'moores': 1, 'photographing': 2, 'comparatively': 1, 'ballsy': 1, 'blarney': 1, 'hm': 1, 'mikuni': 1, 'sac': 1, 'betcha': 1, 'chin': 2, 'correctable': 1, 'slushis': 1, 'memberships': 1, 'snickered': 1, 'cpr': 2, 'fingerprinting': 1, 'wheeling': 1, 'jekyll': 1, 'hyde': 1, 'tangible': 1, 'curiously': 1, 'hustled': 2, 'vegiies': 1, 'fam': 4, 'sukiyaki': 1, 'gallerie': 1, 'liquidating': 1, 'tuchus': 1, 'candelabra': 1, 'crawls': 1, 'rancher': 1, 'lm': 2, 'merit': 2, 'endorsement': 1, 'pedigree': 2, 'peninsula': 1, 'stonecreek': 1, 'molay': 1, 'mistaken': 2, 'callers': 1, 'sensed': 3, 'adhesive': 1, 'locking': 1, 'amelie': 1, 'rabitt': 1, 'risoto': 1, 'scollops': 1, 'rediculuslly': 1, 'hawian': 1, 'cusiene': 1, 'cosistent': 1, 'flavorable': 1, 'mor': 1, 'reasanablly': 1, 'pinwheels': 1, 'asiago': 2, 'patterns': 1, 'norton': 1, 'toshiba': 1, 'beatifully': 1, 'suprising': 1, 'yummmmmmmm': 1, 'sands': 2, 'farmhouse': 3, 'compitent': 1, 'deere': 2, 'stacey': 1, 'burritto': 1, 'expereinced': 1, 'funsports': 1, 'cycling': 2, 'smc': 1, 'democrat': 1, 'reject': 1, 'kay': 1, 'bran': 2, 'aybe': 1, 'juicing': 1, 'overstaffed': 1, 'whirlpool': 1, 'diving': 1, 'benefitted': 1, 'freebies': 1, 'shakin': 1, 'busyness': 1, 'manic': 2, 'nervously': 1, 'moseyed': 1, 'muffled': 2, 'ahhhhs': 1, 'coarsly': 1, 'matchstick': 1, 'angello': 1, 'dorato': 1, 'fritti': 1, 'gratzi': 1, 'buon': 1, 'natale': 1, 'raviolis': 2, 'plank': 3, 'browner': 1, 'pliable': 1, 'tazeki': 1, 'foi': 1, 'medly': 2, 'shreds': 1, 'arches': 2, 'juevos': 1, 'plopped': 1, 'bursts': 1, 'quartered': 1, 'madagascar': 1, 'noob': 2, 'destiny': 1, 'maven': 1, 'permit': 1, 'pizzetas': 1, 'sausalito': 1, 'invisiable': 1, 'acxupuncturist': 1, 'hesitancy': 1, 'smartphone': 2, 'mmr': 2, 'marana': 1, 'acupuncturist': 1, 'pdf': 1, 'pastie': 1, 'pastey': 1, 'modestly': 2, 'shallow': 1, 'bananrama': 1, 'painkiller': 1, 'defines': 1, 'intoxicatingly': 1, 'spun': 1, 'supped': 1, 'sheesha': 1, 'patee': 1, 'infinite': 1, 'dara': 2, 'blouses': 4, 'wrangle': 1, 'michelin': 4, 'dismiss': 2, 'scenarios': 1, 'conditioners': 1, 'spreads': 2, 'guards': 1, 'bargaining': 1, 'ikeaish': 1, 'accommodates': 2, 'vessel': 1, 'erik': 2, 'omlettes': 1, 'whining': 2, 'dogfood': 1, 'ghosts': 2, 'insured': 2, 'consumable': 1, 'recurring': 1, 'teppenyaki': 1, 'kanarish': 2, 'boxer': 1, 'tumor': 1, 'growth': 1, 'paw': 1, 'estimates': 1, 'anesthetic': 1, 'transferring': 1, 'karanish': 2, 'tidbit': 1, 'demiglaze': 1, 'primed': 1, 'naysayers': 1, 'guissepe': 2, 'perfecto': 2, 'cellist': 1, 'peer': 1, 'indicators': 1, 'knee': 2, 'boast': 1, 'guera': 1, 'nimbus': 1, 'dipp': 1, 'carmalized': 1, 'chcolate': 1, 'bulls': 2, 'relayed': 1, 'profiteroles': 2, 'tentacles': 1, 'semolina': 1, 'lardons': 1, 'smokiness': 1, 'choux': 3, 'profiterole': 1, 'flakiness': 1, 'fudgy': 1, 'reheats': 1, 'runner': 4, 'kombucha': 1, 'aces': 1, 'eggo': 2, 'onyx': 1, 'decks': 1, 'chiminea': 1, 'freebie': 1, 'barmaid': 1, 'bitzee': 1, 'jules': 1, 'atrociously': 1, 'biiiiiiiiiiig': 1, 'gamers': 1, 'niches': 1, 'ameritrash': 1, 'wargaming': 1, 'gw': 1, 'ccgs': 1, 'mtg': 1, 'battlefoam': 1, 'kitchenette': 4, 'antlers': 1, 'cruda': 2, 'valpolicella': 1, 'ripasso': 1, 'karen': 3, 'contributed': 1, 'vacay': 1, 'ink': 1, 'tattooers': 2, 'tattooer': 1, 'amusing': 4, 'worshiped': 1, 'succession': 1, 'sours': 2, 'hangup': 2, 'click': 2, 'soufflé': 1, 'celiacs': 1, 'fizzes': 1, 'manhattans': 1, 'roadtrip': 1, 'rattled': 1, 'zest': 1, 'sheik': 1, 'reservoir': 1, 'initials': 1, 'contracted': 1, 'rooste': 2, 'sap': 1, 'losses': 1, 'waitperson': 1, 'magician': 1, 'idaho': 1, 'lonestar': 1, 'rustlers': 1, 'gearing': 1, 'riparian': 2, 'wasp': 1, 'ant': 1, 'beetles': 1, 'entomologist': 1, 'gravelly': 1, 'karsh': 4, 'matzo': 1, 'hooligan': 1, 'truants': 1, 'staffing': 1, 'dropouts': 1, 'hideout': 1, 'cpc': 1, 'decanter': 3, 'negatively': 1, 'stail': 1, 'necco': 1, 'waffers': 1, 'blinds': 1, 'niceties': 1, 'provencal': 2, 'accessorize': 1, 'salivates': 1, 'louies': 1, 'idiotic': 1, 'claredon': 1, 'yuma': 1, 'paprika': 1, 'legged': 1, 'alphagraphics': 3, 'worded': 1, 'peculiarly': 1, 'undertones': 3, 'floridino': 2, 'favie': 1, 'cholocate': 1, 'anglophiles': 1, 'gravitated': 1, 'giraffe': 1, 'sundries': 1, 'plato': 1, 'carnes': 1, 'cisco': 2, 'cordially': 1, 'phillo': 1, 'potatoey': 1, 'biergarten': 1, 'kitch': 1, 'platonically': 1, 'horwitz': 1, 'durability': 1, 'firies': 1, 'southside': 1, 'regrettably': 1, 'composing': 1, 'messiness': 1, 'padlock': 1, 'contemplate': 1, 'clues': 2, 'scavenger': 1, 'murder': 1, 'canyone': 1, 'pooper': 1, 'scoopers': 1, 'cambodian': 4, 'nevermind': 1, 'wintermelon': 1, 'gooooooooodness': 1, 'deceptively': 1, 'gaga': 3, 'sweeet': 1, 'righteous': 1, 'comically': 1, 'chalenge': 1, 'saddley': 1, 'lonley': 1, 'saints': 1, 'lsu': 1, 'fad': 1, 'complicate': 1, 'mcnuggets': 2, 'savoryness': 1, 'chiptole': 3, 'pithy': 2, 'dimensions': 1, 'haystack': 2, 'minimalist': 1, 'fudds': 1, 'germophobe': 1, 'openness': 1, 'softie': 1, 'conceptually': 1, 'profiles': 1, 'hillbillie': 1, 'intersection': 1, 'greenfield': 1, 'sunfish': 1, 'nightcrawlers': 1, 'curbed': 1, 'jethro': 1, 'bodine': 1, 'observatory': 1, 'arlin': 1, 'macdonald': 2, 'takeoff': 1, 'flirty': 1, 'cheezy': 1, 'margharita': 2, 'snobettes': 1, 'antichrist': 1, 'inhabit': 1, 'quiant': 1, 'shazam': 1, 'babbling': 1, 'inevitably': 1, 'abuse': 1, 'ironman': 2, 'aquaman': 1, 'cordless': 1, 'internally': 1, 'duracell': 1, 'breckenridge': 2, 'tailor': 1, 'benign': 1, 'bearable': 2, 'silicone': 2, 'overrun': 1, 'peddle': 1, 'screws': 1, 'bolts': 1, 'highways': 1, 'thoroughfares': 1, 'nefarious': 1, 'officials': 1, 'compartment': 1, 'transparency': 1, 'mars': 1, 'shiteous': 1, 'lowdown': 1, 'letdown': 1, 'fremont': 1, 'raucous': 2, 'overcame': 1, 'chipped': 2, 'faucet': 1, 'furthest': 2, 'mangled': 1, 'mcgriddle': 1, 'phoned': 3, 'imperial': 1, 'cos': 2, 'glare': 3, 'xxx': 1, 'stinkin': 1, 'rubz': 2, 'oscar': 4, 'separation': 1, 'anxiety': 1, 'kennels': 3, 'worrisome': 1, 'fervor': 1, 'forwarded': 1, 'recliner': 2, 'mailbox': 1, 'paleo': 1, 'hunters': 1, 'bangle': 1, 'diversity': 3, 'kooks': 1, 'pizzazz': 1, 'revealing': 2, 'concentrating': 2, 'ingrown': 1, 'bookmark': 1, 'seasonally': 1, 'farmstand': 1, 'slop': 2, 'leguizamo': 2, 'elaboration': 1, 'assholes': 3, 'ration': 1, 'liner': 2, 'nutsack': 1, 'fuckhead': 1, 'corndog': 4, 'yanks': 1, 'dicknose': 1, 'ssssshhhhhh': 1, 'snaps': 1, 'drywall': 1, 'degrades': 1, 'asshat': 1, 'shithead': 1, 'buttons': 2, 'pourable': 1, 'considerations': 1, 'lupe': 2, 'disappears': 1, 'sopapilla': 1, 'kinky': 1, 'bimbos': 1, 'mediocore': 1, 'doritos': 2, 'slasher': 1, 'customs': 2, 'rechecked': 1, 'floundered': 1, 'suitcases': 2, 'liquids': 1, 'enduring': 2, 'antics': 1, 'trite': 1, 'tyler': 4, 'yogalates': 1, 'hatha': 1, 'playlist': 3, 'motivate': 1, 'freddie': 1, 'prismacolor': 1, 'pencils': 1, 'reappear': 1, 'sculpey': 1, 'faber': 1, 'castell': 1, 'airbrush': 1, 'nikes': 1, 'deuschbag': 1, 'heur': 1, 'deuschbaggery': 1, 'trampled': 1, 'rope': 1, 'opulence': 1, 'wrinkles': 1, 'daredevil': 1, 'nostrils': 1, 'aloud': 1, 'blogs': 1, 'recorded': 2, 'prematurely': 1, 'reserving': 2, 'unclothed': 1, 'unscathed': 1, 'humdinger': 1, 'blaming': 1, 'footsteps': 1, 'vastly': 2, 'desolation': 2, 'itt': 1, 'modernization': 1, 'pickin': 1, 'calvin': 1, 'klein': 1, 'lg': 1, 'shampoos': 1, 'wired': 1, 'tile': 6, 'warehouses': 1, 'freddy': 3, 'dissappoint': 1, 'extremity': 1, 'takamatsu': 1, 'naengmyeon': 1, 'japchae': 1, 'eligible': 1, 'hasen': 2, 'glee': 1, 'daze': 2, 'horseradishy': 1, 'realistically': 2, 'aldente': 1, 'palmaire': 1, 'brant': 1, 'vanila': 1, 'cookes': 1, 'throught': 1, 'airfair': 1, 'hilo': 1, 'groupie': 1, 'dominoes': 1, 'transcendental': 1, 'raspado': 1, 'tostitos': 1, 'habenaro': 1, 'oxidizing': 1, 'shortened': 1, 'weapon': 2, 'educating': 2, 'prioritize': 1, 'unharmonious': 1, 'pinapple': 1, 'ratpack': 1, 'unaccomodating': 1, 'stike': 1, 'jewels': 1, 'silks': 1, 'vegies': 1, 'haughty': 1, 'lon': 1, 'plastics': 1, 'reckon': 1, 'alcoholics': 1, 'enought': 1, 'scamming': 1, 'altic': 1, 'brenden': 1, 'mcrae': 1, 'troons': 1, 'grayhawks': 1, 'wekopas': 1, 'digest': 1, 'indicate': 1, 'weighed': 1, 'koong': 2, 'damm': 1, 'tace': 1, 'upo': 1, 'lovejoys': 1, 'milano': 3, 'fiund': 1, 'garlice': 1, 'deffinatly': 1, 'mindfull': 1, 'batchlorette': 1, 'memo': 1, 'understatment': 1, 'newish': 1, 'bassinet': 1, 'kabab': 1, 'khyber': 1, 'halal': 1, 'greener': 1, 'krazy': 1, 'rivalry': 1, 'critique': 1, 'neds': 3, 'poorboy': 1, 'uncomfy': 1, 'yummie': 1, 'carna': 1, 'elderberry': 1, 'tremendously': 1, 'florance': 1, 'vist': 1, 'juisit': 1, 'pannini': 1, 'permitting': 2, 'transactions': 1, 'rhus': 1, 'thd': 1, 'industrious': 1, 'atmospheric': 1, 'captivate': 1, 'chengs': 2, 'barring': 1, 'peices': 1, 'pickier': 2, 'gibson': 1, 'bayrn': 1, 'stube': 1, 'intestine': 1, 'wally': 1, 'huehner': 1, 'aventinus': 1, 'corporately': 1, 'possessing': 2, 'bitching': 1, 'frittata': 3, 'starved': 2, 'blottoed': 1, 'revival': 1, 'sincerest': 1, 'omer': 1, 'distractingly': 1, 'yyyeeaahhhh': 1, 'irl': 1, 'slander': 1, 'robotically': 1, 'verizon': 1, 'bertha': 8, 'scrap': 1, 'siphon': 1, 'budweiser': 1, 'implemented': 1, 'quinlans': 1, 'fraternize': 1, 'expeditiously': 1, 'commodities': 1, 'highland': 1, 'immobile': 1, 'liklihood': 1, 'overcharge': 1, 'cavalli': 1, 'fakeness': 1, 'knickknacks': 1, 'navigator': 1, 'penetrate': 1, 'referenced': 1, 'bacardi': 2, 'embezzled': 1, 'maurizio': 1, 'frescolina': 1, 'portly': 1, 'childbirth': 1, 'bodyguards': 1, 'yusefs': 1, 'yusef': 1, 'foulest': 1, 'survives': 1, 'epxected': 1, 'geat': 1, 'americas': 1, 'complaing': 1, 'tempur': 1, 'pedic': 1, 'porterhouse': 5, 'concret': 1, 'pbc': 1, 'splurging': 1, 'emergencies': 1, 'campagna': 1, 'hdtv': 1, 'bittman': 1, 'repeatable': 1, 'roomies': 2, 'deeelish': 1, 'contrasts': 1, 'rigorous': 1, 'egalitarian': 1, 'ethnicities': 1, 'socioeconomic': 1, 'roadrunners': 1, 'chipmunks': 1, 'fakville': 1, 'eyecare': 1, 'clyde': 1, 'lens': 2, 'camarone': 1, 'lapsang': 1, 'souchong': 1, 'foofy': 2, 'markeplace': 1, 'outweigh': 1, 'callouses': 1, 'ticklish': 1, 'dairiki': 1, 'wit': 2, 'nogales': 2, 'ihave': 1, 'joses': 1, 'matador': 2, 'carolinas': 1, 'juans': 1, 'als': 1, 'ricardos': 1, 'papagayos': 1, 'wrecked': 1, 'ciau': 1, 'reverted': 1, 'rocca': 1, 'comin': 1, 'confined': 1, 'intensive': 1, 'standstill': 1, 'mitigated': 1, 'cows': 7, 'hayride': 1, 'petting': 1, 'premise': 1, 'goalie': 1, 'udder': 1, 'cervezas': 1, 'terrayki': 1, 'aloft': 1, 'paraphanalia': 1, 'juniors': 1, 'dishs': 1, 'ihappened': 1, 'briskit': 1, 'atmsphere': 1, 'burritooooooo': 1, 'somalier': 1, 'cheesecakes': 1, 'espaniclata': 1, 'recker': 1, 'waitless': 1, 'pleasent': 1, 'hemroid': 1, 'dissuade': 2, 'din': 1, 'camaraderie': 1, 'weirdly': 1, 'calcutta': 1, 'garnishes': 2, 'astmosphere': 1, 'enthusiasts': 1, 'exspensive': 1, 'delicatessen': 2, 'paroose': 1, 'casella': 3, 'growled': 1, 'selecton': 1, 'collaborate': 1, 'sandal': 2, 'lyric': 1, 'vally': 1, 'hightly': 1, 'competitively': 1, 'sesquicentennial': 1, 'producers': 1, 'dakota': 1, 'fanning': 1, 'intensely': 1, 'dwell': 1, 'mounded': 1, 'magnificently': 1, 'pozole': 1, 'premature': 1, 'ejaculation': 1, 'denies': 1, 'clamored': 1, 'sensuous': 1, 'doting': 1, 'sustenance': 1, 'cargos': 1, 'boardshorts': 1, 'thrity': 1, 'bulldogs': 1, 'boxers': 1, 'banger': 1, 'cholos': 1, 'skates': 3, 'owwwuch': 1, 'profess': 1, 'undying': 1, 'dood': 1, 'franchises': 1, 'forbes': 1, 'penalty': 3, 'atari': 1, 'vegtable': 1, 'tempranillo': 2, 'jury': 2, 'catalina': 1, 'closure': 1, 'baconzilla': 1, 'decker': 1, 'assumptions': 1, 'salumeria': 1, 'anyhting': 1, 'actaully': 1, 'eagrolls': 1, 'yammy': 1, 'portabello': 1, 'kalamata': 3, 'sheepishly': 1, 'pestered': 2, 'exterminator': 1, 'chief': 1, 'yummmmmy': 1, 'catlin': 1, 'kielbasa': 1, 'poland': 1, 'meatburger': 1, 'revo': 1, 'revolutionary': 3, 'windowed': 1, 'attracting': 1, 'yuppies': 2, 'argentine': 1, 'expen': 1, 'analyze': 1, 'isreal': 1, 'totes': 1, 'palmtree': 1, 'edgy': 2, 'blouse': 2, 'worldly': 1, 'legion': 2, 'romantics': 1, 'clicked': 1, 'yorkish': 1, 'patchwork': 1, 'fickle': 2, 'jane': 1, 'drawers': 2, 'nightstands': 1, 'deadbolted': 1, 'stable': 2, 'cocstco': 1, 'cabrales': 1, 'fonduta': 1, 'rigatoncini': 1, 'amarone': 1, 'disarray': 1, 'superfluous': 1, 'overhauling': 1, 'reputations': 1, 'colonized': 1, 'indochine': 1, 'beneficiary': 1, 'edouard': 1, 'inventors': 1, 'pneumatic': 1, 'influential': 1, 'nguyen': 2, 'migrated': 1, 'eurasian': 1, 'suburb': 1, 'bellevue': 1, 'derailed': 1, 'ngyuen': 1, 'sabbatical': 1, 'journalists': 1, 'likened': 1, 'mythological': 2, 'rebirth': 1, 'arid': 1, 'flatters': 1, 'neglect': 1, 'regime': 1, 'reckless': 1, 'auteur': 1, 'ignores': 1, 'achieves': 1, 'eminent': 1, 'gourmands': 1, 'practise': 1, 'miagi': 1, 'fodder': 1, 'measely': 1, 'blooms': 1, 'adrenaline': 1, 'cobblestone': 1, 'pupcakes': 1, 'appraisals': 1, 'indra': 2, 'purposes': 1, 'importing': 1, 'jewelers': 1, 'ogled': 1, 'diamonds': 2, 'pearls': 1, 'paramount': 1, 'chills': 1, 'hocks': 1, 'aloe': 2, 'vera': 3, 'makoks': 1, 'raunchy': 1, 'frag': 1, 'geeks': 1, 'spashground': 1, 'spouting': 1, 'pavilion': 2, 'goin': 1, 'je': 1, 'ne': 2, 'sais': 1, 'quoi': 1, 'tha': 1, 'sawth': 1, 'gaves': 1, 'coddled': 1, 'lopsided': 1, 'shrunk': 1, 'hydroponically': 1, 'grotown': 1, 'migraine': 1, 'geeze': 1, 'highschoolers': 1, 'tweet': 2, 'hashtagging': 1, 'silent': 3, 'lighten': 1, 'footprint': 1, 'snickerdoodles': 2, 'banked': 2, 'banks': 1, 'nickeled': 1, 'dimed': 1, 'bogof': 1, 'inconvenienced': 1, 'tatts': 1, 'dewelers': 1, 'schenpf': 1, 'spoonfuls': 1, 'taook': 1, 'thaaat': 1, 'grudgingly': 1, 'babysitting': 1, 'myth': 2, 'graffenberg': 1, 'scientist': 1, 'manually': 1, 'orally': 1, 'targeted': 1, 'plantation': 6, 'whichever': 1, 'tweekiest': 1, 'subliminal': 1, 'zap': 1, 'erase': 1, 'oomph': 1, 'mormans': 1, 'existent': 2, 'clement': 1, 'martinez': 1, 'digorno': 1, 'bred': 3, 'inter': 1, 'brittani': 1, 'matthews': 1, 'sarcastic': 1, 'bagger': 1, 'turks': 1, 'caicos': 1, 'providenciales': 1, 'invoked': 1, 'kthxbye': 1, 'bfef': 1, 'frienemies': 1, 'clarice': 9, 'kee': 1, 'distract': 2, 'troubled': 1, 'tumultuous': 1, 'unloving': 1, 'dinguan': 1, 'bistek': 2, 'tagalog': 1, 'cfb': 1, 'dribble': 2, 'muchachos': 1, 'trannies': 1, 'amigo': 1, 'roughness': 1, 'moral': 2, 'earwax': 1, 'eclair': 1, 'proble': 1, 'palee': 1, 'currys': 2, 'owen': 1, 'grandmothers': 3, 'winkies': 1, 'cabela': 2, 'analogous': 1, 'abundantly': 1, 'realtor': 1, 'veiled': 1, 'cynicism': 1, 'inquisitive': 1, 'definitly': 1, 'discs': 2, 'grief': 1, 'nigri': 1, 'emphasizing': 1, 'puny': 1, 'greenville': 1, 'poppy': 1, 'expereinces': 1, 'colorist': 3, 'inoa': 1, 'colorists': 1, 'instatnt': 1, 'stilll': 1, 'nutritious': 1, 'pellets': 1, 'oxbow': 1, 'kibble': 1, 'pamper': 2, 'mahhh': 1, 'diddly': 1, 'squat': 1, 'gtfo': 1, 'casing': 2, 'upsold': 1, 'waxes': 1, 'scamorza': 1, 'siduri': 2, 'willamette': 1, 'auditioned': 1, 'platonic': 2, 'pegged': 1, 'peeves': 1, 'aural': 1, 'initmate': 1, 'advertises': 1, 'scotches': 2, 'glenfiddich': 1, 'ardbeg': 1, 'dirtiness': 1, 'torte': 1, 'gavin': 2, 'cottonwood': 1, 'purveyor': 2, 'latched': 1, 'bonne': 1, 'ami': 1, 'reeds': 1, 'imitated': 2, 'hmph': 1, 'uhhhhhh': 1, 'overdose': 2, 'huuuge': 1, 'caitlin': 1, 'mystique': 1, 'expose': 3, 'outclasses': 1, 'connery': 1, 'stouffer': 1, 'tailgate': 1, 'corny': 1, 'sar': 2, 'posing': 1, 'endorsing': 1, 'sorrry': 1, 'afterhours': 1, 'recognizes': 1, 'tryst': 4, 'chalkboards': 1, 'insufficiently': 1, 'montpellier': 1, 'savignon': 1, 'pepino': 1, 'acute': 1, 'natcher': 5, 'predicament': 1, 'cyclist': 1, 'injuries': 1, 'restocking': 1, 'rabe': 3, 'meyer': 1, 'digestif': 1, 'dandelion': 1, 'nook': 2, 'underwhelemd': 1, 'sconces': 1, 'velour': 1, 'intimiate': 1, 'clued': 1, 'deductions': 2, 'carbo': 1, 'patroned': 1, 'latke': 1, 'platefuls': 1, 'refinish': 1, 'countertop': 2, 'ripping': 1, 'shawn': 3, 'spraying': 2, 'sealant': 1, 'peeee': 1, 'crusting': 2, 'showstoppers': 1, 'slots': 1, 'pitched': 1, 'reruns': 1, 'simpleton': 1, 'greenbelt': 2, 'rake': 2, 'nl': 1, 'dealer': 2, 'remiss': 1, 'tins': 1, 'nameless': 1, 'thins': 1, 'lcd': 1, 'bolywood': 1, 'chicekn': 1, 'tika': 1, 'palak': 1, 'scaloppine': 1, 'swest': 1, 'banished': 1, 'vang': 4, 'heartier': 1, 'resting': 1, 'buried': 1, 'beth': 2, 'steamers': 3, 'spat': 1, 'saloon': 1, 'limos': 1, 'wobbling': 1, 'mosiacs': 1, 'fantastalistic': 1, 'environs': 1, 'nosy': 2, 'cliquish': 1, 'claps': 1, 'hightops': 1, 'blackstone': 1, 'alicia': 1, 'stereotyping': 1, 'italians': 1, 'coldest': 2, 'attacking': 1, 'mechado': 2, 'lechon': 1, 'canton': 1, 'ama': 4, 'licensed': 3, 'grasses': 1, 'hydrogen': 1, 'peroxide': 1, 'iodine': 1, 'teats': 1, 'dairies': 1, 'pasture': 1, 'calamos': 1, 'syd': 1, 'springhill': 1, 'bloated': 1, 'extremes': 1, 'enamored': 1, 'eloquently': 1, 'malodorous': 1, 'margaret': 1, 'kingston': 1, 'redux': 1, 'créme': 1, 'skits': 1, 'jesterz': 2, 'honeslty': 1, 'debra': 1, 'youngtown': 1, 'fetta': 1, 'kang': 1, 'karee': 1, 'zur': 1, 'kate': 1, 'highliting': 1, 'niggle': 1, 'vaca': 2, 'blissful': 1, 'invaluable': 1, 'padi': 2, 'certification': 1, 'fequented': 1, 'unattended': 1, 'recieve': 1, 'realised': 1, 'cashed': 1, 'hind': 1, 'erbe': 1, 'pinkbet': 1, 'liverwurst': 1, 'bismark': 1, 'doughboy': 1, 'lubrication': 1, 'carpool': 1, 'venice': 1, 'parfaits': 2, 'ramiro': 2, 'kitfo': 2, 'tibs': 3, 'awaze': 1, 'palettes': 1, 'keye': 2, 'wott': 3, 'servered': 1, 'transcendent': 1, 'teff': 2, 'indigenous': 1, 'sunup': 1, 'brewhouse': 1, 'uva': 1, 'ye': 2, 'olde': 2, 'humidor': 1, 'opus': 1, 'hydration': 1, 'uploaded': 1, 'administrative': 2, 'dismantle': 1, 'continents': 1, 'romp': 1, 'saag': 3, 'dhal': 1, 'uninitiated': 1, 'flavorwise': 1, 'mileage': 2, 'differed': 2, 'milestone': 1, 'kheer': 3, 'jamun': 2, 'unfavourably': 1, 'sabudaana': 1, 'pakoras': 1, 'wanderers': 1, 'statue': 1, 'unbidden': 1, 'tablecloths': 2, 'sippy': 1, 'tabletop': 1, 'bhangra': 1, 'muzak': 1, 'tyres': 1, 'recount': 1, 'seacrest': 1, 'bevies': 1, 'daly': 1, 'expectetd': 1, 'relishes': 1, 'boca': 1, 'geez': 1, 'waistlines': 1, 'shamefully': 1, 'signatures': 1, 'athletes': 2, 'clogging': 1, 'remade': 1, 'verdant': 1, 'exhaustive': 1, 'subtleness': 1, 'altercation': 1, 'microwaves': 2, 'resturaunt': 1, 'resturaunts': 1, 'emencely': 1, 'offsite': 1, 'subtitles': 1, 'evidence': 1, 'entombed': 1, 'connoisseurs': 1, 'vegatables': 1, 'stabbing': 1, 'wounds': 3, 'bandaged': 1, 'sneaker': 2, 'edition': 2, 'jordans': 1, 'markups': 1, 'cypress': 1, 'medi': 1, 'implore': 1, 'oval': 1, 'imca': 1, 'modifieds': 1, 'modlites': 1, 'dwarfs': 1, 'campers': 1, 'engines': 1, 'exhilaration': 1, 'sibling': 1, 'payments': 1, 'earns': 1, 'wickedly': 1, 'yummmeee': 1, 'classmate': 1, 'prince': 1, 'cameo': 1, 'minuses': 1, 'approximate': 1, 'trans': 1, 'sedona': 2, 'pooing': 1, 'befriended': 1, 'convivial': 1, 'koreans': 1, 'operators': 1, 'clan': 1, 'succeeded': 1, 'shochu': 2, 'irasshaimase': 1, 'wingman': 1, 'citronage': 1, 'sloe': 1, 'cheesiness': 1, 'hailing': 1, 'exceeds': 1, 'tans': 2, 'audiobook': 1, 'trumps': 1, 'mimic': 1, 'prissy': 1, 'malice': 1, 'glinting': 1, 'scowling': 1, 'trudging': 1, 'infantry': 1, 'contemplating': 1, 'calculating': 1, 'strategies': 1, 'battlefield': 1, 'battalion': 1, 'regiment': 1, 'rechecking': 1, 'ammunition': 1, 'trudge': 1, 'crackled': 1, 'victors': 1, 'peacekeepers': 1, 'ushered': 1, 'bleary': 1, 'doorbuster': 1, 'serpentine': 1, 'bloodless': 1, 'plunk': 1, 'technolust': 1, 'christm': 1, 'veto': 1, 'frail': 1, 'firmer': 2, 'ivaa': 1, 'deficient': 1, 'eyesight': 1, 'lighthouse': 1, 'curacao': 1, 'aquamarine': 1, 'spareribs': 1, 'galvanized': 1, 'liquer': 1, 'generalization': 1, 'robotic': 1, 'lifeless': 1, 'utilitarian': 1, 'expat': 1, 'calabria': 1, 'courage': 2, 'homme': 2, 'unimaginable': 1, 'wastedly': 1, 'bowled': 1, 'towings': 1, 'purportedly': 1, 'margareta': 1, 'shyness': 1, 'awkwardness': 1, 'ua': 1, 'asus': 1, 'sundevil': 1, 'wildcat': 1, 'mt': 1, 'abreast': 1, 'shills': 1, 'reacting': 1, 'scout': 1, 'lfs': 1, 'inspection': 3, 'aiptasia': 1, 'coral': 2, 'belittled': 2, 'picos': 1, 'demeaning': 1, 'angler': 2, 'backtracked': 1, 'harass': 1, 'spore': 1, 'eclaire': 1, 'stamina': 1, 'kitchens': 1, 'umbria': 1, 'amalfi': 1, 'odyssey': 1, 'etienne': 1, 'countryside': 1, 'astonished': 1, 'greetings': 1, 'grappa': 1, 'orvieto': 1, 'recesses': 1, 'nikki': 1, 'buchanan': 1, 'accented': 2, 'comeback': 1, 'fornaio': 2, 'fray': 1, 'sued': 2, 'rigmarole': 1, 'fran': 1, 'understated': 2, 'buffala': 1, 'smucker': 1, 'tickled': 2, 'vietri': 1, 'portuguese': 1, 'mussel': 1, 'appys': 1, 'espana': 1, 'lengths': 2, 'shucked': 1, 'bage': 1, 'didn': 1, 'reciept': 2, 'noone': 1, 'cuticule': 1, 'nailes': 1, 'nigligent': 1, 'reapplied': 1, 'kasras': 1, 'pyllo': 1, 'corrections': 1, 'relegating': 1, 'titular': 1, 'bedside': 1, 'reccomendations': 1, 'dnd': 2, 'ocassional': 1, 'bootleged': 1, 'stockyards': 5, 'concerning': 1, 'uninterrupted': 1, 'discretely': 1, 'luncheon': 1, 'nazo': 1, 'teacup': 1, 'yorkie': 1, 'maltese': 1, 'slivered': 1, 'ginhound': 1, 'sunchokes': 1, 'ensured': 1, 'christ': 1, 'ransacked': 1, 'provisions': 1, 'astonishingly': 1, 'marty': 3, 'growl': 1, 'handcut': 1, 'undersalted': 1, 'disagreement': 1, 'invert': 1, 'aussies': 1, 'hebrew': 1, 'specifications': 1, 'increased': 1, 'bajillionaire': 1, 'stringent': 1, 'grrr': 1, 'uncaffeinated': 1, 'dazzles': 1, 'mommy': 2, 'oldsmobuick': 1, 'teds': 2, 'sissys': 1, 'fru': 2, 'chargrilled': 1, 'visualize': 1, 'berg': 1, 'purist': 1, 'prepay': 1, 'indirect': 1, 'wuss': 1, 'editor': 1, 'reporter': 1, 'hahahaha': 1, 'undoing': 2, 'spicolli': 1, 'exude': 1, 'sullen': 1, 'stil': 1, 'detours': 1, 'spectators': 1, 'startline': 1, 'hookers': 2, 'luigi': 1, 'jura': 1, 'compressa': 1, 'mistreated': 1, 'categorizing': 1, 'crashers': 1, 'misplaced': 2, 'singled': 1, 'discriminated': 1, 'adopt': 3, 'sluggish': 1, 'catcher': 1, 'mayos': 1, 'whimsy': 1, 'bayou': 1, 'encore': 5, 'ahhhhhh': 1, 'omlette': 1, 'sleepover': 1, 'stuttering': 1, 'stammering': 1, 'gratuitus': 1, 'sneaky': 1, 'stealthy': 1, 'disloyal': 1, 'sordid': 1, 'lokos': 2, 'prolong': 1, 'cuddle': 1, 'loafers': 1, 'deducting': 1, 'whelmed': 2, 'whiteness': 1, 'collarbone': 1, 'gowns': 1, 'mattresses': 1, 'capaccino': 1, 'heckled': 1, 'gambler': 1, 'winnings': 2, 'attendees': 2, 'elicit': 1, 'slurpers': 1, 'canaille': 2, 'swill': 2, 'dishwater': 1, 'leathery': 1, 'palates': 1, 'fundemental': 1, 'judgemental': 1, 'hickey': 2, 'detrimental': 1, 'experimental': 1, 'sicken': 1, 'quicken': 1, 'mitten': 1, 'carey': 1, 'stricken': 1, 'beatnik': 1, 'viewable': 1, 'zoners': 1, 'florencia': 1, 'practitioner': 1, 'gooky': 1, 'pus': 1, 'antibiotics': 1, 'amoxicilon': 1, 'schreiners': 1, 'factored': 1, 'khakis': 1, 'cradling': 1, 'juicier': 1, 'rivaling': 1, 'unspeakable': 1, 'disintegrating': 1, 'sprig': 1, 'jeremiah': 1, 'nuon': 1, 'xao': 2, 'hu': 1, 'nominee': 1, 'hooterville': 1, 'alienation': 1, 'bucking': 1, 'broncho': 1, 'northerner': 1, 'droops': 1, 'levi': 2, 'leslie': 1, 'gauge': 1, 'quantities': 1, 'overhearing': 1, 'parading': 1, 'bumble': 1, 'frisky': 1, 'nachobot': 1, 'feasting': 1, 'autographed': 1, 'bock': 1, 'willie': 1, 'mays': 1, 'eduprize': 1, 'volunteering': 2, 'struggles': 1, 'previews': 1, 'nearing': 2, 'smashchicken': 1, 'tiresome': 1, 'instrument': 1, 'tangerines': 1, 'bakes': 1, 'corrosion': 1, 'flushed': 1, 'panned': 1, 'emulate': 1, 'spaniards': 1, 'frescoed': 1, 'courtyards': 1, 'luxe': 1, 'fulfills': 1, 'functionality': 1, 'moneymaker': 1, 'yellowfin': 1, 'eorth': 1, 'veterans': 1, 'lonesome': 1, 'seedier': 1, 'armando': 1, 'byblos': 2, 'clasic': 1, 'duke': 1, 'knick': 1, 'knacks': 1, 'yardsale': 1, 'paraphenalia': 1, 'publix': 1, 'michelina': 1, 'smudged': 1, 'unreadable': 1, 'dimensional': 1, 'infusions': 1, 'readable': 1, 'jenny': 4, 'strebe': 1, 'veronica': 5, 'peebles': 1, 'stylush': 1, 'noirs': 1, 'rieslings': 1, 'hoegardaan': 1, 'tonights': 1, 'lll': 1, 'zankou': 1, 'tana': 1, 'swooped': 1, 'infront': 1, 'lobbys': 1, 'lizabel': 3, 'bette': 2, 'agreeably': 1, 'furnish': 1, 'lisabel': 1, 'browning': 1, 'uterus': 1, 'diggety': 1, 'charburger': 2, 'canines': 1, 'cartilidge': 1, 'fresno': 1, 'fresnos': 1, 'frazzeling': 1, 'choppy': 1, 'spagetti': 1, 'sleeved': 1, 'grammaw': 1, 'auténtico': 1, 'backless': 1, 'feds': 1, 'exclusives': 1, 'colorways': 1, 'sweats': 1, 'hoodies': 1, 'durable': 2, 'cmft': 1, 'colorway': 1, 'salmons': 1, 'theeee': 1, 'wokee': 2, 'bikram': 3, 'enviroment': 1, 'pertains': 1, 'corfu': 2, 'becasue': 1, 'unobstructed': 2, 'erupts': 1, 'inlaws': 1, 'squirrels': 1, 'rocknroll': 1, 'smores': 2, 'replenishment': 1, 'cabanas': 1, 'looooounge': 1, 'rigoberto': 1, 'jaywalk': 1, 'lipitor': 1, 'realty': 2, 'daradee': 1, 'murray': 1, 'communicator': 1, 'nationalities': 1, 'chaude': 2, 'meatiness': 1, 'ideally': 1, 'slooooooooow': 1, 'thinning': 1, 'paces': 1, 'owes': 1, 'bulldog': 1, 'sd': 2, 'buran': 1, 'runniest': 1, 'puttanesco': 1, 'frutti': 1, 'dimare': 1, 'saleslady': 1, 'financing': 1, 'sku': 1, 'pruitts': 1, 'ashleys': 1, 'targer': 1, 'beijing': 1, 'olympics': 1, 'gg': 1, 'offereings': 1, 'wheaties': 1, 'smirk': 1, 'clubish': 1, 'hubristic': 1, 'hgtv': 1, 'yumzoid': 1, 'insipid': 1, 'clash': 1, 'likeyourmompackedinyourbrownbaglunch': 1, 'chunked': 1, 'int': 1, 'slush': 1, 'divulge': 1, 'roadrunner': 2, 'barebones': 1, 'concluded': 2, 'pacman': 1, 'dartboard': 1, 'gamer': 1, 'wurlitzer': 1, 'parmagiana': 1, 'tartufo': 1, 'appetito': 1, 'clouds': 5, 'yummmmmmers': 1, 'ia': 1, 'unfold': 1, 'thirstbuster': 1, 'alter': 1, 'scowled': 1, 'stirs': 1, 'gastronomic': 1, 'skew': 1, 'lam': 1, 'potholes': 1, 'gulf': 1, 'suckks': 1, 'businesswoman': 1, 'butteryness': 1, 'captive': 1, 'provincial': 1, 'pdx': 1, 'sfo': 1, 'naaah': 1, 'gatos': 1, 'deluca': 1, 'amusement': 1, 'snowbird': 1, 'relocate': 1, 'abuelita': 1, 'bohemia': 1, 'mansanita': 1, 'ty': 1, 'paldo': 1, 'seoul': 1, 'gmo': 1, 'pesticides': 1, 'burton': 1, 'barr': 1, 'canter': 1, 'favorably': 1, 'doudy': 1, 'particuarly': 1, 'distinguished': 1, 'nametags': 1, 'coordinators': 1, 'uncooperative': 1, 'glitches': 1, 'tagline': 1, 'dippers': 1, 'grumbled': 1, 'alphabetical': 1, 'wayyyyyyy': 1, 'villas': 1, 'pauper': 1, 'kiddie': 1, 'marinello': 1, 'administration': 2, 'toured': 1, 'schooling': 1, 'immaculately': 1, 'jocelyn': 1, 'unlce': 1, 'handedly': 1, 'bernie': 1, 'kantak': 1, 'strudel': 1, 'dempsey': 1, 'austere': 1, 'evolves': 1, 'humane': 3, 'compassion': 1, 'dobbins': 1, 'spaying': 1, 'neutering': 1, 'statistics': 1, 'breed': 1, 'stigma': 1, 'leashes': 1, 'fer': 1, 'chrissakes': 1, 'edwards': 1, 'refuge': 1, 'waive': 1, 'ping': 1, 'foosball': 1, 'slangs': 1, 'berrimundi': 1, 'curated': 1, 'chamber': 1, 'saxophone': 1, 'platform': 1, 'terrill': 1, 'unsullied': 1, 'metrocenter': 4, 'spanking': 2, 'zoned': 1, 'goltv': 1, 'brainless': 2, 'dumbbells': 1, 'incline': 1, 'contraption': 2, 'diagrams': 1, 'dankness': 1, 'lockerroom': 2, 'sponsor': 1, 'suitmate': 1, 'spinner': 1, 'hem': 1, 'sone': 1, 'giligin': 1, 'flashlights': 1, 'roaches': 2, 'acquire': 1, 'arty': 1, 'budlite': 1, 'firepits': 1, 'godson': 1, 'sightseeing': 1, 'structures': 1, 'idyllic': 1, 'lurk': 1, 'choco': 1, 'cedar': 1, 'subtract': 3, 'disdain': 2, 'jimmies': 1, 'gelatin': 1, 'skosh': 1, 'booo': 1, 'lull': 1, 'immigrant': 1, 'counterperson': 1, 'misprepresentation': 1, 'scorcho': 1, 'incorporating': 1, 'intruments': 1, 'virtuosos': 1, 'zam': 2, 'umph': 1, 'karahi': 1, 'robust': 1, 'diffidently': 1, 'mobility': 1, 'masseuses': 1, 'beneficial': 1, 'seeded': 1, 'whirlpools': 1, 'awning': 1, 'napping': 1, 'indistinguisable': 1, 'pizazz': 1, 'paisley': 1, 'spouses': 1, 'yogurtology': 4, 'nsa': 1, 'sony': 1, 'twix': 1, 'milky': 1, 'yogurtopia': 1, 'sheltered': 1, 'tract': 1, 'buckhunt': 1, 'taped': 1, 'videogame': 1, 'gnarly': 1, 'liability': 1, 'benjis': 1, 'objected': 1, 'spankable': 1, 'tanic': 1, 'fob': 1, 'locksmiths': 1, 'fabricate': 1, 'bazaar': 1, 'sewing': 1, 'needle': 2, 'highlighting': 1, 'procured': 1, 'condolences': 1, 'fashions': 1, 'mannequin': 1, 'scottsadale': 1, 'ahwahtukee': 1, 'centric': 1, 'scrumptiousness': 1, 'schlitz': 1, 'compensates': 1, 'intellectual': 1, 'stimulation': 1, 'succeeding': 2, 'somosas': 1, 'impresive': 1, 'trailings': 1, 'uncluttered': 1, 'wimper': 1, 'kennel': 1, 'sitter': 3, 'potbelly': 2, 'ts': 1, 'oooohhhh': 1, 'yeeeaaaahhh': 1, 'swizzle': 1, 'quirkiness': 1, 'vermonter': 1, 'ummmm': 1, 'scrumptous': 1, 'crips': 1, 'tiered': 1, 'waltzed': 2, 'waster': 1, 'trekking': 1, 'snubbed': 2, 'abilty': 1, 'beggars': 1, 'tramp': 1, 'chasing': 1, 'wayyyyyy': 1, 'eggnog': 1, 'praline': 3, 'marvel': 1, 'misinformed': 1, 'dangers': 1, 'firetrucks': 1, 'doofuses': 1, 'waterwise': 1, 'overestimate': 1, 'railings': 1, 'uhhhh': 1, 'jaunt': 1, 'picturesque': 1, 'clambering': 1, 'zinburgergeist': 1, 'sturgeon': 2, 'haiku': 1, 'regina': 2, 'lyrical': 1, 'nationals': 1, 'learns': 1, 'lifelong': 1, 'matts': 1, 'earnest': 1, 'triva': 1, 'overrate': 1, 'antechamber': 1, 'simultaneous': 1, 'scalded': 1, 'lapping': 1, 'canolis': 1, 'occassionally': 1, 'apiece': 1, 'godiva': 1, 'tonto': 2, 'elegantly': 1, 'creatively': 1, 'assemble': 1, 'multiplied': 1, 'pasti': 1, 'sopresseta': 1, 'dabbing': 1, 'generosity': 1, 'furbabies': 1, 'barked': 1, 'tch': 1, 'rebook': 1, 'pen': 1, 'crayon': 1, 'busan': 1, 'tty': 1, 'jalopeno': 1, 'maccaroons': 1, 'drugged': 1, 'braving': 1, 'phò': 2, 'grail': 1, 'phú': 4, 'thành': 4, 'vàng': 1, 'chà': 1, 'giò': 1, 'òc': 1, 'châm': 1, 'replaces': 1, 'phó': 1, 'mì': 1, 'bò': 1, 'kho': 1, 'carbohydrate': 1, 'absorb': 2, 'validated': 1, 'amin': 2, 'numb': 1, 'eyeball': 1, 'craziest': 1, 'canals': 1, 'scardy': 1, 'hasbrowns': 1, 'luvs': 1, 'tragic': 1, 'failbagels': 1, 'cleaniness': 1, 'pasand': 1, 'leaps': 1, 'bounds': 1, 'rennovate': 1, 'downinside': 1, 'microscopic': 1, 'parting': 1, 'shorba': 2, 'ranted': 1, 'scar': 1, 'deity': 1, 'apparitions': 1, 'amerizona': 1, 'convertible': 1, 'bulb': 1, 'bleaching': 1, 'spiral': 1, 'botched': 2, 'karawi': 4, 'hmmph': 1, 'cayman': 1, 'caymans': 1, 'likeable': 1, 'vacations': 1, 'anythings': 1, 'stats': 1, 'interests': 1, 'raging': 1, 'functioning': 1, 'puffed': 1, 'nazzle': 1, 'radishy': 1, 'flaw': 1, 'negated': 2, 'floss': 1, 'pimps': 1, 'lurve': 1, 'reylynne': 1, 'unno': 1, 'eugenia': 2, 'macarons': 2, 'sslowest': 1, 'kyot': 1, 'bargained': 1, 'truckin': 1, 'tgf': 1, 'stripmall': 1, 'laundromat': 1, 'tempanade': 1, 'diluting': 1, 'philosophically': 1, 'rampant': 1, 'withe': 1, 'xanax': 1, 'tazer': 1, 'headquarters': 1, 'patchouli': 1, 'speaketh': 1, 'soledad': 1, 'simmer': 1, 'kickasser': 1, 'ails': 1, 'tepan': 2, 'gastronomical': 1, 'proportional': 1, 'romero': 1, 'kink': 1, 'notte': 1, 'stupendous': 1, 'yin': 1, 'yang': 1, 'waxey': 1, 'crv': 1, 'manfest': 1, 'kilts': 1, 'newman': 1, 'dished': 1, 'tenderly': 1, 'biaggia': 1, 'sundresses': 1, 'advertisments': 1, 'outdoorish': 1, 'larissa': 1, 'betz': 3, 'dds': 1, 'unfriendliest': 1, 'clones': 1, 'nary': 1, 'businesslike': 1, 'postscript': 1, 'diappointing': 1, 'pinots': 1, 'paraplegic': 1, 'snarfed': 2, 'encounters': 1, 'transients': 1, 'jambon': 1, 'chainco': 2, 'pondered': 1, 'tortalini': 1, 'rename': 1, 'niro': 3, 'tepenyaki': 1, 'agwa': 1, 'bolivia': 1, 'blase': 1, 'ridiculed': 1, 'telly': 1, 'jac': 1, 'crossing': 1, 'reptiles': 1, 'feeders': 1, 'probe': 1, 'snakes': 1, 'reptile': 1, 'bucca': 1, 'diviest': 1, 'preoccupied': 1, 'humiliating': 1, 'fuming': 1, 'pinguinos': 1, 'gansitos': 1, 'duvalin': 1, 'pelon': 1, 'pelo': 1, 'bimbo': 1, 'hens': 1, 'ranchera': 1, 'libras': 1, 'preparada': 1, 'aolioli': 1, 'margerita': 1, 'aunts': 1, 'dosing': 1, 'pedestrians': 2, 'cevapi': 4, 'burek': 3, 'amra': 1, 'bookmarked': 1, 'dived': 1, 'nnear': 1, 'askin': 1, 'nadya': 3, 'slimming': 1, 'metrosexuality': 1, 'wan': 1, 'apathetic': 1, 'annihilator': 1, 'sando': 1, 'kefta': 1, 'hazy': 1, 'midwinter': 1, 'dashed': 1, 'slung': 1, 'behinds': 1, 'shilling': 1, 'scottish': 1, 'diacetyls': 1, 'woozy': 1, 'castilla': 2, 'wearers': 1, 'sweetly': 1, 'heath': 1, 'vile': 2, 'misinterpreted': 1, 'quirk': 1, 'stilettos': 1, 'mtn': 1, 'professed': 2, 'creamery': 1, 'frilly': 2, 'swarma': 1, 'democratic': 1, 'bulee': 1, 'necessities': 1, 'noting': 1, 'cozze': 1, 'posolipo': 1, 'gamberi': 1, 'pana': 1, 'siciliani': 1, 'traipse': 1, 'maggie': 1, 'slosh': 1, 'slopping': 1, 'consigned': 1, 'briefcase': 1, 'consigner': 1, 'spaced': 1, 'pestle': 1, 'encebollada': 1, 'fuddburger': 1, 'fuddrucker': 2, 'heinz': 1, 'evoking': 1, 'shameless': 1, 'americana': 1, 'overindulgence': 1, 'arousal': 1, 'afterglow': 1, 'punctuated': 1, 'somber': 1, 'seton': 1, 'gaggle': 1, 'sabatinos': 1, 'landlord': 1, 'lowering': 1, 'lockout': 1, 'threatened': 1, 'sheri': 1, 'mostaccioli': 1, 'giadiniera': 1, 'produces': 1, 'waaah': 1, 'adorably': 1, 'testers': 2, 'balm': 1, 'lucca': 1, 'sway': 1, 'swanson': 1, 'duped': 1, 'bp': 1, 'sculptural': 1, 'bleachers': 1, 'homerun': 1, 'rand': 1, 'jesters': 1, 'defensive': 2, 'hoosiers': 2, 'oklahoma': 1, 'nadia': 1, 'cheerleaders': 1, 'kellen': 1, 'iu': 1, 'osu': 1, 'burly': 1, 'gangly': 1, 'hes': 1, 'timeshare': 1, 'samsung': 1, 'amendment': 1, 'dumps': 1, 'soylent': 1, 'gasket': 1, 'hectic': 1, 'fixture': 1, 'cruchy': 1, 'escargots': 1, 'mommakat': 1, 'coerce': 1, 'conniption': 1, 'analogy': 1, 'immersed': 2, 'camille': 1, 'mindset': 1, 'camile': 1, 'guerrero': 1, 'huera': 1, 'pamela': 1, 'sentiment': 1, 'tango': 1, 'saguro': 1, 'summa': 2, 'interacted': 1, 'pffft': 1, 'entrepreneurship': 1, 'inspirational': 1, 'investor': 1, 'iamtimhardy': 1, 'mount': 1, 'orchard': 1, 'collages': 1, 'rookie': 1, 'predict': 1, 'refunds': 2, 'subscriptions': 1, 'rockstar': 1, 'enuf': 1, 'cleaver': 1, 'willpower': 2, 'exchanges': 1, 'intro': 1, 'tyke': 1, 'carted': 1, 'leotards': 1, 'excelent': 1, 'selena': 1, 'fabulus': 1, 'rawk': 1, 'oooooooo': 1, 'involving': 2, 'awatukee': 1, 'depicting': 1, 'dragons': 1, 'bygone': 1, 'crystalized': 1, 'cheesteak': 1, 'thumbing': 1, 'fought': 1, 'bizzaro': 1, 'passions': 1, 'limitless': 1, 'stages': 1, 'continuous': 1, 'jousting': 1, 'artisans': 1, 'glassblowing': 1, 'leatherworking': 1, 'woodcarving': 1, 'blacksmithing': 1, 'candlemaking': 1, 'necklaces': 1, 'symbol': 2, 'astrological': 1, 'imprinted': 1, 'bronze': 1, 'dye': 3, 'clamp': 1, 'hoisted': 1, 'imprinting': 1, 'applicable': 1, 'captivates': 1, 'marzen': 1, 'sentence': 2, 'delosantos': 1, 'splitable': 1, 'liquidation': 2, 'theiiir': 1, 'diiid': 1, 'prospective': 1, 'afforadable': 1, 'detest': 1, 'concocted': 1, 'shiso': 1, 'kinki': 1, 'kooler': 1, 'biting': 1, 'toto': 1, 'waffling': 1, 'criticize': 1, 'researching': 1, 'shooter': 1, 'rod': 1, 'acres': 1, 'allowable': 1, 'ammo': 1, 'saltwater': 1, 'antibiotic': 1, 'hormonally': 1, 'ammonia': 1, 'proposal': 1, 'rangers': 1, 'enhancement': 1, 'shiu': 1, 'salumi': 2, 'marcona': 1, 'spreading': 1, 'nibbling': 1, 'entreés': 2, 'tortellis': 1, 'ewww': 2, 'wrkout': 1, 'godaddy': 2, 'spotlights': 2, 'tumescent': 1, 'manhood': 1, 'felling': 1, 'sighted': 1, 'rifle': 1, 'transfixed': 1, 'poachers': 1, 'tippy': 1, 'whit': 1, 'distraught': 1, 'wanton': 1, 'slaughter': 1, 'misogynist': 1, 'alien': 1, 'teat': 1, 'twiddled': 1, 'flinty': 1, 'yelpy': 1, 'inducing': 1, 'trigger': 1, 'technotard': 1, 'balances': 1, 'karmic': 1, 'callous': 1, 'gooped': 2, 'injure': 1, 'parrot': 1, 'slooooow': 1, 'upshot': 1, 'sorrentino': 2, 'injured': 1, 'infinity': 1, 'traded': 1, 'pllleeeeaaaassseeeeee': 1, 'neopolitana': 1, 'famoso': 1, 'frappuccino': 2, 'revolting': 1, 'scowl': 1, 'spiky': 1, 'slingers': 1, 'taipei': 1, 'ethnically': 1, 'fillng': 1, 'theodosopoulos': 3, 'plethoric': 1, 'conceptions': 1, 'impetus': 1, 'école': 1, 'lenôtre': 1, 'crackles': 1, 'yawning': 1, 'frangipane': 1, 'dominique': 1, 'eggy': 1, 'intrinsic': 1, 'proceeding': 1, 'misstep': 1, 'textural': 1, 'variance': 1, 'aromatics': 1, 'chalking': 1, 'napoleon': 3, 'subset': 1, 'withstanding': 1, 'tines': 1, 'smooshy': 1, 'mille': 1, 'feuille': 1, 'intertwined': 1, 'herme': 1, 'minut': 1, 'savoy': 1, 'genin': 1, 'paragraphs': 1, 'froo': 2, 'nugget': 1, 'reimburse': 1, 'crisper': 1, 'canola': 1, 'walet': 1, 'corset': 1, 'nosco': 1, 'jockeys': 1, 'eddy': 1, 'frap': 1, 'butterfat': 1, 'unannounced': 1, 'expediting': 1, 'camelbacks': 1, 'switchbacks': 1, 'tu': 1, 'traits': 1, 'vien': 1, 'coun': 1, 'strongest': 1, 'weakest': 1, 'unseat': 1, 'maxim': 1, 'hosin': 1, 'phuong': 1, 'dong': 1, 'canh': 1, 'chua': 1, 'metate': 2, 'amados': 1, 'openers': 1, 'compostable': 1, 'compost': 1, 'widdow': 1, 'intrusion': 1, 'rains': 1, 'tenants': 4, 'longevity': 1, 'tenancy': 1, 'rents': 1, 'equity': 2, 'utilities': 1, 'molar': 1, 'hoppins': 1, 'pacified': 1, 'actully': 1, 'loofah': 1, 'bravi': 1, 'preeminent': 1, 'pesce': 1, 'willio': 1, 'stix': 1, 'interludes': 1, 'looove': 1, 'outdone': 1, 'mattered': 1, 'misting': 1, 'freshie': 1, 'kimow': 1, 'amelia': 1, 'buckhead': 1, 'oconee': 1, 'bachelor': 1, 'gulch': 1, 'duds': 1, 'dalat': 2, 'bb': 1, 'giveing': 1, 'idem': 1, 'ethier': 1, 'bridesmaid': 1, 'solving': 1, 'blowdry': 1, 'recitals': 1, 'bostic': 1, 'similarity': 1, 'notified': 1, 'forearms': 2, 'casie': 1, 'neo': 1, 'jalpeno': 1, 'fascia': 1, 'ritas': 1, 'appletinis': 1, 'attacks': 1, 'ladylike': 1, 'texmex': 1, 'hunter': 1, 'duckling': 1, 'grandchildren': 1, 'lotta': 1, 'filtered': 3, 'sas': 1, 'wisps': 1, 'coffeemaker': 1, 'cushioning': 1, 'punchability': 1, 'marriotts': 1, 'hyatts': 1, 'chander': 1, 'breve': 1, 'hershey': 1, 'coagulated': 1, 'nozzle': 1, 'wand': 4, 'accumulated': 1, 'storefronts': 1, 'starry': 1, 'possessed': 1, 'attacted': 1, 'hosiptal': 3, 'manners': 2, 'brenda': 1, 'dazbog': 2, 'unstressed': 1, 'mourn': 1, 'mushiest': 1, 'voodoo': 1, 'bffs': 1, 'sprinklers': 1, 'balloon': 1, 'bridesmaids': 1, 'kwim': 1, 'omelete': 1, 'matted': 1, 'uncovered': 1, 'fritas': 1, 'steen': 1, 'vivant': 1, 'tankard': 1, 'sophistication': 1, 'rhythms': 1, 'indulges': 1, 'vips': 1, 'artiest': 1, 'tailgaters': 1, 'hassles': 1, 'generates': 1, 'champions': 1, 'coupe': 1, 'hesistant': 1, 'psychologically': 1, 'spiiiccyyyy': 1, 'booooo': 1, 'ahhhhh': 1, 'merits': 1, 'manzana': 1, 'aimlessly': 1, 'stormed': 1, 'tepanyaki': 1, 'judy': 2, 'mullet': 1, 'bows': 1, 'lmao': 1, 'rickie': 2, 'laurie': 1, 'ida': 1, 'packers': 1, 'des': 1, 'tartes': 1, 'minted': 1, 'pacing': 1, 'lambshank': 2, 'harissa': 1, 'ragout': 1, 'turnoff': 1, 'girlfirend': 1, 'everyhting': 1, 'thensome': 1, 'uuuuuugh': 1, 'benchmark': 1, 'petrified': 1, 'magners': 1, 'sniffster': 1, 'indebted': 1, 'bmws': 1, 'harold': 1, 'toad': 1, 'shimagamo': 1, 'suprise': 1, 'noisey': 1, 'hounds': 1, 'bulgolgi': 1, 'sniffed': 1, 'heighten': 1, 'korina': 1, 'newness': 1, 'subsidize': 1, 'burgerness': 1, 'partnerships': 1, 'accountable': 1, 'criminals': 1, 'hampton': 3, 'inns': 1, 'foremost': 1, 'insulation': 1, 'spiffying': 1, 'jerrys': 2, 'withheld': 1, 'pedregal': 1, 'mandala': 1, 'burdened': 1, 'angst': 1, 'stuft': 1, 'barney': 1, 'thompson': 1, 'overcharging': 1, 'tripadvisor': 2, 'nested': 1, 'oversaw': 1}\n"
          ]
        }
      ]
    },
    {
      "cell_type": "markdown",
      "source": [
        "Now, we have to write a mapping function that maps sentences to their indexes based on the vocabulary that we created.\n",
        "We alse define a reversed mapping function that maps a sequence of indexes to the correponding words."
      ],
      "metadata": {
        "id": "Vq4FTihjf2E_"
      }
    },
    {
      "cell_type": "code",
      "source": [
        "def sentence_encoder (sent, word2index, max_length=100):\n",
        "  sent = clean_sent(sent)\n",
        "  tokens = sent.split()[:max_length+1]\n",
        "  encoded_sent = []\n",
        "  for word in tokens:\n",
        "    if not (word in word2index):\n",
        "      encoded_sent.append(0) # 0 is the index for <UNK> tag\n",
        "    else:\n",
        "      encoded_sent.append(word2index[word])\n",
        "  return encoded_sent"
      ],
      "metadata": {
        "id": "6f_o8CcseoMY"
      },
      "execution_count": null,
      "outputs": []
    },
    {
      "cell_type": "code",
      "source": [
        "#lets see an example\n",
        "sent =\"Hello How are you ?\"\n",
        "sentence_encoder(sent, word2index)"
      ],
      "metadata": {
        "colab": {
          "base_uri": "https://localhost:8080/"
        },
        "id": "fXQkmLDFiRRF",
        "outputId": "6d0b94a6-c759-449a-aef5-0e9a52ab767b"
      },
      "execution_count": null,
      "outputs": [
        {
          "output_type": "execute_result",
          "data": {
            "text/plain": [
              "[2111, 135, 139, 191]"
            ]
          },
          "metadata": {},
          "execution_count": 26
        }
      ]
    },
    {
      "cell_type": "code",
      "source": [
        "def sentence_decoder(sent_encoded, index2word):\n",
        "  sent_decoded =[]\n",
        "  for index in sent_encoded:\n",
        "    sent_decoded.append(index2word[index])\n",
        "  return \" \".join(sent_decoded)"
      ],
      "metadata": {
        "id": "4lq6dSaCie3w"
      },
      "execution_count": null,
      "outputs": []
    },
    {
      "cell_type": "code",
      "source": [
        "#Let's see an example\n",
        "sent_encoded =[1105, 304, 94, 22]\n",
        "sentence_decoder(sent_encoded, index2word)"
      ],
      "metadata": {
        "colab": {
          "base_uri": "https://localhost:8080/",
          "height": 35
        },
        "id": "p6dJzXdfnmZ_",
        "outputId": "fc9a0105-6eb4-493e-8684-5bb993b1f81b"
      },
      "execution_count": null,
      "outputs": [
        {
          "output_type": "execute_result",
          "data": {
            "text/plain": [
              "'party tired this camelback'"
            ],
            "application/vnd.google.colaboratory.intrinsic+json": {
              "type": "string"
            }
          },
          "metadata": {},
          "execution_count": 28
        }
      ]
    },
    {
      "cell_type": "markdown",
      "source": [
        "# Creating Pytorch Data Set\n"
      ],
      "metadata": {
        "id": "3kf3o5KMpVxA"
      }
    },
    {
      "cell_type": "markdown",
      "source": [
        "Now, we have to create a pytoch data set and also the data loaders"
      ],
      "metadata": {
        "id": "_7ub2OlegyFs"
      }
    },
    {
      "cell_type": "code",
      "source": [
        "class SentimentDataSet(Dataset):\n",
        "  def __init__(self, df, word2index):\n",
        "    super(SentimentDataSet, self).__init__()\n",
        "    self.texts = df['clean_text']\n",
        "    self.labels = df['new_stars']\n",
        "    self.dic = word2index\n",
        "  def __len__(self):\n",
        "    return len(self.texts)\n",
        "  def __getitem__(self, index):\n",
        "    text = self.texts.iloc[index]\n",
        "    label = self.labels.iloc[index]\n",
        "    encoded_text = sentence_encoder(text, self.dic)\n",
        "    return torch.tensor(encoded_text, dtype=torch.long), torch.tensor(label, dtype=torch.long)"
      ],
      "metadata": {
        "id": "_eodkZdog-0U"
      },
      "execution_count": null,
      "outputs": []
    },
    {
      "cell_type": "code",
      "source": [
        "def collate_fn(batch):\n",
        "  texts=[]\n",
        "  labels =[]\n",
        "  for item in batch:\n",
        "    texts.append(item[0])\n",
        "    labels.append(item[1])\n",
        "  lens = [len(sent) for sent in texts]\n",
        "  batched_texts = pad_sequence(texts, padding_value=word2index['<PAD>'], batch_first=True)\n",
        "  return batched_texts, torch.tensor(labels, dtype=torch.long), lens"
      ],
      "metadata": {
        "id": "7lzYmXvUiQMp"
      },
      "execution_count": null,
      "outputs": []
    },
    {
      "cell_type": "code",
      "source": [
        "batch_size = 32"
      ],
      "metadata": {
        "id": "KgGaf9cPl_s8"
      },
      "execution_count": null,
      "outputs": []
    },
    {
      "cell_type": "code",
      "source": [
        "train_dataset = SentimentDataSet(df_train, word2index)\n",
        "test_dataset = SentimentDataSet(df_test, word2index)\n",
        "\n",
        "train_loader = DataLoader(train_dataset, batch_size=batch_size, shuffle=True, collate_fn=collate_fn)\n",
        "test_loader = DataLoader(test_dataset, batch_size=batch_size, shuffle=False, collate_fn=collate_fn)\n",
        "\n",
        "train_len = len(train_dataset)\n",
        "test_len = len(test_dataset)\n",
        "\n",
        "train_eval_loader = DataLoader(train_dataset, batch_size = train_len, shuffle=False, collate_fn=collate_fn )\n",
        "test_eval_loader = DataLoader(test_dataset, batch_size = test_len, shuffle=False, collate_fn=collate_fn )"
      ],
      "metadata": {
        "id": "EwfQ4nZomFzD"
      },
      "execution_count": null,
      "outputs": []
    },
    {
      "cell_type": "code",
      "source": [
        "for texts, labels, lens in train_loader:\n",
        "  print(texts.shape)\n",
        "  print(labels.shape)\n",
        "  print(lens)\n",
        "  break"
      ],
      "metadata": {
        "colab": {
          "base_uri": "https://localhost:8080/"
        },
        "id": "-k2M3r3Amqcv",
        "outputId": "a1c746e7-0eda-453f-e998-edcb12489a04"
      },
      "execution_count": null,
      "outputs": [
        {
          "output_type": "stream",
          "name": "stdout",
          "text": [
            "torch.Size([32, 101])\n",
            "torch.Size([32])\n",
            "[16, 34, 101, 35, 84, 101, 101, 101, 19, 89, 101, 89, 66, 101, 101, 101, 101, 101, 101, 101, 101, 7, 101, 101, 62, 101, 52, 101, 101, 101, 28, 101]\n"
          ]
        }
      ]
    },
    {
      "cell_type": "markdown",
      "source": [
        "# Weighting Module"
      ],
      "metadata": {
        "id": "Ei5jirqAGYW-"
      }
    },
    {
      "cell_type": "code",
      "source": [
        "class Weighting(nn.Module):\n",
        "  def __init__(self, input_dim, hidden_dim, output_dim):\n",
        "    super(Weighting, self).__init__()\n",
        "    self.network = nn.Sequential(nn.Linear(input_dim, hidden_dim),\n",
        "                                 nn.ReLU(),\n",
        "                                 nn.Linear(hidden_dim, hidden_dim),\n",
        "                                 nn.ReLU(),\n",
        "                                 nn.Linear(hidden_dim, output_dim))\n",
        "  def forward(self, x):\n",
        "\n",
        "    x = self.network(x)\n",
        "    x = torch.sigmoid(x)\n",
        "    x = F.normalize(x, p=1, dim=0)\n",
        "\n",
        "    return x"
      ],
      "metadata": {
        "id": "RTU1jLzfMHkq"
      },
      "execution_count": null,
      "outputs": []
    },
    {
      "cell_type": "markdown",
      "source": [
        "#The RNN Network"
      ],
      "metadata": {
        "id": "NKqbYfrL_4gn"
      }
    },
    {
      "cell_type": "code",
      "source": [
        "device = torch.device('cuda' if torch.cuda.is_available() else 'cpu')"
      ],
      "metadata": {
        "id": "jwF8j0hDEj2e"
      },
      "execution_count": null,
      "outputs": []
    },
    {
      "cell_type": "code",
      "source": [
        "class RNNClassifier(nn.Module):\n",
        "  def __init__(self, n_vocabs, embed_dim, hidden_dim, n_classes, n_layers, bidirectional=True):\n",
        "    super(RNNClassifier, self).__init__()\n",
        "    self.Embedding = nn.Embedding(n_vocabs, embed_dim)\n",
        "    self.rnn = nn.LSTM(embed_dim, hidden_dim, batch_first=True,\n",
        "                       bidirectional=bidirectional,num_layers=n_layers,\n",
        "                       dropout = 0.3)\n",
        "\n",
        "    self.fc = nn.Linear(2*hidden_dim if bidirectional else hidden_dim, n_classes)\n",
        "    self.batchnorm = nn.BatchNorm1d(2*hidden_dim if bidirectional else hidden_dim)\n",
        "    self.relu = nn.ReLU()\n",
        "    self.drop = nn.Dropout(0.5)\n",
        "\n",
        "  def forward(self, seq, lens):\n",
        "    x = self.Embedding(seq)\n",
        "    x= self.drop(x)\n",
        "    rnn_out, (rnn_h, rnn_c) = self.rnn(x)\n",
        "    x_h = torch.cat([rnn_out[i,len-1,:].unsqueeze(0) for i, len in enumerate(lens)], 0)\n",
        "\n",
        "\n",
        "    x = self.batchnorm(x_h)\n",
        "    x = self.relu(x)\n",
        "    x= self.drop(x)\n",
        "\n",
        "    x = self.fc(x)\n",
        "\n",
        "    return F.log_softmax(x, dim=-1), x_h"
      ],
      "metadata": {
        "id": "oMEGWcOuAIMa"
      },
      "execution_count": null,
      "outputs": []
    },
    {
      "cell_type": "code",
      "source": [
        "def encode_onehot_torch(num_classes, labels):\n",
        "    y = torch.eye(num_classes).to(device)\n",
        "    return y[labels]"
      ],
      "metadata": {
        "id": "3rElfh4vZNlo"
      },
      "execution_count": null,
      "outputs": []
    },
    {
      "cell_type": "code",
      "source": [
        "def loss_function_classifier(outputs, labels, weights, num_classes):\n",
        "  onehot_labels = encode_onehot_torch(num_classes, labels)\n",
        "  return torch.sum(- weights * (onehot_labels.float() * outputs).sum(1), -1)"
      ],
      "metadata": {
        "id": "GDSwStvnaDJj"
      },
      "execution_count": null,
      "outputs": []
    },
    {
      "cell_type": "code",
      "source": [
        "def loss_function_weights(outputs, labels, weights, num_classes, gamma):\n",
        "  onehot_labels = encode_onehot_torch(num_classes, labels)\n",
        "  return torch.sum(- weights * (onehot_labels.float() * outputs).sum(1), -1) - gamma*torch.sum(weights*torch.log(weights+1e-20))"
      ],
      "metadata": {
        "id": "xvWFHXbVkVtt"
      },
      "execution_count": null,
      "outputs": []
    },
    {
      "cell_type": "code",
      "source": [
        "#Initializations\n",
        "n_vocabs = len(word2index)\n",
        "embed_dim = 16\n",
        "hidden_dim = 32\n",
        "n_classes = 2\n",
        "n_layers = 1\n",
        "bidirectional=False\n",
        "model_classifier = RNNClassifier(n_vocabs, embed_dim, hidden_dim, n_classes, n_layers, bidirectional)\n",
        "model_classifier = model_classifier.to(device)"
      ],
      "metadata": {
        "id": "Ga-9AJvtECaY",
        "colab": {
          "base_uri": "https://localhost:8080/"
        },
        "outputId": "c3c6059c-edd2-4713-bb66-14a2b78e58ab"
      },
      "execution_count": null,
      "outputs": [
        {
          "output_type": "stream",
          "name": "stderr",
          "text": [
            "/usr/local/lib/python3.10/dist-packages/torch/nn/modules/rnn.py:82: UserWarning: dropout option adds dropout after all but last recurrent layer, so non-zero dropout expects num_layers greater than 1, but got dropout=0.3 and num_layers=1\n",
            "  warnings.warn(\"dropout option adds dropout after all but last \"\n"
          ]
        }
      ]
    },
    {
      "cell_type": "code",
      "source": [
        "w_inputdim = 2*hidden_dim if bidirectional else hidden_dim\n",
        "w_hiddendim=32\n",
        "weight_lr = 4e-3\n",
        "model_weights = []\n",
        "weight_optimizers=[]\n",
        "for i in range(n_classes):\n",
        "  model_weights.append(Weighting(w_inputdim, w_hiddendim, 1).to(device))\n",
        "  weight_optimizers.append(torch.optim.Adam(model_weights[-1].parameters(), lr=weight_lr, ))"
      ],
      "metadata": {
        "id": "F3rYlBY0gpaQ"
      },
      "execution_count": null,
      "outputs": []
    },
    {
      "cell_type": "code",
      "source": [
        "print(\"number of model parameters:{}\".format(sum(p.numel() for p in model_classifier.parameters() if p.requires_grad)))"
      ],
      "metadata": {
        "id": "Q3v1r6LzSk7q",
        "colab": {
          "base_uri": "https://localhost:8080/"
        },
        "outputId": "90dd5120-a5dd-4ffb-9f6d-86fea6fb2b28"
      },
      "execution_count": null,
      "outputs": [
        {
          "output_type": "stream",
          "name": "stdout",
          "text": [
            "number of model parameters:144194\n"
          ]
        }
      ]
    },
    {
      "cell_type": "markdown",
      "source": [
        "# Define Loss Function and Optimizer for baseline model 1"
      ],
      "metadata": {
        "id": "1HsCzMq6FPLx"
      }
    },
    {
      "cell_type": "code",
      "source": [
        "classifier_lr = 3e-3\n",
        "classifier_optimizer = torch.optim.Adam(model_classifier.parameters(), lr=classifier_lr, )"
      ],
      "metadata": {
        "id": "YwGNBC0zFE40"
      },
      "execution_count": null,
      "outputs": []
    },
    {
      "cell_type": "markdown",
      "source": [
        "# The Training and Test Loops for baseline model 1"
      ],
      "metadata": {
        "id": "wXp7CwvfBljw"
      }
    },
    {
      "cell_type": "code",
      "source": [
        "from tqdm import tqdm\n",
        "epoch_classifier= 5\n",
        "epoch_weights = 3\n",
        "gamma=1.0"
      ],
      "metadata": {
        "id": "a_4aLNwmB7aR"
      },
      "execution_count": null,
      "outputs": []
    },
    {
      "cell_type": "code",
      "source": [
        "def zero_grad_both():\n",
        "  classifier_optimizer.zero_grad()\n",
        "  for opt in weight_optimizers:\n",
        "    opt.zero_grad()"
      ],
      "metadata": {
        "id": "1QqZq-oXhCxj"
      },
      "execution_count": null,
      "outputs": []
    },
    {
      "cell_type": "code",
      "source": [
        "def run_classifier(texts, lens):\n",
        "  output_probs, embds = model_classifier(texts, lens)\n",
        "  return output_probs, embds"
      ],
      "metadata": {
        "id": "uBiBuEBXfryG"
      },
      "execution_count": null,
      "outputs": []
    },
    {
      "cell_type": "code",
      "source": [
        "def run_weights_generator(embds, labels):\n",
        "  batch_size = embds.shape[0]\n",
        "  max_label = int(labels.max().item() + 1)\n",
        "  weights = torch.empty(batch_size).to(device)\n",
        "  for i in range(max_label):\n",
        "    labels_indices = (labels == i).nonzero().squeeze()\n",
        "    if labels_indices is not None:\n",
        "      sub_embds = embds[labels_indices,:]\n",
        "      weight_ = model_weights[i](sub_embds)\n",
        "      weights[labels_indices] = weight_.squeeze()\n",
        "  return weights"
      ],
      "metadata": {
        "id": "AjOLlBnZhjoK"
      },
      "execution_count": null,
      "outputs": []
    },
    {
      "cell_type": "code",
      "source": [
        "def train_one_epoch():\n",
        "  model_classifier.train()\n",
        "  for model in model_weights:\n",
        "    model.train()\n",
        "\n",
        "  for epoch_clf in range(epoch_classifier):\n",
        "    print(\"Epoch {}/{} of classifier training\".format(epoch_clf, epoch_classifier))\n",
        "    loss_clfs = []\n",
        "    acc_clfs = []\n",
        "    for texts, labels, lens in tqdm(train_loader):\n",
        "      texts, labels = texts.to(device), labels.to(device)\n",
        "      zero_grad_both()\n",
        "      output_probs, embds = run_classifier(texts, lens)\n",
        "      weights1 = run_weights_generator(embds, labels)\n",
        "      loss_clf = loss_function_classifier(output_probs, labels, weights1, n_classes)\n",
        "      loss_clf.backward()\n",
        "      loss_clfs.append(loss_clf.item())\n",
        "      preds = torch.argmax(output_probs,dim=-1)\n",
        "      acc_clfs.append(sum(preds==labels)/len(labels))\n",
        "      classifier_optimizer.step()\n",
        "    loss_clfs_avg = sum(loss_clfs)/len(loss_clfs)\n",
        "    acc_clfs_avg = sum(acc_clfs)/len(acc_clfs)\n",
        "    print(\"classifier loss:{:.3f}, classifier acc:{:.3f}\".format(loss_clfs_avg,acc_clfs_avg ))\n",
        "  for epoch_w in range(epoch_weights):\n",
        "    print(\"Epoch {}/{} of Weight generator training\".format(epoch_w, epoch_weights))\n",
        "    loss_Ws =[]\n",
        "    acc_Ws =[]\n",
        "    for texts, labels, lens in tqdm(train_loader):\n",
        "      texts, labels = texts.to(device), labels.to(device)\n",
        "      zero_grad_both()\n",
        "      output_probs, embds = run_classifier(texts, lens)\n",
        "      weights2 = run_weights_generator(embds, labels)\n",
        "      loss_W = -loss_function_weights(output_probs, labels, weights2, n_classes, gamma)\n",
        "      loss_Ws.append(loss_W.item())\n",
        "      preds = torch.argmax(output_probs, dim=-1)\n",
        "      acc_Ws.append(sum(preds==labels)/len(labels))\n",
        "      loss_W.backward()\n",
        "      for opt in weight_optimizers:\n",
        "        opt.step()\n",
        "    loss_W_avg = sum(loss_Ws)/len(loss_Ws)\n",
        "    acc_W_avg = sum(acc_Ws)/len(acc_Ws)\n",
        "\n",
        "    print(\"weight generator loss:{:.3f}, classifier acc:{:.3f}\".format(loss_W_avg,acc_W_avg ))\n",
        "\n",
        "  return"
      ],
      "metadata": {
        "id": "aTsxA7b2dd6l"
      },
      "execution_count": null,
      "outputs": []
    },
    {
      "cell_type": "code",
      "source": [
        "def class_f1(output, labels, type='micro', pos_label=None):\n",
        "    # preds = output.max(1)[1].type_as(labels)\n",
        "    preds = torch.argmax(output, -1)\n",
        "    if pos_label is None:\n",
        "        return f1_score(labels.cpu().numpy(), preds.cpu().numpy(), average=type)\n",
        "    else:\n",
        "        return f1_score(labels.cpu().numpy(), preds.cpu(), average=type, pos_label=pos_label)"
      ],
      "metadata": {
        "id": "L6LpS_uJWBKh"
      },
      "execution_count": null,
      "outputs": []
    },
    {
      "cell_type": "code",
      "source": [
        "def evaluate_train():\n",
        "  model_classifier.eval()\n",
        "  print('evaluating train')\n",
        "  with torch.inference_mode():\n",
        "    for texts, labels, lens in tqdm(train_eval_loader):\n",
        "      texts, labels = texts.to(device), labels.to(device)\n",
        "      output_probs, _ = run_classifier(texts, lens)\n",
        "      loss = F.nll_loss(output_probs, labels).item()\n",
        "      preds = torch.argmax(output_probs, dim=-1)\n",
        "      acc = (sum(preds==labels) / len(labels))\n",
        "      f1_score = class_f1(output_probs, labels, type='macro')\n",
        "      return loss, acc, f1_score"
      ],
      "metadata": {
        "id": "ePbaqAhtZ7nR"
      },
      "execution_count": null,
      "outputs": []
    },
    {
      "cell_type": "code",
      "source": [
        "def evaluate_test():\n",
        "  model_classifier.eval()\n",
        "  loss = 0\n",
        "  acc = 0\n",
        "  print(\"evaluating test\")\n",
        "  with torch.inference_mode():\n",
        "    for texts, labels, lens in tqdm(test_eval_loader):\n",
        "      texts, labels = texts.to(device), labels.to(device)\n",
        "      output_probs, _ = run_classifier(texts, lens)\n",
        "      loss = loss + F.nll_loss(output_probs, labels).item()\n",
        "      preds = torch.argmax(output_probs, dim=-1)\n",
        "      acc = acc + (sum(preds==labels) / len(labels))\n",
        "      f1_score = class_f1(output_probs, labels, type='macro')\n",
        "      return loss, acc, f1_score"
      ],
      "metadata": {
        "id": "XZsCyqO1ovbg"
      },
      "execution_count": null,
      "outputs": []
    },
    {
      "cell_type": "code",
      "source": [
        "epochs = 20\n",
        "for epoch in range(epochs):\n",
        "    train_one_epoch()\n",
        "    train_loss, train_acc, train_f1_score = evaluate_train()\n",
        "    test_loss, test_acc, test_f1_score = evaluate_test()\n",
        "    print(\"Major Results for Epoch{}/{}\".format(epoch, epochs))\n",
        "    print(\"Train loss:{:.3f}, Train acc:{:.3f}, Train f1_score:{:.3f}\".format(train_loss, train_acc, train_f1_score))\n",
        "    print(\"Test loss:{:.3f}, Test acc: {:.3f}, Test f1_score:{:.3f}\".format(test_loss, test_acc, test_f1_score))\n",
        "    print(\"*********************************************\")\n",
        "    print(\"*********************************************\")\n",
        "    print(\"*********************************************\")"
      ],
      "metadata": {
        "id": "YgRC7qlPjqzh"
      },
      "execution_count": null,
      "outputs": []
    },
    {
      "cell_type": "code",
      "source": [
        "complete_loader = DataLoader(test_dataset, batch_size = len(test_dataset), collate_fn=collate_fn)\n",
        "target_names = ['Negative', 'Positive']\n",
        "for texts, labels, lens in complete_loader:\n",
        "  model_classifier.eval()\n",
        "  texts, labels = texts.to(device), labels.to(device)\n",
        "  logits, _ = model_classifier(texts, lens)\n",
        "  preds = torch.argmax(logits, dim=-1)\n",
        "labels, preds = labels.cpu().numpy(), preds.cpu().numpy()\n",
        "print(classification_report(y_true=labels, y_pred=preds, target_names=target_names))"
      ],
      "metadata": {
        "id": "hIxX8aIzsowW"
      },
      "execution_count": null,
      "outputs": []
    },
    {
      "cell_type": "markdown",
      "source": [
        "# Define Loss Function and Optimizer for baseline model 2"
      ],
      "metadata": {
        "id": "hONjFRfq59Jo"
      }
    },
    {
      "cell_type": "code",
      "source": [
        "class_weights = torch.tensor([3, 1.5 ]).to(device)\n",
        "ce_loss = torch.nn.CrossEntropyLoss(weight= class_weights)\n",
        "optimizer2 = torch.optim.Adam(model_classifier.parameters(), lr=classifier_lr, )"
      ],
      "metadata": {
        "id": "FhewnrXYGW7y"
      },
      "execution_count": null,
      "outputs": []
    },
    {
      "cell_type": "markdown",
      "source": [
        "# The Training and Test Loops for baseline model 2"
      ],
      "metadata": {
        "id": "KJAbKG0m6F_x"
      }
    },
    {
      "cell_type": "code",
      "source": [
        "def train_one_epoch(model, data_loader):\n",
        "  model.train()\n",
        "\n",
        "  batch_loss = []\n",
        "  batch_accuracy =[]\n",
        "  for texts, labels, lens in tqdm(data_loader):\n",
        "    optimizer2.zero_grad()\n",
        "    texts, labels = texts.to(device), labels.to(device)\n",
        "    logits, _ = model(texts, lens)\n",
        "    loss = ce_loss(logits, labels)\n",
        "    batch_loss.append(loss)\n",
        "    preds = torch.argmax(logits, dim=-1)\n",
        "    batch_accuracy.append(sum(preds==labels)/len(labels))\n",
        "    loss.backward()\n",
        "    optimizer2.step()\n",
        "  loss_avg = sum(batch_loss) / len(batch_loss)\n",
        "  accuracy_avg = sum(batch_accuracy) / len(batch_accuracy)\n",
        "  return loss_avg, accuracy_avg\n",
        "\n"
      ],
      "metadata": {
        "id": "DXTPzQFoBqh-"
      },
      "execution_count": null,
      "outputs": []
    },
    {
      "cell_type": "code",
      "source": [
        "def test_one_epoch(model, data_loader):\n",
        "  model.eval()\n",
        "\n",
        "  batch_loss = []\n",
        "  batch_accuracy = []\n",
        "  with torch.no_grad():\n",
        "    for texts, labels, lens in tqdm(data_loader):\n",
        "      texts, labels = texts.to(device), labels.to(device)\n",
        "      logits, _ = model(texts, lens)\n",
        "\n",
        "      loss = ce_loss(logits, labels)\n",
        "      batch_loss.append(loss)\n",
        "      preds = torch.argmax(logits, dim=-1)\n",
        "      batch_accuracy.append(sum(preds==labels)/len(labels))\n",
        "    loss_avg = sum(batch_loss) / len(batch_loss)\n",
        "    accuracy_avg = sum(batch_accuracy) / len(batch_accuracy)\n",
        "  return loss_avg, accuracy_avg"
      ],
      "metadata": {
        "id": "qt5_jKEjErXI"
      },
      "execution_count": null,
      "outputs": []
    },
    {
      "cell_type": "code",
      "source": [
        "model2 = RNNClassifier(n_vocabs, embed_dim, hidden_dim, n_classes, n_layers, bidirectional)\n",
        "model2 = model2.to(device)"
      ],
      "metadata": {
        "colab": {
          "base_uri": "https://localhost:8080/"
        },
        "id": "-H1uS4PvGMuw",
        "outputId": "8f1a29d0-e832-46b3-ff33-2c911e649ec2"
      },
      "execution_count": null,
      "outputs": [
        {
          "output_type": "stream",
          "name": "stderr",
          "text": [
            "/usr/local/lib/python3.10/dist-packages/torch/nn/modules/rnn.py:82: UserWarning: dropout option adds dropout after all but last recurrent layer, so non-zero dropout expects num_layers greater than 1, but got dropout=0.3 and num_layers=1\n",
            "  warnings.warn(\"dropout option adds dropout after all but last \"\n"
          ]
        }
      ]
    },
    {
      "cell_type": "code",
      "source": [
        "epochs = 40\n",
        "best_loss= 100\n",
        "patience = 5\n",
        "n_violated=0\n",
        "for epoch in range(epochs):\n",
        "  train_loss, train_acc = train_one_epoch(model2, train_loader)\n",
        "  test_loss, test_acc = test_one_epoch(model2, test_loader)\n",
        "  if test_loss < best_loss:\n",
        "    best_loss = test_loss\n",
        "    n_violated =0\n",
        "  else:\n",
        "    n_violated +=1\n",
        "  print(\"Results for Epoch:{}\".format(epoch))\n",
        "  print(\"Train Loss:{:.3f}, Train Accuracy:{:.3f}\".format(train_loss, train_acc))\n",
        "  print(\"Test Loss:{:.3f}, Test Accuracy:{:.3f}\".format(test_loss, test_acc))\n",
        "  if n_violated > patience:\n",
        "    break"
      ],
      "metadata": {
        "colab": {
          "base_uri": "https://localhost:8080/"
        },
        "id": "JsFEFqfIF8zd",
        "outputId": "6a07a4cb-1e40-42a5-b296-1188fb333f69"
      },
      "execution_count": null,
      "outputs": [
        {
          "output_type": "stream",
          "name": "stderr",
          "text": [
            "100%|██████████| 219/219 [00:10<00:00, 21.24it/s]\n",
            "100%|██████████| 10/10 [00:00<00:00, 112.30it/s]\n"
          ]
        },
        {
          "output_type": "stream",
          "name": "stdout",
          "text": [
            "Results for Epoch:0\n",
            "Train Loss:0.687, Train Accuracy:0.639\n",
            "Test Loss:0.691, Test Accuracy:0.584\n"
          ]
        },
        {
          "output_type": "stream",
          "name": "stderr",
          "text": [
            "100%|██████████| 219/219 [00:08<00:00, 27.02it/s]\n",
            "100%|██████████| 10/10 [00:00<00:00, 107.24it/s]\n"
          ]
        },
        {
          "output_type": "stream",
          "name": "stdout",
          "text": [
            "Results for Epoch:1\n",
            "Train Loss:0.698, Train Accuracy:0.633\n",
            "Test Loss:0.692, Test Accuracy:0.590\n"
          ]
        },
        {
          "output_type": "stream",
          "name": "stderr",
          "text": [
            "100%|██████████| 219/219 [00:09<00:00, 23.49it/s]\n",
            "100%|██████████| 10/10 [00:00<00:00, 118.47it/s]\n"
          ]
        },
        {
          "output_type": "stream",
          "name": "stdout",
          "text": [
            "Results for Epoch:2\n",
            "Train Loss:0.690, Train Accuracy:0.635\n",
            "Test Loss:0.690, Test Accuracy:0.582\n"
          ]
        },
        {
          "output_type": "stream",
          "name": "stderr",
          "text": [
            "100%|██████████| 219/219 [00:09<00:00, 23.95it/s]\n",
            "100%|██████████| 10/10 [00:00<00:00, 123.69it/s]\n"
          ]
        },
        {
          "output_type": "stream",
          "name": "stdout",
          "text": [
            "Results for Epoch:3\n",
            "Train Loss:0.690, Train Accuracy:0.635\n",
            "Test Loss:0.691, Test Accuracy:0.577\n"
          ]
        },
        {
          "output_type": "stream",
          "name": "stderr",
          "text": [
            "100%|██████████| 219/219 [00:08<00:00, 24.75it/s]\n",
            "100%|██████████| 10/10 [00:00<00:00, 63.91it/s]\n"
          ]
        },
        {
          "output_type": "stream",
          "name": "stdout",
          "text": [
            "Results for Epoch:4\n",
            "Train Loss:0.699, Train Accuracy:0.629\n",
            "Test Loss:0.692, Test Accuracy:0.580\n"
          ]
        },
        {
          "output_type": "stream",
          "name": "stderr",
          "text": [
            "100%|██████████| 219/219 [00:07<00:00, 28.16it/s]\n",
            "100%|██████████| 10/10 [00:00<00:00, 104.60it/s]\n"
          ]
        },
        {
          "output_type": "stream",
          "name": "stdout",
          "text": [
            "Results for Epoch:5\n",
            "Train Loss:0.689, Train Accuracy:0.646\n",
            "Test Loss:0.692, Test Accuracy:0.579\n"
          ]
        },
        {
          "output_type": "stream",
          "name": "stderr",
          "text": [
            "100%|██████████| 219/219 [00:09<00:00, 23.90it/s]\n",
            "100%|██████████| 10/10 [00:00<00:00, 100.80it/s]\n"
          ]
        },
        {
          "output_type": "stream",
          "name": "stdout",
          "text": [
            "Results for Epoch:6\n",
            "Train Loss:0.686, Train Accuracy:0.643\n",
            "Test Loss:0.690, Test Accuracy:0.577\n"
          ]
        },
        {
          "output_type": "stream",
          "name": "stderr",
          "text": [
            "100%|██████████| 219/219 [00:09<00:00, 22.59it/s]\n",
            "100%|██████████| 10/10 [00:00<00:00, 117.25it/s]\n"
          ]
        },
        {
          "output_type": "stream",
          "name": "stdout",
          "text": [
            "Results for Epoch:7\n",
            "Train Loss:0.695, Train Accuracy:0.641\n",
            "Test Loss:0.689, Test Accuracy:0.582\n"
          ]
        },
        {
          "output_type": "stream",
          "name": "stderr",
          "text": [
            "100%|██████████| 219/219 [00:08<00:00, 25.36it/s]\n",
            "100%|██████████| 10/10 [00:00<00:00, 89.18it/s]\n"
          ]
        },
        {
          "output_type": "stream",
          "name": "stdout",
          "text": [
            "Results for Epoch:8\n",
            "Train Loss:0.690, Train Accuracy:0.640\n",
            "Test Loss:0.691, Test Accuracy:0.582\n"
          ]
        },
        {
          "output_type": "stream",
          "name": "stderr",
          "text": [
            "100%|██████████| 219/219 [00:09<00:00, 23.59it/s]\n",
            "100%|██████████| 10/10 [00:00<00:00, 91.62it/s]\n"
          ]
        },
        {
          "output_type": "stream",
          "name": "stdout",
          "text": [
            "Results for Epoch:9\n",
            "Train Loss:0.692, Train Accuracy:0.634\n",
            "Test Loss:0.693, Test Accuracy:0.574\n"
          ]
        },
        {
          "output_type": "stream",
          "name": "stderr",
          "text": [
            "100%|██████████| 219/219 [00:09<00:00, 23.33it/s]\n",
            "100%|██████████| 10/10 [00:00<00:00, 88.73it/s]\n"
          ]
        },
        {
          "output_type": "stream",
          "name": "stdout",
          "text": [
            "Results for Epoch:10\n",
            "Train Loss:0.685, Train Accuracy:0.647\n",
            "Test Loss:0.689, Test Accuracy:0.576\n"
          ]
        },
        {
          "output_type": "stream",
          "name": "stderr",
          "text": [
            "100%|██████████| 219/219 [00:09<00:00, 23.85it/s]\n",
            "100%|██████████| 10/10 [00:00<00:00, 89.00it/s]\n"
          ]
        },
        {
          "output_type": "stream",
          "name": "stdout",
          "text": [
            "Results for Epoch:11\n",
            "Train Loss:0.691, Train Accuracy:0.639\n",
            "Test Loss:0.690, Test Accuracy:0.579\n"
          ]
        },
        {
          "output_type": "stream",
          "name": "stderr",
          "text": [
            "100%|██████████| 219/219 [00:07<00:00, 28.49it/s]\n",
            "100%|██████████| 10/10 [00:00<00:00, 125.86it/s]\n"
          ]
        },
        {
          "output_type": "stream",
          "name": "stdout",
          "text": [
            "Results for Epoch:12\n",
            "Train Loss:0.697, Train Accuracy:0.633\n",
            "Test Loss:0.691, Test Accuracy:0.594\n"
          ]
        },
        {
          "output_type": "stream",
          "name": "stderr",
          "text": [
            "100%|██████████| 219/219 [00:08<00:00, 24.91it/s]\n",
            "100%|██████████| 10/10 [00:00<00:00, 102.99it/s]\n"
          ]
        },
        {
          "output_type": "stream",
          "name": "stdout",
          "text": [
            "Results for Epoch:13\n",
            "Train Loss:0.690, Train Accuracy:0.640\n",
            "Test Loss:0.692, Test Accuracy:0.579\n"
          ]
        },
        {
          "output_type": "stream",
          "name": "stderr",
          "text": [
            "100%|██████████| 219/219 [00:09<00:00, 23.07it/s]\n",
            "100%|██████████| 10/10 [00:00<00:00, 121.24it/s]\n"
          ]
        },
        {
          "output_type": "stream",
          "name": "stdout",
          "text": [
            "Results for Epoch:14\n",
            "Train Loss:0.695, Train Accuracy:0.637\n",
            "Test Loss:0.693, Test Accuracy:0.573\n"
          ]
        },
        {
          "output_type": "stream",
          "name": "stderr",
          "text": [
            "100%|██████████| 219/219 [00:08<00:00, 26.82it/s]\n",
            "100%|██████████| 10/10 [00:00<00:00, 75.04it/s]\n"
          ]
        },
        {
          "output_type": "stream",
          "name": "stdout",
          "text": [
            "Results for Epoch:15\n",
            "Train Loss:0.696, Train Accuracy:0.634\n",
            "Test Loss:0.691, Test Accuracy:0.589\n"
          ]
        },
        {
          "output_type": "stream",
          "name": "stderr",
          "text": [
            "100%|██████████| 219/219 [00:09<00:00, 23.59it/s]\n",
            "100%|██████████| 10/10 [00:00<00:00, 87.93it/s]"
          ]
        },
        {
          "output_type": "stream",
          "name": "stdout",
          "text": [
            "Results for Epoch:16\n",
            "Train Loss:0.689, Train Accuracy:0.640\n",
            "Test Loss:0.690, Test Accuracy:0.576\n"
          ]
        },
        {
          "output_type": "stream",
          "name": "stderr",
          "text": [
            "\n"
          ]
        }
      ]
    },
    {
      "cell_type": "code",
      "source": [
        "complete_loader = DataLoader(test_dataset, batch_size = len(test_dataset), collate_fn=collate_fn)\n",
        "target_names = ['Negative', 'Positive']\n",
        "for texts, labels, lens in complete_loader:\n",
        "  model2.eval()\n",
        "  texts, labels = texts.to(device), labels.to(device)\n",
        "  logits, _ = model2(texts, lens)\n",
        "  preds = torch.argmax(logits, dim=-1)\n",
        "labels, preds = labels.cpu().numpy(), preds.cpu().numpy()\n",
        "print(classification_report(y_true=labels, y_pred=preds, target_names=target_names))"
      ],
      "metadata": {
        "colab": {
          "base_uri": "https://localhost:8080/"
        },
        "id": "CrDklUfKfPEB",
        "outputId": "5d82ad4b-6f34-4124-a4e4-3f9efe90c996"
      },
      "execution_count": null,
      "outputs": [
        {
          "output_type": "stream",
          "name": "stdout",
          "text": [
            "              precision    recall  f1-score   support\n",
            "\n",
            "    Negative       0.30      0.14      0.19       100\n",
            "    Positive       0.66      0.83      0.74       200\n",
            "\n",
            "    accuracy                           0.60       300\n",
            "   macro avg       0.48      0.49      0.46       300\n",
            "weighted avg       0.54      0.60      0.56       300\n",
            "\n"
          ]
        }
      ]
    },
    {
      "cell_type": "code",
      "source": [
        "complete_loader = DataLoader(train_dataset, batch_size = len(train_dataset), collate_fn=collate_fn)\n",
        "target_names = ['Negative', 'Positive']\n",
        "for texts, labels, lens in complete_loader:\n",
        "  model2.eval()\n",
        "  texts, labels = texts.to(device), labels.to(device)\n",
        "  logits, _ = model2(texts, lens)\n",
        "  preds = torch.argmax(logits, dim=-1)\n",
        "labels, preds = labels.cpu().numpy(), preds.cpu().numpy()\n",
        "print(classification_report(y_true=labels, y_pred=preds, target_names=target_names))"
      ],
      "metadata": {
        "colab": {
          "base_uri": "https://localhost:8080/"
        },
        "id": "Fbikr7lP5ygU",
        "outputId": "6200e132-94f8-452f-a9b5-6237dcf0cf0d"
      },
      "execution_count": null,
      "outputs": [
        {
          "output_type": "stream",
          "name": "stdout",
          "text": [
            "              precision    recall  f1-score   support\n",
            "\n",
            "    Negative       0.15      0.10      0.12      1162\n",
            "    Positive       0.83      0.88      0.86      5838\n",
            "\n",
            "    accuracy                           0.75      7000\n",
            "   macro avg       0.49      0.49      0.49      7000\n",
            "weighted avg       0.72      0.75      0.73      7000\n",
            "\n"
          ]
        }
      ]
    }
  ]
}