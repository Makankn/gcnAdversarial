{
  "cells": [
    {
      "cell_type": "markdown",
      "metadata": {
        "id": "N-FbQmRscUY3"
      },
      "source": [
        "# DataSet Import and Analysis"
      ]
    },
    {
      "cell_type": "markdown",
      "metadata": {
        "id": "PBa08Ceicblj"
      },
      "source": [
        "In this notebook, we are going to train an RNN for the task of sentiment analysis. Our dataset is the Yelp review data set. Let's download this data set and analyze it."
      ]
    },
    {
      "cell_type": "code",
      "execution_count": 1,
      "metadata": {
        "id": "T5wnjA0130zn",
        "colab": {
          "base_uri": "https://localhost:8080/"
        },
        "outputId": "deab0d36-5442-4b17-c10e-bce509c9fe07"
      },
      "outputs": [
        {
          "output_type": "stream",
          "name": "stdout",
          "text": [
            "Collecting contractions\n",
            "  Downloading contractions-0.1.73-py2.py3-none-any.whl (8.7 kB)\n",
            "Collecting textsearch>=0.0.21 (from contractions)\n",
            "  Downloading textsearch-0.0.24-py2.py3-none-any.whl (7.6 kB)\n",
            "Collecting anyascii (from textsearch>=0.0.21->contractions)\n",
            "  Downloading anyascii-0.3.2-py3-none-any.whl (289 kB)\n",
            "\u001b[2K     \u001b[90m━━━━━━━━━━━━━━━━━━━━━━━━━━━━━━━━━━━━━━━━\u001b[0m \u001b[32m289.9/289.9 kB\u001b[0m \u001b[31m6.3 MB/s\u001b[0m eta \u001b[36m0:00:00\u001b[0m\n",
            "\u001b[?25hCollecting pyahocorasick (from textsearch>=0.0.21->contractions)\n",
            "  Downloading pyahocorasick-2.0.0-cp310-cp310-manylinux_2_5_x86_64.manylinux1_x86_64.manylinux_2_12_x86_64.manylinux2010_x86_64.whl (110 kB)\n",
            "\u001b[2K     \u001b[90m━━━━━━━━━━━━━━━━━━━━━━━━━━━━━━━━━━━━━━━━\u001b[0m \u001b[32m110.8/110.8 kB\u001b[0m \u001b[31m6.9 MB/s\u001b[0m eta \u001b[36m0:00:00\u001b[0m\n",
            "\u001b[?25hInstalling collected packages: pyahocorasick, anyascii, textsearch, contractions\n",
            "Successfully installed anyascii-0.3.2 contractions-0.1.73 pyahocorasick-2.0.0 textsearch-0.0.24\n",
            "Collecting torch_geometric\n",
            "  Downloading torch_geometric-2.4.0-py3-none-any.whl (1.0 MB)\n",
            "\u001b[2K     \u001b[90m━━━━━━━━━━━━━━━━━━━━━━━━━━━━━━━━━━━━━━━━\u001b[0m \u001b[32m1.0/1.0 MB\u001b[0m \u001b[31m5.9 MB/s\u001b[0m eta \u001b[36m0:00:00\u001b[0m\n",
            "\u001b[?25hRequirement already satisfied: tqdm in /usr/local/lib/python3.10/dist-packages (from torch_geometric) (4.66.1)\n",
            "Requirement already satisfied: numpy in /usr/local/lib/python3.10/dist-packages (from torch_geometric) (1.23.5)\n",
            "Requirement already satisfied: scipy in /usr/local/lib/python3.10/dist-packages (from torch_geometric) (1.11.3)\n",
            "Requirement already satisfied: jinja2 in /usr/local/lib/python3.10/dist-packages (from torch_geometric) (3.1.2)\n",
            "Requirement already satisfied: requests in /usr/local/lib/python3.10/dist-packages (from torch_geometric) (2.31.0)\n",
            "Requirement already satisfied: pyparsing in /usr/local/lib/python3.10/dist-packages (from torch_geometric) (3.1.1)\n",
            "Requirement already satisfied: scikit-learn in /usr/local/lib/python3.10/dist-packages (from torch_geometric) (1.2.2)\n",
            "Requirement already satisfied: psutil>=5.8.0 in /usr/local/lib/python3.10/dist-packages (from torch_geometric) (5.9.5)\n",
            "Requirement already satisfied: MarkupSafe>=2.0 in /usr/local/lib/python3.10/dist-packages (from jinja2->torch_geometric) (2.1.3)\n",
            "Requirement already satisfied: charset-normalizer<4,>=2 in /usr/local/lib/python3.10/dist-packages (from requests->torch_geometric) (3.3.0)\n",
            "Requirement already satisfied: idna<4,>=2.5 in /usr/local/lib/python3.10/dist-packages (from requests->torch_geometric) (3.4)\n",
            "Requirement already satisfied: urllib3<3,>=1.21.1 in /usr/local/lib/python3.10/dist-packages (from requests->torch_geometric) (2.0.7)\n",
            "Requirement already satisfied: certifi>=2017.4.17 in /usr/local/lib/python3.10/dist-packages (from requests->torch_geometric) (2023.7.22)\n",
            "Requirement already satisfied: joblib>=1.1.1 in /usr/local/lib/python3.10/dist-packages (from scikit-learn->torch_geometric) (1.3.2)\n",
            "Requirement already satisfied: threadpoolctl>=2.0.0 in /usr/local/lib/python3.10/dist-packages (from scikit-learn->torch_geometric) (3.2.0)\n",
            "Installing collected packages: torch_geometric\n",
            "Successfully installed torch_geometric-2.4.0\n",
            "Looking in links: https://data.pyg.org/whl/torch-2.1.0+cu118.html\n",
            "Collecting pyg_lib\n",
            "  Downloading https://data.pyg.org/whl/torch-2.1.0%2Bcu118/pyg_lib-0.3.0%2Bpt21cu118-cp310-cp310-linux_x86_64.whl (2.5 MB)\n",
            "\u001b[2K     \u001b[90m━━━━━━━━━━━━━━━━━━━━━━━━━━━━━━━━━━━━━━━━\u001b[0m \u001b[32m2.5/2.5 MB\u001b[0m \u001b[31m25.5 MB/s\u001b[0m eta \u001b[36m0:00:00\u001b[0m\n",
            "\u001b[?25hCollecting torch_scatter\n",
            "  Downloading https://data.pyg.org/whl/torch-2.1.0%2Bcu118/torch_scatter-2.1.2%2Bpt21cu118-cp310-cp310-linux_x86_64.whl (10.2 MB)\n",
            "\u001b[2K     \u001b[90m━━━━━━━━━━━━━━━━━━━━━━━━━━━━━━━━━━━━━━━━\u001b[0m \u001b[32m10.2/10.2 MB\u001b[0m \u001b[31m27.5 MB/s\u001b[0m eta \u001b[36m0:00:00\u001b[0m\n",
            "\u001b[?25hCollecting torch_sparse\n",
            "  Downloading https://data.pyg.org/whl/torch-2.1.0%2Bcu118/torch_sparse-0.6.18%2Bpt21cu118-cp310-cp310-linux_x86_64.whl (4.9 MB)\n",
            "\u001b[2K     \u001b[90m━━━━━━━━━━━━━━━━━━━━━━━━━━━━━━━━━━━━━━━━\u001b[0m \u001b[32m4.9/4.9 MB\u001b[0m \u001b[31m33.8 MB/s\u001b[0m eta \u001b[36m0:00:00\u001b[0m\n",
            "\u001b[?25hCollecting torch_cluster\n",
            "  Downloading https://data.pyg.org/whl/torch-2.1.0%2Bcu118/torch_cluster-1.6.3%2Bpt21cu118-cp310-cp310-linux_x86_64.whl (3.3 MB)\n",
            "\u001b[2K     \u001b[90m━━━━━━━━━━━━━━━━━━━━━━━━━━━━━━━━━━━━━━━━\u001b[0m \u001b[32m3.3/3.3 MB\u001b[0m \u001b[31m20.5 MB/s\u001b[0m eta \u001b[36m0:00:00\u001b[0m\n",
            "\u001b[?25hCollecting torch_spline_conv\n",
            "  Downloading https://data.pyg.org/whl/torch-2.1.0%2Bcu118/torch_spline_conv-1.2.2%2Bpt21cu118-cp310-cp310-linux_x86_64.whl (887 kB)\n",
            "\u001b[2K     \u001b[90m━━━━━━━━━━━━━━━━━━━━━━━━━━━━━━━━━━━━━━━━\u001b[0m \u001b[32m887.8/887.8 kB\u001b[0m \u001b[31m50.4 MB/s\u001b[0m eta \u001b[36m0:00:00\u001b[0m\n",
            "\u001b[?25hRequirement already satisfied: scipy in /usr/local/lib/python3.10/dist-packages (from torch_sparse) (1.11.3)\n",
            "Requirement already satisfied: numpy<1.28.0,>=1.21.6 in /usr/local/lib/python3.10/dist-packages (from scipy->torch_sparse) (1.23.5)\n",
            "Installing collected packages: torch_spline_conv, torch_scatter, pyg_lib, torch_sparse, torch_cluster\n",
            "Successfully installed pyg_lib-0.3.0+pt21cu118 torch_cluster-1.6.3+pt21cu118 torch_scatter-2.1.2+pt21cu118 torch_sparse-0.6.18+pt21cu118 torch_spline_conv-1.2.2+pt21cu118\n"
          ]
        }
      ],
      "source": [
        "!pip install contractions\n",
        "!pip install torch_geometric\n",
        "!pip install pyg_lib torch_scatter torch_sparse torch_cluster torch_spline_conv -f https://data.pyg.org/whl/torch-2.1.0+cu118.html"
      ]
    },
    {
      "cell_type": "code",
      "execution_count": 2,
      "metadata": {
        "id": "3Uee1EPtcLMT",
        "colab": {
          "base_uri": "https://localhost:8080/"
        },
        "outputId": "ef3e0eb3-5a37-4020-9f33-64e63df20a01"
      },
      "outputs": [
        {
          "output_type": "stream",
          "name": "stderr",
          "text": [
            "[nltk_data] Downloading package stopwords to /root/nltk_data...\n",
            "[nltk_data]   Unzipping corpora/stopwords.zip.\n",
            "[nltk_data] Downloading package punkt to /root/nltk_data...\n",
            "[nltk_data]   Unzipping tokenizers/punkt.zip.\n"
          ]
        }
      ],
      "source": [
        "import numpy as np\n",
        "import pandas as pd\n",
        "\n",
        "import contractions\n",
        "import nltk\n",
        "nltk.download('stopwords')\n",
        "nltk.download('punkt')\n",
        "from nltk.corpus import stopwords\n",
        "from nltk.tokenize import word_tokenize\n",
        "\n",
        "from torch.nn.utils.rnn import pad_sequence\n",
        "\n",
        "import torch\n",
        "from tqdm import tqdm\n",
        "from torch_geometric.nn import GCNConv, SAGEConv\n",
        "from torch_geometric.nn.norm import BatchNorm\n",
        "from torch_geometric.nn import global_mean_pool\n",
        "from torch_geometric.data import Data\n",
        "from torch_geometric.loader import DataLoader\n",
        "\n",
        "from sklearn.model_selection import train_test_split\n",
        "\n",
        "#Weighting Module\n",
        "import torch.nn.functional as F\n",
        "import torch\n",
        "import torch.nn as nn\n",
        "\n",
        "import torch_cluster\n",
        "from torch_geometric.nn import global_mean_pool, knn_graph\n",
        "\n",
        "from sklearn.metrics import f1_score, roc_auc_score\n",
        "\n",
        "from sklearn.metrics import classification_report"
      ]
    },
    {
      "cell_type": "code",
      "execution_count": 3,
      "metadata": {
        "id": "PdZg1kUAisH2",
        "colab": {
          "base_uri": "https://localhost:8080/"
        },
        "outputId": "17e52f19-4af8-4b36-c148-fca516fcd2fa"
      },
      "outputs": [
        {
          "output_type": "stream",
          "name": "stdout",
          "text": [
            "/usr/local/lib/python3.10/dist-packages/gdown/cli.py:121: FutureWarning: Option `--id` was deprecated in version 4.3.1 and will be removed in 5.0. You don't need to pass it anymore to use a file ID.\n",
            "  warnings.warn(\n",
            "Downloading...\n",
            "From: https://drive.google.com/uc?id=1Ns456aZINhGcmnI_SCIHgT0q2x14jM2s\n",
            "To: /content/yelp.csv\n",
            "100% 8.09M/8.09M [00:00<00:00, 42.9MB/s]\n"
          ]
        }
      ],
      "source": [
        "!gdown --id 1Ns456aZINhGcmnI_SCIHgT0q2x14jM2s"
      ]
    },
    {
      "cell_type": "code",
      "execution_count": 4,
      "metadata": {
        "id": "S-5QvRNzxjFU",
        "colab": {
          "base_uri": "https://localhost:8080/"
        },
        "outputId": "8c98f0d9-5e7a-46fc-a383-378f5111fe96"
      },
      "outputs": [
        {
          "output_type": "stream",
          "name": "stdout",
          "text": [
            "/usr/local/lib/python3.10/dist-packages/gdown/cli.py:121: FutureWarning: Option `--id` was deprecated in version 4.3.1 and will be removed in 5.0. You don't need to pass it anymore to use a file ID.\n",
            "  warnings.warn(\n",
            "Downloading...\n",
            "From: https://drive.google.com/uc?id=1Xl92YAhgQVS2fR0MDUTJHcpN5_hxP67-\n",
            "To: /content/test-gpt.csv\n",
            "100% 24.6k/24.6k [00:00<00:00, 53.2MB/s]\n"
          ]
        }
      ],
      "source": [
        "!gdown --id 1Xl92YAhgQVS2fR0MDUTJHcpN5_hxP67-"
      ]
    },
    {
      "cell_type": "code",
      "execution_count": 5,
      "metadata": {
        "id": "ACJHyha8c_QQ",
        "colab": {
          "base_uri": "https://localhost:8080/",
          "height": 293
        },
        "outputId": "ba9ed3b0-4a20-4aea-bfc2-fe09ddcd58a0"
      },
      "outputs": [
        {
          "output_type": "execute_result",
          "data": {
            "text/plain": [
              "              business_id        date               review_id  stars  \\\n",
              "0  9yKzy9PApeiPPOUJEtnvkg  2011-01-26  fWKvX83p0-ka4JS3dc6E5A      5   \n",
              "1  ZRJwVLyzEJq1VAihDhYiow  2011-07-27  IjZ33sJrzXqU-0X6U8NwyA      5   \n",
              "2  6oRAC4uyJCsJl1X0WZpVSA  2012-06-14  IESLBzqUCLdSzSqm0eCSxQ      4   \n",
              "3  _1QQZuf4zZOyFCvXc0o6Vg  2010-05-27  G-WvGaISbqqaMHlNnByodA      5   \n",
              "4  6ozycU1RpktNG2-1BroVtw  2012-01-05  1uJFq2r5QfJG_6ExMRCaGw      5   \n",
              "\n",
              "                                                text    type  \\\n",
              "0  My wife took me here on my birthday for breakf...  review   \n",
              "1  I have no idea why some people give bad review...  review   \n",
              "2  love the gyro plate. Rice is so good and I als...  review   \n",
              "3  Rosie, Dakota, and I LOVE Chaparral Dog Park!!...  review   \n",
              "4  General Manager Scott Petello is a good egg!!!...  review   \n",
              "\n",
              "                  user_id  cool  useful  funny  \n",
              "0  rLtl8ZkDX5vH5nAx9C3q5Q     2       5      0  \n",
              "1  0a2KyEL0d3Yb1V6aivbIuQ     0       0      0  \n",
              "2  0hT2KtfLiobPvh6cDC8JQg     0       1      0  \n",
              "3  uZetl9T0NcROGOyFfughhg     1       2      0  \n",
              "4  vYmM4KTsC8ZfQBg-j5MWkw     0       0      0  "
            ],
            "text/html": [
              "\n",
              "  <div id=\"df-84fb3820-f6c2-4be6-8b5c-f2e7a51635b6\" class=\"colab-df-container\">\n",
              "    <div>\n",
              "<style scoped>\n",
              "    .dataframe tbody tr th:only-of-type {\n",
              "        vertical-align: middle;\n",
              "    }\n",
              "\n",
              "    .dataframe tbody tr th {\n",
              "        vertical-align: top;\n",
              "    }\n",
              "\n",
              "    .dataframe thead th {\n",
              "        text-align: right;\n",
              "    }\n",
              "</style>\n",
              "<table border=\"1\" class=\"dataframe\">\n",
              "  <thead>\n",
              "    <tr style=\"text-align: right;\">\n",
              "      <th></th>\n",
              "      <th>business_id</th>\n",
              "      <th>date</th>\n",
              "      <th>review_id</th>\n",
              "      <th>stars</th>\n",
              "      <th>text</th>\n",
              "      <th>type</th>\n",
              "      <th>user_id</th>\n",
              "      <th>cool</th>\n",
              "      <th>useful</th>\n",
              "      <th>funny</th>\n",
              "    </tr>\n",
              "  </thead>\n",
              "  <tbody>\n",
              "    <tr>\n",
              "      <th>0</th>\n",
              "      <td>9yKzy9PApeiPPOUJEtnvkg</td>\n",
              "      <td>2011-01-26</td>\n",
              "      <td>fWKvX83p0-ka4JS3dc6E5A</td>\n",
              "      <td>5</td>\n",
              "      <td>My wife took me here on my birthday for breakf...</td>\n",
              "      <td>review</td>\n",
              "      <td>rLtl8ZkDX5vH5nAx9C3q5Q</td>\n",
              "      <td>2</td>\n",
              "      <td>5</td>\n",
              "      <td>0</td>\n",
              "    </tr>\n",
              "    <tr>\n",
              "      <th>1</th>\n",
              "      <td>ZRJwVLyzEJq1VAihDhYiow</td>\n",
              "      <td>2011-07-27</td>\n",
              "      <td>IjZ33sJrzXqU-0X6U8NwyA</td>\n",
              "      <td>5</td>\n",
              "      <td>I have no idea why some people give bad review...</td>\n",
              "      <td>review</td>\n",
              "      <td>0a2KyEL0d3Yb1V6aivbIuQ</td>\n",
              "      <td>0</td>\n",
              "      <td>0</td>\n",
              "      <td>0</td>\n",
              "    </tr>\n",
              "    <tr>\n",
              "      <th>2</th>\n",
              "      <td>6oRAC4uyJCsJl1X0WZpVSA</td>\n",
              "      <td>2012-06-14</td>\n",
              "      <td>IESLBzqUCLdSzSqm0eCSxQ</td>\n",
              "      <td>4</td>\n",
              "      <td>love the gyro plate. Rice is so good and I als...</td>\n",
              "      <td>review</td>\n",
              "      <td>0hT2KtfLiobPvh6cDC8JQg</td>\n",
              "      <td>0</td>\n",
              "      <td>1</td>\n",
              "      <td>0</td>\n",
              "    </tr>\n",
              "    <tr>\n",
              "      <th>3</th>\n",
              "      <td>_1QQZuf4zZOyFCvXc0o6Vg</td>\n",
              "      <td>2010-05-27</td>\n",
              "      <td>G-WvGaISbqqaMHlNnByodA</td>\n",
              "      <td>5</td>\n",
              "      <td>Rosie, Dakota, and I LOVE Chaparral Dog Park!!...</td>\n",
              "      <td>review</td>\n",
              "      <td>uZetl9T0NcROGOyFfughhg</td>\n",
              "      <td>1</td>\n",
              "      <td>2</td>\n",
              "      <td>0</td>\n",
              "    </tr>\n",
              "    <tr>\n",
              "      <th>4</th>\n",
              "      <td>6ozycU1RpktNG2-1BroVtw</td>\n",
              "      <td>2012-01-05</td>\n",
              "      <td>1uJFq2r5QfJG_6ExMRCaGw</td>\n",
              "      <td>5</td>\n",
              "      <td>General Manager Scott Petello is a good egg!!!...</td>\n",
              "      <td>review</td>\n",
              "      <td>vYmM4KTsC8ZfQBg-j5MWkw</td>\n",
              "      <td>0</td>\n",
              "      <td>0</td>\n",
              "      <td>0</td>\n",
              "    </tr>\n",
              "  </tbody>\n",
              "</table>\n",
              "</div>\n",
              "    <div class=\"colab-df-buttons\">\n",
              "\n",
              "  <div class=\"colab-df-container\">\n",
              "    <button class=\"colab-df-convert\" onclick=\"convertToInteractive('df-84fb3820-f6c2-4be6-8b5c-f2e7a51635b6')\"\n",
              "            title=\"Convert this dataframe to an interactive table.\"\n",
              "            style=\"display:none;\">\n",
              "\n",
              "  <svg xmlns=\"http://www.w3.org/2000/svg\" height=\"24px\" viewBox=\"0 -960 960 960\">\n",
              "    <path d=\"M120-120v-720h720v720H120Zm60-500h600v-160H180v160Zm220 220h160v-160H400v160Zm0 220h160v-160H400v160ZM180-400h160v-160H180v160Zm440 0h160v-160H620v160ZM180-180h160v-160H180v160Zm440 0h160v-160H620v160Z\"/>\n",
              "  </svg>\n",
              "    </button>\n",
              "\n",
              "  <style>\n",
              "    .colab-df-container {\n",
              "      display:flex;\n",
              "      gap: 12px;\n",
              "    }\n",
              "\n",
              "    .colab-df-convert {\n",
              "      background-color: #E8F0FE;\n",
              "      border: none;\n",
              "      border-radius: 50%;\n",
              "      cursor: pointer;\n",
              "      display: none;\n",
              "      fill: #1967D2;\n",
              "      height: 32px;\n",
              "      padding: 0 0 0 0;\n",
              "      width: 32px;\n",
              "    }\n",
              "\n",
              "    .colab-df-convert:hover {\n",
              "      background-color: #E2EBFA;\n",
              "      box-shadow: 0px 1px 2px rgba(60, 64, 67, 0.3), 0px 1px 3px 1px rgba(60, 64, 67, 0.15);\n",
              "      fill: #174EA6;\n",
              "    }\n",
              "\n",
              "    .colab-df-buttons div {\n",
              "      margin-bottom: 4px;\n",
              "    }\n",
              "\n",
              "    [theme=dark] .colab-df-convert {\n",
              "      background-color: #3B4455;\n",
              "      fill: #D2E3FC;\n",
              "    }\n",
              "\n",
              "    [theme=dark] .colab-df-convert:hover {\n",
              "      background-color: #434B5C;\n",
              "      box-shadow: 0px 1px 3px 1px rgba(0, 0, 0, 0.15);\n",
              "      filter: drop-shadow(0px 1px 2px rgba(0, 0, 0, 0.3));\n",
              "      fill: #FFFFFF;\n",
              "    }\n",
              "  </style>\n",
              "\n",
              "    <script>\n",
              "      const buttonEl =\n",
              "        document.querySelector('#df-84fb3820-f6c2-4be6-8b5c-f2e7a51635b6 button.colab-df-convert');\n",
              "      buttonEl.style.display =\n",
              "        google.colab.kernel.accessAllowed ? 'block' : 'none';\n",
              "\n",
              "      async function convertToInteractive(key) {\n",
              "        const element = document.querySelector('#df-84fb3820-f6c2-4be6-8b5c-f2e7a51635b6');\n",
              "        const dataTable =\n",
              "          await google.colab.kernel.invokeFunction('convertToInteractive',\n",
              "                                                    [key], {});\n",
              "        if (!dataTable) return;\n",
              "\n",
              "        const docLinkHtml = 'Like what you see? Visit the ' +\n",
              "          '<a target=\"_blank\" href=https://colab.research.google.com/notebooks/data_table.ipynb>data table notebook</a>'\n",
              "          + ' to learn more about interactive tables.';\n",
              "        element.innerHTML = '';\n",
              "        dataTable['output_type'] = 'display_data';\n",
              "        await google.colab.output.renderOutput(dataTable, element);\n",
              "        const docLink = document.createElement('div');\n",
              "        docLink.innerHTML = docLinkHtml;\n",
              "        element.appendChild(docLink);\n",
              "      }\n",
              "    </script>\n",
              "  </div>\n",
              "\n",
              "\n",
              "<div id=\"df-4a997904-80df-4c15-ad8c-8768a9d76a7c\">\n",
              "  <button class=\"colab-df-quickchart\" onclick=\"quickchart('df-4a997904-80df-4c15-ad8c-8768a9d76a7c')\"\n",
              "            title=\"Suggest charts.\"\n",
              "            style=\"display:none;\">\n",
              "\n",
              "<svg xmlns=\"http://www.w3.org/2000/svg\" height=\"24px\"viewBox=\"0 0 24 24\"\n",
              "     width=\"24px\">\n",
              "    <g>\n",
              "        <path d=\"M19 3H5c-1.1 0-2 .9-2 2v14c0 1.1.9 2 2 2h14c1.1 0 2-.9 2-2V5c0-1.1-.9-2-2-2zM9 17H7v-7h2v7zm4 0h-2V7h2v10zm4 0h-2v-4h2v4z\"/>\n",
              "    </g>\n",
              "</svg>\n",
              "  </button>\n",
              "\n",
              "<style>\n",
              "  .colab-df-quickchart {\n",
              "      --bg-color: #E8F0FE;\n",
              "      --fill-color: #1967D2;\n",
              "      --hover-bg-color: #E2EBFA;\n",
              "      --hover-fill-color: #174EA6;\n",
              "      --disabled-fill-color: #AAA;\n",
              "      --disabled-bg-color: #DDD;\n",
              "  }\n",
              "\n",
              "  [theme=dark] .colab-df-quickchart {\n",
              "      --bg-color: #3B4455;\n",
              "      --fill-color: #D2E3FC;\n",
              "      --hover-bg-color: #434B5C;\n",
              "      --hover-fill-color: #FFFFFF;\n",
              "      --disabled-bg-color: #3B4455;\n",
              "      --disabled-fill-color: #666;\n",
              "  }\n",
              "\n",
              "  .colab-df-quickchart {\n",
              "    background-color: var(--bg-color);\n",
              "    border: none;\n",
              "    border-radius: 50%;\n",
              "    cursor: pointer;\n",
              "    display: none;\n",
              "    fill: var(--fill-color);\n",
              "    height: 32px;\n",
              "    padding: 0;\n",
              "    width: 32px;\n",
              "  }\n",
              "\n",
              "  .colab-df-quickchart:hover {\n",
              "    background-color: var(--hover-bg-color);\n",
              "    box-shadow: 0 1px 2px rgba(60, 64, 67, 0.3), 0 1px 3px 1px rgba(60, 64, 67, 0.15);\n",
              "    fill: var(--button-hover-fill-color);\n",
              "  }\n",
              "\n",
              "  .colab-df-quickchart-complete:disabled,\n",
              "  .colab-df-quickchart-complete:disabled:hover {\n",
              "    background-color: var(--disabled-bg-color);\n",
              "    fill: var(--disabled-fill-color);\n",
              "    box-shadow: none;\n",
              "  }\n",
              "\n",
              "  .colab-df-spinner {\n",
              "    border: 2px solid var(--fill-color);\n",
              "    border-color: transparent;\n",
              "    border-bottom-color: var(--fill-color);\n",
              "    animation:\n",
              "      spin 1s steps(1) infinite;\n",
              "  }\n",
              "\n",
              "  @keyframes spin {\n",
              "    0% {\n",
              "      border-color: transparent;\n",
              "      border-bottom-color: var(--fill-color);\n",
              "      border-left-color: var(--fill-color);\n",
              "    }\n",
              "    20% {\n",
              "      border-color: transparent;\n",
              "      border-left-color: var(--fill-color);\n",
              "      border-top-color: var(--fill-color);\n",
              "    }\n",
              "    30% {\n",
              "      border-color: transparent;\n",
              "      border-left-color: var(--fill-color);\n",
              "      border-top-color: var(--fill-color);\n",
              "      border-right-color: var(--fill-color);\n",
              "    }\n",
              "    40% {\n",
              "      border-color: transparent;\n",
              "      border-right-color: var(--fill-color);\n",
              "      border-top-color: var(--fill-color);\n",
              "    }\n",
              "    60% {\n",
              "      border-color: transparent;\n",
              "      border-right-color: var(--fill-color);\n",
              "    }\n",
              "    80% {\n",
              "      border-color: transparent;\n",
              "      border-right-color: var(--fill-color);\n",
              "      border-bottom-color: var(--fill-color);\n",
              "    }\n",
              "    90% {\n",
              "      border-color: transparent;\n",
              "      border-bottom-color: var(--fill-color);\n",
              "    }\n",
              "  }\n",
              "</style>\n",
              "\n",
              "  <script>\n",
              "    async function quickchart(key) {\n",
              "      const quickchartButtonEl =\n",
              "        document.querySelector('#' + key + ' button');\n",
              "      quickchartButtonEl.disabled = true;  // To prevent multiple clicks.\n",
              "      quickchartButtonEl.classList.add('colab-df-spinner');\n",
              "      try {\n",
              "        const charts = await google.colab.kernel.invokeFunction(\n",
              "            'suggestCharts', [key], {});\n",
              "      } catch (error) {\n",
              "        console.error('Error during call to suggestCharts:', error);\n",
              "      }\n",
              "      quickchartButtonEl.classList.remove('colab-df-spinner');\n",
              "      quickchartButtonEl.classList.add('colab-df-quickchart-complete');\n",
              "    }\n",
              "    (() => {\n",
              "      let quickchartButtonEl =\n",
              "        document.querySelector('#df-4a997904-80df-4c15-ad8c-8768a9d76a7c button');\n",
              "      quickchartButtonEl.style.display =\n",
              "        google.colab.kernel.accessAllowed ? 'block' : 'none';\n",
              "    })();\n",
              "  </script>\n",
              "</div>\n",
              "    </div>\n",
              "  </div>\n"
            ]
          },
          "metadata": {},
          "execution_count": 5
        }
      ],
      "source": [
        "df = pd.read_csv('yelp.csv')\n",
        "df.head()"
      ]
    },
    {
      "cell_type": "code",
      "execution_count": 6,
      "metadata": {
        "id": "k6BjExsUfCUH",
        "colab": {
          "base_uri": "https://localhost:8080/"
        },
        "outputId": "5f0f8c42-22bd-4a2e-be11-f32ec9cf9b8c"
      },
      "outputs": [
        {
          "output_type": "stream",
          "name": "stdout",
          "text": [
            "<class 'pandas.core.frame.DataFrame'>\n",
            "RangeIndex: 10000 entries, 0 to 9999\n",
            "Data columns (total 10 columns):\n",
            " #   Column       Non-Null Count  Dtype \n",
            "---  ------       --------------  ----- \n",
            " 0   business_id  10000 non-null  object\n",
            " 1   date         10000 non-null  object\n",
            " 2   review_id    10000 non-null  object\n",
            " 3   stars        10000 non-null  int64 \n",
            " 4   text         10000 non-null  object\n",
            " 5   type         10000 non-null  object\n",
            " 6   user_id      10000 non-null  object\n",
            " 7   cool         10000 non-null  int64 \n",
            " 8   useful       10000 non-null  int64 \n",
            " 9   funny        10000 non-null  int64 \n",
            "dtypes: int64(4), object(6)\n",
            "memory usage: 781.4+ KB\n"
          ]
        }
      ],
      "source": [
        "df.info()"
      ]
    },
    {
      "cell_type": "code",
      "execution_count": 7,
      "metadata": {
        "id": "UqhqRmFifExw",
        "colab": {
          "base_uri": "https://localhost:8080/",
          "height": 300
        },
        "outputId": "181672e8-07be-4ee5-a154-3a1569b1f858"
      },
      "outputs": [
        {
          "output_type": "execute_result",
          "data": {
            "text/plain": [
              "              stars          cool        useful         funny\n",
              "count  10000.000000  10000.000000  10000.000000  10000.000000\n",
              "mean       3.777500      0.876800      1.409300      0.701300\n",
              "std        1.214636      2.067861      2.336647      1.907942\n",
              "min        1.000000      0.000000      0.000000      0.000000\n",
              "25%        3.000000      0.000000      0.000000      0.000000\n",
              "50%        4.000000      0.000000      1.000000      0.000000\n",
              "75%        5.000000      1.000000      2.000000      1.000000\n",
              "max        5.000000     77.000000     76.000000     57.000000"
            ],
            "text/html": [
              "\n",
              "  <div id=\"df-d4208ca3-e88e-4fe0-9896-4da8514b2e2c\" class=\"colab-df-container\">\n",
              "    <div>\n",
              "<style scoped>\n",
              "    .dataframe tbody tr th:only-of-type {\n",
              "        vertical-align: middle;\n",
              "    }\n",
              "\n",
              "    .dataframe tbody tr th {\n",
              "        vertical-align: top;\n",
              "    }\n",
              "\n",
              "    .dataframe thead th {\n",
              "        text-align: right;\n",
              "    }\n",
              "</style>\n",
              "<table border=\"1\" class=\"dataframe\">\n",
              "  <thead>\n",
              "    <tr style=\"text-align: right;\">\n",
              "      <th></th>\n",
              "      <th>stars</th>\n",
              "      <th>cool</th>\n",
              "      <th>useful</th>\n",
              "      <th>funny</th>\n",
              "    </tr>\n",
              "  </thead>\n",
              "  <tbody>\n",
              "    <tr>\n",
              "      <th>count</th>\n",
              "      <td>10000.000000</td>\n",
              "      <td>10000.000000</td>\n",
              "      <td>10000.000000</td>\n",
              "      <td>10000.000000</td>\n",
              "    </tr>\n",
              "    <tr>\n",
              "      <th>mean</th>\n",
              "      <td>3.777500</td>\n",
              "      <td>0.876800</td>\n",
              "      <td>1.409300</td>\n",
              "      <td>0.701300</td>\n",
              "    </tr>\n",
              "    <tr>\n",
              "      <th>std</th>\n",
              "      <td>1.214636</td>\n",
              "      <td>2.067861</td>\n",
              "      <td>2.336647</td>\n",
              "      <td>1.907942</td>\n",
              "    </tr>\n",
              "    <tr>\n",
              "      <th>min</th>\n",
              "      <td>1.000000</td>\n",
              "      <td>0.000000</td>\n",
              "      <td>0.000000</td>\n",
              "      <td>0.000000</td>\n",
              "    </tr>\n",
              "    <tr>\n",
              "      <th>25%</th>\n",
              "      <td>3.000000</td>\n",
              "      <td>0.000000</td>\n",
              "      <td>0.000000</td>\n",
              "      <td>0.000000</td>\n",
              "    </tr>\n",
              "    <tr>\n",
              "      <th>50%</th>\n",
              "      <td>4.000000</td>\n",
              "      <td>0.000000</td>\n",
              "      <td>1.000000</td>\n",
              "      <td>0.000000</td>\n",
              "    </tr>\n",
              "    <tr>\n",
              "      <th>75%</th>\n",
              "      <td>5.000000</td>\n",
              "      <td>1.000000</td>\n",
              "      <td>2.000000</td>\n",
              "      <td>1.000000</td>\n",
              "    </tr>\n",
              "    <tr>\n",
              "      <th>max</th>\n",
              "      <td>5.000000</td>\n",
              "      <td>77.000000</td>\n",
              "      <td>76.000000</td>\n",
              "      <td>57.000000</td>\n",
              "    </tr>\n",
              "  </tbody>\n",
              "</table>\n",
              "</div>\n",
              "    <div class=\"colab-df-buttons\">\n",
              "\n",
              "  <div class=\"colab-df-container\">\n",
              "    <button class=\"colab-df-convert\" onclick=\"convertToInteractive('df-d4208ca3-e88e-4fe0-9896-4da8514b2e2c')\"\n",
              "            title=\"Convert this dataframe to an interactive table.\"\n",
              "            style=\"display:none;\">\n",
              "\n",
              "  <svg xmlns=\"http://www.w3.org/2000/svg\" height=\"24px\" viewBox=\"0 -960 960 960\">\n",
              "    <path d=\"M120-120v-720h720v720H120Zm60-500h600v-160H180v160Zm220 220h160v-160H400v160Zm0 220h160v-160H400v160ZM180-400h160v-160H180v160Zm440 0h160v-160H620v160ZM180-180h160v-160H180v160Zm440 0h160v-160H620v160Z\"/>\n",
              "  </svg>\n",
              "    </button>\n",
              "\n",
              "  <style>\n",
              "    .colab-df-container {\n",
              "      display:flex;\n",
              "      gap: 12px;\n",
              "    }\n",
              "\n",
              "    .colab-df-convert {\n",
              "      background-color: #E8F0FE;\n",
              "      border: none;\n",
              "      border-radius: 50%;\n",
              "      cursor: pointer;\n",
              "      display: none;\n",
              "      fill: #1967D2;\n",
              "      height: 32px;\n",
              "      padding: 0 0 0 0;\n",
              "      width: 32px;\n",
              "    }\n",
              "\n",
              "    .colab-df-convert:hover {\n",
              "      background-color: #E2EBFA;\n",
              "      box-shadow: 0px 1px 2px rgba(60, 64, 67, 0.3), 0px 1px 3px 1px rgba(60, 64, 67, 0.15);\n",
              "      fill: #174EA6;\n",
              "    }\n",
              "\n",
              "    .colab-df-buttons div {\n",
              "      margin-bottom: 4px;\n",
              "    }\n",
              "\n",
              "    [theme=dark] .colab-df-convert {\n",
              "      background-color: #3B4455;\n",
              "      fill: #D2E3FC;\n",
              "    }\n",
              "\n",
              "    [theme=dark] .colab-df-convert:hover {\n",
              "      background-color: #434B5C;\n",
              "      box-shadow: 0px 1px 3px 1px rgba(0, 0, 0, 0.15);\n",
              "      filter: drop-shadow(0px 1px 2px rgba(0, 0, 0, 0.3));\n",
              "      fill: #FFFFFF;\n",
              "    }\n",
              "  </style>\n",
              "\n",
              "    <script>\n",
              "      const buttonEl =\n",
              "        document.querySelector('#df-d4208ca3-e88e-4fe0-9896-4da8514b2e2c button.colab-df-convert');\n",
              "      buttonEl.style.display =\n",
              "        google.colab.kernel.accessAllowed ? 'block' : 'none';\n",
              "\n",
              "      async function convertToInteractive(key) {\n",
              "        const element = document.querySelector('#df-d4208ca3-e88e-4fe0-9896-4da8514b2e2c');\n",
              "        const dataTable =\n",
              "          await google.colab.kernel.invokeFunction('convertToInteractive',\n",
              "                                                    [key], {});\n",
              "        if (!dataTable) return;\n",
              "\n",
              "        const docLinkHtml = 'Like what you see? Visit the ' +\n",
              "          '<a target=\"_blank\" href=https://colab.research.google.com/notebooks/data_table.ipynb>data table notebook</a>'\n",
              "          + ' to learn more about interactive tables.';\n",
              "        element.innerHTML = '';\n",
              "        dataTable['output_type'] = 'display_data';\n",
              "        await google.colab.output.renderOutput(dataTable, element);\n",
              "        const docLink = document.createElement('div');\n",
              "        docLink.innerHTML = docLinkHtml;\n",
              "        element.appendChild(docLink);\n",
              "      }\n",
              "    </script>\n",
              "  </div>\n",
              "\n",
              "\n",
              "<div id=\"df-3a4fcd57-ddb2-4ee0-a796-5a4008af83b0\">\n",
              "  <button class=\"colab-df-quickchart\" onclick=\"quickchart('df-3a4fcd57-ddb2-4ee0-a796-5a4008af83b0')\"\n",
              "            title=\"Suggest charts.\"\n",
              "            style=\"display:none;\">\n",
              "\n",
              "<svg xmlns=\"http://www.w3.org/2000/svg\" height=\"24px\"viewBox=\"0 0 24 24\"\n",
              "     width=\"24px\">\n",
              "    <g>\n",
              "        <path d=\"M19 3H5c-1.1 0-2 .9-2 2v14c0 1.1.9 2 2 2h14c1.1 0 2-.9 2-2V5c0-1.1-.9-2-2-2zM9 17H7v-7h2v7zm4 0h-2V7h2v10zm4 0h-2v-4h2v4z\"/>\n",
              "    </g>\n",
              "</svg>\n",
              "  </button>\n",
              "\n",
              "<style>\n",
              "  .colab-df-quickchart {\n",
              "      --bg-color: #E8F0FE;\n",
              "      --fill-color: #1967D2;\n",
              "      --hover-bg-color: #E2EBFA;\n",
              "      --hover-fill-color: #174EA6;\n",
              "      --disabled-fill-color: #AAA;\n",
              "      --disabled-bg-color: #DDD;\n",
              "  }\n",
              "\n",
              "  [theme=dark] .colab-df-quickchart {\n",
              "      --bg-color: #3B4455;\n",
              "      --fill-color: #D2E3FC;\n",
              "      --hover-bg-color: #434B5C;\n",
              "      --hover-fill-color: #FFFFFF;\n",
              "      --disabled-bg-color: #3B4455;\n",
              "      --disabled-fill-color: #666;\n",
              "  }\n",
              "\n",
              "  .colab-df-quickchart {\n",
              "    background-color: var(--bg-color);\n",
              "    border: none;\n",
              "    border-radius: 50%;\n",
              "    cursor: pointer;\n",
              "    display: none;\n",
              "    fill: var(--fill-color);\n",
              "    height: 32px;\n",
              "    padding: 0;\n",
              "    width: 32px;\n",
              "  }\n",
              "\n",
              "  .colab-df-quickchart:hover {\n",
              "    background-color: var(--hover-bg-color);\n",
              "    box-shadow: 0 1px 2px rgba(60, 64, 67, 0.3), 0 1px 3px 1px rgba(60, 64, 67, 0.15);\n",
              "    fill: var(--button-hover-fill-color);\n",
              "  }\n",
              "\n",
              "  .colab-df-quickchart-complete:disabled,\n",
              "  .colab-df-quickchart-complete:disabled:hover {\n",
              "    background-color: var(--disabled-bg-color);\n",
              "    fill: var(--disabled-fill-color);\n",
              "    box-shadow: none;\n",
              "  }\n",
              "\n",
              "  .colab-df-spinner {\n",
              "    border: 2px solid var(--fill-color);\n",
              "    border-color: transparent;\n",
              "    border-bottom-color: var(--fill-color);\n",
              "    animation:\n",
              "      spin 1s steps(1) infinite;\n",
              "  }\n",
              "\n",
              "  @keyframes spin {\n",
              "    0% {\n",
              "      border-color: transparent;\n",
              "      border-bottom-color: var(--fill-color);\n",
              "      border-left-color: var(--fill-color);\n",
              "    }\n",
              "    20% {\n",
              "      border-color: transparent;\n",
              "      border-left-color: var(--fill-color);\n",
              "      border-top-color: var(--fill-color);\n",
              "    }\n",
              "    30% {\n",
              "      border-color: transparent;\n",
              "      border-left-color: var(--fill-color);\n",
              "      border-top-color: var(--fill-color);\n",
              "      border-right-color: var(--fill-color);\n",
              "    }\n",
              "    40% {\n",
              "      border-color: transparent;\n",
              "      border-right-color: var(--fill-color);\n",
              "      border-top-color: var(--fill-color);\n",
              "    }\n",
              "    60% {\n",
              "      border-color: transparent;\n",
              "      border-right-color: var(--fill-color);\n",
              "    }\n",
              "    80% {\n",
              "      border-color: transparent;\n",
              "      border-right-color: var(--fill-color);\n",
              "      border-bottom-color: var(--fill-color);\n",
              "    }\n",
              "    90% {\n",
              "      border-color: transparent;\n",
              "      border-bottom-color: var(--fill-color);\n",
              "    }\n",
              "  }\n",
              "</style>\n",
              "\n",
              "  <script>\n",
              "    async function quickchart(key) {\n",
              "      const quickchartButtonEl =\n",
              "        document.querySelector('#' + key + ' button');\n",
              "      quickchartButtonEl.disabled = true;  // To prevent multiple clicks.\n",
              "      quickchartButtonEl.classList.add('colab-df-spinner');\n",
              "      try {\n",
              "        const charts = await google.colab.kernel.invokeFunction(\n",
              "            'suggestCharts', [key], {});\n",
              "      } catch (error) {\n",
              "        console.error('Error during call to suggestCharts:', error);\n",
              "      }\n",
              "      quickchartButtonEl.classList.remove('colab-df-spinner');\n",
              "      quickchartButtonEl.classList.add('colab-df-quickchart-complete');\n",
              "    }\n",
              "    (() => {\n",
              "      let quickchartButtonEl =\n",
              "        document.querySelector('#df-3a4fcd57-ddb2-4ee0-a796-5a4008af83b0 button');\n",
              "      quickchartButtonEl.style.display =\n",
              "        google.colab.kernel.accessAllowed ? 'block' : 'none';\n",
              "    })();\n",
              "  </script>\n",
              "</div>\n",
              "    </div>\n",
              "  </div>\n"
            ]
          },
          "metadata": {},
          "execution_count": 7
        }
      ],
      "source": [
        "df.describe()"
      ]
    },
    {
      "cell_type": "code",
      "execution_count": 8,
      "metadata": {
        "id": "to-DBUBIdZ26",
        "colab": {
          "base_uri": "https://localhost:8080/"
        },
        "outputId": "2dce9c66-0bc2-4f22-90f6-7c111765f358"
      },
      "outputs": [
        {
          "output_type": "stream",
          "name": "stdout",
          "text": [
            "Total number of samples is: 10000\n",
            "Total number of 1 star reviews is: 749 and the fraction is:0.07\n",
            "Total number of 2 star reviews is: 927 and the fraction is:0.09\n",
            "Total number of 3 star reviews is: 1461 and the fraction is:0.15\n",
            "Total number of 4 star reviews is: 3526 and the fraction is:0.35\n",
            "Total number of 5 star reviews is: 3337 and the fraction is:0.33\n"
          ]
        }
      ],
      "source": [
        "# Now let's see how many samples there exists in this data set\n",
        "print(\"Total number of samples is: {}\".format(len(df)))\n",
        "print(\"Total number of 1 star reviews is: {} and the fraction is:{:0.2f}\".format(len(df[df['stars']==1]), len(df[df['stars']==1])/len(df)))\n",
        "print(\"Total number of 2 star reviews is: {} and the fraction is:{:0.2f}\".format(len(df[df['stars']==2]), len(df[df['stars']==2])/len(df)))\n",
        "print(\"Total number of 3 star reviews is: {} and the fraction is:{:0.2f}\".format(len(df[df['stars']==3]), len(df[df['stars']==3])/len(df)))\n",
        "print(\"Total number of 4 star reviews is: {} and the fraction is:{:0.2f}\".format(len(df[df['stars']==4]), len(df[df['stars']==4])/len(df)))\n",
        "print(\"Total number of 5 star reviews is: {} and the fraction is:{:0.2f}\".format(len(df[df['stars']==5]), len(df[df['stars']==5])/len(df)))"
      ]
    },
    {
      "cell_type": "code",
      "execution_count": 9,
      "metadata": {
        "id": "NnRfMF0QdynL",
        "colab": {
          "base_uri": "https://localhost:8080/",
          "height": 206
        },
        "outputId": "cf994740-0886-4814-e541-f00d8edad745"
      },
      "outputs": [
        {
          "output_type": "execute_result",
          "data": {
            "text/plain": [
              "                                                text  stars\n",
              "0  My wife took me here on my birthday for breakf...      5\n",
              "1  I have no idea why some people give bad review...      5\n",
              "2  love the gyro plate. Rice is so good and I als...      4\n",
              "3  Rosie, Dakota, and I LOVE Chaparral Dog Park!!...      5\n",
              "4  General Manager Scott Petello is a good egg!!!...      5"
            ],
            "text/html": [
              "\n",
              "  <div id=\"df-cba238bd-ecf5-41dc-8443-278125b53f2c\" class=\"colab-df-container\">\n",
              "    <div>\n",
              "<style scoped>\n",
              "    .dataframe tbody tr th:only-of-type {\n",
              "        vertical-align: middle;\n",
              "    }\n",
              "\n",
              "    .dataframe tbody tr th {\n",
              "        vertical-align: top;\n",
              "    }\n",
              "\n",
              "    .dataframe thead th {\n",
              "        text-align: right;\n",
              "    }\n",
              "</style>\n",
              "<table border=\"1\" class=\"dataframe\">\n",
              "  <thead>\n",
              "    <tr style=\"text-align: right;\">\n",
              "      <th></th>\n",
              "      <th>text</th>\n",
              "      <th>stars</th>\n",
              "    </tr>\n",
              "  </thead>\n",
              "  <tbody>\n",
              "    <tr>\n",
              "      <th>0</th>\n",
              "      <td>My wife took me here on my birthday for breakf...</td>\n",
              "      <td>5</td>\n",
              "    </tr>\n",
              "    <tr>\n",
              "      <th>1</th>\n",
              "      <td>I have no idea why some people give bad review...</td>\n",
              "      <td>5</td>\n",
              "    </tr>\n",
              "    <tr>\n",
              "      <th>2</th>\n",
              "      <td>love the gyro plate. Rice is so good and I als...</td>\n",
              "      <td>4</td>\n",
              "    </tr>\n",
              "    <tr>\n",
              "      <th>3</th>\n",
              "      <td>Rosie, Dakota, and I LOVE Chaparral Dog Park!!...</td>\n",
              "      <td>5</td>\n",
              "    </tr>\n",
              "    <tr>\n",
              "      <th>4</th>\n",
              "      <td>General Manager Scott Petello is a good egg!!!...</td>\n",
              "      <td>5</td>\n",
              "    </tr>\n",
              "  </tbody>\n",
              "</table>\n",
              "</div>\n",
              "    <div class=\"colab-df-buttons\">\n",
              "\n",
              "  <div class=\"colab-df-container\">\n",
              "    <button class=\"colab-df-convert\" onclick=\"convertToInteractive('df-cba238bd-ecf5-41dc-8443-278125b53f2c')\"\n",
              "            title=\"Convert this dataframe to an interactive table.\"\n",
              "            style=\"display:none;\">\n",
              "\n",
              "  <svg xmlns=\"http://www.w3.org/2000/svg\" height=\"24px\" viewBox=\"0 -960 960 960\">\n",
              "    <path d=\"M120-120v-720h720v720H120Zm60-500h600v-160H180v160Zm220 220h160v-160H400v160Zm0 220h160v-160H400v160ZM180-400h160v-160H180v160Zm440 0h160v-160H620v160ZM180-180h160v-160H180v160Zm440 0h160v-160H620v160Z\"/>\n",
              "  </svg>\n",
              "    </button>\n",
              "\n",
              "  <style>\n",
              "    .colab-df-container {\n",
              "      display:flex;\n",
              "      gap: 12px;\n",
              "    }\n",
              "\n",
              "    .colab-df-convert {\n",
              "      background-color: #E8F0FE;\n",
              "      border: none;\n",
              "      border-radius: 50%;\n",
              "      cursor: pointer;\n",
              "      display: none;\n",
              "      fill: #1967D2;\n",
              "      height: 32px;\n",
              "      padding: 0 0 0 0;\n",
              "      width: 32px;\n",
              "    }\n",
              "\n",
              "    .colab-df-convert:hover {\n",
              "      background-color: #E2EBFA;\n",
              "      box-shadow: 0px 1px 2px rgba(60, 64, 67, 0.3), 0px 1px 3px 1px rgba(60, 64, 67, 0.15);\n",
              "      fill: #174EA6;\n",
              "    }\n",
              "\n",
              "    .colab-df-buttons div {\n",
              "      margin-bottom: 4px;\n",
              "    }\n",
              "\n",
              "    [theme=dark] .colab-df-convert {\n",
              "      background-color: #3B4455;\n",
              "      fill: #D2E3FC;\n",
              "    }\n",
              "\n",
              "    [theme=dark] .colab-df-convert:hover {\n",
              "      background-color: #434B5C;\n",
              "      box-shadow: 0px 1px 3px 1px rgba(0, 0, 0, 0.15);\n",
              "      filter: drop-shadow(0px 1px 2px rgba(0, 0, 0, 0.3));\n",
              "      fill: #FFFFFF;\n",
              "    }\n",
              "  </style>\n",
              "\n",
              "    <script>\n",
              "      const buttonEl =\n",
              "        document.querySelector('#df-cba238bd-ecf5-41dc-8443-278125b53f2c button.colab-df-convert');\n",
              "      buttonEl.style.display =\n",
              "        google.colab.kernel.accessAllowed ? 'block' : 'none';\n",
              "\n",
              "      async function convertToInteractive(key) {\n",
              "        const element = document.querySelector('#df-cba238bd-ecf5-41dc-8443-278125b53f2c');\n",
              "        const dataTable =\n",
              "          await google.colab.kernel.invokeFunction('convertToInteractive',\n",
              "                                                    [key], {});\n",
              "        if (!dataTable) return;\n",
              "\n",
              "        const docLinkHtml = 'Like what you see? Visit the ' +\n",
              "          '<a target=\"_blank\" href=https://colab.research.google.com/notebooks/data_table.ipynb>data table notebook</a>'\n",
              "          + ' to learn more about interactive tables.';\n",
              "        element.innerHTML = '';\n",
              "        dataTable['output_type'] = 'display_data';\n",
              "        await google.colab.output.renderOutput(dataTable, element);\n",
              "        const docLink = document.createElement('div');\n",
              "        docLink.innerHTML = docLinkHtml;\n",
              "        element.appendChild(docLink);\n",
              "      }\n",
              "    </script>\n",
              "  </div>\n",
              "\n",
              "\n",
              "<div id=\"df-0bffe518-1d7c-4381-991c-f521e32560cc\">\n",
              "  <button class=\"colab-df-quickchart\" onclick=\"quickchart('df-0bffe518-1d7c-4381-991c-f521e32560cc')\"\n",
              "            title=\"Suggest charts.\"\n",
              "            style=\"display:none;\">\n",
              "\n",
              "<svg xmlns=\"http://www.w3.org/2000/svg\" height=\"24px\"viewBox=\"0 0 24 24\"\n",
              "     width=\"24px\">\n",
              "    <g>\n",
              "        <path d=\"M19 3H5c-1.1 0-2 .9-2 2v14c0 1.1.9 2 2 2h14c1.1 0 2-.9 2-2V5c0-1.1-.9-2-2-2zM9 17H7v-7h2v7zm4 0h-2V7h2v10zm4 0h-2v-4h2v4z\"/>\n",
              "    </g>\n",
              "</svg>\n",
              "  </button>\n",
              "\n",
              "<style>\n",
              "  .colab-df-quickchart {\n",
              "      --bg-color: #E8F0FE;\n",
              "      --fill-color: #1967D2;\n",
              "      --hover-bg-color: #E2EBFA;\n",
              "      --hover-fill-color: #174EA6;\n",
              "      --disabled-fill-color: #AAA;\n",
              "      --disabled-bg-color: #DDD;\n",
              "  }\n",
              "\n",
              "  [theme=dark] .colab-df-quickchart {\n",
              "      --bg-color: #3B4455;\n",
              "      --fill-color: #D2E3FC;\n",
              "      --hover-bg-color: #434B5C;\n",
              "      --hover-fill-color: #FFFFFF;\n",
              "      --disabled-bg-color: #3B4455;\n",
              "      --disabled-fill-color: #666;\n",
              "  }\n",
              "\n",
              "  .colab-df-quickchart {\n",
              "    background-color: var(--bg-color);\n",
              "    border: none;\n",
              "    border-radius: 50%;\n",
              "    cursor: pointer;\n",
              "    display: none;\n",
              "    fill: var(--fill-color);\n",
              "    height: 32px;\n",
              "    padding: 0;\n",
              "    width: 32px;\n",
              "  }\n",
              "\n",
              "  .colab-df-quickchart:hover {\n",
              "    background-color: var(--hover-bg-color);\n",
              "    box-shadow: 0 1px 2px rgba(60, 64, 67, 0.3), 0 1px 3px 1px rgba(60, 64, 67, 0.15);\n",
              "    fill: var(--button-hover-fill-color);\n",
              "  }\n",
              "\n",
              "  .colab-df-quickchart-complete:disabled,\n",
              "  .colab-df-quickchart-complete:disabled:hover {\n",
              "    background-color: var(--disabled-bg-color);\n",
              "    fill: var(--disabled-fill-color);\n",
              "    box-shadow: none;\n",
              "  }\n",
              "\n",
              "  .colab-df-spinner {\n",
              "    border: 2px solid var(--fill-color);\n",
              "    border-color: transparent;\n",
              "    border-bottom-color: var(--fill-color);\n",
              "    animation:\n",
              "      spin 1s steps(1) infinite;\n",
              "  }\n",
              "\n",
              "  @keyframes spin {\n",
              "    0% {\n",
              "      border-color: transparent;\n",
              "      border-bottom-color: var(--fill-color);\n",
              "      border-left-color: var(--fill-color);\n",
              "    }\n",
              "    20% {\n",
              "      border-color: transparent;\n",
              "      border-left-color: var(--fill-color);\n",
              "      border-top-color: var(--fill-color);\n",
              "    }\n",
              "    30% {\n",
              "      border-color: transparent;\n",
              "      border-left-color: var(--fill-color);\n",
              "      border-top-color: var(--fill-color);\n",
              "      border-right-color: var(--fill-color);\n",
              "    }\n",
              "    40% {\n",
              "      border-color: transparent;\n",
              "      border-right-color: var(--fill-color);\n",
              "      border-top-color: var(--fill-color);\n",
              "    }\n",
              "    60% {\n",
              "      border-color: transparent;\n",
              "      border-right-color: var(--fill-color);\n",
              "    }\n",
              "    80% {\n",
              "      border-color: transparent;\n",
              "      border-right-color: var(--fill-color);\n",
              "      border-bottom-color: var(--fill-color);\n",
              "    }\n",
              "    90% {\n",
              "      border-color: transparent;\n",
              "      border-bottom-color: var(--fill-color);\n",
              "    }\n",
              "  }\n",
              "</style>\n",
              "\n",
              "  <script>\n",
              "    async function quickchart(key) {\n",
              "      const quickchartButtonEl =\n",
              "        document.querySelector('#' + key + ' button');\n",
              "      quickchartButtonEl.disabled = true;  // To prevent multiple clicks.\n",
              "      quickchartButtonEl.classList.add('colab-df-spinner');\n",
              "      try {\n",
              "        const charts = await google.colab.kernel.invokeFunction(\n",
              "            'suggestCharts', [key], {});\n",
              "      } catch (error) {\n",
              "        console.error('Error during call to suggestCharts:', error);\n",
              "      }\n",
              "      quickchartButtonEl.classList.remove('colab-df-spinner');\n",
              "      quickchartButtonEl.classList.add('colab-df-quickchart-complete');\n",
              "    }\n",
              "    (() => {\n",
              "      let quickchartButtonEl =\n",
              "        document.querySelector('#df-0bffe518-1d7c-4381-991c-f521e32560cc button');\n",
              "      quickchartButtonEl.style.display =\n",
              "        google.colab.kernel.accessAllowed ? 'block' : 'none';\n",
              "    })();\n",
              "  </script>\n",
              "</div>\n",
              "    </div>\n",
              "  </div>\n"
            ]
          },
          "metadata": {},
          "execution_count": 9
        }
      ],
      "source": [
        "# We just need these rows: text, stars\n",
        "df_new = df[['text', 'stars']].copy()\n",
        "df_new.head()\n"
      ]
    },
    {
      "cell_type": "code",
      "execution_count": 10,
      "metadata": {
        "id": "8i462Ezr2ufZ",
        "colab": {
          "base_uri": "https://localhost:8080/",
          "height": 206
        },
        "outputId": "715f322d-16e2-4991-a4f3-85a96d0d2b73"
      },
      "outputs": [
        {
          "output_type": "execute_result",
          "data": {
            "text/plain": [
              "                                             ratings  labels\n",
              "0  The food was absolutely delicious! I couldn't ...       1\n",
              "1  Excellent service and a charming ambiance. I h...       1\n",
              "2  This restaurant has a fantastic selection of d...       1\n",
              "3  The staff is incredibly attentive and friendly...       1\n",
              "4  I love how they use fresh, high-quality ingred...       1"
            ],
            "text/html": [
              "\n",
              "  <div id=\"df-4bca4928-32ce-44af-b181-989ae9a37b3d\" class=\"colab-df-container\">\n",
              "    <div>\n",
              "<style scoped>\n",
              "    .dataframe tbody tr th:only-of-type {\n",
              "        vertical-align: middle;\n",
              "    }\n",
              "\n",
              "    .dataframe tbody tr th {\n",
              "        vertical-align: top;\n",
              "    }\n",
              "\n",
              "    .dataframe thead th {\n",
              "        text-align: right;\n",
              "    }\n",
              "</style>\n",
              "<table border=\"1\" class=\"dataframe\">\n",
              "  <thead>\n",
              "    <tr style=\"text-align: right;\">\n",
              "      <th></th>\n",
              "      <th>ratings</th>\n",
              "      <th>labels</th>\n",
              "    </tr>\n",
              "  </thead>\n",
              "  <tbody>\n",
              "    <tr>\n",
              "      <th>0</th>\n",
              "      <td>The food was absolutely delicious! I couldn't ...</td>\n",
              "      <td>1</td>\n",
              "    </tr>\n",
              "    <tr>\n",
              "      <th>1</th>\n",
              "      <td>Excellent service and a charming ambiance. I h...</td>\n",
              "      <td>1</td>\n",
              "    </tr>\n",
              "    <tr>\n",
              "      <th>2</th>\n",
              "      <td>This restaurant has a fantastic selection of d...</td>\n",
              "      <td>1</td>\n",
              "    </tr>\n",
              "    <tr>\n",
              "      <th>3</th>\n",
              "      <td>The staff is incredibly attentive and friendly...</td>\n",
              "      <td>1</td>\n",
              "    </tr>\n",
              "    <tr>\n",
              "      <th>4</th>\n",
              "      <td>I love how they use fresh, high-quality ingred...</td>\n",
              "      <td>1</td>\n",
              "    </tr>\n",
              "  </tbody>\n",
              "</table>\n",
              "</div>\n",
              "    <div class=\"colab-df-buttons\">\n",
              "\n",
              "  <div class=\"colab-df-container\">\n",
              "    <button class=\"colab-df-convert\" onclick=\"convertToInteractive('df-4bca4928-32ce-44af-b181-989ae9a37b3d')\"\n",
              "            title=\"Convert this dataframe to an interactive table.\"\n",
              "            style=\"display:none;\">\n",
              "\n",
              "  <svg xmlns=\"http://www.w3.org/2000/svg\" height=\"24px\" viewBox=\"0 -960 960 960\">\n",
              "    <path d=\"M120-120v-720h720v720H120Zm60-500h600v-160H180v160Zm220 220h160v-160H400v160Zm0 220h160v-160H400v160ZM180-400h160v-160H180v160Zm440 0h160v-160H620v160ZM180-180h160v-160H180v160Zm440 0h160v-160H620v160Z\"/>\n",
              "  </svg>\n",
              "    </button>\n",
              "\n",
              "  <style>\n",
              "    .colab-df-container {\n",
              "      display:flex;\n",
              "      gap: 12px;\n",
              "    }\n",
              "\n",
              "    .colab-df-convert {\n",
              "      background-color: #E8F0FE;\n",
              "      border: none;\n",
              "      border-radius: 50%;\n",
              "      cursor: pointer;\n",
              "      display: none;\n",
              "      fill: #1967D2;\n",
              "      height: 32px;\n",
              "      padding: 0 0 0 0;\n",
              "      width: 32px;\n",
              "    }\n",
              "\n",
              "    .colab-df-convert:hover {\n",
              "      background-color: #E2EBFA;\n",
              "      box-shadow: 0px 1px 2px rgba(60, 64, 67, 0.3), 0px 1px 3px 1px rgba(60, 64, 67, 0.15);\n",
              "      fill: #174EA6;\n",
              "    }\n",
              "\n",
              "    .colab-df-buttons div {\n",
              "      margin-bottom: 4px;\n",
              "    }\n",
              "\n",
              "    [theme=dark] .colab-df-convert {\n",
              "      background-color: #3B4455;\n",
              "      fill: #D2E3FC;\n",
              "    }\n",
              "\n",
              "    [theme=dark] .colab-df-convert:hover {\n",
              "      background-color: #434B5C;\n",
              "      box-shadow: 0px 1px 3px 1px rgba(0, 0, 0, 0.15);\n",
              "      filter: drop-shadow(0px 1px 2px rgba(0, 0, 0, 0.3));\n",
              "      fill: #FFFFFF;\n",
              "    }\n",
              "  </style>\n",
              "\n",
              "    <script>\n",
              "      const buttonEl =\n",
              "        document.querySelector('#df-4bca4928-32ce-44af-b181-989ae9a37b3d button.colab-df-convert');\n",
              "      buttonEl.style.display =\n",
              "        google.colab.kernel.accessAllowed ? 'block' : 'none';\n",
              "\n",
              "      async function convertToInteractive(key) {\n",
              "        const element = document.querySelector('#df-4bca4928-32ce-44af-b181-989ae9a37b3d');\n",
              "        const dataTable =\n",
              "          await google.colab.kernel.invokeFunction('convertToInteractive',\n",
              "                                                    [key], {});\n",
              "        if (!dataTable) return;\n",
              "\n",
              "        const docLinkHtml = 'Like what you see? Visit the ' +\n",
              "          '<a target=\"_blank\" href=https://colab.research.google.com/notebooks/data_table.ipynb>data table notebook</a>'\n",
              "          + ' to learn more about interactive tables.';\n",
              "        element.innerHTML = '';\n",
              "        dataTable['output_type'] = 'display_data';\n",
              "        await google.colab.output.renderOutput(dataTable, element);\n",
              "        const docLink = document.createElement('div');\n",
              "        docLink.innerHTML = docLinkHtml;\n",
              "        element.appendChild(docLink);\n",
              "      }\n",
              "    </script>\n",
              "  </div>\n",
              "\n",
              "\n",
              "<div id=\"df-dc62b54d-75f3-48e0-9246-cca3f64cb0e3\">\n",
              "  <button class=\"colab-df-quickchart\" onclick=\"quickchart('df-dc62b54d-75f3-48e0-9246-cca3f64cb0e3')\"\n",
              "            title=\"Suggest charts.\"\n",
              "            style=\"display:none;\">\n",
              "\n",
              "<svg xmlns=\"http://www.w3.org/2000/svg\" height=\"24px\"viewBox=\"0 0 24 24\"\n",
              "     width=\"24px\">\n",
              "    <g>\n",
              "        <path d=\"M19 3H5c-1.1 0-2 .9-2 2v14c0 1.1.9 2 2 2h14c1.1 0 2-.9 2-2V5c0-1.1-.9-2-2-2zM9 17H7v-7h2v7zm4 0h-2V7h2v10zm4 0h-2v-4h2v4z\"/>\n",
              "    </g>\n",
              "</svg>\n",
              "  </button>\n",
              "\n",
              "<style>\n",
              "  .colab-df-quickchart {\n",
              "      --bg-color: #E8F0FE;\n",
              "      --fill-color: #1967D2;\n",
              "      --hover-bg-color: #E2EBFA;\n",
              "      --hover-fill-color: #174EA6;\n",
              "      --disabled-fill-color: #AAA;\n",
              "      --disabled-bg-color: #DDD;\n",
              "  }\n",
              "\n",
              "  [theme=dark] .colab-df-quickchart {\n",
              "      --bg-color: #3B4455;\n",
              "      --fill-color: #D2E3FC;\n",
              "      --hover-bg-color: #434B5C;\n",
              "      --hover-fill-color: #FFFFFF;\n",
              "      --disabled-bg-color: #3B4455;\n",
              "      --disabled-fill-color: #666;\n",
              "  }\n",
              "\n",
              "  .colab-df-quickchart {\n",
              "    background-color: var(--bg-color);\n",
              "    border: none;\n",
              "    border-radius: 50%;\n",
              "    cursor: pointer;\n",
              "    display: none;\n",
              "    fill: var(--fill-color);\n",
              "    height: 32px;\n",
              "    padding: 0;\n",
              "    width: 32px;\n",
              "  }\n",
              "\n",
              "  .colab-df-quickchart:hover {\n",
              "    background-color: var(--hover-bg-color);\n",
              "    box-shadow: 0 1px 2px rgba(60, 64, 67, 0.3), 0 1px 3px 1px rgba(60, 64, 67, 0.15);\n",
              "    fill: var(--button-hover-fill-color);\n",
              "  }\n",
              "\n",
              "  .colab-df-quickchart-complete:disabled,\n",
              "  .colab-df-quickchart-complete:disabled:hover {\n",
              "    background-color: var(--disabled-bg-color);\n",
              "    fill: var(--disabled-fill-color);\n",
              "    box-shadow: none;\n",
              "  }\n",
              "\n",
              "  .colab-df-spinner {\n",
              "    border: 2px solid var(--fill-color);\n",
              "    border-color: transparent;\n",
              "    border-bottom-color: var(--fill-color);\n",
              "    animation:\n",
              "      spin 1s steps(1) infinite;\n",
              "  }\n",
              "\n",
              "  @keyframes spin {\n",
              "    0% {\n",
              "      border-color: transparent;\n",
              "      border-bottom-color: var(--fill-color);\n",
              "      border-left-color: var(--fill-color);\n",
              "    }\n",
              "    20% {\n",
              "      border-color: transparent;\n",
              "      border-left-color: var(--fill-color);\n",
              "      border-top-color: var(--fill-color);\n",
              "    }\n",
              "    30% {\n",
              "      border-color: transparent;\n",
              "      border-left-color: var(--fill-color);\n",
              "      border-top-color: var(--fill-color);\n",
              "      border-right-color: var(--fill-color);\n",
              "    }\n",
              "    40% {\n",
              "      border-color: transparent;\n",
              "      border-right-color: var(--fill-color);\n",
              "      border-top-color: var(--fill-color);\n",
              "    }\n",
              "    60% {\n",
              "      border-color: transparent;\n",
              "      border-right-color: var(--fill-color);\n",
              "    }\n",
              "    80% {\n",
              "      border-color: transparent;\n",
              "      border-right-color: var(--fill-color);\n",
              "      border-bottom-color: var(--fill-color);\n",
              "    }\n",
              "    90% {\n",
              "      border-color: transparent;\n",
              "      border-bottom-color: var(--fill-color);\n",
              "    }\n",
              "  }\n",
              "</style>\n",
              "\n",
              "  <script>\n",
              "    async function quickchart(key) {\n",
              "      const quickchartButtonEl =\n",
              "        document.querySelector('#' + key + ' button');\n",
              "      quickchartButtonEl.disabled = true;  // To prevent multiple clicks.\n",
              "      quickchartButtonEl.classList.add('colab-df-spinner');\n",
              "      try {\n",
              "        const charts = await google.colab.kernel.invokeFunction(\n",
              "            'suggestCharts', [key], {});\n",
              "      } catch (error) {\n",
              "        console.error('Error during call to suggestCharts:', error);\n",
              "      }\n",
              "      quickchartButtonEl.classList.remove('colab-df-spinner');\n",
              "      quickchartButtonEl.classList.add('colab-df-quickchart-complete');\n",
              "    }\n",
              "    (() => {\n",
              "      let quickchartButtonEl =\n",
              "        document.querySelector('#df-dc62b54d-75f3-48e0-9246-cca3f64cb0e3 button');\n",
              "      quickchartButtonEl.style.display =\n",
              "        google.colab.kernel.accessAllowed ? 'block' : 'none';\n",
              "    })();\n",
              "  </script>\n",
              "</div>\n",
              "    </div>\n",
              "  </div>\n"
            ]
          },
          "metadata": {},
          "execution_count": 10
        }
      ],
      "source": [
        "df_test = pd.read_csv('test-gpt.csv')\n",
        "df_test.drop(columns='Unnamed: 0', inplace=True)\n",
        "df_test.head()"
      ]
    },
    {
      "cell_type": "markdown",
      "metadata": {
        "id": "wR4KKpc1gRuA"
      },
      "source": [
        "# Text Preprocessing"
      ]
    },
    {
      "cell_type": "markdown",
      "metadata": {
        "id": "-N71-GnUgU8h"
      },
      "source": [
        "Now, it's the time to apply text preprocessing. In text preprocessing we remove stopwords, remove punctuations, expand contractions, and make all words to lower."
      ]
    },
    {
      "cell_type": "code",
      "execution_count": 11,
      "metadata": {
        "id": "MqZVWSr6kOtC"
      },
      "outputs": [],
      "source": [
        "stop_words = set(stopwords.words('english'))"
      ]
    },
    {
      "cell_type": "code",
      "execution_count": 12,
      "metadata": {
        "id": "y__8iXsuxGzf",
        "colab": {
          "base_uri": "https://localhost:8080/"
        },
        "outputId": "a3ea74c8-1cf1-4a2d-fe4f-99fb18ad5dc5"
      },
      "outputs": [
        {
          "output_type": "stream",
          "name": "stdout",
          "text": [
            "{'didn', 'we', 'doesn', 'other', \"you're\", 'so', 'its', 'by', 'once', 'nor', 'him', 'on', 'she', \"weren't\", 'weren', \"shan't\", 'what', 'no', 'these', 'his', 'were', 'll', \"shouldn't\", 'after', 'o', 'those', 'hers', 'below', 'then', 'but', 'off', 'where', 'there', 'your', 'them', 'our', \"mightn't\", 'that', 'their', 'having', 'will', 'you', 'couldn', 'it', \"don't\", 'only', 'theirs', 'does', 'of', 'above', 'they', 'with', 've', 'a', 'out', 'own', 'hadn', \"mustn't\", \"that'll\", 'an', 'up', \"wouldn't\", 'did', 'ours', 'just', 'be', 'has', \"won't\", 'while', \"it's\", 'myself', 'themselves', 'itself', 'needn', 'some', 'being', 'mightn', 'don', 'shouldn', 'through', \"haven't\", \"she's\", \"should've\", 'i', 'not', 'me', 'to', 'shan', 'before', \"hadn't\", \"you'll\", 'was', 'is', 'or', 'my', 'wouldn', 'yourselves', 'd', 'any', 'yourself', 'herself', 'about', 'aren', 'too', 'doing', 'how', 'this', 'hasn', \"couldn't\", 'most', 'ma', 'isn', 'ourselves', 'himself', 're', \"aren't\", \"wasn't\", 'very', 'do', 'mustn', 'he', 'are', 'can', 'each', \"doesn't\", 'at', 'why', 'when', 'should', 'had', \"didn't\", 'm', 'her', 'than', 'more', 'against', 'under', 'now', 'further', 'am', 'y', 'down', \"isn't\", 'yours', 'between', 'in', \"needn't\", 'wasn', 'whom', 's', 'which', 'same', 'been', 'few', \"you'd\", 'won', 'as', 'and', 'the', 'again', 'into', 'here', 'over', 'who', 'if', \"hasn't\", 'haven', 'because', \"you've\", 'such', 'until', 'during', 'from', 'ain', 'have', 'all', 'for', 'both', 't'}\n"
          ]
        }
      ],
      "source": [
        "print(stop_words)"
      ]
    },
    {
      "cell_type": "code",
      "execution_count": 13,
      "metadata": {
        "id": "3rQeYKWVk5vB"
      },
      "outputs": [],
      "source": [
        "def expand_sent(sent):\n",
        "  expanded_words = [ contractions.fix(word) for word in sent.split()]\n",
        "  expanded_sent = \" \".join(expanded_words)\n",
        "  return expanded_sent"
      ]
    },
    {
      "cell_type": "code",
      "execution_count": 14,
      "metadata": {
        "id": "t0oXvzb-zV3o",
        "colab": {
          "base_uri": "https://localhost:8080/",
          "height": 35
        },
        "outputId": "89a55dcf-b372-4527-bc04-d418c8a03752"
      },
      "outputs": [
        {
          "output_type": "execute_result",
          "data": {
            "text/plain": [
              "'I am not very satisfied. It is not good!'"
            ],
            "application/vnd.google.colaboratory.intrinsic+json": {
              "type": "string"
            }
          },
          "metadata": {},
          "execution_count": 14
        }
      ],
      "source": [
        "# Lets see an example\n",
        "sent = \"I'm not very satisfied. It isn't good!\"\n",
        "expand_sent(sent)"
      ]
    },
    {
      "cell_type": "code",
      "execution_count": 15,
      "metadata": {
        "id": "4bpTH1UXzlU7"
      },
      "outputs": [],
      "source": [
        "def clean_sent(sent):\n",
        "  sent = expand_sent(sent)\n",
        "  tokens = word_tokenize(sent)\n",
        "  tokens = [word.lower() for word in tokens]\n",
        "  # tokens =[word for word in tokens if not (word in stop_words)]\n",
        "  tokens = [word for word in tokens if word.isalpha()]\n",
        "  return \" \". join(tokens)"
      ]
    },
    {
      "cell_type": "code",
      "execution_count": 16,
      "metadata": {
        "id": "oBpQD9qU0Wzg",
        "colab": {
          "base_uri": "https://localhost:8080/",
          "height": 35
        },
        "outputId": "e705918d-895e-4e2d-a6a1-90673afb8f05"
      },
      "outputs": [
        {
          "output_type": "execute_result",
          "data": {
            "text/plain": [
              "'i am not very satisfied the price is it is not so cheep'"
            ],
            "application/vnd.google.colaboratory.intrinsic+json": {
              "type": "string"
            }
          },
          "metadata": {},
          "execution_count": 16
        }
      ],
      "source": [
        "#Lets see an example\n",
        "sent = \"I'm not very satisfied. The price is 12$, it's not so cheep!!!???\"\n",
        "clean_sent(sent)\n"
      ]
    },
    {
      "cell_type": "code",
      "execution_count": 17,
      "metadata": {
        "id": "tvY-A9fs0jjZ",
        "colab": {
          "base_uri": "https://localhost:8080/"
        },
        "outputId": "138a8302-9515-4029-f9e3-a0afa79222b9"
      },
      "outputs": [
        {
          "output_type": "stream",
          "name": "stderr",
          "text": [
            "100%|██████████| 10000/10000 [00:25<00:00, 387.83it/s]\n"
          ]
        }
      ],
      "source": [
        "# Now lets clean the sentences in the data set\n",
        "from tqdm import tqdm\n",
        "tqdm.pandas()\n",
        "df_new['clean_text'] = df_new['text'].progress_apply(clean_sent)\n",
        "# df_new['new_stars'] = df_new['stars'].apply(lambda star: star-1)\n",
        "ratings={1:0, 2:0, 3:1, 4:1, 5:1}\n",
        "df_new['new_stars'] = df_new['stars'].apply(lambda star: ratings[star])\n"
      ]
    },
    {
      "cell_type": "code",
      "execution_count": 18,
      "metadata": {
        "id": "epfbrWl54Xfx",
        "colab": {
          "base_uri": "https://localhost:8080/",
          "height": 441
        },
        "outputId": "436c78ab-ad52-498c-eac7-c3c498de653f"
      },
      "outputs": [
        {
          "output_type": "stream",
          "name": "stderr",
          "text": [
            "100%|██████████| 300/300 [00:00<00:00, 5667.21it/s]\n"
          ]
        },
        {
          "output_type": "execute_result",
          "data": {
            "text/plain": [
              "                                               ratings  labels\n",
              "0    the food was absolutely delicious i could not ...       1\n",
              "1    excellent service and a charming ambiance i ha...       1\n",
              "2    this restaurant has a fantastic selection of d...       1\n",
              "3    the staff is incredibly attentive and friendly...       1\n",
              "4    i love how they use fresh ingredients the flav...       1\n",
              "..                                                 ...     ...\n",
              "295  the staff was unattentive and it was hard to g...       0\n",
              "296  the desserts were too sweet and it was overwhe...       0\n",
              "297  the food lacked creativity and tasted like gen...       0\n",
              "298  the restaurant had an insect problem which was...       0\n",
              "299  the server was forgetful and did not bring all...       0\n",
              "\n",
              "[300 rows x 2 columns]"
            ],
            "text/html": [
              "\n",
              "  <div id=\"df-e89a218b-39d3-4a26-a18d-2f6117b82868\" class=\"colab-df-container\">\n",
              "    <div>\n",
              "<style scoped>\n",
              "    .dataframe tbody tr th:only-of-type {\n",
              "        vertical-align: middle;\n",
              "    }\n",
              "\n",
              "    .dataframe tbody tr th {\n",
              "        vertical-align: top;\n",
              "    }\n",
              "\n",
              "    .dataframe thead th {\n",
              "        text-align: right;\n",
              "    }\n",
              "</style>\n",
              "<table border=\"1\" class=\"dataframe\">\n",
              "  <thead>\n",
              "    <tr style=\"text-align: right;\">\n",
              "      <th></th>\n",
              "      <th>ratings</th>\n",
              "      <th>labels</th>\n",
              "    </tr>\n",
              "  </thead>\n",
              "  <tbody>\n",
              "    <tr>\n",
              "      <th>0</th>\n",
              "      <td>the food was absolutely delicious i could not ...</td>\n",
              "      <td>1</td>\n",
              "    </tr>\n",
              "    <tr>\n",
              "      <th>1</th>\n",
              "      <td>excellent service and a charming ambiance i ha...</td>\n",
              "      <td>1</td>\n",
              "    </tr>\n",
              "    <tr>\n",
              "      <th>2</th>\n",
              "      <td>this restaurant has a fantastic selection of d...</td>\n",
              "      <td>1</td>\n",
              "    </tr>\n",
              "    <tr>\n",
              "      <th>3</th>\n",
              "      <td>the staff is incredibly attentive and friendly...</td>\n",
              "      <td>1</td>\n",
              "    </tr>\n",
              "    <tr>\n",
              "      <th>4</th>\n",
              "      <td>i love how they use fresh ingredients the flav...</td>\n",
              "      <td>1</td>\n",
              "    </tr>\n",
              "    <tr>\n",
              "      <th>...</th>\n",
              "      <td>...</td>\n",
              "      <td>...</td>\n",
              "    </tr>\n",
              "    <tr>\n",
              "      <th>295</th>\n",
              "      <td>the staff was unattentive and it was hard to g...</td>\n",
              "      <td>0</td>\n",
              "    </tr>\n",
              "    <tr>\n",
              "      <th>296</th>\n",
              "      <td>the desserts were too sweet and it was overwhe...</td>\n",
              "      <td>0</td>\n",
              "    </tr>\n",
              "    <tr>\n",
              "      <th>297</th>\n",
              "      <td>the food lacked creativity and tasted like gen...</td>\n",
              "      <td>0</td>\n",
              "    </tr>\n",
              "    <tr>\n",
              "      <th>298</th>\n",
              "      <td>the restaurant had an insect problem which was...</td>\n",
              "      <td>0</td>\n",
              "    </tr>\n",
              "    <tr>\n",
              "      <th>299</th>\n",
              "      <td>the server was forgetful and did not bring all...</td>\n",
              "      <td>0</td>\n",
              "    </tr>\n",
              "  </tbody>\n",
              "</table>\n",
              "<p>300 rows × 2 columns</p>\n",
              "</div>\n",
              "    <div class=\"colab-df-buttons\">\n",
              "\n",
              "  <div class=\"colab-df-container\">\n",
              "    <button class=\"colab-df-convert\" onclick=\"convertToInteractive('df-e89a218b-39d3-4a26-a18d-2f6117b82868')\"\n",
              "            title=\"Convert this dataframe to an interactive table.\"\n",
              "            style=\"display:none;\">\n",
              "\n",
              "  <svg xmlns=\"http://www.w3.org/2000/svg\" height=\"24px\" viewBox=\"0 -960 960 960\">\n",
              "    <path d=\"M120-120v-720h720v720H120Zm60-500h600v-160H180v160Zm220 220h160v-160H400v160Zm0 220h160v-160H400v160ZM180-400h160v-160H180v160Zm440 0h160v-160H620v160ZM180-180h160v-160H180v160Zm440 0h160v-160H620v160Z\"/>\n",
              "  </svg>\n",
              "    </button>\n",
              "\n",
              "  <style>\n",
              "    .colab-df-container {\n",
              "      display:flex;\n",
              "      gap: 12px;\n",
              "    }\n",
              "\n",
              "    .colab-df-convert {\n",
              "      background-color: #E8F0FE;\n",
              "      border: none;\n",
              "      border-radius: 50%;\n",
              "      cursor: pointer;\n",
              "      display: none;\n",
              "      fill: #1967D2;\n",
              "      height: 32px;\n",
              "      padding: 0 0 0 0;\n",
              "      width: 32px;\n",
              "    }\n",
              "\n",
              "    .colab-df-convert:hover {\n",
              "      background-color: #E2EBFA;\n",
              "      box-shadow: 0px 1px 2px rgba(60, 64, 67, 0.3), 0px 1px 3px 1px rgba(60, 64, 67, 0.15);\n",
              "      fill: #174EA6;\n",
              "    }\n",
              "\n",
              "    .colab-df-buttons div {\n",
              "      margin-bottom: 4px;\n",
              "    }\n",
              "\n",
              "    [theme=dark] .colab-df-convert {\n",
              "      background-color: #3B4455;\n",
              "      fill: #D2E3FC;\n",
              "    }\n",
              "\n",
              "    [theme=dark] .colab-df-convert:hover {\n",
              "      background-color: #434B5C;\n",
              "      box-shadow: 0px 1px 3px 1px rgba(0, 0, 0, 0.15);\n",
              "      filter: drop-shadow(0px 1px 2px rgba(0, 0, 0, 0.3));\n",
              "      fill: #FFFFFF;\n",
              "    }\n",
              "  </style>\n",
              "\n",
              "    <script>\n",
              "      const buttonEl =\n",
              "        document.querySelector('#df-e89a218b-39d3-4a26-a18d-2f6117b82868 button.colab-df-convert');\n",
              "      buttonEl.style.display =\n",
              "        google.colab.kernel.accessAllowed ? 'block' : 'none';\n",
              "\n",
              "      async function convertToInteractive(key) {\n",
              "        const element = document.querySelector('#df-e89a218b-39d3-4a26-a18d-2f6117b82868');\n",
              "        const dataTable =\n",
              "          await google.colab.kernel.invokeFunction('convertToInteractive',\n",
              "                                                    [key], {});\n",
              "        if (!dataTable) return;\n",
              "\n",
              "        const docLinkHtml = 'Like what you see? Visit the ' +\n",
              "          '<a target=\"_blank\" href=https://colab.research.google.com/notebooks/data_table.ipynb>data table notebook</a>'\n",
              "          + ' to learn more about interactive tables.';\n",
              "        element.innerHTML = '';\n",
              "        dataTable['output_type'] = 'display_data';\n",
              "        await google.colab.output.renderOutput(dataTable, element);\n",
              "        const docLink = document.createElement('div');\n",
              "        docLink.innerHTML = docLinkHtml;\n",
              "        element.appendChild(docLink);\n",
              "      }\n",
              "    </script>\n",
              "  </div>\n",
              "\n",
              "\n",
              "<div id=\"df-50147a5d-552b-40e3-922f-0f2785ffcad0\">\n",
              "  <button class=\"colab-df-quickchart\" onclick=\"quickchart('df-50147a5d-552b-40e3-922f-0f2785ffcad0')\"\n",
              "            title=\"Suggest charts.\"\n",
              "            style=\"display:none;\">\n",
              "\n",
              "<svg xmlns=\"http://www.w3.org/2000/svg\" height=\"24px\"viewBox=\"0 0 24 24\"\n",
              "     width=\"24px\">\n",
              "    <g>\n",
              "        <path d=\"M19 3H5c-1.1 0-2 .9-2 2v14c0 1.1.9 2 2 2h14c1.1 0 2-.9 2-2V5c0-1.1-.9-2-2-2zM9 17H7v-7h2v7zm4 0h-2V7h2v10zm4 0h-2v-4h2v4z\"/>\n",
              "    </g>\n",
              "</svg>\n",
              "  </button>\n",
              "\n",
              "<style>\n",
              "  .colab-df-quickchart {\n",
              "      --bg-color: #E8F0FE;\n",
              "      --fill-color: #1967D2;\n",
              "      --hover-bg-color: #E2EBFA;\n",
              "      --hover-fill-color: #174EA6;\n",
              "      --disabled-fill-color: #AAA;\n",
              "      --disabled-bg-color: #DDD;\n",
              "  }\n",
              "\n",
              "  [theme=dark] .colab-df-quickchart {\n",
              "      --bg-color: #3B4455;\n",
              "      --fill-color: #D2E3FC;\n",
              "      --hover-bg-color: #434B5C;\n",
              "      --hover-fill-color: #FFFFFF;\n",
              "      --disabled-bg-color: #3B4455;\n",
              "      --disabled-fill-color: #666;\n",
              "  }\n",
              "\n",
              "  .colab-df-quickchart {\n",
              "    background-color: var(--bg-color);\n",
              "    border: none;\n",
              "    border-radius: 50%;\n",
              "    cursor: pointer;\n",
              "    display: none;\n",
              "    fill: var(--fill-color);\n",
              "    height: 32px;\n",
              "    padding: 0;\n",
              "    width: 32px;\n",
              "  }\n",
              "\n",
              "  .colab-df-quickchart:hover {\n",
              "    background-color: var(--hover-bg-color);\n",
              "    box-shadow: 0 1px 2px rgba(60, 64, 67, 0.3), 0 1px 3px 1px rgba(60, 64, 67, 0.15);\n",
              "    fill: var(--button-hover-fill-color);\n",
              "  }\n",
              "\n",
              "  .colab-df-quickchart-complete:disabled,\n",
              "  .colab-df-quickchart-complete:disabled:hover {\n",
              "    background-color: var(--disabled-bg-color);\n",
              "    fill: var(--disabled-fill-color);\n",
              "    box-shadow: none;\n",
              "  }\n",
              "\n",
              "  .colab-df-spinner {\n",
              "    border: 2px solid var(--fill-color);\n",
              "    border-color: transparent;\n",
              "    border-bottom-color: var(--fill-color);\n",
              "    animation:\n",
              "      spin 1s steps(1) infinite;\n",
              "  }\n",
              "\n",
              "  @keyframes spin {\n",
              "    0% {\n",
              "      border-color: transparent;\n",
              "      border-bottom-color: var(--fill-color);\n",
              "      border-left-color: var(--fill-color);\n",
              "    }\n",
              "    20% {\n",
              "      border-color: transparent;\n",
              "      border-left-color: var(--fill-color);\n",
              "      border-top-color: var(--fill-color);\n",
              "    }\n",
              "    30% {\n",
              "      border-color: transparent;\n",
              "      border-left-color: var(--fill-color);\n",
              "      border-top-color: var(--fill-color);\n",
              "      border-right-color: var(--fill-color);\n",
              "    }\n",
              "    40% {\n",
              "      border-color: transparent;\n",
              "      border-right-color: var(--fill-color);\n",
              "      border-top-color: var(--fill-color);\n",
              "    }\n",
              "    60% {\n",
              "      border-color: transparent;\n",
              "      border-right-color: var(--fill-color);\n",
              "    }\n",
              "    80% {\n",
              "      border-color: transparent;\n",
              "      border-right-color: var(--fill-color);\n",
              "      border-bottom-color: var(--fill-color);\n",
              "    }\n",
              "    90% {\n",
              "      border-color: transparent;\n",
              "      border-bottom-color: var(--fill-color);\n",
              "    }\n",
              "  }\n",
              "</style>\n",
              "\n",
              "  <script>\n",
              "    async function quickchart(key) {\n",
              "      const quickchartButtonEl =\n",
              "        document.querySelector('#' + key + ' button');\n",
              "      quickchartButtonEl.disabled = true;  // To prevent multiple clicks.\n",
              "      quickchartButtonEl.classList.add('colab-df-spinner');\n",
              "      try {\n",
              "        const charts = await google.colab.kernel.invokeFunction(\n",
              "            'suggestCharts', [key], {});\n",
              "      } catch (error) {\n",
              "        console.error('Error during call to suggestCharts:', error);\n",
              "      }\n",
              "      quickchartButtonEl.classList.remove('colab-df-spinner');\n",
              "      quickchartButtonEl.classList.add('colab-df-quickchart-complete');\n",
              "    }\n",
              "    (() => {\n",
              "      let quickchartButtonEl =\n",
              "        document.querySelector('#df-50147a5d-552b-40e3-922f-0f2785ffcad0 button');\n",
              "      quickchartButtonEl.style.display =\n",
              "        google.colab.kernel.accessAllowed ? 'block' : 'none';\n",
              "    })();\n",
              "  </script>\n",
              "</div>\n",
              "    </div>\n",
              "  </div>\n"
            ]
          },
          "metadata": {},
          "execution_count": 18
        }
      ],
      "source": [
        "tqdm.pandas()\n",
        "df_test['ratings'] = df_test['ratings'].progress_apply(clean_sent)\n",
        "df_test"
      ]
    },
    {
      "cell_type": "markdown",
      "metadata": {
        "id": "kNXZXgFE59mR"
      },
      "source": [
        "# ‌Build Vocabulary for the data set"
      ]
    },
    {
      "cell_type": "markdown",
      "metadata": {
        "id": "6uja7TbNU-eK"
      },
      "source": [
        "In this section, we write a function to create a vocabulary for a given data set. To this aim, each word should be mapped to unique index."
      ]
    },
    {
      "cell_type": "code",
      "execution_count": 19,
      "metadata": {
        "id": "Dta9Zp2K1bTV"
      },
      "outputs": [],
      "source": [
        "def build_vocab(df, min_freq):\n",
        "  word2index ={}\n",
        "  index2word = {}\n",
        "  word_count ={}\n",
        "  index2word[0] = '<PAD>'\n",
        "  index2word[1] = '<UNK>'\n",
        "\n",
        "  word2index['<PAD>'] = 0\n",
        "  word2index['<UNK>'] = 1\n",
        "  sentences = df['clean_text'].to_list()\n",
        "  for sent in sentences:\n",
        "    tokens = sent.split()\n",
        "    for token in tokens:\n",
        "      if  not (token in word_count):\n",
        "        word_count[token] =1\n",
        "      else:\n",
        "        word_count[token]+=1\n",
        "  index =2\n",
        "  for word in word_count:\n",
        "    if word_count[word]>=min_freq:\n",
        "      index2word[index] = word\n",
        "      word2index[word] = index\n",
        "      index+=1\n",
        "  return word2index, index2word, word_count"
      ]
    },
    {
      "cell_type": "code",
      "execution_count": 20,
      "metadata": {
        "id": "DYdtlFxjY2j2"
      },
      "outputs": [],
      "source": [
        "df_train, df_val = train_test_split(df_new, test_size=0.3, shuffle=True, random_state=123)"
      ]
    },
    {
      "cell_type": "code",
      "execution_count": 21,
      "metadata": {
        "id": "XZAuxKVW3sDz"
      },
      "outputs": [],
      "source": [
        "train_labels = [label for label in df_train['new_stars']]\n",
        "val_labels = [label for label in df_val['new_stars']]\n",
        "test_labels = [label for label in df_test['labels']]"
      ]
    },
    {
      "cell_type": "code",
      "execution_count": 22,
      "metadata": {
        "id": "--MTGkN51Qe9"
      },
      "outputs": [],
      "source": [
        "min_freq = 4\n",
        "word2index, index2word, word_count = build_vocab(df_train, min_freq)"
      ]
    },
    {
      "cell_type": "code",
      "execution_count": 23,
      "metadata": {
        "id": "XLCzN3wH1UJl",
        "colab": {
          "base_uri": "https://localhost:8080/"
        },
        "outputId": "d5c12d44-1887-4067-bc62-73527556f254"
      },
      "outputs": [
        {
          "output_type": "execute_result",
          "data": {
            "text/plain": [
              "8604"
            ]
          },
          "metadata": {},
          "execution_count": 23
        }
      ],
      "source": [
        "# print(word2index)\n",
        "len(word2index)"
      ]
    },
    {
      "cell_type": "code",
      "execution_count": 24,
      "metadata": {
        "id": "CgrCZLq_1Vh-",
        "colab": {
          "base_uri": "https://localhost:8080/"
        },
        "outputId": "1a0d8f88-5537-413f-a983-d67cb3dcb62f"
      },
      "outputs": [
        {
          "output_type": "execute_result",
          "data": {
            "text/plain": [
              "8604"
            ]
          },
          "metadata": {},
          "execution_count": 24
        }
      ],
      "source": [
        "# print(index2word)\n",
        "len(index2word)"
      ]
    },
    {
      "cell_type": "code",
      "execution_count": 25,
      "metadata": {
        "id": "9fAjfylmwDBb"
      },
      "outputs": [],
      "source": [
        "train_tokens=[]\n",
        "for sent in df_train['clean_text']:\n",
        "  train_tokens.append([token for token in sent.split() if token in word2index])"
      ]
    },
    {
      "cell_type": "code",
      "execution_count": 26,
      "metadata": {
        "id": "BK1UhRjdn5lp"
      },
      "outputs": [],
      "source": [
        "val_tokens=[]\n",
        "for sent in df_val['clean_text']:\n",
        "  val_tokens.append([token for token in sent.split() if token in word2index])"
      ]
    },
    {
      "cell_type": "code",
      "execution_count": 27,
      "metadata": {
        "id": "QLR6PxiXYh80"
      },
      "outputs": [],
      "source": [
        "test_tokens=[]\n",
        "for sent in df_test['ratings']:\n",
        "  test_tokens.append([token for token in sent.split() if token in word2index])"
      ]
    },
    {
      "cell_type": "code",
      "execution_count": 28,
      "metadata": {
        "id": "TVPtZERxjxpi"
      },
      "outputs": [],
      "source": [
        "train_dict_list={}\n",
        "def sentence2graph(sent):\n",
        "  start, end = 0,4 # window length\n",
        "\n",
        "  occurence = {} # occurence dict: node id: neighbors in window\n",
        "  feature_matrix =[] #feature matrix\n",
        "  i2w = {} # word to index dict in window-> word: id\n",
        "  word_seq=[]\n",
        "  sent_seq =[]\n",
        "  i=0\n",
        "  # constrict w2i and feature matrix\n",
        "  for word in sent:\n",
        "    i2w[i] = word\n",
        "    word_seq.append(word2index[word])\n",
        "    sent_seq.append(i)\n",
        "    #feature_matrix.append(embedding_model.wv[word])\n",
        "    i+=1\n",
        "  #initializw occurence\n",
        "  word_seq = torch.tensor(word_seq, dtype=torch.long)\n",
        "  #feature_matrix = embedding(word_seq)\n",
        "  for item in sent_seq:\n",
        "    occurence[item]=set()\n",
        "  #construct occurence\n",
        "  while end<=len(sent_seq)+1:\n",
        "    window = sent_seq[start:end]\n",
        "    for word in window:\n",
        "      for innerword in window:\n",
        "        occurence[word].add(innerword)\n",
        "    start+=1\n",
        "    end+=1\n",
        "  #construct edge_index\n",
        "  edge_index_1 = []\n",
        "  edge_index_2 = []\n",
        "  for source in occurence:\n",
        "    for dest in occurence[source]:\n",
        "      edge_index_1.append(source)\n",
        "      edge_index_2.append(dest)\n",
        "  edge_index = torch.tensor([edge_index_1, edge_index_2], dtype=torch.long)\n",
        "  sent_seq = torch.tensor(sent_seq, dtype=torch.long)\n",
        "  return edge_index, word_seq, sent_seq #torch.tensor(feature_matrix, dtype=torch.float)\n",
        "\n"
      ]
    },
    {
      "cell_type": "code",
      "execution_count": 29,
      "metadata": {
        "id": "kkp8kF4Qnmby"
      },
      "outputs": [],
      "source": [
        "edge_index, word_seq, sent_seq = sentence2graph(train_tokens[3000])"
      ]
    },
    {
      "cell_type": "markdown",
      "metadata": {
        "id": "Vq4FTihjf2E_"
      },
      "source": [
        "Now, we have to write a mapping function that maps sentences to their indexes based on the vocabulary that we created.\n",
        "We alse define a reversed mapping function that maps a sequence of indexes to the correponding words."
      ]
    },
    {
      "cell_type": "code",
      "execution_count": 30,
      "metadata": {
        "id": "v6H-1Lbu3VAO",
        "colab": {
          "base_uri": "https://localhost:8080/"
        },
        "outputId": "98079d9a-888f-4381-8a61-6ad784da1e59"
      },
      "outputs": [
        {
          "output_type": "stream",
          "name": "stderr",
          "text": [
            "7000it [00:06, 1132.84it/s]\n",
            "3000it [00:01, 1618.63it/s]\n"
          ]
        }
      ],
      "source": [
        "train_graphs =[]\n",
        "val_graphs = []\n",
        "for item, label in tqdm(zip(train_tokens, train_labels)):\n",
        "  edge_index, word_seq, sent_seq = sentence2graph(item)\n",
        "  train_graphs.append(Data(x=sent_seq, edge_index=edge_index,word_seq=word_seq,\n",
        "                           y=torch.tensor(label, dtype=torch.long)))\n",
        "for item, label in tqdm(zip(val_tokens, val_labels)):\n",
        "  edge_index , word_seq, sent_seq = sentence2graph(item)\n",
        "  val_graphs.append(Data(x=sent_seq, edge_index=edge_index,word_seq=word_seq\n",
        "                          , y=torch.tensor(label, dtype=torch.long)))"
      ]
    },
    {
      "cell_type": "code",
      "execution_count": 31,
      "metadata": {
        "id": "9OijmojoZEty",
        "colab": {
          "base_uri": "https://localhost:8080/"
        },
        "outputId": "d5b4c8d5-9e7d-4202-f959-1e4b1cd5fb48"
      },
      "outputs": [
        {
          "output_type": "stream",
          "name": "stderr",
          "text": [
            "300it [00:00, 8168.60it/s]\n"
          ]
        }
      ],
      "source": [
        "test_graphs = []\n",
        "for item, label in tqdm(zip(test_tokens, test_labels)):\n",
        "  edge_index , word_seq, sent_seq = sentence2graph(item)\n",
        "  test_graphs.append(Data(x=sent_seq, edge_index=edge_index,word_seq=word_seq\n",
        "                          , y=torch.tensor(label, dtype=torch.long)))"
      ]
    },
    {
      "cell_type": "markdown",
      "metadata": {
        "id": "3kf3o5KMpVxA"
      },
      "source": [
        "# Creating Pytorch Data Set\n"
      ]
    },
    {
      "cell_type": "markdown",
      "metadata": {
        "id": "_7ub2OlegyFs"
      },
      "source": [
        "Now, we have to create a pytoch data set and also the data loaders"
      ]
    },
    {
      "cell_type": "code",
      "execution_count": 32,
      "metadata": {
        "id": "fSgxIfFQ55Xa"
      },
      "outputs": [],
      "source": [
        "batch_size = 32\n",
        "train_loader = DataLoader(train_graphs, batch_size=batch_size, shuffle=True)\n",
        "val_loader = DataLoader(val_graphs, batch_size=batch_size, shuffle=False)\n",
        "\n",
        "train_eval_loader = DataLoader(train_graphs, batch_size=batch_size, shuffle=True)\n",
        "val_eval_loader = DataLoader(val_graphs, batch_size=batch_size, shuffle=False)"
      ]
    },
    {
      "cell_type": "code",
      "execution_count": 33,
      "metadata": {
        "id": "Kd3PHUCvZZoe"
      },
      "outputs": [],
      "source": [
        "test_loader = DataLoader(test_graphs, batch_size=batch_size, shuffle=False)\n",
        "\n",
        "test_eval_loader = DataLoader(test_graphs, batch_size=batch_size, shuffle=False)\n"
      ]
    },
    {
      "cell_type": "markdown",
      "source": [
        "# Weighting Module"
      ],
      "metadata": {
        "id": "KK0t8sxEQAAg"
      }
    },
    {
      "cell_type": "code",
      "execution_count": 34,
      "metadata": {
        "id": "RTU1jLzfMHkq"
      },
      "outputs": [],
      "source": [
        "class Weighting(nn.Module):\n",
        "  def __init__(self, input_dim, hidden_dim, output_dim):\n",
        "    super(Weighting, self).__init__()\n",
        "    self.network = nn.Sequential(nn.Linear(input_dim, hidden_dim),\n",
        "                                 nn.ReLU(),\n",
        "                                 nn.Linear(hidden_dim, hidden_dim),\n",
        "                                 nn.ReLU(),\n",
        "                                 nn.Linear(hidden_dim, output_dim))\n",
        "  def forward(self, x):\n",
        "    # x: [batch_size, hidden_dim]\n",
        "    x = self.network(x)\n",
        "    x = torch.sigmoid(x)\n",
        "    x = F.normalize(x, p=1, dim=0)\n",
        "\n",
        "    return x\n"
      ]
    },
    {
      "cell_type": "markdown",
      "metadata": {
        "id": "NKqbYfrL_4gn"
      },
      "source": [
        "#The GCN Network"
      ]
    },
    {
      "cell_type": "code",
      "execution_count": 35,
      "metadata": {
        "id": "jwF8j0hDEj2e"
      },
      "outputs": [],
      "source": [
        "device = torch.device('cuda' if torch.cuda.is_available() else 'cpu')"
      ]
    },
    {
      "cell_type": "code",
      "execution_count": 36,
      "metadata": {
        "id": "oMEGWcOuAIMa"
      },
      "outputs": [],
      "source": [
        "class GCNClassifier(nn.Module):\n",
        "  def __init__(self, n_vocabs, embed_dim, hidden_dim, gcn_dim, n_classes, n_layers, bidirectional=True):\n",
        "    super(GCNClassifier, self).__init__()\n",
        "    self.Embedding = nn.Embedding(n_vocabs, embed_dim)\n",
        "    self.rnn = nn.LSTM(embed_dim, hidden_dim, batch_first=True,\n",
        "                       bidirectional=bidirectional,num_layers=n_layers,\n",
        "                       dropout = 0.3)\n",
        "\n",
        "    self.fc = nn.Linear(gcn_dim, n_classes)\n",
        "\n",
        "    self.GCN1 = SAGEConv(hidden_dim*2 if bidirectional else hidden_dim, gcn_dim)\n",
        "    self.batchnorm1 = BatchNorm(gcn_dim)\n",
        "\n",
        "    self.GCN2 = SAGEConv(gcn_dim, gcn_dim)\n",
        "    self.batchnorm2 = BatchNorm(gcn_dim)\n",
        "    self.GCN3 = SAGEConv(gcn_dim, gcn_dim)\n",
        "    self.batchnorm3 = BatchNorm(gcn_dim)\n",
        "\n",
        "    self.relu = nn.ReLU()\n",
        "    self.drop = nn.Dropout(0.5)\n",
        "\n",
        "    self.padding_value= 0\n",
        "\n",
        "  def rnn_prepare(self, graph_data, padding_value ):\n",
        "      batch2nodes ={}\n",
        "      batch_size = graph_data.y.shape[0]\n",
        "      for i in range(batch_size):\n",
        "        batch2nodes[i] = []\n",
        "      for node, batch in zip(graph_data.word_seq, graph_data.batch):\n",
        "        batch2nodes[batch.item()].append(node.item())\n",
        "      seq_lists = [torch.tensor(batch2nodes[item], dtype=torch.long) for item in batch2nodes]\n",
        "      seq_lens = [len(batch2nodes[item]) for item in batch2nodes]\n",
        "      seq_lists_padded = pad_sequence(seq_lists, batch_first=True, padding_value=padding_value)\n",
        "      return seq_lists_padded, seq_lens\n",
        "\n",
        "  def forward(self, data):\n",
        "    # print(data)\n",
        "    seq_lists_padded, seq_lens = self.rnn_prepare(graph_data = data, padding_value= self.padding_value)\n",
        "    seq_lists_padded = seq_lists_padded.to(device)\n",
        "    #seq: [batch_size, seq_len]\n",
        "    seq_features = self.Embedding(seq_lists_padded)\n",
        "    seq_features= self.drop(seq_features)\n",
        "    # x = self.drop(x)\n",
        "    #x: [batch_size, seq_len, embed_dim]\n",
        "    lstm_features, _ = self.rnn(seq_features)\n",
        "    # rnn_out, (rnn_h, rnn_c) = self.rnn(x)\n",
        "    x_h = torch.cat([lstm_features[i,0:item,:] for i, item in enumerate(seq_lens)], 0)\n",
        "    edge_index = data.edge_index\n",
        "    x = self.GCN1(x_h, edge_index)\n",
        "    x = self.batchnorm1(x)\n",
        "    x = self.relu(x)\n",
        "    x = self.GCN2(x, edge_index)\n",
        "    x = self.batchnorm2(x)\n",
        "    x = self.relu(x)\n",
        "    # x = self.GCN3(x, edge_index)\n",
        "    # x = self.batchnorm3(x)\n",
        "    # x = self.relu(x)\n",
        "    x_h = global_mean_pool(x, data.batch, size=data.y.shape[0])\n",
        "    x = self.drop(x_h)\n",
        "    x = self.fc(x)\n",
        "\n",
        "    return F.log_softmax(x, dim=-1), x_h"
      ]
    },
    {
      "cell_type": "code",
      "execution_count": 37,
      "metadata": {
        "id": "3rElfh4vZNlo"
      },
      "outputs": [],
      "source": [
        "def encode_onehot_torch(num_classes, labels):\n",
        "    y = torch.eye(num_classes).to(device)\n",
        "    return y[labels]\n"
      ]
    },
    {
      "cell_type": "code",
      "execution_count": 38,
      "metadata": {
        "id": "GDSwStvnaDJj"
      },
      "outputs": [],
      "source": [
        "def loss_function_classifier(outputs, labels, weights, num_classes):\n",
        "  onehot_labels = encode_onehot_torch(num_classes, labels)\n",
        "  return torch.sum(- weights * (onehot_labels.float() * outputs).sum(1), -1)\n"
      ]
    },
    {
      "cell_type": "code",
      "execution_count": 39,
      "metadata": {
        "id": "xvWFHXbVkVtt"
      },
      "outputs": [],
      "source": [
        "def loss_function_weights(outputs, labels, weights, num_classes, gamma):\n",
        "  onehot_labels = encode_onehot_torch(num_classes, labels)\n",
        "  return torch.sum(- weights * (onehot_labels.float() * outputs).sum(1), -1) - gamma*torch.sum(weights*torch.log(weights+1e-20))\n"
      ]
    },
    {
      "cell_type": "code",
      "execution_count": 40,
      "metadata": {
        "id": "Ga-9AJvtECaY",
        "colab": {
          "base_uri": "https://localhost:8080/"
        },
        "outputId": "16b19792-7e8e-49cd-f385-992f8388d86e"
      },
      "outputs": [
        {
          "output_type": "stream",
          "name": "stderr",
          "text": [
            "/usr/local/lib/python3.10/dist-packages/torch/nn/modules/rnn.py:82: UserWarning: dropout option adds dropout after all but last recurrent layer, so non-zero dropout expects num_layers greater than 1, but got dropout=0.3 and num_layers=1\n",
            "  warnings.warn(\"dropout option adds dropout after all but last \"\n"
          ]
        }
      ],
      "source": [
        "#Initializations\n",
        "n_vocabs = len(word2index)\n",
        "embed_dim = 64\n",
        "hidden_dim = 64\n",
        "gcn_dim=32\n",
        "n_classes = 2\n",
        "n_layers = 1\n",
        "bidirectional= False\n",
        "model_classifier = GCNClassifier(n_vocabs, embed_dim, hidden_dim, gcn_dim, n_classes, n_layers, bidirectional)\n",
        "model_classifier = model_classifier.to(device)"
      ]
    },
    {
      "cell_type": "code",
      "execution_count": 41,
      "metadata": {
        "id": "F3rYlBY0gpaQ"
      },
      "outputs": [],
      "source": [
        "w_inputdim = gcn_dim\n",
        "w_hiddendim=32\n",
        "weight_lr = 4e-3\n",
        "model_weights = []\n",
        "weight_optimizers=[]\n",
        "for i in range(n_classes):\n",
        "  model_weights.append(Weighting(w_inputdim, w_hiddendim, 1).to(device))\n",
        "  weight_optimizers.append(torch.optim.Adam(model_weights[-1].parameters(), lr=weight_lr, ))"
      ]
    },
    {
      "cell_type": "code",
      "execution_count": 42,
      "metadata": {
        "id": "Q3v1r6LzSk7q",
        "colab": {
          "base_uri": "https://localhost:8080/"
        },
        "outputId": "3281ce99-2e38-4d3a-a74a-8d2966fa7e0a"
      },
      "outputs": [
        {
          "output_type": "stream",
          "name": "stdout",
          "text": [
            "number of model parameters:592482\n"
          ]
        }
      ],
      "source": [
        "print(\"number of model parameters:{}\".format(sum(p.numel() for p in model_classifier.parameters() if p.requires_grad)))"
      ]
    },
    {
      "cell_type": "markdown",
      "metadata": {
        "id": "1HsCzMq6FPLx"
      },
      "source": [
        "# Define Loss Function and Optimizer"
      ]
    },
    {
      "cell_type": "code",
      "execution_count": 43,
      "metadata": {
        "id": "YwGNBC0zFE40"
      },
      "outputs": [],
      "source": [
        "classifier_lr = 2e-3\n",
        "classifier_optimizer = torch.optim.Adam(model_classifier.parameters(), lr=classifier_lr)"
      ]
    },
    {
      "cell_type": "markdown",
      "metadata": {
        "id": "wXp7CwvfBljw"
      },
      "source": [
        "# The Training and Test Loops"
      ]
    },
    {
      "cell_type": "code",
      "execution_count": 44,
      "metadata": {
        "id": "a_4aLNwmB7aR"
      },
      "outputs": [],
      "source": [
        "from tqdm import tqdm\n",
        "epoch_classifier=3\n",
        "epoch_weights = 3\n",
        "gamma=1.0"
      ]
    },
    {
      "cell_type": "code",
      "execution_count": 45,
      "metadata": {
        "id": "1QqZq-oXhCxj"
      },
      "outputs": [],
      "source": [
        "def zero_grad_both():\n",
        "  classifier_optimizer.zero_grad()\n",
        "  for opt in weight_optimizers:\n",
        "    opt.zero_grad()"
      ]
    },
    {
      "cell_type": "code",
      "execution_count": 46,
      "metadata": {
        "id": "uBiBuEBXfryG"
      },
      "outputs": [],
      "source": [
        "def run_classifier(texts):\n",
        "  output_probs, embds = model_classifier(texts)\n",
        "  return output_probs, embds"
      ]
    },
    {
      "cell_type": "code",
      "execution_count": 47,
      "metadata": {
        "id": "AjOLlBnZhjoK"
      },
      "outputs": [],
      "source": [
        "def run_weights_generator(embds, labels):\n",
        "  batch_size = embds.shape[0]\n",
        "  max_label = int(labels.max().item() + 1)\n",
        "  weights = torch.empty(batch_size).to(device)\n",
        "  for i in range(max_label):\n",
        "    labels_indices = (labels == i).nonzero().squeeze()\n",
        "    if labels_indices is not None:\n",
        "      sub_embds = embds[labels_indices,:]\n",
        "      weight_ = model_weights[i](sub_embds)\n",
        "      weights[labels_indices] = weight_.squeeze()\n",
        "      # weights = weights / max_label\n",
        "  return weights"
      ]
    },
    {
      "cell_type": "code",
      "execution_count": 48,
      "metadata": {
        "id": "aTsxA7b2dd6l"
      },
      "outputs": [],
      "source": [
        "def train_one_epoch():\n",
        "  model_classifier.train()\n",
        "  # result_dict={}\n",
        "  for model in model_weights:\n",
        "    model.train()\n",
        "\n",
        "  for epoch_clf in range(epoch_classifier):\n",
        "    print(\"Epoch {}/{} of classifier training\".format(epoch_clf, epoch_classifier))\n",
        "    loss_clfs = []\n",
        "    acc_clfs = []\n",
        "    for data in tqdm(train_loader):\n",
        "      data = data.to(device)\n",
        "      labels =data.y.to(device)\n",
        "      zero_grad_both()\n",
        "      output_probs, embds = run_classifier(data)\n",
        "      weights1 = run_weights_generator(embds, labels)\n",
        "      loss_clf = loss_function_classifier(output_probs, labels, weights1, n_classes)\n",
        "      # loss_clf = criterion(output_probs, labels)\n",
        "      loss_clf.backward()\n",
        "      loss_clfs.append(loss_clf.item())\n",
        "      preds = torch.argmax(output_probs,dim=-1)\n",
        "      acc_clfs.append(sum(preds==labels)/len(labels))\n",
        "      classifier_optimizer.step()\n",
        "\n",
        "    loss_clfs_avg = sum(loss_clfs)/len(loss_clfs)\n",
        "    acc_clfs_avg = sum(acc_clfs)/len(acc_clfs)\n",
        "    print(\"classifier loss:{:.3f}, classifier acc:{:.3f}\".format(loss_clfs_avg,acc_clfs_avg ))\n",
        "  for epoch_w in range(epoch_weights):\n",
        "    print(\"Epoch {}/{} of Weight generator training\".format(epoch_w, epoch_weights))\n",
        "    loss_Ws =[]\n",
        "    acc_Ws =[]\n",
        "    for data in tqdm(train_loader):\n",
        "      data = data.to(device)\n",
        "      labels = data.y.to(device)\n",
        "      zero_grad_both()\n",
        "      output_probs, embds = run_classifier(data)\n",
        "      weights2 = run_weights_generator(embds, labels)\n",
        "      loss_W = -loss_function_weights(output_probs, labels, weights2, n_classes, gamma)\n",
        "      loss_Ws.append(loss_W.item())\n",
        "      preds = torch.argmax(output_probs, dim=-1)\n",
        "      acc_Ws.append(sum(preds==labels)/len(labels))\n",
        "      loss_W.backward()\n",
        "      for opt in weight_optimizers:\n",
        "        opt.step()\n",
        "\n",
        "    loss_W_avg = sum(loss_Ws)/len(loss_Ws)\n",
        "    acc_W_avg = sum(acc_Ws)/len(acc_Ws)\n",
        "\n",
        "    print(\"weight generator loss:{:.3f}, classifier acc:{:.3f}\".format(loss_W_avg,acc_W_avg ))\n",
        "\n",
        "  return"
      ]
    },
    {
      "cell_type": "code",
      "execution_count": 49,
      "metadata": {
        "id": "L6LpS_uJWBKh"
      },
      "outputs": [],
      "source": [
        "def class_f1(output, labels, type='micro', pos_label=None):\n",
        "    # preds = output.max(1)[1].type_as(labels)\n",
        "    preds = torch.argmax(output, -1)\n",
        "    if pos_label is None:\n",
        "        return f1_score(labels.cpu().numpy(), preds.cpu().numpy(), average=type)\n",
        "    else:\n",
        "        return f1_score(labels.cpu().numpy(), preds.cpu(), average=type, pos_label=pos_label)\n"
      ]
    },
    {
      "cell_type": "code",
      "execution_count": 50,
      "metadata": {
        "id": "ePbaqAhtZ7nR"
      },
      "outputs": [],
      "source": [
        "def evaluate_train():\n",
        "  model_classifier.eval()\n",
        "  loss = 0\n",
        "  acc = 0\n",
        "  outs = []\n",
        "  lbls = []\n",
        "  print('evaluating train')\n",
        "  with torch.inference_mode():\n",
        "    for data in tqdm(train_eval_loader):\n",
        "      data = data.to(device)\n",
        "      labels = data.y.to(device)\n",
        "      output_probs, _ = run_classifier(data)\n",
        "      loss = loss + F.nll_loss(output_probs, labels).item()\n",
        "      preds = torch.argmax(output_probs, dim=-1)\n",
        "      acc = acc+ (sum(preds==labels) / len(labels))\n",
        "      outs.append(output_probs)\n",
        "      lbls.append(labels)\n",
        "      # f1_score = class_f1(output_probs, labels, type='macro')\n",
        "    outs = torch.cat(outs)\n",
        "    lbls = torch.cat(lbls)\n",
        "    f1_score = class_f1(outs, lbls, type='macro')\n",
        "\n",
        "  return loss/len(train_eval_loader), acc / len(train_eval_loader), f1_score\n"
      ]
    },
    {
      "cell_type": "code",
      "execution_count": 51,
      "metadata": {
        "id": "XZsCyqO1ovbg"
      },
      "outputs": [],
      "source": [
        "def evaluate_val():\n",
        "  model_classifier.eval()\n",
        "  loss = 0\n",
        "  acc =0\n",
        "  outs = []\n",
        "  lbls = []\n",
        "  print('evaluating validation')\n",
        "  with torch.inference_mode():\n",
        "    for data in tqdm(val_eval_loader):\n",
        "      data = data.to(device)\n",
        "      labels = data.y.to(device)\n",
        "      output_probs, _ = run_classifier(data)\n",
        "      loss = loss + F.nll_loss(output_probs, labels).item()\n",
        "      preds = torch.argmax(output_probs, dim=-1)\n",
        "      acc = acc+ (sum(preds==labels) / len(labels))\n",
        "      outs.append(output_probs)\n",
        "      lbls.append(labels)\n",
        "      # f1_score = class_f1(output_probs, labels, type='macro')\n",
        "    outs = torch.cat(outs)\n",
        "    lbls = torch.cat(lbls)\n",
        "    f1_score = class_f1(outs, lbls, type='macro')\n",
        "\n",
        "  return loss / len(val_eval_loader), acc/len(val_eval_loader), f1_score"
      ]
    },
    {
      "cell_type": "code",
      "execution_count": 52,
      "metadata": {
        "id": "6R7idhhfaYrt"
      },
      "outputs": [],
      "source": [
        "def evaluate_test():\n",
        "  model_classifier.eval()\n",
        "  loss = 0\n",
        "  acc =0\n",
        "  outs = []\n",
        "  lbls = []\n",
        "  print('evaluating test')\n",
        "  with torch.inference_mode():\n",
        "    for data in tqdm(test_eval_loader):\n",
        "      data = data.to(device)\n",
        "      labels = data.y.to(device)\n",
        "      output_probs, _ = run_classifier(data)\n",
        "      loss = loss + F.nll_loss(output_probs, labels).item()\n",
        "      preds = torch.argmax(output_probs, dim=-1)\n",
        "      acc = acc+ (sum(preds==labels) / len(labels))\n",
        "      outs.append(output_probs)\n",
        "      lbls.append(labels)\n",
        "      # f1_score = class_f1(output_probs, labels, type='macro')\n",
        "    outs = torch.cat(outs)\n",
        "    lbls = torch.cat(lbls)\n",
        "    f1_score = class_f1(outs, lbls, type='macro')\n",
        "\n",
        "  return loss / len(test_eval_loader), acc/len(test_eval_loader), f1_score"
      ]
    },
    {
      "cell_type": "code",
      "execution_count": 53,
      "metadata": {
        "colab": {
          "base_uri": "https://localhost:8080/"
        },
        "id": "YgRC7qlPjqzh",
        "outputId": "9680473e-b8bc-4ee3-bd18-511ea585b4f1"
      },
      "outputs": [
        {
          "metadata": {
            "tags": null
          },
          "name": "stdout",
          "output_type": "stream",
          "text": [
            "Epoch 0/3 of classifier training\n"
          ]
        },
        {
          "metadata": {
            "tags": null
          },
          "name": "stderr",
          "output_type": "stream",
          "text": [
            "100%|██████████| 219/219 [00:30<00:00,  7.16it/s]\n"
          ]
        },
        {
          "metadata": {
            "tags": null
          },
          "name": "stdout",
          "output_type": "stream",
          "text": [
            "classifier loss:1.252, classifier acc:0.634\n",
            "Epoch 1/3 of classifier training\n"
          ]
        },
        {
          "metadata": {
            "tags": null
          },
          "name": "stderr",
          "output_type": "stream",
          "text": [
            "100%|██████████| 219/219 [00:29<00:00,  7.52it/s]\n"
          ]
        },
        {
          "metadata": {
            "tags": null
          },
          "name": "stdout",
          "output_type": "stream",
          "text": [
            "classifier loss:1.010, classifier acc:0.728\n",
            "Epoch 2/3 of classifier training\n"
          ]
        },
        {
          "metadata": {
            "tags": null
          },
          "name": "stderr",
          "output_type": "stream",
          "text": [
            "100%|██████████| 219/219 [00:30<00:00,  7.08it/s]\n"
          ]
        },
        {
          "metadata": {
            "tags": null
          },
          "name": "stdout",
          "output_type": "stream",
          "text": [
            "classifier loss:0.890, classifier acc:0.770\n",
            "Epoch 0/3 of Weight generator training\n"
          ]
        },
        {
          "metadata": {
            "tags": null
          },
          "name": "stderr",
          "output_type": "stream",
          "text": [
            "100%|██████████| 219/219 [00:30<00:00,  7.27it/s]\n"
          ]
        },
        {
          "metadata": {
            "tags": null
          },
          "name": "stdout",
          "output_type": "stream",
          "text": [
            "weight generator loss:-5.878, classifier acc:0.790\n",
            "Epoch 1/3 of Weight generator training\n"
          ]
        },
        {
          "metadata": {
            "tags": null
          },
          "name": "stderr",
          "output_type": "stream",
          "text": [
            "100%|██████████| 219/219 [00:29<00:00,  7.41it/s]\n"
          ]
        },
        {
          "metadata": {
            "tags": null
          },
          "name": "stdout",
          "output_type": "stream",
          "text": [
            "weight generator loss:-5.903, classifier acc:0.785\n",
            "Epoch 2/3 of Weight generator training\n"
          ]
        },
        {
          "metadata": {
            "tags": null
          },
          "name": "stderr",
          "output_type": "stream",
          "text": [
            "100%|██████████| 219/219 [00:29<00:00,  7.38it/s]\n"
          ]
        },
        {
          "metadata": {
            "tags": null
          },
          "name": "stdout",
          "output_type": "stream",
          "text": [
            "weight generator loss:-5.941, classifier acc:0.790\n",
            "evaluating train\n"
          ]
        },
        {
          "metadata": {
            "tags": null
          },
          "name": "stderr",
          "output_type": "stream",
          "text": [
            "100%|██████████| 219/219 [00:25<00:00,  8.53it/s]\n"
          ]
        },
        {
          "metadata": {
            "tags": null
          },
          "name": "stdout",
          "output_type": "stream",
          "text": [
            "evaluating validation\n"
          ]
        },
        {
          "metadata": {
            "tags": null
          },
          "name": "stderr",
          "output_type": "stream",
          "text": [
            "100%|██████████| 94/94 [00:11<00:00,  8.39it/s]\n"
          ]
        },
        {
          "metadata": {
            "tags": null
          },
          "name": "stdout",
          "output_type": "stream",
          "text": [
            "evaluating test\n"
          ]
        },
        {
          "metadata": {
            "tags": null
          },
          "name": "stderr",
          "output_type": "stream",
          "text": [
            "100%|██████████| 10/10 [00:00<00:00, 72.44it/s]\n"
          ]
        },
        {
          "metadata": {
            "tags": null
          },
          "name": "stdout",
          "output_type": "stream",
          "text": [
            "Major Results for Epoch0/20\n",
            "Train loss:0.556, Train acc:0.738, Train f1_score:0.683\n",
            "Validation loss:0.645, Validation acc: 0.713, Validation f1_score:0.658\n",
            "Test loss:0.441, Test acc: 0.779, Test f1_score:0.763\n",
            "*********************************************\n",
            "*********************************************\n",
            "*********************************************\n",
            "Epoch 0/3 of classifier training\n"
          ]
        },
        {
          "metadata": {
            "tags": null
          },
          "name": "stderr",
          "output_type": "stream",
          "text": [
            "100%|██████████| 219/219 [00:29<00:00,  7.35it/s]\n"
          ]
        },
        {
          "metadata": {
            "tags": null
          },
          "name": "stdout",
          "output_type": "stream",
          "text": [
            "classifier loss:0.967, classifier acc:0.732\n",
            "Epoch 1/3 of classifier training\n"
          ]
        },
        {
          "metadata": {
            "tags": null
          },
          "name": "stderr",
          "output_type": "stream",
          "text": [
            "100%|██████████| 219/219 [00:29<00:00,  7.42it/s]\n"
          ]
        },
        {
          "metadata": {
            "tags": null
          },
          "name": "stdout",
          "output_type": "stream",
          "text": [
            "classifier loss:0.598, classifier acc:0.689\n",
            "Epoch 2/3 of classifier training\n"
          ]
        },
        {
          "metadata": {
            "tags": null
          },
          "name": "stderr",
          "output_type": "stream",
          "text": [
            "100%|██████████| 219/219 [00:30<00:00,  7.17it/s]\n"
          ]
        },
        {
          "metadata": {
            "tags": null
          },
          "name": "stdout",
          "output_type": "stream",
          "text": [
            "classifier loss:0.396, classifier acc:0.717\n",
            "Epoch 0/3 of Weight generator training\n"
          ]
        },
        {
          "metadata": {
            "tags": null
          },
          "name": "stderr",
          "output_type": "stream",
          "text": [
            "100%|██████████| 219/219 [00:29<00:00,  7.31it/s]\n"
          ]
        },
        {
          "metadata": {
            "tags": null
          },
          "name": "stdout",
          "output_type": "stream",
          "text": [
            "weight generator loss:-6.511, classifier acc:0.741\n",
            "Epoch 1/3 of Weight generator training\n"
          ]
        },
        {
          "metadata": {
            "tags": null
          },
          "name": "stderr",
          "output_type": "stream",
          "text": [
            "100%|██████████| 219/219 [00:29<00:00,  7.36it/s]\n"
          ]
        },
        {
          "metadata": {
            "tags": null
          },
          "name": "stdout",
          "output_type": "stream",
          "text": [
            "weight generator loss:-6.639, classifier acc:0.748\n",
            "Epoch 2/3 of Weight generator training\n"
          ]
        },
        {
          "metadata": {
            "tags": null
          },
          "name": "stderr",
          "output_type": "stream",
          "text": [
            "100%|██████████| 219/219 [00:29<00:00,  7.32it/s]\n"
          ]
        },
        {
          "metadata": {
            "tags": null
          },
          "name": "stdout",
          "output_type": "stream",
          "text": [
            "weight generator loss:-6.629, classifier acc:0.748\n",
            "evaluating train\n"
          ]
        },
        {
          "metadata": {
            "tags": null
          },
          "name": "stderr",
          "output_type": "stream",
          "text": [
            "100%|██████████| 219/219 [00:26<00:00,  8.41it/s]\n"
          ]
        },
        {
          "metadata": {
            "tags": null
          },
          "name": "stdout",
          "output_type": "stream",
          "text": [
            "evaluating validation\n"
          ]
        },
        {
          "metadata": {
            "tags": null
          },
          "name": "stderr",
          "output_type": "stream",
          "text": [
            "100%|██████████| 94/94 [00:11<00:00,  8.24it/s]\n"
          ]
        },
        {
          "metadata": {
            "tags": null
          },
          "name": "stdout",
          "output_type": "stream",
          "text": [
            "evaluating test\n"
          ]
        },
        {
          "metadata": {
            "tags": null
          },
          "name": "stderr",
          "output_type": "stream",
          "text": [
            "100%|██████████| 10/10 [00:00<00:00, 72.27it/s]\n"
          ]
        },
        {
          "metadata": {
            "tags": null
          },
          "name": "stdout",
          "output_type": "stream",
          "text": [
            "Major Results for Epoch1/20\n",
            "Train loss:0.575, Train acc:0.786, Train f1_score:0.729\n",
            "Validation loss:0.728, Validation acc: 0.746, Validation f1_score:0.686\n",
            "Test loss:0.489, Test acc: 0.802, Test f1_score:0.800\n",
            "*********************************************\n",
            "*********************************************\n",
            "*********************************************\n",
            "Epoch 0/3 of classifier training\n"
          ]
        },
        {
          "metadata": {
            "tags": null
          },
          "name": "stderr",
          "output_type": "stream",
          "text": [
            "100%|██████████| 219/219 [00:29<00:00,  7.45it/s]\n"
          ]
        },
        {
          "metadata": {
            "tags": null
          },
          "name": "stdout",
          "output_type": "stream",
          "text": [
            "classifier loss:0.903, classifier acc:0.741\n",
            "Epoch 1/3 of classifier training\n"
          ]
        },
        {
          "metadata": {
            "tags": null
          },
          "name": "stderr",
          "output_type": "stream",
          "text": [
            "100%|██████████| 219/219 [00:29<00:00,  7.36it/s]\n"
          ]
        },
        {
          "metadata": {
            "tags": null
          },
          "name": "stdout",
          "output_type": "stream",
          "text": [
            "classifier loss:0.321, classifier acc:0.670\n",
            "Epoch 2/3 of classifier training\n"
          ]
        },
        {
          "metadata": {
            "tags": null
          },
          "name": "stderr",
          "output_type": "stream",
          "text": [
            "100%|██████████| 219/219 [00:30<00:00,  7.28it/s]\n"
          ]
        },
        {
          "metadata": {
            "tags": null
          },
          "name": "stdout",
          "output_type": "stream",
          "text": [
            "classifier loss:0.175, classifier acc:0.679\n",
            "Epoch 0/3 of Weight generator training\n"
          ]
        },
        {
          "metadata": {
            "tags": null
          },
          "name": "stderr",
          "output_type": "stream",
          "text": [
            "100%|██████████| 219/219 [00:29<00:00,  7.39it/s]\n"
          ]
        },
        {
          "metadata": {
            "tags": null
          },
          "name": "stdout",
          "output_type": "stream",
          "text": [
            "weight generator loss:-8.183, classifier acc:0.674\n",
            "Epoch 1/3 of Weight generator training\n"
          ]
        },
        {
          "metadata": {
            "tags": null
          },
          "name": "stderr",
          "output_type": "stream",
          "text": [
            "100%|██████████| 219/219 [00:30<00:00,  7.30it/s]\n"
          ]
        },
        {
          "metadata": {
            "tags": null
          },
          "name": "stdout",
          "output_type": "stream",
          "text": [
            "weight generator loss:-8.524, classifier acc:0.681\n",
            "Epoch 2/3 of Weight generator training\n"
          ]
        },
        {
          "metadata": {
            "tags": null
          },
          "name": "stderr",
          "output_type": "stream",
          "text": [
            "100%|██████████| 219/219 [00:30<00:00,  7.30it/s]\n"
          ]
        },
        {
          "metadata": {
            "tags": null
          },
          "name": "stdout",
          "output_type": "stream",
          "text": [
            "weight generator loss:-8.389, classifier acc:0.673\n",
            "evaluating train\n"
          ]
        },
        {
          "metadata": {
            "tags": null
          },
          "name": "stderr",
          "output_type": "stream",
          "text": [
            "100%|██████████| 219/219 [00:25<00:00,  8.45it/s]\n"
          ]
        },
        {
          "metadata": {
            "tags": null
          },
          "name": "stdout",
          "output_type": "stream",
          "text": [
            "evaluating validation\n"
          ]
        },
        {
          "metadata": {
            "tags": null
          },
          "name": "stderr",
          "output_type": "stream",
          "text": [
            "100%|██████████| 94/94 [00:11<00:00,  8.51it/s]\n"
          ]
        },
        {
          "metadata": {
            "tags": null
          },
          "name": "stdout",
          "output_type": "stream",
          "text": [
            "evaluating test\n"
          ]
        },
        {
          "metadata": {
            "tags": null
          },
          "name": "stderr",
          "output_type": "stream",
          "text": [
            "100%|██████████| 10/10 [00:00<00:00, 69.37it/s]\n"
          ]
        },
        {
          "metadata": {
            "tags": null
          },
          "name": "stdout",
          "output_type": "stream",
          "text": [
            "Major Results for Epoch2/20\n",
            "Train loss:1.104, Train acc:0.744, Train f1_score:0.684\n",
            "Validation loss:1.314, Validation acc: 0.702, Validation f1_score:0.639\n",
            "Test loss:0.974, Test acc: 0.703, Test f1_score:0.683\n",
            "*********************************************\n",
            "*********************************************\n",
            "*********************************************\n",
            "Epoch 0/3 of classifier training\n"
          ]
        },
        {
          "metadata": {
            "tags": null
          },
          "name": "stderr",
          "output_type": "stream",
          "text": [
            "100%|██████████| 219/219 [00:29<00:00,  7.41it/s]\n"
          ]
        },
        {
          "metadata": {
            "tags": null
          },
          "name": "stdout",
          "output_type": "stream",
          "text": [
            "classifier loss:0.619, classifier acc:0.668\n",
            "Epoch 1/3 of classifier training\n"
          ]
        },
        {
          "metadata": {
            "tags": null
          },
          "name": "stderr",
          "output_type": "stream",
          "text": [
            "100%|██████████| 219/219 [00:30<00:00,  7.25it/s]\n"
          ]
        },
        {
          "metadata": {
            "tags": null
          },
          "name": "stdout",
          "output_type": "stream",
          "text": [
            "classifier loss:0.076, classifier acc:0.472\n",
            "Epoch 2/3 of classifier training\n"
          ]
        },
        {
          "metadata": {
            "tags": null
          },
          "name": "stderr",
          "output_type": "stream",
          "text": [
            "100%|██████████| 219/219 [00:29<00:00,  7.31it/s]\n"
          ]
        },
        {
          "metadata": {
            "tags": null
          },
          "name": "stdout",
          "output_type": "stream",
          "text": [
            "classifier loss:0.092, classifier acc:0.480\n",
            "Epoch 0/3 of Weight generator training\n"
          ]
        },
        {
          "metadata": {
            "tags": null
          },
          "name": "stderr",
          "output_type": "stream",
          "text": [
            "100%|██████████| 219/219 [00:29<00:00,  7.39it/s]\n"
          ]
        },
        {
          "metadata": {
            "tags": null
          },
          "name": "stdout",
          "output_type": "stream",
          "text": [
            "weight generator loss:-6.436, classifier acc:0.455\n",
            "Epoch 1/3 of Weight generator training\n"
          ]
        },
        {
          "metadata": {
            "tags": null
          },
          "name": "stderr",
          "output_type": "stream",
          "text": [
            "100%|██████████| 219/219 [00:30<00:00,  7.20it/s]\n"
          ]
        },
        {
          "metadata": {
            "tags": null
          },
          "name": "stdout",
          "output_type": "stream",
          "text": [
            "weight generator loss:-6.974, classifier acc:0.460\n",
            "Epoch 2/3 of Weight generator training\n"
          ]
        },
        {
          "metadata": {
            "tags": null
          },
          "name": "stderr",
          "output_type": "stream",
          "text": [
            "100%|██████████| 219/219 [00:29<00:00,  7.36it/s]\n"
          ]
        },
        {
          "metadata": {
            "tags": null
          },
          "name": "stdout",
          "output_type": "stream",
          "text": [
            "weight generator loss:-6.926, classifier acc:0.461\n",
            "evaluating train\n"
          ]
        },
        {
          "metadata": {
            "tags": null
          },
          "name": "stderr",
          "output_type": "stream",
          "text": [
            "100%|██████████| 219/219 [00:26<00:00,  8.37it/s]\n"
          ]
        },
        {
          "metadata": {
            "tags": null
          },
          "name": "stdout",
          "output_type": "stream",
          "text": [
            "evaluating validation\n"
          ]
        },
        {
          "metadata": {
            "tags": null
          },
          "name": "stderr",
          "output_type": "stream",
          "text": [
            "100%|██████████| 94/94 [00:11<00:00,  8.34it/s]\n"
          ]
        },
        {
          "metadata": {
            "tags": null
          },
          "name": "stdout",
          "output_type": "stream",
          "text": [
            "evaluating test\n"
          ]
        },
        {
          "metadata": {
            "tags": null
          },
          "name": "stderr",
          "output_type": "stream",
          "text": [
            "100%|██████████| 10/10 [00:00<00:00, 67.56it/s]\n"
          ]
        },
        {
          "metadata": {
            "tags": null
          },
          "name": "stdout",
          "output_type": "stream",
          "text": [
            "Major Results for Epoch3/20\n",
            "Train loss:1.444, Train acc:0.553, Train f1_score:0.530\n",
            "Validation loss:1.648, Validation acc: 0.518, Validation f1_score:0.499\n",
            "Test loss:0.894, Test acc: 0.673, Test f1_score:0.656\n",
            "*********************************************\n",
            "*********************************************\n",
            "*********************************************\n",
            "Epoch 0/3 of classifier training\n"
          ]
        },
        {
          "metadata": {
            "tags": null
          },
          "name": "stderr",
          "output_type": "stream",
          "text": [
            "100%|██████████| 219/219 [00:29<00:00,  7.33it/s]\n"
          ]
        },
        {
          "metadata": {
            "tags": null
          },
          "name": "stdout",
          "output_type": "stream",
          "text": [
            "classifier loss:0.694, classifier acc:0.827\n",
            "Epoch 1/3 of classifier training\n"
          ]
        },
        {
          "metadata": {
            "tags": null
          },
          "name": "stderr",
          "output_type": "stream",
          "text": [
            "100%|██████████| 219/219 [00:30<00:00,  7.25it/s]\n"
          ]
        },
        {
          "metadata": {
            "tags": null
          },
          "name": "stdout",
          "output_type": "stream",
          "text": [
            "classifier loss:0.548, classifier acc:0.870\n",
            "Epoch 2/3 of classifier training\n"
          ]
        },
        {
          "metadata": {
            "tags": null
          },
          "name": "stderr",
          "output_type": "stream",
          "text": [
            "100%|██████████| 219/219 [00:29<00:00,  7.32it/s]\n"
          ]
        },
        {
          "metadata": {
            "tags": null
          },
          "name": "stdout",
          "output_type": "stream",
          "text": [
            "classifier loss:0.528, classifier acc:0.874\n",
            "Epoch 0/3 of Weight generator training\n"
          ]
        },
        {
          "metadata": {
            "tags": null
          },
          "name": "stderr",
          "output_type": "stream",
          "text": [
            "100%|██████████| 219/219 [00:29<00:00,  7.41it/s]\n"
          ]
        },
        {
          "metadata": {
            "tags": null
          },
          "name": "stdout",
          "output_type": "stream",
          "text": [
            "weight generator loss:-5.368, classifier acc:0.889\n",
            "Epoch 1/3 of Weight generator training\n"
          ]
        },
        {
          "metadata": {
            "tags": null
          },
          "name": "stderr",
          "output_type": "stream",
          "text": [
            "100%|██████████| 219/219 [00:30<00:00,  7.20it/s]\n"
          ]
        },
        {
          "metadata": {
            "tags": null
          },
          "name": "stdout",
          "output_type": "stream",
          "text": [
            "weight generator loss:-5.424, classifier acc:0.886\n",
            "Epoch 2/3 of Weight generator training\n"
          ]
        },
        {
          "metadata": {
            "tags": null
          },
          "name": "stderr",
          "output_type": "stream",
          "text": [
            "100%|██████████| 219/219 [00:29<00:00,  7.37it/s]\n"
          ]
        },
        {
          "metadata": {
            "tags": null
          },
          "name": "stdout",
          "output_type": "stream",
          "text": [
            "weight generator loss:-5.375, classifier acc:0.885\n",
            "evaluating train\n"
          ]
        },
        {
          "metadata": {
            "tags": null
          },
          "name": "stderr",
          "output_type": "stream",
          "text": [
            "100%|██████████| 219/219 [00:26<00:00,  8.28it/s]\n"
          ]
        },
        {
          "metadata": {
            "tags": null
          },
          "name": "stdout",
          "output_type": "stream",
          "text": [
            "evaluating validation\n"
          ]
        },
        {
          "metadata": {
            "tags": null
          },
          "name": "stderr",
          "output_type": "stream",
          "text": [
            "100%|██████████| 94/94 [00:11<00:00,  8.38it/s]\n"
          ]
        },
        {
          "metadata": {
            "tags": null
          },
          "name": "stdout",
          "output_type": "stream",
          "text": [
            "evaluating test\n"
          ]
        },
        {
          "metadata": {
            "tags": null
          },
          "name": "stderr",
          "output_type": "stream",
          "text": [
            "100%|██████████| 10/10 [00:00<00:00, 70.94it/s]\n"
          ]
        },
        {
          "metadata": {
            "tags": null
          },
          "name": "stdout",
          "output_type": "stream",
          "text": [
            "Major Results for Epoch4/20\n",
            "Train loss:0.280, Train acc:0.882, Train f1_score:0.830\n",
            "Validation loss:0.516, Validation acc: 0.806, Validation f1_score:0.737\n",
            "Test loss:0.433, Test acc: 0.810, Test f1_score:0.804\n",
            "*********************************************\n",
            "*********************************************\n",
            "*********************************************\n",
            "Epoch 0/3 of classifier training\n"
          ]
        },
        {
          "metadata": {
            "tags": null
          },
          "name": "stderr",
          "output_type": "stream",
          "text": [
            "100%|██████████| 219/219 [00:29<00:00,  7.37it/s]\n"
          ]
        },
        {
          "metadata": {
            "tags": null
          },
          "name": "stdout",
          "output_type": "stream",
          "text": [
            "classifier loss:0.524, classifier acc:0.880\n",
            "Epoch 1/3 of classifier training\n"
          ]
        },
        {
          "metadata": {
            "tags": null
          },
          "name": "stderr",
          "output_type": "stream",
          "text": [
            "100%|██████████| 219/219 [00:30<00:00,  7.25it/s]\n"
          ]
        },
        {
          "metadata": {
            "tags": null
          },
          "name": "stdout",
          "output_type": "stream",
          "text": [
            "classifier loss:0.436, classifier acc:0.904\n",
            "Epoch 2/3 of classifier training\n"
          ]
        },
        {
          "metadata": {
            "tags": null
          },
          "name": "stderr",
          "output_type": "stream",
          "text": [
            "100%|██████████| 219/219 [00:29<00:00,  7.40it/s]\n"
          ]
        },
        {
          "metadata": {
            "tags": null
          },
          "name": "stdout",
          "output_type": "stream",
          "text": [
            "classifier loss:0.403, classifier acc:0.911\n",
            "Epoch 0/3 of Weight generator training\n"
          ]
        },
        {
          "metadata": {
            "tags": null
          },
          "name": "stderr",
          "output_type": "stream",
          "text": [
            "100%|██████████| 219/219 [00:29<00:00,  7.33it/s]\n"
          ]
        },
        {
          "metadata": {
            "tags": null
          },
          "name": "stdout",
          "output_type": "stream",
          "text": [
            "weight generator loss:-5.332, classifier acc:0.925\n",
            "Epoch 1/3 of Weight generator training\n"
          ]
        },
        {
          "metadata": {
            "tags": null
          },
          "name": "stderr",
          "output_type": "stream",
          "text": [
            "100%|██████████| 219/219 [00:30<00:00,  7.22it/s]\n"
          ]
        },
        {
          "metadata": {
            "tags": null
          },
          "name": "stdout",
          "output_type": "stream",
          "text": [
            "weight generator loss:-5.317, classifier acc:0.921\n",
            "Epoch 2/3 of Weight generator training\n"
          ]
        },
        {
          "metadata": {
            "tags": null
          },
          "name": "stderr",
          "output_type": "stream",
          "text": [
            "100%|██████████| 219/219 [00:30<00:00,  7.23it/s]\n"
          ]
        },
        {
          "metadata": {
            "tags": null
          },
          "name": "stdout",
          "output_type": "stream",
          "text": [
            "weight generator loss:-5.319, classifier acc:0.922\n",
            "evaluating train\n"
          ]
        },
        {
          "metadata": {
            "tags": null
          },
          "name": "stderr",
          "output_type": "stream",
          "text": [
            "100%|██████████| 219/219 [00:25<00:00,  8.48it/s]\n"
          ]
        },
        {
          "metadata": {
            "tags": null
          },
          "name": "stdout",
          "output_type": "stream",
          "text": [
            "evaluating validation\n"
          ]
        },
        {
          "metadata": {
            "tags": null
          },
          "name": "stderr",
          "output_type": "stream",
          "text": [
            "100%|██████████| 94/94 [00:11<00:00,  8.42it/s]\n"
          ]
        },
        {
          "metadata": {
            "tags": null
          },
          "name": "stdout",
          "output_type": "stream",
          "text": [
            "evaluating test\n"
          ]
        },
        {
          "metadata": {
            "tags": null
          },
          "name": "stderr",
          "output_type": "stream",
          "text": [
            "100%|██████████| 10/10 [00:00<00:00, 66.50it/s]\n"
          ]
        },
        {
          "metadata": {
            "tags": null
          },
          "name": "stdout",
          "output_type": "stream",
          "text": [
            "Major Results for Epoch5/20\n",
            "Train loss:0.184, Train acc:0.933, Train f1_score:0.895\n",
            "Validation loss:0.488, Validation acc: 0.847, Validation f1_score:0.770\n",
            "Test loss:0.503, Test acc: 0.823, Test f1_score:0.807\n",
            "*********************************************\n",
            "*********************************************\n",
            "*********************************************\n",
            "Epoch 0/3 of classifier training\n"
          ]
        },
        {
          "metadata": {
            "tags": null
          },
          "name": "stderr",
          "output_type": "stream",
          "text": [
            "100%|██████████| 219/219 [00:29<00:00,  7.41it/s]\n"
          ]
        },
        {
          "metadata": {
            "tags": null
          },
          "name": "stdout",
          "output_type": "stream",
          "text": [
            "classifier loss:0.505, classifier acc:0.891\n",
            "Epoch 1/3 of classifier training\n"
          ]
        },
        {
          "metadata": {
            "tags": null
          },
          "name": "stderr",
          "output_type": "stream",
          "text": [
            "100%|██████████| 219/219 [00:30<00:00,  7.18it/s]\n"
          ]
        },
        {
          "metadata": {
            "tags": null
          },
          "name": "stdout",
          "output_type": "stream",
          "text": [
            "classifier loss:0.464, classifier acc:0.903\n",
            "Epoch 2/3 of classifier training\n"
          ]
        },
        {
          "metadata": {
            "tags": null
          },
          "name": "stderr",
          "output_type": "stream",
          "text": [
            "100%|██████████| 219/219 [00:30<00:00,  7.21it/s]\n"
          ]
        },
        {
          "metadata": {
            "tags": null
          },
          "name": "stdout",
          "output_type": "stream",
          "text": [
            "classifier loss:0.400, classifier acc:0.917\n",
            "Epoch 0/3 of Weight generator training\n"
          ]
        },
        {
          "metadata": {
            "tags": null
          },
          "name": "stderr",
          "output_type": "stream",
          "text": [
            "100%|██████████| 219/219 [00:30<00:00,  7.18it/s]\n"
          ]
        },
        {
          "metadata": {
            "tags": null
          },
          "name": "stdout",
          "output_type": "stream",
          "text": [
            "weight generator loss:-5.234, classifier acc:0.921\n",
            "Epoch 1/3 of Weight generator training\n"
          ]
        },
        {
          "metadata": {
            "tags": null
          },
          "name": "stderr",
          "output_type": "stream",
          "text": [
            "100%|██████████| 219/219 [00:30<00:00,  7.26it/s]\n"
          ]
        },
        {
          "metadata": {
            "tags": null
          },
          "name": "stdout",
          "output_type": "stream",
          "text": [
            "weight generator loss:-5.268, classifier acc:0.922\n",
            "Epoch 2/3 of Weight generator training\n"
          ]
        },
        {
          "metadata": {
            "tags": null
          },
          "name": "stderr",
          "output_type": "stream",
          "text": [
            "100%|██████████| 219/219 [00:29<00:00,  7.33it/s]\n"
          ]
        },
        {
          "metadata": {
            "tags": null
          },
          "name": "stdout",
          "output_type": "stream",
          "text": [
            "weight generator loss:-5.296, classifier acc:0.913\n",
            "evaluating train\n"
          ]
        },
        {
          "metadata": {
            "tags": null
          },
          "name": "stderr",
          "output_type": "stream",
          "text": [
            "100%|██████████| 219/219 [00:26<00:00,  8.31it/s]\n"
          ]
        },
        {
          "metadata": {
            "tags": null
          },
          "name": "stdout",
          "output_type": "stream",
          "text": [
            "evaluating validation\n"
          ]
        },
        {
          "metadata": {
            "tags": null
          },
          "name": "stderr",
          "output_type": "stream",
          "text": [
            "100%|██████████| 94/94 [00:11<00:00,  8.40it/s]\n"
          ]
        },
        {
          "metadata": {
            "tags": null
          },
          "name": "stdout",
          "output_type": "stream",
          "text": [
            "evaluating test\n"
          ]
        },
        {
          "metadata": {
            "tags": null
          },
          "name": "stderr",
          "output_type": "stream",
          "text": [
            "100%|██████████| 10/10 [00:00<00:00, 75.95it/s]\n"
          ]
        },
        {
          "metadata": {
            "tags": null
          },
          "name": "stdout",
          "output_type": "stream",
          "text": [
            "Major Results for Epoch6/20\n",
            "Train loss:0.096, Train acc:0.963, Train f1_score:0.939\n",
            "Validation loss:0.393, Validation acc: 0.870, Validation f1_score:0.788\n",
            "Test loss:0.435, Test acc: 0.852, Test f1_score:0.838\n",
            "*********************************************\n",
            "*********************************************\n",
            "*********************************************\n",
            "Epoch 0/3 of classifier training\n"
          ]
        },
        {
          "metadata": {
            "tags": null
          },
          "name": "stderr",
          "output_type": "stream",
          "text": [
            "100%|██████████| 219/219 [00:30<00:00,  7.19it/s]\n"
          ]
        },
        {
          "metadata": {
            "tags": null
          },
          "name": "stdout",
          "output_type": "stream",
          "text": [
            "classifier loss:0.427, classifier acc:0.912\n",
            "Epoch 1/3 of classifier training\n"
          ]
        },
        {
          "metadata": {
            "tags": null
          },
          "name": "stderr",
          "output_type": "stream",
          "text": [
            "100%|██████████| 219/219 [00:29<00:00,  7.34it/s]\n"
          ]
        },
        {
          "metadata": {
            "tags": null
          },
          "name": "stdout",
          "output_type": "stream",
          "text": [
            "classifier loss:0.369, classifier acc:0.917\n",
            "Epoch 2/3 of classifier training\n"
          ]
        },
        {
          "metadata": {
            "tags": null
          },
          "name": "stderr",
          "output_type": "stream",
          "text": [
            "100%|██████████| 219/219 [00:30<00:00,  7.22it/s]\n"
          ]
        },
        {
          "metadata": {
            "tags": null
          },
          "name": "stdout",
          "output_type": "stream",
          "text": [
            "classifier loss:0.354, classifier acc:0.923\n",
            "Epoch 0/3 of Weight generator training\n"
          ]
        },
        {
          "metadata": {
            "tags": null
          },
          "name": "stderr",
          "output_type": "stream",
          "text": [
            "100%|██████████| 219/219 [00:29<00:00,  7.30it/s]\n"
          ]
        },
        {
          "metadata": {
            "tags": null
          },
          "name": "stdout",
          "output_type": "stream",
          "text": [
            "weight generator loss:-5.196, classifier acc:0.916\n",
            "Epoch 1/3 of Weight generator training\n"
          ]
        },
        {
          "metadata": {
            "tags": null
          },
          "name": "stderr",
          "output_type": "stream",
          "text": [
            "100%|██████████| 219/219 [00:30<00:00,  7.25it/s]\n"
          ]
        },
        {
          "metadata": {
            "tags": null
          },
          "name": "stdout",
          "output_type": "stream",
          "text": [
            "weight generator loss:-5.199, classifier acc:0.919\n",
            "Epoch 2/3 of Weight generator training\n"
          ]
        },
        {
          "metadata": {
            "tags": null
          },
          "name": "stderr",
          "output_type": "stream",
          "text": [
            "100%|██████████| 219/219 [00:30<00:00,  7.28it/s]\n"
          ]
        },
        {
          "metadata": {
            "tags": null
          },
          "name": "stdout",
          "output_type": "stream",
          "text": [
            "weight generator loss:-5.190, classifier acc:0.920\n",
            "evaluating train\n"
          ]
        },
        {
          "metadata": {
            "tags": null
          },
          "name": "stderr",
          "output_type": "stream",
          "text": [
            "100%|██████████| 219/219 [00:26<00:00,  8.26it/s]\n"
          ]
        },
        {
          "metadata": {
            "tags": null
          },
          "name": "stdout",
          "output_type": "stream",
          "text": [
            "evaluating validation\n"
          ]
        },
        {
          "metadata": {
            "tags": null
          },
          "name": "stderr",
          "output_type": "stream",
          "text": [
            "100%|██████████| 94/94 [00:11<00:00,  8.46it/s]\n"
          ]
        },
        {
          "metadata": {
            "tags": null
          },
          "name": "stdout",
          "output_type": "stream",
          "text": [
            "evaluating test\n"
          ]
        },
        {
          "metadata": {
            "tags": null
          },
          "name": "stderr",
          "output_type": "stream",
          "text": [
            "100%|██████████| 10/10 [00:00<00:00, 50.12it/s]\n"
          ]
        },
        {
          "metadata": {
            "tags": null
          },
          "name": "stdout",
          "output_type": "stream",
          "text": [
            "Major Results for Epoch7/20\n",
            "Train loss:0.085, Train acc:0.965, Train f1_score:0.941\n",
            "Validation loss:0.481, Validation acc: 0.865, Validation f1_score:0.785\n",
            "Test loss:0.532, Test acc: 0.823, Test f1_score:0.816\n",
            "*********************************************\n",
            "*********************************************\n",
            "*********************************************\n",
            "Epoch 0/3 of classifier training\n"
          ]
        },
        {
          "metadata": {
            "tags": null
          },
          "name": "stderr",
          "output_type": "stream",
          "text": [
            "100%|██████████| 219/219 [00:30<00:00,  7.16it/s]\n"
          ]
        },
        {
          "metadata": {
            "tags": null
          },
          "name": "stdout",
          "output_type": "stream",
          "text": [
            "classifier loss:0.339, classifier acc:0.925\n",
            "Epoch 1/3 of classifier training\n"
          ]
        },
        {
          "metadata": {
            "tags": null
          },
          "name": "stderr",
          "output_type": "stream",
          "text": [
            "100%|██████████| 219/219 [00:29<00:00,  7.34it/s]\n"
          ]
        },
        {
          "metadata": {
            "tags": null
          },
          "name": "stdout",
          "output_type": "stream",
          "text": [
            "classifier loss:0.324, classifier acc:0.929\n",
            "Epoch 2/3 of classifier training\n"
          ]
        },
        {
          "metadata": {
            "tags": null
          },
          "name": "stderr",
          "output_type": "stream",
          "text": [
            "100%|██████████| 219/219 [00:30<00:00,  7.16it/s]\n"
          ]
        },
        {
          "metadata": {
            "tags": null
          },
          "name": "stdout",
          "output_type": "stream",
          "text": [
            "classifier loss:0.302, classifier acc:0.932\n",
            "Epoch 0/3 of Weight generator training\n"
          ]
        },
        {
          "metadata": {
            "tags": null
          },
          "name": "stderr",
          "output_type": "stream",
          "text": [
            "100%|██████████| 219/219 [00:29<00:00,  7.33it/s]\n"
          ]
        },
        {
          "metadata": {
            "tags": null
          },
          "name": "stdout",
          "output_type": "stream",
          "text": [
            "weight generator loss:-5.193, classifier acc:0.946\n",
            "Epoch 1/3 of Weight generator training\n"
          ]
        },
        {
          "metadata": {
            "tags": null
          },
          "name": "stderr",
          "output_type": "stream",
          "text": [
            "100%|██████████| 219/219 [00:29<00:00,  7.33it/s]\n"
          ]
        },
        {
          "metadata": {
            "tags": null
          },
          "name": "stdout",
          "output_type": "stream",
          "text": [
            "weight generator loss:-5.155, classifier acc:0.946\n",
            "Epoch 2/3 of Weight generator training\n"
          ]
        },
        {
          "metadata": {
            "tags": null
          },
          "name": "stderr",
          "output_type": "stream",
          "text": [
            "100%|██████████| 219/219 [00:30<00:00,  7.18it/s]\n"
          ]
        },
        {
          "metadata": {
            "tags": null
          },
          "name": "stdout",
          "output_type": "stream",
          "text": [
            "weight generator loss:-5.179, classifier acc:0.945\n",
            "evaluating train\n"
          ]
        },
        {
          "metadata": {
            "tags": null
          },
          "name": "stderr",
          "output_type": "stream",
          "text": [
            "100%|██████████| 219/219 [00:26<00:00,  8.32it/s]\n"
          ]
        },
        {
          "metadata": {
            "tags": null
          },
          "name": "stdout",
          "output_type": "stream",
          "text": [
            "evaluating validation\n"
          ]
        },
        {
          "metadata": {
            "tags": null
          },
          "name": "stderr",
          "output_type": "stream",
          "text": [
            "100%|██████████| 94/94 [00:11<00:00,  8.47it/s]\n"
          ]
        },
        {
          "metadata": {
            "tags": null
          },
          "name": "stdout",
          "output_type": "stream",
          "text": [
            "evaluating test\n"
          ]
        },
        {
          "metadata": {
            "tags": null
          },
          "name": "stderr",
          "output_type": "stream",
          "text": [
            "100%|██████████| 10/10 [00:00<00:00, 70.98it/s]\n"
          ]
        },
        {
          "metadata": {
            "tags": null
          },
          "name": "stdout",
          "output_type": "stream",
          "text": [
            "Major Results for Epoch8/20\n",
            "Train loss:0.078, Train acc:0.971, Train f1_score:0.951\n",
            "Validation loss:0.622, Validation acc: 0.867, Validation f1_score:0.784\n",
            "Test loss:0.610, Test acc: 0.802, Test f1_score:0.791\n",
            "*********************************************\n",
            "*********************************************\n",
            "*********************************************\n",
            "Epoch 0/3 of classifier training\n"
          ]
        },
        {
          "metadata": {
            "tags": null
          },
          "name": "stderr",
          "output_type": "stream",
          "text": [
            "100%|██████████| 219/219 [00:29<00:00,  7.35it/s]\n"
          ]
        },
        {
          "metadata": {
            "tags": null
          },
          "name": "stdout",
          "output_type": "stream",
          "text": [
            "classifier loss:0.299, classifier acc:0.938\n",
            "Epoch 1/3 of classifier training\n"
          ]
        },
        {
          "metadata": {
            "tags": null
          },
          "name": "stderr",
          "output_type": "stream",
          "text": [
            "100%|██████████| 219/219 [00:29<00:00,  7.35it/s]\n"
          ]
        },
        {
          "metadata": {
            "tags": null
          },
          "name": "stdout",
          "output_type": "stream",
          "text": [
            "classifier loss:0.277, classifier acc:0.941\n",
            "Epoch 2/3 of classifier training\n"
          ]
        },
        {
          "metadata": {
            "tags": null
          },
          "name": "stderr",
          "output_type": "stream",
          "text": [
            "100%|██████████| 219/219 [00:30<00:00,  7.22it/s]\n"
          ]
        },
        {
          "metadata": {
            "tags": null
          },
          "name": "stdout",
          "output_type": "stream",
          "text": [
            "classifier loss:0.282, classifier acc:0.941\n",
            "Epoch 0/3 of Weight generator training\n"
          ]
        },
        {
          "metadata": {
            "tags": null
          },
          "name": "stderr",
          "output_type": "stream",
          "text": [
            "100%|██████████| 219/219 [00:29<00:00,  7.36it/s]\n"
          ]
        },
        {
          "metadata": {
            "tags": null
          },
          "name": "stdout",
          "output_type": "stream",
          "text": [
            "weight generator loss:-5.103, classifier acc:0.937\n",
            "Epoch 1/3 of Weight generator training\n"
          ]
        },
        {
          "metadata": {
            "tags": null
          },
          "name": "stderr",
          "output_type": "stream",
          "text": [
            "100%|██████████| 219/219 [00:30<00:00,  7.17it/s]\n"
          ]
        },
        {
          "metadata": {
            "tags": null
          },
          "name": "stdout",
          "output_type": "stream",
          "text": [
            "weight generator loss:-5.134, classifier acc:0.940\n",
            "Epoch 2/3 of Weight generator training\n"
          ]
        },
        {
          "metadata": {
            "tags": null
          },
          "name": "stderr",
          "output_type": "stream",
          "text": [
            "100%|██████████| 219/219 [00:29<00:00,  7.31it/s]\n"
          ]
        },
        {
          "metadata": {
            "tags": null
          },
          "name": "stdout",
          "output_type": "stream",
          "text": [
            "weight generator loss:-5.113, classifier acc:0.933\n",
            "evaluating train\n"
          ]
        },
        {
          "metadata": {
            "tags": null
          },
          "name": "stderr",
          "output_type": "stream",
          "text": [
            "100%|██████████| 219/219 [00:25<00:00,  8.43it/s]\n"
          ]
        },
        {
          "metadata": {
            "tags": null
          },
          "name": "stdout",
          "output_type": "stream",
          "text": [
            "evaluating validation\n"
          ]
        },
        {
          "metadata": {
            "tags": null
          },
          "name": "stderr",
          "output_type": "stream",
          "text": [
            "100%|██████████| 94/94 [00:11<00:00,  8.28it/s]\n"
          ]
        },
        {
          "metadata": {
            "tags": null
          },
          "name": "stdout",
          "output_type": "stream",
          "text": [
            "evaluating test\n"
          ]
        },
        {
          "metadata": {
            "tags": null
          },
          "name": "stderr",
          "output_type": "stream",
          "text": [
            "100%|██████████| 10/10 [00:00<00:00, 69.64it/s]\n"
          ]
        },
        {
          "metadata": {
            "tags": null
          },
          "name": "stdout",
          "output_type": "stream",
          "text": [
            "Major Results for Epoch9/20\n",
            "Train loss:0.053, Train acc:0.976, Train f1_score:0.960\n",
            "Validation loss:0.513, Validation acc: 0.871, Validation f1_score:0.790\n",
            "Test loss:0.572, Test acc: 0.831, Test f1_score:0.819\n",
            "*********************************************\n",
            "*********************************************\n",
            "*********************************************\n",
            "Epoch 0/3 of classifier training\n"
          ]
        },
        {
          "metadata": {
            "tags": null
          },
          "name": "stderr",
          "output_type": "stream",
          "text": [
            "100%|██████████| 219/219 [00:30<00:00,  7.30it/s]\n"
          ]
        },
        {
          "metadata": {
            "tags": null
          },
          "name": "stdout",
          "output_type": "stream",
          "text": [
            "classifier loss:0.300, classifier acc:0.935\n",
            "Epoch 1/3 of classifier training\n"
          ]
        },
        {
          "metadata": {
            "tags": null
          },
          "name": "stderr",
          "output_type": "stream",
          "text": [
            "100%|██████████| 219/219 [00:30<00:00,  7.18it/s]\n"
          ]
        },
        {
          "metadata": {
            "tags": null
          },
          "name": "stdout",
          "output_type": "stream",
          "text": [
            "classifier loss:0.295, classifier acc:0.942\n",
            "Epoch 2/3 of classifier training\n"
          ]
        },
        {
          "metadata": {
            "tags": null
          },
          "name": "stderr",
          "output_type": "stream",
          "text": [
            "100%|██████████| 219/219 [00:29<00:00,  7.33it/s]\n"
          ]
        },
        {
          "metadata": {
            "tags": null
          },
          "name": "stdout",
          "output_type": "stream",
          "text": [
            "classifier loss:0.320, classifier acc:0.937\n",
            "Epoch 0/3 of Weight generator training\n"
          ]
        },
        {
          "metadata": {
            "tags": null
          },
          "name": "stderr",
          "output_type": "stream",
          "text": [
            "100%|██████████| 219/219 [00:29<00:00,  7.34it/s]\n"
          ]
        },
        {
          "metadata": {
            "tags": null
          },
          "name": "stdout",
          "output_type": "stream",
          "text": [
            "weight generator loss:-5.094, classifier acc:0.954\n",
            "Epoch 1/3 of Weight generator training\n"
          ]
        },
        {
          "metadata": {
            "tags": null
          },
          "name": "stderr",
          "output_type": "stream",
          "text": [
            "100%|██████████| 219/219 [00:30<00:00,  7.21it/s]\n"
          ]
        },
        {
          "metadata": {
            "tags": null
          },
          "name": "stdout",
          "output_type": "stream",
          "text": [
            "weight generator loss:-5.101, classifier acc:0.955\n",
            "Epoch 2/3 of Weight generator training\n"
          ]
        },
        {
          "metadata": {
            "tags": null
          },
          "name": "stderr",
          "output_type": "stream",
          "text": [
            "100%|██████████| 219/219 [00:29<00:00,  7.35it/s]\n"
          ]
        },
        {
          "metadata": {
            "tags": null
          },
          "name": "stdout",
          "output_type": "stream",
          "text": [
            "weight generator loss:-5.129, classifier acc:0.953\n",
            "evaluating train\n"
          ]
        },
        {
          "metadata": {
            "tags": null
          },
          "name": "stderr",
          "output_type": "stream",
          "text": [
            "100%|██████████| 219/219 [00:25<00:00,  8.45it/s]\n"
          ]
        },
        {
          "metadata": {
            "tags": null
          },
          "name": "stdout",
          "output_type": "stream",
          "text": [
            "evaluating validation\n"
          ]
        },
        {
          "metadata": {
            "tags": null
          },
          "name": "stderr",
          "output_type": "stream",
          "text": [
            "100%|██████████| 94/94 [00:11<00:00,  8.29it/s]\n"
          ]
        },
        {
          "metadata": {
            "tags": null
          },
          "name": "stdout",
          "output_type": "stream",
          "text": [
            "evaluating test\n"
          ]
        },
        {
          "metadata": {
            "tags": null
          },
          "name": "stderr",
          "output_type": "stream",
          "text": [
            "100%|██████████| 10/10 [00:00<00:00, 70.23it/s]\n"
          ]
        },
        {
          "metadata": {
            "tags": null
          },
          "name": "stdout",
          "output_type": "stream",
          "text": [
            "Major Results for Epoch10/20\n",
            "Train loss:0.040, Train acc:0.984, Train f1_score:0.973\n",
            "Validation loss:0.482, Validation acc: 0.885, Validation f1_score:0.802\n",
            "Test loss:0.607, Test acc: 0.832, Test f1_score:0.823\n",
            "*********************************************\n",
            "*********************************************\n",
            "*********************************************\n",
            "Epoch 0/3 of classifier training\n"
          ]
        },
        {
          "metadata": {
            "tags": null
          },
          "name": "stderr",
          "output_type": "stream",
          "text": [
            "100%|██████████| 219/219 [00:29<00:00,  7.35it/s]\n"
          ]
        },
        {
          "metadata": {
            "tags": null
          },
          "name": "stdout",
          "output_type": "stream",
          "text": [
            "classifier loss:0.266, classifier acc:0.944\n",
            "Epoch 1/3 of classifier training\n"
          ]
        },
        {
          "metadata": {
            "tags": null
          },
          "name": "stderr",
          "output_type": "stream",
          "text": [
            "100%|██████████| 219/219 [00:30<00:00,  7.23it/s]\n"
          ]
        },
        {
          "metadata": {
            "tags": null
          },
          "name": "stdout",
          "output_type": "stream",
          "text": [
            "classifier loss:0.239, classifier acc:0.950\n",
            "Epoch 2/3 of classifier training\n"
          ]
        },
        {
          "metadata": {
            "tags": null
          },
          "name": "stderr",
          "output_type": "stream",
          "text": [
            "100%|██████████| 219/219 [00:30<00:00,  7.25it/s]\n"
          ]
        },
        {
          "metadata": {
            "tags": null
          },
          "name": "stdout",
          "output_type": "stream",
          "text": [
            "classifier loss:0.270, classifier acc:0.944\n",
            "Epoch 0/3 of Weight generator training\n"
          ]
        },
        {
          "metadata": {
            "tags": null
          },
          "name": "stderr",
          "output_type": "stream",
          "text": [
            "100%|██████████| 219/219 [00:30<00:00,  7.17it/s]\n"
          ]
        },
        {
          "metadata": {
            "tags": null
          },
          "name": "stdout",
          "output_type": "stream",
          "text": [
            "weight generator loss:-5.094, classifier acc:0.942\n",
            "Epoch 1/3 of Weight generator training\n"
          ]
        },
        {
          "metadata": {
            "tags": null
          },
          "name": "stderr",
          "output_type": "stream",
          "text": [
            "100%|██████████| 219/219 [00:30<00:00,  7.10it/s]\n"
          ]
        },
        {
          "metadata": {
            "tags": null
          },
          "name": "stdout",
          "output_type": "stream",
          "text": [
            "weight generator loss:-5.053, classifier acc:0.946\n",
            "Epoch 2/3 of Weight generator training\n"
          ]
        },
        {
          "metadata": {
            "tags": null
          },
          "name": "stderr",
          "output_type": "stream",
          "text": [
            "100%|██████████| 219/219 [00:30<00:00,  7.27it/s]\n"
          ]
        },
        {
          "metadata": {
            "tags": null
          },
          "name": "stdout",
          "output_type": "stream",
          "text": [
            "weight generator loss:-5.090, classifier acc:0.943\n",
            "evaluating train\n"
          ]
        },
        {
          "metadata": {
            "tags": null
          },
          "name": "stderr",
          "output_type": "stream",
          "text": [
            "100%|██████████| 219/219 [00:26<00:00,  8.23it/s]\n"
          ]
        },
        {
          "metadata": {
            "tags": null
          },
          "name": "stdout",
          "output_type": "stream",
          "text": [
            "evaluating validation\n"
          ]
        },
        {
          "metadata": {
            "tags": null
          },
          "name": "stderr",
          "output_type": "stream",
          "text": [
            "100%|██████████| 94/94 [00:11<00:00,  8.19it/s]\n"
          ]
        },
        {
          "metadata": {
            "tags": null
          },
          "name": "stdout",
          "output_type": "stream",
          "text": [
            "evaluating test\n"
          ]
        },
        {
          "metadata": {
            "tags": null
          },
          "name": "stderr",
          "output_type": "stream",
          "text": [
            "100%|██████████| 10/10 [00:00<00:00, 74.37it/s]\n"
          ]
        },
        {
          "metadata": {
            "tags": null
          },
          "name": "stdout",
          "output_type": "stream",
          "text": [
            "Major Results for Epoch11/20\n",
            "Train loss:0.052, Train acc:0.979, Train f1_score:0.964\n",
            "Validation loss:0.608, Validation acc: 0.872, Validation f1_score:0.791\n",
            "Test loss:0.641, Test acc: 0.823, Test f1_score:0.816\n",
            "*********************************************\n",
            "*********************************************\n",
            "*********************************************\n",
            "Epoch 0/3 of classifier training\n"
          ]
        },
        {
          "metadata": {
            "tags": null
          },
          "name": "stderr",
          "output_type": "stream",
          "text": [
            "100%|██████████| 219/219 [00:31<00:00,  7.01it/s]\n"
          ]
        },
        {
          "metadata": {
            "tags": null
          },
          "name": "stdout",
          "output_type": "stream",
          "text": [
            "classifier loss:0.235, classifier acc:0.955\n",
            "Epoch 1/3 of classifier training\n"
          ]
        },
        {
          "metadata": {
            "tags": null
          },
          "name": "stderr",
          "output_type": "stream",
          "text": [
            "100%|██████████| 219/219 [00:30<00:00,  7.15it/s]\n"
          ]
        },
        {
          "metadata": {
            "tags": null
          },
          "name": "stdout",
          "output_type": "stream",
          "text": [
            "classifier loss:0.214, classifier acc:0.954\n",
            "Epoch 2/3 of classifier training\n"
          ]
        },
        {
          "metadata": {
            "tags": null
          },
          "name": "stderr",
          "output_type": "stream",
          "text": [
            "100%|██████████| 219/219 [00:31<00:00,  7.04it/s]\n"
          ]
        },
        {
          "metadata": {
            "tags": null
          },
          "name": "stdout",
          "output_type": "stream",
          "text": [
            "classifier loss:0.200, classifier acc:0.957\n",
            "Epoch 0/3 of Weight generator training\n"
          ]
        },
        {
          "metadata": {
            "tags": null
          },
          "name": "stderr",
          "output_type": "stream",
          "text": [
            "100%|██████████| 219/219 [00:30<00:00,  7.14it/s]\n"
          ]
        },
        {
          "metadata": {
            "tags": null
          },
          "name": "stdout",
          "output_type": "stream",
          "text": [
            "weight generator loss:-5.084, classifier acc:0.940\n",
            "Epoch 1/3 of Weight generator training\n"
          ]
        },
        {
          "metadata": {
            "tags": null
          },
          "name": "stderr",
          "output_type": "stream",
          "text": [
            "100%|██████████| 219/219 [00:30<00:00,  7.23it/s]\n"
          ]
        },
        {
          "metadata": {
            "tags": null
          },
          "name": "stdout",
          "output_type": "stream",
          "text": [
            "weight generator loss:-5.078, classifier acc:0.938\n",
            "Epoch 2/3 of Weight generator training\n"
          ]
        },
        {
          "metadata": {
            "tags": null
          },
          "name": "stderr",
          "output_type": "stream",
          "text": [
            "100%|██████████| 219/219 [00:30<00:00,  7.14it/s]\n"
          ]
        },
        {
          "metadata": {
            "tags": null
          },
          "name": "stdout",
          "output_type": "stream",
          "text": [
            "weight generator loss:-5.115, classifier acc:0.938\n",
            "evaluating train\n"
          ]
        },
        {
          "metadata": {
            "tags": null
          },
          "name": "stderr",
          "output_type": "stream",
          "text": [
            "100%|██████████| 219/219 [00:27<00:00,  8.10it/s]\n"
          ]
        },
        {
          "metadata": {
            "tags": null
          },
          "name": "stdout",
          "output_type": "stream",
          "text": [
            "evaluating validation\n"
          ]
        },
        {
          "metadata": {
            "tags": null
          },
          "name": "stderr",
          "output_type": "stream",
          "text": [
            "100%|██████████| 94/94 [00:11<00:00,  8.14it/s]\n"
          ]
        },
        {
          "metadata": {
            "tags": null
          },
          "name": "stdout",
          "output_type": "stream",
          "text": [
            "evaluating test\n"
          ]
        },
        {
          "metadata": {
            "tags": null
          },
          "name": "stderr",
          "output_type": "stream",
          "text": [
            "100%|██████████| 10/10 [00:00<00:00, 66.30it/s]\n"
          ]
        },
        {
          "metadata": {
            "tags": null
          },
          "name": "stdout",
          "output_type": "stream",
          "text": [
            "Major Results for Epoch12/20\n",
            "Train loss:0.062, Train acc:0.974, Train f1_score:0.956\n",
            "Validation loss:0.690, Validation acc: 0.856, Validation f1_score:0.771\n",
            "Test loss:0.698, Test acc: 0.814, Test f1_score:0.805\n",
            "*********************************************\n",
            "*********************************************\n",
            "*********************************************\n",
            "Epoch 0/3 of classifier training\n"
          ]
        },
        {
          "metadata": {
            "tags": null
          },
          "name": "stderr",
          "output_type": "stream",
          "text": [
            "100%|██████████| 219/219 [00:30<00:00,  7.29it/s]\n"
          ]
        },
        {
          "metadata": {
            "tags": null
          },
          "name": "stdout",
          "output_type": "stream",
          "text": [
            "classifier loss:0.232, classifier acc:0.958\n",
            "Epoch 1/3 of classifier training\n"
          ]
        },
        {
          "metadata": {
            "tags": null
          },
          "name": "stderr",
          "output_type": "stream",
          "text": [
            "100%|██████████| 219/219 [00:31<00:00,  6.98it/s]\n"
          ]
        },
        {
          "metadata": {
            "tags": null
          },
          "name": "stdout",
          "output_type": "stream",
          "text": [
            "classifier loss:0.208, classifier acc:0.956\n",
            "Epoch 2/3 of classifier training\n"
          ]
        },
        {
          "metadata": {
            "tags": null
          },
          "name": "stderr",
          "output_type": "stream",
          "text": [
            "100%|██████████| 219/219 [00:30<00:00,  7.18it/s]\n"
          ]
        },
        {
          "metadata": {
            "tags": null
          },
          "name": "stdout",
          "output_type": "stream",
          "text": [
            "classifier loss:0.184, classifier acc:0.963\n",
            "Epoch 0/3 of Weight generator training\n"
          ]
        },
        {
          "metadata": {
            "tags": null
          },
          "name": "stderr",
          "output_type": "stream",
          "text": [
            "100%|██████████| 219/219 [00:31<00:00,  6.96it/s]\n"
          ]
        },
        {
          "metadata": {
            "tags": null
          },
          "name": "stdout",
          "output_type": "stream",
          "text": [
            "weight generator loss:-5.023, classifier acc:0.968\n",
            "Epoch 1/3 of Weight generator training\n"
          ]
        },
        {
          "metadata": {
            "tags": null
          },
          "name": "stderr",
          "output_type": "stream",
          "text": [
            "100%|██████████| 219/219 [00:30<00:00,  7.21it/s]\n"
          ]
        },
        {
          "metadata": {
            "tags": null
          },
          "name": "stdout",
          "output_type": "stream",
          "text": [
            "weight generator loss:-5.013, classifier acc:0.967\n",
            "Epoch 2/3 of Weight generator training\n"
          ]
        },
        {
          "metadata": {
            "tags": null
          },
          "name": "stderr",
          "output_type": "stream",
          "text": [
            "100%|██████████| 219/219 [00:30<00:00,  7.14it/s]\n"
          ]
        },
        {
          "metadata": {
            "tags": null
          },
          "name": "stdout",
          "output_type": "stream",
          "text": [
            "weight generator loss:-5.041, classifier acc:0.969\n",
            "evaluating train\n"
          ]
        },
        {
          "metadata": {
            "tags": null
          },
          "name": "stderr",
          "output_type": "stream",
          "text": [
            "100%|██████████| 219/219 [00:26<00:00,  8.15it/s]\n"
          ]
        },
        {
          "metadata": {
            "tags": null
          },
          "name": "stdout",
          "output_type": "stream",
          "text": [
            "evaluating validation\n"
          ]
        },
        {
          "metadata": {
            "tags": null
          },
          "name": "stderr",
          "output_type": "stream",
          "text": [
            "100%|██████████| 94/94 [00:11<00:00,  8.30it/s]\n"
          ]
        },
        {
          "metadata": {
            "tags": null
          },
          "name": "stdout",
          "output_type": "stream",
          "text": [
            "evaluating test\n"
          ]
        },
        {
          "metadata": {
            "tags": null
          },
          "name": "stderr",
          "output_type": "stream",
          "text": [
            "100%|██████████| 10/10 [00:00<00:00, 74.34it/s]\n"
          ]
        },
        {
          "metadata": {
            "tags": null
          },
          "name": "stdout",
          "output_type": "stream",
          "text": [
            "Major Results for Epoch13/20\n",
            "Train loss:0.017, Train acc:0.993, Train f1_score:0.988\n",
            "Validation loss:0.649, Validation acc: 0.883, Validation f1_score:0.786\n",
            "Test loss:0.685, Test acc: 0.803, Test f1_score:0.788\n",
            "*********************************************\n",
            "*********************************************\n",
            "*********************************************\n",
            "Epoch 0/3 of classifier training\n"
          ]
        },
        {
          "metadata": {
            "tags": null
          },
          "name": "stderr",
          "output_type": "stream",
          "text": [
            "100%|██████████| 219/219 [00:31<00:00,  7.05it/s]\n"
          ]
        },
        {
          "metadata": {
            "tags": null
          },
          "name": "stdout",
          "output_type": "stream",
          "text": [
            "classifier loss:0.272, classifier acc:0.953\n",
            "Epoch 1/3 of classifier training\n"
          ]
        },
        {
          "metadata": {
            "tags": null
          },
          "name": "stderr",
          "output_type": "stream",
          "text": [
            "100%|██████████| 219/219 [00:30<00:00,  7.17it/s]\n"
          ]
        },
        {
          "metadata": {
            "tags": null
          },
          "name": "stdout",
          "output_type": "stream",
          "text": [
            "classifier loss:0.217, classifier acc:0.960\n",
            "Epoch 2/3 of classifier training\n"
          ]
        },
        {
          "metadata": {
            "tags": null
          },
          "name": "stderr",
          "output_type": "stream",
          "text": [
            "100%|██████████| 219/219 [00:30<00:00,  7.11it/s]\n"
          ]
        },
        {
          "metadata": {
            "tags": null
          },
          "name": "stdout",
          "output_type": "stream",
          "text": [
            "classifier loss:0.187, classifier acc:0.961\n",
            "Epoch 0/3 of Weight generator training\n"
          ]
        },
        {
          "metadata": {
            "tags": null
          },
          "name": "stderr",
          "output_type": "stream",
          "text": [
            "100%|██████████| 219/219 [00:29<00:00,  7.35it/s]\n"
          ]
        },
        {
          "metadata": {
            "tags": null
          },
          "name": "stdout",
          "output_type": "stream",
          "text": [
            "weight generator loss:-5.031, classifier acc:0.966\n",
            "Epoch 1/3 of Weight generator training\n"
          ]
        },
        {
          "metadata": {
            "tags": null
          },
          "name": "stderr",
          "output_type": "stream",
          "text": [
            "100%|██████████| 219/219 [00:30<00:00,  7.28it/s]\n"
          ]
        },
        {
          "metadata": {
            "tags": null
          },
          "name": "stdout",
          "output_type": "stream",
          "text": [
            "weight generator loss:-5.021, classifier acc:0.971\n",
            "Epoch 2/3 of Weight generator training\n"
          ]
        },
        {
          "metadata": {
            "tags": null
          },
          "name": "stderr",
          "output_type": "stream",
          "text": [
            "100%|██████████| 219/219 [00:30<00:00,  7.11it/s]\n"
          ]
        },
        {
          "metadata": {
            "tags": null
          },
          "name": "stdout",
          "output_type": "stream",
          "text": [
            "weight generator loss:-5.006, classifier acc:0.966\n",
            "evaluating train\n"
          ]
        },
        {
          "metadata": {
            "tags": null
          },
          "name": "stderr",
          "output_type": "stream",
          "text": [
            "100%|██████████| 219/219 [00:26<00:00,  8.34it/s]\n"
          ]
        },
        {
          "metadata": {
            "tags": null
          },
          "name": "stdout",
          "output_type": "stream",
          "text": [
            "evaluating validation\n"
          ]
        },
        {
          "metadata": {
            "tags": null
          },
          "name": "stderr",
          "output_type": "stream",
          "text": [
            "100%|██████████| 94/94 [00:11<00:00,  8.17it/s]\n"
          ]
        },
        {
          "metadata": {
            "tags": null
          },
          "name": "stdout",
          "output_type": "stream",
          "text": [
            "evaluating test\n"
          ]
        },
        {
          "metadata": {
            "tags": null
          },
          "name": "stderr",
          "output_type": "stream",
          "text": [
            "100%|██████████| 10/10 [00:00<00:00, 73.48it/s]\n"
          ]
        },
        {
          "metadata": {
            "tags": null
          },
          "name": "stdout",
          "output_type": "stream",
          "text": [
            "Major Results for Epoch14/20\n",
            "Train loss:0.014, Train acc:0.994, Train f1_score:0.990\n",
            "Validation loss:0.648, Validation acc: 0.883, Validation f1_score:0.784\n",
            "Test loss:0.904, Test acc: 0.812, Test f1_score:0.796\n",
            "*********************************************\n",
            "*********************************************\n",
            "*********************************************\n",
            "Epoch 0/3 of classifier training\n"
          ]
        },
        {
          "metadata": {
            "tags": null
          },
          "name": "stderr",
          "output_type": "stream",
          "text": [
            "100%|██████████| 219/219 [00:30<00:00,  7.24it/s]\n"
          ]
        },
        {
          "metadata": {
            "tags": null
          },
          "name": "stdout",
          "output_type": "stream",
          "text": [
            "classifier loss:0.172, classifier acc:0.965\n",
            "Epoch 1/3 of classifier training\n"
          ]
        },
        {
          "metadata": {
            "tags": null
          },
          "name": "stderr",
          "output_type": "stream",
          "text": [
            "100%|██████████| 219/219 [00:30<00:00,  7.18it/s]\n"
          ]
        },
        {
          "metadata": {
            "tags": null
          },
          "name": "stdout",
          "output_type": "stream",
          "text": [
            "classifier loss:0.171, classifier acc:0.965\n",
            "Epoch 2/3 of classifier training\n"
          ]
        },
        {
          "metadata": {
            "tags": null
          },
          "name": "stderr",
          "output_type": "stream",
          "text": [
            "100%|██████████| 219/219 [00:30<00:00,  7.22it/s]\n"
          ]
        },
        {
          "metadata": {
            "tags": null
          },
          "name": "stdout",
          "output_type": "stream",
          "text": [
            "classifier loss:0.141, classifier acc:0.974\n",
            "Epoch 0/3 of Weight generator training\n"
          ]
        },
        {
          "metadata": {
            "tags": null
          },
          "name": "stderr",
          "output_type": "stream",
          "text": [
            "100%|██████████| 219/219 [00:30<00:00,  7.28it/s]\n"
          ]
        },
        {
          "metadata": {
            "tags": null
          },
          "name": "stdout",
          "output_type": "stream",
          "text": [
            "weight generator loss:-5.083, classifier acc:0.959\n",
            "Epoch 1/3 of Weight generator training\n"
          ]
        },
        {
          "metadata": {
            "tags": null
          },
          "name": "stderr",
          "output_type": "stream",
          "text": [
            "100%|██████████| 219/219 [00:31<00:00,  7.03it/s]\n"
          ]
        },
        {
          "metadata": {
            "tags": null
          },
          "name": "stdout",
          "output_type": "stream",
          "text": [
            "weight generator loss:-5.139, classifier acc:0.963\n",
            "Epoch 2/3 of Weight generator training\n"
          ]
        },
        {
          "metadata": {
            "tags": null
          },
          "name": "stderr",
          "output_type": "stream",
          "text": [
            "100%|██████████| 219/219 [00:30<00:00,  7.30it/s]\n"
          ]
        },
        {
          "metadata": {
            "tags": null
          },
          "name": "stdout",
          "output_type": "stream",
          "text": [
            "weight generator loss:-5.181, classifier acc:0.964\n",
            "evaluating train\n"
          ]
        },
        {
          "metadata": {
            "tags": null
          },
          "name": "stderr",
          "output_type": "stream",
          "text": [
            "100%|██████████| 219/219 [00:26<00:00,  8.22it/s]\n"
          ]
        },
        {
          "metadata": {
            "tags": null
          },
          "name": "stdout",
          "output_type": "stream",
          "text": [
            "evaluating validation\n"
          ]
        },
        {
          "metadata": {
            "tags": null
          },
          "name": "stderr",
          "output_type": "stream",
          "text": [
            "100%|██████████| 94/94 [00:11<00:00,  8.40it/s]\n"
          ]
        },
        {
          "metadata": {
            "tags": null
          },
          "name": "stdout",
          "output_type": "stream",
          "text": [
            "evaluating test\n"
          ]
        },
        {
          "metadata": {
            "tags": null
          },
          "name": "stderr",
          "output_type": "stream",
          "text": [
            "100%|██████████| 10/10 [00:00<00:00, 73.51it/s]\n"
          ]
        },
        {
          "metadata": {
            "tags": null
          },
          "name": "stdout",
          "output_type": "stream",
          "text": [
            "Major Results for Epoch15/20\n",
            "Train loss:0.015, Train acc:0.993, Train f1_score:0.988\n",
            "Validation loss:0.784, Validation acc: 0.882, Validation f1_score:0.787\n",
            "Test loss:1.021, Test acc: 0.806, Test f1_score:0.792\n",
            "*********************************************\n",
            "*********************************************\n",
            "*********************************************\n",
            "Epoch 0/3 of classifier training\n"
          ]
        },
        {
          "metadata": {
            "tags": null
          },
          "name": "stderr",
          "output_type": "stream",
          "text": [
            "100%|██████████| 219/219 [00:30<00:00,  7.23it/s]\n"
          ]
        },
        {
          "metadata": {
            "tags": null
          },
          "name": "stdout",
          "output_type": "stream",
          "text": [
            "classifier loss:0.200, classifier acc:0.968\n",
            "Epoch 1/3 of classifier training\n"
          ]
        },
        {
          "metadata": {
            "tags": null
          },
          "name": "stderr",
          "output_type": "stream",
          "text": [
            "100%|██████████| 219/219 [00:30<00:00,  7.22it/s]\n"
          ]
        },
        {
          "metadata": {
            "tags": null
          },
          "name": "stdout",
          "output_type": "stream",
          "text": [
            "classifier loss:0.223, classifier acc:0.967\n",
            "Epoch 2/3 of classifier training\n"
          ]
        },
        {
          "metadata": {
            "tags": null
          },
          "name": "stderr",
          "output_type": "stream",
          "text": [
            "100%|██████████| 219/219 [00:30<00:00,  7.29it/s]\n"
          ]
        },
        {
          "metadata": {
            "tags": null
          },
          "name": "stdout",
          "output_type": "stream",
          "text": [
            "classifier loss:0.228, classifier acc:0.967\n",
            "Epoch 0/3 of Weight generator training\n"
          ]
        },
        {
          "metadata": {
            "tags": null
          },
          "name": "stderr",
          "output_type": "stream",
          "text": [
            "100%|██████████| 219/219 [00:31<00:00,  7.06it/s]\n"
          ]
        },
        {
          "metadata": {
            "tags": null
          },
          "name": "stdout",
          "output_type": "stream",
          "text": [
            "weight generator loss:-5.158, classifier acc:0.963\n",
            "Epoch 1/3 of Weight generator training\n"
          ]
        },
        {
          "metadata": {
            "tags": null
          },
          "name": "stderr",
          "output_type": "stream",
          "text": [
            "100%|██████████| 219/219 [00:29<00:00,  7.31it/s]\n"
          ]
        },
        {
          "metadata": {
            "tags": null
          },
          "name": "stdout",
          "output_type": "stream",
          "text": [
            "weight generator loss:-5.203, classifier acc:0.962\n",
            "Epoch 2/3 of Weight generator training\n"
          ]
        },
        {
          "metadata": {
            "tags": null
          },
          "name": "stderr",
          "output_type": "stream",
          "text": [
            "100%|██████████| 219/219 [00:30<00:00,  7.26it/s]\n"
          ]
        },
        {
          "metadata": {
            "tags": null
          },
          "name": "stdout",
          "output_type": "stream",
          "text": [
            "weight generator loss:-5.165, classifier acc:0.962\n",
            "evaluating train\n"
          ]
        },
        {
          "metadata": {
            "tags": null
          },
          "name": "stderr",
          "output_type": "stream",
          "text": [
            "100%|██████████| 219/219 [00:26<00:00,  8.18it/s]\n"
          ]
        },
        {
          "metadata": {
            "tags": null
          },
          "name": "stdout",
          "output_type": "stream",
          "text": [
            "evaluating validation\n"
          ]
        },
        {
          "metadata": {
            "tags": null
          },
          "name": "stderr",
          "output_type": "stream",
          "text": [
            "100%|██████████| 94/94 [00:11<00:00,  8.51it/s]\n"
          ]
        },
        {
          "metadata": {
            "tags": null
          },
          "name": "stdout",
          "output_type": "stream",
          "text": [
            "evaluating test\n"
          ]
        },
        {
          "metadata": {
            "tags": null
          },
          "name": "stderr",
          "output_type": "stream",
          "text": [
            "100%|██████████| 10/10 [00:00<00:00, 68.62it/s]\n"
          ]
        },
        {
          "metadata": {
            "tags": null
          },
          "name": "stdout",
          "output_type": "stream",
          "text": [
            "Major Results for Epoch16/20\n",
            "Train loss:0.013, Train acc:0.995, Train f1_score:0.991\n",
            "Validation loss:0.714, Validation acc: 0.883, Validation f1_score:0.789\n",
            "Test loss:1.013, Test acc: 0.789, Test f1_score:0.773\n",
            "*********************************************\n",
            "*********************************************\n",
            "*********************************************\n",
            "Epoch 0/3 of classifier training\n"
          ]
        },
        {
          "metadata": {
            "tags": null
          },
          "name": "stderr",
          "output_type": "stream",
          "text": [
            "100%|██████████| 219/219 [00:30<00:00,  7.17it/s]\n"
          ]
        },
        {
          "metadata": {
            "tags": null
          },
          "name": "stdout",
          "output_type": "stream",
          "text": [
            "classifier loss:0.324, classifier acc:0.965\n",
            "Epoch 1/3 of classifier training\n"
          ]
        },
        {
          "metadata": {
            "tags": null
          },
          "name": "stderr",
          "output_type": "stream",
          "text": [
            "100%|██████████| 219/219 [00:30<00:00,  7.24it/s]\n"
          ]
        },
        {
          "metadata": {
            "tags": null
          },
          "name": "stdout",
          "output_type": "stream",
          "text": [
            "classifier loss:0.268, classifier acc:0.963\n",
            "Epoch 2/3 of classifier training\n"
          ]
        },
        {
          "metadata": {
            "tags": null
          },
          "name": "stderr",
          "output_type": "stream",
          "text": [
            "100%|██████████| 219/219 [00:30<00:00,  7.11it/s]\n"
          ]
        },
        {
          "metadata": {
            "tags": null
          },
          "name": "stdout",
          "output_type": "stream",
          "text": [
            "classifier loss:0.287, classifier acc:0.967\n",
            "Epoch 0/3 of Weight generator training\n"
          ]
        },
        {
          "metadata": {
            "tags": null
          },
          "name": "stderr",
          "output_type": "stream",
          "text": [
            "100%|██████████| 219/219 [00:30<00:00,  7.26it/s]\n"
          ]
        },
        {
          "metadata": {
            "tags": null
          },
          "name": "stdout",
          "output_type": "stream",
          "text": [
            "weight generator loss:-5.115, classifier acc:0.956\n",
            "Epoch 1/3 of Weight generator training\n"
          ]
        },
        {
          "metadata": {
            "tags": null
          },
          "name": "stderr",
          "output_type": "stream",
          "text": [
            "100%|██████████| 219/219 [00:30<00:00,  7.27it/s]\n"
          ]
        },
        {
          "metadata": {
            "tags": null
          },
          "name": "stdout",
          "output_type": "stream",
          "text": [
            "weight generator loss:-5.133, classifier acc:0.954\n",
            "Epoch 2/3 of Weight generator training\n"
          ]
        },
        {
          "metadata": {
            "tags": null
          },
          "name": "stderr",
          "output_type": "stream",
          "text": [
            "100%|██████████| 219/219 [00:30<00:00,  7.10it/s]\n"
          ]
        },
        {
          "metadata": {
            "tags": null
          },
          "name": "stdout",
          "output_type": "stream",
          "text": [
            "weight generator loss:-5.087, classifier acc:0.953\n",
            "evaluating train\n"
          ]
        },
        {
          "metadata": {
            "tags": null
          },
          "name": "stderr",
          "output_type": "stream",
          "text": [
            "100%|██████████| 219/219 [00:26<00:00,  8.33it/s]\n"
          ]
        },
        {
          "metadata": {
            "tags": null
          },
          "name": "stdout",
          "output_type": "stream",
          "text": [
            "evaluating validation\n"
          ]
        },
        {
          "metadata": {
            "tags": null
          },
          "name": "stderr",
          "output_type": "stream",
          "text": [
            "100%|██████████| 94/94 [00:11<00:00,  8.05it/s]\n"
          ]
        },
        {
          "metadata": {
            "tags": null
          },
          "name": "stdout",
          "output_type": "stream",
          "text": [
            "evaluating test\n"
          ]
        },
        {
          "metadata": {
            "tags": null
          },
          "name": "stderr",
          "output_type": "stream",
          "text": [
            "100%|██████████| 10/10 [00:00<00:00, 67.71it/s]\n"
          ]
        },
        {
          "metadata": {
            "tags": null
          },
          "name": "stdout",
          "output_type": "stream",
          "text": [
            "Major Results for Epoch17/20\n",
            "Train loss:0.011, Train acc:0.994, Train f1_score:0.989\n",
            "Validation loss:0.669, Validation acc: 0.882, Validation f1_score:0.778\n",
            "Test loss:0.952, Test acc: 0.785, Test f1_score:0.763\n",
            "*********************************************\n",
            "*********************************************\n",
            "*********************************************\n",
            "Epoch 0/3 of classifier training\n"
          ]
        },
        {
          "metadata": {
            "tags": null
          },
          "name": "stderr",
          "output_type": "stream",
          "text": [
            "100%|██████████| 219/219 [00:30<00:00,  7.23it/s]\n"
          ]
        },
        {
          "metadata": {
            "tags": null
          },
          "name": "stdout",
          "output_type": "stream",
          "text": [
            "classifier loss:0.225, classifier acc:0.974\n",
            "Epoch 1/3 of classifier training\n"
          ]
        },
        {
          "metadata": {
            "tags": null
          },
          "name": "stderr",
          "output_type": "stream",
          "text": [
            "100%|██████████| 219/219 [00:30<00:00,  7.18it/s]\n"
          ]
        },
        {
          "metadata": {
            "tags": null
          },
          "name": "stdout",
          "output_type": "stream",
          "text": [
            "classifier loss:0.197, classifier acc:0.977\n",
            "Epoch 2/3 of classifier training\n"
          ]
        },
        {
          "metadata": {
            "tags": null
          },
          "name": "stderr",
          "output_type": "stream",
          "text": [
            "100%|██████████| 219/219 [00:30<00:00,  7.20it/s]\n"
          ]
        },
        {
          "metadata": {
            "tags": null
          },
          "name": "stdout",
          "output_type": "stream",
          "text": [
            "classifier loss:0.244, classifier acc:0.965\n",
            "Epoch 0/3 of Weight generator training\n"
          ]
        },
        {
          "metadata": {
            "tags": null
          },
          "name": "stderr",
          "output_type": "stream",
          "text": [
            "100%|██████████| 219/219 [00:30<00:00,  7.25it/s]\n"
          ]
        },
        {
          "metadata": {
            "tags": null
          },
          "name": "stdout",
          "output_type": "stream",
          "text": [
            "weight generator loss:-5.029, classifier acc:0.976\n",
            "Epoch 1/3 of Weight generator training\n"
          ]
        },
        {
          "metadata": {
            "tags": null
          },
          "name": "stderr",
          "output_type": "stream",
          "text": [
            "100%|██████████| 219/219 [00:30<00:00,  7.14it/s]\n"
          ]
        },
        {
          "metadata": {
            "tags": null
          },
          "name": "stdout",
          "output_type": "stream",
          "text": [
            "weight generator loss:-5.009, classifier acc:0.979\n",
            "Epoch 2/3 of Weight generator training\n"
          ]
        },
        {
          "metadata": {
            "tags": null
          },
          "name": "stderr",
          "output_type": "stream",
          "text": [
            "100%|██████████| 219/219 [00:30<00:00,  7.19it/s]\n"
          ]
        },
        {
          "metadata": {
            "tags": null
          },
          "name": "stdout",
          "output_type": "stream",
          "text": [
            "weight generator loss:-5.072, classifier acc:0.974\n",
            "evaluating train\n"
          ]
        },
        {
          "metadata": {
            "tags": null
          },
          "name": "stderr",
          "output_type": "stream",
          "text": [
            "100%|██████████| 219/219 [00:26<00:00,  8.27it/s]\n"
          ]
        },
        {
          "metadata": {
            "tags": null
          },
          "name": "stdout",
          "output_type": "stream",
          "text": [
            "evaluating validation\n"
          ]
        },
        {
          "metadata": {
            "tags": null
          },
          "name": "stderr",
          "output_type": "stream",
          "text": [
            "100%|██████████| 94/94 [00:11<00:00,  8.29it/s]\n"
          ]
        },
        {
          "metadata": {
            "tags": null
          },
          "name": "stdout",
          "output_type": "stream",
          "text": [
            "evaluating test\n"
          ]
        },
        {
          "metadata": {
            "tags": null
          },
          "name": "stderr",
          "output_type": "stream",
          "text": [
            "100%|██████████| 10/10 [00:00<00:00, 67.70it/s]\n"
          ]
        },
        {
          "metadata": {
            "tags": null
          },
          "name": "stdout",
          "output_type": "stream",
          "text": [
            "Major Results for Epoch18/20\n",
            "Train loss:0.008, Train acc:0.998, Train f1_score:0.996\n",
            "Validation loss:0.685, Validation acc: 0.883, Validation f1_score:0.782\n",
            "Test loss:0.831, Test acc: 0.791, Test f1_score:0.773\n",
            "*********************************************\n",
            "*********************************************\n",
            "*********************************************\n",
            "Epoch 0/3 of classifier training\n"
          ]
        },
        {
          "metadata": {
            "tags": null
          },
          "name": "stderr",
          "output_type": "stream",
          "text": [
            "100%|██████████| 219/219 [00:30<00:00,  7.21it/s]\n"
          ]
        },
        {
          "metadata": {
            "tags": null
          },
          "name": "stdout",
          "output_type": "stream",
          "text": [
            "classifier loss:0.201, classifier acc:0.975\n",
            "Epoch 1/3 of classifier training\n"
          ]
        },
        {
          "metadata": {
            "tags": null
          },
          "name": "stderr",
          "output_type": "stream",
          "text": [
            "100%|██████████| 219/219 [00:30<00:00,  7.20it/s]\n"
          ]
        },
        {
          "metadata": {
            "tags": null
          },
          "name": "stdout",
          "output_type": "stream",
          "text": [
            "classifier loss:0.279, classifier acc:0.970\n",
            "Epoch 2/3 of classifier training\n"
          ]
        },
        {
          "metadata": {
            "tags": null
          },
          "name": "stderr",
          "output_type": "stream",
          "text": [
            "100%|██████████| 219/219 [00:30<00:00,  7.27it/s]\n"
          ]
        },
        {
          "metadata": {
            "tags": null
          },
          "name": "stdout",
          "output_type": "stream",
          "text": [
            "classifier loss:0.170, classifier acc:0.969\n",
            "Epoch 0/3 of Weight generator training\n"
          ]
        },
        {
          "metadata": {
            "tags": null
          },
          "name": "stderr",
          "output_type": "stream",
          "text": [
            "100%|██████████| 219/219 [00:30<00:00,  7.07it/s]\n"
          ]
        },
        {
          "metadata": {
            "tags": null
          },
          "name": "stdout",
          "output_type": "stream",
          "text": [
            "weight generator loss:-5.022, classifier acc:0.977\n",
            "Epoch 1/3 of Weight generator training\n"
          ]
        },
        {
          "metadata": {
            "tags": null
          },
          "name": "stderr",
          "output_type": "stream",
          "text": [
            "100%|██████████| 219/219 [00:29<00:00,  7.31it/s]\n"
          ]
        },
        {
          "metadata": {
            "tags": null
          },
          "name": "stdout",
          "output_type": "stream",
          "text": [
            "weight generator loss:-5.031, classifier acc:0.975\n",
            "Epoch 2/3 of Weight generator training\n"
          ]
        },
        {
          "metadata": {
            "tags": null
          },
          "name": "stderr",
          "output_type": "stream",
          "text": [
            "100%|██████████| 219/219 [00:30<00:00,  7.29it/s]\n"
          ]
        },
        {
          "metadata": {
            "tags": null
          },
          "name": "stdout",
          "output_type": "stream",
          "text": [
            "weight generator loss:-5.035, classifier acc:0.974\n",
            "evaluating train\n"
          ]
        },
        {
          "output_type": "stream",
          "name": "stderr",
          "text": [
            "100%|██████████| 219/219 [00:26<00:00,  8.23it/s]\n"
          ]
        },
        {
          "output_type": "stream",
          "name": "stdout",
          "text": [
            "evaluating validation\n"
          ]
        },
        {
          "output_type": "stream",
          "name": "stderr",
          "text": [
            "100%|██████████| 94/94 [00:11<00:00,  8.22it/s]\n"
          ]
        },
        {
          "output_type": "stream",
          "name": "stdout",
          "text": [
            "evaluating test\n"
          ]
        },
        {
          "output_type": "stream",
          "name": "stderr",
          "text": [
            "100%|██████████| 10/10 [00:00<00:00, 68.03it/s]"
          ]
        },
        {
          "output_type": "stream",
          "name": "stdout",
          "text": [
            "Major Results for Epoch19/20\n",
            "Train loss:0.006, Train acc:0.997, Train f1_score:0.995\n",
            "Validation loss:0.741, Validation acc: 0.885, Validation f1_score:0.783\n",
            "Test loss:0.973, Test acc: 0.799, Test f1_score:0.778\n",
            "*********************************************\n",
            "*********************************************\n",
            "*********************************************\n"
          ]
        },
        {
          "output_type": "stream",
          "name": "stderr",
          "text": [
            "\n"
          ]
        }
      ],
      "source": [
        "epochs = 20\n",
        "for epoch in range(epochs):\n",
        "    train_one_epoch()\n",
        "    train_loss, train_acc, train_f1_score = evaluate_train()\n",
        "    val_loss, val_acc, val_f1_score = evaluate_val()\n",
        "    test_loss, test_acc, test_f1_score = evaluate_test()\n",
        "    print(\"Major Results for Epoch{}/{}\".format(epoch, epochs))\n",
        "    print(\"Train loss:{:.3f}, Train acc:{:.3f}, Train f1_score:{:.3f}\".format(train_loss, train_acc, train_f1_score))\n",
        "    print(\"Validation loss:{:.3f}, Validation acc: {:.3f}, Validation f1_score:{:.3f}\".format(val_loss, val_acc, val_f1_score))\n",
        "    print(\"Test loss:{:.3f}, Test acc: {:.3f}, Test f1_score:{:.3f}\".format(test_loss, test_acc, test_f1_score))\n",
        "    print(\"*********************************************\")\n",
        "    print(\"*********************************************\")\n",
        "    print(\"*********************************************\")"
      ]
    },
    {
      "cell_type": "code",
      "execution_count": 54,
      "metadata": {
        "id": "9XAFKWfaa4xC",
        "colab": {
          "base_uri": "https://localhost:8080/"
        },
        "outputId": "6b3a972a-cc7f-4834-86c1-3dbc553375e0"
      },
      "outputs": [
        {
          "output_type": "stream",
          "name": "stdout",
          "text": [
            "              precision    recall  f1-score   support\n",
            "\n",
            "    Negative       0.71      0.62      0.67        32\n",
            "    Positive       0.93      0.95      0.94       168\n",
            "\n",
            "    accuracy                           0.90       200\n",
            "   macro avg       0.82      0.79      0.80       200\n",
            "weighted avg       0.90      0.90      0.90       200\n",
            "\n"
          ]
        }
      ],
      "source": [
        "complete_loader = DataLoader(val_graphs, batch_size = 200)\n",
        "target_names = ['Negative', 'Positive']\n",
        "for data in complete_loader:\n",
        "  model_classifier.eval()\n",
        "  data, labels = data.to(device), data.y.to(device)\n",
        "  logits, _ = model_classifier(data)\n",
        "  preds = torch.argmax(logits, dim=-1)\n",
        "\n",
        "labels, preds = labels.cpu().numpy(), preds.cpu().numpy()\n",
        "\n",
        "print(classification_report(y_true=labels, y_pred=preds, target_names=target_names))"
      ]
    },
    {
      "cell_type": "code",
      "execution_count": 55,
      "metadata": {
        "id": "s7eVp7yattp-",
        "colab": {
          "base_uri": "https://localhost:8080/"
        },
        "outputId": "3f66ac32-fbc0-4689-fc30-8db06782f85f"
      },
      "outputs": [
        {
          "output_type": "stream",
          "name": "stdout",
          "text": [
            "              precision    recall  f1-score   support\n",
            "\n",
            "    Negative       0.67      0.76      0.71       100\n",
            "    Positive       0.87      0.81      0.84       200\n",
            "\n",
            "    accuracy                           0.80       300\n",
            "   macro avg       0.77      0.79      0.78       300\n",
            "weighted avg       0.81      0.80      0.80       300\n",
            "\n"
          ]
        }
      ],
      "source": [
        "complete_loader = DataLoader(test_graphs, batch_size = len(test_graphs))\n",
        "target_names = ['Negative', 'Positive']\n",
        "for data in complete_loader:\n",
        "  model_classifier.eval()\n",
        "  data, labels = data.to(device), data.y.to(device)\n",
        "  logits, _ = model_classifier(data)\n",
        "  preds = torch.argmax(logits, dim=-1)\n",
        "\n",
        "labels, preds = labels.cpu().numpy(), preds.cpu().numpy()\n",
        "\n",
        "print(classification_report(y_true=labels, y_pred=preds, target_names=target_names))"
      ]
    }
  ],
  "metadata": {
    "accelerator": "GPU",
    "colab": {
      "provenance": []
    },
    "kernelspec": {
      "display_name": "Python 3",
      "name": "python3"
    },
    "language_info": {
      "name": "python"
    }
  },
  "nbformat": 4,
  "nbformat_minor": 0
}